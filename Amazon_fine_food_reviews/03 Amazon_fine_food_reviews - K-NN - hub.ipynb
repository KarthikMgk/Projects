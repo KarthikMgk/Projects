{
 "cells": [
  {
   "cell_type": "code",
   "execution_count": 3,
   "metadata": {
    "ExecuteTime": {
     "end_time": "2019-02-23T07:28:03.257222Z",
     "start_time": "2019-02-23T07:28:01.899159Z"
    }
   },
   "outputs": [],
   "source": [
    "import numpy as np\n",
    "import pandas as pd\n",
    "import matplotlib.pyplot as plt\n",
    "import seaborn as sns\n",
    "from sklearn.feature_extraction.text import CountVectorizer\n",
    "from sklearn.feature_extraction.text import TfidfVectorizer\n",
    "from sklearn.model_selection import cross_val_score\n",
    "from sklearn.model_selection import train_test_split\n",
    "from sklearn.preprocessing import StandardScaler\n",
    "from sklearn.neighbors import KNeighborsClassifier\n",
    "from sklearn.metrics import accuracy_score\n",
    "from tqdm import tqdm\n",
    "from nltk.corpus import stopwords\n",
    "import sqlite3\n",
    "import os\n",
    "import re\n",
    "import nltk"
   ]
  },
  {
   "cell_type": "code",
   "execution_count": 4,
   "metadata": {
    "ExecuteTime": {
     "end_time": "2019-02-23T07:28:03.262962Z",
     "start_time": "2019-02-23T07:28:03.259058Z"
    }
   },
   "outputs": [],
   "source": [
    "from sklearn.metrics import fbeta_score"
   ]
  },
  {
   "cell_type": "code",
   "execution_count": 5,
   "metadata": {
    "ExecuteTime": {
     "end_time": "2019-02-23T07:28:03.435698Z",
     "start_time": "2019-02-23T07:28:03.266866Z"
    }
   },
   "outputs": [],
   "source": [
    "con =sqlite3.connect('database.sqlite')"
   ]
  },
  {
   "cell_type": "code",
   "execution_count": 6,
   "metadata": {
    "ExecuteTime": {
     "end_time": "2019-02-23T07:28:23.671343Z",
     "start_time": "2019-02-23T07:28:03.440561Z"
    }
   },
   "outputs": [],
   "source": [
    "dataframe = pd.read_sql_query('''\n",
    "SELECT * FROM Reviews\n",
    "WHERE SCORE != 3\n",
    "''', con)"
   ]
  },
  {
   "cell_type": "code",
   "execution_count": 7,
   "metadata": {
    "ExecuteTime": {
     "end_time": "2019-02-23T07:28:23.695743Z",
     "start_time": "2019-02-23T07:28:23.673297Z"
    }
   },
   "outputs": [
    {
     "data": {
      "text/html": [
       "<div>\n",
       "<style scoped>\n",
       "    .dataframe tbody tr th:only-of-type {\n",
       "        vertical-align: middle;\n",
       "    }\n",
       "\n",
       "    .dataframe tbody tr th {\n",
       "        vertical-align: top;\n",
       "    }\n",
       "\n",
       "    .dataframe thead th {\n",
       "        text-align: right;\n",
       "    }\n",
       "</style>\n",
       "<table border=\"1\" class=\"dataframe\">\n",
       "  <thead>\n",
       "    <tr style=\"text-align: right;\">\n",
       "      <th></th>\n",
       "      <th>Id</th>\n",
       "      <th>ProductId</th>\n",
       "      <th>UserId</th>\n",
       "      <th>ProfileName</th>\n",
       "      <th>HelpfulnessNumerator</th>\n",
       "      <th>HelpfulnessDenominator</th>\n",
       "      <th>Score</th>\n",
       "      <th>Time</th>\n",
       "      <th>Summary</th>\n",
       "      <th>Text</th>\n",
       "    </tr>\n",
       "  </thead>\n",
       "  <tbody>\n",
       "    <tr>\n",
       "      <th>0</th>\n",
       "      <td>1</td>\n",
       "      <td>B001E4KFG0</td>\n",
       "      <td>A3SGXH7AUHU8GW</td>\n",
       "      <td>delmartian</td>\n",
       "      <td>1</td>\n",
       "      <td>1</td>\n",
       "      <td>5</td>\n",
       "      <td>1303862400</td>\n",
       "      <td>Good Quality Dog Food</td>\n",
       "      <td>I have bought several of the Vitality canned d...</td>\n",
       "    </tr>\n",
       "    <tr>\n",
       "      <th>1</th>\n",
       "      <td>2</td>\n",
       "      <td>B00813GRG4</td>\n",
       "      <td>A1D87F6ZCVE5NK</td>\n",
       "      <td>dll pa</td>\n",
       "      <td>0</td>\n",
       "      <td>0</td>\n",
       "      <td>1</td>\n",
       "      <td>1346976000</td>\n",
       "      <td>Not as Advertised</td>\n",
       "      <td>Product arrived labeled as Jumbo Salted Peanut...</td>\n",
       "    </tr>\n",
       "    <tr>\n",
       "      <th>2</th>\n",
       "      <td>3</td>\n",
       "      <td>B000LQOCH0</td>\n",
       "      <td>ABXLMWJIXXAIN</td>\n",
       "      <td>Natalia Corres \"Natalia Corres\"</td>\n",
       "      <td>1</td>\n",
       "      <td>1</td>\n",
       "      <td>4</td>\n",
       "      <td>1219017600</td>\n",
       "      <td>\"Delight\" says it all</td>\n",
       "      <td>This is a confection that has been around a fe...</td>\n",
       "    </tr>\n",
       "    <tr>\n",
       "      <th>3</th>\n",
       "      <td>4</td>\n",
       "      <td>B000UA0QIQ</td>\n",
       "      <td>A395BORC6FGVXV</td>\n",
       "      <td>Karl</td>\n",
       "      <td>3</td>\n",
       "      <td>3</td>\n",
       "      <td>2</td>\n",
       "      <td>1307923200</td>\n",
       "      <td>Cough Medicine</td>\n",
       "      <td>If you are looking for the secret ingredient i...</td>\n",
       "    </tr>\n",
       "    <tr>\n",
       "      <th>4</th>\n",
       "      <td>5</td>\n",
       "      <td>B006K2ZZ7K</td>\n",
       "      <td>A1UQRSCLF8GW1T</td>\n",
       "      <td>Michael D. Bigham \"M. Wassir\"</td>\n",
       "      <td>0</td>\n",
       "      <td>0</td>\n",
       "      <td>5</td>\n",
       "      <td>1350777600</td>\n",
       "      <td>Great taffy</td>\n",
       "      <td>Great taffy at a great price.  There was a wid...</td>\n",
       "    </tr>\n",
       "  </tbody>\n",
       "</table>\n",
       "</div>"
      ],
      "text/plain": [
       "   Id   ProductId          UserId                      ProfileName  \\\n",
       "0   1  B001E4KFG0  A3SGXH7AUHU8GW                       delmartian   \n",
       "1   2  B00813GRG4  A1D87F6ZCVE5NK                           dll pa   \n",
       "2   3  B000LQOCH0   ABXLMWJIXXAIN  Natalia Corres \"Natalia Corres\"   \n",
       "3   4  B000UA0QIQ  A395BORC6FGVXV                             Karl   \n",
       "4   5  B006K2ZZ7K  A1UQRSCLF8GW1T    Michael D. Bigham \"M. Wassir\"   \n",
       "\n",
       "   HelpfulnessNumerator  HelpfulnessDenominator  Score        Time  \\\n",
       "0                     1                       1      5  1303862400   \n",
       "1                     0                       0      1  1346976000   \n",
       "2                     1                       1      4  1219017600   \n",
       "3                     3                       3      2  1307923200   \n",
       "4                     0                       0      5  1350777600   \n",
       "\n",
       "                 Summary                                               Text  \n",
       "0  Good Quality Dog Food  I have bought several of the Vitality canned d...  \n",
       "1      Not as Advertised  Product arrived labeled as Jumbo Salted Peanut...  \n",
       "2  \"Delight\" says it all  This is a confection that has been around a fe...  \n",
       "3         Cough Medicine  If you are looking for the secret ingredient i...  \n",
       "4            Great taffy  Great taffy at a great price.  There was a wid...  "
      ]
     },
     "execution_count": 7,
     "metadata": {},
     "output_type": "execute_result"
    }
   ],
   "source": [
    "dataframe.head()"
   ]
  },
  {
   "cell_type": "code",
   "execution_count": 8,
   "metadata": {
    "ExecuteTime": {
     "end_time": "2019-02-23T07:28:24.987400Z",
     "start_time": "2019-02-23T07:28:23.697695Z"
    }
   },
   "outputs": [],
   "source": [
    "#We do sorting to faciliate data cleaning (removing duplicates)\n",
    "sorted_df = dataframe.sort_values(by='ProductId', ascending=True)"
   ]
  },
  {
   "cell_type": "code",
   "execution_count": 9,
   "metadata": {
    "ExecuteTime": {
     "end_time": "2019-02-23T07:28:26.238560Z",
     "start_time": "2019-02-23T07:28:24.988373Z"
    }
   },
   "outputs": [],
   "source": [
    "sorted_df.drop_duplicates(subset={'UserId','ProfileName', 'Time', 'Text'}, keep='first', inplace=True)"
   ]
  },
  {
   "cell_type": "markdown",
   "metadata": {},
   "source": [
    "### Data Cleaning"
   ]
  },
  {
   "cell_type": "code",
   "execution_count": 10,
   "metadata": {
    "ExecuteTime": {
     "end_time": "2019-02-23T07:28:28.197336Z",
     "start_time": "2019-02-23T07:28:26.240513Z"
    }
   },
   "outputs": [
    {
     "name": "stdout",
     "output_type": "stream",
     "text": [
      "[nltk_data] Downloading package stopwords to\n",
      "[nltk_data]     C:\\Users\\karth\\AppData\\Roaming\\nltk_data...\n",
      "[nltk_data]   Package stopwords is already up-to-date!\n"
     ]
    },
    {
     "data": {
      "text/plain": [
       "True"
      ]
     },
     "execution_count": 10,
     "metadata": {},
     "output_type": "execute_result"
    }
   ],
   "source": [
    "nltk.download('stopwords')"
   ]
  },
  {
   "cell_type": "code",
   "execution_count": 11,
   "metadata": {
    "ExecuteTime": {
     "end_time": "2019-02-23T07:28:28.252967Z",
     "start_time": "2019-02-23T07:28:28.207097Z"
    }
   },
   "outputs": [],
   "source": [
    "stop = set(stopwords.words('english'))\n",
    "stemmer = nltk.stem.SnowballStemmer('english')"
   ]
  },
  {
   "cell_type": "code",
   "execution_count": 12,
   "metadata": {
    "ExecuteTime": {
     "end_time": "2019-02-23T07:28:28.390668Z",
     "start_time": "2019-02-23T07:28:28.254919Z"
    }
   },
   "outputs": [],
   "source": [
    "def cleanhtml(text):\n",
    "    cleaninghtml = re.compile('<*?>')\n",
    "    cleanedhtml = re.sub(cleaninghtml, ' ', text)\n",
    "    return cleanedhtml\n",
    "\n",
    "def cleanpunc(text):\n",
    "    cleaningpunc = re.sub(r'[!|?|&|@|\\'|\"|#]', r' ', text)\n",
    "    cleanedpunc = re.sub(r'[.|,|)|(|\\|/]', r' ', cleaningpunc)\n",
    "#     cleanedpunc = re.sub(r'[.|,|;|(|)|/|\\]', r' ', cleaningpunc)\n",
    "    return cleanedpunc"
   ]
  },
  {
   "cell_type": "code",
   "execution_count": 13,
   "metadata": {
    "ExecuteTime": {
     "end_time": "2019-02-23T07:28:28.483671Z",
     "start_time": "2019-02-23T07:28:28.397504Z"
    }
   },
   "outputs": [],
   "source": [
    "if not os.path.isfile('final.sqlite'):\n",
    "    final_sent=[]\n",
    "    for i, sent in enumerate(tqdm(sorted_df['Text'].values)):\n",
    "        filtered_sent = []\n",
    "        cleaned = cleanhtml(sent)\n",
    "        for word in cleaned.split():\n",
    "            for clean_words in (cleanpunc(word).split()):\n",
    "                if (clean_words.isalpha()) & (len(clean_words) > 2):\n",
    "                    if clean_words.lower() not in stop:\n",
    "                        s = (stemmer.stem(clean_words.lower())).encode('utf-8')\n",
    "                        filtered_sent.append(s)\n",
    "                    \n",
    "        string = b\" \".join(filtered_sent)\n",
    "        final_sent.append(string)\n",
    "                    \n",
    "    sorted_df['CleanedText'] = final_sent\n",
    "    sorted_df['CleanedText']=sorted_df['CleanedText'].str.decode(\"utf-8\")\n",
    "                    \n",
    "    conn = sqlite3.connect('final.sqlite')\n",
    "    c=conn.cursor()\n",
    "    conn.text_factory = str\n",
    "    sorted_df.to_sql('Reviews', conn,  schema=None, if_exists='replace', \\\n",
    "                 index=True, index_label=None, chunksize=None, dtype=None)\n",
    "    conn.close()  "
   ]
  },
  {
   "cell_type": "code",
   "execution_count": 14,
   "metadata": {
    "ExecuteTime": {
     "end_time": "2019-02-23T07:28:28.563401Z",
     "start_time": "2019-02-23T07:28:28.488088Z"
    }
   },
   "outputs": [],
   "source": [
    "# Now lets load the final.sqlite to get the CleanedText"
   ]
  },
  {
   "cell_type": "code",
   "execution_count": 15,
   "metadata": {
    "ExecuteTime": {
     "end_time": "2019-02-23T07:28:28.719111Z",
     "start_time": "2019-02-23T07:28:28.565352Z"
    }
   },
   "outputs": [],
   "source": [
    "conn = sqlite3.connect('final.sqlite')"
   ]
  },
  {
   "cell_type": "code",
   "execution_count": 16,
   "metadata": {
    "ExecuteTime": {
     "end_time": "2019-02-23T07:28:39.757744Z",
     "start_time": "2019-02-23T07:28:28.722011Z"
    }
   },
   "outputs": [],
   "source": [
    "final_df = pd.read_sql_query('''\n",
    "SELECT * FROM Reviews\n",
    "''', conn)"
   ]
  },
  {
   "cell_type": "code",
   "execution_count": 17,
   "metadata": {
    "ExecuteTime": {
     "end_time": "2019-02-23T07:28:40.008579Z",
     "start_time": "2019-02-23T07:28:39.758622Z"
    }
   },
   "outputs": [],
   "source": [
    "time_sorted_df = final_df.sort_values('Time')"
   ]
  },
  {
   "cell_type": "code",
   "execution_count": 18,
   "metadata": {
    "ExecuteTime": {
     "end_time": "2019-02-23T07:28:40.304575Z",
     "start_time": "2019-02-23T07:28:40.009561Z"
    }
   },
   "outputs": [
    {
     "data": {
      "text/plain": [
       "(364173, 12)"
      ]
     },
     "execution_count": 18,
     "metadata": {},
     "output_type": "execute_result"
    }
   ],
   "source": [
    "time_sorted_df.shape"
   ]
  },
  {
   "cell_type": "code",
   "execution_count": 19,
   "metadata": {
    "ExecuteTime": {
     "end_time": "2019-02-23T07:28:40.796381Z",
     "start_time": "2019-02-23T07:28:40.308479Z"
    }
   },
   "outputs": [],
   "source": [
    "new_time_sorted_df = time_sorted_df.iloc[0:100000, :]"
   ]
  },
  {
   "cell_type": "code",
   "execution_count": 20,
   "metadata": {
    "ExecuteTime": {
     "end_time": "2019-02-23T07:28:41.222079Z",
     "start_time": "2019-02-23T07:28:40.803101Z"
    }
   },
   "outputs": [
    {
     "data": {
      "text/html": [
       "<div>\n",
       "<style scoped>\n",
       "    .dataframe tbody tr th:only-of-type {\n",
       "        vertical-align: middle;\n",
       "    }\n",
       "\n",
       "    .dataframe tbody tr th {\n",
       "        vertical-align: top;\n",
       "    }\n",
       "\n",
       "    .dataframe thead th {\n",
       "        text-align: right;\n",
       "    }\n",
       "</style>\n",
       "<table border=\"1\" class=\"dataframe\">\n",
       "  <thead>\n",
       "    <tr style=\"text-align: right;\">\n",
       "      <th></th>\n",
       "      <th>index</th>\n",
       "      <th>Id</th>\n",
       "      <th>ProductId</th>\n",
       "      <th>UserId</th>\n",
       "      <th>ProfileName</th>\n",
       "      <th>HelpfulnessNumerator</th>\n",
       "      <th>HelpfulnessDenominator</th>\n",
       "      <th>Score</th>\n",
       "      <th>Time</th>\n",
       "      <th>Summary</th>\n",
       "      <th>Text</th>\n",
       "      <th>CleanedText</th>\n",
       "    </tr>\n",
       "  </thead>\n",
       "  <tbody>\n",
       "    <tr>\n",
       "      <th>0</th>\n",
       "      <td>138706</td>\n",
       "      <td>150524</td>\n",
       "      <td>0006641040</td>\n",
       "      <td>ACITT7DI6IDDL</td>\n",
       "      <td>shari zychinski</td>\n",
       "      <td>0</td>\n",
       "      <td>0</td>\n",
       "      <td>5</td>\n",
       "      <td>939340800</td>\n",
       "      <td>EVERY book is educational</td>\n",
       "      <td>this witty little book makes my son laugh at l...</td>\n",
       "      <td>witti littl book make son laugh loud recit car...</td>\n",
       "    </tr>\n",
       "    <tr>\n",
       "      <th>30</th>\n",
       "      <td>138683</td>\n",
       "      <td>150501</td>\n",
       "      <td>0006641040</td>\n",
       "      <td>AJ46FKXOVC7NR</td>\n",
       "      <td>Nicholas A Mesiano</td>\n",
       "      <td>2</td>\n",
       "      <td>2</td>\n",
       "      <td>5</td>\n",
       "      <td>940809600</td>\n",
       "      <td>This whole series is great way to spend time w...</td>\n",
       "      <td>I can remember seeing the show when it aired o...</td>\n",
       "      <td>rememb see show air televis year ago child sis...</td>\n",
       "    </tr>\n",
       "    <tr>\n",
       "      <th>424</th>\n",
       "      <td>417839</td>\n",
       "      <td>451856</td>\n",
       "      <td>B00004CXX9</td>\n",
       "      <td>AIUWLEQ1ADEG5</td>\n",
       "      <td>Elizabeth Medina</td>\n",
       "      <td>0</td>\n",
       "      <td>0</td>\n",
       "      <td>5</td>\n",
       "      <td>944092800</td>\n",
       "      <td>Entertainingl Funny!</td>\n",
       "      <td>Beetlejuice is a well written movie ..... ever...</td>\n",
       "      <td>beetlejuic well written movi everyth excel act...</td>\n",
       "    </tr>\n",
       "    <tr>\n",
       "      <th>330</th>\n",
       "      <td>346055</td>\n",
       "      <td>374359</td>\n",
       "      <td>B00004CI84</td>\n",
       "      <td>A344SMIA5JECGM</td>\n",
       "      <td>Vincent P. Ross</td>\n",
       "      <td>1</td>\n",
       "      <td>2</td>\n",
       "      <td>5</td>\n",
       "      <td>944438400</td>\n",
       "      <td>A modern day fairy tale</td>\n",
       "      <td>A twist of rumplestiskin captured on film, sta...</td>\n",
       "      <td>twist rumplestiskin captur film star michael k...</td>\n",
       "    </tr>\n",
       "    <tr>\n",
       "      <th>423</th>\n",
       "      <td>417838</td>\n",
       "      <td>451855</td>\n",
       "      <td>B00004CXX9</td>\n",
       "      <td>AJH6LUC1UT1ON</td>\n",
       "      <td>The Phantom of the Opera</td>\n",
       "      <td>0</td>\n",
       "      <td>0</td>\n",
       "      <td>5</td>\n",
       "      <td>946857600</td>\n",
       "      <td>FANTASTIC!</td>\n",
       "      <td>Beetlejuice is an excellent and funny movie. K...</td>\n",
       "      <td>beetlejuic excel funni movi keaton hilari wack...</td>\n",
       "    </tr>\n",
       "  </tbody>\n",
       "</table>\n",
       "</div>"
      ],
      "text/plain": [
       "      index      Id   ProductId          UserId               ProfileName  \\\n",
       "0    138706  150524  0006641040   ACITT7DI6IDDL           shari zychinski   \n",
       "30   138683  150501  0006641040   AJ46FKXOVC7NR        Nicholas A Mesiano   \n",
       "424  417839  451856  B00004CXX9   AIUWLEQ1ADEG5          Elizabeth Medina   \n",
       "330  346055  374359  B00004CI84  A344SMIA5JECGM           Vincent P. Ross   \n",
       "423  417838  451855  B00004CXX9   AJH6LUC1UT1ON  The Phantom of the Opera   \n",
       "\n",
       "     HelpfulnessNumerator  HelpfulnessDenominator  Score       Time  \\\n",
       "0                       0                       0      5  939340800   \n",
       "30                      2                       2      5  940809600   \n",
       "424                     0                       0      5  944092800   \n",
       "330                     1                       2      5  944438400   \n",
       "423                     0                       0      5  946857600   \n",
       "\n",
       "                                               Summary  \\\n",
       "0                            EVERY book is educational   \n",
       "30   This whole series is great way to spend time w...   \n",
       "424                               Entertainingl Funny!   \n",
       "330                            A modern day fairy tale   \n",
       "423                                         FANTASTIC!   \n",
       "\n",
       "                                                  Text  \\\n",
       "0    this witty little book makes my son laugh at l...   \n",
       "30   I can remember seeing the show when it aired o...   \n",
       "424  Beetlejuice is a well written movie ..... ever...   \n",
       "330  A twist of rumplestiskin captured on film, sta...   \n",
       "423  Beetlejuice is an excellent and funny movie. K...   \n",
       "\n",
       "                                           CleanedText  \n",
       "0    witti littl book make son laugh loud recit car...  \n",
       "30   rememb see show air televis year ago child sis...  \n",
       "424  beetlejuic well written movi everyth excel act...  \n",
       "330  twist rumplestiskin captur film star michael k...  \n",
       "423  beetlejuic excel funni movi keaton hilari wack...  "
      ]
     },
     "execution_count": 20,
     "metadata": {},
     "output_type": "execute_result"
    }
   ],
   "source": [
    "new_time_sorted_df.head()"
   ]
  },
  {
   "cell_type": "code",
   "execution_count": 21,
   "metadata": {
    "ExecuteTime": {
     "end_time": "2019-02-23T07:28:41.441880Z",
     "start_time": "2019-02-23T07:28:41.226928Z"
    }
   },
   "outputs": [],
   "source": [
    "time_sorted_score = new_time_sorted_df['Score'].values"
   ]
  },
  {
   "cell_type": "code",
   "execution_count": 22,
   "metadata": {
    "ExecuteTime": {
     "end_time": "2019-02-23T07:28:41.763377Z",
     "start_time": "2019-02-23T07:28:41.451557Z"
    }
   },
   "outputs": [
    {
     "data": {
      "text/plain": [
       "(364173, 12)"
      ]
     },
     "execution_count": 22,
     "metadata": {},
     "output_type": "execute_result"
    }
   ],
   "source": [
    "time_sorted_df.shape"
   ]
  },
  {
   "cell_type": "code",
   "execution_count": 23,
   "metadata": {
    "ExecuteTime": {
     "end_time": "2019-02-23T07:28:42.218828Z",
     "start_time": "2019-02-23T07:28:41.772165Z"
    }
   },
   "outputs": [],
   "source": [
    "time_sorted_df['Score'] = time_sorted_df['Score'] .apply(lambda x: 1 if x> 3 else 0)"
   ]
  },
  {
   "cell_type": "code",
   "execution_count": 24,
   "metadata": {
    "ExecuteTime": {
     "end_time": "2019-02-23T07:28:42.409371Z",
     "start_time": "2019-02-23T07:28:42.220669Z"
    },
    "scrolled": true
   },
   "outputs": [
    {
     "data": {
      "text/plain": [
       "1    307063\n",
       "0     57110\n",
       "Name: Score, dtype: int64"
      ]
     },
     "execution_count": 24,
     "metadata": {},
     "output_type": "execute_result"
    }
   ],
   "source": [
    "time_sorted_df.Score.value_counts()"
   ]
  },
  {
   "cell_type": "code",
   "execution_count": 25,
   "metadata": {
    "ExecuteTime": {
     "end_time": "2019-02-23T07:28:42.857356Z",
     "start_time": "2019-02-23T07:28:42.413245Z"
    }
   },
   "outputs": [],
   "source": [
    "x_train = time_sorted_df.CleanedText.values[0:60000]\n",
    "x_cv = time_sorted_df.CleanedText.values[60000:80000]\n",
    "x_test = time_sorted_df.CleanedText.values[80000:100000]"
   ]
  },
  {
   "cell_type": "code",
   "execution_count": 26,
   "metadata": {
    "ExecuteTime": {
     "end_time": "2019-02-23T07:28:43.172202Z",
     "start_time": "2019-02-23T07:28:42.861127Z"
    }
   },
   "outputs": [],
   "source": [
    "y_train = time_sorted_df.Score[0:60000]\n",
    "y_cv = time_sorted_df.Score[60000:80000]\n",
    "y_test = time_sorted_df.Score[80000:100000]"
   ]
  },
  {
   "cell_type": "code",
   "execution_count": 26,
   "metadata": {},
   "outputs": [
    {
     "data": {
      "text/plain": [
       "1    53147\n",
       "0     6853\n",
       "Name: Score, dtype: int64"
      ]
     },
     "execution_count": 26,
     "metadata": {},
     "output_type": "execute_result"
    }
   ],
   "source": [
    "y_train.value_counts()"
   ]
  },
  {
   "cell_type": "markdown",
   "metadata": {},
   "source": [
    "### Bag of words"
   ]
  },
  {
   "cell_type": "code",
   "execution_count": 27,
   "metadata": {},
   "outputs": [],
   "source": [
    "count_vect = CountVectorizer(max_features=2000, min_df=5)"
   ]
  },
  {
   "cell_type": "code",
   "execution_count": 28,
   "metadata": {},
   "outputs": [],
   "source": [
    "bow = count_vect.fit(x_train)"
   ]
  },
  {
   "cell_type": "code",
   "execution_count": 29,
   "metadata": {},
   "outputs": [],
   "source": [
    "train_bow_count = bow.transform(x_train)"
   ]
  },
  {
   "cell_type": "code",
   "execution_count": 30,
   "metadata": {},
   "outputs": [
    {
     "data": {
      "text/plain": [
       "(60000, 2000)"
      ]
     },
     "execution_count": 30,
     "metadata": {},
     "output_type": "execute_result"
    }
   ],
   "source": [
    "train_bow_count.shape"
   ]
  },
  {
   "cell_type": "code",
   "execution_count": 31,
   "metadata": {},
   "outputs": [],
   "source": [
    "test_bow_count = bow.transform(x_test)"
   ]
  },
  {
   "cell_type": "code",
   "execution_count": 32,
   "metadata": {},
   "outputs": [
    {
     "data": {
      "text/plain": [
       "(20000, 2000)"
      ]
     },
     "execution_count": 32,
     "metadata": {},
     "output_type": "execute_result"
    }
   ],
   "source": [
    "test_bow_count.shape"
   ]
  },
  {
   "cell_type": "code",
   "execution_count": 33,
   "metadata": {},
   "outputs": [],
   "source": [
    "cv_bow_count = bow.transform(x_cv)"
   ]
  },
  {
   "cell_type": "code",
   "execution_count": 34,
   "metadata": {},
   "outputs": [
    {
     "data": {
      "text/plain": [
       "<1x2000 sparse matrix of type '<class 'numpy.int64'>'\n",
       "\twith 21 stored elements in Compressed Sparse Row format>"
      ]
     },
     "execution_count": 34,
     "metadata": {},
     "output_type": "execute_result"
    }
   ],
   "source": [
    "train_bow_count[0]"
   ]
  },
  {
   "cell_type": "markdown",
   "metadata": {},
   "source": [
    "### KNN brute"
   ]
  },
  {
   "cell_type": "code",
   "execution_count": 35,
   "metadata": {},
   "outputs": [],
   "source": [
    "import warnings\n",
    "warnings.filterwarnings('ignore')"
   ]
  },
  {
   "cell_type": "code",
   "execution_count": null,
   "metadata": {
    "scrolled": true
   },
   "outputs": [],
   "source": [
    "neighbors = [x for x in range(5,15,2)]\n",
    "fbetaval=[]\n",
    "for i in neighbors:\n",
    "    knn = KNeighborsClassifier(n_neighbors=i, n_jobs=1, algorithm='brute')\n",
    "    knn.fit(train_bow_count, y_train)\n",
    "    pred = knn.predict(cv_bow_count)\n",
    "    fbetaval.append(fbeta_score(y_cv, pred,average='micro', beta=0.5)*100.00)\n",
    "    print('the fbeta score for k= {} is {}'.format(i, fbetaval[count]))"
   ]
  },
  {
   "cell_type": "code",
   "execution_count": 37,
   "metadata": {},
   "outputs": [
    {
     "data": {
      "text/plain": [
       "Text(0,0.5,'fbeta scores')"
      ]
     },
     "execution_count": 37,
     "metadata": {},
     "output_type": "execute_result"
    },
    {
     "data": {
      "image/png": "[encoded data removed]",
      "text/plain": [
       "<Figure size 432x288 with 1 Axes>"
      ]
     },
     "metadata": {},
     "output_type": "display_data"
    }
   ],
   "source": [
    "plt.plot(neighbors, fbetaval)\n",
    "plt.xlabel('neighbors')\n",
    "plt.ylabel('fbeta scores')"
   ]
  },
  {
   "cell_type": "code",
   "execution_count": 38,
   "metadata": {},
   "outputs": [
    {
     "name": "stdout",
     "output_type": "stream",
     "text": [
      "the fbeta score with k=11 on test data is 87%\n"
     ]
    }
   ],
   "source": [
    "knn = KNeighborsClassifier(11)\n",
    "knn.fit(train_bow_count, y_train)\n",
    "pred = knn.predict(test_bow_count)\n",
    "fbeta = fbeta_score(y_test, pred, average='micro', beta=0.5)*100.00\n",
    "print('the fbeta score with k=11 on test data is %d%%' %(fbeta))"
   ]
  },
  {
   "cell_type": "code",
   "execution_count": 39,
   "metadata": {
    "scrolled": true
   },
   "outputs": [
    {
     "data": {
      "text/plain": [
       "<60000x2000 sparse matrix of type '<class 'numpy.int64'>'\n",
       "\twith 1542762 stored elements in Compressed Sparse Row format>"
      ]
     },
     "execution_count": 39,
     "metadata": {},
     "output_type": "execute_result"
    }
   ],
   "source": [
    "train_bow_count"
   ]
  },
  {
   "cell_type": "code",
   "execution_count": 40,
   "metadata": {},
   "outputs": [
    {
     "data": {
      "text/plain": [
       "<1x2000 sparse matrix of type '<class 'numpy.int64'>'\n",
       "\twith 21 stored elements in Compressed Sparse Row format>"
      ]
     },
     "execution_count": 40,
     "metadata": {},
     "output_type": "execute_result"
    }
   ],
   "source": [
    "train_bow_count[0]"
   ]
  },
  {
   "cell_type": "markdown",
   "metadata": {},
   "source": [
    "### kd-tree with dense vector"
   ]
  },
  {
   "cell_type": "markdown",
   "metadata": {},
   "source": [
    "#### truncated svd for dim reduction"
   ]
  },
  {
   "cell_type": "code",
   "execution_count": 41,
   "metadata": {},
   "outputs": [],
   "source": [
    "from numpy import array\n",
    "from scipy.sparse import csr_matrix, issparse, isspmatrix, isspmatrix_csr"
   ]
  },
  {
   "cell_type": "code",
   "execution_count": 42,
   "metadata": {},
   "outputs": [],
   "source": [
    "from sklearn.decomposition import TruncatedSVD"
   ]
  },
  {
   "cell_type": "code",
   "execution_count": 49,
   "metadata": {},
   "outputs": [],
   "source": [
    "svd = TruncatedSVD(n_components=400, n_iter=5)"
   ]
  },
  {
   "cell_type": "code",
   "execution_count": 50,
   "metadata": {},
   "outputs": [],
   "source": [
    "svd1 = svd.fit(train_bow_count)"
   ]
  },
  {
   "cell_type": "code",
   "execution_count": 51,
   "metadata": {},
   "outputs": [],
   "source": [
    "densetrain = svd1.transform(train_bow_count)"
   ]
  },
  {
   "cell_type": "code",
   "execution_count": 52,
   "metadata": {},
   "outputs": [],
   "source": [
    "densecv = svd1.transform(cv_bow_count)"
   ]
  },
  {
   "cell_type": "code",
   "execution_count": 53,
   "metadata": {},
   "outputs": [],
   "source": [
    "densetest = svd1.transform(test_bow_count)"
   ]
  },
  {
   "cell_type": "code",
   "execution_count": 55,
   "metadata": {},
   "outputs": [
    {
     "data": {
      "text/plain": [
       "array([[ 1.27910248e+00, -6.35593975e-01,  1.27402083e+00, ...,\n",
       "        -9.81238364e-02, -1.22491788e-01, -1.88043332e-01],\n",
       "       [ 3.27074002e-01, -7.29708556e-02, -2.52799098e-01, ...,\n",
       "        -6.28170665e-02,  8.27292714e-03,  1.57708924e-01],\n",
       "       [ 1.83392013e+00, -7.41837628e-01, -6.89992687e-01, ...,\n",
       "         8.63270957e-03, -5.09371720e-02,  1.02596441e-02],\n",
       "       ...,\n",
       "       [ 1.33941030e+00, -7.13197432e-01,  5.90565510e-01, ...,\n",
       "         1.49772839e-01,  7.89736111e-02, -3.07632142e-04],\n",
       "       [ 2.23146538e+00, -4.76249659e-01, -2.47969884e+00, ...,\n",
       "         2.90837491e-02,  3.25573497e-02, -8.03919101e-02],\n",
       "       [ 1.15645259e+00, -6.15326057e-01,  3.46942436e-01, ...,\n",
       "        -1.57746244e-02, -9.03877920e-02,  4.94201328e-02]])"
      ]
     },
     "execution_count": 55,
     "metadata": {},
     "output_type": "execute_result"
    }
   ],
   "source": [
    "densetest"
   ]
  },
  {
   "cell_type": "code",
   "execution_count": 56,
   "metadata": {},
   "outputs": [],
   "source": [
    "# issparse(densetest)"
   ]
  },
  {
   "cell_type": "code",
   "execution_count": 57,
   "metadata": {
    "scrolled": true
   },
   "outputs": [
    {
     "name": "stdout",
     "output_type": "stream",
     "text": [
      "fbetascore for k=5 is [0.86075]\n",
      "fbetascore for k=7 is [0.86075, 0.8648]\n",
      "fbetascore for k=9 is [0.86075, 0.8648, 0.86745]\n",
      "fbetascore for k=11 is [0.86075, 0.8648, 0.86745, 0.8682]\n",
      "fbetascore for k=13 is [0.86075, 0.8648, 0.86745, 0.8682, 0.8683]\n"
     ]
    }
   ],
   "source": [
    "fbetascorevals=[]\n",
    "for i in neighbors:\n",
    "    knn = KNeighborsClassifier(n_neighbors=i, algorithm='kd_tree')\n",
    "    knn.fit(densetrain, y_train)\n",
    "    pred = knn.predict(densecv)\n",
    "    fbetascorevals.append(fbeta_score(y_cv, pred, average='micro',beta=0.5))\n",
    "    print('fbetascore for k={} is {}'.format(i, fbetascorevals))"
   ]
  },
  {
   "cell_type": "code",
   "execution_count": 58,
   "metadata": {},
   "outputs": [
    {
     "data": {
      "text/plain": [
       "Text(0,0.5,'fbeta scores')"
      ]
     },
     "execution_count": 58,
     "metadata": {},
     "output_type": "execute_result"
    },
    {
     "data": {
      "image/png": "[encoded data removed]",
      "text/plain": [
       "<Figure size 432x288 with 1 Axes>"
      ]
     },
     "metadata": {},
     "output_type": "display_data"
    }
   ],
   "source": [
    "plt.plot(neighbors, fbetascorevals)\n",
    "plt.xlabel('neighbors')\n",
    "plt.ylabel('fbeta scores')"
   ]
  },
  {
   "cell_type": "code",
   "execution_count": 36,
   "metadata": {},
   "outputs": [
    {
     "name": "stdout",
     "output_type": "stream",
     "text": [
      "the fbeta with k=11 on test data is 87%\n"
     ]
    }
   ],
   "source": [
    "knn = KNeighborsClassifier(11)\n",
    "knn.fit(train_bow_count, y_train)\n",
    "pred = knn.predict(test_bow_count)\n",
    "fbeta = fbeta_score(y_test, pred, beta=0.5, average='micro') * float(100)\n",
    "print('the fbeta with k=11 on test data is %d%%' %(fbeta))"
   ]
  },
  {
   "cell_type": "code",
   "execution_count": 37,
   "metadata": {},
   "outputs": [],
   "source": [
    "from sklearn import metrics"
   ]
  },
  {
   "cell_type": "code",
   "execution_count": 38,
   "metadata": {
    "scrolled": true
   },
   "outputs": [
    {
     "name": "stdout",
     "output_type": "stream",
     "text": [
      "[[  114  2560]\n",
      " [   37 17289]]\n"
     ]
    }
   ],
   "source": [
    "print(metrics.confusion_matrix(y_test, pred))"
   ]
  },
  {
   "cell_type": "markdown",
   "metadata": {},
   "source": [
    "### Metrics"
   ]
  },
  {
   "cell_type": "code",
   "execution_count": 39,
   "metadata": {
    "scrolled": false
   },
   "outputs": [
    {
     "name": "stdout",
     "output_type": "stream",
     "text": [
      "              precision    recall  f1-score   support\n",
      "\n",
      "           0       0.75      0.04      0.08      2674\n",
      "           1       0.87      1.00      0.93     17326\n",
      "\n",
      "   micro avg       0.87      0.87      0.87     20000\n",
      "   macro avg       0.81      0.52      0.51     20000\n",
      "weighted avg       0.86      0.87      0.82     20000\n",
      "\n"
     ]
    }
   ],
   "source": [
    "print(metrics.classification_report(y_test, pred))"
   ]
  },
  {
   "cell_type": "code",
   "execution_count": 40,
   "metadata": {},
   "outputs": [],
   "source": [
    "cmat = (metrics.confusion_matrix(y_test, pred))"
   ]
  },
  {
   "cell_type": "code",
   "execution_count": 41,
   "metadata": {
    "scrolled": true
   },
   "outputs": [
    {
     "data": {
      "text/plain": [
       "<matplotlib.axes._subplots.AxesSubplot at 0x1977ea59048>"
      ]
     },
     "execution_count": 41,
     "metadata": {},
     "output_type": "execute_result"
    },
    {
     "data": {
      "image/png": "[encoded data removed]",
      "text/plain": [
       "<Figure size 432x288 with 2 Axes>"
      ]
     },
     "metadata": {},
     "output_type": "display_data"
    }
   ],
   "source": [
    "sns.heatmap(data=cmat,annot=True, fmt=\"d\" ,cmap=\"YlGnBu\" )"
   ]
  },
  {
   "cell_type": "markdown",
   "metadata": {},
   "source": [
    "### Precision and recall scores"
   ]
  },
  {
   "cell_type": "code",
   "execution_count": 42,
   "metadata": {},
   "outputs": [],
   "source": [
    "from sklearn.metrics import precision_score"
   ]
  },
  {
   "cell_type": "code",
   "execution_count": 43,
   "metadata": {},
   "outputs": [],
   "source": [
    "from sklearn.metrics import recall_score"
   ]
  },
  {
   "cell_type": "code",
   "execution_count": 44,
   "metadata": {},
   "outputs": [],
   "source": [
    "precision = precision_score(y_test, pred, average='micro')*100.00\n",
    "recall = recall_score(y_test, pred, average='micro')*100.00"
   ]
  },
  {
   "cell_type": "code",
   "execution_count": 45,
   "metadata": {},
   "outputs": [
    {
     "name": "stdout",
     "output_type": "stream",
     "text": [
      "the values of precision and recall is 87% and 87%\n"
     ]
    }
   ],
   "source": [
    "print('the values of precision and recall is %d%% and %d%%' %(precision, recall))"
   ]
  },
  {
   "cell_type": "markdown",
   "metadata": {},
   "source": [
    "precision and recall are same or fp and fn are the same"
   ]
  },
  {
   "cell_type": "markdown",
   "metadata": {},
   "source": [
    "### F1 scores"
   ]
  },
  {
   "cell_type": "code",
   "execution_count": 46,
   "metadata": {},
   "outputs": [],
   "source": [
    "from sklearn.metrics import f1_score"
   ]
  },
  {
   "cell_type": "code",
   "execution_count": 47,
   "metadata": {
    "scrolled": true
   },
   "outputs": [
    {
     "data": {
      "text/plain": [
       "0.87015"
      ]
     },
     "execution_count": 47,
     "metadata": {},
     "output_type": "execute_result"
    }
   ],
   "source": [
    "f1_score(y_test, pred, average='micro')"
   ]
  },
  {
   "cell_type": "markdown",
   "metadata": {},
   "source": [
    "### tf-idf approach"
   ]
  },
  {
   "cell_type": "code",
   "execution_count": 42,
   "metadata": {},
   "outputs": [],
   "source": [
    "tfidf = TfidfVectorizer(max_features=2000, max_df=5)"
   ]
  },
  {
   "cell_type": "code",
   "execution_count": 43,
   "metadata": {},
   "outputs": [],
   "source": [
    "x_train_tfidf = tfidf.fit_transform(x_train)"
   ]
  },
  {
   "cell_type": "code",
   "execution_count": 75,
   "metadata": {},
   "outputs": [
    {
     "data": {
      "text/plain": [
       "<1x2000 sparse matrix of type '<class 'numpy.float64'>'\n",
       "\twith 0 stored elements in Compressed Sparse Row format>"
      ]
     },
     "execution_count": 75,
     "metadata": {},
     "output_type": "execute_result"
    }
   ],
   "source": [
    "x_test_tfidf[112]"
   ]
  },
  {
   "cell_type": "code",
   "execution_count": 44,
   "metadata": {},
   "outputs": [],
   "source": [
    "x_cv_tfidf = tfidf.transform(x_cv)"
   ]
  },
  {
   "cell_type": "code",
   "execution_count": 45,
   "metadata": {},
   "outputs": [],
   "source": [
    "x_test_tfidf = tfidf.transform(x_test)"
   ]
  },
  {
   "cell_type": "markdown",
   "metadata": {},
   "source": [
    "### knn brute tfidf"
   ]
  },
  {
   "cell_type": "code",
   "execution_count": 52,
   "metadata": {},
   "outputs": [
    {
     "name": "stdout",
     "output_type": "stream",
     "text": [
      "fbetascore for k=5 is [0.8629]\n",
      "fbetascore for k=7 is [0.8629, 0.86315]\n",
      "fbetascore for k=9 is [0.8629, 0.86315, 0.86295]\n",
      "fbetascore for k=11 is [0.8629, 0.86315, 0.86295, 0.8629]\n",
      "fbetascore for k=13 is [0.8629, 0.86315, 0.86295, 0.8629, 0.8629]\n"
     ]
    }
   ],
   "source": [
    "neighbors = [x for x in range(5,15,2)]\n",
    "fbetascorevals=[]\n",
    "for i in neighbors:\n",
    "    knn = KNeighborsClassifier(n_neighbors=i, algorithm='brute')\n",
    "    knn.fit(x_train_tfidf, y_train)\n",
    "    pred = knn.predict(x_cv_tfidf)\n",
    "    fbetascorevals.append(fbeta_score(y_cv, pred, average='micro',beta=0.5))\n",
    "    print('fbetascore for k={} is {}'.format(i, fbetascorevals))"
   ]
  },
  {
   "cell_type": "code",
   "execution_count": 53,
   "metadata": {},
   "outputs": [
    {
     "data": {
      "text/plain": [
       "Text(0,0.5,'fbetascore')"
      ]
     },
     "execution_count": 53,
     "metadata": {},
     "output_type": "execute_result"
    },
    {
     "data": {
      "image/png": "[encoded data removed]",
      "text/plain": [
       "<Figure size 432x288 with 1 Axes>"
      ]
     },
     "metadata": {},
     "output_type": "display_data"
    }
   ],
   "source": [
    "plt.plot(neighbors,fbetascorevals)\n",
    "plt.xlabel('k neighbors')\n",
    "plt.ylabel('fbetascore')"
   ]
  },
  {
   "cell_type": "code",
   "execution_count": 66,
   "metadata": {},
   "outputs": [
    {
     "name": "stdout",
     "output_type": "stream",
     "text": [
      "f1 score on test data with k=11 is 86%\n"
     ]
    }
   ],
   "source": [
    "knn = KNeighborsClassifier(7)\n",
    "knn.fit(x_train_tfidf, y_train)\n",
    "pred = knn.predict(x_test_tfidf)\n",
    "f1score = f1_score(y_test, pred, average='micro') * 100.0\n",
    "print('f1 score on test data with k=11 is %d%%' %(f1score))"
   ]
  },
  {
   "cell_type": "markdown",
   "metadata": {},
   "source": [
    "### precision and recall scores"
   ]
  },
  {
   "cell_type": "code",
   "execution_count": 67,
   "metadata": {},
   "outputs": [],
   "source": [
    "precision = precision_score(y_test, pred, average='micro')*100.00\n",
    "recall = recall_score(y_test, pred, average='micro')*100.00"
   ]
  },
  {
   "cell_type": "code",
   "execution_count": 68,
   "metadata": {},
   "outputs": [
    {
     "name": "stdout",
     "output_type": "stream",
     "text": [
      "the values of precision and recall is 86% and 86%\n"
     ]
    }
   ],
   "source": [
    "print('the values of precision and recall is %d%% and %d%%' %(precision, recall))"
   ]
  },
  {
   "cell_type": "code",
   "execution_count": 69,
   "metadata": {},
   "outputs": [],
   "source": [
    "f1 = f1_score(y_test, pred, average='micro')*100.00"
   ]
  },
  {
   "cell_type": "code",
   "execution_count": 70,
   "metadata": {},
   "outputs": [
    {
     "name": "stdout",
     "output_type": "stream",
     "text": [
      "f1 score for the above y_test and pred is 86.625\n"
     ]
    }
   ],
   "source": [
    "print('f1 score for the above y_test and pred is {}'.format(f1))"
   ]
  },
  {
   "cell_type": "code",
   "execution_count": 71,
   "metadata": {},
   "outputs": [],
   "source": [
    "cmat = (metrics.confusion_matrix(y_test, pred))"
   ]
  },
  {
   "cell_type": "code",
   "execution_count": 72,
   "metadata": {},
   "outputs": [
    {
     "data": {
      "text/plain": [
       "<matplotlib.axes._subplots.AxesSubplot at 0x19762175128>"
      ]
     },
     "execution_count": 72,
     "metadata": {},
     "output_type": "execute_result"
    },
    {
     "data": {
      "image/png": "[encoded data removed]",
      "text/plain": [
       "<Figure size 432x288 with 2 Axes>"
      ]
     },
     "metadata": {},
     "output_type": "display_data"
    }
   ],
   "source": [
    "sns.heatmap(data=cmat,annot=True, fmt=\"d\" ,cmap=\"YlGnBu\" )"
   ]
  },
  {
   "cell_type": "markdown",
   "metadata": {},
   "source": [
    "### knn kd-tree tfidf"
   ]
  },
  {
   "cell_type": "markdown",
   "metadata": {},
   "source": [
    "#### truncated svd for tfidf"
   ]
  },
  {
   "cell_type": "code",
   "execution_count": 61,
   "metadata": {},
   "outputs": [],
   "source": [
    "from sklearn.decomposition import TruncatedSVD"
   ]
  },
  {
   "cell_type": "code",
   "execution_count": 62,
   "metadata": {},
   "outputs": [],
   "source": [
    "svd = TruncatedSVD(n_components=500, n_iter=7)"
   ]
  },
  {
   "cell_type": "code",
   "execution_count": 63,
   "metadata": {},
   "outputs": [],
   "source": [
    "svd1 = svd.fit(x_train_tfidf)"
   ]
  },
  {
   "cell_type": "code",
   "execution_count": 74,
   "metadata": {
    "scrolled": true
   },
   "outputs": [],
   "source": [
    "densetrain = svd1.transform(x_train_tfidf)\n",
    "densecv = svd1.transform(x_cv_tfidf)\n",
    "densetest = svd1.transform(x_test_tfidf)"
   ]
  },
  {
   "cell_type": "code",
   "execution_count": 75,
   "metadata": {
    "scrolled": true
   },
   "outputs": [
    {
     "name": "stdout",
     "output_type": "stream",
     "text": [
      "fbetascore for k=5 is [0.86215]\n",
      "fbetascore for k=7 is [0.86215, 0.86275]\n",
      "fbetascore for k=9 is [0.86215, 0.86275, 0.86275]\n",
      "fbetascore for k=11 is [0.86215, 0.86275, 0.86275, 0.86295]\n",
      "fbetascore for k=13 is [0.86215, 0.86275, 0.86275, 0.86295, 0.86295]\n"
     ]
    }
   ],
   "source": [
    "neighbors = [x for x in range(5,15,2)]\n",
    "fbetascorevals=[]\n",
    "for i in neighbors:\n",
    "    knn = KNeighborsClassifier(n_neighbors=i, algorithm='kd_tree')\n",
    "    knn.fit(densetrain, y_train)\n",
    "    pred = knn.predict(densecv)\n",
    "    fbetascorevals.append(fbeta_score(y_cv, pred, average='micro',beta=0.5))\n",
    "    print('fbetascore for k={} is {}'.format(i, fbetascorevals))"
   ]
  },
  {
   "cell_type": "code",
   "execution_count": 83,
   "metadata": {},
   "outputs": [
    {
     "data": {
      "text/plain": [
       "Text(0,0.5,'fbetascore')"
      ]
     },
     "execution_count": 83,
     "metadata": {},
     "output_type": "execute_result"
    },
    {
     "data": {
      "image/png": "[encoded data removed]",
      "text/plain": [
       "<Figure size 432x288 with 1 Axes>"
      ]
     },
     "metadata": {},
     "output_type": "display_data"
    }
   ],
   "source": [
    "plt.plot(neighbors,fbetascorevals)\n",
    "plt.xlabel('k neighbors')\n",
    "plt.ylabel('fbetascore')"
   ]
  },
  {
   "cell_type": "code",
   "execution_count": 84,
   "metadata": {
    "scrolled": true
   },
   "outputs": [
    {
     "name": "stdout",
     "output_type": "stream",
     "text": [
      "f1 score on test data with k=11 is 86%\n"
     ]
    }
   ],
   "source": [
    "knn = KNeighborsClassifier(11)\n",
    "knn.fit(x_train_tfidf, y_train)\n",
    "pred = knn.predict(x_test_tfidf)\n",
    "f1score = f1_score(y_test, pred, average='micro') * 100.0\n",
    "print('f1 score on test data with k=11 is %d%%' %(f1score))"
   ]
  },
  {
   "cell_type": "code",
   "execution_count": 85,
   "metadata": {},
   "outputs": [],
   "source": [
    "precision = precision_score(y_test, pred, average='micro')*100.00\n",
    "recall = recall_score(y_test, pred, average='micro')*100.00"
   ]
  },
  {
   "cell_type": "code",
   "execution_count": 86,
   "metadata": {},
   "outputs": [
    {
     "name": "stdout",
     "output_type": "stream",
     "text": [
      "the values of precision and recall is 86% and 86%\n"
     ]
    }
   ],
   "source": [
    "print('the values of precision and recall is %d%% and %d%%' %(precision, recall))"
   ]
  },
  {
   "cell_type": "markdown",
   "metadata": {},
   "source": [
    "### F1 scores"
   ]
  },
  {
   "cell_type": "code",
   "execution_count": 87,
   "metadata": {},
   "outputs": [
    {
     "data": {
      "text/plain": [
       "0.86625"
      ]
     },
     "execution_count": 87,
     "metadata": {},
     "output_type": "execute_result"
    }
   ],
   "source": [
    "f1_score(y_test, pred, average='micro')"
   ]
  },
  {
   "cell_type": "code",
   "execution_count": 88,
   "metadata": {},
   "outputs": [],
   "source": [
    "cmat = (metrics.confusion_matrix(y_test, pred))"
   ]
  },
  {
   "cell_type": "code",
   "execution_count": 89,
   "metadata": {
    "scrolled": true
   },
   "outputs": [
    {
     "data": {
      "text/plain": [
       "<matplotlib.axes._subplots.AxesSubplot at 0x1977e7fe080>"
      ]
     },
     "execution_count": 89,
     "metadata": {},
     "output_type": "execute_result"
    },
    {
     "data": {
      "image/png": "[encoded data removed]",
      "text/plain": [
       "<Figure size 432x288 with 2 Axes>"
      ]
     },
     "metadata": {},
     "output_type": "display_data"
    }
   ],
   "source": [
    "sns.heatmap(data=cmat,annot=True, fmt=\"d\" ,cmap=\"YlGnBu\" )"
   ]
  },
  {
   "cell_type": "markdown",
   "metadata": {},
   "source": [
    "### avgw2v"
   ]
  },
  {
   "cell_type": "code",
   "execution_count": 1,
   "metadata": {
    "ExecuteTime": {
     "end_time": "2019-02-23T07:27:50.212167Z",
     "start_time": "2019-02-23T07:27:49.471848Z"
    },
    "scrolled": true
   },
   "outputs": [
    {
     "name": "stderr",
     "output_type": "stream",
     "text": [
      "C:\\Users\\karth\\Anaconda3\\lib\\site-packages\\gensim\\utils.py:1197: UserWarning: detected Windows; aliasing chunkize to chunkize_serial\n",
      "  warnings.warn(\"detected Windows; aliasing chunkize to chunkize_serial\")\n"
     ]
    }
   ],
   "source": [
    "from gensim.models import Word2Vec"
   ]
  },
  {
   "cell_type": "code",
   "execution_count": 27,
   "metadata": {
    "ExecuteTime": {
     "end_time": "2019-02-23T07:28:53.955442Z",
     "start_time": "2019-02-23T07:28:53.689359Z"
    }
   },
   "outputs": [],
   "source": [
    "listofsentences = []\n",
    "for sent in x_train:\n",
    "    listofsentences.append(sent.split())"
   ]
  },
  {
   "cell_type": "code",
   "execution_count": 28,
   "metadata": {
    "ExecuteTime": {
     "end_time": "2019-02-23T07:29:05.249464Z",
     "start_time": "2019-02-23T07:28:57.834880Z"
    }
   },
   "outputs": [],
   "source": [
    "training_model = Word2Vec(sentences = listofsentences, min_count=5, workers=4)"
   ]
  },
  {
   "cell_type": "code",
   "execution_count": 29,
   "metadata": {
    "ExecuteTime": {
     "end_time": "2019-02-23T07:29:09.710695Z",
     "start_time": "2019-02-23T07:29:09.706791Z"
    }
   },
   "outputs": [],
   "source": [
    "model_words = list(training_model.wv.vocab)"
   ]
  },
  {
   "cell_type": "code",
   "execution_count": 30,
   "metadata": {
    "ExecuteTime": {
     "end_time": "2019-02-23T07:29:23.437168Z",
     "start_time": "2019-02-23T07:29:23.434241Z"
    }
   },
   "outputs": [],
   "source": [
    "from tqdm import tqdm"
   ]
  },
  {
   "cell_type": "code",
   "execution_count": 31,
   "metadata": {
    "ExecuteTime": {
     "end_time": "2019-02-23T07:30:40.880726Z",
     "start_time": "2019-02-23T07:29:31.303880Z"
    }
   },
   "outputs": [
    {
     "name": "stderr",
     "output_type": "stream",
     "text": [
      "100%|███████████████████████████████████████████████████████████████████████████| 60000/60000 [01:09<00:00, 862.44it/s]\n"
     ]
    }
   ],
   "source": [
    "training = []\n",
    "for everysentence in tqdm(listofsentences):\n",
    "    count = 0\n",
    "    sentence = np.zeros(100)\n",
    "    for everyword in everysentence:\n",
    "        if everyword in model_words:\n",
    "            w2v = training_model.wv[everyword]\n",
    "            count+=1\n",
    "            sentence+=w2v\n",
    "            \n",
    "    if count !=0:\n",
    "        sentence/=count\n",
    "        training.append(sentence)"
   ]
  },
  {
   "cell_type": "code",
   "execution_count": 54,
   "metadata": {},
   "outputs": [],
   "source": [
    "test_list = []\n",
    "for sent in x_test:\n",
    "    test_list.append(sent.split())"
   ]
  },
  {
   "cell_type": "code",
   "execution_count": 124,
   "metadata": {},
   "outputs": [
    {
     "data": {
      "text/plain": [
       "20000"
      ]
     },
     "execution_count": 124,
     "metadata": {},
     "output_type": "execute_result"
    }
   ],
   "source": [
    "len(test_list)"
   ]
  },
  {
   "cell_type": "code",
   "execution_count": 55,
   "metadata": {},
   "outputs": [],
   "source": [
    "testing = []\n",
    "for everysentence in (test_list):\n",
    "    count = 0\n",
    "    sentence = np.zeros(100)\n",
    "    for everyword in everysentence:\n",
    "        if everyword in model_words:\n",
    "            w2v = training_model.wv[everyword]\n",
    "            count+=1\n",
    "            sentence+=w2v\n",
    "            \n",
    "    if count !=0:\n",
    "        sentence/=count\n",
    "        testing.append(sentence)"
   ]
  },
  {
   "cell_type": "code",
   "execution_count": 57,
   "metadata": {},
   "outputs": [],
   "source": [
    "cv_list = []\n",
    "for sent in x_cv:\n",
    "    cv_list.append(sent.split())"
   ]
  },
  {
   "cell_type": "code",
   "execution_count": 58,
   "metadata": {},
   "outputs": [],
   "source": [
    "cv = []\n",
    "for everysentence in (cv_list):\n",
    "    count = 0\n",
    "    sentence = np.zeros(100)\n",
    "    for everyword in everysentence:\n",
    "        if everyword in model_words:\n",
    "            w2v = training_model.wv[everyword]\n",
    "            count+=1\n",
    "            sentence+=w2v\n",
    "            \n",
    "    if count !=0:\n",
    "        sentence/=count\n",
    "        cv.append(sentence)"
   ]
  },
  {
   "cell_type": "markdown",
   "metadata": {},
   "source": [
    "### avgw2v brute"
   ]
  },
  {
   "cell_type": "code",
   "execution_count": 179,
   "metadata": {
    "scrolled": false
   },
   "outputs": [
    {
     "name": "stdout",
     "output_type": "stream",
     "text": [
      "fbetascore for k=5 is [0.8803]\n",
      "fbetascore for k=7 is [0.8803, 0.8803]\n",
      "fbetascore for k=9 is [0.8803, 0.8803, 0.88025]\n",
      "fbetascore for k=11 is [0.8803, 0.8803, 0.88025, 0.88105]\n",
      "fbetascore for k=13 is [0.8803, 0.8803, 0.88025, 0.88105, 0.8812]\n"
     ]
    }
   ],
   "source": [
    "neighbors = [x for x in range(5,15,2)]\n",
    "fbetascorevals=[]\n",
    "for i in neighbors:\n",
    "    knn = KNeighborsClassifier(n_neighbors=i, n_jobs=1, algorithm='brute')\n",
    "    knn.fit(training, y_train)\n",
    "    pred = knn.predict(cv)\n",
    "    fbetascorevals.append(fbeta_score(y_cv, pred, average='micro',beta=0.5))\n",
    "    print('fbetascore for k={} is {}'.format(i, fbetascorevals))"
   ]
  },
  {
   "cell_type": "code",
   "execution_count": 180,
   "metadata": {},
   "outputs": [
    {
     "data": {
      "text/plain": [
       "Text(0,0.5,'fbetascores')"
      ]
     },
     "execution_count": 180,
     "metadata": {},
     "output_type": "execute_result"
    },
    {
     "data": {
      "image/png": "[encoded data removed]",
      "text/plain": [
       "<Figure size 432x288 with 1 Axes>"
      ]
     },
     "metadata": {},
     "output_type": "display_data"
    }
   ],
   "source": [
    "plt.plot(neighbors, fbetascorevals)\n",
    "plt.xlabel('neighbors')\n",
    "plt.ylabel('fbetascores')"
   ]
  },
  {
   "cell_type": "code",
   "execution_count": 181,
   "metadata": {},
   "outputs": [
    {
     "name": "stdout",
     "output_type": "stream",
     "text": [
      "the f1 for k= 11 is 88%\n"
     ]
    }
   ],
   "source": [
    "knn = KNeighborsClassifier(13)\n",
    "knn.fit(training, y_train)\n",
    "pred = knn.predict(testing)\n",
    "f1score = f1_score(y_test, pred, average='micro') * float(100)\n",
    "print('the f1 for k= 11 is %d%%' %(f1score))"
   ]
  },
  {
   "cell_type": "code",
   "execution_count": 183,
   "metadata": {},
   "outputs": [],
   "source": [
    "cmat = (metrics.confusion_matrix(y_test, pred))"
   ]
  },
  {
   "cell_type": "code",
   "execution_count": 184,
   "metadata": {
    "scrolled": true
   },
   "outputs": [
    {
     "data": {
      "text/plain": [
       "<matplotlib.axes._subplots.AxesSubplot at 0x19740d204e0>"
      ]
     },
     "execution_count": 184,
     "metadata": {},
     "output_type": "execute_result"
    },
    {
     "data": {
      "image/png": "[encoded data removed]",
      "text/plain": [
       "<Figure size 432x288 with 2 Axes>"
      ]
     },
     "metadata": {},
     "output_type": "display_data"
    }
   ],
   "source": [
    "sns.heatmap(data=cmat,annot=True, fmt=\"d\" ,cmap=\"YlGnBu\" )"
   ]
  },
  {
   "cell_type": "markdown",
   "metadata": {},
   "source": [
    "### kd tree"
   ]
  },
  {
   "cell_type": "markdown",
   "metadata": {},
   "source": [
    "#### truncated svd for dense matrix"
   ]
  },
  {
   "cell_type": "code",
   "execution_count": 132,
   "metadata": {},
   "outputs": [],
   "source": [
    "svd = TruncatedSVD(n_components=50, n_iter=7)"
   ]
  },
  {
   "cell_type": "code",
   "execution_count": 133,
   "metadata": {},
   "outputs": [],
   "source": [
    "svd1 = svd.fit(training)\n",
    "densetrain = svd1.transform(training)\n",
    "densetest = svd1.transform(testing)\n",
    "densecv = svd1.transform(cv)"
   ]
  },
  {
   "cell_type": "code",
   "execution_count": 134,
   "metadata": {},
   "outputs": [
    {
     "data": {
      "text/plain": [
       "(60000, 50)"
      ]
     },
     "execution_count": 134,
     "metadata": {},
     "output_type": "execute_result"
    }
   ],
   "source": [
    "densetrain.shape"
   ]
  },
  {
   "cell_type": "code",
   "execution_count": 135,
   "metadata": {
    "scrolled": true
   },
   "outputs": [
    {
     "name": "stdout",
     "output_type": "stream",
     "text": [
      "fbetascore for k=5 is [0.8786]\n",
      "fbetascore for k=7 is [0.8786, 0.88075]\n",
      "fbetascore for k=9 is [0.8786, 0.88075, 0.8815]\n",
      "fbetascore for k=11 is [0.8786, 0.88075, 0.8815, 0.88105]\n",
      "fbetascore for k=13 is [0.8786, 0.88075, 0.8815, 0.88105, 0.8813]\n"
     ]
    }
   ],
   "source": [
    "neighbors = [x for x in range(5,15,2)]\n",
    "fbetascorevals=[]\n",
    "for i in neighbors:\n",
    "    knn = KNeighborsClassifier(n_neighbors=i, n_jobs=1, algorithm='kd_tree')\n",
    "    knn.fit(densetrain, y_train)\n",
    "    pred = knn.predict(densecv)\n",
    "    fbetascorevals.append(fbeta_score(y_cv, pred, average='micro',beta=0.5))\n",
    "    print('fbetascore for k={} is {}'.format(i, fbetascorevals))"
   ]
  },
  {
   "cell_type": "code",
   "execution_count": null,
   "metadata": {},
   "outputs": [],
   "source": [
    "plt.plot(neighbors, fbetascorevals)\n",
    "plt.xlabel('neighbors')\n",
    "plt.ylabel('fbetascores')"
   ]
  },
  {
   "cell_type": "code",
   "execution_count": 136,
   "metadata": {},
   "outputs": [
    {
     "name": "stdout",
     "output_type": "stream",
     "text": [
      "the f1 for k= 11 is 88%\n"
     ]
    }
   ],
   "source": [
    "knn = KNeighborsClassifier(n_neighbors=11, algorithm='kd_tree')\n",
    "knn.fit(densetrain, y_train)\n",
    "pred = knn.predict(densetest)\n",
    "f1score = f1_score(y_test, pred, average='micro') * float(100)\n",
    "print('the f1 for k= 11 is %d%%' %(f1score))"
   ]
  },
  {
   "cell_type": "markdown",
   "metadata": {},
   "source": [
    "### precision and recall"
   ]
  },
  {
   "cell_type": "code",
   "execution_count": 142,
   "metadata": {},
   "outputs": [],
   "source": [
    "precision = precision_score(y_test, pred, average='micro')*100.00\n",
    "recall = recall_score(y_test, pred, average='micro')*100.00"
   ]
  },
  {
   "cell_type": "code",
   "execution_count": 143,
   "metadata": {},
   "outputs": [
    {
     "name": "stdout",
     "output_type": "stream",
     "text": [
      "the values of precision and recall is 88% and 88%\n"
     ]
    }
   ],
   "source": [
    "print('the values of precision and recall is %d%% and %d%%' %(precision, recall))"
   ]
  },
  {
   "cell_type": "markdown",
   "metadata": {},
   "source": [
    "### F1 scores"
   ]
  },
  {
   "cell_type": "code",
   "execution_count": 144,
   "metadata": {},
   "outputs": [
    {
     "data": {
      "text/plain": [
       "0.88085"
      ]
     },
     "execution_count": 144,
     "metadata": {},
     "output_type": "execute_result"
    }
   ],
   "source": [
    "f1_score(y_test, pred, average='micro')"
   ]
  },
  {
   "cell_type": "code",
   "execution_count": 145,
   "metadata": {},
   "outputs": [],
   "source": [
    "cmat = (metrics.confusion_matrix(y_test, pred))"
   ]
  },
  {
   "cell_type": "code",
   "execution_count": 146,
   "metadata": {
    "scrolled": false
   },
   "outputs": [
    {
     "data": {
      "text/plain": [
       "<matplotlib.axes._subplots.AxesSubplot at 0x19726822860>"
      ]
     },
     "execution_count": 146,
     "metadata": {},
     "output_type": "execute_result"
    },
    {
     "data": {
      "image/png": "[encoded data removed]",
      "text/plain": [
       "<Figure size 432x288 with 2 Axes>"
      ]
     },
     "metadata": {},
     "output_type": "display_data"
    }
   ],
   "source": [
    "sns.heatmap(data=cmat,annot=True, fmt=\"d\" ,cmap=\"YlGnBu\" )"
   ]
  },
  {
   "cell_type": "markdown",
   "metadata": {},
   "source": [
    "### tf-idf weighted w2v"
   ]
  },
  {
   "cell_type": "code",
   "execution_count": 62,
   "metadata": {},
   "outputs": [],
   "source": [
    "# training_model.get_latest_training_loss()"
   ]
  },
  {
   "cell_type": "code",
   "execution_count": 63,
   "metadata": {},
   "outputs": [],
   "source": [
    "tfidfmodel = TfidfVectorizer()\n",
    "tf_idf_matrix = tfidfmodel.fit_transform(x_train)\n",
    "tfidf_feat = tfidfmodel.get_feature_names()"
   ]
  },
  {
   "cell_type": "code",
   "execution_count": 64,
   "metadata": {},
   "outputs": [],
   "source": [
    "dictionary = dict(zip(tfidfmodel.get_feature_names(), list(tfidfmodel.idf_)))"
   ]
  },
  {
   "cell_type": "code",
   "execution_count": 65,
   "metadata": {},
   "outputs": [],
   "source": [
    "# dictionary = dict(zip(tfidf.get_feature_names(), list(tfidf.idf_)))"
   ]
  },
  {
   "cell_type": "code",
   "execution_count": 66,
   "metadata": {},
   "outputs": [
    {
     "name": "stderr",
     "output_type": "stream",
     "text": [
      "100%|███████████████████████████████████████████████████████████████████████████| 60000/60000 [01:24<00:00, 708.35it/s]\n"
     ]
    }
   ],
   "source": [
    "weightedtraining = []\n",
    "row=0\n",
    "for everysentence in tqdm(listofsentences):\n",
    "    weighted_sum = 0\n",
    "    sentence = np.zeros(100)\n",
    "    for everyword in everysentence:\n",
    "        if everyword in model_words:\n",
    "            w2v = training_model.wv[everyword]\n",
    "            tf_idf = dictionary[everyword]*(everysentence.count(everyword)/len(everysentence))\n",
    "            sentence += (w2v*tf_idf)\n",
    "            weighted_sum+=tf_idf\n",
    "    \n",
    "    if weighted_sum !=0:\n",
    "        sentence /= weighted_sum\n",
    "    weightedtraining.append(sentence)\n",
    "    row += 1"
   ]
  },
  {
   "cell_type": "code",
   "execution_count": 67,
   "metadata": {},
   "outputs": [
    {
     "name": "stderr",
     "output_type": "stream",
     "text": [
      "100%|███████████████████████████████████████████████████████████████████████████| 20000/20000 [00:30<00:00, 652.26it/s]\n"
     ]
    }
   ],
   "source": [
    "weightedcv = []\n",
    "row=0\n",
    "for everysentence in tqdm(cv_list):\n",
    "    weighted_sum = 0\n",
    "    sentence = np.zeros(100)\n",
    "    for everyword in everysentence:\n",
    "        if everyword in model_words:\n",
    "            w2v = training_model.wv[everyword]\n",
    "            tf_idf = dictionary[everyword]*(everysentence.count(everyword)/len(everysentence))\n",
    "            sentence += (w2v*tf_idf)\n",
    "            weighted_sum+=tf_idf\n",
    "    \n",
    "    if weighted_sum !=0:\n",
    "        sentence /= weighted_sum\n",
    "    weightedcv.append(sentence)\n",
    "    row += 1"
   ]
  },
  {
   "cell_type": "code",
   "execution_count": 68,
   "metadata": {},
   "outputs": [
    {
     "name": "stderr",
     "output_type": "stream",
     "text": [
      "100%|███████████████████████████████████████████████████████████████████████████| 20000/20000 [00:33<00:00, 589.77it/s]\n"
     ]
    }
   ],
   "source": [
    "weightedtest = []\n",
    "row=0\n",
    "for everysentence in tqdm(test_list):\n",
    "    weighted_sum = 0\n",
    "    sentence = np.zeros(100)\n",
    "    for everyword in everysentence:\n",
    "        if everyword in model_words:\n",
    "            w2v = training_model.wv[everyword]\n",
    "            tf_idf = dictionary[everyword]*(everysentence.count(everyword)/len(everysentence))\n",
    "            sentence += (w2v*tf_idf)\n",
    "            weighted_sum+=tf_idf\n",
    "    \n",
    "    if weighted_sum !=0:\n",
    "        sentence /= weighted_sum\n",
    "    weightedtest.append(sentence)\n",
    "    row += 1"
   ]
  },
  {
   "cell_type": "code",
   "execution_count": 155,
   "metadata": {},
   "outputs": [
    {
     "data": {
      "text/plain": [
       "60000"
      ]
     },
     "execution_count": 155,
     "metadata": {},
     "output_type": "execute_result"
    }
   ],
   "source": [
    "len(weightedtraining)"
   ]
  },
  {
   "cell_type": "code",
   "execution_count": 156,
   "metadata": {},
   "outputs": [
    {
     "data": {
      "text/plain": [
       "20000"
      ]
     },
     "execution_count": 156,
     "metadata": {},
     "output_type": "execute_result"
    }
   ],
   "source": [
    "len(weightedcv)"
   ]
  },
  {
   "cell_type": "code",
   "execution_count": 157,
   "metadata": {},
   "outputs": [
    {
     "data": {
      "text/plain": [
       "20000"
      ]
     },
     "execution_count": 157,
     "metadata": {},
     "output_type": "execute_result"
    }
   ],
   "source": [
    "len(weightedtest)"
   ]
  },
  {
   "cell_type": "code",
   "execution_count": 158,
   "metadata": {
    "scrolled": true
   },
   "outputs": [
    {
     "name": "stdout",
     "output_type": "stream",
     "text": [
      "fbetascore for k=5 is [0.86995]\n",
      "fbetascore for k=7 is [0.86995, 0.87345]\n",
      "fbetascore for k=9 is [0.86995, 0.87345, 0.87425]\n",
      "fbetascore for k=11 is [0.86995, 0.87345, 0.87425, 0.8752]\n",
      "fbetascore for k=13 is [0.86995, 0.87345, 0.87425, 0.8752, 0.87455]\n",
      "fbetascore for k=15 is [0.86995, 0.87345, 0.87425, 0.8752, 0.87455, 0.87455]\n",
      "fbetascore for k=17 is [0.86995, 0.87345, 0.87425, 0.8752, 0.87455, 0.87455, 0.8746]\n",
      "fbetascore for k=19 is [0.86995, 0.87345, 0.87425, 0.8752, 0.87455, 0.87455, 0.8746, 0.87465]\n"
     ]
    }
   ],
   "source": [
    "neighbors = [x for x in range(5,20,2)]\n",
    "fbetascorevals=[]\n",
    "for i in neighbors:\n",
    "    knn = KNeighborsClassifier(n_neighbors=i, n_jobs=1, algorithm='brute')\n",
    "    knn.fit(weightedtraining, y_train)\n",
    "    pred = knn.predict(weightedcv)\n",
    "    fbetascorevals.append(fbeta_score(y_cv, pred, average='micro',beta=0.5))\n",
    "    print('fbetascore for k={} is {}'.format(i, fbetascorevals))"
   ]
  },
  {
   "cell_type": "code",
   "execution_count": 159,
   "metadata": {},
   "outputs": [
    {
     "name": "stdout",
     "output_type": "stream",
     "text": [
      "the accuracy for k= 11 is 87%\n"
     ]
    }
   ],
   "source": [
    "knn = KNeighborsClassifier(11)\n",
    "knn.fit(weightedtraining, y_train)\n",
    "pred = knn.predict(weightedtest)\n",
    "fscoreval = f1_score(y_test, pred, average='micro') * float(100)\n",
    "print('the accuracy for k= 11 is %d%%' %(fscoreval))"
   ]
  },
  {
   "cell_type": "code",
   "execution_count": 160,
   "metadata": {},
   "outputs": [
    {
     "data": {
      "text/plain": [
       "Text(0,0.5,'fbetascores')"
      ]
     },
     "execution_count": 160,
     "metadata": {},
     "output_type": "execute_result"
    },
    {
     "data": {
      "image/png": "[encoded data removed]",
      "text/plain": [
       "<Figure size 432x288 with 1 Axes>"
      ]
     },
     "metadata": {},
     "output_type": "display_data"
    }
   ],
   "source": [
    "plt.plot(neighbors, fbetascorevals)\n",
    "plt.xlabel('neighbors')\n",
    "plt.ylabel('fbetascores')"
   ]
  },
  {
   "cell_type": "code",
   "execution_count": 161,
   "metadata": {},
   "outputs": [],
   "source": [
    "cmat = (metrics.confusion_matrix(y_test, pred))"
   ]
  },
  {
   "cell_type": "code",
   "execution_count": 162,
   "metadata": {
    "scrolled": true
   },
   "outputs": [
    {
     "data": {
      "text/plain": [
       "<matplotlib.axes._subplots.AxesSubplot at 0x19727960cf8>"
      ]
     },
     "execution_count": 162,
     "metadata": {},
     "output_type": "execute_result"
    },
    {
     "data": {
      "image/png": "[encoded data removed]",
      "text/plain": [
       "<Figure size 432x288 with 2 Axes>"
      ]
     },
     "metadata": {},
     "output_type": "display_data"
    }
   ],
   "source": [
    "sns.heatmap(data=cmat,annot=True, fmt=\"d\" ,cmap=\"YlGnBu\" )"
   ]
  },
  {
   "cell_type": "markdown",
   "metadata": {},
   "source": [
    "### kd tree"
   ]
  },
  {
   "cell_type": "markdown",
   "metadata": {},
   "source": [
    "#### truncated svd for dense matrix"
   ]
  },
  {
   "cell_type": "code",
   "execution_count": 163,
   "metadata": {},
   "outputs": [],
   "source": [
    "svd = TruncatedSVD(n_components=50, n_iter=7)"
   ]
  },
  {
   "cell_type": "code",
   "execution_count": 164,
   "metadata": {},
   "outputs": [],
   "source": [
    "svd1 = svd.fit(weightedtraining)"
   ]
  },
  {
   "cell_type": "code",
   "execution_count": 165,
   "metadata": {},
   "outputs": [
    {
     "data": {
      "text/plain": [
       "array([[ 6.48990840e-01,  1.73921962e+00, -2.45594037e+00, ...,\n",
       "         5.41265675e-02, -3.05077957e-02,  4.77256325e-02],\n",
       "       [ 3.00193175e-01,  4.27380130e-01, -9.85080979e-01, ...,\n",
       "         1.64731915e-03, -3.02969516e-01,  5.07079848e-01],\n",
       "       [ 3.15903121e-01,  1.13674191e+00, -1.21155568e+00, ...,\n",
       "        -5.10972835e-01, -6.78742276e-02, -3.05048014e-01],\n",
       "       ...,\n",
       "       [ 2.42581689e-01,  9.42652386e-01, -1.27542496e+00, ...,\n",
       "         5.25454924e-02,  1.40579226e-01,  4.98685929e-02],\n",
       "       [-3.49804631e-01, -3.33664002e+00,  1.94571047e+00, ...,\n",
       "        -1.21670670e-02,  1.23348583e-01,  9.21722996e-02],\n",
       "       [ 1.37007146e-01,  2.62713720e+00, -2.40268138e+00, ...,\n",
       "        -2.99650228e-01, -1.55069856e-01, -1.25725314e-01]])"
      ]
     },
     "execution_count": 165,
     "metadata": {},
     "output_type": "execute_result"
    }
   ],
   "source": [
    "densetrain = svd1.transform(weightedtraining)\n",
    "densecv = svd1.transform(weightedcv)\n",
    "densetest - svd1.transform(weightedtest)"
   ]
  },
  {
   "cell_type": "code",
   "execution_count": 166,
   "metadata": {},
   "outputs": [
    {
     "name": "stdout",
     "output_type": "stream",
     "text": [
      "fbetascore for k=5 is [0.8717]\n",
      "fbetascore for k=7 is [0.8717, 0.87385]\n",
      "fbetascore for k=9 is [0.8717, 0.87385, 0.87445]\n",
      "fbetascore for k=11 is [0.8717, 0.87385, 0.87445, 0.8757]\n",
      "fbetascore for k=13 is [0.8717, 0.87385, 0.87445, 0.8757, 0.8755]\n"
     ]
    }
   ],
   "source": [
    "neighbors = [x for x in range(5,15,2)]\n",
    "fbetascorevals=[]\n",
    "for i in neighbors:\n",
    "    knn = KNeighborsClassifier(n_neighbors=i, n_jobs=1, algorithm='kd_tree')\n",
    "    knn.fit(densetrain, y_train)\n",
    "    pred = knn.predict(densecv)\n",
    "    fbetascorevals.append(fbeta_score(y_cv, pred, average='micro',beta=0.5))\n",
    "    print('fbetascore for k={} is {}'.format(i, fbetascorevals))"
   ]
  },
  {
   "cell_type": "code",
   "execution_count": 167,
   "metadata": {},
   "outputs": [
    {
     "data": {
      "text/plain": [
       "Text(0,0.5,'fbetascores')"
      ]
     },
     "execution_count": 167,
     "metadata": {},
     "output_type": "execute_result"
    },
    {
     "data": {
      "image/png": "[encoded data removed]",
      "text/plain": [
       "<Figure size 432x288 with 1 Axes>"
      ]
     },
     "metadata": {},
     "output_type": "display_data"
    }
   ],
   "source": [
    "plt.plot(neighbors, fbetascorevals)\n",
    "plt.xlabel('neighbors')\n",
    "plt.ylabel('fbetascores')"
   ]
  },
  {
   "cell_type": "code",
   "execution_count": 168,
   "metadata": {},
   "outputs": [
    {
     "name": "stdout",
     "output_type": "stream",
     "text": [
      "the accuracy for k= 11 is 86%\n"
     ]
    }
   ],
   "source": [
    "knn = KNeighborsClassifier(11)\n",
    "knn.fit(densetrain, y_train)\n",
    "pred = knn.predict(densetest)\n",
    "fscoreval = f1_score(y_test, pred, average='micro') * float(100)\n",
    "print('the accuracy for k= 11 is %d%%' %(fscoreval))"
   ]
  },
  {
   "cell_type": "markdown",
   "metadata": {},
   "source": [
    "### precision and recall"
   ]
  },
  {
   "cell_type": "code",
   "execution_count": 174,
   "metadata": {},
   "outputs": [],
   "source": [
    "precision = precision_score(y_test, pred, average='micro')*100.00\n",
    "recall = recall_score(y_test, pred, average='micro')*100.00"
   ]
  },
  {
   "cell_type": "code",
   "execution_count": 175,
   "metadata": {},
   "outputs": [
    {
     "name": "stdout",
     "output_type": "stream",
     "text": [
      "the values of precision and recall is 86% and 86%\n"
     ]
    }
   ],
   "source": [
    "print('the values of precision and recall is %d%% and %d%%' %(precision, recall))"
   ]
  },
  {
   "cell_type": "markdown",
   "metadata": {},
   "source": [
    "### F1 scores"
   ]
  },
  {
   "cell_type": "code",
   "execution_count": 176,
   "metadata": {},
   "outputs": [
    {
     "data": {
      "text/plain": [
       "0.86305"
      ]
     },
     "execution_count": 176,
     "metadata": {},
     "output_type": "execute_result"
    }
   ],
   "source": [
    "f1_score(y_test, pred, average='micro')"
   ]
  },
  {
   "cell_type": "code",
   "execution_count": 177,
   "metadata": {},
   "outputs": [],
   "source": [
    "cmat = (metrics.confusion_matrix(y_test, pred))"
   ]
  },
  {
   "cell_type": "code",
   "execution_count": 178,
   "metadata": {},
   "outputs": [
    {
     "data": {
      "text/plain": [
       "<matplotlib.axes._subplots.AxesSubplot at 0x19727ab84e0>"
      ]
     },
     "execution_count": 178,
     "metadata": {},
     "output_type": "execute_result"
    },
    {
     "data": {
      "image/png": "[encoded data removed]",
      "text/plain": [
       "<Figure size 432x288 with 2 Axes>"
      ]
     },
     "metadata": {},
     "output_type": "display_data"
    }
   ],
   "source": [
    "sns.heatmap(data=cmat,annot=True, fmt=\"d\" ,cmap=\"YlGnBu\" )"
   ]
  },
  {
   "cell_type": "markdown",
   "metadata": {},
   "source": [
    "### OBSERVATIONS:\n",
    "\n",
    "   VECTORIZER--------------------MODEL-------HYPERPARAMETER------------FBETA/F1_SCORE FOR TRAIN AND TEST\n",
    "\n",
    "1. BOW------------------------BRUTE-------------11------------------------------------------86/87\n",
    "2. TFIDF-----------------------BRUTE--------------7-----------------------------------------86/86\n",
    "3. AVGW2V--------------------BRUTE------------13--------------------------------------------88/88\n",
    "4. TFIDFW2V------------------BRUTE------------11--------------------------------------------87/87\n",
    "\n",
    "\n",
    "'''----------------------------------------------------------------------------------------------------------------''''\n",
    "\n",
    "   VECTORIZER--------------------MODEL-------HYPERPARAMETER------------FBETA/F1_SCORE FOR TRAIN AND TEST\n",
    "\n",
    "1. BOW-------------------------KDTREE--------------11------------------------------------------86/87\n",
    "2. TFIDF------------------------KDTREE---------------11------------------------------------------86/86\n",
    "3. AVGW2V---------------------KDTREE-------------11------------------------------------------88/88\n",
    "4. TFIDFW2V-------------------KDTREE-------------11------------------------------------------87/86\n",
    "\n"
   ]
  },
  {
   "cell_type": "markdown",
   "metadata": {},
   "source": [
    "### pickled for future use:"
   ]
  },
  {
   "cell_type": "code",
   "execution_count": 69,
   "metadata": {},
   "outputs": [],
   "source": [
    "import pickle\n",
    "pickle_out = open('tfidfw2v_train.pkl', 'wb')\n",
    "pickle.dump(weightedtraining, pickle_out)"
   ]
  },
  {
   "cell_type": "code",
   "execution_count": 70,
   "metadata": {},
   "outputs": [],
   "source": [
    "import pickle\n",
    "pickle_out = open('tfidfw2v_test.pkl', 'wb')\n",
    "pickle.dump(weightedtest, pickle_out)"
   ]
  },
  {
   "cell_type": "code",
   "execution_count": 71,
   "metadata": {},
   "outputs": [],
   "source": [
    "import pickle\n",
    "pickle_out = open('tfidfw2v_cv.pkl', 'wb')\n",
    "pickle.dump(weightedcv, pickle_out)"
   ]
  },
  {
   "cell_type": "code",
   "execution_count": 59,
   "metadata": {},
   "outputs": [],
   "source": [
    "import pickle\n",
    "pickle_out = open('avgw2v_train.pkl', 'wb')\n",
    "pickle.dump(training, pickle_out)"
   ]
  },
  {
   "cell_type": "code",
   "execution_count": 60,
   "metadata": {},
   "outputs": [],
   "source": [
    "import pickle\n",
    "pickle_out = open('avgw2v_test.pkl', 'wb')\n",
    "pickle.dump(testing, pickle_out)"
   ]
  },
  {
   "cell_type": "code",
   "execution_count": 61,
   "metadata": {},
   "outputs": [],
   "source": [
    "import pickle\n",
    "pickle_out = open('avgw2v_cv.pkl', 'wb')\n",
    "pickle.dump(cv, pickle_out)"
   ]
  },
  {
   "cell_type": "code",
   "execution_count": 48,
   "metadata": {},
   "outputs": [],
   "source": [
    "import pickle\n",
    "pickle_out = open('train_tfidf.pkl', 'wb')\n",
    "pickle.dump(x_train_tfidf, pickle_out)"
   ]
  },
  {
   "cell_type": "code",
   "execution_count": 48,
   "metadata": {},
   "outputs": [],
   "source": [
    "import pickle\n",
    "pickle_out = open('test_tfidf.pkl', 'wb')\n",
    "pickle.dump(x_test_tfidf, pickle_out)"
   ]
  },
  {
   "cell_type": "code",
   "execution_count": 48,
   "metadata": {},
   "outputs": [],
   "source": [
    "import pickle\n",
    "pickle_out = open('cv_tfidf.pkl', 'wb')\n",
    "pickle.dump(x_cv_tfidf, pickle_out)"
   ]
  },
  {
   "cell_type": "code",
   "execution_count": 25,
   "metadata": {},
   "outputs": [],
   "source": [
    "import pickle\n",
    "pickleout = open('train_bow_count.pkl', 'wb')\n",
    "pickle.dump(train_bow_count, pickleout)"
   ]
  },
  {
   "cell_type": "code",
   "execution_count": 25,
   "metadata": {},
   "outputs": [],
   "source": [
    "import pickle\n",
    "pickleout = open('test_bow_count.pkl', 'wb')\n",
    "pickle.dump(test_bow_count, pickleout)"
   ]
  },
  {
   "cell_type": "code",
   "execution_count": 25,
   "metadata": {},
   "outputs": [],
   "source": [
    "import pickle\n",
    "pickleout = open('cv_bow_count.pkl', 'wb')\n",
    "pickle.dump(cv_bow_count, pickleout)"
   ]
  },
  {
   "cell_type": "code",
   "execution_count": null,
   "metadata": {},
   "outputs": [],
   "source": []
  }
 ],
 "metadata": {
  "kernelspec": {
   "display_name": "Python 3",
   "language": "python",
   "name": "python3"
  },
  "language_info": {
   "codemirror_mode": {
    "name": "ipython",
    "version": 3
   },
   "file_extension": ".py",
   "mimetype": "text/x-python",
   "name": "python",
   "nbconvert_exporter": "python",
   "pygments_lexer": "ipython3",
   "version": "3.6.7"
  }
 },
 "nbformat": 4,
 "nbformat_minor": 2
}
