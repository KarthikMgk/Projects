{
 "cells": [
  {
   "cell_type": "code",
   "execution_count": 1,
   "metadata": {
    "ExecuteTime": {
     "end_time": "2019-02-18T15:43:46.920272Z",
     "start_time": "2019-02-18T15:43:45.367238Z"
    }
   },
   "outputs": [],
   "source": [
    "import numpy as np\n",
    "import pandas as pd\n",
    "import matplotlib.pyplot as plt\n",
    "import seaborn as sns\n",
    "from sklearn.naive_bayes import MultinomialNB\n",
    "from sklearn.feature_extraction.text import TfidfVectorizer, CountVectorizer\n",
    "from sklearn.model_selection import train_test_split\n",
    "from sklearn.model_selection import cross_val_score\n",
    "from sklearn.model_selection import train_test_split\n",
    "from sklearn.metrics import accuracy_score\n",
    "from tqdm import tqdm\n",
    "import sqlite3\n",
    "import os"
   ]
  },
  {
   "cell_type": "code",
   "execution_count": 2,
   "metadata": {
    "ExecuteTime": {
     "end_time": "2019-02-18T15:43:47.705569Z",
     "start_time": "2019-02-18T15:43:47.702578Z"
    }
   },
   "outputs": [],
   "source": [
    "from sklearn.metrics import precision_score,recall_score,confusion_matrix,f1_score,fbeta_score,accuracy_score,roc_auc_score,roc_curve"
   ]
  },
  {
   "cell_type": "code",
   "execution_count": 3,
   "metadata": {
    "ExecuteTime": {
     "end_time": "2019-02-18T15:43:48.749273Z",
     "start_time": "2019-02-18T15:43:48.647443Z"
    }
   },
   "outputs": [],
   "source": [
    "con = sqlite3.connect('C:/Users/karth/Desktop/AML/All Assignments/Assignment K-nn on Amazon Fine Food Reviews/final.sqlite')"
   ]
  },
  {
   "cell_type": "code",
   "execution_count": 4,
   "metadata": {
    "ExecuteTime": {
     "end_time": "2019-02-18T15:43:59.222400Z",
     "start_time": "2019-02-18T15:43:51.110145Z"
    }
   },
   "outputs": [],
   "source": [
    "df = pd.read_sql_query('''\n",
    "SELECT * FROM Reviews\n",
    "WHERE SCORE !=3\n",
    "''', con)"
   ]
  },
  {
   "cell_type": "code",
   "execution_count": 5,
   "metadata": {
    "ExecuteTime": {
     "end_time": "2019-02-18T15:43:59.231244Z",
     "start_time": "2019-02-18T15:43:59.224235Z"
    }
   },
   "outputs": [
    {
     "data": {
      "text/plain": [
       "(364173, 12)"
      ]
     },
     "execution_count": 5,
     "metadata": {},
     "output_type": "execute_result"
    }
   ],
   "source": [
    "df.shape"
   ]
  },
  {
   "cell_type": "markdown",
   "metadata": {},
   "source": [
    "### Time based sorting"
   ]
  },
  {
   "cell_type": "code",
   "execution_count": 6,
   "metadata": {
    "ExecuteTime": {
     "end_time": "2019-02-18T15:44:00.713187Z",
     "start_time": "2019-02-18T15:44:00.437921Z"
    }
   },
   "outputs": [],
   "source": [
    "df = df.sort_values('Time', axis=0)"
   ]
  },
  {
   "cell_type": "markdown",
   "metadata": {},
   "source": [
    "### Replacing scores"
   ]
  },
  {
   "cell_type": "code",
   "execution_count": 7,
   "metadata": {
    "ExecuteTime": {
     "end_time": "2019-02-18T15:44:01.246131Z",
     "start_time": "2019-02-18T15:44:01.239117Z"
    }
   },
   "outputs": [],
   "source": [
    "df.Score.replace(to_replace=[1,2],value=0, inplace=True)"
   ]
  },
  {
   "cell_type": "code",
   "execution_count": 8,
   "metadata": {
    "ExecuteTime": {
     "end_time": "2019-02-18T15:44:01.659814Z",
     "start_time": "2019-02-18T15:44:01.653803Z"
    }
   },
   "outputs": [],
   "source": [
    "df.Score.replace(to_replace=[4,5], value=1, inplace=True)"
   ]
  },
  {
   "cell_type": "code",
   "execution_count": 9,
   "metadata": {
    "ExecuteTime": {
     "end_time": "2019-02-18T15:44:03.270737Z",
     "start_time": "2019-02-18T15:44:03.255747Z"
    },
    "scrolled": true
   },
   "outputs": [
    {
     "data": {
      "text/plain": [
       "1    307063\n",
       "0     57110\n",
       "Name: Score, dtype: int64"
      ]
     },
     "execution_count": 9,
     "metadata": {},
     "output_type": "execute_result"
    }
   ],
   "source": [
    "df.Score.value_counts()"
   ]
  },
  {
   "cell_type": "code",
   "execution_count": 10,
   "metadata": {
    "ExecuteTime": {
     "end_time": "2019-02-18T15:44:05.097510Z",
     "start_time": "2019-02-18T15:44:05.093520Z"
    }
   },
   "outputs": [],
   "source": [
    "CleanedText = df.CleanedText[0:100000]"
   ]
  },
  {
   "cell_type": "code",
   "execution_count": 11,
   "metadata": {
    "ExecuteTime": {
     "end_time": "2019-02-18T15:44:05.406518Z",
     "start_time": "2019-02-18T15:44:05.401559Z"
    }
   },
   "outputs": [
    {
     "data": {
      "text/plain": [
       "(100000,)"
      ]
     },
     "execution_count": 11,
     "metadata": {},
     "output_type": "execute_result"
    }
   ],
   "source": [
    "CleanedText.shape"
   ]
  },
  {
   "cell_type": "code",
   "execution_count": 12,
   "metadata": {
    "ExecuteTime": {
     "end_time": "2019-02-18T15:44:15.001964Z",
     "start_time": "2019-02-18T15:44:14.997975Z"
    }
   },
   "outputs": [],
   "source": [
    "x = df.Score[60000:80000]"
   ]
  },
  {
   "cell_type": "code",
   "execution_count": 13,
   "metadata": {
    "ExecuteTime": {
     "end_time": "2019-02-18T15:44:15.372408Z",
     "start_time": "2019-02-18T15:44:15.367423Z"
    }
   },
   "outputs": [
    {
     "data": {
      "text/plain": [
       "(20000,)"
      ]
     },
     "execution_count": 13,
     "metadata": {},
     "output_type": "execute_result"
    }
   ],
   "source": [
    "x.shape"
   ]
  },
  {
   "cell_type": "code",
   "execution_count": 14,
   "metadata": {
    "ExecuteTime": {
     "end_time": "2019-02-18T15:44:15.757715Z",
     "start_time": "2019-02-18T15:44:15.752729Z"
    }
   },
   "outputs": [],
   "source": [
    "y = pd.DataFrame(data=x,)"
   ]
  },
  {
   "cell_type": "code",
   "execution_count": 15,
   "metadata": {
    "ExecuteTime": {
     "end_time": "2019-02-18T15:44:16.253048Z",
     "start_time": "2019-02-18T15:44:16.246068Z"
    }
   },
   "outputs": [
    {
     "data": {
      "text/plain": [
       "1    17258\n",
       "0     2742\n",
       "Name: Score, dtype: int64"
      ]
     },
     "execution_count": 15,
     "metadata": {},
     "output_type": "execute_result"
    }
   ],
   "source": [
    "y.Score.value_counts()"
   ]
  },
  {
   "cell_type": "code",
   "execution_count": 16,
   "metadata": {
    "ExecuteTime": {
     "end_time": "2019-02-18T15:44:21.561756Z",
     "start_time": "2019-02-18T15:44:21.557767Z"
    }
   },
   "outputs": [],
   "source": [
    "x_train = CleanedText[0:60000]\n",
    "x_cv = CleanedText[60000:80000]\n",
    "x_test = CleanedText[80000:100000]\n",
    "\n",
    "y_train = df.Score.values[0:60000]\n",
    "y_cv = df.Score.values[60000:80000]\n",
    "y_test = df.Score.values[80000:100000]"
   ]
  },
  {
   "cell_type": "markdown",
   "metadata": {},
   "source": [
    "### Bag of words"
   ]
  },
  {
   "cell_type": "code",
   "execution_count": 17,
   "metadata": {
    "ExecuteTime": {
     "end_time": "2019-02-18T15:44:22.537525Z",
     "start_time": "2019-02-18T15:44:22.533536Z"
    }
   },
   "outputs": [],
   "source": [
    "countvect = CountVectorizer(max_features=2000, min_df=5)"
   ]
  },
  {
   "cell_type": "code",
   "execution_count": 18,
   "metadata": {
    "ExecuteTime": {
     "end_time": "2019-02-18T15:44:24.958618Z",
     "start_time": "2019-02-18T15:44:23.077282Z"
    }
   },
   "outputs": [],
   "source": [
    "bow = countvect.fit(x_train)"
   ]
  },
  {
   "cell_type": "code",
   "execution_count": 19,
   "metadata": {
    "ExecuteTime": {
     "end_time": "2019-02-18T15:44:28.523131Z",
     "start_time": "2019-02-18T15:44:26.885519Z"
    }
   },
   "outputs": [],
   "source": [
    "train_bowcount = bow.transform(x_train)"
   ]
  },
  {
   "cell_type": "code",
   "execution_count": 20,
   "metadata": {
    "ExecuteTime": {
     "end_time": "2019-02-18T15:44:29.090613Z",
     "start_time": "2019-02-18T15:44:28.525016Z"
    }
   },
   "outputs": [],
   "source": [
    "test_bowcount = bow.transform(x_test)"
   ]
  },
  {
   "cell_type": "code",
   "execution_count": 21,
   "metadata": {
    "ExecuteTime": {
     "end_time": "2019-02-18T15:44:29.678805Z",
     "start_time": "2019-02-18T15:44:29.092499Z"
    }
   },
   "outputs": [],
   "source": [
    "cv_bowcount = bow.transform(x_cv)"
   ]
  },
  {
   "cell_type": "code",
   "execution_count": 22,
   "metadata": {
    "ExecuteTime": {
     "end_time": "2019-02-18T15:44:30.506980Z",
     "start_time": "2019-02-18T15:44:30.501992Z"
    }
   },
   "outputs": [
    {
     "data": {
      "text/plain": [
       "<60000x2000 sparse matrix of type '<class 'numpy.int64'>'\n",
       "\twith 1542762 stored elements in Compressed Sparse Row format>"
      ]
     },
     "execution_count": 22,
     "metadata": {},
     "output_type": "execute_result"
    }
   ],
   "source": [
    "train_bowcount"
   ]
  },
  {
   "cell_type": "markdown",
   "metadata": {},
   "source": [
    "### naive bayes  - training"
   ]
  },
  {
   "cell_type": "raw",
   "metadata": {},
   "source": [
    "I chose multinomail NB as  multinomial Naive Bayes classifier is suitable for classification with discrete features (e.g., word counts for text classification(from the sklearn documentation) and as the description is what we are doing as assignment"
   ]
  },
  {
   "cell_type": "code",
   "execution_count": 23,
   "metadata": {
    "ExecuteTime": {
     "end_time": "2019-02-18T15:44:50.554447Z",
     "start_time": "2019-02-18T15:44:50.550457Z"
    }
   },
   "outputs": [],
   "source": [
    "alpha = [0.0001,0.001, 0.01, 0.1, 1, 10, 100, 1000, 10000]"
   ]
  },
  {
   "cell_type": "code",
   "execution_count": 24,
   "metadata": {
    "ExecuteTime": {
     "end_time": "2019-02-18T15:44:51.894707Z",
     "start_time": "2019-02-18T15:44:51.496034Z"
    },
    "scrolled": true
   },
   "outputs": [
    {
     "name": "stdout",
     "output_type": "stream",
     "text": [
      "f1_score for alpha=0.0001 is 89.595\n",
      "f1_score for alpha=0.001 is 89.59\n",
      "f1_score for alpha=0.01 is 89.59\n",
      "f1_score for alpha=0.1 is 89.60000000000001\n",
      "f1_score for alpha=1 is 89.605\n",
      "f1_score for alpha=10 is 89.56\n",
      "f1_score for alpha=100 is 88.36500000000001\n",
      "f1_score for alpha=1000 is 86.285\n",
      "f1_score for alpha=10000 is 86.29\n"
     ]
    }
   ],
   "source": [
    "f1=[]\n",
    "count = 0\n",
    "for i in alpha:\n",
    "    nbc = MultinomialNB(alpha=i)\n",
    "    nbc.fit(train_bowcount, y_train)\n",
    "    pred = nbc.predict(cv_bowcount)\n",
    "    f1.append(f1_score(y_cv, pred, average='micro')*(100))\n",
    "    print('f1_score for alpha={} is {}'.format(i, ((f1[count]))))\n",
    "    count +=1"
   ]
  },
  {
   "cell_type": "code",
   "execution_count": 25,
   "metadata": {
    "ExecuteTime": {
     "end_time": "2019-02-18T15:44:59.511839Z",
     "start_time": "2019-02-18T15:44:58.932532Z"
    },
    "scrolled": true
   },
   "outputs": [
    {
     "data": {
      "text/plain": [
       "Text(0.5,1,'ALPHA VS F1 SCORE')"
      ]
     },
     "execution_count": 25,
     "metadata": {},
     "output_type": "execute_result"
    },
    {
     "data": {
      "image/png": "[encoded data removed]",
      "text/plain": [
       "<Figure size 432x288 with 1 Axes>"
      ]
     },
     "metadata": {},
     "output_type": "display_data"
    }
   ],
   "source": [
    "plt.plot(alpha, f1)\n",
    "plt.xlabel(\"alphas\")\n",
    "plt.ylabel(\"f1\")\n",
    "plt.title('ALPHA VS F1 SCORE')"
   ]
  },
  {
   "cell_type": "code",
   "execution_count": 26,
   "metadata": {
    "ExecuteTime": {
     "end_time": "2019-02-18T15:45:12.852614Z",
     "start_time": "2019-02-18T15:45:12.805018Z"
    }
   },
   "outputs": [
    {
     "name": "stdout",
     "output_type": "stream",
     "text": [
      "86.29 is the precision\n",
      "100.0 is the recall\n",
      "92.6405067368082 is the f1 score\n"
     ]
    }
   ],
   "source": [
    "print(precision_score(y_cv, pred)*100, 'is the precision')\n",
    "print(recall_score(y_cv, pred)*100, 'is the recall')\n",
    "print(f1_score(y_cv, pred)*100, 'is the f1 score')\n",
    "# print(roc_auc_score(y_test, pred), 'is the roc_auc_score')"
   ]
  },
  {
   "cell_type": "code",
   "execution_count": 27,
   "metadata": {
    "ExecuteTime": {
     "end_time": "2019-02-18T15:45:22.013845Z",
     "start_time": "2019-02-18T15:45:22.006868Z"
    }
   },
   "outputs": [
    {
     "data": {
      "text/plain": [
       "86.29"
      ]
     },
     "execution_count": 27,
     "metadata": {},
     "output_type": "execute_result"
    }
   ],
   "source": [
    "accuracy_score(y_cv, pred, normalize=True)*100"
   ]
  },
  {
   "cell_type": "raw",
   "metadata": {},
   "source": [
    "We can infer from the graph the optimal aplha = 1"
   ]
  },
  {
   "cell_type": "code",
   "execution_count": 28,
   "metadata": {
    "ExecuteTime": {
     "end_time": "2019-02-18T15:45:23.656352Z",
     "start_time": "2019-02-18T15:45:23.624439Z"
    }
   },
   "outputs": [],
   "source": [
    "cmat = (confusion_matrix(y_cv, pred))"
   ]
  },
  {
   "cell_type": "code",
   "execution_count": 29,
   "metadata": {
    "ExecuteTime": {
     "end_time": "2019-02-18T15:45:24.534722Z",
     "start_time": "2019-02-18T15:45:24.373685Z"
    }
   },
   "outputs": [
    {
     "data": {
      "text/plain": [
       "<matplotlib.axes._subplots.AxesSubplot at 0x27790e33ac8>"
      ]
     },
     "execution_count": 29,
     "metadata": {},
     "output_type": "execute_result"
    },
    {
     "data": {
      "image/png": "[encoded data removed]",
      "text/plain": [
       "<Figure size 432x288 with 2 Axes>"
      ]
     },
     "metadata": {},
     "output_type": "display_data"
    }
   ],
   "source": [
    "sns.heatmap(data=cmat,annot=True, fmt=\"d\" ,cmap=\"YlGnBu\" )"
   ]
  },
  {
   "cell_type": "markdown",
   "metadata": {},
   "source": [
    "### Testing"
   ]
  },
  {
   "cell_type": "code",
   "execution_count": 30,
   "metadata": {
    "ExecuteTime": {
     "end_time": "2019-02-18T15:46:34.102976Z",
     "start_time": "2019-02-18T15:46:34.054107Z"
    }
   },
   "outputs": [
    {
     "name": "stdout",
     "output_type": "stream",
     "text": [
      "f1score for alpha=0.01 in test data is 89\n"
     ]
    }
   ],
   "source": [
    "nbc = MultinomialNB(alpha=1)\n",
    "nbc.fit(train_bowcount, y_train)\n",
    "pred = nbc.predict(test_bowcount)\n",
    "f1 = f1_score(y_test, pred, average='micro')*float(100)\n",
    "print('f1score for alpha=0.01 in test data is %d' %(f1))"
   ]
  },
  {
   "cell_type": "code",
   "execution_count": 31,
   "metadata": {
    "ExecuteTime": {
     "end_time": "2019-02-18T15:46:37.942894Z",
     "start_time": "2019-02-18T15:46:37.926935Z"
    }
   },
   "outputs": [],
   "source": [
    "cmat = confusion_matrix(y_test, pred)"
   ]
  },
  {
   "cell_type": "code",
   "execution_count": 32,
   "metadata": {
    "ExecuteTime": {
     "end_time": "2019-02-18T15:46:39.086089Z",
     "start_time": "2019-02-18T15:46:38.932501Z"
    }
   },
   "outputs": [
    {
     "data": {
      "text/plain": [
       "<matplotlib.axes._subplots.AxesSubplot at 0x27786c96ba8>"
      ]
     },
     "execution_count": 32,
     "metadata": {},
     "output_type": "execute_result"
    },
    {
     "data": {
      "image/png": "[encoded data removed]",
      "text/plain": [
       "<Figure size 432x288 with 2 Axes>"
      ]
     },
     "metadata": {},
     "output_type": "display_data"
    }
   ],
   "source": [
    "sns.heatmap(data=cmat,annot=True, fmt=\"d\" ,cmap=\"YlGnBu\" )"
   ]
  },
  {
   "cell_type": "code",
   "execution_count": 33,
   "metadata": {
    "ExecuteTime": {
     "end_time": "2019-02-18T15:46:43.881569Z",
     "start_time": "2019-02-18T15:46:43.846659Z"
    }
   },
   "outputs": [
    {
     "name": "stdout",
     "output_type": "stream",
     "text": [
      "94.52432654498504 is the precision\n",
      "92.95855939051137 is the recall\n",
      "93.73490469954896 is the f1 score\n",
      "0.790335055740889 is the roc_auc_score\n"
     ]
    }
   ],
   "source": [
    "print(precision_score(y_test, pred)*100, 'is the precision')\n",
    "print(recall_score(y_test, pred)*100, 'is the recall')\n",
    "print(f1_score(y_test, pred)*100, 'is the f1 score')\n",
    "print(roc_auc_score(y_test, pred), 'is the roc_auc_score')"
   ]
  },
  {
   "cell_type": "code",
   "execution_count": 34,
   "metadata": {
    "ExecuteTime": {
     "end_time": "2019-02-18T15:46:55.484318Z",
     "start_time": "2019-02-18T15:46:55.476317Z"
    }
   },
   "outputs": [
    {
     "data": {
      "text/plain": [
       "89.235"
      ]
     },
     "execution_count": 34,
     "metadata": {},
     "output_type": "execute_result"
    }
   ],
   "source": [
    "accuracy_score(y_test, pred, normalize=True)*100"
   ]
  },
  {
   "cell_type": "code",
   "execution_count": 35,
   "metadata": {
    "ExecuteTime": {
     "end_time": "2019-02-18T15:47:01.386886Z",
     "start_time": "2019-02-18T15:47:01.382897Z"
    }
   },
   "outputs": [],
   "source": [
    "from sklearn.metrics import roc_curve"
   ]
  },
  {
   "cell_type": "code",
   "execution_count": 36,
   "metadata": {
    "ExecuteTime": {
     "end_time": "2019-02-18T15:47:03.483294Z",
     "start_time": "2019-02-18T15:47:03.479305Z"
    }
   },
   "outputs": [],
   "source": [
    "from sklearn import metrics"
   ]
  },
  {
   "cell_type": "code",
   "execution_count": 37,
   "metadata": {
    "ExecuteTime": {
     "end_time": "2019-02-18T15:47:13.291257Z",
     "start_time": "2019-02-18T15:47:13.285276Z"
    }
   },
   "outputs": [],
   "source": [
    "fpr, tpr, threshold = roc_curve(y_test, pred)"
   ]
  },
  {
   "cell_type": "code",
   "execution_count": 38,
   "metadata": {
    "ExecuteTime": {
     "end_time": "2019-02-18T15:47:15.991123Z",
     "start_time": "2019-02-18T15:47:15.987135Z"
    }
   },
   "outputs": [],
   "source": [
    "roc_auc = metrics.auc(fpr, tpr)"
   ]
  },
  {
   "cell_type": "code",
   "execution_count": 39,
   "metadata": {
    "ExecuteTime": {
     "end_time": "2019-02-18T15:47:22.052471Z",
     "start_time": "2019-02-18T15:47:21.924816Z"
    }
   },
   "outputs": [
    {
     "data": {
      "image/png": "[encoded data removed]",
      "text/plain": [
       "<Figure size 432x288 with 1 Axes>"
      ]
     },
     "metadata": {},
     "output_type": "display_data"
    }
   ],
   "source": [
    "import matplotlib.pyplot as plt\n",
    "plt.title('Receiver Operating Characteristic')\n",
    "plt.plot(fpr, tpr, 'b', label = 'AUC = %0.3f' % roc_auc)\n",
    "plt.legend(loc = 'lower right')\n",
    "plt.plot([0, 1], [0, 1],'r--')\n",
    "plt.xlim([0, 1])\n",
    "plt.ylim([0, 1])\n",
    "plt.ylabel('True Positive Rate')\n",
    "plt.xlabel('False Positive Rate')\n",
    "plt.show()"
   ]
  },
  {
   "cell_type": "markdown",
   "metadata": {},
   "source": [
    "### Tf-idf approach"
   ]
  },
  {
   "cell_type": "code",
   "execution_count": 49,
   "metadata": {},
   "outputs": [],
   "source": [
    "tfidfvect = TfidfVectorizer(max_features=5000, min_df=2)"
   ]
  },
  {
   "cell_type": "code",
   "execution_count": 50,
   "metadata": {},
   "outputs": [],
   "source": [
    "tfidf = tfidfvect.fit(x_train)"
   ]
  },
  {
   "cell_type": "code",
   "execution_count": 51,
   "metadata": {},
   "outputs": [],
   "source": [
    "train_tfidf = tfidf.transform(x_train)\n",
    "test_tfidf = tfidf.transform(x_test)\n",
    "cv_tfidf = tfidf.transform(x_cv)"
   ]
  },
  {
   "cell_type": "code",
   "execution_count": 52,
   "metadata": {},
   "outputs": [
    {
     "data": {
      "text/plain": [
       "(60000, 5000)"
      ]
     },
     "execution_count": 52,
     "metadata": {},
     "output_type": "execute_result"
    }
   ],
   "source": [
    "train_tfidf.shape"
   ]
  },
  {
   "cell_type": "code",
   "execution_count": 53,
   "metadata": {},
   "outputs": [
    {
     "data": {
      "text/plain": [
       "(20000, 5000)"
      ]
     },
     "execution_count": 53,
     "metadata": {},
     "output_type": "execute_result"
    }
   ],
   "source": [
    "test_tfidf.shape"
   ]
  },
  {
   "cell_type": "code",
   "execution_count": 54,
   "metadata": {},
   "outputs": [
    {
     "data": {
      "text/plain": [
       "(20000, 5000)"
      ]
     },
     "execution_count": 54,
     "metadata": {},
     "output_type": "execute_result"
    }
   ],
   "source": [
    "cv_tfidf.shape"
   ]
  },
  {
   "cell_type": "markdown",
   "metadata": {},
   "source": [
    "### naive bayes - training"
   ]
  },
  {
   "cell_type": "code",
   "execution_count": 55,
   "metadata": {
    "scrolled": true
   },
   "outputs": [
    {
     "name": "stdout",
     "output_type": "stream",
     "text": [
      "fbeta_score for alpha=0.001 is 0.8829\n",
      "fbeta_score for alpha=0.01 is 0.88295\n",
      "fbeta_score for alpha=0.01 is 0.88295\n",
      "fbeta_score for alpha=0.1 is 0.88285\n",
      "fbeta_score for alpha=1 is 0.8785\n",
      "fbeta_score for alpha=10 is 0.8632\n"
     ]
    }
   ],
   "source": [
    "F1=[]\n",
    "count = 0\n",
    "for i in (alpha):\n",
    "    nbc = MultinomialNB(alpha=i)\n",
    "    nbc.fit(train_tfidf, y_train)\n",
    "    pred = nbc.predict(cv_tfidf)\n",
    "    F1.append(f1_score(y_cv, pred, average='micro'))\n",
    "    print('fbeta_score for alpha={} is {}'.format(i, (F1[count])))\n",
    "    count +=1"
   ]
  },
  {
   "cell_type": "code",
   "execution_count": 56,
   "metadata": {
    "scrolled": true
   },
   "outputs": [
    {
     "data": {
      "text/plain": [
       "Text(0.5,1,'ALPHA VS F1')"
      ]
     },
     "execution_count": 56,
     "metadata": {},
     "output_type": "execute_result"
    },
    {
     "data": {
      "image/png": "[encoded data removed]",
      "text/plain": [
       "<Figure size 432x288 with 1 Axes>"
      ]
     },
     "metadata": {},
     "output_type": "display_data"
    }
   ],
   "source": [
    "plt.plot(alpha, F1)\n",
    "plt.xlabel('alpha values')\n",
    "plt.ylabel('f1 scores')\n",
    "plt.title('ALPHA VS F1')"
   ]
  },
  {
   "cell_type": "code",
   "execution_count": 57,
   "metadata": {},
   "outputs": [],
   "source": [
    "cmat = (confusion_matrix(y_cv, pred))"
   ]
  },
  {
   "cell_type": "code",
   "execution_count": 58,
   "metadata": {
    "scrolled": true
   },
   "outputs": [
    {
     "data": {
      "text/plain": [
       "<matplotlib.axes._subplots.AxesSubplot at 0x2bc657f7518>"
      ]
     },
     "execution_count": 58,
     "metadata": {},
     "output_type": "execute_result"
    },
    {
     "data": {
      "image/png": "[encoded data removed]",
      "text/plain": [
       "<Figure size 432x288 with 2 Axes>"
      ]
     },
     "metadata": {},
     "output_type": "display_data"
    }
   ],
   "source": [
    "sns.heatmap(data=cmat,annot=True, fmt=\"d\" ,cmap=\"YlGnBu\" )"
   ]
  },
  {
   "cell_type": "markdown",
   "metadata": {},
   "source": [
    "### testing"
   ]
  },
  {
   "cell_type": "code",
   "execution_count": 59,
   "metadata": {},
   "outputs": [
    {
     "name": "stdout",
     "output_type": "stream",
     "text": [
      "f1 score for the optimal alpha is 88.44999999999999\n"
     ]
    }
   ],
   "source": [
    "nbc = MultinomialNB(alpha=0.01)\n",
    "nbc.fit(train_tfidf, y_train)\n",
    "pred = nbc.predict(test_tfidf)\n",
    "f1score = f1_score(y_test, pred, average='micro')*100\n",
    "print('f1 score for the optimal alpha is {}'.format(f1score))"
   ]
  },
  {
   "cell_type": "code",
   "execution_count": 60,
   "metadata": {},
   "outputs": [],
   "source": [
    "cmat = (confusion_matrix(y_test, pred))"
   ]
  },
  {
   "cell_type": "code",
   "execution_count": 61,
   "metadata": {
    "scrolled": true
   },
   "outputs": [
    {
     "data": {
      "text/plain": [
       "<matplotlib.axes._subplots.AxesSubplot at 0x2bc762da048>"
      ]
     },
     "execution_count": 61,
     "metadata": {},
     "output_type": "execute_result"
    },
    {
     "data": {
      "image/png": "[encoded data removed]",
      "text/plain": [
       "<Figure size 432x288 with 2 Axes>"
      ]
     },
     "metadata": {},
     "output_type": "display_data"
    }
   ],
   "source": [
    "sns.heatmap(data=cmat,annot=True, fmt=\"d\" ,cmap=\"YlGnBu\" )"
   ]
  },
  {
   "cell_type": "code",
   "execution_count": 62,
   "metadata": {},
   "outputs": [
    {
     "name": "stdout",
     "output_type": "stream",
     "text": [
      "88.43948392381733 is the precision\n",
      "99.69987302320213 is the recall\n",
      "93.73270389060718 is the f1 score\n"
     ]
    }
   ],
   "source": [
    "print(precision_score(y_test, pred)*100, 'is the precision')\n",
    "print(recall_score(y_test, pred)*100, 'is the recall')\n",
    "print(f1_score(y_test, pred)*100, 'is the f1 score')"
   ]
  },
  {
   "cell_type": "code",
   "execution_count": 63,
   "metadata": {
    "scrolled": true
   },
   "outputs": [
    {
     "data": {
      "text/plain": [
       "84.61"
      ]
     },
     "execution_count": 63,
     "metadata": {},
     "output_type": "execute_result"
    }
   ],
   "source": [
    "accuracy_score(y_cv, pred, normalize=True)*100"
   ]
  },
  {
   "cell_type": "markdown",
   "metadata": {},
   "source": [
    "### Since our model is underfitting badly, We will use SMOTE and nearmiss for upsampling and downsampling\n",
    "### and reduce the high bias in our model"
   ]
  },
  {
   "cell_type": "markdown",
   "metadata": {},
   "source": [
    "### SMOTE"
   ]
  },
  {
   "cell_type": "code",
   "execution_count": 89,
   "metadata": {},
   "outputs": [],
   "source": [
    "from collections import Counter"
   ]
  },
  {
   "cell_type": "code",
   "execution_count": 64,
   "metadata": {},
   "outputs": [],
   "source": [
    "from sklearn.linear_model import LogisticRegression"
   ]
  },
  {
   "cell_type": "code",
   "execution_count": 100,
   "metadata": {},
   "outputs": [],
   "source": [
    "from imblearn.over_sampling import SMOTE\n",
    "from imblearn.under_sampling import NearMiss"
   ]
  },
  {
   "cell_type": "code",
   "execution_count": 101,
   "metadata": {},
   "outputs": [],
   "source": [
    "smote = SMOTE(n_jobs=2, random_state=10, ratio=1.0)"
   ]
  },
  {
   "cell_type": "code",
   "execution_count": 102,
   "metadata": {},
   "outputs": [],
   "source": [
    "x_sampled,y_sampled = smote.fit_resample(train_tfidf, y_train)"
   ]
  },
  {
   "cell_type": "code",
   "execution_count": 103,
   "metadata": {},
   "outputs": [
    {
     "data": {
      "text/plain": [
       "(106294, 5000)"
      ]
     },
     "execution_count": 103,
     "metadata": {},
     "output_type": "execute_result"
    }
   ],
   "source": [
    "x_sampled.shape"
   ]
  },
  {
   "cell_type": "code",
   "execution_count": 104,
   "metadata": {},
   "outputs": [
    {
     "data": {
      "text/plain": [
       "(106294,)"
      ]
     },
     "execution_count": 104,
     "metadata": {},
     "output_type": "execute_result"
    }
   ],
   "source": [
    "y_sampled.shape"
   ]
  },
  {
   "cell_type": "code",
   "execution_count": 92,
   "metadata": {},
   "outputs": [
    {
     "data": {
      "text/plain": [
       "Counter({1: 53147, 0: 53147})"
      ]
     },
     "execution_count": 92,
     "metadata": {},
     "output_type": "execute_result"
    }
   ],
   "source": [
    "Counter(y_sampled)"
   ]
  },
  {
   "cell_type": "code",
   "execution_count": 119,
   "metadata": {},
   "outputs": [
    {
     "name": "stdout",
     "output_type": "stream",
     "text": [
      "accuracy score for alpha=0.0001 is 86.235\n",
      "accuracy score for alpha=0.001 is 86.21\n",
      "accuracy score for alpha=0.01 is 86.24000000000001\n",
      "accuracy score for alpha=0.1 is 86.28\n",
      "accuracy score for alpha=1 is 86.15\n",
      "accuracy score for alpha=10 is 85.61\n"
     ]
    }
   ],
   "source": [
    "accuracy=[]\n",
    "count = 0\n",
    "for i in (alpha):\n",
    "    nbc = MultinomialNB(alpha=i)\n",
    "    nbc.fit(x_sampled, y_sampled)\n",
    "    pred = nbc.predict(cv_tfidf)\n",
    "    accuracy.append(accuracy_score(y_cv, pred, normalize=True)*100)\n",
    "    print('accuracy score for alpha={} is {}'.format(i, accuracy[count]))\n",
    "    count +=1"
   ]
  },
  {
   "cell_type": "code",
   "execution_count": 120,
   "metadata": {
    "scrolled": true
   },
   "outputs": [
    {
     "data": {
      "text/plain": [
       "[<matplotlib.lines.Line2D at 0x2bc7edb3cf8>]"
      ]
     },
     "execution_count": 120,
     "metadata": {},
     "output_type": "execute_result"
    },
    {
     "data": {
      "image/png": "[encoded data removed]",
      "text/plain": [
       "<Figure size 432x288 with 1 Axes>"
      ]
     },
     "metadata": {},
     "output_type": "display_data"
    }
   ],
   "source": [
    "plt.plot(alpha, accuracy)"
   ]
  },
  {
   "cell_type": "code",
   "execution_count": 121,
   "metadata": {},
   "outputs": [
    {
     "name": "stdout",
     "output_type": "stream",
     "text": [
      "97.16609813697193 is the precision on cv set\n",
      "85.8268629041604 is the recall on cv set\n",
      "94.66472377738579 is the fbeta score on cv set\n"
     ]
    }
   ],
   "source": [
    "print(precision_score(y_cv, pred)*100, 'is the precision on cv set')\n",
    "print(recall_score(y_cv, pred)*100, 'is the recall on cv set')\n",
    "print(fbeta_score(y_cv, pred, beta=0.5)*100, 'is the fbeta score on cv set')"
   ]
  },
  {
   "cell_type": "code",
   "execution_count": 122,
   "metadata": {},
   "outputs": [],
   "source": [
    "cmat = (confusion_matrix(y_cv, pred))"
   ]
  },
  {
   "cell_type": "code",
   "execution_count": 123,
   "metadata": {
    "scrolled": true
   },
   "outputs": [
    {
     "data": {
      "text/plain": [
       "<matplotlib.axes._subplots.AxesSubplot at 0x2bc7f524cc0>"
      ]
     },
     "execution_count": 123,
     "metadata": {},
     "output_type": "execute_result"
    },
    {
     "data": {
      "image/png": "[encoded data removed]",
      "text/plain": [
       "<Figure size 432x288 with 2 Axes>"
      ]
     },
     "metadata": {},
     "output_type": "display_data"
    }
   ],
   "source": [
    "sns.heatmap(data=cmat,annot=True, fmt=\"d\" ,cmap=\"YlGnBu\" )"
   ]
  },
  {
   "cell_type": "code",
   "execution_count": 143,
   "metadata": {},
   "outputs": [
    {
     "name": "stdout",
     "output_type": "stream",
     "text": [
      "f1 score for the optimal alpha is 85.485\n"
     ]
    }
   ],
   "source": [
    "nbc = MultinomialNB(alpha=0.1)\n",
    "nbc.fit(x_sampled, y_sampled)\n",
    "pred = nbc.predict(test_tfidf)\n",
    "f1score = f1_score(y_test, pred, average='micro')*100\n",
    "print('f1 score for the optimal alpha is {}'.format(f1score))"
   ]
  },
  {
   "cell_type": "code",
   "execution_count": 144,
   "metadata": {},
   "outputs": [
    {
     "name": "stdout",
     "output_type": "stream",
     "text": [
      "96.5528371312375 is the precision on test set\n",
      "86.32690753780446 is the recall on test set\n",
      "94.31832513557826 is the fbeta score on test set\n"
     ]
    }
   ],
   "source": [
    "print(precision_score(y_test, pred)*100, 'is the precision on test set')\n",
    "print(recall_score(y_test, pred)*100, 'is the recall on test set')\n",
    "print(fbeta_score(y_test, pred, beta=0.5)*100, 'is the fbeta score on test set')"
   ]
  },
  {
   "cell_type": "code",
   "execution_count": 145,
   "metadata": {},
   "outputs": [],
   "source": [
    "cmat = (confusion_matrix(y_test, pred))"
   ]
  },
  {
   "cell_type": "code",
   "execution_count": 146,
   "metadata": {},
   "outputs": [
    {
     "data": {
      "text/plain": [
       "<matplotlib.axes._subplots.AxesSubplot at 0x2bc6938e2b0>"
      ]
     },
     "execution_count": 146,
     "metadata": {},
     "output_type": "execute_result"
    },
    {
     "data": {
      "image/png": "[encoded data removed]",
      "text/plain": [
       "<Figure size 432x288 with 2 Axes>"
      ]
     },
     "metadata": {},
     "output_type": "display_data"
    }
   ],
   "source": [
    "sns.heatmap(data=cmat,annot=True, fmt=\"d\" ,cmap=\"YlGnBu\" )"
   ]
  },
  {
   "cell_type": "markdown",
   "metadata": {},
   "source": [
    "### nearmiss"
   ]
  },
  {
   "cell_type": "code",
   "execution_count": 147,
   "metadata": {},
   "outputs": [],
   "source": [
    "nm = NearMiss(n_jobs=2)"
   ]
  },
  {
   "cell_type": "code",
   "execution_count": 148,
   "metadata": {},
   "outputs": [],
   "source": [
    "x_down,y_down = nm.fit_resample(train_tfidf, y_train)"
   ]
  },
  {
   "cell_type": "code",
   "execution_count": 149,
   "metadata": {},
   "outputs": [
    {
     "data": {
      "text/plain": [
       "Counter({0: 6853, 1: 6853})"
      ]
     },
     "execution_count": 149,
     "metadata": {},
     "output_type": "execute_result"
    }
   ],
   "source": [
    "Counter(y_down)"
   ]
  },
  {
   "cell_type": "code",
   "execution_count": 153,
   "metadata": {},
   "outputs": [
    {
     "name": "stdout",
     "output_type": "stream",
     "text": [
      "accuracy score for alpha=0.001 is 68.05499999999999\n",
      "accuracy score for alpha=0.01 is 68.375\n",
      "accuracy score for alpha=0.1 is 69.16499999999999\n",
      "accuracy score for alpha=1 is 71.655\n",
      "accuracy score for alpha=10 is 74.65\n",
      "accuracy score for alpha=100 is 76.31\n",
      "accuracy score for alpha=1000 is 76.34\n",
      "accuracy score for alpha=10000 is 76.28\n"
     ]
    }
   ],
   "source": [
    "alphai=[0.001,0.01,0.1,1,10,100,1000,10000]\n",
    "accuracy =[]\n",
    "count = 0\n",
    "for i in (alphai):\n",
    "    nbc = MultinomialNB(alpha=i)\n",
    "    nbc.fit(x_down, y_down)\n",
    "    pred = nbc.predict(cv_tfidf)\n",
    "    accuracy.append(accuracy_score(y_cv, pred, normalize=True)*100)\n",
    "    print('accuracy score for alpha={} is {}'.format(i, (accuracy[count])))\n",
    "    count +=1"
   ]
  },
  {
   "cell_type": "code",
   "execution_count": 154,
   "metadata": {},
   "outputs": [
    {
     "data": {
      "text/plain": [
       "Text(0,0.5,'accuracy')"
      ]
     },
     "execution_count": 154,
     "metadata": {},
     "output_type": "execute_result"
    },
    {
     "data": {
      "image/png": "[encoded data removed]",
      "text/plain": [
       "<Figure size 432x288 with 1 Axes>"
      ]
     },
     "metadata": {},
     "output_type": "display_data"
    }
   ],
   "source": [
    "plt.plot(alphai, accuracy)\n",
    "plt.xlabel('alpha values')\n",
    "plt.ylabel('accuracy')"
   ]
  },
  {
   "cell_type": "code",
   "execution_count": 155,
   "metadata": {},
   "outputs": [
    {
     "name": "stdout",
     "output_type": "stream",
     "text": [
      "f1 score for the optimal alpha is 76.015\n"
     ]
    }
   ],
   "source": [
    "nbc = MultinomialNB(alpha=1000)\n",
    "nbc.fit(x_down, y_down)\n",
    "pred = nbc.predict(test_tfidf)\n",
    "f1score = f1_score(y_test, pred, average='micro')*100\n",
    "print('f1 score for the optimal alpha is {}'.format(f1score))"
   ]
  },
  {
   "cell_type": "code",
   "execution_count": 156,
   "metadata": {},
   "outputs": [],
   "source": [
    "cmat = (confusion_matrix(y_test, pred))"
   ]
  },
  {
   "cell_type": "code",
   "execution_count": 157,
   "metadata": {},
   "outputs": [
    {
     "data": {
      "text/plain": [
       "<matplotlib.axes._subplots.AxesSubplot at 0x2bc6e011f98>"
      ]
     },
     "execution_count": 157,
     "metadata": {},
     "output_type": "execute_result"
    },
    {
     "data": {
      "image/png": "[encoded data removed]",
      "text/plain": [
       "<Figure size 432x288 with 2 Axes>"
      ]
     },
     "metadata": {},
     "output_type": "display_data"
    }
   ],
   "source": [
    "sns.heatmap(data=cmat,annot=True, fmt=\"d\" ,cmap=\"YlGnBu\" )"
   ]
  },
  {
   "cell_type": "markdown",
   "metadata": {},
   "source": [
    "# feature selection part"
   ]
  },
  {
   "cell_type": "markdown",
   "metadata": {},
   "source": [
    "### finding feature importance for positive and negative reviews"
   ]
  },
  {
   "cell_type": "code",
   "execution_count": 25,
   "metadata": {},
   "outputs": [],
   "source": [
    "positivereviews = df[df.Score == 1]"
   ]
  },
  {
   "cell_type": "code",
   "execution_count": 26,
   "metadata": {},
   "outputs": [
    {
     "data": {
      "text/plain": [
       "(307063, 12)"
      ]
     },
     "execution_count": 26,
     "metadata": {},
     "output_type": "execute_result"
    }
   ],
   "source": [
    "positivereviews.shape"
   ]
  },
  {
   "cell_type": "code",
   "execution_count": 27,
   "metadata": {},
   "outputs": [
    {
     "data": {
      "text/plain": [
       "1    307063\n",
       "Name: Score, dtype: int64"
      ]
     },
     "execution_count": 27,
     "metadata": {},
     "output_type": "execute_result"
    }
   ],
   "source": [
    "positivereviews.Score.value_counts()"
   ]
  },
  {
   "cell_type": "code",
   "execution_count": 28,
   "metadata": {},
   "outputs": [],
   "source": [
    "pos_y = positivereviews.Score"
   ]
  },
  {
   "cell_type": "code",
   "execution_count": 29,
   "metadata": {},
   "outputs": [
    {
     "data": {
      "text/plain": [
       "(307063,)"
      ]
     },
     "execution_count": 29,
     "metadata": {},
     "output_type": "execute_result"
    }
   ],
   "source": [
    "pos_y.shape"
   ]
  },
  {
   "cell_type": "code",
   "execution_count": 30,
   "metadata": {},
   "outputs": [
    {
     "data": {
      "text/plain": [
       "1    307063\n",
       "Name: Score, dtype: int64"
      ]
     },
     "execution_count": 30,
     "metadata": {},
     "output_type": "execute_result"
    }
   ],
   "source": [
    "pos_y.value_counts()"
   ]
  },
  {
   "cell_type": "code",
   "execution_count": 31,
   "metadata": {},
   "outputs": [],
   "source": [
    "negativereviews = df[df.Score == 0]"
   ]
  },
  {
   "cell_type": "code",
   "execution_count": 32,
   "metadata": {},
   "outputs": [],
   "source": [
    "neg_y = negativereviews.Score"
   ]
  },
  {
   "cell_type": "code",
   "execution_count": 33,
   "metadata": {},
   "outputs": [
    {
     "data": {
      "text/plain": [
       "0    57110\n",
       "Name: Score, dtype: int64"
      ]
     },
     "execution_count": 33,
     "metadata": {},
     "output_type": "execute_result"
    }
   ],
   "source": [
    "negativereviews.Score.value_counts()"
   ]
  },
  {
   "cell_type": "code",
   "execution_count": 34,
   "metadata": {},
   "outputs": [],
   "source": [
    "countvect = CountVectorizer(stop_words='english', min_df=3)"
   ]
  },
  {
   "cell_type": "code",
   "execution_count": 35,
   "metadata": {},
   "outputs": [],
   "source": [
    "positivebow = countvect.fit(positivereviews.CleanedText)"
   ]
  },
  {
   "cell_type": "code",
   "execution_count": 36,
   "metadata": {},
   "outputs": [],
   "source": [
    "pos_xtrain = positivebow.transform(positivereviews.CleanedText)"
   ]
  },
  {
   "cell_type": "markdown",
   "metadata": {},
   "source": [
    "### nb classifier"
   ]
  },
  {
   "cell_type": "code",
   "execution_count": 37,
   "metadata": {},
   "outputs": [
    {
     "data": {
      "text/plain": [
       "MultinomialNB(alpha=0, class_prior=None, fit_prior=True)"
      ]
     },
     "execution_count": 37,
     "metadata": {},
     "output_type": "execute_result"
    }
   ],
   "source": [
    "import warnings\n",
    "warnings.filterwarnings('ignore')\n",
    "nb = MultinomialNB(alpha=0)\n",
    "nb.fit(pos_xtrain, pos_y)"
   ]
  },
  {
   "cell_type": "markdown",
   "metadata": {},
   "source": [
    "### decision tree classifier"
   ]
  },
  {
   "cell_type": "code",
   "execution_count": 48,
   "metadata": {},
   "outputs": [],
   "source": [
    "from sklearn.tree import DecisionTreeClassifier"
   ]
  },
  {
   "cell_type": "code",
   "execution_count": 49,
   "metadata": {},
   "outputs": [],
   "source": [
    "clf = DecisionTreeClassifier()"
   ]
  },
  {
   "cell_type": "code",
   "execution_count": 50,
   "metadata": {},
   "outputs": [
    {
     "data": {
      "text/plain": [
       "DecisionTreeClassifier(class_weight=None, criterion='gini', max_depth=None,\n",
       "            max_features=None, max_leaf_nodes=None,\n",
       "            min_impurity_decrease=0.0, min_impurity_split=None,\n",
       "            min_samples_leaf=1, min_samples_split=2,\n",
       "            min_weight_fraction_leaf=0.0, presort=False, random_state=None,\n",
       "            splitter='best')"
      ]
     },
     "execution_count": 50,
     "metadata": {},
     "output_type": "execute_result"
    }
   ],
   "source": [
    "clf.fit(pos_xtrain, pos_y)"
   ]
  },
  {
   "cell_type": "code",
   "execution_count": 38,
   "metadata": {},
   "outputs": [
    {
     "data": {
      "text/plain": [
       "1    307063\n",
       "Name: Score, dtype: int64"
      ]
     },
     "execution_count": 38,
     "metadata": {},
     "output_type": "execute_result"
    }
   ],
   "source": [
    "positivereviews.Score.value_counts()"
   ]
  },
  {
   "cell_type": "code",
   "execution_count": 39,
   "metadata": {},
   "outputs": [],
   "source": [
    "features = positivebow.get_feature_names()"
   ]
  },
  {
   "cell_type": "code",
   "execution_count": 40,
   "metadata": {},
   "outputs": [
    {
     "data": {
      "text/plain": [
       "24660"
      ]
     },
     "execution_count": 40,
     "metadata": {},
     "output_type": "execute_result"
    }
   ],
   "source": [
    "len(features)"
   ]
  },
  {
   "cell_type": "code",
   "execution_count": 41,
   "metadata": {},
   "outputs": [
    {
     "data": {
      "text/plain": [
       "array([[-12.86799744, -15.02748169, -13.48703665, ..., -13.9288694 ,\n",
       "        -14.04665244, -15.02748169],\n",
       "       [-10.11293778, -10.11293778, -10.11293778, ..., -10.11293778,\n",
       "        -10.11293778, -10.11293778]])"
      ]
     },
     "execution_count": 41,
     "metadata": {},
     "output_type": "execute_result"
    }
   ],
   "source": [
    "nb.coef_"
   ]
  },
  {
   "cell_type": "code",
   "execution_count": 42,
   "metadata": {},
   "outputs": [],
   "source": [
    "poscoef = nb.coef_"
   ]
  },
  {
   "cell_type": "code",
   "execution_count": 43,
   "metadata": {},
   "outputs": [],
   "source": [
    "posfeaturelog = nb.feature_log_prob_"
   ]
  },
  {
   "cell_type": "code",
   "execution_count": 44,
   "metadata": {},
   "outputs": [
    {
     "data": {
      "text/plain": [
       "(2, 24660)"
      ]
     },
     "execution_count": 44,
     "metadata": {},
     "output_type": "execute_result"
    }
   ],
   "source": [
    "posfeaturelog.shape"
   ]
  },
  {
   "cell_type": "code",
   "execution_count": 45,
   "metadata": {},
   "outputs": [
    {
     "data": {
      "text/plain": [
       "array([[-12.86799744, -15.02748169, -13.48703665, ..., -13.9288694 ,\n",
       "        -14.04665244, -15.02748169],\n",
       "       [-10.11293778, -10.11293778, -10.11293778, ..., -10.11293778,\n",
       "        -10.11293778, -10.11293778]])"
      ]
     },
     "execution_count": 45,
     "metadata": {},
     "output_type": "execute_result"
    }
   ],
   "source": [
    "nb.feature_log_prob_"
   ]
  },
  {
   "cell_type": "code",
   "execution_count": 46,
   "metadata": {},
   "outputs": [],
   "source": [
    "def show_most_informative_features(vectorizer, clf, n=20):\n",
    "    feature_names = vectorizer.get_feature_names()\n",
    "    feature_log_with_fns = sorted(zip(clf.feature_log_prob_[0], feature_names))\n",
    "    top = zip(feature_log_with_fns[:n], feature_log_with_fns[:-(n + 1):-1])\n",
    "    for (coef_1, fn_1), (coef_2, fn_2) in top:\n",
    "        print (\"\\t%.4f\\t%-15s\\t\\t%.4f\\t%-15s\" % (coef_1, fn_1, coef_2, fn_2))"
   ]
  },
  {
   "cell_type": "code",
   "execution_count": 47,
   "metadata": {
    "scrolled": false
   },
   "outputs": [
    {
     "name": "stdout",
     "output_type": "stream",
     "text": [
      "\t-15.0275\taaaah          \t\t-4.2812\tlike           \n",
      "\t-15.0275\taarp           \t\t-4.3596\ttast           \n",
      "\t-15.0275\tabb            \t\t-4.4937\tgood           \n",
      "\t-15.0275\tabe            \t\t-4.5233\tflavor         \n",
      "\t-15.0275\taberdeen       \t\t-4.5421\tlove           \n",
      "\t-15.0275\tablaz          \t\t-4.5756\tgreat          \n",
      "\t-15.0275\tablut          \t\t-4.5756\tuse            \n",
      "\t-15.0275\tabotu          \t\t-4.6174\tproduct        \n",
      "\t-15.0275\tabouy          \t\t-4.7551\ttri            \n",
      "\t-15.0275\tabrad          \t\t-4.7910\ttea            \n",
      "\t-15.0275\tabraham        \t\t-4.8531\tcoffe          \n",
      "\t-15.0275\tabsens         \t\t-4.8999\tmake           \n",
      "\t-15.0275\tabsolu         \t\t-5.0486\tfood           \n",
      "\t-15.0275\tacc            \t\t-5.1528\tamazon         \n",
      "\t-15.0275\tacces          \t\t-5.2070\ttime           \n",
      "\t-15.0275\taccompany      \t\t-5.2261\tbuy            \n",
      "\t-15.0275\tacct           \t\t-5.2539\trealli         \n",
      "\t-15.0275\taccupuncturist \t\t-5.2676\teat            \n",
      "\t-15.0275\tacd            \t\t-5.3314\tprice          \n",
      "\t-15.0275\tacerb          \t\t-5.3579\tbest           \n"
     ]
    }
   ],
   "source": [
    "(show_most_informative_features(positivebow, nb))"
   ]
  },
  {
   "cell_type": "code",
   "execution_count": 52,
   "metadata": {},
   "outputs": [],
   "source": [
    "def show_most_informative_features(vectorizer, clf, n=20):\n",
    "    feature_names = vectorizer.get_feature_names()\n",
    "    feature_log_with_fns = sorted(zip(clf.feature_importances_, feature_names))\n",
    "    top = zip(feature_log_with_fns[:n], feature_log_with_fns[:-(n + 1):-1])\n",
    "    for (coef_1, fn_1), (coef_2, fn_2) in top:\n",
    "        print (\"\\t%.4f\\t%-15s\\t\\t%.4f\\t%-15s\" % (coef_1, fn_1, coef_2, fn_2))"
   ]
  },
  {
   "cell_type": "code",
   "execution_count": 53,
   "metadata": {
    "scrolled": true
   },
   "outputs": [
    {
     "name": "stdout",
     "output_type": "stream",
     "text": [
      "\t0.0000\taaa            \t\t0.0000\tzzz            \n",
      "\t0.0000\taaaah          \t\t0.0000\tzyrtec         \n",
      "\t0.0000\taaah           \t\t0.0000\tzym            \n",
      "\t0.0000\taaf            \t\t0.0000\tzylitol        \n",
      "\t0.0000\taafco          \t\t0.0000\tzwieback       \n",
      "\t0.0000\taah            \t\t0.0000\tzurich         \n",
      "\t0.0000\taamazon        \t\t0.0000\tzupreem        \n",
      "\t0.0000\taand           \t\t0.0000\tzumba          \n",
      "\t0.0000\taarp           \t\t0.0000\tzulu           \n",
      "\t0.0000\tab             \t\t0.0000\tzuko           \n",
      "\t0.0000\taback          \t\t0.0000\tzuke           \n",
      "\t0.0000\tabandon        \t\t0.0000\tzuchinni       \n",
      "\t0.0000\tabat           \t\t0.0000\tzuchini        \n",
      "\t0.0000\tabb            \t\t0.0000\tzuccini        \n",
      "\t0.0000\tabba           \t\t0.0000\tzucchini       \n",
      "\t0.0000\tabbey          \t\t0.0000\tzsweet         \n",
      "\t0.0000\tabbi           \t\t0.0000\tzowi           \n",
      "\t0.0000\tabbott         \t\t0.0000\tzout           \n",
      "\t0.0000\tabbrevi        \t\t0.0000\tzour           \n",
      "\t0.0000\tabc            \t\t0.0000\tzotz           \n"
     ]
    }
   ],
   "source": [
    "show_most_informative_features(positivebow, clf)"
   ]
  },
  {
   "cell_type": "code",
   "execution_count": 183,
   "metadata": {},
   "outputs": [],
   "source": [
    "negativebow = countvect.fit(negativereviews.CleanedText)"
   ]
  },
  {
   "cell_type": "code",
   "execution_count": 184,
   "metadata": {},
   "outputs": [],
   "source": [
    "neg_xtrain = negativebow.transform(negativereviews.CleanedText)"
   ]
  },
  {
   "cell_type": "code",
   "execution_count": 185,
   "metadata": {},
   "outputs": [
    {
     "data": {
      "text/plain": [
       "MultinomialNB(alpha=0, class_prior=None, fit_prior=True)"
      ]
     },
     "execution_count": 185,
     "metadata": {},
     "output_type": "execute_result"
    }
   ],
   "source": [
    "nbc = MultinomialNB(alpha=0)\n",
    "nbc.fit(neg_xtrain, negativereviews.Score)"
   ]
  },
  {
   "cell_type": "code",
   "execution_count": 186,
   "metadata": {},
   "outputs": [
    {
     "data": {
      "text/plain": [
       "array([[-11.95069641, -12.43620422, -11.0191382 , ..., -11.47112333,\n",
       "        -10.58382013, -13.1293514 ],\n",
       "       [ -9.41262794,  -9.41262794,  -9.41262794, ...,  -9.41262794,\n",
       "         -9.41262794,  -9.41262794]])"
      ]
     },
     "execution_count": 186,
     "metadata": {},
     "output_type": "execute_result"
    }
   ],
   "source": [
    "nbc.feature_log_prob_"
   ]
  },
  {
   "cell_type": "code",
   "execution_count": 187,
   "metadata": {},
   "outputs": [],
   "source": [
    "def show_most_informative_features(vectorizer, clf, n=20):\n",
    "    feature_names = vectorizer.get_feature_names()\n",
    "    feature_log_with_fns = sorted(zip(clf.feature_log_prob_[0], feature_names))\n",
    "    top = zip(feature_log_with_fns[:n], feature_log_with_fns[:-(n + 1):-1])\n",
    "    for (coef_1, fn_1), (coef_2, fn_2) in top:\n",
    "        print (\"\\t%.4f\\t%-15s\\t\\t%.4f\\t%-15s\" % (coef_1, fn_1, coef_2, fn_2))"
   ]
  },
  {
   "cell_type": "code",
   "execution_count": 188,
   "metadata": {
    "scrolled": true
   },
   "outputs": [
    {
     "name": "stdout",
     "output_type": "stream",
     "text": [
      "\t-13.4170\tabat           \t\t-4.0652\ttast           \n",
      "\t-13.4170\tabhorr         \t\t-4.1323\tlike           \n",
      "\t-13.4170\tabsorbt        \t\t-4.2218\tproduct        \n",
      "\t-13.4170\tacademi        \t\t-4.6360\tflavor         \n",
      "\t-13.4170\taccentu        \t\t-4.7315\ttri            \n",
      "\t-13.4170\tacct           \t\t-4.8802\tuse            \n",
      "\t-13.4170\tacidifi        \t\t-4.8984\tgood           \n",
      "\t-13.4170\tack            \t\t-4.9215\tcoffe          \n",
      "\t-13.4170\tadaptogen      \t\t-4.9869\tbuy            \n",
      "\t-13.4170\tadept          \t\t-5.0535\torder          \n",
      "\t-13.4170\tadio           \t\t-5.0637\tfood           \n",
      "\t-13.4170\tadit           \t\t-5.1540\ttea            \n",
      "\t-13.4170\tadorn          \t\t-5.1740\tamazon         \n",
      "\t-13.4170\tadrenalin      \t\t-5.2276\tbox            \n",
      "\t-13.4170\tadvent         \t\t-5.3218\tmake           \n",
      "\t-13.4170\tadvisori       \t\t-5.3263\ttime           \n",
      "\t-13.4170\taerosol        \t\t-5.3406\tbag            \n",
      "\t-13.4170\taffirm         \t\t-5.3557\teat            \n",
      "\t-13.4170\taffront        \t\t-5.3684\trealli         \n",
      "\t-13.4170\tagian          \t\t-5.4185\tlook           \n"
     ]
    }
   ],
   "source": [
    "show_most_informative_features(negativebow, nbc)"
   ]
  },
  {
   "cell_type": "code",
   "execution_count": null,
   "metadata": {},
   "outputs": [],
   "source": []
  },
  {
   "cell_type": "code",
   "execution_count": 44,
   "metadata": {
    "ExecuteTime": {
     "end_time": "2019-02-18T16:20:16.072881Z",
     "start_time": "2019-02-18T16:20:16.069889Z"
    }
   },
   "outputs": [],
   "source": [
    "hyperparam = [0.00001, 0.0001, 0.001,0.01,0.1,1,10,100,1000,10000, 100000]"
   ]
  },
  {
   "cell_type": "code",
   "execution_count": 46,
   "metadata": {
    "ExecuteTime": {
     "end_time": "2019-02-18T16:22:18.232705Z",
     "start_time": "2019-02-18T16:22:18.227718Z"
    }
   },
   "outputs": [
    {
     "data": {
      "text/plain": [
       "(60000, 2000)"
      ]
     },
     "execution_count": 46,
     "metadata": {},
     "output_type": "execute_result"
    }
   ],
   "source": [
    "train_bowcount.shape"
   ]
  },
  {
   "cell_type": "code",
   "execution_count": 45,
   "metadata": {
    "ExecuteTime": {
     "end_time": "2019-02-18T16:20:18.333166Z",
     "start_time": "2019-02-18T16:20:17.475536Z"
    }
   },
   "outputs": [
    {
     "name": "stdout",
     "output_type": "stream",
     "text": [
      "For alpha = 1e-05 \n",
      "AUC on train: 0.912\n",
      "AUC on Cross Validation: 0.907\n",
      "===============\n",
      "For alpha = 0.0001 \n",
      "AUC on train: 0.912\n",
      "AUC on Cross Validation: 0.907\n",
      "===============\n",
      "For alpha = 0.001 \n",
      "AUC on train: 0.912\n",
      "AUC on Cross Validation: 0.906\n",
      "===============\n",
      "For alpha = 0.01 \n",
      "AUC on train: 0.912\n",
      "AUC on Cross Validation: 0.906\n",
      "===============\n",
      "For alpha = 0.1 \n",
      "AUC on train: 0.912\n",
      "AUC on Cross Validation: 0.906\n",
      "===============\n",
      "For alpha = 1 \n",
      "AUC on train: 0.912\n",
      "AUC on Cross Validation: 0.907\n",
      "===============\n",
      "For alpha = 10 \n",
      "AUC on train: 0.909\n",
      "AUC on Cross Validation: 0.906\n",
      "===============\n",
      "For alpha = 100 \n",
      "AUC on train: 0.828\n",
      "AUC on Cross Validation: 0.826\n",
      "===============\n",
      "For alpha = 1000 \n",
      "AUC on train: 0.605\n",
      "AUC on Cross Validation: 0.598\n",
      "===============\n",
      "For alpha = 10000 \n",
      "AUC on train: 0.553\n",
      "AUC on Cross Validation: 0.547\n",
      "===============\n",
      "For alpha = 100000 \n",
      "AUC on train: 0.543\n",
      "AUC on Cross Validation: 0.537\n",
      "===============\n"
     ]
    }
   ],
   "source": [
    "auc_vals=[] #saving auc values for graph plot\n",
    "for i in hyperparam:\n",
    "    print(\"For alpha = {} \".format(i))\n",
    "    nb = MultinomialNB(alpha=i)\n",
    "\n",
    "    # fitting the model on crossvalidation train\n",
    "    nb.fit(train_bowcount, y_train)\n",
    "\n",
    "    # predict probabilities\n",
    "    probs_train = nb.predict_proba(train_bowcount)\n",
    "    probs_cv = nb.predict_proba(cv_bowcount)\n",
    "\n",
    "    # keep probabilities for the positive outcome only\n",
    "    probs_train = probs_train[:, 1]\n",
    "    probs_cv = probs_cv[:, 1]\n",
    "\n",
    "    # calculate AUC\n",
    "    auc_train = roc_auc_score(y_train, probs_train)\n",
    "    auc_cv= roc_auc_score(y_cv, probs_cv)\n",
    "    \n",
    "    print('AUC on train: %.3f' % auc_train)\n",
    "    print('AUC on Cross Validation: %.3f' % auc_cv)\n",
    "    auc_vals.append((auc_train,auc_cv))\n",
    "    print(\"=\"*15)"
   ]
  },
  {
   "cell_type": "code",
   "execution_count": null,
   "metadata": {},
   "outputs": [],
   "source": []
  }
 ],
 "metadata": {
  "kernelspec": {
   "display_name": "Python 3",
   "language": "python",
   "name": "python3"
  },
  "language_info": {
   "codemirror_mode": {
    "name": "ipython",
    "version": 3
   },
   "file_extension": ".py",
   "mimetype": "text/x-python",
   "name": "python",
   "nbconvert_exporter": "python",
   "pygments_lexer": "ipython3",
   "version": "3.6.7"
  }
 },
 "nbformat": 4,
 "nbformat_minor": 2
}
