{
 "cells": [
  {
   "cell_type": "markdown",
   "metadata": {},
   "source": [
    "# Amazon Fine Food Reviews Analysis\n",
    "\n",
    "\n",
    "Data Source: https://www.kaggle.com/snap/amazon-fine-food-reviews <br>\n",
    "\n",
    "EDA: https://nycdatascience.com/blog/student-works/amazon-fine-foods-visualization/\n",
    "\n",
    "\n",
    "The Amazon Fine Food Reviews dataset consists of reviews of fine foods from Amazon.<br>\n",
    "\n",
    "Number of reviews: 568,454<br>\n",
    "Number of users: 256,059<br>\n",
    "Number of products: 74,258<br>\n",
    "Timespan: Oct 1999 - Oct 2012<br>\n",
    "Number of Attributes/Columns in data: 10 \n",
    "\n",
    "Attribute Information:\n",
    "\n",
    "1. Id\n",
    "2. ProductId - unique identifier for the product\n",
    "3. UserId - unqiue identifier for the user\n",
    "4. ProfileName\n",
    "5. HelpfulnessNumerator - number of users who found the review helpful\n",
    "6. HelpfulnessDenominator - number of users who indicated whether they found the review helpful or not\n",
    "7. Score - rating between 1 and 5\n",
    "8. Time - timestamp for the review\n",
    "9. Summary - brief summary of the review\n",
    "10. Text - text of the review\n",
    "\n",
    "\n",
    "#### Objective:\n",
    "Given a review, determine whether the review is positive (rating of 4 or 5) or negative (rating of 1 or 2).\n",
    "\n",
    "<br>\n",
    "[Q] How to determine if a review is positive or negative?<br>\n",
    "<br> \n",
    "[Ans] We could use Score/Rating. A rating of 4 or 5 can be cosnidered as a positive review. A rating of 1 or 2 can be considered as negative one. A review of rating 3 is considered nuetral and such reviews are ignored from our analysis. This is an approximate and proxy way of determining the polarity (positivity/negativity) of a review.\n",
    "\n",
    "\n"
   ]
  },
  {
   "cell_type": "markdown",
   "metadata": {},
   "source": [
    "# [1]. Reading Data"
   ]
  },
  {
   "cell_type": "markdown",
   "metadata": {},
   "source": [
    "## [1.1] Loading the data\n",
    "\n",
    "The dataset is available in two forms\n",
    "1. .csv file\n",
    "2. SQLite Database\n",
    "\n",
    "In order to load the data, We have used the SQLITE dataset as it is easier to query the data and visualise the data efficiently.\n",
    "<br> \n",
    "\n",
    "Here as we only want to get the global sentiment of the recommendations (positive or negative), we will purposefully ignore all Scores equal to 3. If the score is above 3, then the recommendation wil be set to \"positive\". Otherwise, it will be set to \"negative\"."
   ]
  },
  {
   "cell_type": "code",
   "execution_count": 1,
   "metadata": {},
   "outputs": [
    {
     "name": "stderr",
     "output_type": "stream",
     "text": [
      "C:\\Users\\karth\\Anaconda3\\lib\\site-packages\\gensim\\utils.py:1197: UserWarning: detected Windows; aliasing chunkize to chunkize_serial\n",
      "  warnings.warn(\"detected Windows; aliasing chunkize to chunkize_serial\")\n"
     ]
    }
   ],
   "source": [
    "%matplotlib inline\n",
    "import warnings\n",
    "warnings.filterwarnings(\"ignore\")\n",
    "\n",
    "\n",
    "import sqlite3\n",
    "import pandas as pd\n",
    "import numpy as np\n",
    "import nltk\n",
    "import string\n",
    "import matplotlib.pyplot as plt\n",
    "import seaborn as sns\n",
    "from sklearn.feature_extraction.text import TfidfTransformer\n",
    "from sklearn.feature_extraction.text import TfidfVectorizer\n",
    "\n",
    "from sklearn.feature_extraction.text import CountVectorizer\n",
    "from sklearn.metrics import confusion_matrix\n",
    "from sklearn import metrics\n",
    "from sklearn.metrics import roc_curve, auc\n",
    "from nltk.stem.porter import PorterStemmer\n",
    "\n",
    "import re\n",
    "# Tutorial about Python regular expressions: https://pymotw.com/2/re/\n",
    "import string\n",
    "from nltk.corpus import stopwords\n",
    "from nltk.stem import PorterStemmer\n",
    "from nltk.stem.wordnet import WordNetLemmatizer\n",
    "\n",
    "from gensim.models import Word2Vec\n",
    "from gensim.models import KeyedVectors\n",
    "import pickle\n",
    "\n",
    "from tqdm import tqdm\n",
    "import os"
   ]
  },
  {
   "cell_type": "code",
   "execution_count": null,
   "metadata": {},
   "outputs": [],
   "source": [
    "# using SQLite Table to read data.\n",
    "con = sqlite3.connect('database.sqlite') \n",
    "\n",
    "# filtering only positive and negative reviews i.e. \n",
    "# not taking into consideration those reviews with Score=3\n",
    "# SELECT * FROM Reviews WHERE Score != 3 LIMIT 500000, will give top 500000 data points\n",
    "# you can change the number to any other number based on your computing power\n",
    "\n",
    "# filtered_data = pd.read_sql_query(\"\"\" SELECT * FROM Reviews WHERE Score != 3 LIMIT 500000\"\"\", con) \n",
    "# for tsne assignment you can take 5k data points\n",
    "\n",
    "filtered_data = pd.read_sql_query(\"\"\" SELECT * FROM Reviews WHERE Score != 3 LIMIT 5000\"\"\", con) \n",
    "\n",
    "# Give reviews with Score>3 a positive rating(1), and reviews with a score<3 a negative rating(0).\n",
    "def partition(x):\n",
    "    if x < 3:\n",
    "        return 0\n",
    "    return 1\n",
    "\n",
    "#changing reviews with score less than 3 to be positive and vice-versa\n",
    "actualScore = filtered_data['Score']\n",
    "positiveNegative = actualScore.map(partition) \n",
    "filtered_data['Score'] = positiveNegative\n",
    "print(\"Number of data points in our data\", filtered_data.shape)\n",
    "filtered_data.head(3)"
   ]
  },
  {
   "cell_type": "code",
   "execution_count": null,
   "metadata": {},
   "outputs": [],
   "source": [
    "display = pd.read_sql_query(\"\"\"\n",
    "SELECT UserId, ProductId, ProfileName, Time, Score, Text, COUNT(*)\n",
    "FROM Reviews\n",
    "GROUP BY UserId\n",
    "HAVING COUNT(*)>1\n",
    "\"\"\", con)"
   ]
  },
  {
   "cell_type": "code",
   "execution_count": null,
   "metadata": {
    "scrolled": true
   },
   "outputs": [],
   "source": [
    "print(display.shape)\n",
    "display.head()"
   ]
  },
  {
   "cell_type": "code",
   "execution_count": null,
   "metadata": {},
   "outputs": [],
   "source": [
    "display[display['UserId']=='AZY10LLTJ71NX']"
   ]
  },
  {
   "cell_type": "code",
   "execution_count": null,
   "metadata": {},
   "outputs": [],
   "source": [
    "display['COUNT(*)'].sum()"
   ]
  },
  {
   "cell_type": "markdown",
   "metadata": {},
   "source": [
    "#  [2] Exploratory Data Analysis"
   ]
  },
  {
   "cell_type": "markdown",
   "metadata": {},
   "source": [
    "## [2.1] Data Cleaning: Deduplication\n",
    "\n",
    "It is observed (as shown in the table below) that the reviews data had many duplicate entries. Hence it was necessary to remove duplicates in order to get unbiased results for the analysis of the data.  Following is an example:"
   ]
  },
  {
   "cell_type": "code",
   "execution_count": null,
   "metadata": {
    "scrolled": false
   },
   "outputs": [],
   "source": [
    "display= pd.read_sql_query(\"\"\"\n",
    "SELECT *\n",
    "FROM Reviews\n",
    "WHERE Score != 3 AND UserId=\"AR5J8UI46CURR\"\n",
    "ORDER BY ProductID\n",
    "\"\"\", con)\n",
    "display.head()"
   ]
  },
  {
   "cell_type": "markdown",
   "metadata": {},
   "source": [
    "As it can be seen above that same user has multiple reviews with same values for HelpfulnessNumerator, HelpfulnessDenominator, Score, Time, Summary and Text and on doing analysis it was found that <br>\n",
    "<br> \n",
    "ProductId=B000HDOPZG was Loacker Quadratini Vanilla Wafer Cookies, 8.82-Ounce Packages (Pack of 8)<br>\n",
    "<br> \n",
    "ProductId=B000HDL1RQ was Loacker Quadratini Lemon Wafer Cookies, 8.82-Ounce Packages (Pack of 8) and so on<br>\n",
    "\n",
    "It was inferred after analysis that reviews with same parameters other than ProductId belonged to the same product just having different flavour or quantity. Hence in order to reduce redundancy it was decided to eliminate the rows having same parameters.<br>\n",
    "\n",
    "The method used for the same was that we first sort the data according to ProductId and then just keep the first similar product review and delelte the others. for eg. in the above just the review for ProductId=B000HDL1RQ remains. This method ensures that there is only one representative for each product and deduplication without sorting would lead to possibility of different representatives still existing for the same product."
   ]
  },
  {
   "cell_type": "code",
   "execution_count": null,
   "metadata": {},
   "outputs": [],
   "source": [
    "#Sorting data according to ProductId in ascending order\n",
    "sorted_data=filtered_data.sort_values('ProductId', axis=0, ascending=True, inplace=False, kind='quicksort', na_position='last')"
   ]
  },
  {
   "cell_type": "code",
   "execution_count": null,
   "metadata": {},
   "outputs": [],
   "source": [
    "#Deduplication of entries\n",
    "final=sorted_data.drop_duplicates(subset={\"UserId\",\"ProfileName\",\"Time\",\"Text\"}, keep='first', inplace=False)\n",
    "final.shape"
   ]
  },
  {
   "cell_type": "code",
   "execution_count": null,
   "metadata": {},
   "outputs": [],
   "source": [
    "#Checking to see how much % of data still remains\n",
    "(final['Id'].size*1.0)/(filtered_data['Id'].size*1.0)*100"
   ]
  },
  {
   "cell_type": "markdown",
   "metadata": {},
   "source": [
    "<b>Observation:-</b> It was also seen that in two rows given below the value of HelpfulnessNumerator is greater than HelpfulnessDenominator which is not practically possible hence these two rows too are removed from calcualtions"
   ]
  },
  {
   "cell_type": "code",
   "execution_count": null,
   "metadata": {},
   "outputs": [],
   "source": [
    "display= pd.read_sql_query(\"\"\"\n",
    "SELECT *\n",
    "FROM Reviews\n",
    "WHERE Score != 3 AND Id=44737 OR Id=64422\n",
    "ORDER BY ProductID\n",
    "\"\"\", con)\n",
    "\n",
    "display.head()"
   ]
  },
  {
   "cell_type": "code",
   "execution_count": null,
   "metadata": {},
   "outputs": [],
   "source": [
    "final=final[final.HelpfulnessNumerator<=final.HelpfulnessDenominator]"
   ]
  },
  {
   "cell_type": "code",
   "execution_count": null,
   "metadata": {},
   "outputs": [],
   "source": [
    "#Before starting the next phase of preprocessing lets see the number of entries left\n",
    "print(final.shape)\n",
    "\n",
    "#How many positive and negative reviews are present in our dataset?\n",
    "final['Score'].value_counts()"
   ]
  },
  {
   "cell_type": "markdown",
   "metadata": {},
   "source": [
    "#  [3] Preprocessing"
   ]
  },
  {
   "cell_type": "markdown",
   "metadata": {},
   "source": [
    "## [3.1].  Preprocessing Review Text\n",
    "\n",
    "Now that we have finished deduplication our data requires some preprocessing before we go on further with analysis and making the prediction model.\n",
    "\n",
    "Hence in the Preprocessing phase we do the following in the order below:-\n",
    "\n",
    "1. Begin by removing the html tags\n",
    "2. Remove any punctuations or limited set of special characters like , or . or # etc.\n",
    "3. Check if the word is made up of english letters and is not alpha-numeric\n",
    "4. Check to see if the length of the word is greater than 2 (as it was researched that there is no adjective in 2-letters)\n",
    "5. Convert the word to lowercase\n",
    "6. Remove Stopwords\n",
    "7. Finally Snowball Stemming the word (it was obsereved to be better than Porter Stemming)<br>\n",
    "\n",
    "After which we collect the words used to describe positive and negative reviews"
   ]
  },
  {
   "cell_type": "code",
   "execution_count": null,
   "metadata": {},
   "outputs": [],
   "source": [
    "# printing some random reviews\n",
    "sent_0 = final['Text'].values[0]\n",
    "print(sent_0)\n",
    "print(\"=\"*50)\n",
    "\n",
    "sent_1000 = final['Text'].values[1000]\n",
    "print(sent_1000)\n",
    "print(\"=\"*50)\n",
    "\n",
    "sent_1500 = final['Text'].values[1500]\n",
    "print(sent_1500)\n",
    "print(\"=\"*50)\n",
    "\n",
    "sent_4900 = final['Text'].values[4900]\n",
    "print(sent_4900)\n",
    "print(\"=\"*50)"
   ]
  },
  {
   "cell_type": "code",
   "execution_count": null,
   "metadata": {},
   "outputs": [],
   "source": [
    "# remove urls from text python: https://stackoverflow.com/a/40823105/4084039\n",
    "sent_0 = re.sub(r\"http\\S+\", \"\", sent_0)\n",
    "sent_1000 = re.sub(r\"http\\S+\", \"\", sent_1000)\n",
    "sent_150 = re.sub(r\"http\\S+\", \"\", sent_1500)\n",
    "sent_4900 = re.sub(r\"http\\S+\", \"\", sent_4900)\n",
    "\n",
    "print(sent_0)"
   ]
  },
  {
   "cell_type": "code",
   "execution_count": null,
   "metadata": {},
   "outputs": [],
   "source": [
    "# https://stackoverflow.com/questions/16206380/python-beautifulsoup-how-to-remove-all-tags-from-an-element\n",
    "from bs4 import BeautifulSoup\n",
    "\n",
    "soup = BeautifulSoup(sent_0, 'lxml')\n",
    "text = soup.get_text()\n",
    "print(text)\n",
    "print(\"=\"*50)\n",
    "\n",
    "soup = BeautifulSoup(sent_1000, 'lxml')\n",
    "text = soup.get_text()\n",
    "print(text)\n",
    "print(\"=\"*50)\n",
    "\n",
    "soup = BeautifulSoup(sent_1500, 'lxml')\n",
    "text = soup.get_text()\n",
    "print(text)\n",
    "print(\"=\"*50)\n",
    "\n",
    "soup = BeautifulSoup(sent_4900, 'lxml')\n",
    "text = soup.get_text()\n",
    "print(text)"
   ]
  },
  {
   "cell_type": "code",
   "execution_count": null,
   "metadata": {},
   "outputs": [],
   "source": [
    "# https://stackoverflow.com/a/47091490/4084039\n",
    "import re\n",
    "\n",
    "def decontracted(phrase):\n",
    "    # specific\n",
    "    phrase = re.sub(r\"won't\", \"will not\", phrase)\n",
    "    phrase = re.sub(r\"can\\'t\", \"can not\", phrase)\n",
    "\n",
    "    # general\n",
    "    phrase = re.sub(r\"n\\'t\", \" not\", phrase)\n",
    "    phrase = re.sub(r\"\\'re\", \" are\", phrase)\n",
    "    phrase = re.sub(r\"\\'s\", \" is\", phrase)\n",
    "    phrase = re.sub(r\"\\'d\", \" would\", phrase)\n",
    "    phrase = re.sub(r\"\\'ll\", \" will\", phrase)\n",
    "    phrase = re.sub(r\"\\'t\", \" not\", phrase)\n",
    "    phrase = re.sub(r\"\\'ve\", \" have\", phrase)\n",
    "    phrase = re.sub(r\"\\'m\", \" am\", phrase)\n",
    "    return phrase"
   ]
  },
  {
   "cell_type": "code",
   "execution_count": null,
   "metadata": {},
   "outputs": [],
   "source": [
    "sent_1500 = decontracted(sent_1500)\n",
    "print(sent_1500)\n",
    "print(\"=\"*50)"
   ]
  },
  {
   "cell_type": "code",
   "execution_count": null,
   "metadata": {},
   "outputs": [],
   "source": [
    "#remove words with numbers python: https://stackoverflow.com/a/18082370/4084039\n",
    "sent_0 = re.sub(\"\\S*\\d\\S*\", \"\", sent_0).strip()\n",
    "print(sent_0)"
   ]
  },
  {
   "cell_type": "code",
   "execution_count": null,
   "metadata": {},
   "outputs": [],
   "source": [
    "#remove spacial character: https://stackoverflow.com/a/5843547/4084039\n",
    "sent_1500 = re.sub('[^A-Za-z0-9]+', ' ', sent_1500)\n",
    "print(sent_1500)"
   ]
  },
  {
   "cell_type": "code",
   "execution_count": null,
   "metadata": {},
   "outputs": [],
   "source": [
    "# https://gist.github.com/sebleier/554280\n",
    "# we are removing the words from the stop words list: 'no', 'nor', 'not'\n",
    "# <br /><br /> ==> after the above steps, we are getting \"br br\"\n",
    "# we are including them into stop words list\n",
    "# instead of <br /> if we have <br/> these tags would have revmoved in the 1st step\n",
    "\n",
    "stopwords= set(['br', 'the', 'i', 'me', 'my', 'myself', 'we', 'our', 'ours', 'ourselves', 'you', \"you're\", \"you've\",\\\n",
    "            \"you'll\", \"you'd\", 'your', 'yours', 'yourself', 'yourselves', 'he', 'him', 'his', 'himself', \\\n",
    "            'she', \"she's\", 'her', 'hers', 'herself', 'it', \"it's\", 'its', 'itself', 'they', 'them', 'their',\\\n",
    "            'theirs', 'themselves', 'what', 'which', 'who', 'whom', 'this', 'that', \"that'll\", 'these', 'those', \\\n",
    "            'am', 'is', 'are', 'was', 'were', 'be', 'been', 'being', 'have', 'has', 'had', 'having', 'do', 'does', \\\n",
    "            'did', 'doing', 'a', 'an', 'the', 'and', 'but', 'if', 'or', 'because', 'as', 'until', 'while', 'of', \\\n",
    "            'at', 'by', 'for', 'with', 'about', 'against', 'between', 'into', 'through', 'during', 'before', 'after',\\\n",
    "            'above', 'below', 'to', 'from', 'up', 'down', 'in', 'out', 'on', 'off', 'over', 'under', 'again', 'further',\\\n",
    "            'then', 'once', 'here', 'there', 'when', 'where', 'why', 'how', 'all', 'any', 'both', 'each', 'few', 'more',\\\n",
    "            'most', 'other', 'some', 'such', 'only', 'own', 'same', 'so', 'than', 'too', 'very', \\\n",
    "            's', 't', 'can', 'will', 'just', 'don', \"don't\", 'should', \"should've\", 'now', 'd', 'll', 'm', 'o', 're', \\\n",
    "            've', 'y', 'ain', 'aren', \"aren't\", 'couldn', \"couldn't\", 'didn', \"didn't\", 'doesn', \"doesn't\", 'hadn',\\\n",
    "            \"hadn't\", 'hasn', \"hasn't\", 'haven', \"haven't\", 'isn', \"isn't\", 'ma', 'mightn', \"mightn't\", 'mustn',\\\n",
    "            \"mustn't\", 'needn', \"needn't\", 'shan', \"shan't\", 'shouldn', \"shouldn't\", 'wasn', \"wasn't\", 'weren', \"weren't\", \\\n",
    "            'won', \"won't\", 'wouldn', \"wouldn't\"])"
   ]
  },
  {
   "cell_type": "code",
   "execution_count": null,
   "metadata": {},
   "outputs": [],
   "source": [
    "# Combining all the above stundents \n",
    "from tqdm import tqdm\n",
    "preprocessed_reviews = []\n",
    "# tqdm is for printing the status bar\n",
    "for sentance in tqdm(final['Text'].values):\n",
    "    sentance = re.sub(r\"http\\S+\", \"\", sentance)\n",
    "    sentance = BeautifulSoup(sentance, 'lxml').get_text()\n",
    "    sentance = decontracted(sentance)\n",
    "    sentance = re.sub(\"\\S*\\d\\S*\", \"\", sentance).strip()\n",
    "    sentance = re.sub('[^A-Za-z]+', ' ', sentance)\n",
    "    # https://gist.github.com/sebleier/554280\n",
    "    sentance = ' '.join(e.lower() for e in sentance.split() if e.lower() not in stopwords)\n",
    "    preprocessed_reviews.append(sentance.strip())"
   ]
  },
  {
   "cell_type": "code",
   "execution_count": null,
   "metadata": {},
   "outputs": [],
   "source": [
    "preprocessed_reviews[1500]"
   ]
  },
  {
   "cell_type": "markdown",
   "metadata": {},
   "source": [
    "<h2><font color='red'>[3.2] Preprocessing Review Summary</font></h2>"
   ]
  },
  {
   "cell_type": "code",
   "execution_count": null,
   "metadata": {},
   "outputs": [],
   "source": [
    "## Similartly you can do preprocessing for review summary also."
   ]
  },
  {
   "cell_type": "markdown",
   "metadata": {},
   "source": [
    "# [4] Featurization"
   ]
  },
  {
   "cell_type": "markdown",
   "metadata": {},
   "source": [
    "## [4.1] BAG OF WORDS"
   ]
  },
  {
   "cell_type": "code",
   "execution_count": null,
   "metadata": {},
   "outputs": [],
   "source": [
    "#BoW\n",
    "count_vect = CountVectorizer() #in scikit-learn\n",
    "count_vect.fit(preprocessed_reviews)\n",
    "print(\"some feature names \", count_vect.get_feature_names()[:10])\n",
    "print('='*50)\n",
    "\n",
    "final_counts = count_vect.transform(preprocessed_reviews)\n",
    "print(\"the type of count vectorizer \",type(final_counts))\n",
    "print(\"the shape of out text BOW vectorizer \",final_counts.get_shape())\n",
    "print(\"the number of unique words \", final_counts.get_shape()[1])"
   ]
  },
  {
   "cell_type": "markdown",
   "metadata": {},
   "source": [
    "## [4.2] Bi-Grams and n-Grams."
   ]
  },
  {
   "cell_type": "code",
   "execution_count": null,
   "metadata": {},
   "outputs": [],
   "source": [
    "#bi-gram, tri-gram and n-gram\n",
    "\n",
    "#removing stop words like \"not\" should be avoided before building n-grams\n",
    "# count_vect = CountVectorizer(ngram_range=(1,2))\n",
    "# please do read the CountVectorizer documentation http://scikit-learn.org/stable/modules/generated/sklearn.feature_extraction.text.CountVectorizer.html\n",
    "\n",
    "# you can choose these numebrs min_df=10, max_features=5000, of your choice\n",
    "count_vect = CountVectorizer(ngram_range=(1,2), min_df=10, max_features=5000)\n",
    "final_bigram_counts = count_vect.fit_transform(preprocessed_reviews)\n",
    "print(\"the type of count vectorizer \",type(final_bigram_counts))\n",
    "print(\"the shape of out text BOW vectorizer \",final_bigram_counts.get_shape())\n",
    "print(\"the number of unique words including both unigrams and bigrams \", final_bigram_counts.get_shape()[1])"
   ]
  },
  {
   "cell_type": "markdown",
   "metadata": {},
   "source": [
    "## [4.3] TF-IDF"
   ]
  },
  {
   "cell_type": "code",
   "execution_count": null,
   "metadata": {},
   "outputs": [],
   "source": [
    "tf_idf_vect = TfidfVectorizer(ngram_range=(1,2), min_df=10)\n",
    "tf_idf_vect.fit(preprocessed_reviews)\n",
    "print(\"some sample features(unique words in the corpus)\",tf_idf_vect.get_feature_names()[0:10])\n",
    "print('='*50)\n",
    "\n",
    "final_tf_idf = tf_idf_vect.transform(preprocessed_reviews)\n",
    "print(\"the type of count vectorizer \",type(final_tf_idf))\n",
    "print(\"the shape of out text TFIDF vectorizer \",final_tf_idf.get_shape())\n",
    "print(\"the number of unique words including both unigrams and bigrams \", final_tf_idf.get_shape()[1])"
   ]
  },
  {
   "cell_type": "markdown",
   "metadata": {},
   "source": [
    "## [4.4] Word2Vec"
   ]
  },
  {
   "cell_type": "code",
   "execution_count": null,
   "metadata": {},
   "outputs": [],
   "source": [
    "# Train your own Word2Vec model using your own text corpus\n",
    "i=0\n",
    "list_of_sentance=[]\n",
    "for sentance in preprocessed_reviews:\n",
    "    list_of_sentance.append(sentance.split())"
   ]
  },
  {
   "cell_type": "code",
   "execution_count": null,
   "metadata": {
    "scrolled": true
   },
   "outputs": [],
   "source": [
    "# Using Google News Word2Vectors\n",
    "\n",
    "# in this project we are using a pretrained model by google\n",
    "# its 3.3G file, once you load this into your memory \n",
    "# it occupies ~9Gb, so please do this step only if you have >12G of ram\n",
    "# we will provide a pickle file wich contains a dict , \n",
    "# and it contains all our courpus words as keys and  model[word] as values\n",
    "# To use this code-snippet, download \"GoogleNews-vectors-negative300.bin\" \n",
    "# from https://drive.google.com/file/d/0B7XkCwpI5KDYNlNUTTlSS21pQmM/edit\n",
    "# it's 1.9GB in size.\n",
    "\n",
    "\n",
    "# http://kavita-ganesan.com/gensim-word2vec-tutorial-starter-code/#.W17SRFAzZPY\n",
    "# you can comment this whole cell\n",
    "# or change these varible according to your need\n",
    "\n",
    "is_your_ram_gt_16g=False\n",
    "want_to_use_google_w2v = False\n",
    "want_to_train_w2v = True\n",
    "\n",
    "if want_to_train_w2v:\n",
    "    # min_count = 5 considers only words that occured atleast 5 times\n",
    "    w2v_model=Word2Vec(list_of_sentance,min_count=5,size=50, workers=4)\n",
    "    print(w2v_model.wv.most_similar('great'))\n",
    "    print('='*50)\n",
    "    print(w2v_model.wv.most_similar('worst'))\n",
    "    \n",
    "elif want_to_use_google_w2v and is_your_ram_gt_16g:\n",
    "    if os.path.isfile('GoogleNews-vectors-negative300.bin'):\n",
    "        w2v_model=KeyedVectors.load_word2vec_format('GoogleNews-vectors-negative300.bin', binary=True)\n",
    "        print(w2v_model.wv.most_similar('great'))\n",
    "        print(w2v_model.wv.most_similar('worst'))\n",
    "    else:\n",
    "        print(\"you don't have gogole's word2vec file, keep want_to_train_w2v = True, to train your own w2v \")"
   ]
  },
  {
   "cell_type": "code",
   "execution_count": null,
   "metadata": {},
   "outputs": [],
   "source": [
    "w2v_words = list(w2v_model.wv.vocab)\n",
    "print(\"number of words that occured minimum 5 times \",len(w2v_words))\n",
    "print(\"sample words \", w2v_words[0:50])"
   ]
  },
  {
   "cell_type": "markdown",
   "metadata": {},
   "source": [
    "## [4.4.1] Converting text into vectors using Avg W2V, TFIDF-W2V"
   ]
  },
  {
   "cell_type": "markdown",
   "metadata": {},
   "source": [
    "#### [4.4.1.1] Avg W2v"
   ]
  },
  {
   "cell_type": "code",
   "execution_count": null,
   "metadata": {},
   "outputs": [],
   "source": [
    "# average Word2Vec\n",
    "# compute average word2vec for each review.\n",
    "sent_vectors = []; # the avg-w2v for each sentence/review is stored in this list\n",
    "for sent in tqdm(list_of_sentance): # for each review/sentence\n",
    "    sent_vec = np.zeros(50) # as word vectors are of zero length 50, you might need to change this to 300 if you use google's w2v\n",
    "    cnt_words =0; # num of words with a valid vector in the sentence/review\n",
    "    for word in sent: # for each word in a review/sentence\n",
    "        if word in w2v_words:\n",
    "            vec = w2v_model.wv[word]\n",
    "            sent_vec += vec\n",
    "            cnt_words += 1\n",
    "    if cnt_words != 0:\n",
    "        sent_vec /= cnt_words\n",
    "    sent_vectors.append(sent_vec)\n",
    "print(len(sent_vectors))\n",
    "print(len(sent_vectors[0]))"
   ]
  },
  {
   "cell_type": "markdown",
   "metadata": {},
   "source": [
    "#### [4.4.1.2] TFIDF weighted W2v"
   ]
  },
  {
   "cell_type": "code",
   "execution_count": null,
   "metadata": {},
   "outputs": [],
   "source": [
    "# S = [\"abc def pqr\", \"def def def abc\", \"pqr pqr def\"]\n",
    "model = TfidfVectorizer()\n",
    "tf_idf_matrix = model.fit_transform(preprocessed_reviews)\n",
    "# we are converting a dictionary with word as a key, and the idf as a value\n",
    "dictionary = dict(zip(model.get_feature_names(), list(model.idf_)))"
   ]
  },
  {
   "cell_type": "code",
   "execution_count": null,
   "metadata": {
    "scrolled": true
   },
   "outputs": [],
   "source": [
    "# TF-IDF weighted Word2Vec\n",
    "tfidf_feat = model.get_feature_names() # tfidf words/col-names\n",
    "# final_tf_idf is the sparse matrix with row= sentence, col=word and cell_val = tfidf\n",
    "\n",
    "tfidf_sent_vectors = []; # the tfidf-w2v for each sentence/review is stored in this list\n",
    "row=0;\n",
    "for sent in tqdm(list_of_sentance): # for each review/sentence \n",
    "    sent_vec = np.zeros(50) # as word vectors are of zero length\n",
    "    weight_sum =0; # num of words with a valid vector in the sentence/review\n",
    "    for word in sent: # for each word in a review/sentence\n",
    "        if word in w2v_words and word in tfidf_feat:\n",
    "            vec = w2v_model.wv[word]\n",
    "#             tf_idf = tf_idf_matrix[row, tfidf_feat.index(word)]\n",
    "            # to reduce the computation we are \n",
    "            # dictionary[word] = idf value of word in whole courpus\n",
    "            # sent.count(word) = tf valeus of word in this review\n",
    "            tf_idf = dictionary[word]*(sent.count(word)/len(sent))\n",
    "            sent_vec += (vec * tf_idf)\n",
    "            weight_sum += tf_idf\n",
    "    if weight_sum != 0:\n",
    "        sent_vec /= weight_sum\n",
    "    tfidf_sent_vectors.append(sent_vec)\n",
    "    row += 1"
   ]
  },
  {
   "cell_type": "markdown",
   "metadata": {},
   "source": [
    "# [5] Assignment 5: Apply Logistic Regression"
   ]
  },
  {
   "cell_type": "markdown",
   "metadata": {},
   "source": [
    "<ol>\n",
    "    <li><strong>Apply Logistic Regression on these feature sets</strong>\n",
    "        <ul>\n",
    "            <li><font color='red'>SET 1:</font>Review text, preprocessed one converted into vectors using (BOW)</li>\n",
    "            <li><font color='red'>SET 2:</font>Review text, preprocessed one converted into vectors using (TFIDF)</li>\n",
    "            <li><font color='red'>SET 3:</font>Review text, preprocessed one converted into vectors using (AVG W2v)</li>\n",
    "            <li><font color='red'>SET 4:</font>Review text, preprocessed one converted into vectors using (TFIDF W2v)</li>\n",
    "        </ul>\n",
    "    </li>\n",
    "    <br>\n",
    "    <li><strong>Hyper paramter tuning (find best hyper parameters corresponding the algorithm that you choose)</strong>\n",
    "        <ul>\n",
    "    <li>Find the best hyper parameter which will give the maximum <a href='https://www.appliedaicourse.com/course/applied-ai-course-online/lessons/receiver-operating-characteristic-curve-roc-curve-and-auc-1/'>AUC</a> value</li>\n",
    "    <li>Find the best hyper paramter using k-fold cross validation or simple cross validation data</li>\n",
    "    <li>Use gridsearch cv or randomsearch cv or you can also write your own for loops to do this task of hyperparameter tuning</li>          \n",
    "        </ul>\n",
    "    </li>\n",
    "    <br>\n",
    "    <li><strong>Pertubation Test</strong>\n",
    "        <ul>\n",
    "    <li>Get the weights W after fit your model with the data X.</li>\n",
    "    <li>Add a noise to the X (X' = X + e) and get the new data set X' (if X is a sparse\n",
    "matrix, X.data+=e)</li>\n",
    "    <li>Fit the model again on data X' and get the weights W'</li>\n",
    "    <li>Add a small eps value(to eliminate the divisible by zero error) to W and W’ i.e\n",
    "W=W+10^-6 and W’ = W’+10^-6</li>\n",
    "    <li>Now find the % change between W and W' (| (W-W') / (W) |)*100)</li>\n",
    "    <li>Calculate the 0th, 10th, 20th, 30th, ...100th percentiles, and observe any sudden rise in the values of percentage_change_vector</li>\n",
    "    <li> Ex: consider your 99th percentile is 1.3 and your 100th percentiles are 34.6, there is sudden rise from 1.3 to 34.6, now calculate the 99.1, 99.2, 99.3,..., 100th percentile values and get the proper value after which there is sudden rise the values, assume it is 2.5</li>\n",
    "            <li> Print the feature names whose % change is more than a threshold x(in our example it's 2.5)</li>\n",
    "        </ul>\n",
    "    </li>\n",
    "    <br>\n",
    "    <li><strong>Sparsity</strong>\n",
    "        <ul>\n",
    "    <li>Calculate sparsity on weight vector obtained after using L1 regularization</li>\n",
    "        </ul>\n",
    "    </li>\n",
    "    <br><font color='red'>NOTE: Do sparsity and multicollinearity for any one of the vectorizers. Bow or tf-idf is recommended.</font>\n",
    "    <br>\n",
    "    <br>\n",
    "    <li><strong>Feature importance</strong>\n",
    "        <ul>\n",
    "    <li>Get top 10 important features for both positive and negative classes separately.</li>\n",
    "        </ul>\n",
    "    </li>\n",
    "    <br>\n",
    "    <li><strong>Feature engineering</strong>\n",
    "        <ul>\n",
    "    <li>To increase the performance of your model, you can also experiment with with feature engineering like :</li>\n",
    "            <ul>\n",
    "            <li>Taking length of reviews as another feature.</li>\n",
    "            <li>Considering some features from review summary as well.</li>\n",
    "        </ul>\n",
    "        </ul>\n",
    "    </li>\n",
    "    <br>\n",
    "    <li><strong>Representation of results</strong>\n",
    "        <ul>\n",
    "    <li>You need to plot the performance of model both on train data and cross validation data for each hyper parameter, like shown in the figure.\n",
    "    <img src='train_cv_auc.JPG' width=300px></li>\n",
    "    <li>Once after you found the best hyper parameter, you need to train your model with it, and find the AUC on test data and plot the ROC curve on both train and test.\n",
    "    <img src='train_test_auc.JPG' width=300px></li>\n",
    "    <li>Along with plotting ROC curve, you need to print the <a href='https://www.appliedaicourse.com/course/applied-ai-course-online/lessons/confusion-matrix-tpr-fpr-fnr-tnr-1/'>confusion matrix</a> with predicted and original labels of test data points. Please visualize your confusion matrices using <a href='https://seaborn.pydata.org/generated/seaborn.heatmap.html'>seaborn heatmaps.\n",
    "    <img src='confusion_matrix.png' width=300px></li>\n",
    "        </ul>\n",
    "    </li>\n",
    "    <br>\n",
    "    <li><strong>Conclusion</strong>\n",
    "        <ul>\n",
    "    <li>You need to summarize the results at the end of the notebook, summarize it in the table format. To print out a table please refer to this prettytable library<a href='http://zetcode.com/python/prettytable/'>  link</a> \n",
    "        <img src='summary.JPG' width=400px>\n",
    "    </li>\n",
    "        </ul>\n",
    "</ol>"
   ]
  },
  {
   "cell_type": "markdown",
   "metadata": {},
   "source": [
    "<h4><font color='red'>Note: Data Leakage</font></h4>\n",
    "\n",
    "1. There will be an issue of data-leakage if you vectorize the entire data and then split it into train/cv/test.\n",
    "2. To avoid the issue of data-leakag, make sure to split your data first and then vectorize it. \n",
    "3. While vectorizing your data, apply the method fit_transform() on you train data, and apply the method transform() on cv/test data.\n",
    "4. For more details please go through this <a href='https://soundcloud.com/applied-ai-course/leakage-bow-and-tfidf'>link.</a>"
   ]
  },
  {
   "cell_type": "markdown",
   "metadata": {},
   "source": [
    "# Applying Logistic Regression"
   ]
  },
  {
   "cell_type": "markdown",
   "metadata": {},
   "source": [
    "## [5.1] Logistic Regression on BOW,<font color='red'> SET 1</font>"
   ]
  },
  {
   "cell_type": "markdown",
   "metadata": {},
   "source": [
    "# Data importing"
   ]
  },
  {
   "cell_type": "markdown",
   "metadata": {},
   "source": [
    "### Importing time sorted splitted data"
   ]
  },
  {
   "cell_type": "code",
   "execution_count": 26,
   "metadata": {},
   "outputs": [],
   "source": [
    "import pickle\n",
    "import sqlite3\n",
    "import pandas as pd"
   ]
  },
  {
   "cell_type": "code",
   "execution_count": 2,
   "metadata": {},
   "outputs": [],
   "source": [
    "pickle_in = open('train60k.pkl', 'rb')\n",
    "x_train = pickle.load(pickle_in)"
   ]
  },
  {
   "cell_type": "code",
   "execution_count": 3,
   "metadata": {},
   "outputs": [],
   "source": [
    "pickle_in = open('test20k.pkl', 'rb')\n",
    "x_test = pickle.load(pickle_in)"
   ]
  },
  {
   "cell_type": "code",
   "execution_count": 4,
   "metadata": {},
   "outputs": [],
   "source": [
    "pickle_in = open('cv20k.pkl', 'rb')\n",
    "x_cv = pickle.load(pickle_in)"
   ]
  },
  {
   "cell_type": "code",
   "execution_count": 5,
   "metadata": {},
   "outputs": [],
   "source": [
    "pickle_in = open('ytrain.pkl', 'rb')\n",
    "y_train = pickle.load(pickle_in)"
   ]
  },
  {
   "cell_type": "code",
   "execution_count": 6,
   "metadata": {},
   "outputs": [],
   "source": [
    "pickle_in = open('ytest.pkl', 'rb')\n",
    "y_test = pickle.load(pickle_in)"
   ]
  },
  {
   "cell_type": "code",
   "execution_count": 7,
   "metadata": {},
   "outputs": [],
   "source": [
    "pickle_in = open('ycv.pkl', 'rb')\n",
    "y_cv = pickle.load(pickle_in)"
   ]
  },
  {
   "cell_type": "code",
   "execution_count": 8,
   "metadata": {},
   "outputs": [],
   "source": [
    "pickle_in = open('train_tfidf.pkl', 'rb')\n",
    "train_tfidf = pickle.load(pickle_in)"
   ]
  },
  {
   "cell_type": "code",
   "execution_count": 9,
   "metadata": {},
   "outputs": [],
   "source": [
    "pickle_in = open('test_tfidf.pkl', 'rb')\n",
    "test_tfidf = pickle.load(pickle_in)"
   ]
  },
  {
   "cell_type": "code",
   "execution_count": 10,
   "metadata": {},
   "outputs": [],
   "source": [
    "pickle_in = open('cv_tfidf.pkl', 'rb')\n",
    "cv_tfidf = pickle.load(pickle_in)"
   ]
  },
  {
   "cell_type": "code",
   "execution_count": 11,
   "metadata": {},
   "outputs": [],
   "source": [
    "pickle_in = open('avgw2v_train.pkl', 'rb')\n",
    "avgw2v_train = pickle.load(pickle_in)"
   ]
  },
  {
   "cell_type": "code",
   "execution_count": 12,
   "metadata": {},
   "outputs": [],
   "source": [
    "pickle_in = open('avgw2v_test.pkl', 'rb')\n",
    "avgw2v_test = pickle.load(pickle_in)"
   ]
  },
  {
   "cell_type": "code",
   "execution_count": 13,
   "metadata": {},
   "outputs": [],
   "source": [
    "pickle_in = open('avgw2v_cv.pkl', 'rb')\n",
    "avgw2v_cv = pickle.load(pickle_in)"
   ]
  },
  {
   "cell_type": "code",
   "execution_count": 14,
   "metadata": {},
   "outputs": [],
   "source": [
    "pickle_in = open('tfidfw2v_train.pkl', 'rb')\n",
    "tfidfw2v_train = pickle.load(pickle_in)"
   ]
  },
  {
   "cell_type": "code",
   "execution_count": 15,
   "metadata": {},
   "outputs": [],
   "source": [
    "pickle_in = open('tfidfw2v_test.pkl', 'rb')\n",
    "tfidfw2v_test = pickle.load(pickle_in)"
   ]
  },
  {
   "cell_type": "code",
   "execution_count": 16,
   "metadata": {},
   "outputs": [],
   "source": [
    "pickle_in = open('tfidfw2v_cv.pkl', 'rb')\n",
    "tfidfw2v_cv = pickle.load(pickle_in)"
   ]
  },
  {
   "cell_type": "code",
   "execution_count": 17,
   "metadata": {},
   "outputs": [],
   "source": [
    "pickle_in = open('train_bow_count.pkl', 'rb')\n",
    "train_bow_count = pickle.load(pickle_in)"
   ]
  },
  {
   "cell_type": "code",
   "execution_count": 18,
   "metadata": {},
   "outputs": [],
   "source": [
    "pickle_in = open('test_bow_count.pkl', 'rb')\n",
    "test_bow_count = pickle.load(pickle_in)"
   ]
  },
  {
   "cell_type": "code",
   "execution_count": 19,
   "metadata": {},
   "outputs": [],
   "source": [
    "pickle_in = open('cv_bow_count.pkl', 'rb')\n",
    "cv_bow_count = pickle.load(pickle_in)"
   ]
  },
  {
   "cell_type": "code",
   "execution_count": 27,
   "metadata": {},
   "outputs": [],
   "source": [
    "df = pd.DataFrame(data=y_cv,columns=['Score'])"
   ]
  },
  {
   "cell_type": "code",
   "execution_count": 28,
   "metadata": {},
   "outputs": [],
   "source": [
    "df.replace(to_replace=[1,2], value=0, inplace=True)"
   ]
  },
  {
   "cell_type": "code",
   "execution_count": 29,
   "metadata": {
    "slideshow": {
     "slide_type": "notes"
    }
   },
   "outputs": [],
   "source": [
    "df.replace(to_replace=[5,4], value=1, inplace=True)"
   ]
  },
  {
   "cell_type": "code",
   "execution_count": 30,
   "metadata": {},
   "outputs": [],
   "source": [
    "df = pd.DataFrame(data=y_test,columns=['Score'])"
   ]
  },
  {
   "cell_type": "code",
   "execution_count": 31,
   "metadata": {},
   "outputs": [],
   "source": [
    "df.replace(to_replace=[1,2], value=0, inplace=True)"
   ]
  },
  {
   "cell_type": "code",
   "execution_count": 32,
   "metadata": {
    "slideshow": {
     "slide_type": "notes"
    }
   },
   "outputs": [],
   "source": [
    "df.replace(to_replace=[5,4], value=1, inplace=True)"
   ]
  },
  {
   "cell_type": "code",
   "execution_count": 33,
   "metadata": {},
   "outputs": [],
   "source": [
    "df = pd.DataFrame(data=y_train,columns=['Score'])"
   ]
  },
  {
   "cell_type": "code",
   "execution_count": 34,
   "metadata": {},
   "outputs": [],
   "source": [
    "df.replace(to_replace=[1,2], value=0, inplace=True)"
   ]
  },
  {
   "cell_type": "code",
   "execution_count": 35,
   "metadata": {
    "slideshow": {
     "slide_type": "notes"
    }
   },
   "outputs": [],
   "source": [
    "df.replace(to_replace=[5,4], value=1, inplace=True)"
   ]
  },
  {
   "cell_type": "code",
   "execution_count": 36,
   "metadata": {
    "scrolled": false
   },
   "outputs": [
    {
     "data": {
      "text/plain": [
       "1    53147\n",
       "0     6853\n",
       "Name: Score, dtype: int64"
      ]
     },
     "execution_count": 36,
     "metadata": {},
     "output_type": "execute_result"
    }
   ],
   "source": [
    "df.Score.value_counts()"
   ]
  },
  {
   "cell_type": "markdown",
   "metadata": {},
   "source": [
    "### Column Standardisation"
   ]
  },
  {
   "cell_type": "code",
   "execution_count": 37,
   "metadata": {},
   "outputs": [],
   "source": [
    "import warnings\n",
    "warnings.filterwarnings('ignore')"
   ]
  },
  {
   "cell_type": "markdown",
   "metadata": {},
   "source": [
    "### countvectorizer with float"
   ]
  },
  {
   "cell_type": "code",
   "execution_count": 159,
   "metadata": {},
   "outputs": [],
   "source": [
    "countvect = CountVectorizer(dtype='float', max_features=2000)"
   ]
  },
  {
   "cell_type": "code",
   "execution_count": 160,
   "metadata": {},
   "outputs": [],
   "source": [
    "cv = countvect.fit(x_train)"
   ]
  },
  {
   "cell_type": "code",
   "execution_count": 161,
   "metadata": {},
   "outputs": [],
   "source": [
    "train_bow = cv.transform(x_train)"
   ]
  },
  {
   "cell_type": "code",
   "execution_count": 162,
   "metadata": {},
   "outputs": [],
   "source": [
    "test_bow = cv.transform(x_test)"
   ]
  },
  {
   "cell_type": "code",
   "execution_count": 163,
   "metadata": {},
   "outputs": [],
   "source": [
    "cv_bow = cv.transform(x_cv)"
   ]
  },
  {
   "cell_type": "code",
   "execution_count": 164,
   "metadata": {},
   "outputs": [],
   "source": [
    "std = StandardScaler(with_mean=False)"
   ]
  },
  {
   "cell_type": "code",
   "execution_count": 165,
   "metadata": {},
   "outputs": [],
   "source": [
    "scaler = std.fit(train_bow)"
   ]
  },
  {
   "cell_type": "code",
   "execution_count": 166,
   "metadata": {},
   "outputs": [],
   "source": [
    "standard_train_bow = scaler.transform(train_bow)"
   ]
  },
  {
   "cell_type": "code",
   "execution_count": 167,
   "metadata": {},
   "outputs": [],
   "source": [
    "standard_test_bow = scaler.transform(test_bow)"
   ]
  },
  {
   "cell_type": "code",
   "execution_count": 168,
   "metadata": {},
   "outputs": [],
   "source": [
    "standard_cv_bow = scaler.transform(cv_bow)"
   ]
  },
  {
   "cell_type": "markdown",
   "metadata": {},
   "source": [
    "### [5.1.1] Applying Logistic Regression with L1 regularization on BOW,<font color='red'> SET 1</font>"
   ]
  },
  {
   "cell_type": "code",
   "execution_count": 204,
   "metadata": {},
   "outputs": [],
   "source": [
    "logreg=LogisticRegression(penalty='l1',random_state=42,n_jobs=2)"
   ]
  },
  {
   "cell_type": "code",
   "execution_count": 205,
   "metadata": {},
   "outputs": [],
   "source": [
    "gridvalues = {'C': [0.001,0.01,0.1,1,10,100,1000]}"
   ]
  },
  {
   "cell_type": "code",
   "execution_count": 206,
   "metadata": {},
   "outputs": [],
   "source": [
    "model = GridSearchCV(estimator=logreg, param_grid=gridvalues, scoring='f1',cv=10)"
   ]
  },
  {
   "cell_type": "code",
   "execution_count": 207,
   "metadata": {
    "scrolled": true
   },
   "outputs": [
    {
     "data": {
      "text/plain": [
       "GridSearchCV(cv=10, error_score='raise-deprecating',\n",
       "       estimator=LogisticRegression(C=1.0, class_weight=None, dual=False, fit_intercept=True,\n",
       "          intercept_scaling=1, max_iter=100, multi_class='warn', n_jobs=2,\n",
       "          penalty='l1', random_state=42, solver='warn', tol=0.0001,\n",
       "          verbose=0, warm_start=False),\n",
       "       fit_params=None, iid='warn', n_jobs=None,\n",
       "       param_grid={'C': [0.001, 0.01, 0.1, 1, 10, 100, 1000]},\n",
       "       pre_dispatch='2*n_jobs', refit=True, return_train_score='warn',\n",
       "       scoring='f1', verbose=0)"
      ]
     },
     "execution_count": 207,
     "metadata": {},
     "output_type": "execute_result"
    }
   ],
   "source": [
    "model.fit(standard_train_bow, y_train)"
   ]
  },
  {
   "cell_type": "code",
   "execution_count": 208,
   "metadata": {},
   "outputs": [
    {
     "data": {
      "text/plain": [
       "LogisticRegression(C=0.1, class_weight=None, dual=False, fit_intercept=True,\n",
       "          intercept_scaling=1, max_iter=100, multi_class='warn', n_jobs=2,\n",
       "          penalty='l1', random_state=42, solver='warn', tol=0.0001,\n",
       "          verbose=0, warm_start=False)"
      ]
     },
     "execution_count": 208,
     "metadata": {},
     "output_type": "execute_result"
    }
   ],
   "source": [
    "model.best_estimator_"
   ]
  },
  {
   "cell_type": "code",
   "execution_count": 209,
   "metadata": {},
   "outputs": [
    {
     "data": {
      "text/plain": [
       "0.9591033566293468"
      ]
     },
     "execution_count": 209,
     "metadata": {},
     "output_type": "execute_result"
    }
   ],
   "source": [
    "model.best_score_"
   ]
  },
  {
   "cell_type": "markdown",
   "metadata": {},
   "source": [
    "### Building Logistic regression model based on result from GridSearch"
   ]
  },
  {
   "cell_type": "code",
   "execution_count": 210,
   "metadata": {},
   "outputs": [],
   "source": [
    "logreg = LogisticRegression(C=0.1, penalty='l1', random_state=42, n_jobs=2)"
   ]
  },
  {
   "cell_type": "code",
   "execution_count": 211,
   "metadata": {},
   "outputs": [
    {
     "data": {
      "text/plain": [
       "LogisticRegression(C=0.1, class_weight=None, dual=False, fit_intercept=True,\n",
       "          intercept_scaling=1, max_iter=100, multi_class='warn', n_jobs=2,\n",
       "          penalty='l1', random_state=42, solver='warn', tol=0.0001,\n",
       "          verbose=0, warm_start=False)"
      ]
     },
     "execution_count": 211,
     "metadata": {},
     "output_type": "execute_result"
    }
   ],
   "source": [
    "logreg.fit(standard_train_bow, y_train)"
   ]
  },
  {
   "cell_type": "code",
   "execution_count": 212,
   "metadata": {},
   "outputs": [
    {
     "name": "stdout",
     "output_type": "stream",
     "text": [
      "train error is  6.028333333333336\n"
     ]
    }
   ],
   "source": [
    "print('train error is ', 100 - (logreg.score(standard_train_bow, y_train)*100))"
   ]
  },
  {
   "cell_type": "code",
   "execution_count": 213,
   "metadata": {},
   "outputs": [],
   "source": [
    "y_pred = logreg.predict(standard_test_bow)"
   ]
  },
  {
   "cell_type": "code",
   "execution_count": 214,
   "metadata": {},
   "outputs": [
    {
     "name": "stdout",
     "output_type": "stream",
     "text": [
      "the f1 score on testing set is 91%\n"
     ]
    }
   ],
   "source": [
    "f1 = f1_score(y_test, y_pred, average='micro')*100\n",
    "print('the f1 score on testing set is %d%%' %(f1))"
   ]
  },
  {
   "cell_type": "markdown",
   "metadata": {},
   "source": [
    "### Performance measures"
   ]
  },
  {
   "cell_type": "code",
   "execution_count": 215,
   "metadata": {},
   "outputs": [],
   "source": [
    "cmat = confusion_matrix(y_test, y_pred)"
   ]
  },
  {
   "cell_type": "code",
   "execution_count": 216,
   "metadata": {},
   "outputs": [
    {
     "data": {
      "text/plain": [
       "<matplotlib.axes._subplots.AxesSubplot at 0x28bdbf174a8>"
      ]
     },
     "execution_count": 216,
     "metadata": {},
     "output_type": "execute_result"
    },
    {
     "data": {
      "image/png": "[encoded data removed]",
      "text/plain": [
       "<Figure size 432x288 with 2 Axes>"
      ]
     },
     "metadata": {},
     "output_type": "display_data"
    }
   ],
   "source": [
    "sns.heatmap(data=cmat,annot=True, fmt=\"d\" ,cmap=\"YlGnBu\" )"
   ]
  },
  {
   "cell_type": "code",
   "execution_count": 70,
   "metadata": {
    "scrolled": true
   },
   "outputs": [
    {
     "data": {
      "text/plain": [
       "Counter({1: 17326, 0: 2674})"
      ]
     },
     "execution_count": 70,
     "metadata": {},
     "output_type": "execute_result"
    }
   ],
   "source": [
    "Counter(y_test)"
   ]
  },
  {
   "cell_type": "code",
   "execution_count": 217,
   "metadata": {},
   "outputs": [
    {
     "name": "stdout",
     "output_type": "stream",
     "text": [
      "precision score for test set is  93.65202890494719\n"
     ]
    }
   ],
   "source": [
    "print('precision score for test set is ',(precision_score(y_test, y_pred)*100))"
   ]
  },
  {
   "cell_type": "code",
   "execution_count": 218,
   "metadata": {},
   "outputs": [
    {
     "name": "stdout",
     "output_type": "stream",
     "text": [
      "recall score for test set is  97.24114048251184\n"
     ]
    }
   ],
   "source": [
    "print('recall score for test set is ',(recall_score(y_test, y_pred)*100))"
   ]
  },
  {
   "cell_type": "code",
   "execution_count": 219,
   "metadata": {},
   "outputs": [
    {
     "name": "stdout",
     "output_type": "stream",
     "text": [
      "fbeta score for test set is  91.90000000000002\n"
     ]
    }
   ],
   "source": [
    "print('fbeta score for test set is ',(fbeta_score(y_test, y_pred, beta=0.5,average='micro')*100))"
   ]
  },
  {
   "cell_type": "code",
   "execution_count": 120,
   "metadata": {},
   "outputs": [],
   "source": [
    "y_pred_prob = logreg.predict_proba(standard_test_bow)[:,1]"
   ]
  },
  {
   "cell_type": "code",
   "execution_count": 121,
   "metadata": {},
   "outputs": [],
   "source": [
    "from sklearn.metrics import roc_curve,roc_auc_score"
   ]
  },
  {
   "cell_type": "code",
   "execution_count": 122,
   "metadata": {},
   "outputs": [],
   "source": [
    "fpr, tpr, thresholds = roc_curve(y_test, y_pred_prob)"
   ]
  },
  {
   "cell_type": "code",
   "execution_count": 123,
   "metadata": {
    "scrolled": true
   },
   "outputs": [
    {
     "data": {
      "text/plain": [
       "Text(0.5,1,'ROC Curve')"
      ]
     },
     "execution_count": 123,
     "metadata": {},
     "output_type": "execute_result"
    },
    {
     "data": {
      "image/png": "[encoded data removed]",
      "text/plain": [
       "<Figure size 432x288 with 1 Axes>"
      ]
     },
     "metadata": {},
     "output_type": "display_data"
    }
   ],
   "source": [
    "plt.plot([0, 1], [0, 1], 'k--')\n",
    "plt.plot(fpr, tpr)\n",
    "plt.xlabel('False Positive Rate')\n",
    "plt.ylabel('True Positive Rate')\n",
    "plt.title('ROC Curve')"
   ]
  },
  {
   "cell_type": "code",
   "execution_count": 124,
   "metadata": {},
   "outputs": [
    {
     "data": {
      "text/plain": [
       "0.9279618091400675"
      ]
     },
     "execution_count": 124,
     "metadata": {},
     "output_type": "execute_result"
    }
   ],
   "source": [
    "roc_auc_score(y_test, y_pred_prob)"
   ]
  },
  {
   "cell_type": "markdown",
   "metadata": {},
   "source": [
    "#### [5.1.1.1] Calculating sparsity on weight vector obtained using L1 regularization on BOW,<font color='red'> SET 1</font>"
   ]
  },
  {
   "cell_type": "code",
   "execution_count": 71,
   "metadata": {},
   "outputs": [
    {
     "data": {
      "text/plain": [
       "(1, 2000)"
      ]
     },
     "execution_count": 71,
     "metadata": {},
     "output_type": "execute_result"
    }
   ],
   "source": [
    "logreg.coef_.shape"
   ]
  },
  {
   "cell_type": "code",
   "execution_count": 89,
   "metadata": {},
   "outputs": [],
   "source": [
    "squeezed=logreg.coef_.squeeze()"
   ]
  },
  {
   "cell_type": "code",
   "execution_count": 93,
   "metadata": {},
   "outputs": [],
   "source": [
    "count=0\n",
    "for i in squeezed:\n",
    "    if (i==0).all():\n",
    "        count+=1"
   ]
  },
  {
   "cell_type": "code",
   "execution_count": 97,
   "metadata": {},
   "outputs": [
    {
     "name": "stdout",
     "output_type": "stream",
     "text": [
      "sparsity of the weights is: 12.9\n"
     ]
    }
   ],
   "source": [
    "print('sparsity of the weights is: {}'.format(count/len(squeezed)*100))"
   ]
  },
  {
   "cell_type": "code",
   "execution_count": 3,
   "metadata": {},
   "outputs": [],
   "source": [
    "# Please write all the code with proper documentation"
   ]
  },
  {
   "cell_type": "markdown",
   "metadata": {},
   "source": [
    "### [5.1.2] Applying Logistic Regression with L2 regularization on BOW,<font color='red'> SET 1</font>"
   ]
  },
  {
   "cell_type": "code",
   "execution_count": 169,
   "metadata": {},
   "outputs": [],
   "source": [
    "logreg=LogisticRegression(penalty='l2',random_state=42,n_jobs=2)"
   ]
  },
  {
   "cell_type": "code",
   "execution_count": 170,
   "metadata": {},
   "outputs": [],
   "source": [
    "gridvalues = {'C': [0.001,0.01,0.1,1,10,100,1000]}"
   ]
  },
  {
   "cell_type": "code",
   "execution_count": 171,
   "metadata": {},
   "outputs": [],
   "source": [
    "model = GridSearchCV(estimator=logreg, param_grid=gridvalues, scoring='f1',cv=10)"
   ]
  },
  {
   "cell_type": "code",
   "execution_count": 172,
   "metadata": {
    "scrolled": true
   },
   "outputs": [
    {
     "data": {
      "text/plain": [
       "GridSearchCV(cv=10, error_score='raise-deprecating',\n",
       "       estimator=LogisticRegression(C=1.0, class_weight=None, dual=False, fit_intercept=True,\n",
       "          intercept_scaling=1, max_iter=100, multi_class='warn', n_jobs=2,\n",
       "          penalty='l2', random_state=42, solver='warn', tol=0.0001,\n",
       "          verbose=0, warm_start=False),\n",
       "       fit_params=None, iid='warn', n_jobs=None,\n",
       "       param_grid={'C': [0.001, 0.01, 0.1, 1, 10, 100, 1000]},\n",
       "       pre_dispatch='2*n_jobs', refit=True, return_train_score='warn',\n",
       "       scoring='f1', verbose=0)"
      ]
     },
     "execution_count": 172,
     "metadata": {},
     "output_type": "execute_result"
    }
   ],
   "source": [
    "model.fit(standard_train_bow, y_train)"
   ]
  },
  {
   "cell_type": "code",
   "execution_count": 173,
   "metadata": {},
   "outputs": [
    {
     "data": {
      "text/plain": [
       "LogisticRegression(C=0.001, class_weight=None, dual=False, fit_intercept=True,\n",
       "          intercept_scaling=1, max_iter=100, multi_class='warn', n_jobs=2,\n",
       "          penalty='l2', random_state=42, solver='warn', tol=0.0001,\n",
       "          verbose=0, warm_start=False)"
      ]
     },
     "execution_count": 173,
     "metadata": {},
     "output_type": "execute_result"
    }
   ],
   "source": [
    "model.best_estimator_"
   ]
  },
  {
   "cell_type": "markdown",
   "metadata": {},
   "source": [
    "### Building Logistic regression model based on result from GridSearch"
   ]
  },
  {
   "cell_type": "code",
   "execution_count": 174,
   "metadata": {},
   "outputs": [],
   "source": [
    "logreg = LogisticRegression(C=0.001, penalty='l2', random_state=42, n_jobs=2)"
   ]
  },
  {
   "cell_type": "code",
   "execution_count": 175,
   "metadata": {},
   "outputs": [
    {
     "data": {
      "text/plain": [
       "LogisticRegression(C=0.001, class_weight=None, dual=False, fit_intercept=True,\n",
       "          intercept_scaling=1, max_iter=100, multi_class='warn', n_jobs=2,\n",
       "          penalty='l2', random_state=42, solver='warn', tol=0.0001,\n",
       "          verbose=0, warm_start=False)"
      ]
     },
     "execution_count": 175,
     "metadata": {},
     "output_type": "execute_result"
    }
   ],
   "source": [
    "logreg.fit(standard_train_bow, y_train)"
   ]
  },
  {
   "cell_type": "code",
   "execution_count": 176,
   "metadata": {},
   "outputs": [
    {
     "name": "stdout",
     "output_type": "stream",
     "text": [
      "train error is  6.291666666666657\n"
     ]
    }
   ],
   "source": [
    "print('train error is ', 100 - (logreg.score(standard_train_bow, y_train)*100))"
   ]
  },
  {
   "cell_type": "code",
   "execution_count": 177,
   "metadata": {},
   "outputs": [],
   "source": [
    "y_pred = logreg.predict(standard_test_bow)"
   ]
  },
  {
   "cell_type": "code",
   "execution_count": 178,
   "metadata": {},
   "outputs": [
    {
     "name": "stdout",
     "output_type": "stream",
     "text": [
      "the f1 score on testing set is 91%\n"
     ]
    }
   ],
   "source": [
    "f1 = f1_score(y_test, y_pred, average='micro')*100\n",
    "print('the f1 score on testing set is %d%%' %(f1))"
   ]
  },
  {
   "cell_type": "markdown",
   "metadata": {},
   "source": [
    "### Performance measures"
   ]
  },
  {
   "cell_type": "code",
   "execution_count": 198,
   "metadata": {},
   "outputs": [],
   "source": [
    "cmat = confusion_matrix(y_test, y_pred)"
   ]
  },
  {
   "cell_type": "code",
   "execution_count": 199,
   "metadata": {},
   "outputs": [
    {
     "data": {
      "text/plain": [
       "<matplotlib.axes._subplots.AxesSubplot at 0x28bde5eabe0>"
      ]
     },
     "execution_count": 199,
     "metadata": {},
     "output_type": "execute_result"
    },
    {
     "data": {
      "image/png": "[encoded data removed]",
      "text/plain": [
       "<Figure size 432x288 with 2 Axes>"
      ]
     },
     "metadata": {},
     "output_type": "display_data"
    }
   ],
   "source": [
    "sns.heatmap(data=cmat,annot=True, fmt=\"d\" ,cmap=\"YlGnBu\" )"
   ]
  },
  {
   "cell_type": "code",
   "execution_count": 200,
   "metadata": {
    "scrolled": true
   },
   "outputs": [
    {
     "data": {
      "text/plain": [
       "Counter({1: 17326, 0: 2674})"
      ]
     },
     "execution_count": 200,
     "metadata": {},
     "output_type": "execute_result"
    }
   ],
   "source": [
    "Counter(y_test)"
   ]
  },
  {
   "cell_type": "code",
   "execution_count": 201,
   "metadata": {},
   "outputs": [
    {
     "name": "stdout",
     "output_type": "stream",
     "text": [
      "precision score for test set is  93.01369863013699\n"
     ]
    }
   ],
   "source": [
    "print('precision score for test set is ',(precision_score(y_test, y_pred)*100))"
   ]
  },
  {
   "cell_type": "code",
   "execution_count": 202,
   "metadata": {},
   "outputs": [
    {
     "name": "stdout",
     "output_type": "stream",
     "text": [
      "recall score for test set is  97.97414290661433\n"
     ]
    }
   ],
   "source": [
    "print('recall score for test set is ',(recall_score(y_test, y_pred)*100))"
   ]
  },
  {
   "cell_type": "code",
   "execution_count": 203,
   "metadata": {},
   "outputs": [
    {
     "name": "stdout",
     "output_type": "stream",
     "text": [
      "fbeta score for test set is  91.86999999999999\n"
     ]
    }
   ],
   "source": [
    "print('fbeta score for test set is ',(fbeta_score(y_test, y_pred, beta=0.5,average='micro')*100))"
   ]
  },
  {
   "cell_type": "code",
   "execution_count": 116,
   "metadata": {},
   "outputs": [
    {
     "data": {
      "text/plain": [
       "(20000, 2000)"
      ]
     },
     "execution_count": 116,
     "metadata": {},
     "output_type": "execute_result"
    }
   ],
   "source": [
    "standard_test_bow.shape"
   ]
  },
  {
   "cell_type": "code",
   "execution_count": 120,
   "metadata": {},
   "outputs": [],
   "source": [
    "y_pred_prob = logreg.predict_proba(standard_test_bow)[:,1]"
   ]
  },
  {
   "cell_type": "code",
   "execution_count": 121,
   "metadata": {},
   "outputs": [],
   "source": [
    "from sklearn.metrics import roc_curve,roc_auc_score"
   ]
  },
  {
   "cell_type": "code",
   "execution_count": 122,
   "metadata": {},
   "outputs": [],
   "source": [
    "fpr, tpr, thresholds = roc_curve(y_test, y_pred_prob)"
   ]
  },
  {
   "cell_type": "code",
   "execution_count": 123,
   "metadata": {
    "scrolled": true
   },
   "outputs": [
    {
     "data": {
      "text/plain": [
       "Text(0.5,1,'ROC Curve')"
      ]
     },
     "execution_count": 123,
     "metadata": {},
     "output_type": "execute_result"
    },
    {
     "data": {
      "image/png": "[encoded data removed]",
      "text/plain": [
       "<Figure size 432x288 with 1 Axes>"
      ]
     },
     "metadata": {},
     "output_type": "display_data"
    }
   ],
   "source": [
    "plt.plot([0, 1], [0, 1], 'k--')\n",
    "plt.plot(fpr, tpr)\n",
    "plt.xlabel('False Positive Rate')\n",
    "plt.ylabel('True Positive Rate')\n",
    "plt.title('ROC Curve')"
   ]
  },
  {
   "cell_type": "markdown",
   "metadata": {},
   "source": [
    "#### [5.1.2.1] Performing pertubation test (multicollinearity check) on BOW,<font color='red'> SET 1</font>"
   ]
  },
  {
   "cell_type": "code",
   "execution_count": 65,
   "metadata": {
    "scrolled": true
   },
   "outputs": [
    {
     "data": {
      "text/plain": [
       "LogisticRegression(C=0.001, class_weight=None, dual=False, fit_intercept=True,\n",
       "          intercept_scaling=1, max_iter=100, multi_class='warn', n_jobs=2,\n",
       "          penalty='l2', random_state=42, solver='warn', tol=0.0001,\n",
       "          verbose=0, warm_start=False)"
      ]
     },
     "execution_count": 65,
     "metadata": {},
     "output_type": "execute_result"
    }
   ],
   "source": [
    "logreg"
   ]
  },
  {
   "cell_type": "code",
   "execution_count": 66,
   "metadata": {},
   "outputs": [],
   "source": [
    "oldweights = logreg.coef_"
   ]
  },
  {
   "cell_type": "code",
   "execution_count": 67,
   "metadata": {},
   "outputs": [
    {
     "data": {
      "text/plain": [
       "(1, 2000)"
      ]
     },
     "execution_count": 67,
     "metadata": {},
     "output_type": "execute_result"
    }
   ],
   "source": [
    "oldweights.shape"
   ]
  },
  {
   "cell_type": "code",
   "execution_count": 81,
   "metadata": {},
   "outputs": [
    {
     "data": {
      "text/plain": [
       "(1542745,)"
      ]
     },
     "execution_count": 81,
     "metadata": {},
     "output_type": "execute_result"
    }
   ],
   "source": [
    "standard_train_bow.data.shape"
   ]
  },
  {
   "cell_type": "code",
   "execution_count": 68,
   "metadata": {},
   "outputs": [],
   "source": [
    "noise = 0.00001"
   ]
  },
  {
   "cell_type": "code",
   "execution_count": 79,
   "metadata": {},
   "outputs": [],
   "source": [
    "noisedbow = np.add(standard_train_bow.data, noise)"
   ]
  },
  {
   "cell_type": "code",
   "execution_count": 83,
   "metadata": {},
   "outputs": [],
   "source": [
    "noisedbow.resize((60000,2000))"
   ]
  },
  {
   "cell_type": "code",
   "execution_count": 84,
   "metadata": {},
   "outputs": [
    {
     "data": {
      "text/plain": [
       "(60000, 2000)"
      ]
     },
     "execution_count": 84,
     "metadata": {},
     "output_type": "execute_result"
    }
   ],
   "source": [
    "noisedbow.shape"
   ]
  },
  {
   "cell_type": "code",
   "execution_count": 70,
   "metadata": {},
   "outputs": [],
   "source": [
    "noisedlogreg = LogisticRegression(C=0.001, penalty='l2', random_state=42, n_jobs=2)"
   ]
  },
  {
   "cell_type": "code",
   "execution_count": 85,
   "metadata": {},
   "outputs": [
    {
     "data": {
      "text/plain": [
       "LogisticRegression(C=0.001, class_weight=None, dual=False, fit_intercept=True,\n",
       "          intercept_scaling=1, max_iter=100, multi_class='warn', n_jobs=2,\n",
       "          penalty='l2', random_state=42, solver='warn', tol=0.0001,\n",
       "          verbose=0, warm_start=False)"
      ]
     },
     "execution_count": 85,
     "metadata": {},
     "output_type": "execute_result"
    }
   ],
   "source": [
    "noisedlogreg.fit(noisedbow, y_train)"
   ]
  },
  {
   "cell_type": "code",
   "execution_count": 86,
   "metadata": {},
   "outputs": [],
   "source": [
    "newweights = noisedlogreg.coef_"
   ]
  },
  {
   "cell_type": "code",
   "execution_count": 87,
   "metadata": {},
   "outputs": [],
   "source": [
    "epsilon = np.full(shape=oldweights.shape, fill_value=0.000001)"
   ]
  },
  {
   "cell_type": "code",
   "execution_count": 88,
   "metadata": {},
   "outputs": [],
   "source": [
    "oldweights += epsilon"
   ]
  },
  {
   "cell_type": "code",
   "execution_count": 89,
   "metadata": {},
   "outputs": [],
   "source": [
    "newweights += epsilon"
   ]
  },
  {
   "cell_type": "code",
   "execution_count": 90,
   "metadata": {},
   "outputs": [],
   "source": [
    "change = (abs((oldweights - newweights)/(oldweights)))*100"
   ]
  },
  {
   "cell_type": "code",
   "execution_count": 94,
   "metadata": {},
   "outputs": [],
   "source": [
    "feature_names = countvect.get_feature_names()"
   ]
  },
  {
   "cell_type": "code",
   "execution_count": 95,
   "metadata": {},
   "outputs": [],
   "source": [
    "coefs_with_fns = sorted(zip(change[0], feature_names))"
   ]
  },
  {
   "cell_type": "code",
   "execution_count": 104,
   "metadata": {},
   "outputs": [],
   "source": [
    "changed=[]\n",
    "for i in coefs_with_fns:\n",
    "    if i[0]>25:\n",
    "        changed.append(i)\n",
    "# coefs_with_fns[0]"
   ]
  },
  {
   "cell_type": "code",
   "execution_count": 100,
   "metadata": {},
   "outputs": [
    {
     "data": {
      "text/plain": [
       "2000"
      ]
     },
     "execution_count": 100,
     "metadata": {},
     "output_type": "execute_result"
    }
   ],
   "source": [
    "len(coefs_with_fns)"
   ]
  },
  {
   "cell_type": "code",
   "execution_count": 105,
   "metadata": {},
   "outputs": [
    {
     "data": {
      "text/plain": [
       "1937"
      ]
     },
     "execution_count": 105,
     "metadata": {},
     "output_type": "execute_result"
    }
   ],
   "source": [
    "len(changed)"
   ]
  },
  {
   "cell_type": "code",
   "execution_count": 68,
   "metadata": {
    "scrolled": false
   },
   "outputs": [
    {
     "data": {
      "text/plain": [
       "array([1.07791246e-01, 6.02434128e+01, 8.06419373e+01, 8.94868030e+01,\n",
       "       9.49671274e+01, 1.00041762e+02, 1.05856093e+02, 1.13264029e+02,\n",
       "       1.28757845e+02, 1.65646174e+02, 2.32727347e+04])"
      ]
     },
     "execution_count": 68,
     "metadata": {},
     "output_type": "execute_result"
    }
   ],
   "source": [
    "np.percentile(a=change,q=[0,10,20,30,40,50,60,70,80,90,100])"
   ]
  },
  {
   "cell_type": "code",
   "execution_count": 70,
   "metadata": {},
   "outputs": [
    {
     "data": {
      "text/plain": [
       "array([ 0.10779125,  5.9989447 , 14.96595093, 24.59809531, 28.59470595,\n",
       "       37.87709521, 43.4869458 , 47.31904246, 51.50657214, 55.84566625])"
      ]
     },
     "execution_count": 70,
     "metadata": {},
     "output_type": "execute_result"
    }
   ],
   "source": [
    "np.percentile(a=change,q=[0,1,2,3,4,5,6,7,8,9])"
   ]
  },
  {
   "cell_type": "markdown",
   "metadata": {},
   "source": [
    "### As seen above, there are some sudden changes in range (0,10) percentiles"
   ]
  },
  {
   "cell_type": "code",
   "execution_count": 76,
   "metadata": {},
   "outputs": [
    {
     "name": "stdout",
     "output_type": "stream",
     "text": [
      "list of feature that changed more than threshold which is 25%:\n",
      "(25.093109492404153, 'lipton')\n",
      "(25.494788115303514, 'newman')\n",
      "(25.716717113474097, 'reorder')\n",
      "(25.840132085119727, 'highest')\n",
      "(26.120340857914808, 'websit')\n",
      "(26.15123306076533, 'over')\n",
      "(26.227291072165638, 'design')\n",
      "(26.297537447527315, 'respect')\n",
      "(26.862150990712525, 'stomach')\n",
      "(27.055904608482535, 'coat')\n",
      "(27.117728145746046, 'hungri')\n",
      "(27.238309385664568, 'upon')\n",
      "(27.33051897871056, 'assort')\n",
      "(27.873118085994346, 'path')\n",
      "(28.078383836093344, 'expens')\n",
      "(28.251091745766182, 'adjust')\n",
      "(28.433493253184245, 'loaf')\n",
      "(28.60142314056826, 'veggi')\n",
      "(28.862556917213922, 'rye')\n",
      "(29.56830837819321, 'protect')\n",
      "(30.70912451693281, 'honest')\n",
      "(31.606575635658924, 'counter')\n",
      "(32.64449264744351, 'apricot')\n",
      "(33.05464746311796, 'attent')\n",
      "(33.57262474425744, 'carbohydr')\n",
      "(34.09226008561057, 'experi')\n",
      "(35.372156503971894, 'reseal')\n",
      "(35.56995674282115, 'let')\n",
      "(36.04064225092355, 'unabl')\n",
      "(36.20227037363837, 'brush')\n",
      "(36.2884330362798, 'fatti')\n",
      "(36.298218325499036, 'weekend')\n",
      "(36.692649420461976, 'rave')\n",
      "(37.05521324293478, 'twist')\n",
      "(37.34956623751665, 'consider')\n",
      "(37.41379974597364, 'bull')\n",
      "(37.54409679700603, 'grate')\n",
      "(37.894621439726514, 'splenda')\n",
      "(38.13827716494526, 'form')\n",
      "(38.23730822137645, 'pair')\n",
      "(38.316279323880515, 'strawberri')\n",
      "(38.346595403302246, 'heart')\n",
      "(39.18416452728752, 'pear')\n",
      "(39.22412583220439, 'french')\n",
      "(39.42325324553155, 'begin')\n",
      "(39.67532151500683, 'kept')\n",
      "(40.58540047277056, 'accord')\n",
      "(40.5976154474867, 'sens')\n",
      "(41.26110675829532, 'sort')\n",
      "(41.405013348633, 'snap')\n",
      "(41.576861851333895, 'basil')\n",
      "(41.67572680301501, 'bunch')\n",
      "(41.70501484657394, 'took')\n",
      "(41.80592476776876, 'grey')\n",
      "(42.119304357276626, 'sharp')\n",
      "(42.25744036730947, 'toy')\n",
      "(43.01401895711937, 'ten')\n",
      "(43.51713262345508, 'folger')\n",
      "(43.77054186993626, 'ran')\n",
      "(43.971478080096894, 'parsley')\n",
      "(44.0580971783844, 'appar')\n",
      "(44.54699046312687, 'min')\n",
      "(44.94453398587787, 'advis')\n",
      "(45.31062203142325, 'hunt')\n",
      "(45.33343184664844, 'calm')\n",
      "(45.56426689729813, 'cuisin')\n",
      "(45.590274236890224, 'substanti')\n",
      "(45.66385268505826, 'replac')\n",
      "(45.84625404335444, 'german')\n",
      "(46.02971310258829, 'ton')\n",
      "(46.23017224238771, 'notic')\n",
      "(46.29355734959294, 'intend')\n",
      "(46.80859885154469, 'cherri')\n",
      "(46.85465880753469, 'cap')\n",
      "(46.89116168060046, 'gain')\n",
      "(46.997865291992426, 'hole')\n",
      "(47.134780877505015, 'bright')\n",
      "(47.3329116102747, 'donut')\n",
      "(47.333724157643296, 'ad')\n",
      "(47.39519391204334, 'requir')\n",
      "(47.56299101589762, 'brought')\n",
      "(47.60640044912094, 'food')\n",
      "(47.7768237894292, 'sunflow')\n",
      "(47.79678963099155, 'butter')\n",
      "(48.20947022414735, 'charg')\n",
      "(48.5137864690003, 'fulli')\n",
      "(48.637888920146146, 'busi')\n",
      "(48.87635406281308, 'twine')\n",
      "(48.926800169660986, 'silk')\n",
      "(49.0931310337652, 'usa')\n",
      "(49.69821044377853, 'includ')\n",
      "(49.888794964209964, 'quinoa')\n",
      "(49.959765895108866, 'jim')\n",
      "(50.08971680793027, 'necessari')\n",
      "(50.319632985803786, 'drank')\n",
      "(51.222650050349195, 'burger')\n",
      "(51.44596939798198, 'crumbl')\n",
      "(51.51184194215297, 'ideal')\n",
      "(51.58864456728073, 'solut')\n",
      "(51.61421687633623, 'collect')\n",
      "(51.65303342312492, 'comparison')\n",
      "(52.12362618839259, 'starch')\n",
      "(52.38162694518377, 'decad')\n",
      "(52.962676763961845, 'frank')\n",
      "(53.221099482381796, 'burnt')\n",
      "(53.491932200542024, 'member')\n",
      "(53.96354565069945, 'size')\n",
      "(54.15987845485631, 'lemonad')\n",
      "(54.52462587535843, 'salsa')\n",
      "(54.69201121423942, 'aid')\n",
      "(54.81063970032093, 'bubbl')\n",
      "(54.82506889395913, 'bean')\n",
      "(54.947921263930645, 'pill')\n",
      "(55.218742262238365, 'fragranc')\n",
      "(55.4059223799573, 'origin')\n",
      "(55.47298886685992, 'crush')\n",
      "(55.64191129513407, 'tin')\n",
      "(55.86581784081318, 'jack')\n",
      "(56.32993332726131, 'bottl')\n",
      "(56.66842811562538, 'cost')\n",
      "(56.7544959841354, 'sell')\n",
      "(57.41475090703017, 'nose')\n",
      "(57.76854571160963, 'practic')\n",
      "(58.021416277881485, 'vet')\n",
      "(58.02891734541753, 'lime')\n",
      "(58.46584855125684, 'around')\n",
      "(58.46623268788238, 'coke')\n",
      "(58.694013769648755, 'pineappl')\n",
      "(58.75035142981652, 'readili')\n",
      "(59.008479442591074, 'caffein')\n",
      "(59.014220251265485, 'opportun')\n",
      "(59.15833540316927, 'soft')\n",
      "(59.24467776277409, 'forev')\n",
      "(59.38472350918459, 'flaxse')\n",
      "(59.41553823608735, 'hershey')\n",
      "(59.69243449329472, 'somehow')\n",
      "(59.7729951654202, 'tropic')\n",
      "(60.295681429620174, 'rush')\n",
      "(60.39763461096727, 'beverag')\n",
      "(60.540372493122895, 'fig')\n",
      "(60.576002875388305, 'acid')\n",
      "(60.6584442633263, 'specialti')\n",
      "(60.67311430941206, 'jam')\n",
      "(61.10643026999381, 'natur')\n",
      "(61.256540969382286, 'suffer')\n",
      "(61.44099796857565, 'vari')\n",
      "(61.54522493245336, 'darker')\n",
      "(61.67936511937153, 'tomato')\n",
      "(61.730962657957086, 'pot')\n",
      "(61.740643800574865, 'mood')\n",
      "(62.0156125079543, 'pure')\n",
      "(62.09844880037754, 'suggest')\n",
      "(62.34544255427973, 'fat')\n",
      "(62.8135435908406, 'pictur')\n",
      "(62.871449847758264, 'final')\n",
      "(63.15522882116623, 'cream')\n",
      "(63.6975595028188, 'improv')\n",
      "(63.935721025858605, 'catch')\n",
      "(64.27387441691182, 'teaspoon')\n",
      "(64.38678589136447, 'lost')\n",
      "(64.55824195256598, 'key')\n",
      "(64.56991149303501, 'bud')\n",
      "(64.63199865460481, 'rate')\n",
      "(65.55972842885879, 'gobbl')\n",
      "(65.64754003345736, 'dad')\n",
      "(65.76719483693635, 'leav')\n",
      "(65.81499636614524, 'sourc')\n",
      "(65.97821266897286, 'name')\n",
      "(66.00271407616971, 'sam')\n",
      "(66.37131591092387, 'shelf')\n",
      "(66.49663641211797, 'handl')\n",
      "(66.58889939585168, 'doctor')\n",
      "(66.70878597767327, 'drain')\n",
      "(66.72992196232211, 'altoid')\n",
      "(66.94754146076227, 'space')\n",
      "(66.98689482239294, 'occasion')\n",
      "(67.01842634034705, 'dinner')\n",
      "(67.10508072747453, 'season')\n",
      "(67.23395353902643, 'put')\n",
      "(67.27681553209979, 'check')\n",
      "(67.33416080792183, 'press')\n",
      "(67.37616602722657, 'term')\n",
      "(67.67297330208906, 'dish')\n",
      "(67.81195436152821, 'lettuc')\n",
      "(67.81953031806525, 'dilut')\n",
      "(67.8319930490495, 'dump')\n",
      "(67.84795109173592, 'sushi')\n",
      "(68.05486870707888, 'soup')\n",
      "(68.18037445269823, 'canida')\n",
      "(68.24334638787847, 'student')\n",
      "(68.25155284797522, 'answer')\n",
      "(68.26354892792924, 'grind')\n",
      "(68.29465093486407, 'deep')\n",
      "(68.33897295701166, 'dip')\n",
      "(68.53294522242889, 'hibiscus')\n",
      "(68.60362448867438, 'regard')\n",
      "(68.8530814562856, 'dead')\n",
      "(68.9311222225234, 'fond')\n",
      "(68.98143049578428, 'zero')\n",
      "(69.0384794862095, 'chines')\n",
      "(69.0428773959911, 'trade')\n",
      "(69.17557347928297, 'lower')\n",
      "(69.37287243805737, 'write')\n",
      "(69.37293317262873, 'kettl')\n",
      "(69.5211999195997, 'essenti')\n",
      "(69.53987232340928, 'mexican')\n",
      "(69.609001691576, 'folk')\n",
      "(69.83206558497118, 'distribut')\n",
      "(69.93504264640892, 'side')\n",
      "(70.12726428483434, 'rawhid')\n",
      "(70.43854485674815, 'moment')\n",
      "(70.63152020782, 'lobster')\n",
      "(70.64221233789314, 'talk')\n",
      "(70.69073334840543, 'chill')\n",
      "(70.80773959167627, 'sweetner')\n",
      "(70.82461824128447, 'fall')\n",
      "(70.86216389898102, 'fine')\n",
      "(71.25790762113401, 'anoth')\n",
      "(71.28771437496938, 'storag')\n",
      "(71.32165629472287, 'gel')\n",
      "(71.56574029115002, 'caramel')\n",
      "(71.58976566356114, 'proper')\n",
      "(71.8028033352385, 'cupboard')\n",
      "(71.80922169431288, 'cover')\n",
      "(72.04840348192228, 'chocol')\n",
      "(72.0967846255912, 'next')\n",
      "(72.15163067491473, 'chop')\n",
      "(72.30190172279812, 'cane')\n",
      "(72.33200374612942, 'serious')\n",
      "(72.46166408023628, 'thrown')\n",
      "(72.54702002827118, 'common')\n",
      "(72.63261721308328, 'stuff')\n",
      "(72.7649502804254, 'oolong')\n",
      "(72.90669210692641, 'pantri')\n",
      "(73.01081394108638, 'chew')\n",
      "(73.03716357727103, 'guilti')\n",
      "(73.0761705384577, 'gum')\n",
      "(73.21083879613684, 'chain')\n",
      "(73.23039662355998, 'individu')\n",
      "(73.24183908968817, 'one')\n",
      "(73.24365925578385, 'cool')\n",
      "(73.25289870859967, 'favor')\n",
      "(73.30280261865705, 'complain')\n",
      "(73.38083762262923, 'packag')\n",
      "(73.39301586681928, 'refus')\n",
      "(73.55118471079982, 'workout')\n",
      "(73.57524751535793, 'gone')\n",
      "(73.61218871859533, 'sun')\n",
      "(73.62058869343812, 'red')\n",
      "(73.6964627857225, 'cant')\n",
      "(73.70180739412352, 'grab')\n",
      "(73.75207746298044, 'said')\n",
      "(73.81176736776222, 'purpos')\n",
      "(73.9409278906662, 'split')\n",
      "(74.14939785169153, 'layer')\n",
      "(74.14992215605982, 'posit')\n",
      "(74.34840695045833, 'famous')\n",
      "(74.44228189156132, 'decor')\n",
      "(74.65306827502965, 'still')\n",
      "(74.67696736302852, 'place')\n",
      "(74.67763696701056, 'ador')\n",
      "(74.68309636028475, 'exot')\n",
      "(74.8004355470451, 'spoil')\n",
      "(74.86873694067529, 'step')\n",
      "(75.00900685151508, 'basi')\n",
      "(75.08748406130353, 'odd')\n",
      "(75.15746967470356, 'crash')\n",
      "(75.2137952419503, 'scratch')\n",
      "(75.4244938932273, 'say')\n",
      "(75.6044868917213, 'wet')\n",
      "(75.61504623409948, 'chose')\n",
      "(75.61759392486151, 'tough')\n",
      "(75.75550081222501, 'win')\n",
      "(75.93610509070263, 'middl')\n",
      "(75.99294507131695, 'tuna')\n",
      "(76.09159844118292, 'track')\n",
      "(76.13694917943144, 'robust')\n",
      "(76.30779977694559, 'plus')\n",
      "(76.35872614737447, 'nut')\n",
      "(76.51537534927452, 'alon')\n",
      "(76.51931996501673, 'portion')\n",
      "(76.57554479721212, 'childhood')\n",
      "(76.61763390232198, 'except')\n",
      "(76.62005620205397, 'intens')\n",
      "(76.69825529546141, 'work')\n",
      "(76.7260175947153, 'similar')\n",
      "(76.89812989476742, 'maintain')\n",
      "(76.97273004937261, 'equal')\n",
      "(77.20316760360306, 'feed')\n",
      "(77.20793139263597, 'mountain')\n",
      "(77.21750693633349, 'blue')\n",
      "(77.35678945557265, 'fizzi')\n",
      "(77.5503249345459, 'supplier')\n",
      "(77.72367534753485, 'foil')\n",
      "(77.76460525164286, 'shelv')\n",
      "(77.7887372228494, 'specif')\n",
      "(77.82872916416034, 'averag')\n",
      "(77.85707881530081, 'grown')\n",
      "(78.18155177476046, 'alreadi')\n",
      "(78.20192750057721, 'care')\n",
      "(78.2328572676019, 'rins')\n",
      "(78.23721841257955, 'kong')\n",
      "(78.2723540300833, 'macaroni')\n",
      "(78.28491048082597, 'tang')\n",
      "(78.36374772094729, 'girl')\n",
      "(78.50762604343309, 'hot')\n",
      "(78.51828730774388, 'energi')\n",
      "(78.57184321265957, 'juici')\n",
      "(78.65364942679909, 'tabasco')\n",
      "(78.66482567761204, 'room')\n",
      "(78.68241301596423, 'meant')\n",
      "(78.80767105008788, 'grill')\n",
      "(78.8090090467966, 'clear')\n",
      "(78.81915572583475, 'heard')\n",
      "(78.8708004724032, 'onlin')\n",
      "(78.89359391303815, 'grade')\n",
      "(79.08210404070827, 'top')\n",
      "(79.13605331138736, 'digest')\n",
      "(79.3069837113247, 'speak')\n",
      "(79.50958998926751, 'fanci')\n",
      "(79.51393665820017, 'terrier')\n",
      "(79.57847953804605, 'toast')\n",
      "(79.62148293036769, 'grandmoth')\n",
      "(79.82410141127465, 'search')\n",
      "(79.87406685142206, 'fruit')\n",
      "(80.05883762123128, 'group')\n",
      "(80.07253652096247, 'center')\n",
      "(80.22673086580227, 'resist')\n",
      "(80.30287962167877, 'cough')\n",
      "(80.30301974705665, 'lbs')\n",
      "(80.33695799002632, 'frequent')\n",
      "(80.34167768112196, 'remain')\n",
      "(80.3626758919451, 'dog')\n",
      "(80.36386824723614, 'addit')\n",
      "(80.42503136056338, 'never')\n",
      "(80.46066179653354, 'blend')\n",
      "(80.63203829896968, 'label')\n",
      "(80.64441208488525, 'fit')\n",
      "(80.64590136316934, 'vinegar')\n",
      "(80.7182118162544, 'thorough')\n",
      "(80.75633005389086, 'onion')\n",
      "(80.76512546388851, 'ago')\n",
      "(80.80388904538867, 'rescu')\n",
      "(80.82246441190571, 'celesti')\n",
      "(80.83745262887672, 'least')\n",
      "(80.97766253438365, 'mushroom')\n",
      "(81.05664294427302, 'belli')\n",
      "(81.18663221354, 'gritti')\n",
      "(81.20543754551325, 'straight')\n",
      "(81.35946742564661, 'crisp')\n",
      "(81.36781634299619, 'obvious')\n",
      "(81.50732303115605, 'tsp')\n",
      "(81.57355833603225, 'suppli')\n",
      "(81.57626325240057, 'trap')\n",
      "(81.63306115192262, 'tube')\n",
      "(81.68037052372897, 'guy')\n",
      "(81.78216213976049, 'eater')\n",
      "(81.93105712737474, 'penni')\n",
      "(81.97370614870816, 'hydrogen')\n",
      "(82.00798486810974, 'california')\n",
      "(82.05724757454314, 'owner')\n",
      "(82.13321572997899, 'refer')\n",
      "(82.15811103228599, 'local')\n",
      "(82.17897386884978, 'southern')\n",
      "(82.24337371634152, 'respons')\n",
      "(82.33266609672782, 'casserol')\n",
      "(82.3765603120204, 'chunk')\n",
      "(82.38442311720361, 'everybodi')\n",
      "(82.40930997290654, 'touch')\n",
      "(82.4414656108292, 'play')\n",
      "(82.45136735346603, 'honey')\n",
      "(82.50041118061881, 'stuf')\n",
      "(82.57091127938759, 'troubl')\n",
      "(82.58624680158849, 'concern')\n",
      "(82.70204747024884, 'within')\n",
      "(82.82711684292194, 'fruiti')\n",
      "(82.83791926672647, 'mark')\n",
      "(82.87727264632078, 'brewer')\n",
      "(82.87885537770478, 'apart')\n",
      "(82.94774755567198, 'oat')\n",
      "(82.9587901364073, 'ate')\n",
      "(83.08736636511497, 'eaten')\n",
      "(83.09320451413264, 'wholesom')\n",
      "(83.29301452484759, 'though')\n",
      "(83.45932979026749, 'twin')\n",
      "(83.47170779116291, 'anywher')\n",
      "(83.4851531448511, 'fool')\n",
      "(83.50971849772343, 'receiv')\n",
      "(83.53290166390377, 'pepsi')\n",
      "(83.60984040667202, 'choos')\n",
      "(83.83305694016852, 'grapefruit')\n",
      "(83.90266011614466, 'version')\n",
      "(83.90349892043955, 'god')\n",
      "(83.93279949247776, 'oppos')\n",
      "(83.9988623068674, 'consist')\n",
      "(84.07820184500807, 'texa')\n",
      "(84.087478364514, 'buffalo')\n",
      "(84.09750465479588, 'gluten')\n",
      "(84.11622163557918, 'readi')\n",
      "(84.12941801730884, 'got')\n",
      "(84.21374659974383, 'ounc')\n",
      "(84.35042564920785, 'grew')\n",
      "(84.36698228055761, 'inde')\n",
      "(84.40242953387728, 'island')\n",
      "(84.41080878207991, 'non')\n",
      "(84.47298397813209, 'describ')\n",
      "(84.58414441338127, 'basket')\n",
      "(84.65049643153148, 'rebecca')\n",
      "(84.70486084977826, 'soon')\n",
      "(84.77694437355302, 'chef')\n",
      "(84.7820102211122, 'kill')\n",
      "(84.78352689381559, 'extra')\n",
      "(84.90300859252513, 'relat')\n",
      "(84.95552803663719, 'select')\n",
      "(84.96296605877957, 'rock')\n",
      "(84.96918457254453, 'hesit')\n",
      "(85.05062822439801, 'nutrient')\n",
      "(85.09818119706703, 'crispi')\n",
      "(85.12650593014467, 'secret')\n",
      "(85.15902046364181, 'pocket')\n",
      "(85.24092291476184, 'toss')\n",
      "(85.28793059579267, 'pancak')\n",
      "(85.32062453334954, 'puppi')\n",
      "(85.36167076647617, 'avail')\n",
      "(85.37276240423527, 'watcher')\n",
      "(85.37596036382737, 'sound')\n",
      "(85.38976822697444, 'picki')\n",
      "(85.4566271091377, 'chai')\n",
      "(85.49709898924628, 'tart')\n",
      "(85.50614151505697, 'across')\n",
      "(85.51478678850441, 'overnight')\n",
      "(85.57864280287988, 'gotten')\n",
      "(85.64660411937498, 'green')\n",
      "(85.67882948345307, 'cheaper')\n",
      "(85.85768447761721, 'along')\n",
      "(85.86334118270578, 'chili')\n",
      "(85.87313651755963, 'couscous')\n",
      "(85.87344581541971, 'inch')\n",
      "(85.88006553007666, 'per')\n",
      "(85.8815196764389, 'bulk')\n",
      "(85.92606920645281, 'ridicul')\n",
      "(85.96778025006778, 'emerg')\n",
      "(85.98197316035497, 'doubt')\n",
      "(85.98867847763904, 'stove')\n",
      "(86.01524734794363, 'kernel')\n",
      "(86.01778779517117, 'sooth')\n",
      "(86.03664536054852, 'healthi')\n",
      "(86.04370184725367, 'desk')\n",
      "(86.08660348297076, 'later')\n",
      "(86.10804356073889, 'lighter')\n",
      "(86.19281805747563, 'holiday')\n",
      "(86.2299973977687, 'word')\n",
      "(86.23603881019473, 'bread')\n",
      "(86.2427435852116, 'ketchup')\n",
      "(86.24946213043496, 'senseo')\n",
      "(86.33334987893663, 'vegetarian')\n",
      "(86.37254556011449, 'recip')\n",
      "(86.47208554670371, 'pay')\n",
      "(86.57296488813098, 'night')\n",
      "(86.61626401549984, 'sparkl')\n",
      "(86.63662526614449, 'share')\n",
      "(86.63674954558579, 'england')\n",
      "(86.73237760181406, 'evo')\n",
      "(86.80634826322634, 'cup')\n",
      "(86.8435665402217, 'warn')\n",
      "(86.915625546365, 'stress')\n",
      "(86.91928606435172, 'shred')\n",
      "(86.99141381776184, 'someon')\n",
      "(87.00916016948386, 'found')\n",
      "(87.0799774432149, 'illi')\n",
      "(87.10842352884656, 'titl')\n",
      "(87.1387490131783, 'homemad')\n",
      "(87.21329389978277, 'exact')\n",
      "(87.28605242870272, 'daili')\n",
      "(87.30740117316512, 'tini')\n",
      "(87.33438979612373, 'satur')\n",
      "(87.36862855129104, 'miso')\n",
      "(87.39415006513258, 'tempt')\n",
      "(87.45938205430093, 'stumbl')\n",
      "(87.4959556736899, 'depend')\n",
      "(87.52669015179868, 'nutriti')\n",
      "(87.56786680845767, 'jerki')\n",
      "(87.57824293414558, 'ahead')\n",
      "(87.66785589594083, 'link')\n",
      "(87.70396743356932, 'subscrib')\n",
      "(87.73739183794295, 'began')\n",
      "(87.82801461714192, 'materi')\n",
      "(87.84588212099936, 'germani')\n",
      "(87.89349270134223, 'slice')\n",
      "(87.92686910805372, 'club')\n",
      "(87.93055292787433, 'wheat')\n",
      "(87.95016371246871, 'frost')\n",
      "(87.99937551656693, 'alot')\n",
      "(88.02466314362583, 'taco')\n",
      "(88.05360044056434, 'take')\n",
      "(88.11725494935104, 'junk')\n",
      "(88.19920439177605, 'qualiti')\n",
      "(88.2171646308102, 'happili')\n",
      "(88.2353930366445, 'mustard')\n",
      "(88.30757220666513, 'usual')\n",
      "(88.3132654413893, 'smaller')\n",
      "(88.37397755829647, 'potato')\n",
      "(88.38530917021126, 'fragrant')\n",
      "(88.39806831282313, 'medic')\n",
      "(88.40774939351552, 'inform')\n",
      "(88.47914791769867, 'make')\n",
      "(88.48026005007182, 'general')\n",
      "(88.52984764806416, 'differ')\n",
      "(88.5645363546194, 'allerg')\n",
      "(88.59724279738423, 'ramen')\n",
      "(88.64206865005232, 'rub')\n",
      "(88.67125038942773, 'want')\n",
      "(88.69867195729509, 'breakfast')\n",
      "(88.7321109053364, 'tangi')\n",
      "(88.7629967571168, 'target')\n",
      "(88.8549170411177, 'leak')\n",
      "(88.86553468537312, 'popular')\n",
      "(88.89675398892474, 'liver')\n",
      "(88.94147666841836, 'besid')\n",
      "(89.01212512965758, 'kitti')\n",
      "(89.02670628308546, 'xylitol')\n",
      "(89.04059344284025, 'scone')\n",
      "(89.0786205963992, 'coca')\n",
      "(89.10765968733749, 'switch')\n",
      "(89.117189613181, 'aerogarden')\n",
      "(89.13403078518621, 'easier')\n",
      "(89.16193285172692, 'mix')\n",
      "(89.17864352240964, 'drop')\n",
      "(89.2543831410391, 'earthi')\n",
      "(89.26505038651888, 'contain')\n",
      "(89.27983959111518, 'cupcak')\n",
      "(89.3248111847405, 'toward')\n",
      "(89.33166410778453, 'funni')\n",
      "(89.33953329670665, 'mouth')\n",
      "(89.34610263674317, 'bit')\n",
      "(89.3555837318601, 'faster')\n",
      "(89.42894949967256, 'earlier')\n",
      "(89.51159733516283, 'supermarket')\n",
      "(89.60155670981901, 'long')\n",
      "(89.64699006625607, 'claim')\n",
      "(89.64951317588273, 'lol')\n",
      "(89.66600406330868, 'door')\n",
      "(89.67040060527684, 'hear')\n",
      "(89.70051284968147, 'overpr')\n",
      "(89.71896651386623, 'crunch')\n",
      "(89.74730450958072, 'dri')\n",
      "(89.7646016189431, 'nasti')\n",
      "(89.76475297061931, 'boyfriend')\n",
      "(89.77038697531349, 'certain')\n",
      "(89.78276764221917, 'stool')\n",
      "(89.80174533738371, 'result')\n",
      "(89.88210713590865, 'pearl')\n",
      "(89.92610663585108, 'oil')\n",
      "(89.9364846082504, 'boy')\n",
      "(89.98471010295097, 'ill')\n",
      "(90.12395446940234, 'inexpens')\n",
      "(90.1373290706992, 'follow')\n",
      "(90.19080418820438, 'shape')\n",
      "(90.20294239226968, 'chees')\n",
      "(90.22425787148488, 'higher')\n",
      "(90.26204790846907, 'bill')\n",
      "(90.37455907779795, 'overpow')\n",
      "(90.41458451236892, 'none')\n",
      "(90.44786514949817, 'plenti')\n",
      "(90.45806648504986, 'area')\n",
      "(90.4896959696557, 'english')\n",
      "(90.50465256126259, 'competit')\n",
      "(90.52494001105295, 'cancer')\n",
      "(90.53943944874567, 'sip')\n",
      "(90.54207058796811, 'dessert')\n",
      "(90.57598015208241, 'curious')\n",
      "(90.57909964554567, 'rough')\n",
      "(90.62143528807286, 'miss')\n",
      "(90.62484110713326, 'wafer')\n",
      "(90.68352510280555, 'beetlejuic')\n",
      "(90.70711375659602, 'rememb')\n",
      "(90.72179159945252, 'continu')\n",
      "(90.72631590876101, 'jasmin')\n",
      "(90.83916977677532, 'uniqu')\n",
      "(90.86501934174636, 'came')\n",
      "(90.86563239456049, 'grow')\n",
      "(90.86868246894426, 'oreo')\n",
      "(90.99495231315822, 'squar')\n",
      "(91.01112798046233, 'cola')\n",
      "(91.09290423673642, 'combin')\n",
      "(91.09350590050165, 'clump')\n",
      "(91.12526966988426, 'hook')\n",
      "(91.13598071619784, 'eat')\n",
      "(91.16059163487155, 'up')\n",
      "(91.16525845134674, 'caution')\n",
      "(91.16546848007559, 'must')\n",
      "(91.19497277508617, 'sent')\n",
      "(91.20470665477876, 'jelli')\n",
      "(91.22640520654046, 'purchas')\n",
      "(91.23662022119278, 'poor')\n",
      "(91.26652932414828, 'bug')\n",
      "(91.26691401090406, 'hearti')\n",
      "(91.26974720396133, 'morn')\n",
      "(91.28284391217461, 'free')\n",
      "(91.28739989874684, 'email')\n",
      "(91.29725353197186, 'better')\n",
      "(91.30852350639213, 'behind')\n",
      "(91.32752161340592, 'import')\n",
      "(91.44149899613335, 'store')\n",
      "(91.45404827281116, 'medicin')\n",
      "(91.45427145465831, 'peac')\n",
      "(91.51692502634712, 'soak')\n",
      "(91.55628831515135, 'done')\n",
      "(91.55783107271056, 'control')\n",
      "(91.58021206953883, 'shown')\n",
      "(91.59400134966388, 'open')\n",
      "(91.59513825010144, 'mother')\n",
      "(91.61843598336114, 'fill')\n",
      "(91.61971922055051, 'creme')\n",
      "(91.64981999762809, 'cranberri')\n",
      "(91.65599706089364, 'superb')\n",
      "(91.67299146912097, 'waffl')\n",
      "(91.69713475499583, 'visit')\n",
      "(91.72630656218425, 'sweeten')\n",
      "(91.73441448561071, 'fresher')\n",
      "(91.7422866358222, 'varieti')\n",
      "(91.8101827842311, 'reason')\n",
      "(91.81874538095128, 'bergamot')\n",
      "(91.82281529160296, 'outstand')\n",
      "(91.8501941626396, 'enhanc')\n",
      "(91.9004583339316, 'left')\n",
      "(91.98830856187921, 'current')\n",
      "(92.00594746188642, 'sad')\n",
      "(92.02426273254109, 'sinc')\n",
      "(92.0474140337529, 'fresh')\n",
      "(92.05091012568212, 'realli')\n",
      "(92.09048235381483, 'seal')\n",
      "(92.12625618221347, 'light')\n",
      "(92.13363104388694, 'pod')\n",
      "(92.22081953911218, 'wrote')\n",
      "(92.28982746095326, 'healthier')\n",
      "(92.35761799989218, 'fact')\n",
      "(92.35865045385535, 'bed')\n",
      "(92.35939273453369, 'well')\n",
      "(92.4274487989958, 'mccann')\n",
      "(92.4439632574998, 'fructos')\n",
      "(92.5025866031068, 'encourag')\n",
      "(92.50424779540027, 'everyth')\n",
      "(92.53464932193846, 'fair')\n",
      "(92.54407282638802, 'load')\n",
      "(92.55033211071279, 'discount')\n",
      "(92.56201033905292, 'low')\n",
      "(92.57195907844434, 'dehydr')\n",
      "(92.59178487851224, 'truffl')\n",
      "(92.59489719488376, 'spinach')\n",
      "(92.69322014202464, 'maker')\n",
      "(92.75061315077085, 'immedi')\n",
      "(92.75303956311097, 'sooo')\n",
      "(92.78973948489958, 'acquir')\n",
      "(92.79242469949446, 'msg')\n",
      "(92.86367597755752, 'cabinet')\n",
      "(92.9070982102018, 'stock')\n",
      "(92.9169660006558, 'freezer')\n",
      "(92.9596104269457, 'white')\n",
      "(92.9687375294829, 'hunger')\n",
      "(92.9831839052058, 'anytim')\n",
      "(93.0109114090842, 'kid')\n",
      "(93.02383606655523, 'beer')\n",
      "(93.02726899320398, 'salad')\n",
      "(93.03214374862335, 'smoothi')\n",
      "(93.039448714797, 'flake')\n",
      "(93.04509113996072, 'coffe')\n",
      "(93.14248459373935, 'definit')\n",
      "(93.1650274071354, 'biggest')\n",
      "(93.16698860186526, 'suck')\n",
      "(93.2199283072824, 'quaker')\n",
      "(93.22718175802747, 'price')\n",
      "(93.30001940295188, 'premium')\n",
      "(93.3452983044452, 'teeth')\n",
      "(93.3613179327553, 'yummi')\n",
      "(93.38618578588606, 'crazi')\n",
      "(93.38750993170909, 'sprinkl')\n",
      "(93.42202887993724, 'point')\n",
      "(93.4264420644032, 'smile')\n",
      "(93.43386149135287, 'oven')\n",
      "(93.4404577550898, 'dough')\n",
      "(93.46675481031436, 'discov')\n",
      "(93.49273182278228, 'given')\n",
      "(93.55370469322767, 'father')\n",
      "(93.56115579404904, 'suppos')\n",
      "(93.5622297795551, 'meat')\n",
      "(93.5744443923434, 'cook')\n",
      "(93.59454750749038, 'mayb')\n",
      "(93.62281258406003, 'learn')\n",
      "(93.65594667368488, 'neighbor')\n",
      "(93.65904745660309, 'leftov')\n",
      "(93.66357434861075, 'part')\n",
      "(93.69491319290672, 'yum')\n",
      "(93.7597885134475, 'absorb')\n",
      "(93.77922860060072, 'rid')\n",
      "(93.79911993350755, 'fri')\n",
      "(93.82817657766344, 'process')\n",
      "(93.82975042789104, 'bargain')\n",
      "(93.86639028401021, 'fail')\n",
      "(93.87033142059688, 'winner')\n",
      "(93.91345067786179, 'world')\n",
      "(93.95073542401572, 'stop')\n",
      "(93.99928520986502, 'whip')\n",
      "(94.00922640133335, 'three')\n",
      "(94.04209293781763, 'filler')\n",
      "(94.07539326744471, 'recommend')\n",
      "(94.24156560270146, 'shrimp')\n",
      "(94.27485522130003, 'cacao')\n",
      "(94.34290932226254, 'fan')\n",
      "(94.34390940856989, 'harsh')\n",
      "(94.36568542350295, 'subtl')\n",
      "(94.38895234951985, 'ever')\n",
      "(94.4096801064113, 'cooki')\n",
      "(94.41636836384292, 'weigh')\n",
      "(94.42842469957435, 'without')\n",
      "(94.46081119032318, 'savori')\n",
      "(94.47491612033609, 'pinch')\n",
      "(94.48748577712037, 'properti')\n",
      "(94.4966474002285, 'type')\n",
      "(94.5052322398044, 'canada')\n",
      "(94.50699960041666, 'hour')\n",
      "(94.52044376105508, 'cent')\n",
      "(94.53900688335477, 'becom')\n",
      "(94.55020269573579, 'fridg')\n",
      "(94.60271042590773, 'breed')\n",
      "(94.60279253184895, 'tabl')\n",
      "(94.65503558408153, 'kitten')\n",
      "(94.65850611421408, 'order')\n",
      "(94.7373436434936, 'four')\n",
      "(94.78482323097296, 'exampl')\n",
      "(94.85884451304587, 'broke')\n",
      "(94.86926406573055, 'mapl')\n",
      "(94.89076279630075, 'stori')\n",
      "(94.91229386340454, 'hide')\n",
      "(94.91687932102178, 'rather')\n",
      "(94.93064140272158, 'especi')\n",
      "(94.95897284698113, 'spici')\n",
      "(94.97256368776561, 'carb')\n",
      "(95.00921448909548, 'terrif')\n",
      "(95.054905323315, 'coupl')\n",
      "(95.06481702061035, 'delic')\n",
      "(95.08402753463298, 'sweet')\n",
      "(95.09624248861982, 'crystal')\n",
      "(95.1007184503704, 'skim')\n",
      "(95.11701419410659, 'class')\n",
      "(95.12317640159458, 'sold')\n",
      "(95.1434494677829, 'minim')\n",
      "(95.1665583793543, 'read')\n",
      "(95.21123567410392, 'most')\n",
      "(95.31166006600917, 'barley')\n",
      "(95.3226866763156, 'balanc')\n",
      "(95.37197629289173, 'feel')\n",
      "(95.41288380590746, 'hope')\n",
      "(95.4335803972925, 'fiber')\n",
      "(95.43384610022373, 'daughter')\n",
      "(95.4490374733235, 'crema')\n",
      "(95.47494836172812, 'disgust')\n",
      "(95.48627707716727, 'versatil')\n",
      "(95.48661244267717, 'desert')\n",
      "(95.4961534667356, 'deliveri')\n",
      "(95.5251595736127, 'browni')\n",
      "(95.55241661774674, 'far')\n",
      "(95.59051836568418, 'mom')\n",
      "(95.62369665418332, 'wors')\n",
      "(95.63111250949069, 'beauti')\n",
      "(95.64456095777038, 'clam')\n",
      "(95.65650168489417, 'bother')\n",
      "(95.66397370859603, 'gourmet')\n",
      "(95.67348818768238, 'simpl')\n",
      "(95.69127748705681, 'treat')\n",
      "(95.70559423393303, 'disappear')\n",
      "(95.711459870042, 'commerci')\n",
      "(95.72929200260957, 'week')\n",
      "(95.73958271110048, 'india')\n",
      "(95.74578552847306, 'back')\n",
      "(95.75242704339196, 'plant')\n",
      "(95.76933937004503, 'edg')\n",
      "(95.76985563451811, 'use')\n",
      "(95.82857954745802, 'hous')\n",
      "(95.83294052246708, 'refin')\n",
      "(95.97222500440631, 'gravi')\n",
      "(95.99575907951497, 'bite')\n",
      "(96.06093258515004, 'citrus')\n",
      "(96.06546102898626, 'mean')\n",
      "(96.11281109447879, 'milk')\n",
      "(96.12658820368776, 'aw')\n",
      "(96.1309683519755, 'perhap')\n",
      "(96.14026619173927, 'longer')\n",
      "(96.17037502594351, 'major')\n",
      "(96.195104985436, 'away')\n",
      "(96.24013596180839, 'batch')\n",
      "(96.27135899182147, 'walmart')\n",
      "(96.27364770619535, 'wake')\n",
      "(96.3105071579425, 'felt')\n",
      "(96.3417410001909, 'insid')\n",
      "(96.38690813590131, 'method')\n",
      "(96.39305862090663, 'artifici')\n",
      "(96.42811132560422, 'measur')\n",
      "(96.53270505910366, 'savor')\n",
      "(96.61506528267331, 'amount')\n",
      "(96.67058281566337, 'almond')\n",
      "(96.71023943743414, 'despit')\n",
      "(96.71760753297521, 'wild')\n",
      "(96.73835041310831, 'associ')\n",
      "(96.75051571277913, 'cappuccino')\n",
      "(96.752112361168, 'thrill')\n",
      "(96.76835284951295, 'sometim')\n",
      "(96.77366177968354, 'relax')\n",
      "(96.79556035358387, 'chicken')\n",
      "(96.79596415017703, 'volum')\n",
      "(96.80442835047329, 'clean')\n",
      "(96.82261333203758, 'till')\n",
      "(96.83588701417453, 'guess')\n",
      "(96.84243197942412, 'full')\n",
      "(96.84518840365595, 'egg')\n",
      "(96.85063671996443, 'earth')\n",
      "(96.8533240702912, 'fight')\n",
      "(96.8612063145702, 'item')\n",
      "(96.9352800973179, 'give')\n",
      "(96.95295876317167, 'tea')\n",
      "(96.96279964092504, 'help')\n",
      "(96.99035932785772, 'chewer')\n",
      "(97.08623402859861, 'almost')\n",
      "(97.10023640011391, 'prompt')\n",
      "(97.10230122404813, 'throw')\n",
      "(97.14369316972837, 'bonus')\n",
      "(97.14741140464896, 'hard')\n",
      "(97.21841141940443, 'hand')\n",
      "(97.25502657682131, 'salti')\n",
      "(97.25689244880954, 'garbag')\n",
      "(97.26545577963974, 'might')\n",
      "(97.29201330518613, 'danger')\n",
      "(97.32432128972268, 'realiz')\n",
      "(97.36006677503146, 'bland')\n",
      "(97.39445495960854, 'york')\n",
      "(97.41917987739649, 'ice')\n",
      "(97.46065164163345, 'incred')\n",
      "(97.48269871474302, 'thai')\n",
      "(97.5108048798539, 'carri')\n",
      "(97.52265467495299, 'quit')\n",
      "(97.5227395296235, 'gift')\n",
      "(97.56167476691867, 'push')\n",
      "(97.58165014453184, 'mistak')\n",
      "(97.64273051118083, 'italian')\n",
      "(97.66780335162977, 'fantast')\n",
      "(97.67779315776313, 'pink')\n",
      "(97.69738274091614, 'larger')\n",
      "(97.70332601666883, 'fast')\n",
      "(97.70470393583453, 'increas')\n",
      "(97.70790951421164, 'wine')\n",
      "(97.72860377577794, 'delight')\n",
      "(97.79970064890674, 'certifi')\n",
      "(97.8207517801716, 'internet')\n",
      "(97.85154621498478, 'deserv')\n",
      "(97.8676290391979, 'candi')\n",
      "(97.88692856773037, 'littl')\n",
      "(97.9120843580273, 'fun')\n",
      "(97.92202521242208, 'carton')\n",
      "(98.07687718310049, 'threw')\n",
      "(98.10021496496593, 'lack')\n",
      "(98.10878060462286, 'capsul')\n",
      "(98.11791546802567, 'condit')\n",
      "(98.13669413708325, 'son')\n",
      "(98.15530376488366, 'extract')\n",
      "(98.20515872579733, 'also')\n",
      "(98.21310217051872, 'worst')\n",
      "(98.21785623372311, 'complement')\n",
      "(98.21794588488699, 'sudden')\n",
      "(98.23777889473332, 'mess')\n",
      "(98.27378830725026, 'plastic')\n",
      "(98.3445380649101, 'fudg')\n",
      "(98.36872357442266, 'serv')\n",
      "(98.37952408880308, 'appeal')\n",
      "(98.3849071471157, 'meal')\n",
      "(98.39207568578352, 'beat')\n",
      "(98.411488335844, 'gave')\n",
      "(98.44096280812974, 'enjoy')\n",
      "(98.47095520150033, 'tast')\n",
      "(98.53843884349376, 'cold')\n",
      "(98.54964101110669, 'even')\n",
      "(98.56029696315196, 'weird')\n",
      "(98.73112662936244, 'ship')\n",
      "(98.74098927155165, 'muffin')\n",
      "(98.7951307563139, 'googl')\n",
      "(98.82333824462715, 'toler')\n",
      "(98.861212666853, 'crave')\n",
      "(98.86867760655366, 'compliment')\n",
      "(98.87489739007988, 'forc')\n",
      "(98.8921516975564, 'lemon')\n",
      "(98.89934975316207, 'cat')\n",
      "(98.95239253463318, 'near')\n",
      "(99.01681826653923, 'salmon')\n",
      "(99.01952450207634, 'diet')\n",
      "(99.07131893237207, 'snack')\n",
      "(99.07652872211892, 'date')\n",
      "(99.08719078523738, 'amaz')\n",
      "(99.10782839871428, 'rip')\n",
      "(99.16307738237907, 'happi')\n",
      "(99.17408075601224, 'stay')\n",
      "(99.23996904425012, 'innova')\n",
      "(99.25752748954359, 'ultim')\n",
      "(99.27625276012652, 'drip')\n",
      "(99.29246621298672, 'satisfi')\n",
      "(99.32134513497586, 'quick')\n",
      "(99.35724548093361, 'late')\n",
      "(99.41447760092073, 'rich')\n",
      "(99.42831322184063, 'friend')\n",
      "(99.486081047198, 'sign')\n",
      "(99.51273387437428, 'bewar')\n",
      "(99.52647878261169, 'easili')\n",
      "(99.53014090799026, 'afternoon')\n",
      "(99.53824916640261, 'refresh')\n",
      "(99.53943796267049, 'remov')\n",
      "(99.54137820342096, 'crunchi')\n",
      "(99.56602768941164, 'lead')\n",
      "(99.5761178075352, 'bold')\n",
      "(99.58535184894697, 'fix')\n",
      "(99.5963412402349, 'figur')\n",
      "(99.60606510130737, 'terribl')\n",
      "(99.64214214160413, 'strang')\n",
      "(99.66167472934924, 'repeat')\n",
      "(99.70202885996943, 'eight')\n",
      "(99.72280941372374, 'otherwis')\n",
      "(99.74331758956731, 'initi')\n",
      "(99.77645926885654, 'unfortun')\n",
      "(99.79335263780004, 'cinnamon')\n",
      "(99.7936737391639, 'seen')\n",
      "(99.81103331616174, 'wonder')\n",
      "(99.83070234709166, 'drawback')\n",
      "(99.83929995104599, 'high')\n",
      "(99.8958557631005, 'love')\n",
      "(99.90553237861691, 'recipi')\n",
      "(99.91933557923886, 'distinct')\n",
      "(99.94296959378983, 'look')\n",
      "(99.96632260184157, 'summer')\n",
      "(99.97122580469878, 'balsam')\n",
      "(99.9902933009464, 'disappoint')\n",
      "(100.09323018952591, 'tasti')\n",
      "(100.10568018172259, 'cure')\n",
      "(100.10995245066204, 'everyday')\n",
      "(100.16214871580769, 'cheap')\n",
      "(100.16761253552666, 'british')\n",
      "(100.18338843752481, 'delici')\n",
      "(100.19660177372289, 'air')\n",
      "(100.1982945672785, 'turkey')\n",
      "(100.23344732543356, 'find')\n",
      "(100.25063925583588, 'smooth')\n",
      "(100.25488885440706, 'rice')\n",
      "(100.29571686441645, 'unless')\n",
      "(100.38443847619911, 'yogurt')\n",
      "(100.415909573521, 'great')\n",
      "(100.42045222413047, 'awesom')\n",
      "(100.47330346855618, 'tire')\n",
      "(100.49263795831405, 'organ')\n",
      "(100.5005035454442, 'pumpkin')\n",
      "(100.51462385914662, 'complet')\n",
      "(100.5373659240426, 'basic')\n",
      "(100.59521740042898, 'mac')\n",
      "(100.61616324576231, 'offic')\n",
      "(100.62506497049925, 'parti')\n",
      "(100.69971914924984, 'piec')\n",
      "(100.72938983950057, 'textur')\n",
      "(100.73455427341183, 'floral')\n",
      "(100.80039227678654, 'welcom')\n",
      "(100.8099190993982, 'wish')\n",
      "(100.81652349313532, 'husband')\n",
      "(100.88346365272534, 'tender')\n",
      "(100.89327906414415, 'american')\n",
      "(100.92215885334596, 'stash')\n",
      "(100.92270142316613, 'old')\n",
      "(100.97021642926293, 'excel')\n",
      "(100.97548333430612, 'bob')\n",
      "(100.99774462621878, 'extrem')\n",
      "(101.02980982925935, 'attract')\n",
      "(101.03118155783288, 'pleasur')\n",
      "(101.10636544973752, 'pull')\n",
      "(101.10930877066086, 'famili')\n",
      "(101.11559232154286, 'wast')\n",
      "(101.12742358261227, 'puff')\n",
      "(101.14448609866815, 'hit')\n",
      "(101.16506188190446, 'liquid')\n",
      "(101.18246655834886, 'beg')\n",
      "(101.18597564017644, 'super')\n",
      "(101.21919759071751, 'factor')\n",
      "(101.24546929332612, 'shop')\n",
      "(101.25334572807527, 'sick')\n",
      "(101.26015795088654, 'wide')\n",
      "(101.26498988820775, 'camp')\n",
      "(101.26771908277028, 'wise')\n",
      "(101.29223788418977, 'dens')\n",
      "(101.31316969867383, 'asid')\n",
      "(101.31342923544781, 'think')\n",
      "(101.36108311952201, 'overal')\n",
      "(101.3825143717689, 'breast')\n",
      "(101.41591500583789, 'breath')\n",
      "(101.41931996479583, 'like')\n",
      "(101.43968224012984, 'nice')\n",
      "(101.45580577101816, 'expir')\n",
      "(101.4643978593836, 'instead')\n",
      "(101.4665990425992, 'perfect')\n",
      "(101.48382238494011, 'alway')\n",
      "(101.51489511317615, 'recent')\n",
      "(101.54110086723354, 'often')\n",
      "(101.54635945799744, 'weight')\n",
      "(101.58886882965741, 'unpleas')\n",
      "(101.60075280747722, 'tongu')\n",
      "(101.62010233166853, 'year')\n",
      "(101.65337223421615, 'tortilla')\n",
      "(101.6681866256516, 'china')\n",
      "(101.73226572774017, 'vendor')\n",
      "(101.74535188020029, 'addict')\n",
      "(101.74835776741817, 'sticki')\n",
      "(101.77767717724487, 'mold')\n",
      "(101.82925238314024, 'entertain')\n",
      "(101.83859481197564, 'manufactur')\n",
      "(101.85898126450303, 'may')\n",
      "(102.00249069237984, 'vacat')\n",
      "(102.02131780089726, 'need')\n",
      "(102.05341893675977, 'tad')\n",
      "(102.07755215009482, 'manner')\n",
      "(102.14105510468102, 'day')\n",
      "(102.1450778243418, 'knock')\n",
      "(102.14833704042393, 'kraft')\n",
      "(102.15317940109972, 'moistur')\n",
      "(102.17811550045639, 'favorit')\n",
      "(102.18127547176934, 'strong')\n",
      "(102.18705742805257, 'past')\n",
      "(102.19239182861979, 'plate')\n",
      "(102.19598186709081, 'creami')\n",
      "(102.23993426650826, 'pass')\n",
      "(102.24787069265744, 'less')\n",
      "(102.27040135871732, 'best')\n",
      "(102.28848107590642, 'steel')\n",
      "(102.33471317090796, 'consid')\n",
      "(102.35678934801977, 'guarante')\n",
      "(102.36769702163235, 'either')\n",
      "(102.4700134727657, 'call')\n",
      "(102.47650948270761, 'mixer')\n",
      "(102.52584630775712, 'good')\n",
      "(102.54063542837353, 'watch')\n",
      "(102.55759106981048, 'comfort')\n",
      "(102.60351996220514, 'drink')\n",
      "(102.64796666012634, 'dark')\n",
      "(102.66580095324112, 'altern')\n",
      "(102.74498864692228, 'yeah')\n",
      "(102.75877068185986, 'horribl')\n",
      "(102.77525372005627, 'pronounc')\n",
      "(102.83138371144582, 'okay')\n",
      "(102.83739613226159, 'thought')\n",
      "(102.87840088499445, 'prevent')\n",
      "(102.90073379874407, 'nutti')\n",
      "(102.93383344417832, 'matter')\n",
      "(102.94093251255896, 'singl')\n",
      "(102.95152171891833, 'everi')\n",
      "(102.95599119266431, 'stick')\n",
      "(103.03784907331423, 'fluffi')\n",
      "(103.0608017860359, 'would')\n",
      "(103.07459145991416, 'bad')\n",
      "(103.08120212093212, 'car')\n",
      "(103.11605950132909, 'burn')\n",
      "(103.19725489751642, 'approxim')\n",
      "(103.26343023660786, 'ask')\n",
      "(103.2912807167565, 'mango')\n",
      "(103.32966423595389, 'minut')\n",
      "(103.37186475328868, 'lover')\n",
      "(103.39354754541807, 'worri')\n",
      "(103.4049709478788, 'add')\n",
      "(103.45505771227374, 'ruin')\n",
      "(103.46779938954045, 'wife')\n",
      "(103.4840699674831, 'lot')\n",
      "(103.50446598412601, 'san')\n",
      "(103.52382714615673, 'explain')\n",
      "(103.55599801693526, 'appl')\n",
      "(103.57561814631198, 'bottom')\n",
      "(103.707686110298, 'web')\n",
      "(103.71177225546279, 'buy')\n",
      "(103.7728409068049, 'trip')\n",
      "(103.80969230142547, 'espresso')\n",
      "(103.8101069846671, 'tummi')\n",
      "(103.85456010160856, 'stronger')\n",
      "(103.9416522300499, 'tooth')\n",
      "(103.95177928970844, 'contact')\n",
      "(103.98521752028617, 'easi')\n",
      "(103.99992710699873, 'mole')\n",
      "(104.03180424584181, 'list')\n",
      "(104.05103876757755, 'iron')\n",
      "(104.07547406341435, 'tablespoon')\n",
      "(104.07943506843856, 'stale')\n",
      "(104.08972317812083, 'understand')\n",
      "(104.09221654764222, 'someth')\n",
      "(104.11699082732382, 'challeng')\n",
      "(104.21913824983613, 'ratio')\n",
      "(104.23644554339, 'substanc')\n",
      "(104.23809400253677, 'right')\n",
      "(104.32324329366953, 'gotta')\n",
      "(104.38759033322971, 'metal')\n",
      "(104.39222621376112, 'strip')\n",
      "(104.39574480297713, 'finish')\n",
      "(104.42676259894628, 'lunch')\n",
      "(104.4440411789713, 'moth')\n",
      "(104.59840990934278, 'excit')\n",
      "(104.6140720486183, 'roast')\n",
      "(104.62028087213353, 'america')\n",
      "(104.64979715614035, 'chocolatey')\n",
      "(104.72532130907946, 'bear')\n",
      "(104.74499961262651, 'slight')\n",
      "(104.76153393176035, 'fire')\n",
      "(104.76432240248855, 'smell')\n",
      "(104.77051342710546, 'descript')\n",
      "(104.8315820040888, 'case')\n",
      "(104.84906376742862, 'studi')\n",
      "(104.87652283098716, 'keep')\n",
      "(104.87733565422599, 'dairi')\n",
      "(104.96323879316665, 'filter')\n",
      "(105.03278764767134, 'time')\n",
      "(105.04894824277716, 'luck')\n",
      "(105.07073839635261, 'flat')\n",
      "(105.09008572009195, 'glad')\n",
      "(105.09616755118063, 'save')\n",
      "(105.15004214692965, 'everyon')\n",
      "(105.19312779016734, 'finest')\n",
      "(105.36097425634527, 'meet')\n",
      "(105.40856896571631, 'correct')\n",
      "(105.40863125677073, 'www')\n",
      "(105.46314301090034, 'skeptic')\n",
      "(105.48409876101977, 'money')\n",
      "(105.49142432695776, 'promot')\n",
      "(105.57067686288453, 'whenev')\n",
      "(105.61936530333426, 'success')\n",
      "(105.65475290738829, 'pretzel')\n",
      "(105.67559382450892, 'smoki')\n",
      "(105.71803686339038, 'planter')\n",
      "(105.72707212460935, 'review')\n",
      "(105.74377338759331, 'unusu')\n",
      "(105.77806810103152, 'knew')\n",
      "(105.81018740830008, 'risk')\n",
      "(105.85569756410464, 'winter')\n",
      "(105.85668638226713, 'tran')\n",
      "(105.91326345853854, 'instant')\n",
      "(105.95378342921495, 'thin')\n",
      "(105.96834955454099, 'color')\n",
      "(106.05594705226645, 'purs')\n",
      "(106.09681589010647, 'chang')\n",
      "(106.11132110883528, 'christma')\n",
      "(106.12237291387838, 'sore')\n",
      "(106.1905567361857, 'reaction')\n",
      "(106.21561793582607, 'break')\n",
      "(106.28151754609027, 'peel')\n",
      "(106.2905329725987, 'wood')\n",
      "(106.29359081400605, 'howev')\n",
      "(106.3140509281993, 'go')\n",
      "(106.32191852303998, 'parmesan')\n",
      "(106.32959844498242, 'fish')\n",
      "(106.34651246870668, 'lab')\n",
      "(106.35912291515868, 'starter')\n",
      "(106.38245794602442, 'interest')\n",
      "(106.38495734788211, 'leg')\n",
      "(106.38896133721667, 'caus')\n",
      "(106.39854153008767, 'truli')\n",
      "(106.4318572926249, 'pasta')\n",
      "(106.51130532804815, 'yogi')\n",
      "(106.52757182852186, 'heaven')\n",
      "(106.58125528144338, 'negat')\n",
      "(106.63929878004932, 'hemp')\n",
      "(106.64552763236759, 'birthday')\n",
      "(106.74447018553485, 'constant')\n",
      "(106.76485489607876, 'previous')\n",
      "(106.82982940160039, 'conveni')\n",
      "(106.86402075833587, 'exercis')\n",
      "(106.8766579098888, 'decaf')\n",
      "(106.92039173981524, 'cut')\n",
      "(106.94170056301977, 'signific')\n",
      "(106.95190855998734, 'pleas')\n",
      "(107.02469995970031, 'build')\n",
      "(107.04775359028751, 'flax')\n",
      "(107.04874804946185, 'cours')\n",
      "(107.09585370385113, 'mellow')\n",
      "(107.09829442298462, 'tasteless')\n",
      "(107.25340018997802, 'numi')\n",
      "(107.27718856118564, 'compar')\n",
      "(107.3141982962056, 'root')\n",
      "(107.31596977521582, 'custom')\n",
      "(107.36207687544572, 'product')\n",
      "(107.37951711823752, 'wont')\n",
      "(107.42686653241442, 'excess')\n",
      "(107.45490292121363, 'brother')\n",
      "(107.45719677515673, 'die')\n",
      "(107.51254024314983, 'close')\n",
      "(107.53730511719712, 'unlik')\n",
      "(107.56073766671508, 'noth')\n",
      "(107.60609437944825, 'avoid')\n",
      "(107.65300351069074, 'hip')\n",
      "(107.66762697480156, 'authent')\n",
      "(107.67449204200781, 'tell')\n",
      "(107.67914895525024, 'could')\n",
      "(107.70880567787522, 'edibl')\n",
      "(107.7456782012622, 'sorri')\n",
      "(107.76956364310524, 'true')\n",
      "(107.78908287644707, 'whole')\n",
      "(107.79823368179716, 'babi')\n",
      "(107.85704597204511, 'chemic')\n",
      "(107.88424217890918, 'sauc')\n",
      "(107.93909880333565, 'pizza')\n",
      "(107.94145595391184, 'skip')\n",
      "(107.94392045693799, 'train')\n",
      "(107.98819336999273, 'idea')\n",
      "(108.03617841645676, 'pad')\n",
      "(108.09899224956685, 'burst')\n",
      "(108.11059376340457, 'allergi')\n",
      "(108.12737299256308, 'thank')\n",
      "(108.24887869350137, 'count')\n",
      "(108.25213428270928, 'post')\n",
      "(108.36916065112807, 'shame')\n",
      "(108.42349450741102, 'expect')\n",
      "(108.45984706000348, 'stevia')\n",
      "(108.50983934663418, 'bring')\n",
      "(108.51990981990983, 'boil')\n",
      "(108.55355008440648, 'substitut')\n",
      "(108.57688833007104, 'bought')\n",
      "(108.64109752709521, 'kick')\n",
      "(108.69304895494949, 'sugari')\n",
      "(108.69418968133826, 'handi')\n",
      "(108.72998050286151, 'noodl')\n",
      "(108.78012580473766, 'agav')\n",
      "(108.79048953231636, 'cashew')\n",
      "(108.80188081270381, 'stuck')\n",
      "(108.81857160661725, 'cereal')\n",
      "(108.82165416897254, 'refund')\n",
      "(108.85561030581108, 'gross')\n",
      "(108.86040615049492, 'numer')\n",
      "(108.8757332573594, 'will')\n",
      "(108.87911931952041, 'typic')\n",
      "(108.8955528231843, 'brew')\n",
      "(108.9014598400245, 'cardboard')\n",
      "(108.90979444939668, 'weak')\n",
      "(108.9321941717478, 'cholesterol')\n",
      "(108.95514884907624, 'ingredi')\n",
      "(108.96873118098303, 'coconut')\n",
      "(108.97724960672525, 'abl')\n",
      "(109.01554900045333, 'rest')\n",
      "(109.01803211289369, 'stapl')\n",
      "(109.07143448123566, 'soda')\n",
      "(109.14916896541646, 'anyon')\n",
      "(109.14918999020638, 'ordinari')\n",
      "(109.20885734372283, 'slow')\n",
      "(109.21185072306454, 'eye')\n",
      "(109.21962567696761, 'return')\n",
      "(109.23240865414515, 'deliv')\n",
      "(109.2556799370697, 'road')\n",
      "(109.31682958732118, 'citi')\n",
      "(109.3567109494445, 'settl')\n",
      "(109.36058270151345, 'book')\n",
      "(109.39732799655302, 'clementin')\n",
      "(109.46798735675213, 'rose')\n",
      "(109.51449937769573, 'period')\n",
      "(109.53317488326515, 'get')\n",
      "(109.66530479748653, 'pain')\n",
      "(109.70847025214567, 'health')\n",
      "(109.7609165725442, 'aroma')\n",
      "(109.76104841286067, 'pita')\n",
      "(109.81957942785394, 'superior')\n",
      "(109.82203283740326, 'amazon')\n",
      "(109.8850367122492, 'although')\n",
      "(109.91162375486397, 'report')\n",
      "(109.96601270717241, 'wateri')\n",
      "(109.9907870098034, 'attempt')\n",
      "(110.11362124391565, 'protein')\n",
      "(110.22170050709043, 'soooo')\n",
      "(110.27976127880541, 'desir')\n",
      "(110.28448454091584, 'guilt')\n",
      "(110.35991787531863, 'fabul')\n",
      "(110.36276171558272, 'pud')\n",
      "(110.37356762479882, 'neither')\n",
      "(110.40860682773197, 'valu')\n",
      "(110.45142422678529, 'bacon')\n",
      "(110.48715122335967, 'home')\n",
      "(110.49363453009344, 'direct')\n",
      "(110.5011353389288, 'wrong')\n",
      "(110.5071186409991, 'blackberri')\n",
      "(110.5939794129139, 'program')\n",
      "(110.63169971664577, 'downsid')\n",
      "(110.66847617276866, 'yet')\n",
      "(110.69226036942679, 'allow')\n",
      "(110.70942674193978, 'thicker')\n",
      "(110.72758223120462, 'town')\n",
      "(110.74397482527058, 'run')\n",
      "(110.77170304801255, 'tazo')\n",
      "(110.77565278495784, 'fed')\n",
      "(110.79602490652778, 'month')\n",
      "(110.86113687795888, 'starbuck')\n",
      "(110.89567685815848, 'choic')\n",
      "(110.90633119950964, 'pleasant')\n",
      "(110.90773129457001, 'carbon')\n",
      "(110.93969961513604, 'send')\n",
      "(111.15490270080979, 'suspect')\n",
      "(111.18308189845831, 'gentl')\n",
      "(111.18769898147363, 'prefer')\n",
      "(111.22040897153225, 'sugar')\n",
      "(111.24239600469909, 'two')\n",
      "(111.2586180844824, 'preserv')\n",
      "(111.26055351372952, 'guest')\n",
      "(111.27223978210041, 'gas')\n",
      "(111.31074455815421, 'end')\n",
      "(111.3482741617017, 'way')\n",
      "(111.37818428499733, 'juic')\n",
      "(111.42286472052993, 'accept')\n",
      "(111.44710931251632, 'bar')\n",
      "(111.45321251342895, 'absolut')\n",
      "(111.45621236948868, 'etc')\n",
      "(111.57459493446729, 'other')\n",
      "(111.64454302014694, 'dress')\n",
      "(111.67274636925384, 'total')\n",
      "(111.70042189796523, 'box')\n",
      "(111.76106068077209, 'larabar')\n",
      "(111.86169145129637, 'surpris')\n",
      "(111.90895833726648, 'butteri')\n",
      "(112.0438751132079, 'servic')\n",
      "(112.05463026009674, 'spearmint')\n",
      "(112.11352718438405, 'bbq')\n",
      "(112.1393276441587, 'smart')\n",
      "(112.18497933925762, 'machin')\n",
      "(112.2215802241875, 'miracl')\n",
      "(112.35923615151448, 'pricey')\n",
      "(112.47605611242275, 'restrict')\n",
      "(112.48141399304808, 'limit')\n",
      "(112.51170818049219, 'gram')\n",
      "(112.54138627827078, 'trust')\n",
      "(112.6734990903827, 'blueberri')\n",
      "(112.69223754164331, 'harm')\n",
      "(112.7049698177432, 'compani')\n",
      "(112.71339554158513, 'particular')\n",
      "(112.84084173629172, 'intak')\n",
      "(112.85354680896593, 'show')\n",
      "(113.00207362533942, 'tofu')\n",
      "(113.1116683822819, 'seafood')\n",
      "(113.20470431457801, 'sandwich')\n",
      "(113.25373736814211, 'cafe')\n",
      "(113.28804392349285, 'aromat')\n",
      "(113.42217304627746, 'twice')\n",
      "(113.53766181457452, 'steep')\n",
      "(113.53951062103913, 'chewi')\n",
      "(113.56463833376952, 'firm')\n",
      "(113.82890097009724, 'goe')\n",
      "(113.94116469935214, 'decaffein')\n",
      "(114.12770274873994, 'graini')\n",
      "(114.151743911928, 'issu')\n",
      "(114.18413106338173, 'school')\n",
      "(114.42309171051565, 'deal')\n",
      "(114.42494900114102, 'wow')\n",
      "(114.44999790342874, 'appetit')\n",
      "(114.47465660100382, 'much')\n",
      "(114.57191435471333, 'darn')\n",
      "(114.59166012137116, 'releas')\n",
      "(114.6510469631116, 'dislik')\n",
      "(114.68238911619993, 'worth')\n",
      "(114.69538565071741, 'tree')\n",
      "(114.75355633695679, 'overwhelm')\n",
      "(114.77885150191065, 'alcohol')\n",
      "(114.80834730454481, 'section')\n",
      "(114.9285351632084, 'thumb')\n",
      "(114.94607041011946, 'saw')\n",
      "(114.95676006883512, 'six')\n",
      "(115.02578749402501, 'resembl')\n",
      "(115.1059423760229, 'fussi')\n",
      "(115.13332343086846, 'bran')\n",
      "(115.23503390754048, 'fell')\n",
      "(115.24774239043343, 'loos')\n",
      "(115.24922968025024, 'orang')\n",
      "(115.28033568941822, 'combo')\n",
      "(115.3162941198323, 'research')\n",
      "(115.46291894258374, 'kidney')\n",
      "(115.4942705140741, 'vomit')\n",
      "(115.70852604587962, 'mushi')\n",
      "(115.71245558668531, 'closest')\n",
      "(115.75230986607441, 'mint')\n",
      "(115.81391613445547, 'indian')\n",
      "(115.86379009837214, 'mate')\n",
      "(116.08535532354207, 'cheddar')\n",
      "(116.09941052427149, 'involv')\n",
      "(116.11746766382949, 'yes')\n",
      "(116.15868655504353, 'elsewher')\n",
      "(116.17069542030862, 'household')\n",
      "(116.21667142685814, 'act')\n",
      "(116.26712418693133, 'crack')\n",
      "(116.28036407725588, 'bare')\n",
      "(116.28506918768568, 'powder')\n",
      "(116.44142518210525, 'chip')\n",
      "(116.46887643247621, 'oatmeal')\n",
      "(116.51457771776543, 'assum')\n",
      "(116.61311829766956, 'flavour')\n",
      "(116.63879205042713, 'munch')\n",
      "(116.68972409092811, 'litter')\n",
      "(116.76140379858506, 'japanes')\n",
      "(116.83362899112386, 'happen')\n",
      "(116.84564958255947, 'style')\n",
      "(116.86533571661857, 'regular')\n",
      "(117.00242467805258, 'defin')\n",
      "(117.059761278379, 'advertis')\n",
      "(117.12142729577786, 'paid')\n",
      "(117.14824550724248, 'star')\n",
      "(117.25588476474805, 'com')\n",
      "(117.26122891481853, 'magic')\n",
      "(117.3330835122502, 'partial')\n",
      "(117.3496156231453, 'seven')\n",
      "(117.52173168974609, 'complaint')\n",
      "(117.53786537310225, 'dream')\n",
      "(117.71769901838067, 'softer')\n",
      "(117.7665425334796, 'turn')\n",
      "(117.82726844049445, 'buyer')\n",
      "(118.02317418625039, 'older')\n",
      "(118.03081531167226, 'squeez')\n",
      "(118.28885332290548, 'habit')\n",
      "(118.47384373411445, 'aftertast')\n",
      "(118.52916672919626, 'wrapper')\n",
      "(118.65156842828719, 'multipl')\n",
      "(118.65508571445453, 'bowl')\n",
      "(118.67413555824452, 'info')\n",
      "(118.71953885622123, 'own')\n",
      "(118.91902699649376, 'bonsai')\n",
      "(119.00292112537385, 'face')\n",
      "(119.02901348704886, 'dash')\n",
      "(119.07826469345946, 'insan')\n",
      "(119.1297209528098, 'unhealthi')\n",
      "(119.19157952328298, 'flour')\n",
      "(119.33633582358011, 'greasi')\n",
      "(119.34680214958475, 'enough')\n",
      "(119.4243659979061, 'toffe')\n",
      "(119.44196480541818, 'reward')\n",
      "(119.54941417946773, 'bore')\n",
      "(119.55198569614602, 'econom')\n",
      "(119.58078115330275, 'choke')\n",
      "(119.59042937766317, 'travel')\n",
      "(119.66667850483013, 'hate')\n",
      "(119.67951523204559, 'scoop')\n",
      "(119.6949456650006, 'creamer')\n",
      "(119.76754166860952, 'spread')\n",
      "(119.76999578098915, 'first')\n",
      "(119.87076175363644, 'mind')\n",
      "(119.94759966217173, 'appreci')\n",
      "(120.06685636252654, 'cocoa')\n",
      "(120.15841061283585, 'via')\n",
      "(120.4410536588038, 'peanut')\n",
      "(120.50278228085432, 'earli')\n",
      "(120.54343429744874, 'chipotl')\n",
      "(120.54803434461641, 'upset')\n",
      "(120.66578110306385, 'giant')\n",
      "(120.67880291838327, 'real')\n",
      "(120.71823840201506, 'ball')\n",
      "(120.73179609295532, 'moist')\n",
      "(120.76038588476248, 'job')\n",
      "(120.84244379303928, 'affect')\n",
      "(120.89620407641621, 'rishi')\n",
      "(121.04985065435692, 'man')\n",
      "(121.06971095729517, 'plain')\n",
      "(121.15211616173598, 'elimin')\n",
      "(121.20173585479168, 'separ')\n",
      "(121.26033024873126, 'crust')\n",
      "(121.31191753753812, 'palat')\n",
      "(121.36344734102207, 'coupon')\n",
      "(121.48632687303311, 'sale')\n",
      "(121.62690286064537, 'petit')\n",
      "(121.63683348797957, 'heat')\n",
      "(121.67991449189289, 'effect')\n",
      "(121.82072767530563, 'opinion')\n",
      "(121.85973505498549, 'herb')\n",
      "(121.92217339264306, 'pastri')\n",
      "(121.93130924494943, 'harder')\n",
      "(122.02353087518625, 'memori')\n",
      "(122.0359346574015, 'bitter')\n",
      "(122.14444531615965, 'watermelon')\n",
      "(122.22621911217588, 'tray')\n",
      "(122.30288064820756, 'sodium')\n",
      "(122.34855984723684, 'muesli')\n",
      "(122.35668866415092, 'adult')\n",
      "(122.53059002919171, 'mixtur')\n",
      "(122.7395381398791, 'consum')\n",
      "(122.78816897353796, 'promis')\n",
      "(122.87315805696475, 'plan')\n",
      "(123.01350803802995, 'difficult')\n",
      "(123.02904020932817, 'brand')\n",
      "(123.1169945390777, 'vegan')\n",
      "(123.11794089722947, 'cooker')\n",
      "(123.27880475748658, 'milder')\n",
      "(123.5171408836218, 'half')\n",
      "(123.7670716141718, 'broken')\n",
      "(123.78368689267327, 'that')\n",
      "(123.94436159027782, 'sever')\n",
      "(124.00782280918676, 'effort')\n",
      "(124.13772441457706, 'goat')\n",
      "(124.16906497439277, 'anyth')\n",
      "(124.22506290997282, 'oili')\n",
      "(124.25335855556636, 'decid')\n",
      "(124.39614766562023, 'refriger')\n",
      "(124.4141200725723, 'drinker')\n",
      "(124.8356808262921, 'nestl')\n",
      "(124.9322759225596, 'spit')\n",
      "(125.48703585742969, 'rooibo')\n",
      "(125.52834682926182, 'request')\n",
      "(125.53013740095803, 'eventu')\n",
      "(125.64804074553304, 'swallow')\n",
      "(125.74434062657997, 'lollipop')\n",
      "(125.81041502827146, 'lick')\n",
      "(126.06261382276006, 'restaur')\n",
      "(126.11888893311067, 'kind')\n",
      "(126.12379171323842, 'tablet')\n",
      "(126.16985864433283, 'clove')\n",
      "(126.2013344148747, 'sensit')\n",
      "(126.20852101058615, 'raspberri')\n",
      "(126.3049211092812, 'celiac')\n",
      "(126.3147235857575, 'eas')\n",
      "(126.32533841871094, 'pouch')\n",
      "(126.4340939103541, 'ladi')\n",
      "(126.57708161194527, 'kellogg')\n",
      "(126.6064938433423, 'test')\n",
      "(126.6905238763785, 'farm')\n",
      "(126.73307488668893, 'instruct')\n",
      "(126.73664750728635, 'solid')\n",
      "(126.87706159169151, 'saver')\n",
      "(126.98714540140637, 'popcorn')\n",
      "(127.14269700963669, 'fortun')\n",
      "(127.30031399830595, 'warm')\n",
      "(127.4169473446249, 'ride')\n",
      "(127.48764074095887, 'seed')\n",
      "(127.56345685051326, 'golden')\n",
      "(127.68538644879695, 'skin')\n",
      "(127.69079484887973, 'jump')\n",
      "(127.92331781237777, 'awhil')\n",
      "(128.07925954128874, 'futur')\n",
      "(128.21576442501882, 'reciev')\n",
      "(128.2425371713484, 'packet')\n",
      "(128.31902529483864, 'lean')\n",
      "(128.32142990835322, 'empti')\n",
      "(128.55331379036517, 'start')\n",
      "(128.6209569842996, 'thus')\n",
      "(128.65120551301834, 'soymilk')\n",
      "(128.73366110943763, 'live')\n",
      "(128.73677027416443, 'tassimo')\n",
      "(128.8421430870862, 'punch')\n",
      "(128.85858909806817, 'can')\n",
      "(128.88437715212635, 'five')\n",
      "(129.02113712087356, 'see')\n",
      "(129.09344599668358, 'concentr')\n",
      "(129.28214419923754, 'taken')\n",
      "(129.39801275214293, 'set')\n",
      "(129.47718039769762, 'sport')\n",
      "(129.50689132184664, 'finicki')\n",
      "(129.63890839940962, 'third')\n",
      "(129.66284084166801, 'colleg')\n",
      "(129.69072265823232, 'pop')\n",
      "(129.86109141144448, 'seller')\n",
      "(129.98566344490212, 'children')\n",
      "(130.06643878637016, 'passion')\n",
      "(130.31469780614557, 'head')\n",
      "(130.343953988428, 'earl')\n",
      "(130.55649743734648, 'bigger')\n",
      "(130.59867404671266, 'updat')\n",
      "(130.66018050037997, 'cake')\n",
      "(130.69500327815877, 'decent')\n",
      "(130.71942639093155, 'sprout')\n",
      "(130.75869205109078, 'spring')\n",
      "(130.76179475094634, 'soil')\n",
      "(130.8692688742301, 'known')\n",
      "(130.97509878019332, 'tradit')\n",
      "(131.00813011405634, 'told')\n",
      "(131.13863268762657, 'frozen')\n",
      "(131.20440142742282, 'afford')\n",
      "(131.25349819393523, 'news')\n",
      "(131.32284990264037, 'nutrit')\n",
      "(131.4634606671269, 'stir')\n",
      "(131.69917083509984, 'mill')\n",
      "(131.6996042933565, 'graham')\n",
      "(131.99870256598024, 'ami')\n",
      "(132.05113118546308, 'paper')\n",
      "(132.0651012076111, 'european')\n",
      "(132.37305141403027, 'supplement')\n",
      "(132.55738239863234, 'option')\n",
      "(132.61925787989927, 'fli')\n",
      "(132.89652023253797, 'bodi')\n",
      "(133.018933761922, 'sardin')\n",
      "(133.2183238253056, 'admit')\n",
      "(133.38409808533487, 'anim')\n",
      "(133.40761837623867, 'odor')\n",
      "(133.47215157458774, 'dollar')\n",
      "(133.58438546636717, 'lose')\n",
      "(133.59532404636693, 'sour')\n",
      "(133.63174687789657, 'therefor')\n",
      "(133.79005074271902, 'power')\n",
      "(133.83160111977722, 'grass')\n",
      "(134.02353821827137, 'remind')\n",
      "(134.27456276183028, 'indic')\n",
      "(134.31296990500346, 'messi')\n",
      "(134.38518661238558, 'molass')\n",
      "(134.43972163747293, 'grocer')\n",
      "(134.5365311456519, 'huge')\n",
      "(134.82826162317733, 'bet')\n",
      "(134.99269012280757, 'wrap')\n",
      "(135.23566436346493, 'boost')\n",
      "(135.285192946128, 'tip')\n",
      "(135.33040471106563, 'diagnos')\n",
      "(135.54609769736192, 'loss')\n",
      "(135.71904391235574, 'gallon')\n",
      "(135.8676173814877, 'tri')\n",
      "(135.94753765675588, 'state')\n",
      "(135.97628958078377, 'develop')\n",
      "(136.02962482263814, 'lucki')\n",
      "(136.05429473149255, 'shock')\n",
      "(136.20458157634636, 'damag')\n",
      "(136.3424170070543, 'sleep')\n",
      "(136.61084989938047, 'yellow')\n",
      "(136.71889636626173, 'mocha')\n",
      "(136.99498859603858, 'pack')\n",
      "(137.02723701403806, 'kiwi')\n",
      "(137.0394060493911, 'licoric')\n",
      "(137.17029469113885, 'needless')\n",
      "(137.49960309627315, 'pepper')\n",
      "(137.56384044862025, 'smokey')\n",
      "(137.78532365315849, 'microwav')\n",
      "(137.99468040553438, 'kit')\n",
      "(138.29527166554473, 'afterward')\n",
      "(138.35948942776935, 'mani')\n",
      "(138.5060626679804, 'darjeel')\n",
      "(138.65799194994614, 'cute')\n",
      "(138.86817980205575, 'banana')\n",
      "(139.14236134658236, 'vitamin')\n",
      "(139.22306293526972, 'indulg')\n",
      "(139.3869122229886, 'pump')\n",
      "(139.42833878461855, 'water')\n",
      "(139.48060448186055, 'freez')\n",
      "(139.51038077228154, 'unsweeten')\n",
      "(139.51965974226607, 'east')\n",
      "(139.84285450534273, 'strength')\n",
      "(139.8783427496164, 'person')\n",
      "(140.47369776132442, 'medium')\n",
      "(140.69913338689705, 'tastier')\n",
      "(140.80476861679904, 'west')\n",
      "(141.05016180615877, 'stand')\n",
      "(141.15697332398992, 'among')\n",
      "(141.24853508944338, 'heavi')\n",
      "(141.41971499390883, 'trick')\n",
      "(141.43386623096987, 'unit')\n",
      "(141.4468904865501, 'timothi')\n",
      "(141.81159189377283, 'mild')\n",
      "(142.0447218868776, 'thick')\n",
      "(142.66705065381416, 'diabet')\n",
      "(142.9097300339506, 'walk')\n",
      "(142.94807166873255, 'reach')\n",
      "(142.9878211929555, 'bake')\n",
      "(143.20402634776235, 'irish')\n",
      "(143.59472321413634, 'black')\n",
      "(143.63642451989125, 'consumpt')\n",
      "(143.8383858637547, 'probabl')\n",
      "(144.00575796755535, 'subscript')\n",
      "(144.0157485126698, 'pecan')\n",
      "(144.2406554656717, 'wash')\n",
      "(144.2458457397451, 'temperatur')\n",
      "(144.42081550248312, 'matcha')\n",
      "(144.4523490553727, 'mug')\n",
      "(144.79716052415182, 'content')\n",
      "(144.91071831689808, 'wasabi')\n",
      "(144.91839750207876, 'throat')\n",
      "(144.99742350650556, 'pound')\n",
      "(145.0611628006384, 'pomegran')\n",
      "(145.34783484518124, 'classic')\n",
      "(145.38099476054254, 'net')\n",
      "(145.92723730456316, 'pamela')\n",
      "(146.21690868596414, 'marshmallow')\n",
      "(146.3882408144761, 'manag')\n",
      "(146.40895891981833, 'short')\n",
      "(146.76035059503914, 'feast')\n",
      "(146.97959561280547, 'spot')\n",
      "(147.26963537366564, 'tight')\n",
      "(147.4206084829758, 'child')\n",
      "(147.79627043574382, 'simmer')\n",
      "(147.9374264261154, 'age')\n",
      "(148.0218079234718, 'arriv')\n",
      "(148.08262990221607, 'glycem')\n",
      "(148.13318607938342, 'advantag')\n",
      "(148.48857931992526, 'automat')\n",
      "(148.7912794527224, 'hint')\n",
      "(148.87908367057798, 'last')\n",
      "(149.00329000148608, 'izz')\n",
      "(149.02277126164478, 'shell')\n",
      "(149.60870488239587, 'mine')\n",
      "(150.13820083199712, 'syrup')\n",
      "(150.42508558659966, 'awar')\n",
      "(150.5241914776104, 'dont')\n",
      "(150.80687866571782, 'corn')\n",
      "(150.92446659396126, 'come')\n",
      "(151.33546810410655, 'rise')\n",
      "(151.46708666960618, 'kona')\n",
      "(151.93774095336047, 'keurig')\n",
      "(152.22784870649443, 'convinc')\n",
      "(152.231383902272, 'mention')\n",
      "(152.2387281992781, 'pet')\n",
      "(152.7040137964397, 'somewhat')\n",
      "(152.76402679953245, 'dent')\n",
      "(152.9132889197534, 'everywher')\n",
      "(152.9594390434108, 'glass')\n",
      "(153.04650582325775, 'tear')\n",
      "(153.06268800289484, 'human')\n",
      "(153.80108699502563, 'peppermint')\n",
      "(153.98633420588115, 'dozen')\n",
      "(154.12251995877335, 'dissolv')\n",
      "(154.49747726938156, 'bun')\n",
      "(155.12411932606327, 'asian')\n",
      "(155.29741100725067, 'standard')\n",
      "(155.781703218945, 'dose')\n",
      "(156.40442475261884, 'hair')\n",
      "(156.75468566537455, 'melt')\n",
      "(156.85371011584905, 'blood')\n",
      "(157.1541574786879, 'malt')\n",
      "(157.23436863233917, 'pan')\n",
      "(157.5875180202686, 'front')\n",
      "(157.72383196893293, 'emerald')\n",
      "(157.75928490525484, 'appropri')\n",
      "(158.19341991952965, 'rare')\n",
      "(158.44610352421847, 'simpli')\n",
      "(159.43816236142757, 'becam')\n",
      "(159.70456772906664, 'countri')\n",
      "(159.96903004368133, 'today')\n",
      "(160.14838012978464, 'condiment')\n",
      "(160.33031738962438, 'thirst')\n",
      "(160.38525863138585, 'vanilla')\n",
      "(161.27494572441566, 'calori')\n",
      "(161.4488958473109, 'thing')\n",
      "(161.86105212378095, 'rang')\n",
      "(161.92773720869752, 'present')\n",
      "(162.20934247820097, 'jar')\n",
      "(162.84158427794463, 'movi')\n",
      "(163.13577318857983, 'weather')\n",
      "(163.62617679959243, 'mile')\n",
      "(163.81526775772494, 'mail')\n",
      "(164.32810944166147, 'lamb')\n",
      "(164.48992993220514, 'problem')\n",
      "(164.49960326269303, 'sampl')\n",
      "(165.2778467108571, 'slowli')\n",
      "(165.59521654319377, 'big')\n",
      "(166.10478898171394, 'question')\n",
      "(166.54648822560114, 'rum')\n",
      "(166.81149838932848, 'small')\n",
      "(167.1163635909922, 'scent')\n",
      "(167.2022434162824, 'spray')\n",
      "(167.40462242524367, 'minor')\n",
      "(167.52951745524174, 'number')\n",
      "(167.79152945242336, 'teabag')\n",
      "(168.2767467394537, 'goji')\n",
      "(168.89707518934523, 'discontinu')\n",
      "(170.1187873131925, 'locat')\n",
      "(170.72443631277588, 'oliv')\n",
      "(170.82356007130412, 'chanc')\n",
      "(170.82720468479528, 'appear')\n",
      "(170.85623637888307, 'curri')\n",
      "(171.36339360554186, 'tub')\n",
      "(171.63847015538641, 'cal')\n",
      "(171.88830440642244, 'system')\n",
      "(172.3637813245396, 'ear')\n",
      "(172.6939566393922, 'salt')\n",
      "(173.76139718513767, 'move')\n",
      "(175.26061640960728, 'broth')\n",
      "(175.40693355468372, 'believ')\n",
      "(176.30828850555085, 'chamomil')\n",
      "(176.56701375914184, 'featur')\n",
      "(176.84315366262743, 'ham')\n",
      "(176.88144275396928, 'granola')\n",
      "(177.06924750025073, 'beef')\n",
      "(177.13149661587778, 'spill')\n",
      "(177.26107993519398, 'kitchen')\n",
      "(177.89589349807113, 'formula')\n",
      "(178.50723401174707, 'introduc')\n",
      "(178.65013392171622, 'togeth')\n",
      "(179.60858180669732, 'cannot')\n",
      "(180.19433960637105, 'midnight')\n",
      "(181.5057789406116, 'potassium')\n",
      "(181.80281460279798, 'grinder')\n",
      "(182.52961332998743, 'pretti')\n",
      "(182.97084728484154, 'florida')\n",
      "(183.74348311539097, 'hey')\n",
      "(185.10859695936998, 'itali')\n",
      "(185.52506572059707, 'thru')\n",
      "(185.59141948397075, 'lentil')\n",
      "(187.84973184174186, 'bigelow')\n",
      "(187.98662344246745, 'haribo')\n",
      "(188.4749714025694, 'degre')\n",
      "(188.66625911251765, 'whether')\n",
      "(188.73455436057722, 'provid')\n",
      "(189.34080098627777, 'batter')\n",
      "(189.57601807293247, 'dispens')\n",
      "(191.1407970286856, 'leaf')\n",
      "(191.3755621516772, 'offer')\n",
      "(191.65898681425608, 'second')\n",
      "(194.38700768001127, 'hold')\n",
      "(194.5933913927842, 'went')\n",
      "(194.6977044445732, 'pressur')\n",
      "(195.7031845282171, 'harvest')\n",
      "(196.0488927093782, 'antioxid')\n",
      "(196.05304264159176, 'imagin')\n",
      "(196.17620015487037, 'kosher')\n",
      "(196.65335007034224, 'stew')\n",
      "(196.6654546163812, 'agre')\n",
      "(197.19715925020677, 'fashion')\n",
      "(198.34725679590838, 'infus')\n",
      "(198.64206886869204, 'virgin')\n",
      "(198.83198596173673, 'flower')\n",
      "(200.61934710270063, 'drive')\n",
      "(201.08195119886608, 'spaghetti')\n",
      "(202.01253747307533, 'fake')\n",
      "(204.48546612203882, 'actual')\n",
      "(204.52807063017278, 'soggi')\n",
      "(206.22583211450078, 'outsid')\n",
      "(207.69813040621364, 'soy')\n",
      "(208.6676360386817, 'possibl')\n",
      "(209.40134826600337, 'sea')\n",
      "(209.58580300066822, 'toddler')\n",
      "(210.39738255056463, 'peach')\n",
      "(212.62346368175704, 'trader')\n",
      "(213.28515556317646, 'java')\n",
      "(214.7097728994813, 'quart')\n",
      "(215.302439831327, 'kinda')\n",
      "(218.0686163673959, 'buck')\n",
      "(220.1637198438897, 'crumb')\n",
      "(223.04869302228076, 'teapot')\n",
      "(225.09925396668663, 'sampler')\n",
      "(229.55744766963159, 'complex')\n",
      "(230.9956915749511, 'appli')\n",
      "(231.14351982619254, 'ground')\n",
      "(233.1865402931396, 'costco')\n",
      "(234.84285130682574, 'floor')\n",
      "(236.04775460024482, 'pig')\n",
      "(237.00047118401199, 'cracker')\n",
      "(237.66036893723896, 'mini')\n",
      "(238.59059231266602, 'roll')\n",
      "(238.81114477693703, 'special')\n",
      "(245.43481606966284, 'garden')\n",
      "(251.79102635299265, 'match')\n",
      "(252.2889528965668, 'rope')\n",
      "(254.80914884425295, 'base')\n",
      "(256.71970434975464, 'prime')\n",
      "(257.3196328907699, 'goodi')\n",
      "(257.7116394888981, 'new')\n",
      "(261.72992823489835, 'activ')\n",
      "(261.9443870276817, 'occas')\n",
      "(262.2821814324093, 'site')\n",
      "(267.20403884303767, 'nurs')\n",
      "(267.95683825197057, 'sausag')\n",
      "(271.94773605222736, 'impress')\n",
      "(274.08984070737426, 'tangerin')\n",
      "(275.0548913792798, 'grain')\n",
      "(276.8379550898876, 'steam')\n",
      "(281.4369241145066, 'dice')\n",
      "(282.4836538807932, 'nectar')\n",
      "(284.3262591647787, 'sit')\n",
      "(286.64559819983043, 'joy')\n",
      "(286.82080228921836, 'diseas')\n",
      "(288.3894574431629, 'safe')\n",
      "(290.84236870390475, 'address')\n",
      "(292.60621452030034, 'biscuit')\n",
      "(295.24927074177594, 'scare')\n",
      "(299.501265723024, 'parent')\n",
      "(302.36502264401565, 'trail')\n",
      "(303.1987167116888, 'reduc')\n",
      "(303.6298462915988, 'raw')\n",
      "(303.8709095614808, 'brown')\n",
      "(310.85708800779855, 'support')\n",
      "(311.55092421587955, 'generous')\n",
      "(313.4591683086227, 'hamburg')\n",
      "(313.8187805676599, 'entir')\n",
      "(314.59891497236026, 'lavazza')\n",
      "(314.8161331966176, 'film')\n",
      "(316.93875312228465, 'sure')\n",
      "(321.18745814294545, 'valley')\n",
      "(322.7528041301317, 'europ')\n",
      "(324.934272966729, 'bay')\n",
      "(327.24428951883164, 'vine')\n",
      "(329.4689710497424, 'imposs')\n",
      "(338.70548869379024, 'pour')\n",
      "(340.1484578071625, 'larg')\n",
      "(341.63325658369075, 'slim')\n",
      "(342.39419330304605, 'stain')\n",
      "(342.875953500604, 'dust')\n",
      "(345.82157692000425, 'anni')\n",
      "(349.99506067568234, 'prior')\n",
      "(358.93508327054946, 'beyond')\n",
      "(366.0662136947906, 'whatev')\n",
      "(367.9727990337022, 'dental')\n",
      "(373.50817847524013, 'level')\n",
      "(375.1379992432903, 'various')\n",
      "(379.3880041743259, 'flavor')\n",
      "(399.95005960562173, 'yeast')\n",
      "(402.5077015198703, 'recal')\n",
      "(418.9133859838708, 'anyway')\n",
      "(419.56500332191445, 'lid')\n",
      "(420.927154629274, 'berri')\n",
      "(421.30592552786794, 'pork')\n",
      "(429.71384260121397, 'dietari')\n",
      "(452.1834229023323, 'prepar')\n",
      "(457.20359028977686, 'joe')\n",
      "(461.1571562697839, 'carrot')\n",
      "(461.27019244076547, 'sesam')\n",
      "(467.4927361037919, 'steak')\n",
      "(472.16512637462705, 'hurt')\n",
      "(483.6952777468876, 'life')\n",
      "(488.71124768102084, 'pie')\n",
      "(494.40619484182, 'kashi')\n",
      "(511.1660644114944, 'benefit')\n",
      "(512.0613122287161, 'normal')\n",
      "(512.6434828078333, 'anymor')\n",
      "(521.8667787305056, 'due')\n",
      "(528.6356387488896, 'note')\n",
      "(541.9455020140206, 'calcium')\n",
      "(542.8038704422561, 'latt')\n",
      "(618.0844937190432, 'tend')\n",
      "(627.14145205922, 'mrs')\n",
      "(641.7671930411007, 'spent')\n",
      "(658.9896274368515, 'experienc')\n",
      "(660.3635977441863, 'recycl')\n",
      "(739.4579396383529, 'made')\n",
      "(747.8665024806805, 'gummi')\n",
      "(783.0053056637651, 'els')\n",
      "(899.311667113899, 'doubl')\n",
      "(1070.4952859780637, 'cheapest')\n",
      "(1134.6111094253981, 'regret')\n",
      "(1225.111399681362, 'pup')\n",
      "(1308.4219598348948, 'wait')\n",
      "(1337.1020188617938, 'produc')\n",
      "(1455.4186392026916, 'peopl')\n",
      "(1758.5967585891487, 'seattl')\n",
      "(2159.690928936983, 'seem')\n",
      "(2161.608720192289, 'pick')\n",
      "(2185.2262311033405, 'fortifi')\n",
      "(2259.4814390068905, 'shake')\n",
      "(2442.3246906495337, 'spend')\n",
      "(2588.3039636861336, 'gold')\n",
      "(2603.708209636892, 'sister')\n",
      "(2612.0182873323633, 'moder')\n",
      "(2993.96627028114, 'mayo')\n",
      "(3688.6547651620367, 'intoler')\n",
      "(23272.73473101607, 'finger')\n"
     ]
    }
   ],
   "source": [
    "print('list of feature that changed more than threshold which is 25%:')\n",
    "for i in changed:\n",
    "    print(i)"
   ]
  },
  {
   "cell_type": "code",
   "execution_count": 107,
   "metadata": {},
   "outputs": [
    {
     "name": "stdout",
     "output_type": "stream",
     "text": [
      "(25.093109492404153, 'lipton')\n",
      "(25.494788115303514, 'newman')\n",
      "(25.716717113474097, 'reorder')\n",
      "(25.840132085119727, 'highest')\n",
      "(26.120340857914808, 'websit')\n",
      "(26.15123306076533, 'over')\n",
      "(26.227291072165638, 'design')\n",
      "(26.297537447527315, 'respect')\n",
      "(26.862150990712525, 'stomach')\n",
      "(27.055904608482535, 'coat')\n",
      "(27.117728145746046, 'hungri')\n",
      "(27.238309385664568, 'upon')\n",
      "(27.33051897871056, 'assort')\n",
      "(27.873118085994346, 'path')\n",
      "(28.078383836093344, 'expens')\n",
      "(28.251091745766182, 'adjust')\n",
      "(28.433493253184245, 'loaf')\n",
      "(28.60142314056826, 'veggi')\n",
      "(28.862556917213922, 'rye')\n",
      "(29.56830837819321, 'protect')\n",
      "(30.70912451693281, 'honest')\n",
      "(31.606575635658924, 'counter')\n",
      "(32.64449264744351, 'apricot')\n",
      "(33.05464746311796, 'attent')\n",
      "(33.57262474425744, 'carbohydr')\n",
      "(34.09226008561057, 'experi')\n",
      "(35.372156503971894, 'reseal')\n",
      "(35.56995674282115, 'let')\n",
      "(36.04064225092355, 'unabl')\n",
      "(36.20227037363837, 'brush')\n",
      "(36.2884330362798, 'fatti')\n",
      "(36.298218325499036, 'weekend')\n",
      "(36.692649420461976, 'rave')\n",
      "(37.05521324293478, 'twist')\n",
      "(37.34956623751665, 'consider')\n",
      "(37.41379974597364, 'bull')\n",
      "(37.54409679700603, 'grate')\n",
      "(37.894621439726514, 'splenda')\n",
      "(38.13827716494526, 'form')\n",
      "(38.23730822137645, 'pair')\n",
      "(38.316279323880515, 'strawberri')\n",
      "(38.346595403302246, 'heart')\n",
      "(39.18416452728752, 'pear')\n",
      "(39.22412583220439, 'french')\n",
      "(39.42325324553155, 'begin')\n",
      "(39.67532151500683, 'kept')\n",
      "(40.58540047277056, 'accord')\n",
      "(40.5976154474867, 'sens')\n",
      "(41.26110675829532, 'sort')\n",
      "(41.405013348633, 'snap')\n",
      "(41.576861851333895, 'basil')\n",
      "(41.67572680301501, 'bunch')\n",
      "(41.70501484657394, 'took')\n",
      "(41.80592476776876, 'grey')\n",
      "(42.119304357276626, 'sharp')\n",
      "(42.25744036730947, 'toy')\n",
      "(43.01401895711937, 'ten')\n",
      "(43.51713262345508, 'folger')\n",
      "(43.77054186993626, 'ran')\n",
      "(43.971478080096894, 'parsley')\n",
      "(44.0580971783844, 'appar')\n",
      "(44.54699046312687, 'min')\n",
      "(44.94453398587787, 'advis')\n",
      "(45.31062203142325, 'hunt')\n",
      "(45.33343184664844, 'calm')\n",
      "(45.56426689729813, 'cuisin')\n",
      "(45.590274236890224, 'substanti')\n",
      "(45.66385268505826, 'replac')\n",
      "(45.84625404335444, 'german')\n",
      "(46.02971310258829, 'ton')\n",
      "(46.23017224238771, 'notic')\n",
      "(46.29355734959294, 'intend')\n",
      "(46.80859885154469, 'cherri')\n",
      "(46.85465880753469, 'cap')\n",
      "(46.89116168060046, 'gain')\n",
      "(46.997865291992426, 'hole')\n",
      "(47.134780877505015, 'bright')\n",
      "(47.3329116102747, 'donut')\n",
      "(47.333724157643296, 'ad')\n",
      "(47.39519391204334, 'requir')\n",
      "(47.56299101589762, 'brought')\n",
      "(47.60640044912094, 'food')\n",
      "(47.7768237894292, 'sunflow')\n",
      "(47.79678963099155, 'butter')\n",
      "(48.20947022414735, 'charg')\n",
      "(48.5137864690003, 'fulli')\n",
      "(48.637888920146146, 'busi')\n",
      "(48.87635406281308, 'twine')\n",
      "(48.926800169660986, 'silk')\n",
      "(49.0931310337652, 'usa')\n",
      "(49.69821044377853, 'includ')\n",
      "(49.888794964209964, 'quinoa')\n",
      "(49.959765895108866, 'jim')\n",
      "(50.08971680793027, 'necessari')\n",
      "(50.319632985803786, 'drank')\n",
      "(51.222650050349195, 'burger')\n",
      "(51.44596939798198, 'crumbl')\n",
      "(51.51184194215297, 'ideal')\n",
      "(51.58864456728073, 'solut')\n",
      "(51.61421687633623, 'collect')\n",
      "(51.65303342312492, 'comparison')\n",
      "(52.12362618839259, 'starch')\n",
      "(52.38162694518377, 'decad')\n",
      "(52.962676763961845, 'frank')\n",
      "(53.221099482381796, 'burnt')\n",
      "(53.491932200542024, 'member')\n",
      "(53.96354565069945, 'size')\n",
      "(54.15987845485631, 'lemonad')\n",
      "(54.52462587535843, 'salsa')\n",
      "(54.69201121423942, 'aid')\n",
      "(54.81063970032093, 'bubbl')\n",
      "(54.82506889395913, 'bean')\n",
      "(54.947921263930645, 'pill')\n",
      "(55.218742262238365, 'fragranc')\n",
      "(55.4059223799573, 'origin')\n",
      "(55.47298886685992, 'crush')\n",
      "(55.64191129513407, 'tin')\n",
      "(55.86581784081318, 'jack')\n",
      "(56.32993332726131, 'bottl')\n",
      "(56.66842811562538, 'cost')\n",
      "(56.7544959841354, 'sell')\n",
      "(57.41475090703017, 'nose')\n",
      "(57.76854571160963, 'practic')\n",
      "(58.021416277881485, 'vet')\n",
      "(58.02891734541753, 'lime')\n",
      "(58.46584855125684, 'around')\n",
      "(58.46623268788238, 'coke')\n",
      "(58.694013769648755, 'pineappl')\n",
      "(58.75035142981652, 'readili')\n",
      "(59.008479442591074, 'caffein')\n",
      "(59.014220251265485, 'opportun')\n",
      "(59.15833540316927, 'soft')\n",
      "(59.24467776277409, 'forev')\n",
      "(59.38472350918459, 'flaxse')\n",
      "(59.41553823608735, 'hershey')\n",
      "(59.69243449329472, 'somehow')\n",
      "(59.7729951654202, 'tropic')\n",
      "(60.295681429620174, 'rush')\n",
      "(60.39763461096727, 'beverag')\n",
      "(60.540372493122895, 'fig')\n",
      "(60.576002875388305, 'acid')\n",
      "(60.6584442633263, 'specialti')\n",
      "(60.67311430941206, 'jam')\n",
      "(61.10643026999381, 'natur')\n",
      "(61.256540969382286, 'suffer')\n",
      "(61.44099796857565, 'vari')\n",
      "(61.54522493245336, 'darker')\n",
      "(61.67936511937153, 'tomato')\n",
      "(61.730962657957086, 'pot')\n",
      "(61.740643800574865, 'mood')\n",
      "(62.0156125079543, 'pure')\n",
      "(62.09844880037754, 'suggest')\n",
      "(62.34544255427973, 'fat')\n",
      "(62.8135435908406, 'pictur')\n",
      "(62.871449847758264, 'final')\n",
      "(63.15522882116623, 'cream')\n",
      "(63.6975595028188, 'improv')\n",
      "(63.935721025858605, 'catch')\n",
      "(64.27387441691182, 'teaspoon')\n",
      "(64.38678589136447, 'lost')\n",
      "(64.55824195256598, 'key')\n",
      "(64.56991149303501, 'bud')\n",
      "(64.63199865460481, 'rate')\n",
      "(65.55972842885879, 'gobbl')\n",
      "(65.64754003345736, 'dad')\n",
      "(65.76719483693635, 'leav')\n",
      "(65.81499636614524, 'sourc')\n",
      "(65.97821266897286, 'name')\n",
      "(66.00271407616971, 'sam')\n",
      "(66.37131591092387, 'shelf')\n",
      "(66.49663641211797, 'handl')\n",
      "(66.58889939585168, 'doctor')\n",
      "(66.70878597767327, 'drain')\n",
      "(66.72992196232211, 'altoid')\n",
      "(66.94754146076227, 'space')\n",
      "(66.98689482239294, 'occasion')\n",
      "(67.01842634034705, 'dinner')\n",
      "(67.10508072747453, 'season')\n",
      "(67.23395353902643, 'put')\n",
      "(67.27681553209979, 'check')\n",
      "(67.33416080792183, 'press')\n",
      "(67.37616602722657, 'term')\n",
      "(67.67297330208906, 'dish')\n",
      "(67.81195436152821, 'lettuc')\n",
      "(67.81953031806525, 'dilut')\n",
      "(67.8319930490495, 'dump')\n",
      "(67.84795109173592, 'sushi')\n",
      "(68.05486870707888, 'soup')\n",
      "(68.18037445269823, 'canida')\n",
      "(68.24334638787847, 'student')\n",
      "(68.25155284797522, 'answer')\n",
      "(68.26354892792924, 'grind')\n",
      "(68.29465093486407, 'deep')\n",
      "(68.33897295701166, 'dip')\n",
      "(68.53294522242889, 'hibiscus')\n",
      "(68.60362448867438, 'regard')\n",
      "(68.8530814562856, 'dead')\n",
      "(68.9311222225234, 'fond')\n",
      "(68.98143049578428, 'zero')\n",
      "(69.0384794862095, 'chines')\n",
      "(69.0428773959911, 'trade')\n",
      "(69.17557347928297, 'lower')\n",
      "(69.37287243805737, 'write')\n",
      "(69.37293317262873, 'kettl')\n",
      "(69.5211999195997, 'essenti')\n",
      "(69.53987232340928, 'mexican')\n",
      "(69.609001691576, 'folk')\n",
      "(69.83206558497118, 'distribut')\n",
      "(69.93504264640892, 'side')\n",
      "(70.12726428483434, 'rawhid')\n",
      "(70.43854485674815, 'moment')\n",
      "(70.63152020782, 'lobster')\n",
      "(70.64221233789314, 'talk')\n",
      "(70.69073334840543, 'chill')\n",
      "(70.80773959167627, 'sweetner')\n",
      "(70.82461824128447, 'fall')\n",
      "(70.86216389898102, 'fine')\n",
      "(71.25790762113401, 'anoth')\n",
      "(71.28771437496938, 'storag')\n",
      "(71.32165629472287, 'gel')\n",
      "(71.56574029115002, 'caramel')\n",
      "(71.58976566356114, 'proper')\n",
      "(71.8028033352385, 'cupboard')\n",
      "(71.80922169431288, 'cover')\n",
      "(72.04840348192228, 'chocol')\n",
      "(72.0967846255912, 'next')\n",
      "(72.15163067491473, 'chop')\n",
      "(72.30190172279812, 'cane')\n",
      "(72.33200374612942, 'serious')\n",
      "(72.46166408023628, 'thrown')\n",
      "(72.54702002827118, 'common')\n",
      "(72.63261721308328, 'stuff')\n",
      "(72.7649502804254, 'oolong')\n",
      "(72.90669210692641, 'pantri')\n",
      "(73.01081394108638, 'chew')\n",
      "(73.03716357727103, 'guilti')\n",
      "(73.0761705384577, 'gum')\n",
      "(73.21083879613684, 'chain')\n",
      "(73.23039662355998, 'individu')\n",
      "(73.24183908968817, 'one')\n",
      "(73.24365925578385, 'cool')\n",
      "(73.25289870859967, 'favor')\n",
      "(73.30280261865705, 'complain')\n",
      "(73.38083762262923, 'packag')\n",
      "(73.39301586681928, 'refus')\n",
      "(73.55118471079982, 'workout')\n",
      "(73.57524751535793, 'gone')\n",
      "(73.61218871859533, 'sun')\n",
      "(73.62058869343812, 'red')\n",
      "(73.6964627857225, 'cant')\n",
      "(73.70180739412352, 'grab')\n",
      "(73.75207746298044, 'said')\n",
      "(73.81176736776222, 'purpos')\n",
      "(73.9409278906662, 'split')\n",
      "(74.14939785169153, 'layer')\n",
      "(74.14992215605982, 'posit')\n",
      "(74.34840695045833, 'famous')\n",
      "(74.44228189156132, 'decor')\n",
      "(74.65306827502965, 'still')\n",
      "(74.67696736302852, 'place')\n",
      "(74.67763696701056, 'ador')\n",
      "(74.68309636028475, 'exot')\n",
      "(74.8004355470451, 'spoil')\n",
      "(74.86873694067529, 'step')\n",
      "(75.00900685151508, 'basi')\n",
      "(75.08748406130353, 'odd')\n",
      "(75.15746967470356, 'crash')\n",
      "(75.2137952419503, 'scratch')\n",
      "(75.4244938932273, 'say')\n",
      "(75.6044868917213, 'wet')\n",
      "(75.61504623409948, 'chose')\n",
      "(75.61759392486151, 'tough')\n",
      "(75.75550081222501, 'win')\n",
      "(75.93610509070263, 'middl')\n",
      "(75.99294507131695, 'tuna')\n",
      "(76.09159844118292, 'track')\n",
      "(76.13694917943144, 'robust')\n",
      "(76.30779977694559, 'plus')\n",
      "(76.35872614737447, 'nut')\n",
      "(76.51537534927452, 'alon')\n",
      "(76.51931996501673, 'portion')\n",
      "(76.57554479721212, 'childhood')\n",
      "(76.61763390232198, 'except')\n",
      "(76.62005620205397, 'intens')\n",
      "(76.69825529546141, 'work')\n",
      "(76.7260175947153, 'similar')\n",
      "(76.89812989476742, 'maintain')\n",
      "(76.97273004937261, 'equal')\n",
      "(77.20316760360306, 'feed')\n",
      "(77.20793139263597, 'mountain')\n",
      "(77.21750693633349, 'blue')\n",
      "(77.35678945557265, 'fizzi')\n",
      "(77.5503249345459, 'supplier')\n",
      "(77.72367534753485, 'foil')\n",
      "(77.76460525164286, 'shelv')\n",
      "(77.7887372228494, 'specif')\n",
      "(77.82872916416034, 'averag')\n",
      "(77.85707881530081, 'grown')\n",
      "(78.18155177476046, 'alreadi')\n",
      "(78.20192750057721, 'care')\n",
      "(78.2328572676019, 'rins')\n",
      "(78.23721841257955, 'kong')\n",
      "(78.2723540300833, 'macaroni')\n",
      "(78.28491048082597, 'tang')\n",
      "(78.36374772094729, 'girl')\n",
      "(78.50762604343309, 'hot')\n",
      "(78.51828730774388, 'energi')\n",
      "(78.57184321265957, 'juici')\n",
      "(78.65364942679909, 'tabasco')\n",
      "(78.66482567761204, 'room')\n",
      "(78.68241301596423, 'meant')\n",
      "(78.80767105008788, 'grill')\n",
      "(78.8090090467966, 'clear')\n",
      "(78.81915572583475, 'heard')\n",
      "(78.8708004724032, 'onlin')\n",
      "(78.89359391303815, 'grade')\n",
      "(79.08210404070827, 'top')\n",
      "(79.13605331138736, 'digest')\n",
      "(79.3069837113247, 'speak')\n",
      "(79.50958998926751, 'fanci')\n",
      "(79.51393665820017, 'terrier')\n",
      "(79.57847953804605, 'toast')\n",
      "(79.62148293036769, 'grandmoth')\n",
      "(79.82410141127465, 'search')\n",
      "(79.87406685142206, 'fruit')\n",
      "(80.05883762123128, 'group')\n",
      "(80.07253652096247, 'center')\n",
      "(80.22673086580227, 'resist')\n",
      "(80.30287962167877, 'cough')\n",
      "(80.30301974705665, 'lbs')\n",
      "(80.33695799002632, 'frequent')\n",
      "(80.34167768112196, 'remain')\n",
      "(80.3626758919451, 'dog')\n",
      "(80.36386824723614, 'addit')\n",
      "(80.42503136056338, 'never')\n",
      "(80.46066179653354, 'blend')\n",
      "(80.63203829896968, 'label')\n",
      "(80.64441208488525, 'fit')\n",
      "(80.64590136316934, 'vinegar')\n",
      "(80.7182118162544, 'thorough')\n",
      "(80.75633005389086, 'onion')\n",
      "(80.76512546388851, 'ago')\n",
      "(80.80388904538867, 'rescu')\n",
      "(80.82246441190571, 'celesti')\n",
      "(80.83745262887672, 'least')\n",
      "(80.97766253438365, 'mushroom')\n",
      "(81.05664294427302, 'belli')\n",
      "(81.18663221354, 'gritti')\n",
      "(81.20543754551325, 'straight')\n",
      "(81.35946742564661, 'crisp')\n",
      "(81.36781634299619, 'obvious')\n",
      "(81.50732303115605, 'tsp')\n",
      "(81.57355833603225, 'suppli')\n",
      "(81.57626325240057, 'trap')\n",
      "(81.63306115192262, 'tube')\n",
      "(81.68037052372897, 'guy')\n",
      "(81.78216213976049, 'eater')\n",
      "(81.93105712737474, 'penni')\n",
      "(81.97370614870816, 'hydrogen')\n",
      "(82.00798486810974, 'california')\n",
      "(82.05724757454314, 'owner')\n",
      "(82.13321572997899, 'refer')\n",
      "(82.15811103228599, 'local')\n",
      "(82.17897386884978, 'southern')\n",
      "(82.24337371634152, 'respons')\n",
      "(82.33266609672782, 'casserol')\n",
      "(82.3765603120204, 'chunk')\n",
      "(82.38442311720361, 'everybodi')\n",
      "(82.40930997290654, 'touch')\n",
      "(82.4414656108292, 'play')\n",
      "(82.45136735346603, 'honey')\n",
      "(82.50041118061881, 'stuf')\n",
      "(82.57091127938759, 'troubl')\n",
      "(82.58624680158849, 'concern')\n",
      "(82.70204747024884, 'within')\n",
      "(82.82711684292194, 'fruiti')\n",
      "(82.83791926672647, 'mark')\n",
      "(82.87727264632078, 'brewer')\n",
      "(82.87885537770478, 'apart')\n",
      "(82.94774755567198, 'oat')\n",
      "(82.9587901364073, 'ate')\n",
      "(83.08736636511497, 'eaten')\n",
      "(83.09320451413264, 'wholesom')\n",
      "(83.29301452484759, 'though')\n",
      "(83.45932979026749, 'twin')\n",
      "(83.47170779116291, 'anywher')\n",
      "(83.4851531448511, 'fool')\n",
      "(83.50971849772343, 'receiv')\n",
      "(83.53290166390377, 'pepsi')\n",
      "(83.60984040667202, 'choos')\n",
      "(83.83305694016852, 'grapefruit')\n",
      "(83.90266011614466, 'version')\n",
      "(83.90349892043955, 'god')\n",
      "(83.93279949247776, 'oppos')\n",
      "(83.9988623068674, 'consist')\n",
      "(84.07820184500807, 'texa')\n",
      "(84.087478364514, 'buffalo')\n",
      "(84.09750465479588, 'gluten')\n",
      "(84.11622163557918, 'readi')\n",
      "(84.12941801730884, 'got')\n",
      "(84.21374659974383, 'ounc')\n",
      "(84.35042564920785, 'grew')\n",
      "(84.36698228055761, 'inde')\n",
      "(84.40242953387728, 'island')\n",
      "(84.41080878207991, 'non')\n",
      "(84.47298397813209, 'describ')\n",
      "(84.58414441338127, 'basket')\n",
      "(84.65049643153148, 'rebecca')\n",
      "(84.70486084977826, 'soon')\n",
      "(84.77694437355302, 'chef')\n",
      "(84.7820102211122, 'kill')\n",
      "(84.78352689381559, 'extra')\n",
      "(84.90300859252513, 'relat')\n",
      "(84.95552803663719, 'select')\n",
      "(84.96296605877957, 'rock')\n",
      "(84.96918457254453, 'hesit')\n",
      "(85.05062822439801, 'nutrient')\n",
      "(85.09818119706703, 'crispi')\n",
      "(85.12650593014467, 'secret')\n",
      "(85.15902046364181, 'pocket')\n",
      "(85.24092291476184, 'toss')\n",
      "(85.28793059579267, 'pancak')\n",
      "(85.32062453334954, 'puppi')\n",
      "(85.36167076647617, 'avail')\n",
      "(85.37276240423527, 'watcher')\n",
      "(85.37596036382737, 'sound')\n",
      "(85.38976822697444, 'picki')\n",
      "(85.4566271091377, 'chai')\n",
      "(85.49709898924628, 'tart')\n",
      "(85.50614151505697, 'across')\n",
      "(85.51478678850441, 'overnight')\n",
      "(85.57864280287988, 'gotten')\n",
      "(85.64660411937498, 'green')\n",
      "(85.67882948345307, 'cheaper')\n",
      "(85.85768447761721, 'along')\n",
      "(85.86334118270578, 'chili')\n",
      "(85.87313651755963, 'couscous')\n",
      "(85.87344581541971, 'inch')\n",
      "(85.88006553007666, 'per')\n",
      "(85.8815196764389, 'bulk')\n",
      "(85.92606920645281, 'ridicul')\n",
      "(85.96778025006778, 'emerg')\n",
      "(85.98197316035497, 'doubt')\n",
      "(85.98867847763904, 'stove')\n",
      "(86.01524734794363, 'kernel')\n",
      "(86.01778779517117, 'sooth')\n",
      "(86.03664536054852, 'healthi')\n",
      "(86.04370184725367, 'desk')\n",
      "(86.08660348297076, 'later')\n",
      "(86.10804356073889, 'lighter')\n",
      "(86.19281805747563, 'holiday')\n",
      "(86.2299973977687, 'word')\n",
      "(86.23603881019473, 'bread')\n",
      "(86.2427435852116, 'ketchup')\n",
      "(86.24946213043496, 'senseo')\n",
      "(86.33334987893663, 'vegetarian')\n",
      "(86.37254556011449, 'recip')\n",
      "(86.47208554670371, 'pay')\n",
      "(86.57296488813098, 'night')\n",
      "(86.61626401549984, 'sparkl')\n",
      "(86.63662526614449, 'share')\n",
      "(86.63674954558579, 'england')\n",
      "(86.73237760181406, 'evo')\n",
      "(86.80634826322634, 'cup')\n",
      "(86.8435665402217, 'warn')\n",
      "(86.915625546365, 'stress')\n",
      "(86.91928606435172, 'shred')\n",
      "(86.99141381776184, 'someon')\n",
      "(87.00916016948386, 'found')\n",
      "(87.0799774432149, 'illi')\n",
      "(87.10842352884656, 'titl')\n",
      "(87.1387490131783, 'homemad')\n",
      "(87.21329389978277, 'exact')\n",
      "(87.28605242870272, 'daili')\n",
      "(87.30740117316512, 'tini')\n",
      "(87.33438979612373, 'satur')\n",
      "(87.36862855129104, 'miso')\n",
      "(87.39415006513258, 'tempt')\n",
      "(87.45938205430093, 'stumbl')\n",
      "(87.4959556736899, 'depend')\n",
      "(87.52669015179868, 'nutriti')\n",
      "(87.56786680845767, 'jerki')\n",
      "(87.57824293414558, 'ahead')\n",
      "(87.66785589594083, 'link')\n",
      "(87.70396743356932, 'subscrib')\n",
      "(87.73739183794295, 'began')\n",
      "(87.82801461714192, 'materi')\n",
      "(87.84588212099936, 'germani')\n",
      "(87.89349270134223, 'slice')\n",
      "(87.92686910805372, 'club')\n",
      "(87.93055292787433, 'wheat')\n",
      "(87.95016371246871, 'frost')\n",
      "(87.99937551656693, 'alot')\n",
      "(88.02466314362583, 'taco')\n",
      "(88.05360044056434, 'take')\n",
      "(88.11725494935104, 'junk')\n",
      "(88.19920439177605, 'qualiti')\n",
      "(88.2171646308102, 'happili')\n",
      "(88.2353930366445, 'mustard')\n",
      "(88.30757220666513, 'usual')\n",
      "(88.3132654413893, 'smaller')\n",
      "(88.37397755829647, 'potato')\n",
      "(88.38530917021126, 'fragrant')\n",
      "(88.39806831282313, 'medic')\n",
      "(88.40774939351552, 'inform')\n",
      "(88.47914791769867, 'make')\n",
      "(88.48026005007182, 'general')\n",
      "(88.52984764806416, 'differ')\n",
      "(88.5645363546194, 'allerg')\n",
      "(88.59724279738423, 'ramen')\n",
      "(88.64206865005232, 'rub')\n",
      "(88.67125038942773, 'want')\n",
      "(88.69867195729509, 'breakfast')\n",
      "(88.7321109053364, 'tangi')\n",
      "(88.7629967571168, 'target')\n",
      "(88.8549170411177, 'leak')\n",
      "(88.86553468537312, 'popular')\n",
      "(88.89675398892474, 'liver')\n",
      "(88.94147666841836, 'besid')\n",
      "(89.01212512965758, 'kitti')\n",
      "(89.02670628308546, 'xylitol')\n",
      "(89.04059344284025, 'scone')\n",
      "(89.0786205963992, 'coca')\n",
      "(89.10765968733749, 'switch')\n",
      "(89.117189613181, 'aerogarden')\n",
      "(89.13403078518621, 'easier')\n",
      "(89.16193285172692, 'mix')\n",
      "(89.17864352240964, 'drop')\n",
      "(89.2543831410391, 'earthi')\n",
      "(89.26505038651888, 'contain')\n",
      "(89.27983959111518, 'cupcak')\n",
      "(89.3248111847405, 'toward')\n",
      "(89.33166410778453, 'funni')\n",
      "(89.33953329670665, 'mouth')\n",
      "(89.34610263674317, 'bit')\n",
      "(89.3555837318601, 'faster')\n",
      "(89.42894949967256, 'earlier')\n",
      "(89.51159733516283, 'supermarket')\n",
      "(89.60155670981901, 'long')\n",
      "(89.64699006625607, 'claim')\n",
      "(89.64951317588273, 'lol')\n",
      "(89.66600406330868, 'door')\n",
      "(89.67040060527684, 'hear')\n",
      "(89.70051284968147, 'overpr')\n",
      "(89.71896651386623, 'crunch')\n",
      "(89.74730450958072, 'dri')\n",
      "(89.7646016189431, 'nasti')\n",
      "(89.76475297061931, 'boyfriend')\n",
      "(89.77038697531349, 'certain')\n",
      "(89.78276764221917, 'stool')\n",
      "(89.80174533738371, 'result')\n",
      "(89.88210713590865, 'pearl')\n",
      "(89.92610663585108, 'oil')\n",
      "(89.9364846082504, 'boy')\n",
      "(89.98471010295097, 'ill')\n",
      "(90.12395446940234, 'inexpens')\n",
      "(90.1373290706992, 'follow')\n",
      "(90.19080418820438, 'shape')\n",
      "(90.20294239226968, 'chees')\n",
      "(90.22425787148488, 'higher')\n",
      "(90.26204790846907, 'bill')\n",
      "(90.37455907779795, 'overpow')\n",
      "(90.41458451236892, 'none')\n",
      "(90.44786514949817, 'plenti')\n",
      "(90.45806648504986, 'area')\n",
      "(90.4896959696557, 'english')\n",
      "(90.50465256126259, 'competit')\n",
      "(90.52494001105295, 'cancer')\n",
      "(90.53943944874567, 'sip')\n",
      "(90.54207058796811, 'dessert')\n",
      "(90.57598015208241, 'curious')\n",
      "(90.57909964554567, 'rough')\n",
      "(90.62143528807286, 'miss')\n",
      "(90.62484110713326, 'wafer')\n",
      "(90.68352510280555, 'beetlejuic')\n",
      "(90.70711375659602, 'rememb')\n",
      "(90.72179159945252, 'continu')\n",
      "(90.72631590876101, 'jasmin')\n",
      "(90.83916977677532, 'uniqu')\n",
      "(90.86501934174636, 'came')\n",
      "(90.86563239456049, 'grow')\n",
      "(90.86868246894426, 'oreo')\n",
      "(90.99495231315822, 'squar')\n",
      "(91.01112798046233, 'cola')\n",
      "(91.09290423673642, 'combin')\n",
      "(91.09350590050165, 'clump')\n",
      "(91.12526966988426, 'hook')\n",
      "(91.13598071619784, 'eat')\n",
      "(91.16059163487155, 'up')\n",
      "(91.16525845134674, 'caution')\n",
      "(91.16546848007559, 'must')\n",
      "(91.19497277508617, 'sent')\n",
      "(91.20470665477876, 'jelli')\n",
      "(91.22640520654046, 'purchas')\n",
      "(91.23662022119278, 'poor')\n",
      "(91.26652932414828, 'bug')\n",
      "(91.26691401090406, 'hearti')\n",
      "(91.26974720396133, 'morn')\n",
      "(91.28284391217461, 'free')\n",
      "(91.28739989874684, 'email')\n",
      "(91.29725353197186, 'better')\n",
      "(91.30852350639213, 'behind')\n",
      "(91.32752161340592, 'import')\n",
      "(91.44149899613335, 'store')\n",
      "(91.45404827281116, 'medicin')\n",
      "(91.45427145465831, 'peac')\n",
      "(91.51692502634712, 'soak')\n",
      "(91.55628831515135, 'done')\n",
      "(91.55783107271056, 'control')\n",
      "(91.58021206953883, 'shown')\n",
      "(91.59400134966388, 'open')\n",
      "(91.59513825010144, 'mother')\n",
      "(91.61843598336114, 'fill')\n",
      "(91.61971922055051, 'creme')\n",
      "(91.64981999762809, 'cranberri')\n",
      "(91.65599706089364, 'superb')\n",
      "(91.67299146912097, 'waffl')\n",
      "(91.69713475499583, 'visit')\n",
      "(91.72630656218425, 'sweeten')\n",
      "(91.73441448561071, 'fresher')\n",
      "(91.7422866358222, 'varieti')\n",
      "(91.8101827842311, 'reason')\n",
      "(91.81874538095128, 'bergamot')\n",
      "(91.82281529160296, 'outstand')\n",
      "(91.8501941626396, 'enhanc')\n",
      "(91.9004583339316, 'left')\n",
      "(91.98830856187921, 'current')\n",
      "(92.00594746188642, 'sad')\n",
      "(92.02426273254109, 'sinc')\n",
      "(92.0474140337529, 'fresh')\n",
      "(92.05091012568212, 'realli')\n",
      "(92.09048235381483, 'seal')\n",
      "(92.12625618221347, 'light')\n",
      "(92.13363104388694, 'pod')\n",
      "(92.22081953911218, 'wrote')\n",
      "(92.28982746095326, 'healthier')\n",
      "(92.35761799989218, 'fact')\n",
      "(92.35865045385535, 'bed')\n",
      "(92.35939273453369, 'well')\n",
      "(92.4274487989958, 'mccann')\n",
      "(92.4439632574998, 'fructos')\n",
      "(92.5025866031068, 'encourag')\n",
      "(92.50424779540027, 'everyth')\n",
      "(92.53464932193846, 'fair')\n",
      "(92.54407282638802, 'load')\n",
      "(92.55033211071279, 'discount')\n",
      "(92.56201033905292, 'low')\n",
      "(92.57195907844434, 'dehydr')\n",
      "(92.59178487851224, 'truffl')\n",
      "(92.59489719488376, 'spinach')\n",
      "(92.69322014202464, 'maker')\n",
      "(92.75061315077085, 'immedi')\n",
      "(92.75303956311097, 'sooo')\n",
      "(92.78973948489958, 'acquir')\n",
      "(92.79242469949446, 'msg')\n",
      "(92.86367597755752, 'cabinet')\n",
      "(92.9070982102018, 'stock')\n",
      "(92.9169660006558, 'freezer')\n",
      "(92.9596104269457, 'white')\n",
      "(92.9687375294829, 'hunger')\n",
      "(92.9831839052058, 'anytim')\n",
      "(93.0109114090842, 'kid')\n",
      "(93.02383606655523, 'beer')\n",
      "(93.02726899320398, 'salad')\n",
      "(93.03214374862335, 'smoothi')\n",
      "(93.039448714797, 'flake')\n",
      "(93.04509113996072, 'coffe')\n",
      "(93.14248459373935, 'definit')\n",
      "(93.1650274071354, 'biggest')\n",
      "(93.16698860186526, 'suck')\n",
      "(93.2199283072824, 'quaker')\n",
      "(93.22718175802747, 'price')\n",
      "(93.30001940295188, 'premium')\n",
      "(93.3452983044452, 'teeth')\n",
      "(93.3613179327553, 'yummi')\n",
      "(93.38618578588606, 'crazi')\n",
      "(93.38750993170909, 'sprinkl')\n",
      "(93.42202887993724, 'point')\n",
      "(93.4264420644032, 'smile')\n",
      "(93.43386149135287, 'oven')\n",
      "(93.4404577550898, 'dough')\n",
      "(93.46675481031436, 'discov')\n",
      "(93.49273182278228, 'given')\n",
      "(93.55370469322767, 'father')\n",
      "(93.56115579404904, 'suppos')\n",
      "(93.5622297795551, 'meat')\n",
      "(93.5744443923434, 'cook')\n",
      "(93.59454750749038, 'mayb')\n",
      "(93.62281258406003, 'learn')\n",
      "(93.65594667368488, 'neighbor')\n",
      "(93.65904745660309, 'leftov')\n",
      "(93.66357434861075, 'part')\n",
      "(93.69491319290672, 'yum')\n",
      "(93.7597885134475, 'absorb')\n",
      "(93.77922860060072, 'rid')\n",
      "(93.79911993350755, 'fri')\n",
      "(93.82817657766344, 'process')\n",
      "(93.82975042789104, 'bargain')\n",
      "(93.86639028401021, 'fail')\n",
      "(93.87033142059688, 'winner')\n",
      "(93.91345067786179, 'world')\n",
      "(93.95073542401572, 'stop')\n",
      "(93.99928520986502, 'whip')\n",
      "(94.00922640133335, 'three')\n",
      "(94.04209293781763, 'filler')\n",
      "(94.07539326744471, 'recommend')\n",
      "(94.24156560270146, 'shrimp')\n",
      "(94.27485522130003, 'cacao')\n",
      "(94.34290932226254, 'fan')\n",
      "(94.34390940856989, 'harsh')\n",
      "(94.36568542350295, 'subtl')\n",
      "(94.38895234951985, 'ever')\n",
      "(94.4096801064113, 'cooki')\n",
      "(94.41636836384292, 'weigh')\n",
      "(94.42842469957435, 'without')\n",
      "(94.46081119032318, 'savori')\n",
      "(94.47491612033609, 'pinch')\n",
      "(94.48748577712037, 'properti')\n",
      "(94.4966474002285, 'type')\n",
      "(94.5052322398044, 'canada')\n",
      "(94.50699960041666, 'hour')\n",
      "(94.52044376105508, 'cent')\n",
      "(94.53900688335477, 'becom')\n",
      "(94.55020269573579, 'fridg')\n",
      "(94.60271042590773, 'breed')\n",
      "(94.60279253184895, 'tabl')\n",
      "(94.65503558408153, 'kitten')\n",
      "(94.65850611421408, 'order')\n",
      "(94.7373436434936, 'four')\n",
      "(94.78482323097296, 'exampl')\n",
      "(94.85884451304587, 'broke')\n",
      "(94.86926406573055, 'mapl')\n",
      "(94.89076279630075, 'stori')\n",
      "(94.91229386340454, 'hide')\n",
      "(94.91687932102178, 'rather')\n",
      "(94.93064140272158, 'especi')\n",
      "(94.95897284698113, 'spici')\n",
      "(94.97256368776561, 'carb')\n",
      "(95.00921448909548, 'terrif')\n",
      "(95.054905323315, 'coupl')\n",
      "(95.06481702061035, 'delic')\n",
      "(95.08402753463298, 'sweet')\n",
      "(95.09624248861982, 'crystal')\n",
      "(95.1007184503704, 'skim')\n",
      "(95.11701419410659, 'class')\n",
      "(95.12317640159458, 'sold')\n",
      "(95.1434494677829, 'minim')\n",
      "(95.1665583793543, 'read')\n",
      "(95.21123567410392, 'most')\n",
      "(95.31166006600917, 'barley')\n",
      "(95.3226866763156, 'balanc')\n",
      "(95.37197629289173, 'feel')\n",
      "(95.41288380590746, 'hope')\n",
      "(95.4335803972925, 'fiber')\n",
      "(95.43384610022373, 'daughter')\n",
      "(95.4490374733235, 'crema')\n",
      "(95.47494836172812, 'disgust')\n",
      "(95.48627707716727, 'versatil')\n",
      "(95.48661244267717, 'desert')\n",
      "(95.4961534667356, 'deliveri')\n",
      "(95.5251595736127, 'browni')\n",
      "(95.55241661774674, 'far')\n",
      "(95.59051836568418, 'mom')\n",
      "(95.62369665418332, 'wors')\n",
      "(95.63111250949069, 'beauti')\n",
      "(95.64456095777038, 'clam')\n",
      "(95.65650168489417, 'bother')\n",
      "(95.66397370859603, 'gourmet')\n",
      "(95.67348818768238, 'simpl')\n",
      "(95.69127748705681, 'treat')\n",
      "(95.70559423393303, 'disappear')\n",
      "(95.711459870042, 'commerci')\n",
      "(95.72929200260957, 'week')\n",
      "(95.73958271110048, 'india')\n",
      "(95.74578552847306, 'back')\n",
      "(95.75242704339196, 'plant')\n",
      "(95.76933937004503, 'edg')\n",
      "(95.76985563451811, 'use')\n",
      "(95.82857954745802, 'hous')\n",
      "(95.83294052246708, 'refin')\n",
      "(95.97222500440631, 'gravi')\n",
      "(95.99575907951497, 'bite')\n",
      "(96.06093258515004, 'citrus')\n",
      "(96.06546102898626, 'mean')\n",
      "(96.11281109447879, 'milk')\n",
      "(96.12658820368776, 'aw')\n",
      "(96.1309683519755, 'perhap')\n",
      "(96.14026619173927, 'longer')\n",
      "(96.17037502594351, 'major')\n",
      "(96.195104985436, 'away')\n",
      "(96.24013596180839, 'batch')\n",
      "(96.27135899182147, 'walmart')\n",
      "(96.27364770619535, 'wake')\n",
      "(96.3105071579425, 'felt')\n",
      "(96.3417410001909, 'insid')\n",
      "(96.38690813590131, 'method')\n",
      "(96.39305862090663, 'artifici')\n",
      "(96.42811132560422, 'measur')\n",
      "(96.53270505910366, 'savor')\n",
      "(96.61506528267331, 'amount')\n",
      "(96.67058281566337, 'almond')\n",
      "(96.71023943743414, 'despit')\n",
      "(96.71760753297521, 'wild')\n",
      "(96.73835041310831, 'associ')\n",
      "(96.75051571277913, 'cappuccino')\n",
      "(96.752112361168, 'thrill')\n",
      "(96.76835284951295, 'sometim')\n",
      "(96.77366177968354, 'relax')\n",
      "(96.79556035358387, 'chicken')\n",
      "(96.79596415017703, 'volum')\n",
      "(96.80442835047329, 'clean')\n",
      "(96.82261333203758, 'till')\n",
      "(96.83588701417453, 'guess')\n",
      "(96.84243197942412, 'full')\n",
      "(96.84518840365595, 'egg')\n",
      "(96.85063671996443, 'earth')\n",
      "(96.8533240702912, 'fight')\n",
      "(96.8612063145702, 'item')\n",
      "(96.9352800973179, 'give')\n",
      "(96.95295876317167, 'tea')\n",
      "(96.96279964092504, 'help')\n",
      "(96.99035932785772, 'chewer')\n",
      "(97.08623402859861, 'almost')\n",
      "(97.10023640011391, 'prompt')\n",
      "(97.10230122404813, 'throw')\n",
      "(97.14369316972837, 'bonus')\n",
      "(97.14741140464896, 'hard')\n",
      "(97.21841141940443, 'hand')\n",
      "(97.25502657682131, 'salti')\n",
      "(97.25689244880954, 'garbag')\n",
      "(97.26545577963974, 'might')\n",
      "(97.29201330518613, 'danger')\n",
      "(97.32432128972268, 'realiz')\n",
      "(97.36006677503146, 'bland')\n",
      "(97.39445495960854, 'york')\n",
      "(97.41917987739649, 'ice')\n",
      "(97.46065164163345, 'incred')\n",
      "(97.48269871474302, 'thai')\n",
      "(97.5108048798539, 'carri')\n",
      "(97.52265467495299, 'quit')\n",
      "(97.5227395296235, 'gift')\n",
      "(97.56167476691867, 'push')\n",
      "(97.58165014453184, 'mistak')\n",
      "(97.64273051118083, 'italian')\n",
      "(97.66780335162977, 'fantast')\n",
      "(97.67779315776313, 'pink')\n",
      "(97.69738274091614, 'larger')\n",
      "(97.70332601666883, 'fast')\n",
      "(97.70470393583453, 'increas')\n",
      "(97.70790951421164, 'wine')\n",
      "(97.72860377577794, 'delight')\n",
      "(97.79970064890674, 'certifi')\n",
      "(97.8207517801716, 'internet')\n",
      "(97.85154621498478, 'deserv')\n",
      "(97.8676290391979, 'candi')\n",
      "(97.88692856773037, 'littl')\n",
      "(97.9120843580273, 'fun')\n",
      "(97.92202521242208, 'carton')\n",
      "(98.07687718310049, 'threw')\n",
      "(98.10021496496593, 'lack')\n",
      "(98.10878060462286, 'capsul')\n",
      "(98.11791546802567, 'condit')\n",
      "(98.13669413708325, 'son')\n",
      "(98.15530376488366, 'extract')\n",
      "(98.20515872579733, 'also')\n",
      "(98.21310217051872, 'worst')\n",
      "(98.21785623372311, 'complement')\n",
      "(98.21794588488699, 'sudden')\n",
      "(98.23777889473332, 'mess')\n",
      "(98.27378830725026, 'plastic')\n",
      "(98.3445380649101, 'fudg')\n",
      "(98.36872357442266, 'serv')\n",
      "(98.37952408880308, 'appeal')\n",
      "(98.3849071471157, 'meal')\n",
      "(98.39207568578352, 'beat')\n",
      "(98.411488335844, 'gave')\n",
      "(98.44096280812974, 'enjoy')\n",
      "(98.47095520150033, 'tast')\n",
      "(98.53843884349376, 'cold')\n",
      "(98.54964101110669, 'even')\n",
      "(98.56029696315196, 'weird')\n",
      "(98.73112662936244, 'ship')\n",
      "(98.74098927155165, 'muffin')\n",
      "(98.7951307563139, 'googl')\n",
      "(98.82333824462715, 'toler')\n",
      "(98.861212666853, 'crave')\n",
      "(98.86867760655366, 'compliment')\n",
      "(98.87489739007988, 'forc')\n",
      "(98.8921516975564, 'lemon')\n",
      "(98.89934975316207, 'cat')\n",
      "(98.95239253463318, 'near')\n",
      "(99.01681826653923, 'salmon')\n",
      "(99.01952450207634, 'diet')\n",
      "(99.07131893237207, 'snack')\n",
      "(99.07652872211892, 'date')\n",
      "(99.08719078523738, 'amaz')\n",
      "(99.10782839871428, 'rip')\n",
      "(99.16307738237907, 'happi')\n",
      "(99.17408075601224, 'stay')\n",
      "(99.23996904425012, 'innova')\n",
      "(99.25752748954359, 'ultim')\n",
      "(99.27625276012652, 'drip')\n",
      "(99.29246621298672, 'satisfi')\n",
      "(99.32134513497586, 'quick')\n",
      "(99.35724548093361, 'late')\n",
      "(99.41447760092073, 'rich')\n",
      "(99.42831322184063, 'friend')\n",
      "(99.486081047198, 'sign')\n",
      "(99.51273387437428, 'bewar')\n",
      "(99.52647878261169, 'easili')\n",
      "(99.53014090799026, 'afternoon')\n",
      "(99.53824916640261, 'refresh')\n",
      "(99.53943796267049, 'remov')\n",
      "(99.54137820342096, 'crunchi')\n",
      "(99.56602768941164, 'lead')\n",
      "(99.5761178075352, 'bold')\n",
      "(99.58535184894697, 'fix')\n",
      "(99.5963412402349, 'figur')\n",
      "(99.60606510130737, 'terribl')\n",
      "(99.64214214160413, 'strang')\n",
      "(99.66167472934924, 'repeat')\n",
      "(99.70202885996943, 'eight')\n",
      "(99.72280941372374, 'otherwis')\n",
      "(99.74331758956731, 'initi')\n",
      "(99.77645926885654, 'unfortun')\n",
      "(99.79335263780004, 'cinnamon')\n",
      "(99.7936737391639, 'seen')\n",
      "(99.81103331616174, 'wonder')\n",
      "(99.83070234709166, 'drawback')\n",
      "(99.83929995104599, 'high')\n",
      "(99.8958557631005, 'love')\n",
      "(99.90553237861691, 'recipi')\n",
      "(99.91933557923886, 'distinct')\n",
      "(99.94296959378983, 'look')\n",
      "(99.96632260184157, 'summer')\n",
      "(99.97122580469878, 'balsam')\n",
      "(99.9902933009464, 'disappoint')\n",
      "(100.09323018952591, 'tasti')\n",
      "(100.10568018172259, 'cure')\n",
      "(100.10995245066204, 'everyday')\n",
      "(100.16214871580769, 'cheap')\n",
      "(100.16761253552666, 'british')\n",
      "(100.18338843752481, 'delici')\n",
      "(100.19660177372289, 'air')\n",
      "(100.1982945672785, 'turkey')\n",
      "(100.23344732543356, 'find')\n",
      "(100.25063925583588, 'smooth')\n",
      "(100.25488885440706, 'rice')\n",
      "(100.29571686441645, 'unless')\n",
      "(100.38443847619911, 'yogurt')\n",
      "(100.415909573521, 'great')\n",
      "(100.42045222413047, 'awesom')\n",
      "(100.47330346855618, 'tire')\n",
      "(100.49263795831405, 'organ')\n",
      "(100.5005035454442, 'pumpkin')\n",
      "(100.51462385914662, 'complet')\n",
      "(100.5373659240426, 'basic')\n",
      "(100.59521740042898, 'mac')\n",
      "(100.61616324576231, 'offic')\n",
      "(100.62506497049925, 'parti')\n",
      "(100.69971914924984, 'piec')\n",
      "(100.72938983950057, 'textur')\n",
      "(100.73455427341183, 'floral')\n",
      "(100.80039227678654, 'welcom')\n",
      "(100.8099190993982, 'wish')\n",
      "(100.81652349313532, 'husband')\n",
      "(100.88346365272534, 'tender')\n",
      "(100.89327906414415, 'american')\n",
      "(100.92215885334596, 'stash')\n",
      "(100.92270142316613, 'old')\n",
      "(100.97021642926293, 'excel')\n",
      "(100.97548333430612, 'bob')\n",
      "(100.99774462621878, 'extrem')\n",
      "(101.02980982925935, 'attract')\n",
      "(101.03118155783288, 'pleasur')\n",
      "(101.10636544973752, 'pull')\n",
      "(101.10930877066086, 'famili')\n",
      "(101.11559232154286, 'wast')\n",
      "(101.12742358261227, 'puff')\n",
      "(101.14448609866815, 'hit')\n",
      "(101.16506188190446, 'liquid')\n",
      "(101.18246655834886, 'beg')\n",
      "(101.18597564017644, 'super')\n",
      "(101.21919759071751, 'factor')\n",
      "(101.24546929332612, 'shop')\n",
      "(101.25334572807527, 'sick')\n",
      "(101.26015795088654, 'wide')\n",
      "(101.26498988820775, 'camp')\n",
      "(101.26771908277028, 'wise')\n",
      "(101.29223788418977, 'dens')\n",
      "(101.31316969867383, 'asid')\n",
      "(101.31342923544781, 'think')\n",
      "(101.36108311952201, 'overal')\n",
      "(101.3825143717689, 'breast')\n",
      "(101.41591500583789, 'breath')\n",
      "(101.41931996479583, 'like')\n",
      "(101.43968224012984, 'nice')\n",
      "(101.45580577101816, 'expir')\n",
      "(101.4643978593836, 'instead')\n",
      "(101.4665990425992, 'perfect')\n",
      "(101.48382238494011, 'alway')\n",
      "(101.51489511317615, 'recent')\n",
      "(101.54110086723354, 'often')\n",
      "(101.54635945799744, 'weight')\n",
      "(101.58886882965741, 'unpleas')\n",
      "(101.60075280747722, 'tongu')\n",
      "(101.62010233166853, 'year')\n",
      "(101.65337223421615, 'tortilla')\n",
      "(101.6681866256516, 'china')\n",
      "(101.73226572774017, 'vendor')\n",
      "(101.74535188020029, 'addict')\n",
      "(101.74835776741817, 'sticki')\n",
      "(101.77767717724487, 'mold')\n",
      "(101.82925238314024, 'entertain')\n",
      "(101.83859481197564, 'manufactur')\n",
      "(101.85898126450303, 'may')\n",
      "(102.00249069237984, 'vacat')\n",
      "(102.02131780089726, 'need')\n",
      "(102.05341893675977, 'tad')\n",
      "(102.07755215009482, 'manner')\n",
      "(102.14105510468102, 'day')\n",
      "(102.1450778243418, 'knock')\n",
      "(102.14833704042393, 'kraft')\n",
      "(102.15317940109972, 'moistur')\n",
      "(102.17811550045639, 'favorit')\n",
      "(102.18127547176934, 'strong')\n",
      "(102.18705742805257, 'past')\n",
      "(102.19239182861979, 'plate')\n",
      "(102.19598186709081, 'creami')\n",
      "(102.23993426650826, 'pass')\n",
      "(102.24787069265744, 'less')\n",
      "(102.27040135871732, 'best')\n",
      "(102.28848107590642, 'steel')\n",
      "(102.33471317090796, 'consid')\n",
      "(102.35678934801977, 'guarante')\n",
      "(102.36769702163235, 'either')\n",
      "(102.4700134727657, 'call')\n",
      "(102.47650948270761, 'mixer')\n",
      "(102.52584630775712, 'good')\n",
      "(102.54063542837353, 'watch')\n",
      "(102.55759106981048, 'comfort')\n",
      "(102.60351996220514, 'drink')\n",
      "(102.64796666012634, 'dark')\n",
      "(102.66580095324112, 'altern')\n",
      "(102.74498864692228, 'yeah')\n",
      "(102.75877068185986, 'horribl')\n",
      "(102.77525372005627, 'pronounc')\n",
      "(102.83138371144582, 'okay')\n",
      "(102.83739613226159, 'thought')\n",
      "(102.87840088499445, 'prevent')\n",
      "(102.90073379874407, 'nutti')\n",
      "(102.93383344417832, 'matter')\n",
      "(102.94093251255896, 'singl')\n",
      "(102.95152171891833, 'everi')\n",
      "(102.95599119266431, 'stick')\n",
      "(103.03784907331423, 'fluffi')\n",
      "(103.0608017860359, 'would')\n",
      "(103.07459145991416, 'bad')\n",
      "(103.08120212093212, 'car')\n",
      "(103.11605950132909, 'burn')\n",
      "(103.19725489751642, 'approxim')\n",
      "(103.26343023660786, 'ask')\n",
      "(103.2912807167565, 'mango')\n",
      "(103.32966423595389, 'minut')\n",
      "(103.37186475328868, 'lover')\n",
      "(103.39354754541807, 'worri')\n",
      "(103.4049709478788, 'add')\n",
      "(103.45505771227374, 'ruin')\n",
      "(103.46779938954045, 'wife')\n",
      "(103.4840699674831, 'lot')\n",
      "(103.50446598412601, 'san')\n",
      "(103.52382714615673, 'explain')\n",
      "(103.55599801693526, 'appl')\n",
      "(103.57561814631198, 'bottom')\n",
      "(103.707686110298, 'web')\n",
      "(103.71177225546279, 'buy')\n",
      "(103.7728409068049, 'trip')\n",
      "(103.80969230142547, 'espresso')\n",
      "(103.8101069846671, 'tummi')\n",
      "(103.85456010160856, 'stronger')\n",
      "(103.9416522300499, 'tooth')\n",
      "(103.95177928970844, 'contact')\n",
      "(103.98521752028617, 'easi')\n",
      "(103.99992710699873, 'mole')\n",
      "(104.03180424584181, 'list')\n",
      "(104.05103876757755, 'iron')\n",
      "(104.07547406341435, 'tablespoon')\n",
      "(104.07943506843856, 'stale')\n",
      "(104.08972317812083, 'understand')\n",
      "(104.09221654764222, 'someth')\n",
      "(104.11699082732382, 'challeng')\n",
      "(104.21913824983613, 'ratio')\n",
      "(104.23644554339, 'substanc')\n",
      "(104.23809400253677, 'right')\n",
      "(104.32324329366953, 'gotta')\n",
      "(104.38759033322971, 'metal')\n",
      "(104.39222621376112, 'strip')\n",
      "(104.39574480297713, 'finish')\n",
      "(104.42676259894628, 'lunch')\n",
      "(104.4440411789713, 'moth')\n",
      "(104.59840990934278, 'excit')\n",
      "(104.6140720486183, 'roast')\n",
      "(104.62028087213353, 'america')\n",
      "(104.64979715614035, 'chocolatey')\n",
      "(104.72532130907946, 'bear')\n",
      "(104.74499961262651, 'slight')\n",
      "(104.76153393176035, 'fire')\n",
      "(104.76432240248855, 'smell')\n",
      "(104.77051342710546, 'descript')\n",
      "(104.8315820040888, 'case')\n",
      "(104.84906376742862, 'studi')\n",
      "(104.87652283098716, 'keep')\n",
      "(104.87733565422599, 'dairi')\n",
      "(104.96323879316665, 'filter')\n",
      "(105.03278764767134, 'time')\n",
      "(105.04894824277716, 'luck')\n",
      "(105.07073839635261, 'flat')\n",
      "(105.09008572009195, 'glad')\n",
      "(105.09616755118063, 'save')\n",
      "(105.15004214692965, 'everyon')\n",
      "(105.19312779016734, 'finest')\n",
      "(105.36097425634527, 'meet')\n",
      "(105.40856896571631, 'correct')\n",
      "(105.40863125677073, 'www')\n",
      "(105.46314301090034, 'skeptic')\n",
      "(105.48409876101977, 'money')\n",
      "(105.49142432695776, 'promot')\n",
      "(105.57067686288453, 'whenev')\n",
      "(105.61936530333426, 'success')\n",
      "(105.65475290738829, 'pretzel')\n",
      "(105.67559382450892, 'smoki')\n",
      "(105.71803686339038, 'planter')\n",
      "(105.72707212460935, 'review')\n",
      "(105.74377338759331, 'unusu')\n",
      "(105.77806810103152, 'knew')\n",
      "(105.81018740830008, 'risk')\n",
      "(105.85569756410464, 'winter')\n",
      "(105.85668638226713, 'tran')\n",
      "(105.91326345853854, 'instant')\n",
      "(105.95378342921495, 'thin')\n",
      "(105.96834955454099, 'color')\n",
      "(106.05594705226645, 'purs')\n",
      "(106.09681589010647, 'chang')\n",
      "(106.11132110883528, 'christma')\n",
      "(106.12237291387838, 'sore')\n",
      "(106.1905567361857, 'reaction')\n",
      "(106.21561793582607, 'break')\n",
      "(106.28151754609027, 'peel')\n",
      "(106.2905329725987, 'wood')\n",
      "(106.29359081400605, 'howev')\n",
      "(106.3140509281993, 'go')\n",
      "(106.32191852303998, 'parmesan')\n",
      "(106.32959844498242, 'fish')\n",
      "(106.34651246870668, 'lab')\n",
      "(106.35912291515868, 'starter')\n",
      "(106.38245794602442, 'interest')\n",
      "(106.38495734788211, 'leg')\n",
      "(106.38896133721667, 'caus')\n",
      "(106.39854153008767, 'truli')\n",
      "(106.4318572926249, 'pasta')\n",
      "(106.51130532804815, 'yogi')\n",
      "(106.52757182852186, 'heaven')\n",
      "(106.58125528144338, 'negat')\n",
      "(106.63929878004932, 'hemp')\n",
      "(106.64552763236759, 'birthday')\n",
      "(106.74447018553485, 'constant')\n",
      "(106.76485489607876, 'previous')\n",
      "(106.82982940160039, 'conveni')\n",
      "(106.86402075833587, 'exercis')\n",
      "(106.8766579098888, 'decaf')\n",
      "(106.92039173981524, 'cut')\n",
      "(106.94170056301977, 'signific')\n",
      "(106.95190855998734, 'pleas')\n",
      "(107.02469995970031, 'build')\n",
      "(107.04775359028751, 'flax')\n",
      "(107.04874804946185, 'cours')\n",
      "(107.09585370385113, 'mellow')\n",
      "(107.09829442298462, 'tasteless')\n",
      "(107.25340018997802, 'numi')\n",
      "(107.27718856118564, 'compar')\n",
      "(107.3141982962056, 'root')\n",
      "(107.31596977521582, 'custom')\n",
      "(107.36207687544572, 'product')\n",
      "(107.37951711823752, 'wont')\n",
      "(107.42686653241442, 'excess')\n",
      "(107.45490292121363, 'brother')\n",
      "(107.45719677515673, 'die')\n",
      "(107.51254024314983, 'close')\n",
      "(107.53730511719712, 'unlik')\n",
      "(107.56073766671508, 'noth')\n",
      "(107.60609437944825, 'avoid')\n",
      "(107.65300351069074, 'hip')\n",
      "(107.66762697480156, 'authent')\n",
      "(107.67449204200781, 'tell')\n",
      "(107.67914895525024, 'could')\n",
      "(107.70880567787522, 'edibl')\n",
      "(107.7456782012622, 'sorri')\n",
      "(107.76956364310524, 'true')\n",
      "(107.78908287644707, 'whole')\n",
      "(107.79823368179716, 'babi')\n",
      "(107.85704597204511, 'chemic')\n",
      "(107.88424217890918, 'sauc')\n",
      "(107.93909880333565, 'pizza')\n",
      "(107.94145595391184, 'skip')\n",
      "(107.94392045693799, 'train')\n",
      "(107.98819336999273, 'idea')\n",
      "(108.03617841645676, 'pad')\n",
      "(108.09899224956685, 'burst')\n",
      "(108.11059376340457, 'allergi')\n",
      "(108.12737299256308, 'thank')\n",
      "(108.24887869350137, 'count')\n",
      "(108.25213428270928, 'post')\n",
      "(108.36916065112807, 'shame')\n",
      "(108.42349450741102, 'expect')\n",
      "(108.45984706000348, 'stevia')\n",
      "(108.50983934663418, 'bring')\n",
      "(108.51990981990983, 'boil')\n",
      "(108.55355008440648, 'substitut')\n",
      "(108.57688833007104, 'bought')\n",
      "(108.64109752709521, 'kick')\n",
      "(108.69304895494949, 'sugari')\n",
      "(108.69418968133826, 'handi')\n",
      "(108.72998050286151, 'noodl')\n",
      "(108.78012580473766, 'agav')\n",
      "(108.79048953231636, 'cashew')\n",
      "(108.80188081270381, 'stuck')\n",
      "(108.81857160661725, 'cereal')\n",
      "(108.82165416897254, 'refund')\n",
      "(108.85561030581108, 'gross')\n",
      "(108.86040615049492, 'numer')\n",
      "(108.8757332573594, 'will')\n",
      "(108.87911931952041, 'typic')\n",
      "(108.8955528231843, 'brew')\n",
      "(108.9014598400245, 'cardboard')\n",
      "(108.90979444939668, 'weak')\n",
      "(108.9321941717478, 'cholesterol')\n",
      "(108.95514884907624, 'ingredi')\n",
      "(108.96873118098303, 'coconut')\n",
      "(108.97724960672525, 'abl')\n",
      "(109.01554900045333, 'rest')\n",
      "(109.01803211289369, 'stapl')\n",
      "(109.07143448123566, 'soda')\n",
      "(109.14916896541646, 'anyon')\n",
      "(109.14918999020638, 'ordinari')\n",
      "(109.20885734372283, 'slow')\n",
      "(109.21185072306454, 'eye')\n",
      "(109.21962567696761, 'return')\n",
      "(109.23240865414515, 'deliv')\n",
      "(109.2556799370697, 'road')\n",
      "(109.31682958732118, 'citi')\n",
      "(109.3567109494445, 'settl')\n",
      "(109.36058270151345, 'book')\n",
      "(109.39732799655302, 'clementin')\n",
      "(109.46798735675213, 'rose')\n",
      "(109.51449937769573, 'period')\n",
      "(109.53317488326515, 'get')\n",
      "(109.66530479748653, 'pain')\n",
      "(109.70847025214567, 'health')\n",
      "(109.7609165725442, 'aroma')\n",
      "(109.76104841286067, 'pita')\n",
      "(109.81957942785394, 'superior')\n",
      "(109.82203283740326, 'amazon')\n",
      "(109.8850367122492, 'although')\n",
      "(109.91162375486397, 'report')\n",
      "(109.96601270717241, 'wateri')\n",
      "(109.9907870098034, 'attempt')\n",
      "(110.11362124391565, 'protein')\n",
      "(110.22170050709043, 'soooo')\n",
      "(110.27976127880541, 'desir')\n",
      "(110.28448454091584, 'guilt')\n",
      "(110.35991787531863, 'fabul')\n",
      "(110.36276171558272, 'pud')\n",
      "(110.37356762479882, 'neither')\n",
      "(110.40860682773197, 'valu')\n",
      "(110.45142422678529, 'bacon')\n",
      "(110.48715122335967, 'home')\n",
      "(110.49363453009344, 'direct')\n",
      "(110.5011353389288, 'wrong')\n",
      "(110.5071186409991, 'blackberri')\n",
      "(110.5939794129139, 'program')\n",
      "(110.63169971664577, 'downsid')\n",
      "(110.66847617276866, 'yet')\n",
      "(110.69226036942679, 'allow')\n",
      "(110.70942674193978, 'thicker')\n",
      "(110.72758223120462, 'town')\n",
      "(110.74397482527058, 'run')\n",
      "(110.77170304801255, 'tazo')\n",
      "(110.77565278495784, 'fed')\n",
      "(110.79602490652778, 'month')\n",
      "(110.86113687795888, 'starbuck')\n",
      "(110.89567685815848, 'choic')\n",
      "(110.90633119950964, 'pleasant')\n",
      "(110.90773129457001, 'carbon')\n",
      "(110.93969961513604, 'send')\n",
      "(111.15490270080979, 'suspect')\n",
      "(111.18308189845831, 'gentl')\n",
      "(111.18769898147363, 'prefer')\n",
      "(111.22040897153225, 'sugar')\n",
      "(111.24239600469909, 'two')\n",
      "(111.2586180844824, 'preserv')\n",
      "(111.26055351372952, 'guest')\n",
      "(111.27223978210041, 'gas')\n",
      "(111.31074455815421, 'end')\n",
      "(111.3482741617017, 'way')\n",
      "(111.37818428499733, 'juic')\n",
      "(111.42286472052993, 'accept')\n",
      "(111.44710931251632, 'bar')\n",
      "(111.45321251342895, 'absolut')\n",
      "(111.45621236948868, 'etc')\n",
      "(111.57459493446729, 'other')\n",
      "(111.64454302014694, 'dress')\n",
      "(111.67274636925384, 'total')\n",
      "(111.70042189796523, 'box')\n",
      "(111.76106068077209, 'larabar')\n",
      "(111.86169145129637, 'surpris')\n",
      "(111.90895833726648, 'butteri')\n",
      "(112.0438751132079, 'servic')\n",
      "(112.05463026009674, 'spearmint')\n",
      "(112.11352718438405, 'bbq')\n",
      "(112.1393276441587, 'smart')\n",
      "(112.18497933925762, 'machin')\n",
      "(112.2215802241875, 'miracl')\n",
      "(112.35923615151448, 'pricey')\n",
      "(112.47605611242275, 'restrict')\n",
      "(112.48141399304808, 'limit')\n",
      "(112.51170818049219, 'gram')\n",
      "(112.54138627827078, 'trust')\n",
      "(112.6734990903827, 'blueberri')\n",
      "(112.69223754164331, 'harm')\n",
      "(112.7049698177432, 'compani')\n",
      "(112.71339554158513, 'particular')\n",
      "(112.84084173629172, 'intak')\n",
      "(112.85354680896593, 'show')\n",
      "(113.00207362533942, 'tofu')\n",
      "(113.1116683822819, 'seafood')\n",
      "(113.20470431457801, 'sandwich')\n",
      "(113.25373736814211, 'cafe')\n",
      "(113.28804392349285, 'aromat')\n",
      "(113.42217304627746, 'twice')\n",
      "(113.53766181457452, 'steep')\n",
      "(113.53951062103913, 'chewi')\n",
      "(113.56463833376952, 'firm')\n",
      "(113.82890097009724, 'goe')\n",
      "(113.94116469935214, 'decaffein')\n",
      "(114.12770274873994, 'graini')\n",
      "(114.151743911928, 'issu')\n",
      "(114.18413106338173, 'school')\n",
      "(114.42309171051565, 'deal')\n",
      "(114.42494900114102, 'wow')\n",
      "(114.44999790342874, 'appetit')\n",
      "(114.47465660100382, 'much')\n",
      "(114.57191435471333, 'darn')\n",
      "(114.59166012137116, 'releas')\n",
      "(114.6510469631116, 'dislik')\n",
      "(114.68238911619993, 'worth')\n",
      "(114.69538565071741, 'tree')\n",
      "(114.75355633695679, 'overwhelm')\n",
      "(114.77885150191065, 'alcohol')\n",
      "(114.80834730454481, 'section')\n",
      "(114.9285351632084, 'thumb')\n",
      "(114.94607041011946, 'saw')\n",
      "(114.95676006883512, 'six')\n",
      "(115.02578749402501, 'resembl')\n",
      "(115.1059423760229, 'fussi')\n",
      "(115.13332343086846, 'bran')\n",
      "(115.23503390754048, 'fell')\n",
      "(115.24774239043343, 'loos')\n",
      "(115.24922968025024, 'orang')\n",
      "(115.28033568941822, 'combo')\n",
      "(115.3162941198323, 'research')\n",
      "(115.46291894258374, 'kidney')\n",
      "(115.4942705140741, 'vomit')\n",
      "(115.70852604587962, 'mushi')\n",
      "(115.71245558668531, 'closest')\n",
      "(115.75230986607441, 'mint')\n",
      "(115.81391613445547, 'indian')\n",
      "(115.86379009837214, 'mate')\n",
      "(116.08535532354207, 'cheddar')\n",
      "(116.09941052427149, 'involv')\n",
      "(116.11746766382949, 'yes')\n",
      "(116.15868655504353, 'elsewher')\n",
      "(116.17069542030862, 'household')\n",
      "(116.21667142685814, 'act')\n",
      "(116.26712418693133, 'crack')\n",
      "(116.28036407725588, 'bare')\n",
      "(116.28506918768568, 'powder')\n",
      "(116.44142518210525, 'chip')\n",
      "(116.46887643247621, 'oatmeal')\n",
      "(116.51457771776543, 'assum')\n",
      "(116.61311829766956, 'flavour')\n",
      "(116.63879205042713, 'munch')\n",
      "(116.68972409092811, 'litter')\n",
      "(116.76140379858506, 'japanes')\n",
      "(116.83362899112386, 'happen')\n",
      "(116.84564958255947, 'style')\n",
      "(116.86533571661857, 'regular')\n",
      "(117.00242467805258, 'defin')\n",
      "(117.059761278379, 'advertis')\n",
      "(117.12142729577786, 'paid')\n",
      "(117.14824550724248, 'star')\n",
      "(117.25588476474805, 'com')\n",
      "(117.26122891481853, 'magic')\n",
      "(117.3330835122502, 'partial')\n",
      "(117.3496156231453, 'seven')\n",
      "(117.52173168974609, 'complaint')\n",
      "(117.53786537310225, 'dream')\n",
      "(117.71769901838067, 'softer')\n",
      "(117.7665425334796, 'turn')\n",
      "(117.82726844049445, 'buyer')\n",
      "(118.02317418625039, 'older')\n",
      "(118.03081531167226, 'squeez')\n",
      "(118.28885332290548, 'habit')\n",
      "(118.47384373411445, 'aftertast')\n",
      "(118.52916672919626, 'wrapper')\n",
      "(118.65156842828719, 'multipl')\n",
      "(118.65508571445453, 'bowl')\n",
      "(118.67413555824452, 'info')\n",
      "(118.71953885622123, 'own')\n",
      "(118.91902699649376, 'bonsai')\n",
      "(119.00292112537385, 'face')\n",
      "(119.02901348704886, 'dash')\n",
      "(119.07826469345946, 'insan')\n",
      "(119.1297209528098, 'unhealthi')\n",
      "(119.19157952328298, 'flour')\n",
      "(119.33633582358011, 'greasi')\n",
      "(119.34680214958475, 'enough')\n",
      "(119.4243659979061, 'toffe')\n",
      "(119.44196480541818, 'reward')\n",
      "(119.54941417946773, 'bore')\n",
      "(119.55198569614602, 'econom')\n",
      "(119.58078115330275, 'choke')\n",
      "(119.59042937766317, 'travel')\n",
      "(119.66667850483013, 'hate')\n",
      "(119.67951523204559, 'scoop')\n",
      "(119.6949456650006, 'creamer')\n",
      "(119.76754166860952, 'spread')\n",
      "(119.76999578098915, 'first')\n",
      "(119.87076175363644, 'mind')\n",
      "(119.94759966217173, 'appreci')\n",
      "(120.06685636252654, 'cocoa')\n",
      "(120.15841061283585, 'via')\n",
      "(120.4410536588038, 'peanut')\n",
      "(120.50278228085432, 'earli')\n",
      "(120.54343429744874, 'chipotl')\n",
      "(120.54803434461641, 'upset')\n",
      "(120.66578110306385, 'giant')\n",
      "(120.67880291838327, 'real')\n",
      "(120.71823840201506, 'ball')\n",
      "(120.73179609295532, 'moist')\n",
      "(120.76038588476248, 'job')\n",
      "(120.84244379303928, 'affect')\n",
      "(120.89620407641621, 'rishi')\n",
      "(121.04985065435692, 'man')\n",
      "(121.06971095729517, 'plain')\n",
      "(121.15211616173598, 'elimin')\n",
      "(121.20173585479168, 'separ')\n",
      "(121.26033024873126, 'crust')\n",
      "(121.31191753753812, 'palat')\n",
      "(121.36344734102207, 'coupon')\n",
      "(121.48632687303311, 'sale')\n",
      "(121.62690286064537, 'petit')\n",
      "(121.63683348797957, 'heat')\n",
      "(121.67991449189289, 'effect')\n",
      "(121.82072767530563, 'opinion')\n",
      "(121.85973505498549, 'herb')\n",
      "(121.92217339264306, 'pastri')\n",
      "(121.93130924494943, 'harder')\n",
      "(122.02353087518625, 'memori')\n",
      "(122.0359346574015, 'bitter')\n",
      "(122.14444531615965, 'watermelon')\n",
      "(122.22621911217588, 'tray')\n",
      "(122.30288064820756, 'sodium')\n",
      "(122.34855984723684, 'muesli')\n",
      "(122.35668866415092, 'adult')\n",
      "(122.53059002919171, 'mixtur')\n",
      "(122.7395381398791, 'consum')\n",
      "(122.78816897353796, 'promis')\n",
      "(122.87315805696475, 'plan')\n",
      "(123.01350803802995, 'difficult')\n",
      "(123.02904020932817, 'brand')\n",
      "(123.1169945390777, 'vegan')\n",
      "(123.11794089722947, 'cooker')\n",
      "(123.27880475748658, 'milder')\n",
      "(123.5171408836218, 'half')\n",
      "(123.7670716141718, 'broken')\n",
      "(123.78368689267327, 'that')\n",
      "(123.94436159027782, 'sever')\n",
      "(124.00782280918676, 'effort')\n",
      "(124.13772441457706, 'goat')\n",
      "(124.16906497439277, 'anyth')\n",
      "(124.22506290997282, 'oili')\n",
      "(124.25335855556636, 'decid')\n",
      "(124.39614766562023, 'refriger')\n",
      "(124.4141200725723, 'drinker')\n",
      "(124.8356808262921, 'nestl')\n",
      "(124.9322759225596, 'spit')\n",
      "(125.48703585742969, 'rooibo')\n",
      "(125.52834682926182, 'request')\n",
      "(125.53013740095803, 'eventu')\n",
      "(125.64804074553304, 'swallow')\n",
      "(125.74434062657997, 'lollipop')\n",
      "(125.81041502827146, 'lick')\n",
      "(126.06261382276006, 'restaur')\n",
      "(126.11888893311067, 'kind')\n",
      "(126.12379171323842, 'tablet')\n",
      "(126.16985864433283, 'clove')\n",
      "(126.2013344148747, 'sensit')\n",
      "(126.20852101058615, 'raspberri')\n",
      "(126.3049211092812, 'celiac')\n",
      "(126.3147235857575, 'eas')\n",
      "(126.32533841871094, 'pouch')\n",
      "(126.4340939103541, 'ladi')\n",
      "(126.57708161194527, 'kellogg')\n",
      "(126.6064938433423, 'test')\n",
      "(126.6905238763785, 'farm')\n",
      "(126.73307488668893, 'instruct')\n",
      "(126.73664750728635, 'solid')\n",
      "(126.87706159169151, 'saver')\n",
      "(126.98714540140637, 'popcorn')\n",
      "(127.14269700963669, 'fortun')\n",
      "(127.30031399830595, 'warm')\n",
      "(127.4169473446249, 'ride')\n",
      "(127.48764074095887, 'seed')\n",
      "(127.56345685051326, 'golden')\n",
      "(127.68538644879695, 'skin')\n",
      "(127.69079484887973, 'jump')\n",
      "(127.92331781237777, 'awhil')\n",
      "(128.07925954128874, 'futur')\n",
      "(128.21576442501882, 'reciev')\n",
      "(128.2425371713484, 'packet')\n",
      "(128.31902529483864, 'lean')\n",
      "(128.32142990835322, 'empti')\n",
      "(128.55331379036517, 'start')\n",
      "(128.6209569842996, 'thus')\n",
      "(128.65120551301834, 'soymilk')\n",
      "(128.73366110943763, 'live')\n",
      "(128.73677027416443, 'tassimo')\n",
      "(128.8421430870862, 'punch')\n",
      "(128.85858909806817, 'can')\n",
      "(128.88437715212635, 'five')\n",
      "(129.02113712087356, 'see')\n",
      "(129.09344599668358, 'concentr')\n",
      "(129.28214419923754, 'taken')\n",
      "(129.39801275214293, 'set')\n",
      "(129.47718039769762, 'sport')\n",
      "(129.50689132184664, 'finicki')\n",
      "(129.63890839940962, 'third')\n",
      "(129.66284084166801, 'colleg')\n",
      "(129.69072265823232, 'pop')\n",
      "(129.86109141144448, 'seller')\n",
      "(129.98566344490212, 'children')\n",
      "(130.06643878637016, 'passion')\n",
      "(130.31469780614557, 'head')\n",
      "(130.343953988428, 'earl')\n",
      "(130.55649743734648, 'bigger')\n",
      "(130.59867404671266, 'updat')\n",
      "(130.66018050037997, 'cake')\n",
      "(130.69500327815877, 'decent')\n",
      "(130.71942639093155, 'sprout')\n",
      "(130.75869205109078, 'spring')\n",
      "(130.76179475094634, 'soil')\n",
      "(130.8692688742301, 'known')\n",
      "(130.97509878019332, 'tradit')\n",
      "(131.00813011405634, 'told')\n",
      "(131.13863268762657, 'frozen')\n",
      "(131.20440142742282, 'afford')\n",
      "(131.25349819393523, 'news')\n",
      "(131.32284990264037, 'nutrit')\n",
      "(131.4634606671269, 'stir')\n",
      "(131.69917083509984, 'mill')\n",
      "(131.6996042933565, 'graham')\n",
      "(131.99870256598024, 'ami')\n",
      "(132.05113118546308, 'paper')\n",
      "(132.0651012076111, 'european')\n",
      "(132.37305141403027, 'supplement')\n",
      "(132.55738239863234, 'option')\n",
      "(132.61925787989927, 'fli')\n",
      "(132.89652023253797, 'bodi')\n",
      "(133.018933761922, 'sardin')\n",
      "(133.2183238253056, 'admit')\n",
      "(133.38409808533487, 'anim')\n",
      "(133.40761837623867, 'odor')\n",
      "(133.47215157458774, 'dollar')\n",
      "(133.58438546636717, 'lose')\n",
      "(133.59532404636693, 'sour')\n",
      "(133.63174687789657, 'therefor')\n",
      "(133.79005074271902, 'power')\n",
      "(133.83160111977722, 'grass')\n",
      "(134.02353821827137, 'remind')\n",
      "(134.27456276183028, 'indic')\n",
      "(134.31296990500346, 'messi')\n",
      "(134.38518661238558, 'molass')\n",
      "(134.43972163747293, 'grocer')\n",
      "(134.5365311456519, 'huge')\n",
      "(134.82826162317733, 'bet')\n",
      "(134.99269012280757, 'wrap')\n",
      "(135.23566436346493, 'boost')\n",
      "(135.285192946128, 'tip')\n",
      "(135.33040471106563, 'diagnos')\n",
      "(135.54609769736192, 'loss')\n",
      "(135.71904391235574, 'gallon')\n",
      "(135.8676173814877, 'tri')\n",
      "(135.94753765675588, 'state')\n",
      "(135.97628958078377, 'develop')\n",
      "(136.02962482263814, 'lucki')\n",
      "(136.05429473149255, 'shock')\n",
      "(136.20458157634636, 'damag')\n",
      "(136.3424170070543, 'sleep')\n",
      "(136.61084989938047, 'yellow')\n",
      "(136.71889636626173, 'mocha')\n",
      "(136.99498859603858, 'pack')\n",
      "(137.02723701403806, 'kiwi')\n",
      "(137.0394060493911, 'licoric')\n",
      "(137.17029469113885, 'needless')\n",
      "(137.49960309627315, 'pepper')\n",
      "(137.56384044862025, 'smokey')\n",
      "(137.78532365315849, 'microwav')\n",
      "(137.99468040553438, 'kit')\n",
      "(138.29527166554473, 'afterward')\n",
      "(138.35948942776935, 'mani')\n",
      "(138.5060626679804, 'darjeel')\n",
      "(138.65799194994614, 'cute')\n",
      "(138.86817980205575, 'banana')\n",
      "(139.14236134658236, 'vitamin')\n",
      "(139.22306293526972, 'indulg')\n",
      "(139.3869122229886, 'pump')\n",
      "(139.42833878461855, 'water')\n",
      "(139.48060448186055, 'freez')\n",
      "(139.51038077228154, 'unsweeten')\n",
      "(139.51965974226607, 'east')\n",
      "(139.84285450534273, 'strength')\n",
      "(139.8783427496164, 'person')\n",
      "(140.47369776132442, 'medium')\n",
      "(140.69913338689705, 'tastier')\n",
      "(140.80476861679904, 'west')\n",
      "(141.05016180615877, 'stand')\n",
      "(141.15697332398992, 'among')\n",
      "(141.24853508944338, 'heavi')\n",
      "(141.41971499390883, 'trick')\n",
      "(141.43386623096987, 'unit')\n",
      "(141.4468904865501, 'timothi')\n",
      "(141.81159189377283, 'mild')\n",
      "(142.0447218868776, 'thick')\n",
      "(142.66705065381416, 'diabet')\n",
      "(142.9097300339506, 'walk')\n",
      "(142.94807166873255, 'reach')\n",
      "(142.9878211929555, 'bake')\n",
      "(143.20402634776235, 'irish')\n",
      "(143.59472321413634, 'black')\n",
      "(143.63642451989125, 'consumpt')\n",
      "(143.8383858637547, 'probabl')\n",
      "(144.00575796755535, 'subscript')\n",
      "(144.0157485126698, 'pecan')\n",
      "(144.2406554656717, 'wash')\n",
      "(144.2458457397451, 'temperatur')\n",
      "(144.42081550248312, 'matcha')\n",
      "(144.4523490553727, 'mug')\n",
      "(144.79716052415182, 'content')\n",
      "(144.91071831689808, 'wasabi')\n",
      "(144.91839750207876, 'throat')\n",
      "(144.99742350650556, 'pound')\n",
      "(145.0611628006384, 'pomegran')\n",
      "(145.34783484518124, 'classic')\n",
      "(145.38099476054254, 'net')\n",
      "(145.92723730456316, 'pamela')\n",
      "(146.21690868596414, 'marshmallow')\n",
      "(146.3882408144761, 'manag')\n",
      "(146.40895891981833, 'short')\n",
      "(146.76035059503914, 'feast')\n",
      "(146.97959561280547, 'spot')\n",
      "(147.26963537366564, 'tight')\n",
      "(147.4206084829758, 'child')\n",
      "(147.79627043574382, 'simmer')\n",
      "(147.9374264261154, 'age')\n",
      "(148.0218079234718, 'arriv')\n",
      "(148.08262990221607, 'glycem')\n",
      "(148.13318607938342, 'advantag')\n",
      "(148.48857931992526, 'automat')\n",
      "(148.7912794527224, 'hint')\n",
      "(148.87908367057798, 'last')\n",
      "(149.00329000148608, 'izz')\n",
      "(149.02277126164478, 'shell')\n",
      "(149.60870488239587, 'mine')\n",
      "(150.13820083199712, 'syrup')\n",
      "(150.42508558659966, 'awar')\n",
      "(150.5241914776104, 'dont')\n",
      "(150.80687866571782, 'corn')\n",
      "(150.92446659396126, 'come')\n",
      "(151.33546810410655, 'rise')\n",
      "(151.46708666960618, 'kona')\n",
      "(151.93774095336047, 'keurig')\n",
      "(152.22784870649443, 'convinc')\n",
      "(152.231383902272, 'mention')\n",
      "(152.2387281992781, 'pet')\n",
      "(152.7040137964397, 'somewhat')\n",
      "(152.76402679953245, 'dent')\n",
      "(152.9132889197534, 'everywher')\n",
      "(152.9594390434108, 'glass')\n",
      "(153.04650582325775, 'tear')\n",
      "(153.06268800289484, 'human')\n",
      "(153.80108699502563, 'peppermint')\n",
      "(153.98633420588115, 'dozen')\n",
      "(154.12251995877335, 'dissolv')\n",
      "(154.49747726938156, 'bun')\n",
      "(155.12411932606327, 'asian')\n",
      "(155.29741100725067, 'standard')\n",
      "(155.781703218945, 'dose')\n",
      "(156.40442475261884, 'hair')\n",
      "(156.75468566537455, 'melt')\n",
      "(156.85371011584905, 'blood')\n",
      "(157.1541574786879, 'malt')\n",
      "(157.23436863233917, 'pan')\n",
      "(157.5875180202686, 'front')\n",
      "(157.72383196893293, 'emerald')\n",
      "(157.75928490525484, 'appropri')\n",
      "(158.19341991952965, 'rare')\n",
      "(158.44610352421847, 'simpli')\n",
      "(159.43816236142757, 'becam')\n",
      "(159.70456772906664, 'countri')\n",
      "(159.96903004368133, 'today')\n",
      "(160.14838012978464, 'condiment')\n",
      "(160.33031738962438, 'thirst')\n",
      "(160.38525863138585, 'vanilla')\n",
      "(161.27494572441566, 'calori')\n",
      "(161.4488958473109, 'thing')\n",
      "(161.86105212378095, 'rang')\n",
      "(161.92773720869752, 'present')\n",
      "(162.20934247820097, 'jar')\n",
      "(162.84158427794463, 'movi')\n",
      "(163.13577318857983, 'weather')\n",
      "(163.62617679959243, 'mile')\n",
      "(163.81526775772494, 'mail')\n",
      "(164.32810944166147, 'lamb')\n",
      "(164.48992993220514, 'problem')\n",
      "(164.49960326269303, 'sampl')\n",
      "(165.2778467108571, 'slowli')\n",
      "(165.59521654319377, 'big')\n",
      "(166.10478898171394, 'question')\n",
      "(166.54648822560114, 'rum')\n",
      "(166.81149838932848, 'small')\n",
      "(167.1163635909922, 'scent')\n",
      "(167.2022434162824, 'spray')\n",
      "(167.40462242524367, 'minor')\n",
      "(167.52951745524174, 'number')\n",
      "(167.79152945242336, 'teabag')\n",
      "(168.2767467394537, 'goji')\n",
      "(168.89707518934523, 'discontinu')\n",
      "(170.1187873131925, 'locat')\n",
      "(170.72443631277588, 'oliv')\n",
      "(170.82356007130412, 'chanc')\n",
      "(170.82720468479528, 'appear')\n",
      "(170.85623637888307, 'curri')\n",
      "(171.36339360554186, 'tub')\n",
      "(171.63847015538641, 'cal')\n",
      "(171.88830440642244, 'system')\n",
      "(172.3637813245396, 'ear')\n",
      "(172.6939566393922, 'salt')\n",
      "(173.76139718513767, 'move')\n",
      "(175.26061640960728, 'broth')\n",
      "(175.40693355468372, 'believ')\n",
      "(176.30828850555085, 'chamomil')\n",
      "(176.56701375914184, 'featur')\n",
      "(176.84315366262743, 'ham')\n",
      "(176.88144275396928, 'granola')\n",
      "(177.06924750025073, 'beef')\n",
      "(177.13149661587778, 'spill')\n",
      "(177.26107993519398, 'kitchen')\n",
      "(177.89589349807113, 'formula')\n",
      "(178.50723401174707, 'introduc')\n",
      "(178.65013392171622, 'togeth')\n",
      "(179.60858180669732, 'cannot')\n",
      "(180.19433960637105, 'midnight')\n",
      "(181.5057789406116, 'potassium')\n",
      "(181.80281460279798, 'grinder')\n",
      "(182.52961332998743, 'pretti')\n",
      "(182.97084728484154, 'florida')\n",
      "(183.74348311539097, 'hey')\n",
      "(185.10859695936998, 'itali')\n",
      "(185.52506572059707, 'thru')\n",
      "(185.59141948397075, 'lentil')\n",
      "(187.84973184174186, 'bigelow')\n",
      "(187.98662344246745, 'haribo')\n",
      "(188.4749714025694, 'degre')\n",
      "(188.66625911251765, 'whether')\n",
      "(188.73455436057722, 'provid')\n",
      "(189.34080098627777, 'batter')\n",
      "(189.57601807293247, 'dispens')\n",
      "(191.1407970286856, 'leaf')\n",
      "(191.3755621516772, 'offer')\n",
      "(191.65898681425608, 'second')\n",
      "(194.38700768001127, 'hold')\n",
      "(194.5933913927842, 'went')\n",
      "(194.6977044445732, 'pressur')\n",
      "(195.7031845282171, 'harvest')\n",
      "(196.0488927093782, 'antioxid')\n",
      "(196.05304264159176, 'imagin')\n",
      "(196.17620015487037, 'kosher')\n",
      "(196.65335007034224, 'stew')\n",
      "(196.6654546163812, 'agre')\n",
      "(197.19715925020677, 'fashion')\n",
      "(198.34725679590838, 'infus')\n",
      "(198.64206886869204, 'virgin')\n",
      "(198.83198596173673, 'flower')\n",
      "(200.61934710270063, 'drive')\n",
      "(201.08195119886608, 'spaghetti')\n",
      "(202.01253747307533, 'fake')\n",
      "(204.48546612203882, 'actual')\n",
      "(204.52807063017278, 'soggi')\n",
      "(206.22583211450078, 'outsid')\n",
      "(207.69813040621364, 'soy')\n",
      "(208.6676360386817, 'possibl')\n",
      "(209.40134826600337, 'sea')\n",
      "(209.58580300066822, 'toddler')\n",
      "(210.39738255056463, 'peach')\n",
      "(212.62346368175704, 'trader')\n",
      "(213.28515556317646, 'java')\n",
      "(214.7097728994813, 'quart')\n",
      "(215.302439831327, 'kinda')\n",
      "(218.0686163673959, 'buck')\n",
      "(220.1637198438897, 'crumb')\n",
      "(223.04869302228076, 'teapot')\n",
      "(225.09925396668663, 'sampler')\n",
      "(229.55744766963159, 'complex')\n",
      "(230.9956915749511, 'appli')\n",
      "(231.14351982619254, 'ground')\n",
      "(233.1865402931396, 'costco')\n",
      "(234.84285130682574, 'floor')\n",
      "(236.04775460024482, 'pig')\n",
      "(237.00047118401199, 'cracker')\n",
      "(237.66036893723896, 'mini')\n",
      "(238.59059231266602, 'roll')\n",
      "(238.81114477693703, 'special')\n",
      "(245.43481606966284, 'garden')\n",
      "(251.79102635299265, 'match')\n",
      "(252.2889528965668, 'rope')\n",
      "(254.80914884425295, 'base')\n",
      "(256.71970434975464, 'prime')\n",
      "(257.3196328907699, 'goodi')\n",
      "(257.7116394888981, 'new')\n",
      "(261.72992823489835, 'activ')\n",
      "(261.9443870276817, 'occas')\n",
      "(262.2821814324093, 'site')\n",
      "(267.20403884303767, 'nurs')\n",
      "(267.95683825197057, 'sausag')\n",
      "(271.94773605222736, 'impress')\n",
      "(274.08984070737426, 'tangerin')\n",
      "(275.0548913792798, 'grain')\n",
      "(276.8379550898876, 'steam')\n",
      "(281.4369241145066, 'dice')\n",
      "(282.4836538807932, 'nectar')\n",
      "(284.3262591647787, 'sit')\n",
      "(286.64559819983043, 'joy')\n",
      "(286.82080228921836, 'diseas')\n",
      "(288.3894574431629, 'safe')\n",
      "(290.84236870390475, 'address')\n",
      "(292.60621452030034, 'biscuit')\n",
      "(295.24927074177594, 'scare')\n",
      "(299.501265723024, 'parent')\n",
      "(302.36502264401565, 'trail')\n",
      "(303.1987167116888, 'reduc')\n",
      "(303.6298462915988, 'raw')\n",
      "(303.8709095614808, 'brown')\n",
      "(310.85708800779855, 'support')\n",
      "(311.55092421587955, 'generous')\n",
      "(313.4591683086227, 'hamburg')\n",
      "(313.8187805676599, 'entir')\n",
      "(314.59891497236026, 'lavazza')\n",
      "(314.8161331966176, 'film')\n",
      "(316.93875312228465, 'sure')\n",
      "(321.18745814294545, 'valley')\n",
      "(322.7528041301317, 'europ')\n",
      "(324.934272966729, 'bay')\n",
      "(327.24428951883164, 'vine')\n",
      "(329.4689710497424, 'imposs')\n",
      "(338.70548869379024, 'pour')\n",
      "(340.1484578071625, 'larg')\n",
      "(341.63325658369075, 'slim')\n",
      "(342.39419330304605, 'stain')\n",
      "(342.875953500604, 'dust')\n",
      "(345.82157692000425, 'anni')\n",
      "(349.99506067568234, 'prior')\n",
      "(358.93508327054946, 'beyond')\n",
      "(366.0662136947906, 'whatev')\n",
      "(367.9727990337022, 'dental')\n",
      "(373.50817847524013, 'level')\n",
      "(375.1379992432903, 'various')\n",
      "(379.3880041743259, 'flavor')\n",
      "(399.95005960562173, 'yeast')\n",
      "(402.5077015198703, 'recal')\n",
      "(418.9133859838708, 'anyway')\n",
      "(419.56500332191445, 'lid')\n",
      "(420.927154629274, 'berri')\n",
      "(421.30592552786794, 'pork')\n",
      "(429.71384260121397, 'dietari')\n",
      "(452.1834229023323, 'prepar')\n",
      "(457.20359028977686, 'joe')\n",
      "(461.1571562697839, 'carrot')\n",
      "(461.27019244076547, 'sesam')\n",
      "(467.4927361037919, 'steak')\n",
      "(472.16512637462705, 'hurt')\n",
      "(483.6952777468876, 'life')\n",
      "(488.71124768102084, 'pie')\n",
      "(494.40619484182, 'kashi')\n",
      "(511.1660644114944, 'benefit')\n",
      "(512.0613122287161, 'normal')\n",
      "(512.6434828078333, 'anymor')\n",
      "(521.8667787305056, 'due')\n",
      "(528.6356387488896, 'note')\n",
      "(541.9455020140206, 'calcium')\n",
      "(542.8038704422561, 'latt')\n",
      "(618.0844937190432, 'tend')\n",
      "(627.14145205922, 'mrs')\n",
      "(641.7671930411007, 'spent')\n",
      "(658.9896274368515, 'experienc')\n",
      "(660.3635977441863, 'recycl')\n",
      "(739.4579396383529, 'made')\n",
      "(747.8665024806805, 'gummi')\n",
      "(783.0053056637651, 'els')\n",
      "(899.311667113899, 'doubl')\n",
      "(1070.4952859780637, 'cheapest')\n",
      "(1134.6111094253981, 'regret')\n",
      "(1225.111399681362, 'pup')\n",
      "(1308.4219598348948, 'wait')\n",
      "(1337.1020188617938, 'produc')\n",
      "(1455.4186392026916, 'peopl')\n",
      "(1758.5967585891487, 'seattl')\n",
      "(2159.690928936983, 'seem')\n",
      "(2161.608720192289, 'pick')\n",
      "(2185.2262311033405, 'fortifi')\n",
      "(2259.4814390068905, 'shake')\n",
      "(2442.3246906495337, 'spend')\n",
      "(2588.3039636861336, 'gold')\n",
      "(2603.708209636892, 'sister')\n",
      "(2612.0182873323633, 'moder')\n",
      "(2993.96627028114, 'mayo')\n",
      "(3688.6547651620367, 'intoler')\n",
      "(23272.73473101607, 'finger')\n"
     ]
    }
   ],
   "source": [
    "for i in changed:\n",
    "    print(i)"
   ]
  },
  {
   "cell_type": "code",
   "execution_count": 110,
   "metadata": {},
   "outputs": [],
   "source": [
    "def show_most_changed_features(vectorizer, n=20):\n",
    "    feature_names = vectorizer.get_feature_names()\n",
    "    coefs_with_fns = sorted(zip(change[0], feature_names))\n",
    "    top = coefs_with_fns[:-(n + 1):-1]\n",
    "    for (coef_1, fn_1)in top:\n",
    "        print (\"\\t%.4f\\t%-15s\" % (coef_1, fn_1))"
   ]
  },
  {
   "cell_type": "code",
   "execution_count": 111,
   "metadata": {
    "scrolled": true
   },
   "outputs": [
    {
     "name": "stdout",
     "output_type": "stream",
     "text": [
      "\t23272.7347\tfinger         \n",
      "\t3688.6548\tintoler        \n",
      "\t2993.9663\tmayo           \n",
      "\t2612.0183\tmoder          \n",
      "\t2603.7082\tsister         \n",
      "\t2588.3040\tgold           \n",
      "\t2442.3247\tspend          \n",
      "\t2259.4814\tshake          \n",
      "\t2185.2262\tfortifi        \n",
      "\t2161.6087\tpick           \n",
      "\t2159.6909\tseem           \n",
      "\t1758.5968\tseattl         \n",
      "\t1455.4186\tpeopl          \n",
      "\t1337.1020\tproduc         \n",
      "\t1308.4220\twait           \n",
      "\t1225.1114\tpup            \n",
      "\t1134.6111\tregret         \n",
      "\t1070.4953\tcheapest       \n",
      "\t899.3117\tdoubl          \n",
      "\t783.0053\tels            \n"
     ]
    }
   ],
   "source": [
    "show_most_changed_features(countvect)"
   ]
  },
  {
   "cell_type": "markdown",
   "metadata": {},
   "source": [
    "### [5.1.3] Feature Importance on BOW,<font color='red'> SET 1</font>"
   ]
  },
  {
   "cell_type": "markdown",
   "metadata": {},
   "source": [
    "#### [5.1.3.1] Top 10 important features of positive class from<font color='red'> SET 1</font>"
   ]
  },
  {
   "cell_type": "markdown",
   "metadata": {},
   "source": [
    "### feature importance for positive reviews"
   ]
  },
  {
   "cell_type": "code",
   "execution_count": 238,
   "metadata": {},
   "outputs": [],
   "source": [
    "import sqlite3"
   ]
  },
  {
   "cell_type": "code",
   "execution_count": 239,
   "metadata": {},
   "outputs": [],
   "source": [
    "con = sqlite3.connect('C:/Users/karth/Desktop/AML/All Assignments/Assignment K-nn on Amazon Fine Food Reviews/final.sqlite')"
   ]
  },
  {
   "cell_type": "code",
   "execution_count": 240,
   "metadata": {},
   "outputs": [],
   "source": [
    "df = pd.read_sql_query('''\n",
    "SELECT * FROM Reviews\n",
    "WHERE Score !=3\n",
    "''', con)"
   ]
  },
  {
   "cell_type": "code",
   "execution_count": 241,
   "metadata": {},
   "outputs": [],
   "source": [
    "df.Score.replace(to_replace=[1,2], value=0, inplace=True)"
   ]
  },
  {
   "cell_type": "code",
   "execution_count": 242,
   "metadata": {},
   "outputs": [],
   "source": [
    "df.Score.replace(to_replace=[5,4], value=1, inplace=True)"
   ]
  },
  {
   "cell_type": "code",
   "execution_count": 243,
   "metadata": {},
   "outputs": [
    {
     "data": {
      "text/plain": [
       "1    307063\n",
       "0     57110\n",
       "Name: Score, dtype: int64"
      ]
     },
     "execution_count": 243,
     "metadata": {},
     "output_type": "execute_result"
    }
   ],
   "source": [
    "df.Score.value_counts()"
   ]
  },
  {
   "cell_type": "code",
   "execution_count": 244,
   "metadata": {},
   "outputs": [],
   "source": [
    "positivereviews = df[df['Score'] == 1]"
   ]
  },
  {
   "cell_type": "code",
   "execution_count": 245,
   "metadata": {},
   "outputs": [],
   "source": [
    "negativereviews = df[df['Score'] == 0]"
   ]
  },
  {
   "cell_type": "code",
   "execution_count": 246,
   "metadata": {},
   "outputs": [
    {
     "data": {
      "text/plain": [
       "1    307063\n",
       "Name: Score, dtype: int64"
      ]
     },
     "execution_count": 246,
     "metadata": {},
     "output_type": "execute_result"
    }
   ],
   "source": [
    "positivereviews.Score.value_counts()"
   ]
  },
  {
   "cell_type": "code",
   "execution_count": 247,
   "metadata": {},
   "outputs": [
    {
     "data": {
      "text/plain": [
       "0    57110\n",
       "Name: Score, dtype: int64"
      ]
     },
     "execution_count": 247,
     "metadata": {},
     "output_type": "execute_result"
    }
   ],
   "source": [
    "negativereviews.Score.value_counts()"
   ]
  },
  {
   "cell_type": "code",
   "execution_count": 248,
   "metadata": {},
   "outputs": [],
   "source": [
    "postext = positivereviews.CleanedText"
   ]
  },
  {
   "cell_type": "code",
   "execution_count": 249,
   "metadata": {},
   "outputs": [],
   "source": [
    "negtext = negativereviews.CleanedText"
   ]
  },
  {
   "cell_type": "code",
   "execution_count": 250,
   "metadata": {},
   "outputs": [],
   "source": [
    "countvect = CountVectorizer(max_features=2000, min_df=3)"
   ]
  },
  {
   "cell_type": "code",
   "execution_count": 251,
   "metadata": {},
   "outputs": [],
   "source": [
    "cv = countvect.fit_transform(postext)"
   ]
  },
  {
   "cell_type": "code",
   "execution_count": 254,
   "metadata": {},
   "outputs": [],
   "source": [
    "def show_most_informative_features(vectorizer, clf, n=20):\n",
    "    feature_names = vectorizer.get_feature_names()\n",
    "    coefs_with_fns = sorted(zip(clf.coef_[0], feature_names))\n",
    "    top = zip(coefs_with_fns[:n], coefs_with_fns[:-(n + 1):-1])\n",
    "    for (coef_1, fn_1), (coef_2, fn_2) in top:\n",
    "        print (\"\\t%.4f\\t%-15s\\t\\t%.4f\\t%-15s\" % (coef_1, fn_1, coef_2, fn_2))"
   ]
  },
  {
   "cell_type": "markdown",
   "metadata": {},
   "source": [
    "#### LEFT COLUMN IS LESS IMPORTANT FEATURES AND THE RIGHT COLUMN IS THE MOST IMPORTANT FEATURES"
   ]
  },
  {
   "cell_type": "code",
   "execution_count": 255,
   "metadata": {},
   "outputs": [
    {
     "name": "stdout",
     "output_type": "stream",
     "text": [
      "\t-0.3091\tdirect         \t\t0.7110\tgreatest       \n",
      "\t-0.2702\twould          \t\t0.5239\tbetter         \n",
      "\t-0.2200\ttast           \t\t0.5097\tlonger         \n",
      "\t-0.1861\tterrier        \t\t0.4680\tdelici         \n",
      "\t-0.1804\tblood          \t\t0.4146\tperson         \n",
      "\t-0.1750\trich           \t\t0.3850\texact          \n",
      "\t-0.1656\tawar           \t\t0.3483\tgone           \n",
      "\t-0.1608\tmixtur         \t\t0.3334\tnever          \n",
      "\t-0.1577\tpromot         \t\t0.2777\twonder         \n",
      "\t-0.1555\tunless         \t\t0.2631\tfatti          \n",
      "\t-0.1551\thomemad        \t\t0.2580\tamaz           \n",
      "\t-0.1451\tthought        \t\t0.2154\ttax            \n",
      "\t-0.1406\tbag            \t\t0.2117\tsmoothi        \n",
      "\t-0.1398\tmark           \t\t0.2072\tad             \n",
      "\t-0.1381\tyeah           \t\t0.2010\talway          \n",
      "\t-0.1379\tstain          \t\t0.2000\tawhil          \n",
      "\t-0.1360\thome           \t\t0.1968\thappi          \n",
      "\t-0.1340\tweb            \t\t0.1955\tearlier        \n",
      "\t-0.1316\tthai           \t\t0.1845\tzero           \n",
      "\t-0.1302\tthrill         \t\t0.1830\tyummi          \n"
     ]
    }
   ],
   "source": [
    "show_most_informative_features(countvect, logreg)"
   ]
  },
  {
   "cell_type": "markdown",
   "metadata": {},
   "source": [
    "#### [5.1.3.2] Top 10 important features of negative class from<font color='red'> SET 1</font>"
   ]
  },
  {
   "cell_type": "markdown",
   "metadata": {},
   "source": [
    "### For negative words"
   ]
  },
  {
   "cell_type": "code",
   "execution_count": 257,
   "metadata": {},
   "outputs": [],
   "source": [
    "countvect = CountVectorizer(max_features=2000, min_df=3)"
   ]
  },
  {
   "cell_type": "code",
   "execution_count": 258,
   "metadata": {},
   "outputs": [],
   "source": [
    "cv = countvect.fit_transform(negtext)"
   ]
  },
  {
   "cell_type": "code",
   "execution_count": 260,
   "metadata": {},
   "outputs": [],
   "source": [
    "def show_most_informative_features(vectorizer, clf, n=20):\n",
    "    feature_names = vectorizer.get_feature_names()\n",
    "    coefs_with_fns = sorted(zip(clf.coef_[0], feature_names))\n",
    "    top = zip(coefs_with_fns[:n], coefs_with_fns[:-(n + 1):-1])\n",
    "    for (coef_1, fn_1), (coef_2, fn_2) in top:\n",
    "        print (\"\\t%.4f\\t%-15s\\t\\t%.4f\\t%-15s\" % (coef_1, fn_1, coef_2, fn_2))"
   ]
  },
  {
   "cell_type": "markdown",
   "metadata": {},
   "source": [
    "#### LEFT COLUMN IS LESS IMPORTANT FEATURES AND THE RIGHT COLUMN IS THE MOST IMPORTANT FEATURES"
   ]
  },
  {
   "cell_type": "code",
   "execution_count": 261,
   "metadata": {},
   "outputs": [
    {
     "name": "stdout",
     "output_type": "stream",
     "text": [
      "\t-0.3091\tdiffer         \t\t0.7110\tgot            \n",
      "\t-0.2702\twow            \t\t0.5239\tbelli          \n",
      "\t-0.2200\ttalk           \t\t0.5097\tlisten         \n",
      "\t-0.1861\ttender         \t\t0.4680\tdefinit        \n",
      "\t-0.1804\tbirthday       \t\t0.4146\tpea            \n",
      "\t-0.1750\trep            \t\t0.3850\terror          \n",
      "\t-0.1656\tattent         \t\t0.3483\tgive           \n",
      "\t-0.1608\tmine           \t\t0.3334\tmustard        \n",
      "\t-0.1577\tpress          \t\t0.2777\tword           \n",
      "\t-0.1555\tuniqu          \t\t0.2631\tfactori        \n",
      "\t-0.1551\thole           \t\t0.2580\talthough       \n",
      "\t-0.1451\tthree          \t\t0.2154\ttarget         \n",
      "\t-0.1406\tawar           \t\t0.2117\tskip           \n",
      "\t-0.1398\tmake           \t\t0.2072\tactual         \n",
      "\t-0.1381\tyard           \t\t0.2010\taltern         \n",
      "\t-0.1379\tsprinkl        \t\t0.2000\tauthent        \n",
      "\t-0.1360\thold           \t\t0.1968\tguest          \n",
      "\t-0.1340\twatermelon     \t\t0.1955\tdream          \n",
      "\t-0.1316\tthai           \t\t0.1845\tzero           \n",
      "\t-0.1302\tthrill         \t\t0.1830\tyummi          \n"
     ]
    }
   ],
   "source": [
    "show_most_informative_features(countvect, logreg)"
   ]
  },
  {
   "cell_type": "markdown",
   "metadata": {},
   "source": [
    "## [5.2] Logistic Regression on TFIDF,<font color='red'> SET 2</font>"
   ]
  },
  {
   "cell_type": "markdown",
   "metadata": {},
   "source": [
    "### [5.2.1] Applying Logistic Regression with L1 regularization on TFIDF,<font color='red'> SET 2</font>"
   ]
  },
  {
   "cell_type": "code",
   "execution_count": 166,
   "metadata": {},
   "outputs": [],
   "source": [
    "logreg=LogisticRegression(penalty='l1',random_state=42,n_jobs=2)"
   ]
  },
  {
   "cell_type": "code",
   "execution_count": 167,
   "metadata": {},
   "outputs": [],
   "source": [
    "model = GridSearchCV(estimator=logreg, param_grid=gridvalues, scoring='f1',cv=10)"
   ]
  },
  {
   "cell_type": "code",
   "execution_count": 168,
   "metadata": {
    "scrolled": true
   },
   "outputs": [
    {
     "data": {
      "text/plain": [
       "GridSearchCV(cv=10, error_score='raise-deprecating',\n",
       "       estimator=LogisticRegression(C=1.0, class_weight=None, dual=False, fit_intercept=True,\n",
       "          intercept_scaling=1, max_iter=100, multi_class='warn', n_jobs=2,\n",
       "          penalty='l1', random_state=42, solver='warn', tol=0.0001,\n",
       "          verbose=0, warm_start=False),\n",
       "       fit_params=None, iid='warn', n_jobs=None,\n",
       "       param_grid={'C': [0.001, 0.01, 0.1, 1, 10, 100, 1000]},\n",
       "       pre_dispatch='2*n_jobs', refit=True, return_train_score='warn',\n",
       "       scoring='f1', verbose=0)"
      ]
     },
     "execution_count": 168,
     "metadata": {},
     "output_type": "execute_result"
    }
   ],
   "source": [
    "model.fit(train_tfidf, y_train)"
   ]
  },
  {
   "cell_type": "code",
   "execution_count": 169,
   "metadata": {},
   "outputs": [
    {
     "data": {
      "text/plain": [
       "LogisticRegression(C=0.001, class_weight=None, dual=False, fit_intercept=True,\n",
       "          intercept_scaling=1, max_iter=100, multi_class='warn', n_jobs=2,\n",
       "          penalty='l1', random_state=42, solver='warn', tol=0.0001,\n",
       "          verbose=0, warm_start=False)"
      ]
     },
     "execution_count": 169,
     "metadata": {},
     "output_type": "execute_result"
    }
   ],
   "source": [
    "model.best_estimator_"
   ]
  },
  {
   "cell_type": "code",
   "execution_count": 171,
   "metadata": {},
   "outputs": [],
   "source": [
    "clf = LogisticRegression(C=0.001,penalty='l1', random_state=42, n_jobs=2)"
   ]
  },
  {
   "cell_type": "code",
   "execution_count": 172,
   "metadata": {},
   "outputs": [
    {
     "data": {
      "text/plain": [
       "LogisticRegression(C=0.001, class_weight=None, dual=False, fit_intercept=True,\n",
       "          intercept_scaling=1, max_iter=100, multi_class='warn', n_jobs=2,\n",
       "          penalty='l1', random_state=42, solver='warn', tol=0.0001,\n",
       "          verbose=0, warm_start=False)"
      ]
     },
     "execution_count": 172,
     "metadata": {},
     "output_type": "execute_result"
    }
   ],
   "source": [
    "clf.fit(train_tfidf, y_train)"
   ]
  },
  {
   "cell_type": "code",
   "execution_count": 173,
   "metadata": {},
   "outputs": [],
   "source": [
    "testpred = clf.predict(test_tfidf)"
   ]
  },
  {
   "cell_type": "code",
   "execution_count": 174,
   "metadata": {},
   "outputs": [
    {
     "name": "stdout",
     "output_type": "stream",
     "text": [
      "92.83609280394364\n"
     ]
    }
   ],
   "source": [
    "print(f1_score(y_test, testpred, average='binary')*100)"
   ]
  },
  {
   "cell_type": "code",
   "execution_count": 175,
   "metadata": {
    "scrolled": false
   },
   "outputs": [
    {
     "name": "stdout",
     "output_type": "stream",
     "text": [
      "the f1 score on test data is 92\n"
     ]
    }
   ],
   "source": [
    "print('the f1 score on test data is', (int(model.score(test_tfidf, y_test)*100)))"
   ]
  },
  {
   "cell_type": "code",
   "execution_count": 176,
   "metadata": {},
   "outputs": [],
   "source": [
    "cmat = confusion_matrix(y_test, testpred)"
   ]
  },
  {
   "cell_type": "code",
   "execution_count": 177,
   "metadata": {
    "scrolled": true
   },
   "outputs": [
    {
     "data": {
      "text/plain": [
       "<matplotlib.axes._subplots.AxesSubplot at 0x18a536abe80>"
      ]
     },
     "execution_count": 177,
     "metadata": {},
     "output_type": "execute_result"
    },
    {
     "data": {
      "image/png": "[encoded data removed]",
      "text/plain": [
       "<Figure size 432x288 with 2 Axes>"
      ]
     },
     "metadata": {},
     "output_type": "display_data"
    }
   ],
   "source": [
    "sns.heatmap(data=cmat,annot=True, fmt=\"d\" ,cmap=\"YlGnBu\" )"
   ]
  },
  {
   "cell_type": "code",
   "execution_count": 178,
   "metadata": {},
   "outputs": [
    {
     "data": {
      "text/plain": [
       "Counter({1: 17326, 0: 2674})"
      ]
     },
     "execution_count": 178,
     "metadata": {},
     "output_type": "execute_result"
    }
   ],
   "source": [
    "Counter(y_test)"
   ]
  },
  {
   "cell_type": "code",
   "execution_count": 179,
   "metadata": {},
   "outputs": [
    {
     "name": "stdout",
     "output_type": "stream",
     "text": [
      "precision score for test set is  86.63\n"
     ]
    }
   ],
   "source": [
    "print('precision score for test set is ',(precision_score(y_test, testpred)*100))"
   ]
  },
  {
   "cell_type": "code",
   "execution_count": 180,
   "metadata": {},
   "outputs": [
    {
     "name": "stdout",
     "output_type": "stream",
     "text": [
      "recall score for test set is  100.0\n"
     ]
    }
   ],
   "source": [
    "print('recall score for test set is ',(recall_score(y_test, testpred)*100))"
   ]
  },
  {
   "cell_type": "code",
   "execution_count": 181,
   "metadata": {},
   "outputs": [
    {
     "name": "stdout",
     "output_type": "stream",
     "text": [
      "fbeta score for test set is  86.63\n"
     ]
    }
   ],
   "source": [
    "print('fbeta score for test set is ',(fbeta_score(y_test, testpred, beta=0.5,average='micro')*100))"
   ]
  },
  {
   "cell_type": "markdown",
   "metadata": {},
   "source": [
    "### Again applying SMOTE for l1 regularizer"
   ]
  },
  {
   "cell_type": "code",
   "execution_count": 182,
   "metadata": {},
   "outputs": [],
   "source": [
    "logreg=LogisticRegression(penalty='l1',random_state=42,n_jobs=2)"
   ]
  },
  {
   "cell_type": "code",
   "execution_count": 187,
   "metadata": {},
   "outputs": [],
   "source": [
    "gridvalues = {'C': [0.001,0.01,0.1,1,10,100,1000, 1200, 1500]}"
   ]
  },
  {
   "cell_type": "code",
   "execution_count": 188,
   "metadata": {},
   "outputs": [],
   "source": [
    "model = GridSearchCV(estimator=logreg, param_grid=gridvalues, scoring='f1',cv=10)"
   ]
  },
  {
   "cell_type": "code",
   "execution_count": 189,
   "metadata": {
    "scrolled": true
   },
   "outputs": [
    {
     "data": {
      "text/plain": [
       "GridSearchCV(cv=10, error_score='raise-deprecating',\n",
       "       estimator=LogisticRegression(C=1.0, class_weight=None, dual=False, fit_intercept=True,\n",
       "          intercept_scaling=1, max_iter=100, multi_class='warn', n_jobs=2,\n",
       "          penalty='l1', random_state=42, solver='warn', tol=0.0001,\n",
       "          verbose=0, warm_start=False),\n",
       "       fit_params=None, iid='warn', n_jobs=None,\n",
       "       param_grid={'C': [0.001, 0.01, 0.1, 1, 10, 100, 1000, 1200, 1500]},\n",
       "       pre_dispatch='2*n_jobs', refit=True, return_train_score='warn',\n",
       "       scoring='f1', verbose=0)"
      ]
     },
     "execution_count": 189,
     "metadata": {},
     "output_type": "execute_result"
    }
   ],
   "source": [
    "model.fit(resampled_x, resampled_y)"
   ]
  },
  {
   "cell_type": "code",
   "execution_count": 190,
   "metadata": {},
   "outputs": [
    {
     "data": {
      "text/plain": [
       "LogisticRegression(C=1000, class_weight=None, dual=False, fit_intercept=True,\n",
       "          intercept_scaling=1, max_iter=100, multi_class='warn', n_jobs=2,\n",
       "          penalty='l1', random_state=42, solver='warn', tol=0.0001,\n",
       "          verbose=0, warm_start=False)"
      ]
     },
     "execution_count": 190,
     "metadata": {},
     "output_type": "execute_result"
    }
   ],
   "source": [
    "model.best_estimator_"
   ]
  },
  {
   "cell_type": "code",
   "execution_count": 191,
   "metadata": {},
   "outputs": [
    {
     "data": {
      "text/plain": [
       "0.70144872283879"
      ]
     },
     "execution_count": 191,
     "metadata": {},
     "output_type": "execute_result"
    }
   ],
   "source": [
    "model.best_score_"
   ]
  },
  {
   "cell_type": "markdown",
   "metadata": {},
   "source": [
    "### building model with the best estimators"
   ]
  },
  {
   "cell_type": "code",
   "execution_count": 192,
   "metadata": {},
   "outputs": [],
   "source": [
    "logreg = LogisticRegression(C=1000, penalty='l1', random_state=42, n_jobs=2)"
   ]
  },
  {
   "cell_type": "code",
   "execution_count": 193,
   "metadata": {
    "scrolled": true
   },
   "outputs": [
    {
     "data": {
      "text/plain": [
       "LogisticRegression(C=1000, class_weight=None, dual=False, fit_intercept=True,\n",
       "          intercept_scaling=1, max_iter=100, multi_class='warn', n_jobs=2,\n",
       "          penalty='l1', random_state=42, solver='warn', tol=0.0001,\n",
       "          verbose=0, warm_start=False)"
      ]
     },
     "execution_count": 193,
     "metadata": {},
     "output_type": "execute_result"
    }
   ],
   "source": [
    "logreg.fit(resampled_x, resampled_y)"
   ]
  },
  {
   "cell_type": "code",
   "execution_count": 194,
   "metadata": {},
   "outputs": [
    {
     "name": "stdout",
     "output_type": "stream",
     "text": [
      "train error is  11.948333333333338\n"
     ]
    }
   ],
   "source": [
    "print('train error is ', 100 - (logreg.score(standard_tfidf_train, y_train)*100))"
   ]
  },
  {
   "cell_type": "code",
   "execution_count": 195,
   "metadata": {},
   "outputs": [],
   "source": [
    "y_pred = logreg.predict(standard_tfidf_test)"
   ]
  },
  {
   "cell_type": "code",
   "execution_count": 196,
   "metadata": {},
   "outputs": [
    {
     "name": "stdout",
     "output_type": "stream",
     "text": [
      "f1 score for testing set is  85.41\n"
     ]
    }
   ],
   "source": [
    "print('f1 score for testing set is ', f1_score(y_test, y_pred, average='micro')*100)"
   ]
  },
  {
   "cell_type": "code",
   "execution_count": 197,
   "metadata": {},
   "outputs": [],
   "source": [
    "cmat = confusion_matrix(y_test, y_pred)"
   ]
  },
  {
   "cell_type": "code",
   "execution_count": 198,
   "metadata": {},
   "outputs": [
    {
     "data": {
      "text/plain": [
       "<matplotlib.axes._subplots.AxesSubplot at 0x18a521c45c0>"
      ]
     },
     "execution_count": 198,
     "metadata": {},
     "output_type": "execute_result"
    },
    {
     "data": {
      "image/png": "[encoded data removed]",
      "text/plain": [
       "<Figure size 432x288 with 2 Axes>"
      ]
     },
     "metadata": {},
     "output_type": "display_data"
    }
   ],
   "source": [
    "sns.heatmap(data=cmat,annot=True, fmt=\"d\" ,cmap=\"YlGnBu\" )"
   ]
  },
  {
   "cell_type": "raw",
   "metadata": {},
   "source": [
    "MODEL HAS IMPOROVED FROM DETECTING 0 CLASS LABEL 0 TO 556 CLASS LABEL 0"
   ]
  },
  {
   "cell_type": "code",
   "execution_count": 199,
   "metadata": {},
   "outputs": [
    {
     "data": {
      "text/plain": [
       "Counter({1: 17326, 0: 2674})"
      ]
     },
     "execution_count": 199,
     "metadata": {},
     "output_type": "execute_result"
    }
   ],
   "source": [
    "Counter(y_test)"
   ]
  },
  {
   "cell_type": "code",
   "execution_count": 200,
   "metadata": {},
   "outputs": [
    {
     "name": "stdout",
     "output_type": "stream",
     "text": [
      "precision score for test set is  87.0499897140506\n"
     ]
    }
   ],
   "source": [
    "print('precision score for test set is ',(precision_score(y_test, y_pred)*100))"
   ]
  },
  {
   "cell_type": "code",
   "execution_count": 201,
   "metadata": {},
   "outputs": [
    {
     "name": "stdout",
     "output_type": "stream",
     "text": [
      "recall score for test set is  97.69133094770865\n"
     ]
    }
   ],
   "source": [
    "print('recall score for test set is ',(recall_score(y_test, y_pred)*100))"
   ]
  },
  {
   "cell_type": "code",
   "execution_count": 202,
   "metadata": {
    "scrolled": true
   },
   "outputs": [
    {
     "name": "stdout",
     "output_type": "stream",
     "text": [
      "fbeta score for test set is  85.41\n"
     ]
    }
   ],
   "source": [
    "print('fbeta score for test set is ',(fbeta_score(y_test, y_pred, beta=0.5,average='micro')*100))"
   ]
  },
  {
   "cell_type": "code",
   "execution_count": 236,
   "metadata": {},
   "outputs": [],
   "source": [
    "y_pred_prob = logreg.predict_proba(standard_tfidf_test)[:,1]"
   ]
  },
  {
   "cell_type": "code",
   "execution_count": 237,
   "metadata": {},
   "outputs": [
    {
     "data": {
      "text/plain": [
       "(20000,)"
      ]
     },
     "execution_count": 237,
     "metadata": {},
     "output_type": "execute_result"
    }
   ],
   "source": [
    "y_pred_prob.shape"
   ]
  },
  {
   "cell_type": "code",
   "execution_count": 238,
   "metadata": {},
   "outputs": [],
   "source": [
    "from sklearn.metrics import roc_curve,roc_auc_score"
   ]
  },
  {
   "cell_type": "code",
   "execution_count": 239,
   "metadata": {},
   "outputs": [],
   "source": [
    "fpr, tpr, thresholds = roc_curve(y_test, y_pred_prob)"
   ]
  },
  {
   "cell_type": "code",
   "execution_count": 240,
   "metadata": {
    "scrolled": true
   },
   "outputs": [
    {
     "data": {
      "text/plain": [
       "Text(0.5,1,'ROC Curve')"
      ]
     },
     "execution_count": 240,
     "metadata": {},
     "output_type": "execute_result"
    },
    {
     "data": {
      "image/png": "[encoded data removed]",
      "text/plain": [
       "<Figure size 432x288 with 1 Axes>"
      ]
     },
     "metadata": {},
     "output_type": "display_data"
    }
   ],
   "source": [
    "plt.plot([0, 1], [0, 1], 'k--')\n",
    "plt.plot(fpr, tpr)\n",
    "plt.xlabel('False Positive Rate')\n",
    "plt.ylabel('True Positive Rate')\n",
    "plt.title('ROC Curve')"
   ]
  },
  {
   "cell_type": "code",
   "execution_count": 3,
   "metadata": {},
   "outputs": [],
   "source": [
    "# Please write all the code with proper documentation"
   ]
  },
  {
   "cell_type": "markdown",
   "metadata": {},
   "source": [
    "### [5.2.2] Applying Logistic Regression with L2 regularization on TFIDF,<font color='red'> SET 2</font>"
   ]
  },
  {
   "cell_type": "code",
   "execution_count": 67,
   "metadata": {},
   "outputs": [],
   "source": [
    "std = StandardScaler(with_mean=False)"
   ]
  },
  {
   "cell_type": "code",
   "execution_count": 68,
   "metadata": {},
   "outputs": [],
   "source": [
    "standardizer = std.fit(train_tfidf)"
   ]
  },
  {
   "cell_type": "code",
   "execution_count": 69,
   "metadata": {},
   "outputs": [],
   "source": [
    "standard_tfidf_train = standardizer.transform(train_tfidf)"
   ]
  },
  {
   "cell_type": "code",
   "execution_count": 70,
   "metadata": {},
   "outputs": [],
   "source": [
    "standard_tfidf_test = standardizer.transform(test_tfidf)"
   ]
  },
  {
   "cell_type": "code",
   "execution_count": 71,
   "metadata": {},
   "outputs": [],
   "source": [
    "standard_tfidf_cv = standardizer.transform(cv_tfidf)"
   ]
  },
  {
   "cell_type": "markdown",
   "metadata": {},
   "source": [
    "### tfidf gridsearch cv - L2"
   ]
  },
  {
   "cell_type": "code",
   "execution_count": 72,
   "metadata": {},
   "outputs": [],
   "source": [
    "logreg=LogisticRegression(penalty='l2',random_state=42,n_jobs=2)"
   ]
  },
  {
   "cell_type": "code",
   "execution_count": 73,
   "metadata": {},
   "outputs": [],
   "source": [
    "gridvalues = {'C': [0.001,0.01,0.1,1,10,100,1000]}"
   ]
  },
  {
   "cell_type": "code",
   "execution_count": 74,
   "metadata": {},
   "outputs": [],
   "source": [
    "model = GridSearchCV(estimator=logreg, param_grid=gridvalues, scoring='f1',cv=10)"
   ]
  },
  {
   "cell_type": "code",
   "execution_count": 75,
   "metadata": {
    "scrolled": true
   },
   "outputs": [
    {
     "data": {
      "text/plain": [
       "GridSearchCV(cv=10, error_score='raise-deprecating',\n",
       "       estimator=LogisticRegression(C=1.0, class_weight=None, dual=False, fit_intercept=True,\n",
       "          intercept_scaling=1, max_iter=100, multi_class='warn', n_jobs=2,\n",
       "          penalty='l2', random_state=42, solver='warn', tol=0.0001,\n",
       "          verbose=0, warm_start=False),\n",
       "       fit_params=None, iid='warn', n_jobs=None,\n",
       "       param_grid={'C': [0.001, 0.01, 0.1, 1, 10, 100, 1000]},\n",
       "       pre_dispatch='2*n_jobs', refit=True, return_train_score='warn',\n",
       "       scoring='f1', verbose=0)"
      ]
     },
     "execution_count": 75,
     "metadata": {},
     "output_type": "execute_result"
    }
   ],
   "source": [
    "model.fit(standard_tfidf_train, y_train)"
   ]
  },
  {
   "cell_type": "code",
   "execution_count": 76,
   "metadata": {},
   "outputs": [
    {
     "data": {
      "text/plain": [
       "LogisticRegression(C=0.001, class_weight=None, dual=False, fit_intercept=True,\n",
       "          intercept_scaling=1, max_iter=100, multi_class='warn', n_jobs=2,\n",
       "          penalty='l2', random_state=42, solver='warn', tol=0.0001,\n",
       "          verbose=0, warm_start=False)"
      ]
     },
     "execution_count": 76,
     "metadata": {},
     "output_type": "execute_result"
    }
   ],
   "source": [
    "model.best_estimator_"
   ]
  },
  {
   "cell_type": "markdown",
   "metadata": {},
   "source": [
    "### applying the learned parameters to the model"
   ]
  },
  {
   "cell_type": "code",
   "execution_count": 77,
   "metadata": {},
   "outputs": [],
   "source": [
    "logreg = LogisticRegression(C=0.001, penalty='l2', random_state=42, n_jobs=2)"
   ]
  },
  {
   "cell_type": "code",
   "execution_count": 78,
   "metadata": {
    "scrolled": true
   },
   "outputs": [
    {
     "data": {
      "text/plain": [
       "LogisticRegression(C=0.001, class_weight=None, dual=False, fit_intercept=True,\n",
       "          intercept_scaling=1, max_iter=100, multi_class='warn', n_jobs=2,\n",
       "          penalty='l2', random_state=42, solver='warn', tol=0.0001,\n",
       "          verbose=0, warm_start=False)"
      ]
     },
     "execution_count": 78,
     "metadata": {},
     "output_type": "execute_result"
    }
   ],
   "source": [
    "logreg.fit(standard_tfidf_train, y_train)"
   ]
  },
  {
   "cell_type": "code",
   "execution_count": 79,
   "metadata": {},
   "outputs": [
    {
     "name": "stdout",
     "output_type": "stream",
     "text": [
      "train error is  11.11\n"
     ]
    }
   ],
   "source": [
    "print('train error is ', 100 - (logreg.score(standard_tfidf_train, y_train)*100))"
   ]
  },
  {
   "cell_type": "code",
   "execution_count": 80,
   "metadata": {},
   "outputs": [],
   "source": [
    "y_pred = logreg.predict(standard_tfidf_test)"
   ]
  },
  {
   "cell_type": "code",
   "execution_count": 81,
   "metadata": {},
   "outputs": [
    {
     "name": "stdout",
     "output_type": "stream",
     "text": [
      "f1 score for testing set is  86.485\n"
     ]
    }
   ],
   "source": [
    "print('f1 score for testing set is ', f1_score(y_test, y_pred, average='micro')*100)"
   ]
  },
  {
   "cell_type": "code",
   "execution_count": 82,
   "metadata": {},
   "outputs": [],
   "source": [
    "cmat = confusion_matrix(y_test, y_pred)"
   ]
  },
  {
   "cell_type": "code",
   "execution_count": 83,
   "metadata": {
    "scrolled": true
   },
   "outputs": [
    {
     "data": {
      "text/plain": [
       "<matplotlib.axes._subplots.AxesSubplot at 0x18a4621cfd0>"
      ]
     },
     "execution_count": 83,
     "metadata": {},
     "output_type": "execute_result"
    },
    {
     "data": {
      "image/png": "[encoded data removed]",
      "text/plain": [
       "<Figure size 432x288 with 2 Axes>"
      ]
     },
     "metadata": {},
     "output_type": "display_data"
    }
   ],
   "source": [
    "sns.heatmap(data=cmat,annot=True, fmt=\"d\" ,cmap=\"YlGnBu\" )"
   ]
  },
  {
   "cell_type": "code",
   "execution_count": 84,
   "metadata": {},
   "outputs": [
    {
     "name": "stdout",
     "output_type": "stream",
     "text": [
      "the f1 score on cross validation set is 85%\n"
     ]
    }
   ],
   "source": [
    "f1 = f1_score(y_cv, y_pred, average='micro')*100\n",
    "print('the f1 score on cross validation set is %d%%' %(f1))"
   ]
  },
  {
   "cell_type": "code",
   "execution_count": 85,
   "metadata": {
    "scrolled": false
   },
   "outputs": [
    {
     "name": "stdout",
     "output_type": "stream",
     "text": [
      "the f1 score on test data is 92\n"
     ]
    }
   ],
   "source": [
    "print('the f1 score on test data is', (int(model.score(test_tfidf, y_test)*100)))"
   ]
  },
  {
   "cell_type": "markdown",
   "metadata": {},
   "source": [
    "### Since our model is underfitting badly, we are gonna upsample this"
   ]
  },
  {
   "cell_type": "code",
   "execution_count": 86,
   "metadata": {},
   "outputs": [],
   "source": [
    "from collections import Counter"
   ]
  },
  {
   "cell_type": "code",
   "execution_count": 87,
   "metadata": {},
   "outputs": [],
   "source": [
    "from imblearn.over_sampling import SMOTE\n",
    "from imblearn.under_sampling import NearMiss"
   ]
  },
  {
   "cell_type": "code",
   "execution_count": 88,
   "metadata": {},
   "outputs": [],
   "source": [
    "smote = SMOTE(n_jobs=2, random_state=10, ratio=1.0,)"
   ]
  },
  {
   "cell_type": "code",
   "execution_count": 89,
   "metadata": {},
   "outputs": [],
   "source": [
    "x_sampled,y_sampled = smote.fit_resample(standard_tfidf_train, y_train)"
   ]
  },
  {
   "cell_type": "code",
   "execution_count": 144,
   "metadata": {},
   "outputs": [],
   "source": [
    "resampled_x = x_sampled[30000:80000, :]"
   ]
  },
  {
   "cell_type": "code",
   "execution_count": 145,
   "metadata": {},
   "outputs": [
    {
     "data": {
      "text/plain": [
       "(50000, 2000)"
      ]
     },
     "execution_count": 145,
     "metadata": {},
     "output_type": "execute_result"
    }
   ],
   "source": [
    "resampled_x.shape"
   ]
  },
  {
   "cell_type": "code",
   "execution_count": 146,
   "metadata": {},
   "outputs": [],
   "source": [
    "resampled_y = y_sampled[30000:80000]"
   ]
  },
  {
   "cell_type": "code",
   "execution_count": 147,
   "metadata": {},
   "outputs": [
    {
     "data": {
      "text/plain": [
       "(50000,)"
      ]
     },
     "execution_count": 147,
     "metadata": {},
     "output_type": "execute_result"
    }
   ],
   "source": [
    "resampled_y.shape"
   ]
  },
  {
   "cell_type": "code",
   "execution_count": 148,
   "metadata": {
    "scrolled": true
   },
   "outputs": [
    {
     "data": {
      "text/plain": [
       "Counter({1: 26389, 0: 23611})"
      ]
     },
     "execution_count": 148,
     "metadata": {},
     "output_type": "execute_result"
    }
   ],
   "source": [
    "Counter(resampled_y)"
   ]
  },
  {
   "cell_type": "code",
   "execution_count": 123,
   "metadata": {},
   "outputs": [],
   "source": [
    "# weights={0:2, 1:5}"
   ]
  },
  {
   "cell_type": "code",
   "execution_count": 149,
   "metadata": {},
   "outputs": [],
   "source": [
    "logreg=LogisticRegression(penalty='l2',random_state=42,n_jobs=2)"
   ]
  },
  {
   "cell_type": "code",
   "execution_count": 150,
   "metadata": {},
   "outputs": [],
   "source": [
    "gridvalues = {'C': [0.001,0.01,0.1,1,10,100,1000]}"
   ]
  },
  {
   "cell_type": "code",
   "execution_count": 151,
   "metadata": {},
   "outputs": [],
   "source": [
    "model = GridSearchCV(estimator=logreg, param_grid=gridvalues, scoring='f1',cv=10)"
   ]
  },
  {
   "cell_type": "code",
   "execution_count": 152,
   "metadata": {
    "scrolled": true
   },
   "outputs": [
    {
     "data": {
      "text/plain": [
       "GridSearchCV(cv=10, error_score='raise-deprecating',\n",
       "       estimator=LogisticRegression(C=1.0, class_weight=None, dual=False, fit_intercept=True,\n",
       "          intercept_scaling=1, max_iter=100, multi_class='warn', n_jobs=2,\n",
       "          penalty='l2', random_state=42, solver='warn', tol=0.0001,\n",
       "          verbose=0, warm_start=False),\n",
       "       fit_params=None, iid='warn', n_jobs=None,\n",
       "       param_grid={'C': [0.001, 0.01, 0.1, 1, 10, 100, 1000]},\n",
       "       pre_dispatch='2*n_jobs', refit=True, return_train_score='warn',\n",
       "       scoring='f1', verbose=0)"
      ]
     },
     "execution_count": 152,
     "metadata": {},
     "output_type": "execute_result"
    }
   ],
   "source": [
    "model.fit(resampled_x, resampled_y)"
   ]
  },
  {
   "cell_type": "code",
   "execution_count": 153,
   "metadata": {},
   "outputs": [
    {
     "data": {
      "text/plain": [
       "LogisticRegression(C=0.1, class_weight=None, dual=False, fit_intercept=True,\n",
       "          intercept_scaling=1, max_iter=100, multi_class='warn', n_jobs=2,\n",
       "          penalty='l2', random_state=42, solver='warn', tol=0.0001,\n",
       "          verbose=0, warm_start=False)"
      ]
     },
     "execution_count": 153,
     "metadata": {},
     "output_type": "execute_result"
    }
   ],
   "source": [
    "model.best_estimator_"
   ]
  },
  {
   "cell_type": "code",
   "execution_count": 154,
   "metadata": {},
   "outputs": [
    {
     "data": {
      "text/plain": [
       "0.7012947611034576"
      ]
     },
     "execution_count": 154,
     "metadata": {},
     "output_type": "execute_result"
    }
   ],
   "source": [
    "model.best_score_"
   ]
  },
  {
   "cell_type": "code",
   "execution_count": 155,
   "metadata": {},
   "outputs": [
    {
     "data": {
      "text/plain": [
       "Counter({1: 26389, 0: 23611})"
      ]
     },
     "execution_count": 155,
     "metadata": {},
     "output_type": "execute_result"
    }
   ],
   "source": [
    "Counter(resampled_y)"
   ]
  },
  {
   "cell_type": "markdown",
   "metadata": {},
   "source": [
    "### building model with the best estimators"
   ]
  },
  {
   "cell_type": "code",
   "execution_count": 156,
   "metadata": {},
   "outputs": [],
   "source": [
    "logreg = LogisticRegression(C=0.1, penalty='l2', random_state=42, n_jobs=2)"
   ]
  },
  {
   "cell_type": "code",
   "execution_count": 157,
   "metadata": {
    "scrolled": true
   },
   "outputs": [
    {
     "data": {
      "text/plain": [
       "LogisticRegression(C=0.1, class_weight=None, dual=False, fit_intercept=True,\n",
       "          intercept_scaling=1, max_iter=100, multi_class='warn', n_jobs=2,\n",
       "          penalty='l2', random_state=42, solver='warn', tol=0.0001,\n",
       "          verbose=0, warm_start=False)"
      ]
     },
     "execution_count": 157,
     "metadata": {},
     "output_type": "execute_result"
    }
   ],
   "source": [
    "logreg.fit(resampled_x, resampled_y)"
   ]
  },
  {
   "cell_type": "code",
   "execution_count": 158,
   "metadata": {},
   "outputs": [
    {
     "name": "stdout",
     "output_type": "stream",
     "text": [
      "train error is  11.969999999999999\n"
     ]
    }
   ],
   "source": [
    "print('train error is ', 100 - (logreg.score(standard_tfidf_train, y_train)*100))"
   ]
  },
  {
   "cell_type": "code",
   "execution_count": 159,
   "metadata": {},
   "outputs": [],
   "source": [
    "y_pred = logreg.predict(standard_tfidf_test)"
   ]
  },
  {
   "cell_type": "code",
   "execution_count": 160,
   "metadata": {},
   "outputs": [
    {
     "name": "stdout",
     "output_type": "stream",
     "text": [
      "f1 score for testing set is  85.385\n"
     ]
    }
   ],
   "source": [
    "print('f1 score for testing set is ', f1_score(y_test, y_pred, average='micro')*100)"
   ]
  },
  {
   "cell_type": "code",
   "execution_count": 161,
   "metadata": {},
   "outputs": [],
   "source": [
    "cmat = confusion_matrix(y_test, y_pred)"
   ]
  },
  {
   "cell_type": "code",
   "execution_count": 162,
   "metadata": {},
   "outputs": [
    {
     "data": {
      "text/plain": [
       "<matplotlib.axes._subplots.AxesSubplot at 0x18a55d8ba58>"
      ]
     },
     "execution_count": 162,
     "metadata": {},
     "output_type": "execute_result"
    },
    {
     "data": {
      "image/png": "[encoded data removed]",
      "text/plain": [
       "<Figure size 432x288 with 2 Axes>"
      ]
     },
     "metadata": {},
     "output_type": "display_data"
    }
   ],
   "source": [
    "sns.heatmap(data=cmat,annot=True, fmt=\"d\" ,cmap=\"YlGnBu\" )"
   ]
  },
  {
   "cell_type": "markdown",
   "metadata": {},
   "source": [
    "### THE MODEL HAS IMPROVED DETECTING 123 CORRECT 0'S TO 565 0'S"
   ]
  },
  {
   "cell_type": "code",
   "execution_count": 138,
   "metadata": {},
   "outputs": [
    {
     "data": {
      "text/plain": [
       "Counter({1: 17326, 0: 2674})"
      ]
     },
     "execution_count": 138,
     "metadata": {},
     "output_type": "execute_result"
    }
   ],
   "source": [
    "Counter(y_test)"
   ]
  },
  {
   "cell_type": "code",
   "execution_count": 163,
   "metadata": {},
   "outputs": [
    {
     "name": "stdout",
     "output_type": "stream",
     "text": [
      "precision score for test set is  87.05428350913301\n"
     ]
    }
   ],
   "source": [
    "print('precision score for test set is ',(precision_score(y_test, y_pred)*100))"
   ]
  },
  {
   "cell_type": "code",
   "execution_count": 164,
   "metadata": {},
   "outputs": [
    {
     "name": "stdout",
     "output_type": "stream",
     "text": [
      "recall score for test set is  97.65092923929355\n"
     ]
    }
   ],
   "source": [
    "print('recall score for test set is ',(recall_score(y_test, y_pred)*100))"
   ]
  },
  {
   "cell_type": "code",
   "execution_count": 165,
   "metadata": {
    "scrolled": true
   },
   "outputs": [
    {
     "name": "stdout",
     "output_type": "stream",
     "text": [
      "fbeta score for test set is  85.385\n"
     ]
    }
   ],
   "source": [
    "print('fbeta score for test set is ',(fbeta_score(y_test, y_pred, beta=0.5,average='micro')*100))"
   ]
  },
  {
   "cell_type": "code",
   "execution_count": 280,
   "metadata": {},
   "outputs": [],
   "source": [
    "from sklearn.metrics import roc_curve,roc_auc_score"
   ]
  },
  {
   "cell_type": "code",
   "execution_count": 279,
   "metadata": {},
   "outputs": [],
   "source": [
    "y_pred_prob = logreg.predict_proba(standard_tfidf_test)[:,1]"
   ]
  },
  {
   "cell_type": "code",
   "execution_count": 281,
   "metadata": {},
   "outputs": [],
   "source": [
    "fpr, tpr, thresholds = roc_curve(y_test, y_pred_prob)"
   ]
  },
  {
   "cell_type": "code",
   "execution_count": 282,
   "metadata": {
    "scrolled": true
   },
   "outputs": [
    {
     "data": {
      "text/plain": [
       "Text(0.5,1,'ROC Curve')"
      ]
     },
     "execution_count": 282,
     "metadata": {},
     "output_type": "execute_result"
    },
    {
     "data": {
      "image/png": "[encoded data removed]",
      "text/plain": [
       "<Figure size 432x288 with 1 Axes>"
      ]
     },
     "metadata": {},
     "output_type": "display_data"
    }
   ],
   "source": [
    "plt.plot([0, 1], [0, 1], 'k--')\n",
    "plt.plot(fpr, tpr)\n",
    "plt.xlabel('False Positive Rate')\n",
    "plt.ylabel('True Positive Rate')\n",
    "plt.title('ROC Curve')"
   ]
  },
  {
   "cell_type": "code",
   "execution_count": 3,
   "metadata": {},
   "outputs": [],
   "source": [
    "# Please write all the code with proper documentation"
   ]
  },
  {
   "cell_type": "markdown",
   "metadata": {},
   "source": [
    "### [5.2.3] Feature Importance on TFIDF,<font color='red'> SET 2</font>"
   ]
  },
  {
   "cell_type": "markdown",
   "metadata": {},
   "source": [
    "#### [5.2.3.1] Top 10 important features of positive class from<font color='red'> SET 2</font>"
   ]
  },
  {
   "cell_type": "code",
   "execution_count": 62,
   "metadata": {},
   "outputs": [],
   "source": [
    "from sklearn.feature_extraction.text import TfidfVectorizer"
   ]
  },
  {
   "cell_type": "code",
   "execution_count": 63,
   "metadata": {},
   "outputs": [],
   "source": [
    "tfidf = TfidfVectorizer(max_features=2000, min_df=3)"
   ]
  },
  {
   "cell_type": "code",
   "execution_count": 64,
   "metadata": {},
   "outputs": [],
   "source": [
    "tf = tfidf.fit_transform(postext)"
   ]
  },
  {
   "cell_type": "code",
   "execution_count": 65,
   "metadata": {},
   "outputs": [],
   "source": [
    "feature_names = tfidf.get_feature_names()"
   ]
  },
  {
   "cell_type": "code",
   "execution_count": 67,
   "metadata": {},
   "outputs": [],
   "source": [
    "def show_most_informative_features(vectorizer, clf, n=20):\n",
    "    feature_names = vectorizer.get_feature_names()\n",
    "    coefs_with_fns = sorted(zip(clf.coef_[0], feature_names))\n",
    "    top = zip(coefs_with_fns[:n], coefs_with_fns[:-(n + 1):-1])\n",
    "    for (coef_1, fn_1), (coef_2, fn_2) in top:\n",
    "        print (\"\\t%.4f\\t%-15s\\t\\t%.4f\\t%-15s\" % (coef_1, fn_1, coef_2, fn_2))"
   ]
  },
  {
   "cell_type": "code",
   "execution_count": 69,
   "metadata": {},
   "outputs": [],
   "source": [
    "logreg = LogisticRegression()"
   ]
  },
  {
   "cell_type": "code",
   "execution_count": 71,
   "metadata": {},
   "outputs": [
    {
     "data": {
      "text/plain": [
       "LogisticRegression(C=1.0, class_weight=None, dual=False, fit_intercept=True,\n",
       "          intercept_scaling=1, max_iter=100, multi_class='warn',\n",
       "          n_jobs=None, penalty='l2', random_state=None, solver='warn',\n",
       "          tol=0.0001, verbose=0, warm_start=False)"
      ]
     },
     "execution_count": 71,
     "metadata": {},
     "output_type": "execute_result"
    }
   ],
   "source": [
    "logreg.fit(standard_tfidf_train, y_train)"
   ]
  },
  {
   "cell_type": "code",
   "execution_count": 72,
   "metadata": {},
   "outputs": [
    {
     "name": "stdout",
     "output_type": "stream",
     "text": [
      "\t-0.2351\thighest        \t\t0.3881\tlive           \n",
      "\t-0.1126\tride           \t\t0.3860\tattract        \n",
      "\t-0.0985\tcatch          \t\t0.3029\tsalmon         \n",
      "\t-0.0977\tmind           \t\t0.2567\tgrow           \n",
      "\t-0.0905\tthrill         \t\t0.1968\tsometh         \n",
      "\t-0.0883\tcomparison     \t\t0.1784\tsip            \n",
      "\t-0.0877\tyeah           \t\t0.1776\tsupermarket    \n",
      "\t-0.0866\tsix            \t\t0.1725\tdiet           \n",
      "\t-0.0812\tdiffer         \t\t0.1622\tfortun         \n",
      "\t-0.0806\tfridg          \t\t0.1619\tserv           \n",
      "\t-0.0806\thour           \t\t0.1612\tsugar          \n",
      "\t-0.0806\tsubtl          \t\t0.1605\tsmell          \n",
      "\t-0.0779\troyal          \t\t0.1541\tfamiliar       \n",
      "\t-0.0774\tstrang         \t\t0.1470\tunit           \n",
      "\t-0.0756\tactual         \t\t0.1460\troutin         \n",
      "\t-0.0710\tfaster         \t\t0.1437\trum            \n",
      "\t-0.0673\tcranberri      \t\t0.1435\tmom            \n",
      "\t-0.0662\tcompani        \t\t0.1415\tmention        \n",
      "\t-0.0636\tsteel          \t\t0.1404\tfact           \n",
      "\t-0.0634\tgod            \t\t0.1348\toccas          \n"
     ]
    }
   ],
   "source": [
    "show_most_informative_features(tfidf, logreg)"
   ]
  },
  {
   "cell_type": "code",
   "execution_count": 3,
   "metadata": {},
   "outputs": [],
   "source": [
    "# Please write all the code with proper documentation"
   ]
  },
  {
   "cell_type": "markdown",
   "metadata": {},
   "source": [
    "#### [5.2.3.2] Top 10 important features of negative class from<font color='red'> SET 2</font>"
   ]
  },
  {
   "cell_type": "code",
   "execution_count": 73,
   "metadata": {},
   "outputs": [],
   "source": [
    "from sklearn.feature_extraction.text import TfidfVectorizer"
   ]
  },
  {
   "cell_type": "code",
   "execution_count": 74,
   "metadata": {},
   "outputs": [],
   "source": [
    "tfidf = TfidfVectorizer(max_features=2000, min_df=3)"
   ]
  },
  {
   "cell_type": "code",
   "execution_count": 75,
   "metadata": {},
   "outputs": [],
   "source": [
    "tf = tfidf.fit_transform(negtext)"
   ]
  },
  {
   "cell_type": "code",
   "execution_count": 76,
   "metadata": {},
   "outputs": [],
   "source": [
    "feature_names = tfidf.get_feature_names()"
   ]
  },
  {
   "cell_type": "code",
   "execution_count": 77,
   "metadata": {},
   "outputs": [],
   "source": [
    "def show_most_informative_features(vectorizer, clf, n=20):\n",
    "    feature_names = vectorizer.get_feature_names()\n",
    "    coefs_with_fns = sorted(zip(clf.coef_[0], feature_names))\n",
    "    top = zip(coefs_with_fns[:n], coefs_with_fns[:-(n + 1):-1])\n",
    "    for (coef_1, fn_1), (coef_2, fn_2) in top:\n",
    "        print (\"\\t%.4f\\t%-15s\\t\\t%.4f\\t%-15s\" % (coef_1, fn_1, coef_2, fn_2))"
   ]
  },
  {
   "cell_type": "code",
   "execution_count": 78,
   "metadata": {},
   "outputs": [],
   "source": [
    "logreg = LogisticRegression()"
   ]
  },
  {
   "cell_type": "code",
   "execution_count": 80,
   "metadata": {},
   "outputs": [
    {
     "data": {
      "text/plain": [
       "LogisticRegression(C=1.0, class_weight=None, dual=False, fit_intercept=True,\n",
       "          intercept_scaling=1, max_iter=100, multi_class='warn',\n",
       "          n_jobs=None, penalty='l2', random_state=None, solver='warn',\n",
       "          tol=0.0001, verbose=0, warm_start=False)"
      ]
     },
     "execution_count": 80,
     "metadata": {},
     "output_type": "execute_result"
    }
   ],
   "source": [
    "logreg.fit(standard_tfidf_train, y_train)"
   ]
  },
  {
   "cell_type": "code",
   "execution_count": 81,
   "metadata": {},
   "outputs": [
    {
     "name": "stdout",
     "output_type": "stream",
     "text": [
      "\t-0.2351\thesit          \t\t0.3881\tlime           \n",
      "\t-0.1126\trepli          \t\t0.3860\taspartam       \n",
      "\t-0.0985\tcardboard      \t\t0.3029\troom           \n",
      "\t-0.0977\tmessag         \t\t0.2567\tgreasi         \n",
      "\t-0.0905\tthrill         \t\t0.1968\tsoak           \n",
      "\t-0.0883\tcomplex        \t\t0.1784\tshow           \n",
      "\t-0.0877\tyard           \t\t0.1776\tsunflow        \n",
      "\t-0.0866\tsick           \t\t0.1725\tdetermin       \n",
      "\t-0.0812\tdiabet         \t\t0.1622\tfloat          \n",
      "\t-0.0806\tfortun         \t\t0.1619\tseawe          \n",
      "\t-0.0806\thorrid         \t\t0.1612\tsucker         \n",
      "\t-0.0806\tsubstanc       \t\t0.1605\tsister         \n",
      "\t-0.0779\tridicul        \t\t0.1541\texpir          \n",
      "\t-0.0774\tstore          \t\t0.1470\tunhealthi      \n",
      "\t-0.0756\tactiv          \t\t0.1460\trid            \n",
      "\t-0.0710\tface           \t\t0.1437\tring           \n",
      "\t-0.0673\tcranberri      \t\t0.1435\tmislead        \n",
      "\t-0.0662\tcomplaint      \t\t0.1415\tmeal           \n",
      "\t-0.0636\tstation        \t\t0.1404\texchang        \n",
      "\t-0.0634\tgiant          \t\t0.1348\tnormal         \n"
     ]
    }
   ],
   "source": [
    "show_most_informative_features(tfidf, logreg)"
   ]
  },
  {
   "cell_type": "code",
   "execution_count": 3,
   "metadata": {},
   "outputs": [],
   "source": [
    "# Please write all the code with proper documentation"
   ]
  },
  {
   "cell_type": "markdown",
   "metadata": {},
   "source": [
    "## [5.3] Logistic Regression on AVG W2V,<font color='red'> SET 3</font>"
   ]
  },
  {
   "cell_type": "markdown",
   "metadata": {},
   "source": [
    "### [5.3.1] Applying Logistic Regression with L1 regularization on AVG W2V<font color='red'> SET 3</font>"
   ]
  },
  {
   "cell_type": "markdown",
   "metadata": {},
   "source": [
    "### AVGW2V L1 REGULARIZER"
   ]
  },
  {
   "cell_type": "code",
   "execution_count": 229,
   "metadata": {},
   "outputs": [],
   "source": [
    "logreg=LogisticRegression(penalty='l1',random_state=42,n_jobs=2)"
   ]
  },
  {
   "cell_type": "code",
   "execution_count": 230,
   "metadata": {},
   "outputs": [],
   "source": [
    "gridvalues = {'C': [0.001,0.01,0.1,1,10,100,1000]}"
   ]
  },
  {
   "cell_type": "code",
   "execution_count": 231,
   "metadata": {},
   "outputs": [],
   "source": [
    "model = GridSearchCV(estimator=logreg, param_grid=gridvalues, scoring='f1',cv=10)"
   ]
  },
  {
   "cell_type": "code",
   "execution_count": 232,
   "metadata": {
    "scrolled": true
   },
   "outputs": [
    {
     "data": {
      "text/plain": [
       "GridSearchCV(cv=10, error_score='raise-deprecating',\n",
       "       estimator=LogisticRegression(C=1.0, class_weight=None, dual=False, fit_intercept=True,\n",
       "          intercept_scaling=1, max_iter=100, multi_class='warn', n_jobs=2,\n",
       "          penalty='l1', random_state=42, solver='warn', tol=0.0001,\n",
       "          verbose=0, warm_start=False),\n",
       "       fit_params=None, iid='warn', n_jobs=None,\n",
       "       param_grid={'C': [0.001, 0.01, 0.1, 1, 10, 100, 1000]},\n",
       "       pre_dispatch='2*n_jobs', refit=True, return_train_score='warn',\n",
       "       scoring='f1', verbose=0)"
      ]
     },
     "execution_count": 232,
     "metadata": {},
     "output_type": "execute_result"
    }
   ],
   "source": [
    "model.fit(standard_avgw2v_train, y_train)"
   ]
  },
  {
   "cell_type": "code",
   "execution_count": 233,
   "metadata": {},
   "outputs": [
    {
     "data": {
      "text/plain": [
       "LogisticRegression(C=0.1, class_weight=None, dual=False, fit_intercept=True,\n",
       "          intercept_scaling=1, max_iter=100, multi_class='warn', n_jobs=2,\n",
       "          penalty='l1', random_state=42, solver='warn', tol=0.0001,\n",
       "          verbose=0, warm_start=False)"
      ]
     },
     "execution_count": 233,
     "metadata": {},
     "output_type": "execute_result"
    }
   ],
   "source": [
    "model.best_estimator_"
   ]
  },
  {
   "cell_type": "code",
   "execution_count": 234,
   "metadata": {},
   "outputs": [
    {
     "data": {
      "text/plain": [
       "0.9501348945604858"
      ]
     },
     "execution_count": 234,
     "metadata": {},
     "output_type": "execute_result"
    }
   ],
   "source": [
    "model.best_score_"
   ]
  },
  {
   "cell_type": "markdown",
   "metadata": {},
   "source": [
    "### APPLYING LEARNED VALUES"
   ]
  },
  {
   "cell_type": "code",
   "execution_count": 235,
   "metadata": {},
   "outputs": [],
   "source": [
    "logreg = LogisticRegression(C=0.1, penalty='l1', random_state=42, n_jobs=2)"
   ]
  },
  {
   "cell_type": "code",
   "execution_count": 236,
   "metadata": {
    "scrolled": true
   },
   "outputs": [
    {
     "data": {
      "text/plain": [
       "LogisticRegression(C=0.1, class_weight=None, dual=False, fit_intercept=True,\n",
       "          intercept_scaling=1, max_iter=100, multi_class='warn', n_jobs=2,\n",
       "          penalty='l1', random_state=42, solver='warn', tol=0.0001,\n",
       "          verbose=0, warm_start=False)"
      ]
     },
     "execution_count": 236,
     "metadata": {},
     "output_type": "execute_result"
    }
   ],
   "source": [
    "logreg.fit(standard_avgw2v_train, y_train)"
   ]
  },
  {
   "cell_type": "code",
   "execution_count": 237,
   "metadata": {},
   "outputs": [
    {
     "name": "stdout",
     "output_type": "stream",
     "text": [
      "train error is  9.033333333333331\n"
     ]
    }
   ],
   "source": [
    "print('train error is ', 100 - (logreg.score(standard_avgw2v_train, y_train)*100))"
   ]
  },
  {
   "cell_type": "code",
   "execution_count": 238,
   "metadata": {},
   "outputs": [],
   "source": [
    "y_pred = logreg.predict(standard_avgw2v_test)"
   ]
  },
  {
   "cell_type": "code",
   "execution_count": 239,
   "metadata": {},
   "outputs": [
    {
     "name": "stdout",
     "output_type": "stream",
     "text": [
      "f1 score for testing set is  89.725\n"
     ]
    }
   ],
   "source": [
    "print('f1 score for testing set is ', f1_score(y_test, y_pred, average='micro')*100)"
   ]
  },
  {
   "cell_type": "code",
   "execution_count": 240,
   "metadata": {},
   "outputs": [],
   "source": [
    "cmat = confusion_matrix(y_test, y_pred)"
   ]
  },
  {
   "cell_type": "code",
   "execution_count": 241,
   "metadata": {
    "scrolled": true
   },
   "outputs": [
    {
     "data": {
      "text/plain": [
       "<matplotlib.axes._subplots.AxesSubplot at 0x18a50c214a8>"
      ]
     },
     "execution_count": 241,
     "metadata": {},
     "output_type": "execute_result"
    },
    {
     "data": {
      "image/png": "[encoded data removed]",
      "text/plain": [
       "<Figure size 432x288 with 2 Axes>"
      ]
     },
     "metadata": {},
     "output_type": "display_data"
    }
   ],
   "source": [
    "sns.heatmap(data=cmat,annot=True, fmt=\"d\" ,cmap=\"YlGnBu\" )"
   ]
  },
  {
   "cell_type": "code",
   "execution_count": 242,
   "metadata": {},
   "outputs": [
    {
     "data": {
      "text/plain": [
       "Counter({1: 17326, 0: 2674})"
      ]
     },
     "execution_count": 242,
     "metadata": {},
     "output_type": "execute_result"
    }
   ],
   "source": [
    "Counter(y_test)"
   ]
  },
  {
   "cell_type": "code",
   "execution_count": 243,
   "metadata": {},
   "outputs": [
    {
     "name": "stdout",
     "output_type": "stream",
     "text": [
      "the f1 score on cross validation set is 81%\n"
     ]
    }
   ],
   "source": [
    "f1 = f1_score(y_cv, y_pred, average='micro')*100\n",
    "print('the f1 score on cross validation set is %d%%' %(f1))"
   ]
  },
  {
   "cell_type": "code",
   "execution_count": 244,
   "metadata": {
    "scrolled": true
   },
   "outputs": [
    {
     "name": "stdout",
     "output_type": "stream",
     "text": [
      "the f1 score on test data is 94\n"
     ]
    }
   ],
   "source": [
    "print('the f1 score on test data is', (int(model.score(standard_avgw2v_test, y_test)*100)))"
   ]
  },
  {
   "cell_type": "code",
   "execution_count": 325,
   "metadata": {},
   "outputs": [],
   "source": [
    "y_pred_prob = logreg.predict_proba(standard_avgw2v_test)[:,1]"
   ]
  },
  {
   "cell_type": "code",
   "execution_count": 326,
   "metadata": {},
   "outputs": [
    {
     "data": {
      "text/plain": [
       "(20000,)"
      ]
     },
     "execution_count": 326,
     "metadata": {},
     "output_type": "execute_result"
    }
   ],
   "source": [
    "y_pred_prob.shape"
   ]
  },
  {
   "cell_type": "code",
   "execution_count": 327,
   "metadata": {},
   "outputs": [],
   "source": [
    "from sklearn.metrics import roc_curve,roc_auc_score"
   ]
  },
  {
   "cell_type": "code",
   "execution_count": 328,
   "metadata": {},
   "outputs": [],
   "source": [
    "fpr, tpr, thresholds = roc_curve(y_test, y_pred_prob)"
   ]
  },
  {
   "cell_type": "code",
   "execution_count": 329,
   "metadata": {
    "scrolled": true
   },
   "outputs": [
    {
     "data": {
      "text/plain": [
       "Text(0.5,1,'ROC Curve')"
      ]
     },
     "execution_count": 329,
     "metadata": {},
     "output_type": "execute_result"
    },
    {
     "data": {
      "image/png": "[encoded data removed]",
      "text/plain": [
       "<Figure size 432x288 with 1 Axes>"
      ]
     },
     "metadata": {},
     "output_type": "display_data"
    }
   ],
   "source": [
    "plt.plot([0, 1], [0, 1], 'k--')\n",
    "plt.plot(fpr, tpr)\n",
    "plt.xlabel('False Positive Rate')\n",
    "plt.ylabel('True Positive Rate')\n",
    "plt.title('ROC Curve')"
   ]
  },
  {
   "cell_type": "markdown",
   "metadata": {},
   "source": [
    "### [5.3.2] Applying Logistic Regression with L2 regularization on AVG W2V,<font color='red'> SET 3</font>"
   ]
  },
  {
   "cell_type": "code",
   "execution_count": null,
   "metadata": {},
   "outputs": [],
   "source": [
    "standardizer = std.fit(tfidfw2v_train)"
   ]
  },
  {
   "cell_type": "code",
   "execution_count": null,
   "metadata": {},
   "outputs": [],
   "source": [
    "standard_tfidfw2v_train = standardizer.transform(tfidfw2v_train)"
   ]
  },
  {
   "cell_type": "code",
   "execution_count": 285,
   "metadata": {},
   "outputs": [],
   "source": [
    "standard_tfidfw2v_test = standardizer.transform(tfidfw2v_test)"
   ]
  },
  {
   "cell_type": "code",
   "execution_count": 286,
   "metadata": {},
   "outputs": [],
   "source": [
    "standard_tfidfw2v_cv = standardizer.transform(tfidfw2v_cv)"
   ]
  },
  {
   "cell_type": "code",
   "execution_count": 287,
   "metadata": {},
   "outputs": [],
   "source": [
    "logreg=LogisticRegression(penalty='l2',random_state=42,n_jobs=2)"
   ]
  },
  {
   "cell_type": "code",
   "execution_count": 288,
   "metadata": {},
   "outputs": [],
   "source": [
    "gridvalues = {'C': [0.001,0.01,0.1,1,10,100,1000]}"
   ]
  },
  {
   "cell_type": "code",
   "execution_count": 289,
   "metadata": {},
   "outputs": [],
   "source": [
    "model = GridSearchCV(estimator=logreg, param_grid=gridvalues, scoring='f1',cv=10)"
   ]
  },
  {
   "cell_type": "code",
   "execution_count": 290,
   "metadata": {
    "scrolled": true
   },
   "outputs": [
    {
     "data": {
      "text/plain": [
       "GridSearchCV(cv=10, error_score='raise-deprecating',\n",
       "       estimator=LogisticRegression(C=1.0, class_weight=None, dual=False, fit_intercept=True,\n",
       "          intercept_scaling=1, max_iter=100, multi_class='warn', n_jobs=2,\n",
       "          penalty='l2', random_state=42, solver='warn', tol=0.0001,\n",
       "          verbose=0, warm_start=False),\n",
       "       fit_params=None, iid='warn', n_jobs=None,\n",
       "       param_grid={'C': [0.001, 0.01, 0.1, 1, 10, 100, 1000]},\n",
       "       pre_dispatch='2*n_jobs', refit=True, return_train_score='warn',\n",
       "       scoring='f1', verbose=0)"
      ]
     },
     "execution_count": 290,
     "metadata": {},
     "output_type": "execute_result"
    }
   ],
   "source": [
    "model.fit(standard_tfidfw2v_train, y_train)"
   ]
  },
  {
   "cell_type": "code",
   "execution_count": 291,
   "metadata": {},
   "outputs": [
    {
     "data": {
      "text/plain": [
       "LogisticRegression(C=0.1, class_weight=None, dual=False, fit_intercept=True,\n",
       "          intercept_scaling=1, max_iter=100, multi_class='warn', n_jobs=2,\n",
       "          penalty='l2', random_state=42, solver='warn', tol=0.0001,\n",
       "          verbose=0, warm_start=False)"
      ]
     },
     "execution_count": 291,
     "metadata": {},
     "output_type": "execute_result"
    }
   ],
   "source": [
    "model.best_estimator_"
   ]
  },
  {
   "cell_type": "code",
   "execution_count": 292,
   "metadata": {},
   "outputs": [
    {
     "data": {
      "text/plain": [
       "0.9464326531761904"
      ]
     },
     "execution_count": 292,
     "metadata": {},
     "output_type": "execute_result"
    }
   ],
   "source": [
    "model.best_score_"
   ]
  },
  {
   "cell_type": "markdown",
   "metadata": {},
   "source": [
    "### applying the learned parameters to the model"
   ]
  },
  {
   "cell_type": "code",
   "execution_count": 293,
   "metadata": {},
   "outputs": [],
   "source": [
    "logreg = LogisticRegression(C=0.1, penalty='l2', random_state=42, n_jobs=2)"
   ]
  },
  {
   "cell_type": "code",
   "execution_count": 294,
   "metadata": {
    "scrolled": true
   },
   "outputs": [
    {
     "data": {
      "text/plain": [
       "LogisticRegression(C=0.1, class_weight=None, dual=False, fit_intercept=True,\n",
       "          intercept_scaling=1, max_iter=100, multi_class='warn', n_jobs=2,\n",
       "          penalty='l2', random_state=42, solver='warn', tol=0.0001,\n",
       "          verbose=0, warm_start=False)"
      ]
     },
     "execution_count": 294,
     "metadata": {},
     "output_type": "execute_result"
    }
   ],
   "source": [
    "logreg.fit(standard_tfidfw2v_train, y_train)"
   ]
  },
  {
   "cell_type": "code",
   "execution_count": 295,
   "metadata": {},
   "outputs": [
    {
     "name": "stdout",
     "output_type": "stream",
     "text": [
      "train error is  9.519999999999996\n"
     ]
    }
   ],
   "source": [
    "print('train error is ', 100 - (logreg.score(standard_avgw2v_train, y_train)*100))"
   ]
  },
  {
   "cell_type": "code",
   "execution_count": 296,
   "metadata": {},
   "outputs": [],
   "source": [
    "y_pred = logreg.predict(standard_tfidfw2v_test)"
   ]
  },
  {
   "cell_type": "code",
   "execution_count": 297,
   "metadata": {},
   "outputs": [
    {
     "name": "stdout",
     "output_type": "stream",
     "text": [
      "f1 score for testing set is  88.59000000000002\n"
     ]
    }
   ],
   "source": [
    "print('f1 score for testing set is ', f1_score(y_test, y_pred, average='micro')*100)"
   ]
  },
  {
   "cell_type": "code",
   "execution_count": 298,
   "metadata": {},
   "outputs": [],
   "source": [
    "cmat = confusion_matrix(y_test, y_pred)"
   ]
  },
  {
   "cell_type": "code",
   "execution_count": 299,
   "metadata": {
    "scrolled": true
   },
   "outputs": [
    {
     "data": {
      "text/plain": [
       "<matplotlib.axes._subplots.AxesSubplot at 0x18a51036278>"
      ]
     },
     "execution_count": 299,
     "metadata": {},
     "output_type": "execute_result"
    },
    {
     "data": {
      "image/png": "[encoded data removed]",
      "text/plain": [
       "<Figure size 432x288 with 2 Axes>"
      ]
     },
     "metadata": {},
     "output_type": "display_data"
    }
   ],
   "source": [
    "sns.heatmap(data=cmat,annot=True, fmt=\"d\" ,cmap=\"YlGnBu\" )"
   ]
  },
  {
   "cell_type": "code",
   "execution_count": 300,
   "metadata": {},
   "outputs": [
    {
     "data": {
      "text/plain": [
       "Counter({1: 17326, 0: 2674})"
      ]
     },
     "execution_count": 300,
     "metadata": {},
     "output_type": "execute_result"
    }
   ],
   "source": [
    "Counter(y_test)"
   ]
  },
  {
   "cell_type": "code",
   "execution_count": 301,
   "metadata": {},
   "outputs": [
    {
     "name": "stdout",
     "output_type": "stream",
     "text": [
      "the f1 score on cross validation set is 82%\n"
     ]
    }
   ],
   "source": [
    "f1 = f1_score(y_cv, y_pred, average='micro')*100\n",
    "print('the f1 score on cross validation set is %d%%' %(f1))"
   ]
  },
  {
   "cell_type": "code",
   "execution_count": 302,
   "metadata": {
    "scrolled": false
   },
   "outputs": [
    {
     "name": "stdout",
     "output_type": "stream",
     "text": [
      "the f1 score on test data is 93\n"
     ]
    }
   ],
   "source": [
    "print('the f1 score on test data is', (int(model.score(standard_avgw2v_test, y_test)*100)))"
   ]
  },
  {
   "cell_type": "code",
   "execution_count": 304,
   "metadata": {},
   "outputs": [],
   "source": [
    "y_pred_prob = logreg.predict_proba(standard_avgw2v_test)[:,1]"
   ]
  },
  {
   "cell_type": "code",
   "execution_count": 305,
   "metadata": {},
   "outputs": [
    {
     "data": {
      "text/plain": [
       "(20000,)"
      ]
     },
     "execution_count": 305,
     "metadata": {},
     "output_type": "execute_result"
    }
   ],
   "source": [
    "y_pred_prob.shape"
   ]
  },
  {
   "cell_type": "code",
   "execution_count": 306,
   "metadata": {},
   "outputs": [],
   "source": [
    "from sklearn.metrics import roc_curve,roc_auc_score"
   ]
  },
  {
   "cell_type": "code",
   "execution_count": 307,
   "metadata": {},
   "outputs": [],
   "source": [
    "fpr, tpr, thresholds = roc_curve(y_test, y_pred_prob)"
   ]
  },
  {
   "cell_type": "code",
   "execution_count": 308,
   "metadata": {
    "scrolled": true
   },
   "outputs": [
    {
     "data": {
      "text/plain": [
       "Text(0.5,1,'ROC Curve')"
      ]
     },
     "execution_count": 308,
     "metadata": {},
     "output_type": "execute_result"
    },
    {
     "data": {
      "image/png": "[encoded data removed]",
      "text/plain": [
       "<Figure size 432x288 with 1 Axes>"
      ]
     },
     "metadata": {},
     "output_type": "display_data"
    }
   ],
   "source": [
    "plt.plot([0, 1], [0, 1], 'k--')\n",
    "plt.plot(fpr, tpr)\n",
    "plt.xlabel('False Positive Rate')\n",
    "plt.ylabel('True Positive Rate')\n",
    "plt.title('ROC Curve')"
   ]
  },
  {
   "cell_type": "markdown",
   "metadata": {},
   "source": [
    "#### L2 with random search"
   ]
  },
  {
   "cell_type": "code",
   "execution_count": 245,
   "metadata": {},
   "outputs": [],
   "source": [
    "logreg = LogisticRegression(penalty='l2',random_state=42,n_jobs=2)"
   ]
  },
  {
   "cell_type": "code",
   "execution_count": 247,
   "metadata": {},
   "outputs": [],
   "source": [
    "from scipy.stats import uniform"
   ]
  },
  {
   "cell_type": "code",
   "execution_count": 248,
   "metadata": {},
   "outputs": [],
   "source": [
    "params={'C': uniform()}"
   ]
  },
  {
   "cell_type": "code",
   "execution_count": 249,
   "metadata": {},
   "outputs": [],
   "source": [
    "randmodel = RandomizedSearchCV(estimator=logreg, param_distributions=params, scoring='f1', cv=10)"
   ]
  },
  {
   "cell_type": "code",
   "execution_count": 250,
   "metadata": {
    "scrolled": true
   },
   "outputs": [
    {
     "data": {
      "text/plain": [
       "RandomizedSearchCV(cv=10, error_score='raise-deprecating',\n",
       "          estimator=LogisticRegression(C=1.0, class_weight=None, dual=False, fit_intercept=True,\n",
       "          intercept_scaling=1, max_iter=100, multi_class='warn', n_jobs=2,\n",
       "          penalty='l2', random_state=42, solver='warn', tol=0.0001,\n",
       "          verbose=0, warm_start=False),\n",
       "          fit_params=None, iid='warn', n_iter=10, n_jobs=None,\n",
       "          param_distributions={'C': <scipy.stats._distn_infrastructure.rv_frozen object at 0x0000018A4FA53DA0>},\n",
       "          pre_dispatch='2*n_jobs', random_state=None, refit=True,\n",
       "          return_train_score='warn', scoring='f1', verbose=0)"
      ]
     },
     "execution_count": 250,
     "metadata": {},
     "output_type": "execute_result"
    }
   ],
   "source": [
    "randmodel.fit(standard_avgw2v_train, y_train)"
   ]
  },
  {
   "cell_type": "code",
   "execution_count": 251,
   "metadata": {
    "scrolled": true
   },
   "outputs": [
    {
     "data": {
      "text/plain": [
       "LogisticRegression(C=0.3253700401329864, class_weight=None, dual=False,\n",
       "          fit_intercept=True, intercept_scaling=1, max_iter=100,\n",
       "          multi_class='warn', n_jobs=2, penalty='l2', random_state=42,\n",
       "          solver='warn', tol=0.0001, verbose=0, warm_start=False)"
      ]
     },
     "execution_count": 251,
     "metadata": {},
     "output_type": "execute_result"
    }
   ],
   "source": [
    "randmodel.best_estimator_"
   ]
  },
  {
   "cell_type": "code",
   "execution_count": 252,
   "metadata": {},
   "outputs": [
    {
     "data": {
      "text/plain": [
       "0.9501465106217293"
      ]
     },
     "execution_count": 252,
     "metadata": {},
     "output_type": "execute_result"
    }
   ],
   "source": [
    "randmodel.best_score_"
   ]
  },
  {
   "cell_type": "markdown",
   "metadata": {},
   "source": [
    "### Building Logistic regression model based on result from RandomSearch"
   ]
  },
  {
   "cell_type": "code",
   "execution_count": 253,
   "metadata": {},
   "outputs": [],
   "source": [
    "logreg = LogisticRegression(C=0.3253700401329864,penalty='l2',random_state=42,n_jobs=2)"
   ]
  },
  {
   "cell_type": "code",
   "execution_count": 254,
   "metadata": {},
   "outputs": [
    {
     "data": {
      "text/plain": [
       "LogisticRegression(C=0.3253700401329864, class_weight=None, dual=False,\n",
       "          fit_intercept=True, intercept_scaling=1, max_iter=100,\n",
       "          multi_class='warn', n_jobs=2, penalty='l2', random_state=42,\n",
       "          solver='warn', tol=0.0001, verbose=0, warm_start=False)"
      ]
     },
     "execution_count": 254,
     "metadata": {},
     "output_type": "execute_result"
    }
   ],
   "source": [
    "logreg.fit(standard_avgw2v_train, y_train)"
   ]
  },
  {
   "cell_type": "code",
   "execution_count": 255,
   "metadata": {},
   "outputs": [],
   "source": [
    "y_pred = logreg.predict(standard_avgw2v_test)"
   ]
  },
  {
   "cell_type": "code",
   "execution_count": 256,
   "metadata": {},
   "outputs": [
    {
     "name": "stdout",
     "output_type": "stream",
     "text": [
      "f1 score for testing set in randomsearch with l2 regularization is  0.942960489705064\n"
     ]
    }
   ],
   "source": [
    "print('f1 score for testing set in randomsearch with l2 regularization is ', f1_score(y_test, y_pred))"
   ]
  },
  {
   "cell_type": "code",
   "execution_count": 257,
   "metadata": {
    "scrolled": true
   },
   "outputs": [
    {
     "name": "stdout",
     "output_type": "stream",
     "text": [
      "score on the test data is 0.942960489705064\n"
     ]
    }
   ],
   "source": [
    "print('score on the test data is',(randmodel.score(standard_avgw2v_test, y_test)))"
   ]
  },
  {
   "cell_type": "markdown",
   "metadata": {},
   "source": [
    "### Performance measures"
   ]
  },
  {
   "cell_type": "code",
   "execution_count": 258,
   "metadata": {},
   "outputs": [],
   "source": [
    "cmat = confusion_matrix(y_test, y_pred)"
   ]
  },
  {
   "cell_type": "code",
   "execution_count": 259,
   "metadata": {
    "scrolled": true
   },
   "outputs": [
    {
     "data": {
      "text/plain": [
       "<matplotlib.axes._subplots.AxesSubplot at 0x18a5234cb70>"
      ]
     },
     "execution_count": 259,
     "metadata": {},
     "output_type": "execute_result"
    },
    {
     "data": {
      "image/png": "[encoded data removed]",
      "text/plain": [
       "<Figure size 432x288 with 2 Axes>"
      ]
     },
     "metadata": {},
     "output_type": "display_data"
    }
   ],
   "source": [
    "sns.heatmap(data=cmat,annot=True, fmt=\"d\" ,cmap=\"YlGnBu\" )"
   ]
  },
  {
   "cell_type": "code",
   "execution_count": 260,
   "metadata": {
    "scrolled": true
   },
   "outputs": [
    {
     "data": {
      "text/plain": [
       "Counter({1: 17326, 0: 2674})"
      ]
     },
     "execution_count": 260,
     "metadata": {},
     "output_type": "execute_result"
    }
   ],
   "source": [
    "Counter(y_test)"
   ]
  },
  {
   "cell_type": "code",
   "execution_count": 261,
   "metadata": {},
   "outputs": [
    {
     "name": "stdout",
     "output_type": "stream",
     "text": [
      "precision score for test set is  91.03363060062318\n"
     ]
    }
   ],
   "source": [
    "print('precision score for test set is ',(precision_score(y_test, y_pred)*100))"
   ]
  },
  {
   "cell_type": "code",
   "execution_count": 262,
   "metadata": {},
   "outputs": [
    {
     "name": "stdout",
     "output_type": "stream",
     "text": [
      "recall score for test set is  97.80099272769249\n"
     ]
    }
   ],
   "source": [
    "print('recall score for test set is ',(recall_score(y_test, y_pred)*100))"
   ]
  },
  {
   "cell_type": "code",
   "execution_count": 263,
   "metadata": {},
   "outputs": [
    {
     "name": "stdout",
     "output_type": "stream",
     "text": [
      "fbeta score for test set is  89.75000000000001\n"
     ]
    }
   ],
   "source": [
    "print('fbeta score for test set is ',(fbeta_score(y_test, y_pred, beta=0.5,average='micro')*100))"
   ]
  },
  {
   "cell_type": "code",
   "execution_count": 3,
   "metadata": {},
   "outputs": [],
   "source": [
    "# Please write all the code with proper documentation"
   ]
  },
  {
   "cell_type": "markdown",
   "metadata": {},
   "source": [
    "## [5.4] Logistic Regression on TFIDF W2V,<font color='red'> SET 4</font>"
   ]
  },
  {
   "cell_type": "markdown",
   "metadata": {},
   "source": [
    "### [5.4.1] Applying Logistic Regression with L1 regularization on TFIDF W2V,<font color='red'> SET 4</font>"
   ]
  },
  {
   "cell_type": "code",
   "execution_count": null,
   "metadata": {},
   "outputs": [],
   "source": [
    "logreg = LogisticRegression(penalty='l1',random_state=42,n_jobs=2)"
   ]
  },
  {
   "cell_type": "code",
   "execution_count": 265,
   "metadata": {},
   "outputs": [],
   "source": [
    "params={'C': uniform()}"
   ]
  },
  {
   "cell_type": "code",
   "execution_count": 266,
   "metadata": {},
   "outputs": [],
   "source": [
    "randmodel = RandomizedSearchCV(estimator=logreg, param_distributions=params, scoring='f1', cv=10)"
   ]
  },
  {
   "cell_type": "code",
   "execution_count": 267,
   "metadata": {
    "scrolled": true
   },
   "outputs": [
    {
     "data": {
      "text/plain": [
       "RandomizedSearchCV(cv=10, error_score='raise-deprecating',\n",
       "          estimator=LogisticRegression(C=1.0, class_weight=None, dual=False, fit_intercept=True,\n",
       "          intercept_scaling=1, max_iter=100, multi_class='warn', n_jobs=2,\n",
       "          penalty='l1', random_state=42, solver='warn', tol=0.0001,\n",
       "          verbose=0, warm_start=False),\n",
       "          fit_params=None, iid='warn', n_iter=10, n_jobs=None,\n",
       "          param_distributions={'C': <scipy.stats._distn_infrastructure.rv_frozen object at 0x0000018A50DA76A0>},\n",
       "          pre_dispatch='2*n_jobs', random_state=None, refit=True,\n",
       "          return_train_score='warn', scoring='f1', verbose=0)"
      ]
     },
     "execution_count": 267,
     "metadata": {},
     "output_type": "execute_result"
    }
   ],
   "source": [
    "randmodel.fit(standard_avgw2v_train, y_train)"
   ]
  },
  {
   "cell_type": "code",
   "execution_count": 268,
   "metadata": {},
   "outputs": [
    {
     "data": {
      "text/plain": [
       "LogisticRegression(C=0.953575729870462, class_weight=None, dual=False,\n",
       "          fit_intercept=True, intercept_scaling=1, max_iter=100,\n",
       "          multi_class='warn', n_jobs=2, penalty='l1', random_state=42,\n",
       "          solver='warn', tol=0.0001, verbose=0, warm_start=False)"
      ]
     },
     "execution_count": 268,
     "metadata": {},
     "output_type": "execute_result"
    }
   ],
   "source": [
    "randmodel.best_estimator_"
   ]
  },
  {
   "cell_type": "markdown",
   "metadata": {},
   "source": [
    "### Building Logistic regression model based on result from RandomSearch"
   ]
  },
  {
   "cell_type": "code",
   "execution_count": 269,
   "metadata": {},
   "outputs": [],
   "source": [
    "logreg = LogisticRegression(C=0.953575729870462,penalty='l1',random_state=42,n_jobs=2)"
   ]
  },
  {
   "cell_type": "code",
   "execution_count": 270,
   "metadata": {},
   "outputs": [
    {
     "data": {
      "text/plain": [
       "LogisticRegression(C=0.953575729870462, class_weight=None, dual=False,\n",
       "          fit_intercept=True, intercept_scaling=1, max_iter=100,\n",
       "          multi_class='warn', n_jobs=2, penalty='l1', random_state=42,\n",
       "          solver='warn', tol=0.0001, verbose=0, warm_start=False)"
      ]
     },
     "execution_count": 270,
     "metadata": {},
     "output_type": "execute_result"
    }
   ],
   "source": [
    "logreg.fit(standard_avgw2v_train, y_train)"
   ]
  },
  {
   "cell_type": "code",
   "execution_count": 271,
   "metadata": {},
   "outputs": [],
   "source": [
    "y_pred = logreg.predict(standard_avgw2v_test)"
   ]
  },
  {
   "cell_type": "code",
   "execution_count": 272,
   "metadata": {},
   "outputs": [
    {
     "name": "stdout",
     "output_type": "stream",
     "text": [
      "f1 score for testing set in randomsearch with l2 regularization is  0.942852373268043\n"
     ]
    }
   ],
   "source": [
    "print('f1 score for testing set in randomsearch with l2 regularization is ', f1_score(y_test, y_pred))"
   ]
  },
  {
   "cell_type": "code",
   "execution_count": 274,
   "metadata": {
    "scrolled": true
   },
   "outputs": [
    {
     "name": "stdout",
     "output_type": "stream",
     "text": [
      "score on the test data is 0.942852373268043\n"
     ]
    }
   ],
   "source": [
    "print('score on the test data is',(randmodel.score(standard_avgw2v_test, y_test)))"
   ]
  },
  {
   "cell_type": "markdown",
   "metadata": {},
   "source": [
    "### Performance measures"
   ]
  },
  {
   "cell_type": "code",
   "execution_count": 275,
   "metadata": {},
   "outputs": [],
   "source": [
    "cmat = confusion_matrix(y_test, y_pred)"
   ]
  },
  {
   "cell_type": "code",
   "execution_count": 276,
   "metadata": {
    "scrolled": true
   },
   "outputs": [
    {
     "data": {
      "text/plain": [
       "<matplotlib.axes._subplots.AxesSubplot at 0x18a50f0e0f0>"
      ]
     },
     "execution_count": 276,
     "metadata": {},
     "output_type": "execute_result"
    },
    {
     "data": {
      "image/png": "[encoded data removed]",
      "text/plain": [
       "<Figure size 432x288 with 2 Axes>"
      ]
     },
     "metadata": {},
     "output_type": "display_data"
    }
   ],
   "source": [
    "sns.heatmap(data=cmat,annot=True, fmt=\"d\" ,cmap=\"YlGnBu\" )"
   ]
  },
  {
   "cell_type": "code",
   "execution_count": 277,
   "metadata": {
    "scrolled": true
   },
   "outputs": [
    {
     "data": {
      "text/plain": [
       "Counter({1: 17326, 0: 2674})"
      ]
     },
     "execution_count": 277,
     "metadata": {},
     "output_type": "execute_result"
    }
   ],
   "source": [
    "Counter(y_test)"
   ]
  },
  {
   "cell_type": "code",
   "execution_count": 278,
   "metadata": {},
   "outputs": [
    {
     "name": "stdout",
     "output_type": "stream",
     "text": [
      "precision score for test set is  91.01847872797593\n"
     ]
    }
   ],
   "source": [
    "print('precision score for test set is ',(precision_score(y_test, y_pred)*100))"
   ]
  },
  {
   "cell_type": "code",
   "execution_count": 279,
   "metadata": {},
   "outputs": [
    {
     "name": "stdout",
     "output_type": "stream",
     "text": [
      "recall score for test set is  97.79522105506176\n"
     ]
    }
   ],
   "source": [
    "print('recall score for test set is ',(recall_score(y_test, y_pred)*100))"
   ]
  },
  {
   "cell_type": "code",
   "execution_count": 280,
   "metadata": {},
   "outputs": [
    {
     "name": "stdout",
     "output_type": "stream",
     "text": [
      "fbeta score for test set is  89.73\n"
     ]
    }
   ],
   "source": [
    "print('fbeta score for test set is ',(fbeta_score(y_test, y_pred, beta=0.5,average='micro')*100))"
   ]
  },
  {
   "cell_type": "code",
   "execution_count": 383,
   "metadata": {},
   "outputs": [],
   "source": [
    "y_pred_prob = logreg.predict_proba(standard_tfidfw2v_test)[:,1]"
   ]
  },
  {
   "cell_type": "code",
   "execution_count": 384,
   "metadata": {},
   "outputs": [
    {
     "data": {
      "text/plain": [
       "(20000,)"
      ]
     },
     "execution_count": 384,
     "metadata": {},
     "output_type": "execute_result"
    }
   ],
   "source": [
    "y_pred_prob.shape"
   ]
  },
  {
   "cell_type": "code",
   "execution_count": 385,
   "metadata": {},
   "outputs": [],
   "source": [
    "from sklearn.metrics import roc_curve,roc_auc_score"
   ]
  },
  {
   "cell_type": "code",
   "execution_count": 386,
   "metadata": {},
   "outputs": [],
   "source": [
    "fpr, tpr, thresholds = roc_curve(y_test, y_pred_prob)"
   ]
  },
  {
   "cell_type": "code",
   "execution_count": 387,
   "metadata": {
    "scrolled": true
   },
   "outputs": [
    {
     "data": {
      "text/plain": [
       "Text(0.5,1,'ROC Curve')"
      ]
     },
     "execution_count": 387,
     "metadata": {},
     "output_type": "execute_result"
    },
    {
     "data": {
      "image/png": "[encoded data removed]",
      "text/plain": [
       "<Figure size 432x288 with 1 Axes>"
      ]
     },
     "metadata": {},
     "output_type": "display_data"
    }
   ],
   "source": [
    "plt.plot([0, 1], [0, 1], 'k--')\n",
    "plt.plot(fpr, tpr)\n",
    "plt.xlabel('False Positive Rate')\n",
    "plt.ylabel('True Positive Rate')\n",
    "plt.title('ROC Curve')"
   ]
  },
  {
   "cell_type": "code",
   "execution_count": 3,
   "metadata": {},
   "outputs": [],
   "source": [
    "# Please write all the code with proper documentation"
   ]
  },
  {
   "cell_type": "markdown",
   "metadata": {},
   "source": [
    "### [5.4.2] Applying Logistic Regression with L2 regularization on TFIDF W2V,<font color='red'> SET 4</font>"
   ]
  },
  {
   "cell_type": "code",
   "execution_count": 283,
   "metadata": {},
   "outputs": [],
   "source": [
    "standardizer = std.fit(tfidfw2v_train)"
   ]
  },
  {
   "cell_type": "code",
   "execution_count": 284,
   "metadata": {},
   "outputs": [],
   "source": [
    "standard_tfidfw2v_train = standardizer.transform(tfidfw2v_train)"
   ]
  },
  {
   "cell_type": "code",
   "execution_count": 285,
   "metadata": {},
   "outputs": [],
   "source": [
    "standard_tfidfw2v_test = standardizer.transform(tfidfw2v_test)"
   ]
  },
  {
   "cell_type": "code",
   "execution_count": 286,
   "metadata": {},
   "outputs": [],
   "source": [
    "standard_tfidfw2v_cv = standardizer.transform(tfidfw2v_cv)"
   ]
  },
  {
   "cell_type": "code",
   "execution_count": 287,
   "metadata": {},
   "outputs": [],
   "source": [
    "logreg=LogisticRegression(penalty='l2',random_state=42,n_jobs=2)"
   ]
  },
  {
   "cell_type": "code",
   "execution_count": 288,
   "metadata": {},
   "outputs": [],
   "source": [
    "gridvalues = {'C': [0.001,0.01,0.1,1,10,100,1000]}"
   ]
  },
  {
   "cell_type": "code",
   "execution_count": 289,
   "metadata": {},
   "outputs": [],
   "source": [
    "model = GridSearchCV(estimator=logreg, param_grid=gridvalues, scoring='f1',cv=10)"
   ]
  },
  {
   "cell_type": "code",
   "execution_count": 290,
   "metadata": {
    "scrolled": true
   },
   "outputs": [
    {
     "data": {
      "text/plain": [
       "GridSearchCV(cv=10, error_score='raise-deprecating',\n",
       "       estimator=LogisticRegression(C=1.0, class_weight=None, dual=False, fit_intercept=True,\n",
       "          intercept_scaling=1, max_iter=100, multi_class='warn', n_jobs=2,\n",
       "          penalty='l2', random_state=42, solver='warn', tol=0.0001,\n",
       "          verbose=0, warm_start=False),\n",
       "       fit_params=None, iid='warn', n_jobs=None,\n",
       "       param_grid={'C': [0.001, 0.01, 0.1, 1, 10, 100, 1000]},\n",
       "       pre_dispatch='2*n_jobs', refit=True, return_train_score='warn',\n",
       "       scoring='f1', verbose=0)"
      ]
     },
     "execution_count": 290,
     "metadata": {},
     "output_type": "execute_result"
    }
   ],
   "source": [
    "model.fit(standard_tfidfw2v_train, y_train)"
   ]
  },
  {
   "cell_type": "code",
   "execution_count": 291,
   "metadata": {},
   "outputs": [
    {
     "data": {
      "text/plain": [
       "LogisticRegression(C=0.1, class_weight=None, dual=False, fit_intercept=True,\n",
       "          intercept_scaling=1, max_iter=100, multi_class='warn', n_jobs=2,\n",
       "          penalty='l2', random_state=42, solver='warn', tol=0.0001,\n",
       "          verbose=0, warm_start=False)"
      ]
     },
     "execution_count": 291,
     "metadata": {},
     "output_type": "execute_result"
    }
   ],
   "source": [
    "model.best_estimator_"
   ]
  },
  {
   "cell_type": "code",
   "execution_count": 292,
   "metadata": {},
   "outputs": [
    {
     "data": {
      "text/plain": [
       "0.9464326531761904"
      ]
     },
     "execution_count": 292,
     "metadata": {},
     "output_type": "execute_result"
    }
   ],
   "source": [
    "model.best_score_"
   ]
  },
  {
   "cell_type": "markdown",
   "metadata": {},
   "source": [
    "### applying the learned parameters to the model"
   ]
  },
  {
   "cell_type": "code",
   "execution_count": 293,
   "metadata": {},
   "outputs": [],
   "source": [
    "logreg = LogisticRegression(C=0.1, penalty='l2', random_state=42, n_jobs=2)"
   ]
  },
  {
   "cell_type": "code",
   "execution_count": 294,
   "metadata": {
    "scrolled": true
   },
   "outputs": [
    {
     "data": {
      "text/plain": [
       "LogisticRegression(C=0.1, class_weight=None, dual=False, fit_intercept=True,\n",
       "          intercept_scaling=1, max_iter=100, multi_class='warn', n_jobs=2,\n",
       "          penalty='l2', random_state=42, solver='warn', tol=0.0001,\n",
       "          verbose=0, warm_start=False)"
      ]
     },
     "execution_count": 294,
     "metadata": {},
     "output_type": "execute_result"
    }
   ],
   "source": [
    "logreg.fit(standard_tfidfw2v_train, y_train)"
   ]
  },
  {
   "cell_type": "code",
   "execution_count": 295,
   "metadata": {},
   "outputs": [
    {
     "name": "stdout",
     "output_type": "stream",
     "text": [
      "train error is  9.519999999999996\n"
     ]
    }
   ],
   "source": [
    "print('train error is ', 100 - (logreg.score(standard_avgw2v_train, y_train)*100))"
   ]
  },
  {
   "cell_type": "code",
   "execution_count": 296,
   "metadata": {},
   "outputs": [],
   "source": [
    "y_pred = logreg.predict(standard_tfidfw2v_test)"
   ]
  },
  {
   "cell_type": "code",
   "execution_count": 297,
   "metadata": {},
   "outputs": [
    {
     "name": "stdout",
     "output_type": "stream",
     "text": [
      "f1 score for testing set is  88.59000000000002\n"
     ]
    }
   ],
   "source": [
    "print('f1 score for testing set is ', f1_score(y_test, y_pred, average='micro')*100)"
   ]
  },
  {
   "cell_type": "code",
   "execution_count": 298,
   "metadata": {},
   "outputs": [],
   "source": [
    "cmat = confusion_matrix(y_test, y_pred)"
   ]
  },
  {
   "cell_type": "code",
   "execution_count": 299,
   "metadata": {
    "scrolled": true
   },
   "outputs": [
    {
     "data": {
      "text/plain": [
       "<matplotlib.axes._subplots.AxesSubplot at 0x18a51036278>"
      ]
     },
     "execution_count": 299,
     "metadata": {},
     "output_type": "execute_result"
    },
    {
     "data": {
      "image/png": "[encoded data removed]",
      "text/plain": [
       "<Figure size 432x288 with 2 Axes>"
      ]
     },
     "metadata": {},
     "output_type": "display_data"
    }
   ],
   "source": [
    "sns.heatmap(data=cmat,annot=True, fmt=\"d\" ,cmap=\"YlGnBu\" )"
   ]
  },
  {
   "cell_type": "code",
   "execution_count": 300,
   "metadata": {},
   "outputs": [
    {
     "data": {
      "text/plain": [
       "Counter({1: 17326, 0: 2674})"
      ]
     },
     "execution_count": 300,
     "metadata": {},
     "output_type": "execute_result"
    }
   ],
   "source": [
    "Counter(y_test)"
   ]
  },
  {
   "cell_type": "code",
   "execution_count": 301,
   "metadata": {},
   "outputs": [
    {
     "name": "stdout",
     "output_type": "stream",
     "text": [
      "the f1 score on cross validation set is 82%\n"
     ]
    }
   ],
   "source": [
    "f1 = f1_score(y_cv, y_pred, average='micro')*100\n",
    "print('the f1 score on cross validation set is %d%%' %(f1))"
   ]
  },
  {
   "cell_type": "code",
   "execution_count": 302,
   "metadata": {
    "scrolled": false
   },
   "outputs": [
    {
     "name": "stdout",
     "output_type": "stream",
     "text": [
      "the f1 score on test data is 93\n"
     ]
    }
   ],
   "source": [
    "print('the f1 score on test data is', (int(model.score(standard_avgw2v_test, y_test)*100)))"
   ]
  },
  {
   "cell_type": "code",
   "execution_count": 362,
   "metadata": {},
   "outputs": [],
   "source": [
    "y_pred_prob = logreg.predict_proba(standard_tfidfw2v_test)[:,1]"
   ]
  },
  {
   "cell_type": "code",
   "execution_count": 363,
   "metadata": {},
   "outputs": [
    {
     "data": {
      "text/plain": [
       "(20000,)"
      ]
     },
     "execution_count": 363,
     "metadata": {},
     "output_type": "execute_result"
    }
   ],
   "source": [
    "y_pred_prob.shape"
   ]
  },
  {
   "cell_type": "code",
   "execution_count": 364,
   "metadata": {},
   "outputs": [],
   "source": [
    "from sklearn.metrics import roc_curve,roc_auc_score"
   ]
  },
  {
   "cell_type": "code",
   "execution_count": 365,
   "metadata": {},
   "outputs": [],
   "source": [
    "fpr, tpr, thresholds = roc_curve(y_test, y_pred_prob)"
   ]
  },
  {
   "cell_type": "code",
   "execution_count": 366,
   "metadata": {
    "scrolled": true
   },
   "outputs": [
    {
     "data": {
      "text/plain": [
       "Text(0.5,1,'ROC Curve')"
      ]
     },
     "execution_count": 366,
     "metadata": {},
     "output_type": "execute_result"
    },
    {
     "data": {
      "image/png": "[encoded data removed]",
      "text/plain": [
       "<Figure size 432x288 with 1 Axes>"
      ]
     },
     "metadata": {},
     "output_type": "display_data"
    }
   ],
   "source": [
    "plt.plot([0, 1], [0, 1], 'k--')\n",
    "plt.plot(fpr, tpr)\n",
    "plt.xlabel('False Positive Rate')\n",
    "plt.ylabel('True Positive Rate')\n",
    "plt.title('ROC Curve')"
   ]
  },
  {
   "cell_type": "code",
   "execution_count": 3,
   "metadata": {},
   "outputs": [],
   "source": [
    "# Please write all the code with proper documentation"
   ]
  },
  {
   "cell_type": "markdown",
   "metadata": {},
   "source": [
    "# [6] Conclusions"
   ]
  },
  {
   "cell_type": "code",
   "execution_count": 2,
   "metadata": {},
   "outputs": [],
   "source": [
    "import pandas as pd"
   ]
  },
  {
   "cell_type": "code",
   "execution_count": 5,
   "metadata": {},
   "outputs": [],
   "source": [
    "from prettytable import PrettyTable"
   ]
  },
  {
   "cell_type": "code",
   "execution_count": 26,
   "metadata": {},
   "outputs": [],
   "source": [
    "x = PrettyTable()"
   ]
  },
  {
   "cell_type": "code",
   "execution_count": 27,
   "metadata": {},
   "outputs": [],
   "source": [
    "x.field_names = ['regularizer','vectorizer', 'f1score', 'precision', 'recall']"
   ]
  },
  {
   "cell_type": "code",
   "execution_count": 43,
   "metadata": {},
   "outputs": [],
   "source": [
    "x.add_row(['l1', 'avgw2v',89,94,94])"
   ]
  },
  {
   "cell_type": "code",
   "execution_count": 41,
   "metadata": {},
   "outputs": [],
   "source": [
    "x.del_row(5)"
   ]
  },
  {
   "cell_type": "code",
   "execution_count": 44,
   "metadata": {},
   "outputs": [
    {
     "name": "stdout",
     "output_type": "stream",
     "text": [
      "+-------------+------------+---------+-----------+--------+\n",
      "| regularizer | vectorizer | f1score | precision | recall |\n",
      "+-------------+------------+---------+-----------+--------+\n",
      "|      l1     |    bow     |    91   |     93    |   97   |\n",
      "|      l2     |    bow     |    91   |     93    |   97   |\n",
      "|      l1     |   tfidf    |    85   |     87    |   97   |\n",
      "|      l2     |   tfidf    |    85   |     87    |   97   |\n",
      "|      l1     |   avgw2v   |    89   |     81    |   94   |\n",
      "|      l1     |  tfidfw2v  |    94   |     91    |   97   |\n",
      "|      l2     |  tfidfw2v  |    93   |     83    |   87   |\n",
      "|      l1     |   avgw2v   |    89   |     94    |   94   |\n",
      "+-------------+------------+---------+-----------+--------+\n"
     ]
    }
   ],
   "source": [
    "print(x)"
   ]
  },
  {
   "cell_type": "markdown",
   "metadata": {},
   "source": [
    "### conclusion"
   ]
  },
  {
   "cell_type": "markdown",
   "metadata": {},
   "source": [
    "Eventhough over model performed poor at some situations. I feel this can be improved to some extent by doing some extensive hyperparameter tuning and feature engineering if needed. This should improve the model's performance"
   ]
  },
  {
   "cell_type": "code",
   "execution_count": null,
   "metadata": {},
   "outputs": [],
   "source": []
  }
 ],
 "metadata": {
  "kernelspec": {
   "display_name": "Python 3",
   "language": "python",
   "name": "python3"
  },
  "language_info": {
   "codemirror_mode": {
    "name": "ipython",
    "version": 3
   },
   "file_extension": ".py",
   "mimetype": "text/x-python",
   "name": "python",
   "nbconvert_exporter": "python",
   "pygments_lexer": "ipython3",
   "version": "3.6.7"
  }
 },
 "nbformat": 4,
 "nbformat_minor": 2
}
