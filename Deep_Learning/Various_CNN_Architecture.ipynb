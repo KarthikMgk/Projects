{
 "cells": [
  {
   "cell_type": "code",
   "execution_count": 0,
   "metadata": {
    "colab": {},
    "colab_type": "code",
    "id": "A33m3PRkE9MC"
   },
   "outputs": [],
   "source": [
    "from keras.preprocessing.image import ImageDataGenerator\n",
    "from keras.models import Sequential\n",
    "from keras.layers import Conv2D, MaxPooling2D\n",
    "from keras.layers import Activation, Dropout, Flatten, Dense\n",
    "from keras import backend as K\n",
    "from keras.datasets import mnist\n",
    "import keras\n",
    "from sklearn.model_selection import train_test_split"
   ]
  },
  {
   "cell_type": "code",
   "execution_count": 0,
   "metadata": {
    "colab": {},
    "colab_type": "code",
    "id": "GxWox3U4OPvX"
   },
   "outputs": [],
   "source": [
    "(x_train, y_train), (x_test, y_test) = mnist.load_data()"
   ]
  },
  {
   "cell_type": "code",
   "execution_count": 68,
   "metadata": {
    "colab": {
     "base_uri": "https://localhost:8080/",
     "height": 34
    },
    "colab_type": "code",
    "id": "Ujb3AIyaSvrJ",
    "outputId": "a269759c-a750-4bf0-b38b-c97c740d5f92"
   },
   "outputs": [
    {
     "data": {
      "text/plain": [
       "(60000, 28, 28)"
      ]
     },
     "execution_count": 68,
     "metadata": {
      "tags": []
     },
     "output_type": "execute_result"
    }
   ],
   "source": [
    "x_train.shape"
   ]
  },
  {
   "cell_type": "code",
   "execution_count": 69,
   "metadata": {
    "colab": {
     "base_uri": "https://localhost:8080/",
     "height": 34
    },
    "colab_type": "code",
    "id": "gpK4RP2zSyLH",
    "outputId": "b7c020ac-9916-4c3d-f6dd-8bca94b71bca"
   },
   "outputs": [
    {
     "data": {
      "text/plain": [
       "(28, 28)"
      ]
     },
     "execution_count": 69,
     "metadata": {
      "tags": []
     },
     "output_type": "execute_result"
    }
   ],
   "source": [
    "x_train[0].shape"
   ]
  },
  {
   "cell_type": "code",
   "execution_count": 0,
   "metadata": {
    "colab": {},
    "colab_type": "code",
    "id": "9shOFithRZ6n"
   },
   "outputs": [],
   "source": [
    "img_rows = 28\n",
    "img_cols = 28"
   ]
  },
  {
   "cell_type": "code",
   "execution_count": 71,
   "metadata": {
    "colab": {
     "base_uri": "https://localhost:8080/",
     "height": 34
    },
    "colab_type": "code",
    "id": "NH4pB7RUSoF6",
    "outputId": "69e8b290-b497-40a6-d2d1-58935aa8093d"
   },
   "outputs": [
    {
     "data": {
      "text/plain": [
       "(60000, 28, 28)"
      ]
     },
     "execution_count": 71,
     "metadata": {
      "tags": []
     },
     "output_type": "execute_result"
    }
   ],
   "source": [
    "x_train.shape"
   ]
  },
  {
   "cell_type": "code",
   "execution_count": 72,
   "metadata": {
    "colab": {
     "base_uri": "https://localhost:8080/",
     "height": 34
    },
    "colab_type": "code",
    "id": "JE8W3ewBS7tI",
    "outputId": "7d5b35d7-4d9a-48a5-c743-49b8e3b39ead"
   },
   "outputs": [
    {
     "data": {
      "text/plain": [
       "(28, 28)"
      ]
     },
     "execution_count": 72,
     "metadata": {
      "tags": []
     },
     "output_type": "execute_result"
    }
   ],
   "source": [
    "x_train[0].shape"
   ]
  },
  {
   "cell_type": "code",
   "execution_count": 0,
   "metadata": {
    "colab": {},
    "colab_type": "code",
    "id": "T5bAsHL7Eb6l"
   },
   "outputs": [],
   "source": [
    "x_train, x_cv, y_train, y_cv = train_test_split(x_train, y_train, test_size=0.3)"
   ]
  },
  {
   "cell_type": "code",
   "execution_count": 74,
   "metadata": {
    "colab": {
     "base_uri": "https://localhost:8080/",
     "height": 34
    },
    "colab_type": "code",
    "id": "IvVR5k1vE0UW",
    "outputId": "c2c57d36-33ba-440f-d39d-1d26c9f1e431"
   },
   "outputs": [
    {
     "data": {
      "text/plain": [
       "(28, 28)"
      ]
     },
     "execution_count": 74,
     "metadata": {
      "tags": []
     },
     "output_type": "execute_result"
    }
   ],
   "source": [
    "x_train[0].shape"
   ]
  },
  {
   "cell_type": "code",
   "execution_count": 75,
   "metadata": {
    "colab": {
     "base_uri": "https://localhost:8080/",
     "height": 34
    },
    "colab_type": "code",
    "id": "YjWZxuc2HJA0",
    "outputId": "c4818283-1433-4990-b3fd-a7ffac4c0da0"
   },
   "outputs": [
    {
     "data": {
      "text/plain": [
       "(28, 28)"
      ]
     },
     "execution_count": 75,
     "metadata": {
      "tags": []
     },
     "output_type": "execute_result"
    }
   ],
   "source": [
    "x_cv[0].shape"
   ]
  },
  {
   "cell_type": "code",
   "execution_count": 0,
   "metadata": {
    "colab": {},
    "colab_type": "code",
    "id": "lmgDT0RPP227"
   },
   "outputs": [],
   "source": [
    "batch_size = 128\n",
    "num_classes = 10\n",
    "epochs = 12\n",
    "\n",
    "img_rows, img_cols = 28, 28"
   ]
  },
  {
   "cell_type": "code",
   "execution_count": 78,
   "metadata": {
    "colab": {
     "base_uri": "https://localhost:8080/",
     "height": 34
    },
    "colab_type": "code",
    "id": "07L5WXfiIQM0",
    "outputId": "63e65f23-0d1d-42a4-8bec-7af3b72c8d5e"
   },
   "outputs": [
    {
     "data": {
      "text/plain": [
       "(42000,)"
      ]
     },
     "execution_count": 78,
     "metadata": {
      "tags": []
     },
     "output_type": "execute_result"
    }
   ],
   "source": [
    "y_train.shape"
   ]
  },
  {
   "cell_type": "code",
   "execution_count": 79,
   "metadata": {
    "colab": {
     "base_uri": "https://localhost:8080/",
     "height": 34
    },
    "colab_type": "code",
    "id": "6X2pjHCiITc1",
    "outputId": "3aaf91c6-7642-428e-9fb7-71d46ae811ad"
   },
   "outputs": [
    {
     "data": {
      "text/plain": [
       "(18000,)"
      ]
     },
     "execution_count": 79,
     "metadata": {
      "tags": []
     },
     "output_type": "execute_result"
    }
   ],
   "source": [
    "y_cv.shape"
   ]
  },
  {
   "cell_type": "code",
   "execution_count": 0,
   "metadata": {
    "colab": {},
    "colab_type": "code",
    "id": "_2savsi_PxaI"
   },
   "outputs": [],
   "source": [
    "if K.image_data_format() == 'channels_first':\n",
    "    x_train = x_train.reshape(x_train.shape[0], 1, img_rows, img_cols)\n",
    "    x_test = x_test.reshape(x_test.shape[0], 1, img_rows, img_cols)\n",
    "    x_cv = x_cv.reshape(x_cv.shape[0], 1, img_rows, img_cols)\n",
    "    input_shape = (1, img_rows, img_cols)\n",
    "else:\n",
    "    x_train = x_train.reshape(x_train.shape[0], img_rows, img_cols, 1)\n",
    "    x_test = x_test.reshape(x_test.shape[0], img_rows, img_cols, 1)\n",
    "    x_cv = x_cv.reshape(x_cv.shape[0], img_rows, img_cols, 1)\n",
    "    input_shape = (img_rows, img_cols, 1)"
   ]
  },
  {
   "cell_type": "code",
   "execution_count": 0,
   "metadata": {
    "colab": {},
    "colab_type": "code",
    "id": "Moo2OEj_OhVp"
   },
   "outputs": [],
   "source": [
    "x_train = x_train.astype('float32')\n",
    "x_test = x_test.astype('float32')\n",
    "x_cv = x_cv.astype('float32')"
   ]
  },
  {
   "cell_type": "code",
   "execution_count": 0,
   "metadata": {
    "colab": {},
    "colab_type": "code",
    "id": "5KxLCIn2PDCI"
   },
   "outputs": [],
   "source": [
    "x_train = x_train/255\n",
    "x_test = x_test/255\n",
    "x_cv = x_cv/255"
   ]
  },
  {
   "cell_type": "code",
   "execution_count": 0,
   "metadata": {
    "colab": {},
    "colab_type": "code",
    "id": "Wiiswqxql1zn"
   },
   "outputs": [],
   "source": [
    "y_train = keras.utils.to_categorical(y_train, num_classes)\n",
    "y_test = keras.utils.to_categorical(y_test, num_classes)\n",
    "y_cv = keras.utils.to_categorical(y_cv, num_classes)"
   ]
  },
  {
   "cell_type": "code",
   "execution_count": 84,
   "metadata": {
    "colab": {
     "base_uri": "https://localhost:8080/",
     "height": 85
    },
    "colab_type": "code",
    "id": "wTQ3oXdcPawo",
    "outputId": "1c87e837-4f95-4264-b007-2d55fb85e9e9"
   },
   "outputs": [
    {
     "name": "stdout",
     "output_type": "stream",
     "text": [
      "x_train shape: (42000, 28, 28, 1)\n",
      "42000 train samples\n",
      "10000 test samples\n",
      "18000 cross val samples\n"
     ]
    }
   ],
   "source": [
    "print('x_train shape:', x_train.shape)\n",
    "print(x_train.shape[0], 'train samples')\n",
    "print(x_test.shape[0], 'test samples')\n",
    "print(x_cv.shape[0], 'cross val samples')"
   ]
  },
  {
   "cell_type": "code",
   "execution_count": 0,
   "metadata": {
    "colab": {},
    "colab_type": "code",
    "id": "pNXYJsQtQDJY"
   },
   "outputs": [],
   "source": [
    "model = Sequential()\n",
    "model.add(Conv2D(32, kernel_size=(3,3), strides=(1,1) ,activation='relu', input_shape = input_shape))\n",
    "model.add(Conv2D(64, strides=(1,1), kernel_size=(3,3),activation='relu'), )\n",
    "model.add(MaxPooling2D(pool_size=(2,2), strides=(1,1)))\n",
    "model.add(Dropout(0.25))\n",
    "model.add(Flatten())\n",
    "model.add(Dense(128, activation='relu'))\n",
    "model.add(Dropout(0.25))\n",
    "model.add(Dense(num_classes, activation='softmax'))"
   ]
  },
  {
   "cell_type": "code",
   "execution_count": 0,
   "metadata": {
    "colab": {},
    "colab_type": "code",
    "id": "6m1DV1UykT4G"
   },
   "outputs": [],
   "source": [
    "model.compile(loss=keras.losses.categorical_crossentropy, optimizer=keras.optimizers.Adam(), metrics=['accuracy'])"
   ]
  },
  {
   "cell_type": "code",
   "execution_count": 87,
   "metadata": {
    "colab": {
     "base_uri": "https://localhost:8080/",
     "height": 34
    },
    "colab_type": "code",
    "id": "hxilEk29H2TG",
    "outputId": "09ac7623-fcd9-4a25-dba9-336b0243928c"
   },
   "outputs": [
    {
     "data": {
      "text/plain": [
       "(18000, 28, 28, 1)"
      ]
     },
     "execution_count": 87,
     "metadata": {
      "tags": []
     },
     "output_type": "execute_result"
    }
   ],
   "source": [
    "x_cv.shape"
   ]
  },
  {
   "cell_type": "code",
   "execution_count": 88,
   "metadata": {
    "colab": {
     "base_uri": "https://localhost:8080/",
     "height": 34
    },
    "colab_type": "code",
    "id": "Jj2qCJ9altDo",
    "outputId": "fc46e759-3fc7-4fb9-ee30-888f7f83e31b"
   },
   "outputs": [
    {
     "data": {
      "text/plain": [
       "(42000, 28, 28, 1)"
      ]
     },
     "execution_count": 88,
     "metadata": {
      "tags": []
     },
     "output_type": "execute_result"
    }
   ],
   "source": [
    "x_train.shape"
   ]
  },
  {
   "cell_type": "code",
   "execution_count": 89,
   "metadata": {
    "colab": {
     "base_uri": "https://localhost:8080/",
     "height": 408
    },
    "colab_type": "code",
    "id": "ySRKXmxD1zzA",
    "outputId": "4091d52f-5a05-4bea-a623-b400bc04fd0d"
   },
   "outputs": [
    {
     "name": "stdout",
     "output_type": "stream",
     "text": [
      "_________________________________________________________________\n",
      "Layer (type)                 Output Shape              Param #   \n",
      "=================================================================\n",
      "conv2d_5 (Conv2D)            (None, 26, 26, 32)        320       \n",
      "_________________________________________________________________\n",
      "conv2d_6 (Conv2D)            (None, 24, 24, 64)        18496     \n",
      "_________________________________________________________________\n",
      "max_pooling2d_2 (MaxPooling2 (None, 23, 23, 64)        0         \n",
      "_________________________________________________________________\n",
      "dropout_3 (Dropout)          (None, 23, 23, 64)        0         \n",
      "_________________________________________________________________\n",
      "flatten_2 (Flatten)          (None, 33856)             0         \n",
      "_________________________________________________________________\n",
      "dense_3 (Dense)              (None, 128)               4333696   \n",
      "_________________________________________________________________\n",
      "dropout_4 (Dropout)          (None, 128)               0         \n",
      "_________________________________________________________________\n",
      "dense_4 (Dense)              (None, 10)                1290      \n",
      "=================================================================\n",
      "Total params: 4,353,802\n",
      "Trainable params: 4,353,802\n",
      "Non-trainable params: 0\n",
      "_________________________________________________________________\n"
     ]
    }
   ],
   "source": [
    "model.summary()"
   ]
  },
  {
   "cell_type": "code",
   "execution_count": 90,
   "metadata": {
    "colab": {
     "base_uri": "https://localhost:8080/",
     "height": 391
    },
    "colab_type": "code",
    "id": "p8klTYwglKI2",
    "outputId": "afb5c3c4-75e8-4942-e1a5-c36b0cb75bc1"
   },
   "outputs": [
    {
     "name": "stdout",
     "output_type": "stream",
     "text": [
      "Train on 42000 samples, validate on 18000 samples\n",
      "Epoch 1/10\n",
      "42000/42000 [==============================] - 13s 311us/step - loss: 0.1776 - acc: 0.9438 - val_loss: 0.0568 - val_acc: 0.9834\n",
      "Epoch 2/10\n",
      "42000/42000 [==============================] - 12s 285us/step - loss: 0.0530 - acc: 0.9836 - val_loss: 0.0458 - val_acc: 0.9869\n",
      "Epoch 3/10\n",
      "42000/42000 [==============================] - 12s 285us/step - loss: 0.0361 - acc: 0.9884 - val_loss: 0.0476 - val_acc: 0.9867\n",
      "Epoch 4/10\n",
      "42000/42000 [==============================] - 12s 284us/step - loss: 0.0260 - acc: 0.9915 - val_loss: 0.0468 - val_acc: 0.9878\n",
      "Epoch 5/10\n",
      "42000/42000 [==============================] - 12s 285us/step - loss: 0.0198 - acc: 0.9936 - val_loss: 0.0443 - val_acc: 0.9886\n",
      "Epoch 6/10\n",
      "42000/42000 [==============================] - 12s 284us/step - loss: 0.0155 - acc: 0.9950 - val_loss: 0.0516 - val_acc: 0.9878\n",
      "Epoch 7/10\n",
      "42000/42000 [==============================] - 12s 286us/step - loss: 0.0140 - acc: 0.9953 - val_loss: 0.0457 - val_acc: 0.9890\n",
      "Epoch 8/10\n",
      "42000/42000 [==============================] - 12s 286us/step - loss: 0.0134 - acc: 0.9952 - val_loss: 0.0451 - val_acc: 0.9895\n",
      "Epoch 9/10\n",
      "42000/42000 [==============================] - 12s 284us/step - loss: 0.0115 - acc: 0.9962 - val_loss: 0.0415 - val_acc: 0.9907\n",
      "Epoch 10/10\n",
      "42000/42000 [==============================] - 12s 286us/step - loss: 0.0087 - acc: 0.9969 - val_loss: 0.0457 - val_acc: 0.9888\n"
     ]
    },
    {
     "data": {
      "text/plain": [
       "<keras.callbacks.History at 0x7fae02805400>"
      ]
     },
     "execution_count": 90,
     "metadata": {
      "tags": []
     },
     "output_type": "execute_result"
    }
   ],
   "source": [
    "model.fit(x=x_train, y=y_train, epochs=10, batch_size=batch_size, validation_data=(x_cv, y_cv))"
   ]
  },
  {
   "cell_type": "code",
   "execution_count": 0,
   "metadata": {
    "colab": {},
    "colab_type": "code",
    "id": "62MolVl4Q6dp"
   },
   "outputs": [],
   "source": [
    "from keras.utils import plot_model\n",
    "import matplotlib.pyplot as plt"
   ]
  },
  {
   "cell_type": "code",
   "execution_count": 92,
   "metadata": {
    "colab": {
     "base_uri": "https://localhost:8080/",
     "height": 376
    },
    "colab_type": "code",
    "id": "UTZ_R79IRJpH",
    "outputId": "a5cb7681-febd-45fd-fe46-1713c3430f52"
   },
   "outputs": [
    {
     "data": {
      "image/png": "[encoded data removed]",
      "text/plain": [
       "<Figure size 576x396 with 1 Axes>"
      ]
     },
     "metadata": {
      "tags": []
     },
     "output_type": "display_data"
    }
   ],
   "source": [
    "plt.plot(model.history.history['loss'])\n",
    "plt.plot(model.history.history['val_loss'])\n",
    "plt.title('Model Loss')\n",
    "plt.ylabel('Loss')\n",
    "plt.xlabel('Epoch')\n",
    "plt.legend(['Train', 'Crossvalidation'], loc='upper left')\n",
    "plt.show()"
   ]
  },
  {
   "cell_type": "markdown",
   "metadata": {
    "colab_type": "text",
    "id": "5g5MRRg3oPTm"
   },
   "source": [
    "## **FIRST IMPLEMENTATION**"
   ]
  },
  {
   "cell_type": "code",
   "execution_count": 0,
   "metadata": {
    "colab": {},
    "colab_type": "code",
    "id": "LSx2Bf7hoQHm"
   },
   "outputs": [],
   "source": [
    "import keras\n",
    "from keras.models import Sequential\n",
    "from keras.layers import Conv2D, Dense, MaxPool2D, Dropout, Activation, Flatten, BatchNormalization\n",
    "from keras.datasets import mnist\n",
    "import keras.backend as K"
   ]
  },
  {
   "cell_type": "code",
   "execution_count": 0,
   "metadata": {
    "colab": {},
    "colab_type": "code",
    "id": "_xcxrQ3JoOQW"
   },
   "outputs": [],
   "source": [
    "(x_train, y_train), (x_test, y_test) = mnist.load_data()"
   ]
  },
  {
   "cell_type": "code",
   "execution_count": 0,
   "metadata": {
    "colab": {},
    "colab_type": "code",
    "id": "yaO87vRVJzxC"
   },
   "outputs": [],
   "source": [
    "x_train, x_cv, y_train, y_cv = train_test_split(x_train, y_train, test_size=0.3)"
   ]
  },
  {
   "cell_type": "code",
   "execution_count": 0,
   "metadata": {
    "colab": {},
    "colab_type": "code",
    "id": "pxkJrYFGo6P0"
   },
   "outputs": [],
   "source": [
    "batch_size = 128\n",
    "epochs = 12\n",
    "num_classes = 10\n",
    "img_rows = 28\n",
    "img_cols = 28"
   ]
  },
  {
   "cell_type": "code",
   "execution_count": 0,
   "metadata": {
    "colab": {},
    "colab_type": "code",
    "id": "h84jyhOBp9b0"
   },
   "outputs": [],
   "source": [
    "if K.image_data_format() == 'channels_first':\n",
    "  x_train = x_train.reshape(x_train.shape[0], 1, img_rows, img_cols)\n",
    "  x_test = x_test.reshape(x_test.shape[0], 1, img_rows, img_cols)\n",
    "  x_cv = x_cv.reshape(x_cv.shape[0], 1, img_rows, img_cols)\n",
    "  input_shape = (1, img_rows, img_cols)\n",
    "else:\n",
    "  x_train = x_train.reshape(x_train.shape[0], img_rows, img_cols, 1)\n",
    "  x_test = x_test.reshape(x_test.shape[0], img_rows, img_cols, 1)\n",
    "  x_cv = x_cv.reshape(x_cv.shape[0], img_rows, img_cols, 1)\n",
    "  input_shape = (img_rows, img_cols, 1)"
   ]
  },
  {
   "cell_type": "code",
   "execution_count": 0,
   "metadata": {
    "colab": {},
    "colab_type": "code",
    "id": "Ud-3Tf9Hq57z"
   },
   "outputs": [],
   "source": [
    "x_train = x_train.astype('float32')\n",
    "x_test = x_test.astype('float32')\n",
    "x_cv = x_cv.astype('float32')\n",
    "y_train = keras.utils.to_categorical(y_train, num_classes)\n",
    "y_test = keras.utils.to_categorical(y_test, num_classes)\n",
    "y_cv = keras.utils.to_categorical(y_cv, num_classes)"
   ]
  },
  {
   "cell_type": "code",
   "execution_count": 0,
   "metadata": {
    "colab": {},
    "colab_type": "code",
    "id": "QM-KnHZUrbeD"
   },
   "outputs": [],
   "source": [
    "x_train = x_train/255\n",
    "x_test = x_test/255\n",
    "x_cv = x_cv/255"
   ]
  },
  {
   "cell_type": "code",
   "execution_count": 0,
   "metadata": {
    "colab": {},
    "colab_type": "code",
    "id": "0SrqUttbrlzG"
   },
   "outputs": [],
   "source": [
    "model = Sequential()\n",
    "model.add(Conv2D(80, kernel_size=(2,2), strides=(1,1), padding='same'))\n",
    "model.add(Conv2D(140, kernel_size=(3,3), strides=(1,1), padding='same'))\n",
    "model.add(MaxPool2D(pool_size=(2,2), strides=(1,1)))\n",
    "model.add(Conv2D(220, kernel_size=(3,3), strides=(2,2)))\n",
    "model.add(Dropout(0.25))\n",
    "model.add(Conv2D(90, kernel_size=(2,2), strides=(1,1)))\n",
    "model.add(Flatten())\n",
    "model.add(Dense(64, activation='relu'))\n",
    "model.add(Dense(28, activation='relu'))\n",
    "model.add(Dense(num_classes, activation='softmax'))"
   ]
  },
  {
   "cell_type": "code",
   "execution_count": 0,
   "metadata": {
    "colab": {},
    "colab_type": "code",
    "id": "JTE99Gk3w1vy"
   },
   "outputs": [],
   "source": [
    "model.compile(loss=keras.losses.categorical_crossentropy, optimizer='Adam', metrics=['accuracy'])"
   ]
  },
  {
   "cell_type": "code",
   "execution_count": 111,
   "metadata": {
    "colab": {
     "base_uri": "https://localhost:8080/",
     "height": 459
    },
    "colab_type": "code",
    "id": "fqGttcSCxT1x",
    "outputId": "3f00e3a0-01df-4f51-beb0-1915a42a4d07"
   },
   "outputs": [
    {
     "name": "stdout",
     "output_type": "stream",
     "text": [
      "Train on 42000 samples, validate on 18000 samples\n",
      "Epoch 1/12\n",
      "42000/42000 [==============================] - 36s 866us/step - loss: 0.2341 - acc: 0.9290 - val_loss: 0.1091 - val_acc: 0.9674\n",
      "Epoch 2/12\n",
      "42000/42000 [==============================] - 35s 826us/step - loss: 0.0812 - acc: 0.9752 - val_loss: 0.0786 - val_acc: 0.9783\n",
      "Epoch 3/12\n",
      "42000/42000 [==============================] - 34s 818us/step - loss: 0.0672 - acc: 0.9795 - val_loss: 0.0856 - val_acc: 0.9753\n",
      "Epoch 4/12\n",
      "42000/42000 [==============================] - 35s 823us/step - loss: 0.0656 - acc: 0.9805 - val_loss: 0.0682 - val_acc: 0.9802\n",
      "Epoch 5/12\n",
      "42000/42000 [==============================] - 35s 824us/step - loss: 0.0465 - acc: 0.9854 - val_loss: 0.0681 - val_acc: 0.9805\n",
      "Epoch 6/12\n",
      "42000/42000 [==============================] - 34s 821us/step - loss: 0.0398 - acc: 0.9870 - val_loss: 0.0678 - val_acc: 0.9822\n",
      "Epoch 7/12\n",
      "42000/42000 [==============================] - 35s 825us/step - loss: 0.0335 - acc: 0.9900 - val_loss: 0.0658 - val_acc: 0.9828\n",
      "Epoch 8/12\n",
      "42000/42000 [==============================] - 35s 824us/step - loss: 0.0337 - acc: 0.9900 - val_loss: 0.0660 - val_acc: 0.9838\n",
      "Epoch 9/12\n",
      "42000/42000 [==============================] - 35s 823us/step - loss: 0.0319 - acc: 0.9898 - val_loss: 0.0848 - val_acc: 0.9790\n",
      "Epoch 10/12\n",
      "42000/42000 [==============================] - 34s 819us/step - loss: 0.0368 - acc: 0.9890 - val_loss: 0.0970 - val_acc: 0.9777\n",
      "Epoch 11/12\n",
      "42000/42000 [==============================] - 35s 824us/step - loss: 0.0345 - acc: 0.9894 - val_loss: 0.0961 - val_acc: 0.9791\n",
      "Epoch 12/12\n",
      "42000/42000 [==============================] - 35s 824us/step - loss: 0.0302 - acc: 0.9912 - val_loss: 0.0899 - val_acc: 0.9807\n"
     ]
    },
    {
     "data": {
      "text/plain": [
       "<keras.callbacks.History at 0x7fae00104e10>"
      ]
     },
     "execution_count": 111,
     "metadata": {
      "tags": []
     },
     "output_type": "execute_result"
    }
   ],
   "source": [
    "model.fit(x = x_train, y = y_train, batch_size=batch_size, epochs=epochs, validation_data=(x_cv, y_cv))"
   ]
  },
  {
   "cell_type": "code",
   "execution_count": 112,
   "metadata": {
    "colab": {
     "base_uri": "https://localhost:8080/",
     "height": 476
    },
    "colab_type": "code",
    "id": "Anp1mRAR0mH-",
    "outputId": "064ad693-7689-41c0-a7ed-4f15404fcf71"
   },
   "outputs": [
    {
     "name": "stdout",
     "output_type": "stream",
     "text": [
      "_________________________________________________________________\n",
      "Layer (type)                 Output Shape              Param #   \n",
      "=================================================================\n",
      "conv2d_7 (Conv2D)            (None, 28, 28, 80)        400       \n",
      "_________________________________________________________________\n",
      "conv2d_8 (Conv2D)            (None, 28, 28, 140)       100940    \n",
      "_________________________________________________________________\n",
      "max_pooling2d_3 (MaxPooling2 (None, 27, 27, 140)       0         \n",
      "_________________________________________________________________\n",
      "conv2d_9 (Conv2D)            (None, 13, 13, 220)       277420    \n",
      "_________________________________________________________________\n",
      "dropout_5 (Dropout)          (None, 13, 13, 220)       0         \n",
      "_________________________________________________________________\n",
      "conv2d_10 (Conv2D)           (None, 12, 12, 90)        79290     \n",
      "_________________________________________________________________\n",
      "flatten_3 (Flatten)          (None, 12960)             0         \n",
      "_________________________________________________________________\n",
      "dense_5 (Dense)              (None, 64)                829504    \n",
      "_________________________________________________________________\n",
      "dense_6 (Dense)              (None, 28)                1820      \n",
      "_________________________________________________________________\n",
      "dense_7 (Dense)              (None, 10)                290       \n",
      "=================================================================\n",
      "Total params: 1,289,664\n",
      "Trainable params: 1,289,664\n",
      "Non-trainable params: 0\n",
      "_________________________________________________________________\n"
     ]
    }
   ],
   "source": [
    "model.summary()"
   ]
  },
  {
   "cell_type": "code",
   "execution_count": 113,
   "metadata": {
    "colab": {
     "base_uri": "https://localhost:8080/",
     "height": 376
    },
    "colab_type": "code",
    "id": "8CZ1h0gpMhkl",
    "outputId": "5392e40e-2f43-4a06-cb81-022e2ede6b8c"
   },
   "outputs": [
    {
     "data": {
      "image/png": "[encoded data removed]",
      "text/plain": [
       "<Figure size 576x396 with 1 Axes>"
      ]
     },
     "metadata": {
      "tags": []
     },
     "output_type": "display_data"
    }
   ],
   "source": [
    "plt.plot(model.history.history['loss'])\n",
    "plt.plot(model.history.history['val_loss'])\n",
    "plt.title('Model Loss')\n",
    "plt.ylabel('Loss')\n",
    "plt.xlabel('Epoch')\n",
    "plt.legend(['Train', 'Crossvalidation'], loc='upper left')\n",
    "plt.show()"
   ]
  },
  {
   "cell_type": "code",
   "execution_count": 0,
   "metadata": {
    "colab": {},
    "colab_type": "code",
    "id": "_2QbPY4UBt9p"
   },
   "outputs": [],
   "source": [
    "import numpy as np"
   ]
  },
  {
   "cell_type": "code",
   "execution_count": 0,
   "metadata": {
    "colab": {
     "base_uri": "https://localhost:8080/",
     "height": 34
    },
    "colab_type": "code",
    "id": "fuwZ7B0pB1Sh",
    "outputId": "bc88bd1a-8888-4bdb-a2a7-a21ff1d821a2"
   },
   "outputs": [
    {
     "data": {
      "text/plain": [
       "(10000, 28, 28, 1)"
      ]
     },
     "execution_count": 34,
     "metadata": {
      "tags": []
     },
     "output_type": "execute_result"
    }
   ],
   "source": [
    "x_test.shape"
   ]
  },
  {
   "cell_type": "code",
   "execution_count": 0,
   "metadata": {
    "colab": {
     "base_uri": "https://localhost:8080/",
     "height": 51
    },
    "colab_type": "code",
    "id": "T1acyLkyCkye",
    "outputId": "5f9699c3-40f6-4dfa-d854-fa97359959cb"
   },
   "outputs": [
    {
     "name": "stdout",
     "output_type": "stream",
     "text": [
      "Test loss: 0.08361372225491495\n",
      "Test accuracy: 0.9839\n"
     ]
    }
   ],
   "source": [
    "score = model.evaluate(x_test, y_test, verbose=0)\n",
    "print('Test loss:', score[0])\n",
    "print('Test accuracy:', score[1])"
   ]
  },
  {
   "cell_type": "markdown",
   "metadata": {
    "colab_type": "text",
    "id": "lxYcmmNL_ams"
   },
   "source": [
    "## SECOND IMPLEMENTATION"
   ]
  },
  {
   "cell_type": "code",
   "execution_count": 0,
   "metadata": {
    "colab": {},
    "colab_type": "code",
    "id": "PVMCQi91cR9y"
   },
   "outputs": [],
   "source": [
    "import keras\n",
    "from keras.models import Sequential\n",
    "from keras.layers import Conv2D, Dense, MaxPool2D, Dropout, Activation, Flatten, BatchNormalization\n",
    "from keras.datasets import mnist\n",
    "import keras.backend as K"
   ]
  },
  {
   "cell_type": "code",
   "execution_count": 0,
   "metadata": {
    "colab": {},
    "colab_type": "code",
    "id": "odQZRBuOGmXy"
   },
   "outputs": [],
   "source": [
    "(x_train, y_train), (x_test, y_test) = mnist.load_data()"
   ]
  },
  {
   "cell_type": "code",
   "execution_count": 0,
   "metadata": {
    "colab": {},
    "colab_type": "code",
    "id": "cnHLoEavGuXo"
   },
   "outputs": [],
   "source": [
    "batch_size = 12\n",
    "img_rows, img_cols = 28, 28\n",
    "epochs, num_classes = 10, 10"
   ]
  },
  {
   "cell_type": "code",
   "execution_count": 0,
   "metadata": {
    "colab": {},
    "colab_type": "code",
    "id": "hlS2Nyt9HIIH"
   },
   "outputs": [],
   "source": [
    "if K.image_data_format() == 'channels_first':\n",
    "  x_train = x_train.reshape(x_train.shape[0], 1, img_rows, img_cols)\n",
    "  x_test = x_test.reshape(x_train.shape[0], 1, img_rows, img_cols)\n",
    "  input_shape = (1, img_rows, img_cols)\n",
    "else:\n",
    "  x_train = x_train.reshape(x_train.shape[0], img_rows, img_cols, 1)\n",
    "  x_test = x_test.reshape(x_test.shape[0], img_rows, img_cols, 1)\n",
    "  input_shape = (img_rows, img_cols, 1)"
   ]
  },
  {
   "cell_type": "code",
   "execution_count": 0,
   "metadata": {
    "colab": {},
    "colab_type": "code",
    "id": "wbJ-T_mqH_05"
   },
   "outputs": [],
   "source": [
    "x_train = x_train.astype('float32')\n",
    "x_test = x_test.astype('float32')\n",
    "x_train/=255\n",
    "x_test/=255\n",
    "y_train = keras.utils.to_categorical(y_train, num_classes)\n",
    "y_test = keras.utils.to_categorical(y_test, num_classes)"
   ]
  },
  {
   "cell_type": "code",
   "execution_count": 0,
   "metadata": {
    "colab": {},
    "colab_type": "code",
    "id": "UAabOC_oIkNG"
   },
   "outputs": [],
   "source": [
    "model = Sequential()\n",
    "model.add(Conv2D(48, kernel_size=(4,4), strides=(1,1), padding='same'))\n",
    "model.add(Conv2D(96, kernel_size=(2,2), strides=(1,1), padding='same', activation='relu'))\n",
    "model.add(MaxPool2D(pool_size=(3,3)))\n",
    "model.add(BatchNormalization())\n",
    "model.add(Conv2D(96, kernel_size=(2,2), strides=(1,1), activation='relu'))\n",
    "model.add(Conv2D(128, kernel_size=(2,2), strides=(2,2)))\n",
    "model.add(Conv2D(48, kernel_size=(1,1), strides=(1,1)))\n",
    "model.add(Flatten())\n",
    "model.add(Dense(24, activation='relu'))\n",
    "model.add(Dense(num_classes, activation='softmax'))"
   ]
  },
  {
   "cell_type": "code",
   "execution_count": 0,
   "metadata": {
    "colab": {},
    "colab_type": "code",
    "id": "vw0HOEc-NMYV"
   },
   "outputs": [],
   "source": [
    "model.compile(optimizer=keras.optimizers.Adam(), loss=keras.losses.categorical_crossentropy, metrics=['accuracy'])"
   ]
  },
  {
   "cell_type": "code",
   "execution_count": 116,
   "metadata": {
    "colab": {
     "base_uri": "https://localhost:8080/",
     "height": 391
    },
    "colab_type": "code",
    "id": "wFMEM_h0Nm5F",
    "outputId": "c1e92888-a0a5-4b4a-9b6c-0880895c318b"
   },
   "outputs": [
    {
     "name": "stdout",
     "output_type": "stream",
     "text": [
      "Train on 42000 samples, validate on 18000 samples\n",
      "Epoch 1/10\n",
      "42000/42000 [==============================] - 15s 358us/step - loss: 0.1830 - acc: 0.9426 - val_loss: 0.0793 - val_acc: 0.9760\n",
      "Epoch 2/10\n",
      "42000/42000 [==============================] - 14s 324us/step - loss: 0.0639 - acc: 0.9814 - val_loss: 0.0638 - val_acc: 0.9817\n",
      "Epoch 3/10\n",
      "42000/42000 [==============================] - 14s 328us/step - loss: 0.0444 - acc: 0.9859 - val_loss: 0.0585 - val_acc: 0.9832\n",
      "Epoch 4/10\n",
      "42000/42000 [==============================] - 14s 330us/step - loss: 0.0399 - acc: 0.9872 - val_loss: 0.0613 - val_acc: 0.9823\n",
      "Epoch 5/10\n",
      "42000/42000 [==============================] - 14s 326us/step - loss: 0.0374 - acc: 0.9883 - val_loss: 0.0597 - val_acc: 0.9832\n",
      "Epoch 6/10\n",
      "42000/42000 [==============================] - 14s 326us/step - loss: 0.0245 - acc: 0.9921 - val_loss: 0.0702 - val_acc: 0.9817\n",
      "Epoch 7/10\n",
      "42000/42000 [==============================] - 14s 331us/step - loss: 0.0235 - acc: 0.9926 - val_loss: 0.0549 - val_acc: 0.9864\n",
      "Epoch 8/10\n",
      "42000/42000 [==============================] - 14s 331us/step - loss: 0.0224 - acc: 0.9926 - val_loss: 0.0632 - val_acc: 0.9832\n",
      "Epoch 9/10\n",
      "42000/42000 [==============================] - 14s 327us/step - loss: 0.0204 - acc: 0.9938 - val_loss: 0.0651 - val_acc: 0.9833\n",
      "Epoch 10/10\n",
      "42000/42000 [==============================] - 14s 328us/step - loss: 0.0177 - acc: 0.9944 - val_loss: 0.0687 - val_acc: 0.9846\n"
     ]
    },
    {
     "data": {
      "text/plain": [
       "<keras.callbacks.History at 0x7fadef255dd8>"
      ]
     },
     "execution_count": 116,
     "metadata": {
      "tags": []
     },
     "output_type": "execute_result"
    }
   ],
   "source": [
    "model.fit(x=x_train, y=y_train, batch_size=batch_size, epochs=10, validation_data=(x_cv, y_cv))"
   ]
  },
  {
   "cell_type": "code",
   "execution_count": 117,
   "metadata": {
    "colab": {
     "base_uri": "https://localhost:8080/",
     "height": 376
    },
    "colab_type": "code",
    "id": "0auTJiP1M39S",
    "outputId": "36e7f752-3bd1-43cd-91b4-ebe8e493b69b"
   },
   "outputs": [
    {
     "data": {
      "image/png": "[encoded data removed]",
      "text/plain": [
       "<Figure size 576x396 with 1 Axes>"
      ]
     },
     "metadata": {
      "tags": []
     },
     "output_type": "display_data"
    }
   ],
   "source": [
    "plt.plot(model.history.history['loss'])\n",
    "plt.plot(model.history.history['val_loss'])\n",
    "plt.title('Model Loss')\n",
    "plt.ylabel('Loss')\n",
    "plt.xlabel('Epoch')\n",
    "plt.legend(['Train', 'Crossvalidation'], loc='upper left')\n",
    "plt.show()"
   ]
  },
  {
   "cell_type": "code",
   "execution_count": 0,
   "metadata": {
    "colab": {
     "base_uri": "https://localhost:8080/",
     "height": 476
    },
    "colab_type": "code",
    "id": "MjHQnQ3JN2Ok",
    "outputId": "8b41d18c-08d0-4dc8-f273-de800fdc871d"
   },
   "outputs": [
    {
     "name": "stdout",
     "output_type": "stream",
     "text": [
      "_________________________________________________________________\n",
      "Layer (type)                 Output Shape              Param #   \n",
      "=================================================================\n",
      "conv2d_61 (Conv2D)           (None, 28, 28, 48)        816       \n",
      "_________________________________________________________________\n",
      "conv2d_62 (Conv2D)           (None, 28, 28, 96)        18528     \n",
      "_________________________________________________________________\n",
      "max_pooling2d_16 (MaxPooling (None, 9, 9, 96)          0         \n",
      "_________________________________________________________________\n",
      "batch_normalization_3 (Batch (None, 9, 9, 96)          384       \n",
      "_________________________________________________________________\n",
      "conv2d_63 (Conv2D)           (None, 8, 8, 96)          36960     \n",
      "_________________________________________________________________\n",
      "conv2d_64 (Conv2D)           (None, 4, 4, 128)         49280     \n",
      "_________________________________________________________________\n",
      "conv2d_65 (Conv2D)           (None, 4, 4, 48)          6192      \n",
      "_________________________________________________________________\n",
      "flatten_8 (Flatten)          (None, 768)               0         \n",
      "_________________________________________________________________\n",
      "dense_41 (Dense)             (None, 24)                18456     \n",
      "_________________________________________________________________\n",
      "dense_42 (Dense)             (None, 10)                250       \n",
      "=================================================================\n",
      "Total params: 130,866\n",
      "Trainable params: 130,674\n",
      "Non-trainable params: 192\n",
      "_________________________________________________________________\n"
     ]
    }
   ],
   "source": [
    "model.summary()"
   ]
  },
  {
   "cell_type": "code",
   "execution_count": 0,
   "metadata": {
    "colab": {
     "base_uri": "https://localhost:8080/",
     "height": 51
    },
    "colab_type": "code",
    "id": "TnmMWAXMEiZr",
    "outputId": "497e28de-1133-4a53-c3d4-104f2e00429d"
   },
   "outputs": [
    {
     "name": "stdout",
     "output_type": "stream",
     "text": [
      "Test loss: 2.2946061084747313\n",
      "Test accuracy: 0.0824\n"
     ]
    }
   ],
   "source": [
    "score = model.evaluate(x_test, y_test, verbose=0)\n",
    "print('Test loss:', score[0])\n",
    "print('Test accuracy:', score[1])"
   ]
  },
  {
   "cell_type": "markdown",
   "metadata": {
    "colab_type": "text",
    "id": "A1X_yjCzkHIW"
   },
   "source": [
    "## Third implementation"
   ]
  },
  {
   "cell_type": "code",
   "execution_count": 0,
   "metadata": {
    "colab": {},
    "colab_type": "code",
    "id": "mZZUc91ekLbj"
   },
   "outputs": [],
   "source": [
    "model = Sequential()\n",
    "model.add(Conv2D(82, kernel_size=(2,2), padding='same'))\n",
    "model.add(Conv2D(120, kernel_size=(2,2), activation='relu'))\n",
    "model.add(Conv2D(62, kernel_size=(2,2), padding='same'))\n",
    "model.add(Conv2D(122, kernel_size=(2,2), strides=(2,2), padding='same'))\n",
    "model.add(Conv2D(42, kernel_size=(4,4), activation='relu'))\n",
    "\n",
    "model.add(Flatten())\n",
    "model.add(Dense(66, activation='relu'))\n",
    "model.add(Dropout(0.15))\n",
    "model.add(Dense(26, activation='relu'))\n",
    "model.add(Dense(num_classes, activation='softmax'))"
   ]
  },
  {
   "cell_type": "code",
   "execution_count": 0,
   "metadata": {
    "colab": {},
    "colab_type": "code",
    "id": "kI50LaIgmsEp"
   },
   "outputs": [],
   "source": [
    "model.compile(loss=keras.losses.categorical_crossentropy, optimizer='Adam', metrics=['accuracy'])"
   ]
  },
  {
   "cell_type": "code",
   "execution_count": 121,
   "metadata": {
    "colab": {
     "base_uri": "https://localhost:8080/",
     "height": 391
    },
    "colab_type": "code",
    "id": "oF-Bwiv5m1rW",
    "outputId": "51ff61ee-b71a-4b6d-93ee-4c09f3d89129"
   },
   "outputs": [
    {
     "name": "stdout",
     "output_type": "stream",
     "text": [
      "Train on 42000 samples, validate on 18000 samples\n",
      "Epoch 1/10\n",
      "42000/42000 [==============================] - 58s 1ms/step - loss: 0.2030 - acc: 0.9401 - val_loss: 0.0775 - val_acc: 0.9781\n",
      "Epoch 2/10\n",
      "42000/42000 [==============================] - 56s 1ms/step - loss: 0.0856 - acc: 0.9756 - val_loss: 0.0806 - val_acc: 0.9798\n",
      "Epoch 3/10\n",
      "42000/42000 [==============================] - 56s 1ms/step - loss: 0.0675 - acc: 0.9795 - val_loss: 0.0603 - val_acc: 0.9842\n",
      "Epoch 4/10\n",
      "42000/42000 [==============================] - 56s 1ms/step - loss: 0.0513 - acc: 0.9849 - val_loss: 0.0506 - val_acc: 0.9854\n",
      "Epoch 5/10\n",
      "42000/42000 [==============================] - 56s 1ms/step - loss: 0.0487 - acc: 0.9859 - val_loss: 0.0599 - val_acc: 0.9856\n",
      "Epoch 6/10\n",
      "42000/42000 [==============================] - 56s 1ms/step - loss: 0.0324 - acc: 0.9897 - val_loss: 0.0781 - val_acc: 0.9813\n",
      "Epoch 7/10\n",
      "42000/42000 [==============================] - 57s 1ms/step - loss: 0.0367 - acc: 0.9895 - val_loss: 0.1720 - val_acc: 0.9698\n",
      "Epoch 8/10\n",
      "42000/42000 [==============================] - 57s 1ms/step - loss: 0.0307 - acc: 0.9907 - val_loss: 0.0721 - val_acc: 0.9839\n",
      "Epoch 9/10\n",
      "42000/42000 [==============================] - 57s 1ms/step - loss: 0.0285 - acc: 0.9917 - val_loss: 0.0645 - val_acc: 0.9842\n",
      "Epoch 10/10\n",
      "42000/42000 [==============================] - 56s 1ms/step - loss: 0.0266 - acc: 0.9922 - val_loss: 0.0708 - val_acc: 0.9851\n"
     ]
    },
    {
     "data": {
      "text/plain": [
       "<keras.callbacks.History at 0x7fadee05e0b8>"
      ]
     },
     "execution_count": 121,
     "metadata": {
      "tags": []
     },
     "output_type": "execute_result"
    }
   ],
   "source": [
    "model.fit(x_train, y_train, batch_size=20, epochs=10, validation_data=(x_cv, y_cv))"
   ]
  },
  {
   "cell_type": "code",
   "execution_count": 122,
   "metadata": {
    "colab": {
     "base_uri": "https://localhost:8080/",
     "height": 376
    },
    "colab_type": "code",
    "id": "4Iv1K1UINhlF",
    "outputId": "c19439aa-2f1b-4e1c-9c38-09fd724515b0"
   },
   "outputs": [
    {
     "data": {
      "image/png": "[encoded data removed]",
      "text/plain": [
       "<Figure size 576x396 with 1 Axes>"
      ]
     },
     "metadata": {
      "tags": []
     },
     "output_type": "display_data"
    }
   ],
   "source": [
    "plt.plot(model.history.history['loss'])\n",
    "plt.plot(model.history.history['val_loss'])\n",
    "plt.title('Model Loss')\n",
    "plt.ylabel('Loss')\n",
    "plt.xlabel('Epoch')\n",
    "plt.legend(['Train', 'Crossvalidation'], loc='upper left')\n",
    "plt.show()"
   ]
  },
  {
   "cell_type": "code",
   "execution_count": 0,
   "metadata": {
    "colab": {
     "base_uri": "https://localhost:8080/",
     "height": 476
    },
    "colab_type": "code",
    "id": "WTLNNC7QnFUj",
    "outputId": "b4d97e7f-97aa-4630-8d91-15821021ff8c"
   },
   "outputs": [
    {
     "name": "stdout",
     "output_type": "stream",
     "text": [
      "_________________________________________________________________\n",
      "Layer (type)                 Output Shape              Param #   \n",
      "=================================================================\n",
      "conv2d_17 (Conv2D)           (None, 28, 28, 82)        410       \n",
      "_________________________________________________________________\n",
      "conv2d_18 (Conv2D)           (None, 27, 27, 120)       39480     \n",
      "_________________________________________________________________\n",
      "conv2d_19 (Conv2D)           (None, 27, 27, 62)        29822     \n",
      "_________________________________________________________________\n",
      "conv2d_20 (Conv2D)           (None, 14, 14, 122)       30378     \n",
      "_________________________________________________________________\n",
      "conv2d_21 (Conv2D)           (None, 11, 11, 42)        82026     \n",
      "_________________________________________________________________\n",
      "flatten_5 (Flatten)          (None, 5082)              0         \n",
      "_________________________________________________________________\n",
      "dense_11 (Dense)             (None, 66)                335478    \n",
      "_________________________________________________________________\n",
      "dropout_5 (Dropout)          (None, 66)                0         \n",
      "_________________________________________________________________\n",
      "dense_12 (Dense)             (None, 26)                1742      \n",
      "_________________________________________________________________\n",
      "dense_13 (Dense)             (None, 10)                270       \n",
      "=================================================================\n",
      "Total params: 519,606\n",
      "Trainable params: 519,606\n",
      "Non-trainable params: 0\n",
      "_________________________________________________________________\n"
     ]
    }
   ],
   "source": [
    "model.summary()"
   ]
  },
  {
   "cell_type": "code",
   "execution_count": 0,
   "metadata": {
    "colab": {
     "base_uri": "https://localhost:8080/",
     "height": 51
    },
    "colab_type": "code",
    "id": "BumsR-FgFGur",
    "outputId": "8349c223-1d7e-4104-d25f-b5d10571f79c"
   },
   "outputs": [
    {
     "name": "stdout",
     "output_type": "stream",
     "text": [
      "Test loss: 0.05432184503394819\n",
      "Test accuracy: 0.9873\n"
     ]
    }
   ],
   "source": [
    "score = model.evaluate(x_test, y_test, verbose=0)\n",
    "print('Test loss:', score[0])\n",
    "print('Test accuracy:', score[1])"
   ]
  },
  {
   "cell_type": "markdown",
   "metadata": {
    "colab_type": "text",
    "id": "JNpn8a8JIEeb"
   },
   "source": [
    "# Conclusion"
   ]
  },
  {
   "cell_type": "code",
   "execution_count": 0,
   "metadata": {
    "colab": {},
    "colab_type": "code",
    "id": "_82RXd43IJnq"
   },
   "outputs": [],
   "source": [
    "from prettytable import PrettyTable"
   ]
  },
  {
   "cell_type": "code",
   "execution_count": 0,
   "metadata": {
    "colab": {},
    "colab_type": "code",
    "id": "hnsD1VPYIMZK"
   },
   "outputs": [],
   "source": [
    "x = PrettyTable()"
   ]
  },
  {
   "cell_type": "code",
   "execution_count": 0,
   "metadata": {
    "colab": {},
    "colab_type": "code",
    "id": "tvcnAU8ZINtK"
   },
   "outputs": [],
   "source": [
    "x.field_names = (['Architecture','test loss','test accuracy'])"
   ]
  },
  {
   "cell_type": "code",
   "execution_count": 0,
   "metadata": {
    "colab": {},
    "colab_type": "code",
    "id": "mkfv2ccZIWgK"
   },
   "outputs": [],
   "source": [
    "x.add_row(['CONV-CONV-POOL-CONV-DROPOUT-CONV', '0.08', '98.39'])\n",
    "x.add_row(['CONV-CONV-POOL-BATCHNORM-CONV-CONV-CONV','2.29','8.24'])\n",
    "x.add_row(['CONV-CONV-CONV-CONV-CONV','0.054','98.73'])\n"
   ]
  },
  {
   "cell_type": "code",
   "execution_count": 0,
   "metadata": {
    "colab": {
     "base_uri": "https://localhost:8080/",
     "height": 136
    },
    "colab_type": "code",
    "id": "qOHIIqZyI2z6",
    "outputId": "2fb5df10-2dd2-4b8d-b8ff-a7067493dc5f"
   },
   "outputs": [
    {
     "name": "stdout",
     "output_type": "stream",
     "text": [
      "+-----------------------------------------+-----------+---------------+\n",
      "|               Architecture              | test loss | test accuracy |\n",
      "+-----------------------------------------+-----------+---------------+\n",
      "|     CONV-CONV-POOL-CONV-DROPOUT-CONV    |    0.08   |     98.39     |\n",
      "| CONV-CONV-POOL-BATCHNORM-CONV-CONV-CONV |    2.29   |      8.24     |\n",
      "|         CONV-CONV-CONV-CONV-CONV        |   0.054   |     98.73     |\n",
      "+-----------------------------------------+-----------+---------------+\n"
     ]
    }
   ],
   "source": [
    "print(x)"
   ]
  }
 ],
 "metadata": {
  "accelerator": "GPU",
  "colab": {
   "collapsed_sections": [],
   "name": "ASsignment Cnn.ipynb",
   "provenance": [],
   "version": "0.3.2"
  },
  "kernelspec": {
   "display_name": "Python 3",
   "language": "python",
   "name": "python3"
  },
  "language_info": {
   "codemirror_mode": {
    "name": "ipython",
    "version": 3
   },
   "file_extension": ".py",
   "mimetype": "text/x-python",
   "name": "python",
   "nbconvert_exporter": "python",
   "pygments_lexer": "ipython3",
   "version": "3.6.7"
  }
 },
 "nbformat": 4,
 "nbformat_minor": 1
}
