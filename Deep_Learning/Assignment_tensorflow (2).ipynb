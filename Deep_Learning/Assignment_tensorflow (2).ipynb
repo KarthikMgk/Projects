{
  "nbformat": 4,
  "nbformat_minor": 0,
  "metadata": {
    "colab": {
      "name": "Assignment tensorflow.ipynb",
      "version": "0.3.2",
      "provenance": [],
      "collapsed_sections": []
    },
    "kernelspec": {
      "name": "python3",
      "display_name": "Python 3"
    },
    "accelerator": "GPU"
  },
  "cells": [
    {
      "metadata": {
        "id": "jmn3bkYkA7vG",
        "colab_type": "text"
      },
      "cell_type": "markdown",
      "source": [
        "# TENSORFLOW IMPLEMENTATION"
      ]
    },
    {
      "metadata": {
        "id": "T0U3ZSvirieH",
        "colab_type": "text"
      },
      "cell_type": "markdown",
      "source": [
        "# MODEL 1"
      ]
    },
    {
      "metadata": {
        "id": "BdqEbsFXlPj6",
        "colab_type": "text"
      },
      "cell_type": "markdown",
      "source": [
        "**Part 1: Data collection**"
      ]
    },
    {
      "metadata": {
        "id": "kNFuWsx9dqj9",
        "colab_type": "code",
        "colab": {}
      },
      "cell_type": "code",
      "source": [
        "import tensorflow as tf"
      ],
      "execution_count": 0,
      "outputs": []
    },
    {
      "metadata": {
        "id": "zJMTH0VUeawE",
        "colab_type": "code",
        "colab": {}
      },
      "cell_type": "code",
      "source": [
        "from tensorflow.examples.tutorials.mnist import input_data"
      ],
      "execution_count": 0,
      "outputs": []
    },
    {
      "metadata": {
        "id": "yDvz0_QDe017",
        "colab_type": "code",
        "colab": {}
      },
      "cell_type": "code",
      "source": [
        "import warnings\n",
        "warnings.filterwarnings('ignore')"
      ],
      "execution_count": 0,
      "outputs": []
    },
    {
      "metadata": {
        "id": "wAhY86e9ewxy",
        "colab_type": "code",
        "outputId": "d8e3984e-e93a-4719-cb0f-bc469befa9b1",
        "colab": {
          "base_uri": "https://localhost:8080/",
          "height": 552
        }
      },
      "cell_type": "code",
      "source": [
        "mnist = input_data.read_data_sets(\"MNIST_data/\", one_hot=True)"
      ],
      "execution_count": 0,
      "outputs": [
        {
          "output_type": "stream",
          "text": [
            "WARNING:tensorflow:From <ipython-input-4-a839aeb82f4b>:1: read_data_sets (from tensorflow.contrib.learn.python.learn.datasets.mnist) is deprecated and will be removed in a future version.\n",
            "Instructions for updating:\n",
            "Please use alternatives such as official/mnist/dataset.py from tensorflow/models.\n",
            "WARNING:tensorflow:From /usr/local/lib/python3.6/dist-packages/tensorflow/contrib/learn/python/learn/datasets/mnist.py:260: maybe_download (from tensorflow.contrib.learn.python.learn.datasets.base) is deprecated and will be removed in a future version.\n",
            "Instructions for updating:\n",
            "Please write your own downloading logic.\n",
            "WARNING:tensorflow:From /usr/local/lib/python3.6/dist-packages/tensorflow/contrib/learn/python/learn/datasets/base.py:252: _internal_retry.<locals>.wrap.<locals>.wrapped_fn (from tensorflow.contrib.learn.python.learn.datasets.base) is deprecated and will be removed in a future version.\n",
            "Instructions for updating:\n",
            "Please use urllib or similar directly.\n",
            "Successfully downloaded train-images-idx3-ubyte.gz 9912422 bytes.\n",
            "WARNING:tensorflow:From /usr/local/lib/python3.6/dist-packages/tensorflow/contrib/learn/python/learn/datasets/mnist.py:262: extract_images (from tensorflow.contrib.learn.python.learn.datasets.mnist) is deprecated and will be removed in a future version.\n",
            "Instructions for updating:\n",
            "Please use tf.data to implement this functionality.\n",
            "Extracting MNIST_data/train-images-idx3-ubyte.gz\n",
            "Successfully downloaded train-labels-idx1-ubyte.gz 28881 bytes.\n",
            "WARNING:tensorflow:From /usr/local/lib/python3.6/dist-packages/tensorflow/contrib/learn/python/learn/datasets/mnist.py:267: extract_labels (from tensorflow.contrib.learn.python.learn.datasets.mnist) is deprecated and will be removed in a future version.\n",
            "Instructions for updating:\n",
            "Please use tf.data to implement this functionality.\n",
            "Extracting MNIST_data/train-labels-idx1-ubyte.gz\n",
            "WARNING:tensorflow:From /usr/local/lib/python3.6/dist-packages/tensorflow/contrib/learn/python/learn/datasets/mnist.py:110: dense_to_one_hot (from tensorflow.contrib.learn.python.learn.datasets.mnist) is deprecated and will be removed in a future version.\n",
            "Instructions for updating:\n",
            "Please use tf.one_hot on tensors.\n",
            "Successfully downloaded t10k-images-idx3-ubyte.gz 1648877 bytes.\n",
            "Extracting MNIST_data/t10k-images-idx3-ubyte.gz\n",
            "Successfully downloaded t10k-labels-idx1-ubyte.gz 4542 bytes.\n",
            "Extracting MNIST_data/t10k-labels-idx1-ubyte.gz\n",
            "WARNING:tensorflow:From /usr/local/lib/python3.6/dist-packages/tensorflow/contrib/learn/python/learn/datasets/mnist.py:290: DataSet.__init__ (from tensorflow.contrib.learn.python.learn.datasets.mnist) is deprecated and will be removed in a future version.\n",
            "Instructions for updating:\n",
            "Please use alternatives such as official/mnist/dataset.py from tensorflow/models.\n"
          ],
          "name": "stdout"
        }
      ]
    },
    {
      "metadata": {
        "id": "oVRlKk0clTjZ",
        "colab_type": "text"
      },
      "cell_type": "markdown",
      "source": [
        "**Part 2: Defining the model**"
      ]
    },
    {
      "metadata": {
        "id": "B43TK00Be-gD",
        "colab_type": "text"
      },
      "cell_type": "markdown",
      "source": [
        "**Defining layers**"
      ]
    },
    {
      "metadata": {
        "id": "2Eq3ft_Feywi",
        "colab_type": "code",
        "colab": {}
      },
      "cell_type": "code",
      "source": [
        "n_hidden1 = 1024\n",
        "n_hidden2 = 512\n",
        "n_input = 784\n",
        "n_classes = 10"
      ],
      "execution_count": 0,
      "outputs": []
    },
    {
      "metadata": {
        "id": "pKS1T5K_kB5J",
        "colab_type": "text"
      },
      "cell_type": "markdown",
      "source": [
        "**placeholder for input and output**"
      ]
    },
    {
      "metadata": {
        "id": "rOD7rOA7fP0i",
        "colab_type": "code",
        "colab": {}
      },
      "cell_type": "code",
      "source": [
        "x = tf.placeholder(tf.float32, [None, 784])\n",
        "y_ = tf.placeholder(tf.float32, [None, 10])\n",
        "\n",
        "keep_prob = tf.placeholder(tf.float32)\n",
        "keep_prob_input = tf.placeholder(tf.float32)"
      ],
      "execution_count": 0,
      "outputs": []
    },
    {
      "metadata": {
        "id": "mPG2wc-jkIMJ",
        "colab_type": "text"
      },
      "cell_type": "markdown",
      "source": [
        "**weights initialisation**"
      ]
    },
    {
      "metadata": {
        "id": "vsBWwuUBflwi",
        "colab_type": "code",
        "outputId": "8f642d85-4028-423d-f15b-2c09c6c5a2b2",
        "colab": {
          "base_uri": "https://localhost:8080/",
          "height": 90
        }
      },
      "cell_type": "code",
      "source": [
        "weights_relu = {\n",
        "    'h1': tf.Variable(tf.random_normal([n_input, n_hidden1],stddev=0.050, mean=0)),    #784x512\n",
        "    'h2': tf.Variable(tf.random_normal([n_hidden1, n_hidden2],stddev=0.062, mean=0)), #512x128\n",
        "    'out': tf.Variable(tf.random_normal([n_hidden2, n_classes],stddev=0.120, mean=0))  #128x10\n",
        "}"
      ],
      "execution_count": 0,
      "outputs": [
        {
          "output_type": "stream",
          "text": [
            "WARNING:tensorflow:From /usr/local/lib/python3.6/dist-packages/tensorflow/python/framework/op_def_library.py:263: colocate_with (from tensorflow.python.framework.ops) is deprecated and will be removed in a future version.\n",
            "Instructions for updating:\n",
            "Colocations handled automatically by placer.\n"
          ],
          "name": "stdout"
        }
      ]
    },
    {
      "metadata": {
        "id": "wT-z8DPPkZ0p",
        "colab_type": "text"
      },
      "cell_type": "markdown",
      "source": [
        "**biases initialisation**"
      ]
    },
    {
      "metadata": {
        "id": "FrhUIpMvkU4x",
        "colab_type": "code",
        "colab": {}
      },
      "cell_type": "code",
      "source": [
        "biases = {\n",
        "    \"b1\": tf.Variable(tf.random_normal(shape=[n_hidden1])),\n",
        "    \"b2\": tf.Variable(tf.random_normal(shape=[n_hidden2])),\n",
        "    \"out\": tf.Variable(tf.random_normal(shape=[n_classes]))\n",
        "}"
      ],
      "execution_count": 0,
      "outputs": []
    },
    {
      "metadata": {
        "id": "ql-ykK5VlE7h",
        "colab_type": "text"
      },
      "cell_type": "markdown",
      "source": [
        "**Training parameters**"
      ]
    },
    {
      "metadata": {
        "id": "k0xEre30lAZy",
        "colab_type": "code",
        "colab": {}
      },
      "cell_type": "code",
      "source": [
        "training_epochs = 5\n",
        "learning_rate = 0.001\n",
        "batch_size = 100\n",
        "display_step = 1\n",
        "epsilon = 1e-3"
      ],
      "execution_count": 0,
      "outputs": []
    },
    {
      "metadata": {
        "id": "Mm6fCQuzlc6i",
        "colab_type": "text"
      },
      "cell_type": "markdown",
      "source": [
        "**Our model: 784-1024-512-10**"
      ]
    },
    {
      "metadata": {
        "id": "Et6-p7ColLWh",
        "colab_type": "code",
        "colab": {}
      },
      "cell_type": "code",
      "source": [
        "def multi_layer_perceptron(x, weights, biases):\n",
        "  \n",
        "  layer_1 = tf.add(tf.matmul(x, weights['h1']), biases['b1'])\n",
        "  \n",
        "  batch_mean_1, batch_var_1 = tf.nn.moments(layer_1,[0])\n",
        "  scale_1 = tf.Variable(tf.ones([n_hidden1]))\n",
        "  beta_1 = tf.Variable(tf.zeros([n_hidden1]))\n",
        "  layer_1 = tf.nn.batch_normalization(layer_1, batch_mean_1, batch_var_1, beta_1, scale_1, epsilon)\n",
        "  layer_1 = tf.nn.sigmoid(layer_1)\n",
        "  layer_1_drop = tf.nn.dropout(layer_1, keep_prob)\n",
        "  \n",
        "  layer_2 = tf.add(tf.matmul(layer_1_drop, weights['h2']), biases['b2'])\n",
        "  \n",
        "  batch_mean_2, batch_var_2 = tf.nn.moments(layer_2,[0])\n",
        "  scale_2 = tf.Variable(tf.ones([n_hidden2]))\n",
        "  beta_2 = tf.Variable(tf.zeros([n_hidden2]))\n",
        "  layer_2 = tf.nn.batch_normalization(layer_2,batch_mean_2,batch_var_2,beta_2,scale_2,epsilon)\n",
        "  layer_2 = tf.nn.sigmoid(layer_2)\n",
        "  layer_2_drop = tf.nn.dropout(layer_2, keep_prob)\n",
        "  \n",
        "  out_layer = tf.add(tf.matmul(layer_2_drop, weights['out']), biases['out'])\n",
        "  out_layer = tf.nn.sigmoid(out_layer)\n",
        "  \n",
        "  return out_layer"
      ],
      "execution_count": 0,
      "outputs": []
    },
    {
      "metadata": {
        "id": "ekGkB28LnLnx",
        "colab_type": "text"
      },
      "cell_type": "markdown",
      "source": [
        "**Model - ADAM**"
      ]
    },
    {
      "metadata": {
        "id": "jIM5ReKNri5X",
        "colab_type": "code",
        "colab": {}
      },
      "cell_type": "code",
      "source": [
        "# %matplotlib notebook\n",
        "import matplotlib.pyplot as plt\n",
        "import numpy as np\n",
        "import time\n",
        "\n",
        "def plt_dynamic(x, y, y_1, ax, ticks,title, colors=['b']):\n",
        "    ax.plot(x, y, 'b', label=\"Train Loss\")\n",
        "    ax.plot(x, y_1, 'r', label=\"Test Loss\")\n",
        "    if len(x)==1:\n",
        "        plt.legend()\n",
        "        plt.title(title)\n",
        "    plt.yticks(ticks)\n",
        "    fig.canvas.draw()"
      ],
      "execution_count": 0,
      "outputs": []
    },
    {
      "metadata": {
        "id": "5Q4s-o_Fmz3Q",
        "colab_type": "code",
        "outputId": "60167e01-1371-49e9-9c34-59fde69813ef",
        "colab": {
          "base_uri": "https://localhost:8080/",
          "height": 772
        }
      },
      "cell_type": "code",
      "source": [
        "y_sgd = multi_layer_perceptron(x, weights_relu, biases)\n",
        "cost_sgd = tf.reduce_mean(tf.nn.softmax_cross_entropy_with_logits(logits=y_sgd, labels = y_))\n",
        "# optimizer_adam = tf.train.AdamOptimizer(learning_rate=learning_rate).minimize(cost_sgd)\n",
        "\n",
        "with tf.Session() as sess:\n",
        "  tf.global_variables_initializer().run()\n",
        "  fig,ax = plt.subplots(1,1)\n",
        "  ax.set_xlabel('epoch')\n",
        "  ax.set_ylabel('Soft Max Cross Entropy loss')\n",
        "  xs, ytrs, ytes = [], [], []\n",
        "  for epoch in range(training_epochs):\n",
        "      train_avg_cost = 0.\n",
        "      test_avg_cost = 0.\n",
        "      total_batch = int(mnist.train.num_examples/batch_size)\n",
        "\n",
        "        # Loop over all batches\n",
        "      for i in range(total_batch):\n",
        "          batch_xs, batch_ys = mnist.train.next_batch(batch_size)\n",
        "          c, w = sess.run([cost_sgd, weights_relu], feed_dict={x: batch_xs, y_: batch_ys, keep_prob: 0.5})\n",
        "#           print('cost is ',c)\n",
        "          train_avg_cost += c / total_batch\n",
        "          c = sess.run(cost_sgd, feed_dict={x: mnist.test.images, y_: mnist.test.labels, keep_prob: 0.5})\n",
        "          test_avg_cost += c / total_batch\n",
        "      print('train_avg_cost',train_avg_cost)\n",
        "\n",
        "      xs.append(epoch)\n",
        "      ytrs.append(train_avg_cost)\n",
        "      ytes.append(test_avg_cost)\n",
        "#       plt_dynamic(xs, ytrs, ytes, ax, np.arange(1.3, 1.8, step=0.04), \"input-sigmoid(1024)-sigmoid(512)-sigmoid(output)-AdamOptimizer\")\n",
        "\n",
        "      if epoch%display_step == 0:\n",
        "          print(\"Epoch:\", '%04d' % (epoch+1), \"train cost={:.9f}\".format(train_avg_cost), \"test cost={:.9f}\".format(test_avg_cost))\n",
        "  plt_dynamic(xs, ytrs, ytes, ax, np.arange(1.3, 1.8, step=0.04), \"input-sigmoid(1024)-sigmoid(512)-sigmoid(output)-AdamOptimizer\")\n",
        "\n",
        "  # we are calculating the final accuracy on the test data\n",
        "  correct_prediction = tf.equal(tf.argmax(y_sgd,1), tf.argmax(y_,1))\n",
        "  accuracy = tf.reduce_mean(tf.cast(correct_prediction, tf.float32))\n",
        "  print(\"Accuracy:\", accuracy.eval({x: mnist.test.images, y_: mnist.test.labels, keep_prob: 1.0},))"
      ],
      "execution_count": 0,
      "outputs": [
        {
          "output_type": "stream",
          "text": [
            "WARNING:tensorflow:From <ipython-input-10-3338e985e7e2>:10: calling dropout (from tensorflow.python.ops.nn_ops) with keep_prob is deprecated and will be removed in a future version.\n",
            "Instructions for updating:\n",
            "Please use `rate` instead of `keep_prob`. Rate should be set to `rate = 1 - keep_prob`.\n",
            "WARNING:tensorflow:From <ipython-input-12-13ffa3ad038a>:2: softmax_cross_entropy_with_logits (from tensorflow.python.ops.nn_ops) is deprecated and will be removed in a future version.\n",
            "Instructions for updating:\n",
            "\n",
            "Future major versions of TensorFlow will allow gradients to flow\n",
            "into the labels input on backprop by default.\n",
            "\n",
            "See `tf.nn.softmax_cross_entropy_with_logits_v2`.\n",
            "\n",
            "train_avg_cost 2.3605736953561953\n",
            "Epoch: 0001 train cost=2.360573695 test cost=2.364476983\n",
            "train_avg_cost 2.3603043161738992\n",
            "Epoch: 0002 train cost=2.360304316 test cost=2.364417389\n",
            "train_avg_cost 2.359170761975373\n",
            "Epoch: 0003 train cost=2.359170762 test cost=2.364323669\n",
            "train_avg_cost 2.3603117656707773\n",
            "Epoch: 0004 train cost=2.360311766 test cost=2.364303958\n",
            "train_avg_cost 2.359598089131443\n",
            "Epoch: 0005 train cost=2.359598089 test cost=2.364389441\n",
            "Accuracy: 0.0914\n"
          ],
          "name": "stdout"
        },
        {
          "output_type": "display_data",
          "data": {
            "image/png": "[encoded data removed]",
            "text/plain": [
              "<Figure size 576x396 with 1 Axes>"
            ]
          },
          "metadata": {
            "tags": []
          }
        }
      ]
    },
    {
      "metadata": {
        "id": "Ru5eq2cr83Vi",
        "colab_type": "code",
        "outputId": "461dbc83-eb2f-42cd-f8f9-4ba4757c8977",
        "colab": {
          "base_uri": "https://localhost:8080/",
          "height": 366
        }
      },
      "cell_type": "code",
      "source": [
        "import seaborn as sns\n",
        "h1_w = w['h1'].flatten().reshape(-1,1)\n",
        "h2_w = w['h2'].flatten().reshape(-1,1)\n",
        "out_w = w['out'].flatten().reshape(-1,1)\n",
        "\n",
        "\n",
        "fig = plt.figure()\n",
        "plt.subplot(1, 3, 1)\n",
        "plt.title(\"Weight matrix\")\n",
        "ax = sns.violinplot(y=h1_w,color='b')\n",
        "plt.xlabel('Hidden Layer 1')\n",
        "\n",
        "plt.subplot(1, 3, 2)\n",
        "plt.title(\"Weight matrix \")\n",
        "ax = sns.violinplot(y=h2_w, color='r')\n",
        "plt.xlabel('Hidden Layer 2 ')\n",
        "\n",
        "plt.subplot(1, 3, 3)\n",
        "plt.title(\"Weight matrix \")\n",
        "ax = sns.violinplot(y=out_w,color='y')\n",
        "plt.xlabel('Output Layer ')\n",
        "plt.show()"
      ],
      "execution_count": 0,
      "outputs": [
        {
          "output_type": "display_data",
          "data": {
            "image/png": "[encoded data removed]",
            "text/plain": [
              "<Figure size 576x396 with 3 Axes>"
            ]
          },
          "metadata": {
            "tags": []
          }
        }
      ]
    },
    {
      "metadata": {
        "id": "0r8MDRAuFExZ",
        "colab_type": "code",
        "colab": {}
      },
      "cell_type": "code",
      "source": [
        ""
      ],
      "execution_count": 0,
      "outputs": []
    },
    {
      "metadata": {
        "id": "5LHyY_UuFGT5",
        "colab_type": "text"
      },
      "cell_type": "markdown",
      "source": [
        "# MODEL 2"
      ]
    },
    {
      "metadata": {
        "colab_type": "text",
        "id": "iEQMhelgFGsP"
      },
      "cell_type": "markdown",
      "source": [
        "**Part 1: Data collection**"
      ]
    },
    {
      "metadata": {
        "colab_type": "code",
        "id": "6CaA1vWLFGsi",
        "colab": {}
      },
      "cell_type": "code",
      "source": [
        "import warnings\n",
        "warnings.filterwarnings('ignore')"
      ],
      "execution_count": 0,
      "outputs": []
    },
    {
      "metadata": {
        "colab_type": "code",
        "outputId": "256707b7-552b-4822-8017-fb234db48b07",
        "id": "UcsEtfilFGsu",
        "colab": {
          "base_uri": "https://localhost:8080/",
          "height": 85
        }
      },
      "cell_type": "code",
      "source": [
        "mnist = input_data.read_data_sets(\"MNIST_data/\", one_hot=True)"
      ],
      "execution_count": 0,
      "outputs": [
        {
          "output_type": "stream",
          "text": [
            "Extracting MNIST_data/train-images-idx3-ubyte.gz\n",
            "Extracting MNIST_data/train-labels-idx1-ubyte.gz\n",
            "Extracting MNIST_data/t10k-images-idx3-ubyte.gz\n",
            "Extracting MNIST_data/t10k-labels-idx1-ubyte.gz\n"
          ],
          "name": "stdout"
        }
      ]
    },
    {
      "metadata": {
        "colab_type": "text",
        "id": "Mrr97UKsFGs6"
      },
      "cell_type": "markdown",
      "source": [
        "**Part 2: Defining the model**"
      ]
    },
    {
      "metadata": {
        "colab_type": "text",
        "id": "dLBfK_u6FGs9"
      },
      "cell_type": "markdown",
      "source": [
        "**Defining layers**"
      ]
    },
    {
      "metadata": {
        "colab_type": "code",
        "id": "dao5yNIWFGs_",
        "colab": {}
      },
      "cell_type": "code",
      "source": [
        "n_hidden1 = 320\n",
        "n_hidden2 = 160\n",
        "n_hidden3 = 80\n",
        "n_hidden4 = 40\n",
        "n_hidden5 = 20\n",
        "n_input = 784\n",
        "n_classes = 10"
      ],
      "execution_count": 0,
      "outputs": []
    },
    {
      "metadata": {
        "colab_type": "text",
        "id": "yI3srF0VFGtG"
      },
      "cell_type": "markdown",
      "source": [
        "**placeholder for input and output**"
      ]
    },
    {
      "metadata": {
        "colab_type": "code",
        "id": "1KSLhhsMFGtM",
        "colab": {}
      },
      "cell_type": "code",
      "source": [
        "x = tf.placeholder(tf.float32, [None, 784])\n",
        "y_ = tf.placeholder(tf.float32, [None, 10])\n",
        "\n",
        "keep_prob = tf.placeholder(tf.float32)\n",
        "keep_prob_input = tf.placeholder(tf.float32)"
      ],
      "execution_count": 0,
      "outputs": []
    },
    {
      "metadata": {
        "colab_type": "text",
        "id": "7Iq7g6SXFGtQ"
      },
      "cell_type": "markdown",
      "source": [
        "**weights initialisation**"
      ]
    },
    {
      "metadata": {
        "colab_type": "code",
        "id": "IWmmLvv3FGtR",
        "colab": {}
      },
      "cell_type": "code",
      "source": [
        "weights_relu = {\n",
        "    'h1': tf.Variable(tf.random_normal([n_input, n_hidden1],stddev=0.050, mean=0)),    \n",
        "    'h2': tf.Variable(tf.random_normal([n_hidden1, n_hidden2],stddev=0.079, mean=0)),\n",
        "    'h3': tf.Variable(tf.random_normal([n_hidden2, n_hidden3],stddev=0.111, mean=0)),\n",
        "    'h4': tf.Variable(tf.random_normal([n_hidden3, n_hidden4],stddev=0.158, mean=0)),\n",
        "    'h5': tf.Variable(tf.random_normal([n_hidden4, n_hidden5],stddev=0.223, mean=0)),\n",
        "    'out': tf.Variable(tf.random_normal([n_hidden2, n_classes],stddev=0.25, mean=0))  \n",
        "}"
      ],
      "execution_count": 0,
      "outputs": []
    },
    {
      "metadata": {
        "colab_type": "text",
        "id": "zRcmGydAFGta"
      },
      "cell_type": "markdown",
      "source": [
        "**biases initialisation**"
      ]
    },
    {
      "metadata": {
        "colab_type": "code",
        "id": "rWMONi1XFGtb",
        "colab": {}
      },
      "cell_type": "code",
      "source": [
        "biases = {\n",
        "    \"b1\": tf.Variable(tf.random_normal(shape=[n_hidden1])),\n",
        "    \"b2\": tf.Variable(tf.random_normal(shape=[n_hidden2])),\n",
        "    \"out\": tf.Variable(tf.random_normal(shape=[n_classes]))\n",
        "}"
      ],
      "execution_count": 0,
      "outputs": []
    },
    {
      "metadata": {
        "colab_type": "text",
        "id": "t-NO7OgeFGtd"
      },
      "cell_type": "markdown",
      "source": [
        "**Training parameters**"
      ]
    },
    {
      "metadata": {
        "colab_type": "code",
        "id": "bzwIfMH_FGte",
        "colab": {}
      },
      "cell_type": "code",
      "source": [
        "training_epochs = 15\n",
        "learning_rate = 0.001\n",
        "batch_size = 100\n",
        "display_step = 1\n",
        "epsilon = 1e-3"
      ],
      "execution_count": 0,
      "outputs": []
    },
    {
      "metadata": {
        "colab_type": "text",
        "id": "3tweEE2LFGth"
      },
      "cell_type": "markdown",
      "source": [
        "**Our model: 320-160-80-40-20**"
      ]
    },
    {
      "metadata": {
        "colab_type": "code",
        "id": "YBVeVYzmFGti",
        "colab": {}
      },
      "cell_type": "code",
      "source": [
        "def multi_layer_perceptron(x, weights, biases):\n",
        "  \n",
        "  layer_1 = tf.add(tf.matmul(x, weights['h1']), biases['b1'])\n",
        "  \n",
        "  batch_mean_1, batch_var_1 = tf.nn.moments(layer_1,[0])\n",
        "  scale_1 = tf.Variable(tf.ones([n_hidden1]))\n",
        "  beta_1 = tf.Variable(tf.zeros([n_hidden1]))\n",
        "  layer_1 = tf.nn.batch_normalization(layer_1, batch_mean_1, batch_var_1, beta_1, scale_1, epsilon)\n",
        "  layer_1 = tf.nn.sigmoid(layer_1)\n",
        "  layer_1_drop = tf.nn.dropout(layer_1, keep_prob)\n",
        "  \n",
        "  layer_2 = tf.add(tf.matmul(layer_1_drop, weights['h2']), biases['b2'])\n",
        "  \n",
        "  batch_mean_2, batch_var_2 = tf.nn.moments(layer_2,[0])\n",
        "  scale_2 = tf.Variable(tf.ones([n_hidden2]))\n",
        "  beta_2 = tf.Variable(tf.zeros([n_hidden2]))\n",
        "  layer_2 = tf.nn.batch_normalization(layer_2,batch_mean_2,batch_var_2,beta_2,scale_2,epsilon)\n",
        "  layer_2 = tf.nn.sigmoid(layer_2)\n",
        "  layer_2_drop = tf.nn.dropout(layer_2, keep_prob)\n",
        "  \n",
        "  out_layer = tf.add(tf.matmul(layer_2_drop, weights['out']), biases['out'])\n",
        "  out_layer = tf.nn.sigmoid(out_layer)\n",
        "  \n",
        "  return out_layer"
      ],
      "execution_count": 0,
      "outputs": []
    },
    {
      "metadata": {
        "colab_type": "text",
        "id": "u-Hg_V_oFGtl"
      },
      "cell_type": "markdown",
      "source": [
        "**Model - ADAM**"
      ]
    },
    {
      "metadata": {
        "colab_type": "code",
        "id": "yw9lYuaeFGtm",
        "colab": {}
      },
      "cell_type": "code",
      "source": [
        "# %matplotlib notebook\n",
        "import matplotlib.pyplot as plt\n",
        "import numpy as np\n",
        "import time\n",
        "\n",
        "def plt_dynamic(x, y, y_1, ax, ticks,title, colors=['b']):\n",
        "    ax.plot(x, y, 'b', label=\"Train Loss\")\n",
        "    ax.plot(x, y_1, 'r', label=\"Test Loss\")\n",
        "    if len(x)==1:\n",
        "        plt.legend()\n",
        "        plt.title(title)\n",
        "    plt.yticks(ticks)\n",
        "    fig.canvas.draw()"
      ],
      "execution_count": 0,
      "outputs": []
    },
    {
      "metadata": {
        "colab_type": "code",
        "outputId": "a32633b8-4735-4016-ed9f-23c58239ec97",
        "id": "2C62p4AzFGtt",
        "colab": {
          "base_uri": "https://localhost:8080/",
          "height": 888
        }
      },
      "cell_type": "code",
      "source": [
        "y_relu = multi_layer_perceptron(x, weights_relu, biases)\n",
        "cost_sgd = tf.reduce_mean(tf.nn.softmax_cross_entropy_with_logits(logits=y_relu, labels = y_))\n",
        "optimizer_adam = tf.train.AdamOptimizer(learning_rate=learning_rate).minimize(cost_sgd)\n",
        "\n",
        "with tf.Session() as sess:\n",
        "  tf.global_variables_initializer().run()\n",
        "  fig,ax = plt.subplots(1,1)\n",
        "  ax.set_xlabel('epoch')\n",
        "  ax.set_ylabel('Soft Max Cross Entropy loss')\n",
        "  xs, ytrs, ytes = [], [], []\n",
        "  for epoch in range(training_epochs):\n",
        "      train_avg_cost = 0.\n",
        "      test_avg_cost = 0.\n",
        "      total_batch = int(mnist.train.num_examples/batch_size)\n",
        "\n",
        "        # Loop over all batches\n",
        "      for i in range(total_batch):\n",
        "          batch_xs, batch_ys = mnist.train.next_batch(batch_size)\n",
        "          _, c, w = sess.run([optimizer_adam, cost_sgd, weights_relu], feed_dict={x: batch_xs, y_: batch_ys, keep_prob: 0.5})\n",
        "#           print('cost is ',c)\n",
        "          train_avg_cost += c / total_batch\n",
        "          c = sess.run(cost_sgd, feed_dict={x: mnist.test.images, y_: mnist.test.labels, keep_prob: 0.5})\n",
        "          test_avg_cost += c / total_batch\n",
        "      print('train_avg_cost',train_avg_cost)\n",
        "\n",
        "      xs.append(epoch)\n",
        "      ytrs.append(train_avg_cost)\n",
        "      ytes.append(test_avg_cost)\n",
        "#       plt_dynamic(xs, ytrs, ytes, ax, np.arange(1.3, 1.8, step=0.04), \"input-sigmoid(1024)-sigmoid(512)-sigmoid(output)-AdamOptimizer\")\n",
        "\n",
        "      if epoch%display_step == 0:\n",
        "          print(\"Epoch:\", '%04d' % (epoch+1), \"train cost={:.9f}\".format(train_avg_cost), \"test cost={:.9f}\".format(test_avg_cost))\n",
        "  plt_dynamic(xs, ytrs, ytes, ax, np.arange(1.3, 1.8, step=0.04), \"input-sigmoid(1024)-sigmoid(512)-sigmoid(output)-AdamOptimizer\")\n",
        "\n",
        "  # we are calculating the final accuracy on the test data\n",
        "  correct_prediction = tf.equal(tf.argmax(y_relu,1), tf.argmax(y_,1))\n",
        "  accuracy = tf.reduce_mean(tf.cast(correct_prediction, tf.float32))\n",
        "  print(\"Accuracy:\", accuracy.eval({x: mnist.test.images, y_: mnist.test.labels, keep_prob: 1.0},))"
      ],
      "execution_count": 0,
      "outputs": [
        {
          "output_type": "stream",
          "text": [
            "train_avg_cost 1.790287502028726\n",
            "Epoch: 0001 train cost=1.790287502 test cost=1.781122728\n",
            "train_avg_cost 1.6477837881174953\n",
            "Epoch: 0002 train cost=1.647783788 test cost=1.641126477\n",
            "train_avg_cost 1.611567121852529\n",
            "Epoch: 0003 train cost=1.611567122 test cost=1.605712509\n",
            "train_avg_cost 1.5919036728685545\n",
            "Epoch: 0004 train cost=1.591903673 test cost=1.585599597\n",
            "train_avg_cost 1.5772834381190213\n",
            "Epoch: 0005 train cost=1.577283438 test cost=1.571762931\n",
            "train_avg_cost 1.5653247711875222\n",
            "Epoch: 0006 train cost=1.565324771 test cost=1.560982146\n",
            "train_avg_cost 1.5557270856337113\n",
            "Epoch: 0007 train cost=1.555727086 test cost=1.552502518\n",
            "train_avg_cost 1.5484033643115653\n",
            "Epoch: 0008 train cost=1.548403364 test cost=1.545994174\n",
            "train_avg_cost 1.5421510932662283\n",
            "Epoch: 0009 train cost=1.542151093 test cost=1.540279112\n",
            "train_avg_cost 1.5367129863392208\n",
            "Epoch: 0010 train cost=1.536712986 test cost=1.535453473\n",
            "train_avg_cost 1.5316133878447802\n",
            "Epoch: 0011 train cost=1.531613388 test cost=1.530942009\n",
            "train_avg_cost 1.528269603252408\n",
            "Epoch: 0012 train cost=1.528269603 test cost=1.527319865\n",
            "train_avg_cost 1.5242741261829034\n",
            "Epoch: 0013 train cost=1.524274126 test cost=1.524289163\n",
            "train_avg_cost 1.5205005361817103\n",
            "Epoch: 0014 train cost=1.520500536 test cost=1.521935948\n",
            "train_avg_cost 1.518441127430308\n",
            "Epoch: 0015 train cost=1.518441127 test cost=1.519449106\n",
            "Accuracy: 0.9594\n"
          ],
          "name": "stdout"
        },
        {
          "output_type": "display_data",
          "data": {
            "image/png": "[encoded data removed]",
            "text/plain": [
              "<Figure size 576x396 with 1 Axes>"
            ]
          },
          "metadata": {
            "tags": []
          }
        }
      ]
    },
    {
      "metadata": {
        "colab_type": "code",
        "outputId": "33b04987-7df5-46f7-d7f3-cf820bd06b53",
        "id": "UVPRM5UhFGtw",
        "colab": {
          "base_uri": "https://localhost:8080/",
          "height": 366
        }
      },
      "cell_type": "code",
      "source": [
        "import seaborn as sns\n",
        "h1_w = w['h1'].flatten().reshape(-1,1)\n",
        "h2_w = w['h2'].flatten().reshape(-1,1)\n",
        "out_w = w['out'].flatten().reshape(-1,1)\n",
        "\n",
        "\n",
        "fig = plt.figure()\n",
        "plt.subplot(1, 3, 1)\n",
        "plt.title(\"Weight matrix\")\n",
        "ax = sns.violinplot(y=h1_w,color='b')\n",
        "plt.xlabel('Hidden Layer 1')\n",
        "\n",
        "plt.subplot(1, 3, 2)\n",
        "plt.title(\"Weight matrix \")\n",
        "ax = sns.violinplot(y=h2_w, color='r')\n",
        "plt.xlabel('Hidden Layer 2 ')\n",
        "\n",
        "plt.subplot(1, 3, 3)\n",
        "plt.title(\"Weight matrix \")\n",
        "ax = sns.violinplot(y=out_w,color='y')\n",
        "plt.xlabel('Output Layer ')\n",
        "plt.show()"
      ],
      "execution_count": 0,
      "outputs": [
        {
          "output_type": "display_data",
          "data": {
            "image/png": "[encoded data removed]",
            "text/plain": [
              "<Figure size 576x396 with 3 Axes>"
            ]
          },
          "metadata": {
            "tags": []
          }
        }
      ]
    },
    {
      "metadata": {
        "id": "jMuxpNUUIkgY",
        "colab_type": "text"
      },
      "cell_type": "markdown",
      "source": [
        "# MODEL 3"
      ]
    },
    {
      "metadata": {
        "colab_type": "text",
        "id": "FD0fHtX-IqzJ"
      },
      "cell_type": "markdown",
      "source": [
        "**Part 2: Defining the model**"
      ]
    },
    {
      "metadata": {
        "colab_type": "text",
        "id": "ptTlJGEpIqzK"
      },
      "cell_type": "markdown",
      "source": [
        "**Defining layers**"
      ]
    },
    {
      "metadata": {
        "colab_type": "code",
        "id": "mxUV4LrTIqzL",
        "colab": {}
      },
      "cell_type": "code",
      "source": [
        "n_hidden1 = 279\n",
        "n_hidden2 = 424\n",
        "n_hidden3 = 160\n",
        "n_input = 784\n",
        "n_classes = 10"
      ],
      "execution_count": 0,
      "outputs": []
    },
    {
      "metadata": {
        "colab_type": "text",
        "id": "ZJ-rJfO3IqzP"
      },
      "cell_type": "markdown",
      "source": [
        "**placeholder for input and output**"
      ]
    },
    {
      "metadata": {
        "colab_type": "code",
        "id": "Vx9kwDyWIqzP",
        "colab": {}
      },
      "cell_type": "code",
      "source": [
        "x = tf.placeholder(tf.float32, [None, 784])\n",
        "y_ = tf.placeholder(tf.float32, [None, 10])\n",
        "\n",
        "keep_prob = tf.placeholder(tf.float32)\n",
        "keep_prob_input = tf.placeholder(tf.float32)"
      ],
      "execution_count": 0,
      "outputs": []
    },
    {
      "metadata": {
        "colab_type": "text",
        "id": "AYOZQNlCIqzT"
      },
      "cell_type": "markdown",
      "source": [
        "**weights initialisation**"
      ]
    },
    {
      "metadata": {
        "colab_type": "code",
        "id": "oMElk3WeIqzU",
        "colab": {}
      },
      "cell_type": "code",
      "source": [
        "weights_relu = {\n",
        "    'h1': tf.Variable(tf.random_normal([n_input, n_hidden1],stddev=0.050, mean=0)),    \n",
        "    'h2': tf.Variable(tf.random_normal([n_hidden1, n_hidden2],stddev=0.084, mean=0)),\n",
        "    'h3': tf.Variable(tf.random_normal([n_hidden2, n_hidden3], stddev=0.068, mean=0)),\n",
        "    'out': tf.Variable(tf.random_normal([n_hidden3, n_classes],stddev=0.108, mean=0))  \n",
        "}"
      ],
      "execution_count": 0,
      "outputs": []
    },
    {
      "metadata": {
        "colab_type": "text",
        "id": "eAFzwarBIqzX"
      },
      "cell_type": "markdown",
      "source": [
        "**biases initialisation**"
      ]
    },
    {
      "metadata": {
        "colab_type": "code",
        "id": "TjqtVqgBIqzY",
        "colab": {}
      },
      "cell_type": "code",
      "source": [
        "biases = {\n",
        "    \"b1\": tf.Variable(tf.random_normal(shape=[n_hidden1])),\n",
        "    \"b2\": tf.Variable(tf.random_normal(shape=[n_hidden2])),\n",
        "    \"b3\": tf.Variable(tf.random_normal(shape=[n_hidden3])),\n",
        "    \"out\": tf.Variable(tf.random_normal(shape=[n_classes]))\n",
        "}"
      ],
      "execution_count": 0,
      "outputs": []
    },
    {
      "metadata": {
        "colab_type": "text",
        "id": "MnQm1PyVIqzc"
      },
      "cell_type": "markdown",
      "source": [
        "**Training parameters**"
      ]
    },
    {
      "metadata": {
        "colab_type": "code",
        "id": "2EX7ZFeFIqzd",
        "colab": {}
      },
      "cell_type": "code",
      "source": [
        "training_epochs = 15\n",
        "learning_rate = 0.001\n",
        "batch_size = 100\n",
        "display_step = 1\n",
        "epsilon = 1e-3"
      ],
      "execution_count": 0,
      "outputs": []
    },
    {
      "metadata": {
        "colab_type": "text",
        "id": "rylZ0V85Iqzk"
      },
      "cell_type": "markdown",
      "source": [
        "**Our model: 784-279-424-160-10**"
      ]
    },
    {
      "metadata": {
        "colab_type": "code",
        "id": "pl3UE6sFIqzl",
        "colab": {}
      },
      "cell_type": "code",
      "source": [
        "def multi_layer_perceptron(x, weights, biases):\n",
        "  \n",
        "  layer_1 = tf.add(tf.matmul(x, weights['h1']), biases['b1'])\n",
        "  \n",
        "  batch_mean_1, batch_var_1 = tf.nn.moments(layer_1,[0])\n",
        "  scale_1 = tf.Variable(tf.ones([n_hidden1]))\n",
        "  beta_1 = tf.Variable(tf.zeros([n_hidden1]))\n",
        "  layer_1 = tf.nn.batch_normalization(layer_1, batch_mean_1, batch_var_1, beta_1, scale_1, epsilon)\n",
        "  layer_1 = tf.nn.sigmoid(layer_1)\n",
        "  layer_1_drop = tf.nn.dropout(layer_1, keep_prob)\n",
        "  \n",
        "  layer_2 = tf.add(tf.matmul(layer_1_drop, weights['h2']), biases['b2'])\n",
        "  \n",
        "  batch_mean_2, batch_var_2 = tf.nn.moments(layer_2,[0])\n",
        "  scale_2 = tf.Variable(tf.ones([n_hidden2]))\n",
        "  beta_2 = tf.Variable(tf.zeros([n_hidden2]))\n",
        "  layer_2 = tf.nn.batch_normalization(layer_2,batch_mean_2,batch_var_2,beta_2,scale_2,epsilon)\n",
        "  layer_2 = tf.nn.sigmoid(layer_2)\n",
        "  layer_2_drop = tf.nn.dropout(layer_2, keep_prob)\n",
        "  \n",
        "  layer_3 = tf.add(tf.matmul(layer_2_drop, weights['h3']), biases['b3'])\n",
        "  \n",
        "  batch_mean_3, batch_var_3 = tf.nn.moments(layer_3,[0])\n",
        "  scale_3 = tf.Variable(tf.ones([n_hidden3]))\n",
        "  beta_3 = tf.Variable(tf.zeros([n_hidden3]))\n",
        "  layer_3 = tf.nn.batch_normalization(layer_3,batch_mean_3,batch_var_3,beta_3,scale_3,epsilon)\n",
        "  layer_3 = tf.nn.sigmoid(layer_3)\n",
        "  \n",
        "  out_layer = tf.add(tf.matmul(layer_3, weights['out']), biases['out'])\n",
        "  out_layer = tf.nn.sigmoid(out_layer)\n",
        "  \n",
        "  return out_layer"
      ],
      "execution_count": 0,
      "outputs": []
    },
    {
      "metadata": {
        "colab_type": "code",
        "id": "cGHfJcVzIqzr",
        "colab": {}
      },
      "cell_type": "code",
      "source": [
        "# %matplotlib notebook\n",
        "import matplotlib.pyplot as plt\n",
        "import numpy as np\n",
        "import time\n",
        "\n",
        "def plt_dynamic(x, y, y_1, ax, ticks,title, colors=['b']):\n",
        "    ax.plot(x, y, 'b', label=\"Train Loss\")\n",
        "    ax.plot(x, y_1, 'r', label=\"Test Loss\")\n",
        "    if len(x)==1:\n",
        "        plt.legend()\n",
        "        plt.title(title)\n",
        "    plt.yticks(ticks)\n",
        "    fig.canvas.draw()"
      ],
      "execution_count": 0,
      "outputs": []
    },
    {
      "metadata": {
        "colab_type": "code",
        "outputId": "62b59a09-8b29-4654-d1ea-c233319e6a3a",
        "id": "Xu0PM0oiIqzx",
        "colab": {
          "base_uri": "https://localhost:8080/",
          "height": 888
        }
      },
      "cell_type": "code",
      "source": [
        "y_relu = multi_layer_perceptron(x, weights_relu, biases)\n",
        "cost_sgd = tf.reduce_mean(tf.nn.softmax_cross_entropy_with_logits(logits=y_relu, labels = y_))\n",
        "optimizer_adam = tf.train.AdamOptimizer(learning_rate=learning_rate).minimize(cost_sgd)\n",
        "\n",
        "with tf.Session() as sess:\n",
        "  tf.global_variables_initializer().run()\n",
        "  fig,ax = plt.subplots(1,1)\n",
        "  ax.set_xlabel('epoch')\n",
        "  ax.set_ylabel('Soft Max Cross Entropy loss')\n",
        "  xs, ytrs, ytes = [], [], []\n",
        "  for epoch in range(training_epochs):\n",
        "      train_avg_cost = 0.\n",
        "      test_avg_cost = 0.\n",
        "      total_batch = int(mnist.train.num_examples/batch_size)\n",
        "\n",
        "        # Loop over all batches\n",
        "      for i in range(total_batch):\n",
        "          batch_xs, batch_ys = mnist.train.next_batch(batch_size)\n",
        "          _, c, w = sess.run([optimizer_adam, cost_sgd, weights_relu], feed_dict={x: batch_xs, y_: batch_ys, keep_prob: 0.5})\n",
        "#           print('cost is ',c)\n",
        "          train_avg_cost += c / total_batch\n",
        "          c = sess.run(cost_sgd, feed_dict={x: mnist.test.images, y_: mnist.test.labels, keep_prob: 0.5})\n",
        "          test_avg_cost += c / total_batch\n",
        "      print('train_avg_cost',train_avg_cost)\n",
        "\n",
        "      xs.append(epoch)\n",
        "      ytrs.append(train_avg_cost)\n",
        "      ytes.append(test_avg_cost)\n",
        "#       plt_dynamic(xs, ytrs, ytes, ax, np.arange(1.3, 1.8, step=0.04), \"input-sigmoid(1024)-sigmoid(512)-sigmoid(output)-AdamOptimizer\")\n",
        "\n",
        "      if epoch%display_step == 0:\n",
        "          print(\"Epoch:\", '%04d' % (epoch+1), \"train cost={:.9f}\".format(train_avg_cost), \"test cost={:.9f}\".format(test_avg_cost))\n",
        "  plt_dynamic(xs, ytrs, ytes, ax, np.arange(1.3, 1.8, step=0.04), \"input-sigmoid(1024)-sigmoid(512)-sigmoid(output)-AdamOptimizer\")\n",
        "\n",
        "  # we are calculating the final accuracy on the test data\n",
        "  correct_prediction = tf.equal(tf.argmax(y_relu,1), tf.argmax(y_,1))\n",
        "  accuracy = tf.reduce_mean(tf.cast(correct_prediction, tf.float32))\n",
        "  print(\"Accuracy:\", accuracy.eval({x: mnist.test.images, y_: mnist.test.labels, keep_prob: 1.0},))"
      ],
      "execution_count": 0,
      "outputs": [
        {
          "output_type": "stream",
          "text": [
            "train_avg_cost 1.8056624525243585\n",
            "Epoch: 0001 train cost=1.805662453 test cost=1.798165752\n",
            "train_avg_cost 1.6303321389718486\n",
            "Epoch: 0002 train cost=1.630332139 test cost=1.623343707\n",
            "train_avg_cost 1.5899573183059692\n",
            "Epoch: 0003 train cost=1.589957318 test cost=1.583571143\n",
            "train_avg_cost 1.5694473769448\n",
            "Epoch: 0004 train cost=1.569447377 test cost=1.563316114\n",
            "train_avg_cost 1.5551030024615204\n",
            "Epoch: 0005 train cost=1.555103002 test cost=1.550386606\n",
            "train_avg_cost 1.5448924443938512\n",
            "Epoch: 0006 train cost=1.544892444 test cost=1.540691459\n",
            "train_avg_cost 1.5366926828297705\n",
            "Epoch: 0007 train cost=1.536692683 test cost=1.533882157\n",
            "train_avg_cost 1.5304746636477393\n",
            "Epoch: 0008 train cost=1.530474664 test cost=1.528252281\n",
            "train_avg_cost 1.5252555441856384\n",
            "Epoch: 0009 train cost=1.525255544 test cost=1.523768594\n",
            "train_avg_cost 1.521023148189889\n",
            "Epoch: 0010 train cost=1.521023148 test cost=1.519921487\n",
            "train_avg_cost 1.5173541082035398\n",
            "Epoch: 0011 train cost=1.517354108 test cost=1.516454459\n",
            "train_avg_cost 1.5137487342140887\n",
            "Epoch: 0012 train cost=1.513748734 test cost=1.513628452\n",
            "train_avg_cost 1.5112559043277403\n",
            "Epoch: 0013 train cost=1.511255904 test cost=1.511325776\n",
            "train_avg_cost 1.508987853310325\n",
            "Epoch: 0014 train cost=1.508987853 test cost=1.509537354\n",
            "train_avg_cost 1.5054846421155066\n",
            "Epoch: 0015 train cost=1.505484642 test cost=1.507628099\n",
            "Accuracy: 0.9652\n"
          ],
          "name": "stdout"
        },
        {
          "output_type": "display_data",
          "data": {
            "image/png": "[encoded data removed]",
            "text/plain": [
              "<Figure size 576x396 with 1 Axes>"
            ]
          },
          "metadata": {
            "tags": []
          }
        }
      ]
    },
    {
      "metadata": {
        "colab_type": "code",
        "outputId": "6eca5b63-26bf-49b9-bae6-509f76d3c698",
        "id": "p9V2vNQuIqz4",
        "colab": {
          "base_uri": "https://localhost:8080/",
          "height": 366
        }
      },
      "cell_type": "code",
      "source": [
        "import seaborn as sns\n",
        "h1_w = w['h1'].flatten().reshape(-1,1)\n",
        "h2_w = w['h2'].flatten().reshape(-1,1)\n",
        "out_w = w['out'].flatten().reshape(-1,1)\n",
        "\n",
        "\n",
        "fig = plt.figure()\n",
        "plt.subplot(1, 3, 1)\n",
        "plt.title(\"Weight matrix\")\n",
        "ax = sns.violinplot(y=h1_w,color='b')\n",
        "plt.xlabel('Hidden Layer 1')\n",
        "\n",
        "plt.subplot(1, 3, 2)\n",
        "plt.title(\"Weight matrix \")\n",
        "ax = sns.violinplot(y=h2_w, color='r')\n",
        "plt.xlabel('Hidden Layer 2 ')\n",
        "\n",
        "plt.subplot(1, 3, 3)\n",
        "plt.title(\"Weight matrix \")\n",
        "ax = sns.violinplot(y=out_w,color='y')\n",
        "plt.xlabel('Output Layer ')\n",
        "plt.show()"
      ],
      "execution_count": 0,
      "outputs": [
        {
          "output_type": "display_data",
          "data": {
            "image/png": "[encoded data removed]",
            "text/plain": [
              "<Figure size 576x396 with 3 Axes>"
            ]
          },
          "metadata": {
            "tags": []
          }
        }
      ]
    },
    {
      "metadata": {
        "id": "Vi10hHAYX0l7",
        "colab_type": "code",
        "colab": {}
      },
      "cell_type": "code",
      "source": [
        "from prettytable import PrettyTable"
      ],
      "execution_count": 0,
      "outputs": []
    },
    {
      "metadata": {
        "id": "FXAlC9yoYPeU",
        "colab_type": "code",
        "colab": {}
      },
      "cell_type": "code",
      "source": [
        "x = PrettyTable()"
      ],
      "execution_count": 0,
      "outputs": []
    },
    {
      "metadata": {
        "id": "ILbAq7FBYPZC",
        "colab_type": "code",
        "colab": {}
      },
      "cell_type": "code",
      "source": [
        "x.field_names = ['S.no', 'model','epochs', 'training_cost', 'testing_cost','accuracy']"
      ],
      "execution_count": 0,
      "outputs": []
    },
    {
      "metadata": {
        "id": "cgsT-fOUX0il",
        "colab_type": "code",
        "colab": {}
      },
      "cell_type": "code",
      "source": [
        "x.add_row(['1','784-1024-512-10','15','1.50','1.50', '96.35'])\n",
        "x.add_row(['2','784-320-160-80-40-20-10','15','1.51','1.51','95.94'])\n",
        "x.add_row(['3','784-279-424-160-10','15','1.50','1.50','96.52'])"
      ],
      "execution_count": 0,
      "outputs": []
    },
    {
      "metadata": {
        "id": "p_HMFb-JX0fP",
        "colab_type": "code",
        "outputId": "451b3154-4215-41e2-c51c-f4ddbb858ffc",
        "colab": {
          "base_uri": "https://localhost:8080/",
          "height": 136
        }
      },
      "cell_type": "code",
      "source": [
        "print(x)"
      ],
      "execution_count": 0,
      "outputs": [
        {
          "output_type": "stream",
          "text": [
            "+------+-------------------------+--------+---------------+--------------+----------+\n",
            "| S.no |          model          | epochs | training_cost | testing_cost | accuracy |\n",
            "+------+-------------------------+--------+---------------+--------------+----------+\n",
            "|  1   |     784-1024-512-10     |   15   |      1.50     |     1.50     |  96.35   |\n",
            "|  2   | 784-320-160-80-40-20-10 |   15   |      1.51     |     1.51     |  95.94   |\n",
            "|  3   |    784-279-424-160-10   |   15   |      1.50     |     1.50     |  96.52   |\n",
            "+------+-------------------------+--------+---------------+--------------+----------+\n"
          ],
          "name": "stdout"
        }
      ]
    },
    {
      "metadata": {
        "id": "0N7ca6rNlC2g",
        "colab_type": "text"
      },
      "cell_type": "markdown",
      "source": [
        "## End of assignment"
      ]
    },
    {
      "metadata": {
        "id": "HBIuAGorlHri",
        "colab_type": "text"
      },
      "cell_type": "markdown",
      "source": [
        "# Extras"
      ]
    },
    {
      "metadata": {
        "id": "O5E2Npvx605c",
        "colab_type": "text"
      },
      "cell_type": "markdown",
      "source": [
        "# KERAS IMPLEMENTATION"
      ]
    },
    {
      "metadata": {
        "id": "d6zLSHcOZFbd",
        "colab_type": "text"
      },
      "cell_type": "markdown",
      "source": [
        "# KERAS MODEL 1"
      ]
    },
    {
      "metadata": {
        "colab_type": "code",
        "id": "r9SoFpAzYMm8",
        "outputId": "c2d44dab-f6a6-4bc8-87e6-3ba6a1fb60cf",
        "colab": {
          "base_uri": "https://localhost:8080/",
          "height": 34
        }
      },
      "cell_type": "code",
      "source": [
        "import keras\n",
        "from keras.datasets import mnist\n",
        "import tensorflow as tf"
      ],
      "execution_count": 0,
      "outputs": [
        {
          "output_type": "stream",
          "text": [
            "Using TensorFlow backend.\n"
          ],
          "name": "stderr"
        }
      ]
    },
    {
      "metadata": {
        "id": "vJoNVaZlcIC4",
        "colab_type": "code",
        "colab": {}
      },
      "cell_type": "code",
      "source": [
        "num_classes = 10\n",
        "num_epochs = 1\n",
        "batch_size = 20"
      ],
      "execution_count": 0,
      "outputs": []
    },
    {
      "metadata": {
        "id": "5rC4JGofZEAK",
        "colab_type": "code",
        "outputId": "1103225c-841c-4755-8656-7b54f524aafa",
        "colab": {
          "base_uri": "https://localhost:8080/",
          "height": 51
        }
      },
      "cell_type": "code",
      "source": [
        "(x_train, y_train),(x_test, y_test) = mnist.load_data()"
      ],
      "execution_count": 0,
      "outputs": [
        {
          "output_type": "stream",
          "text": [
            "Downloading data from https://s3.amazonaws.com/img-datasets/mnist.npz\n",
            "11493376/11490434 [==============================] - 0s 0us/step\n"
          ],
          "name": "stdout"
        }
      ]
    },
    {
      "metadata": {
        "id": "Wv-7L2wTZKXq",
        "colab_type": "code",
        "colab": {}
      },
      "cell_type": "code",
      "source": [
        "x_train = x_train.reshape(x_train.shape[0], x_train.shape[1]*x_train.shape[2])\n",
        "x_test = x_test.reshape(x_test.shape[0], x_test.shape[1]*x_test.shape[2])"
      ],
      "execution_count": 0,
      "outputs": []
    },
    {
      "metadata": {
        "id": "jFsLGwirb4ho",
        "colab_type": "code",
        "colab": {}
      },
      "cell_type": "code",
      "source": [
        "x_train = x_train.astype('float32')\n",
        "x_test = x_test.astype('float32')"
      ],
      "execution_count": 0,
      "outputs": []
    },
    {
      "metadata": {
        "id": "yjm7R0XPZzdZ",
        "colab_type": "code",
        "colab": {}
      },
      "cell_type": "code",
      "source": [
        "x_test /= 255.0\n",
        "x_train /= 255.0\n",
        "y_train = keras.utils.to_categorical(y_train, num_classes)\n",
        "y_test = keras.utils.to_categorical(y_test, num_classes)"
      ],
      "execution_count": 0,
      "outputs": []
    },
    {
      "metadata": {
        "id": "_wk0PQc_XuDZ",
        "colab_type": "code",
        "colab": {}
      },
      "cell_type": "code",
      "source": [
        "from keras import layers\n",
        "from keras.models import Sequential\n",
        "from keras.layers import Dense, Flatten, MaxPool2D, Dropout, BatchNormalization"
      ],
      "execution_count": 0,
      "outputs": []
    },
    {
      "metadata": {
        "id": "NFovUNYRdUfm",
        "colab_type": "code",
        "outputId": "b93ead97-f833-4d6d-d477-e0932b0a8510",
        "colab": {
          "base_uri": "https://localhost:8080/",
          "height": 88
        }
      },
      "cell_type": "code",
      "source": [
        "model = Sequential()\n",
        "model.add(Dense(784, activation='relu' ,input_shape = (784,)))\n",
        "model.add(Dense(1024, activation='relu'))\n",
        "model.add(Dense(512, activation='relu'))\n",
        "model.add(Dense(128, activation='relu'))\n",
        "model.add(Dense(10, activation='softmax'))"
      ],
      "execution_count": 0,
      "outputs": [
        {
          "output_type": "stream",
          "text": [
            "WARNING:tensorflow:From /usr/local/lib/python3.6/dist-packages/tensorflow/python/framework/op_def_library.py:263: colocate_with (from tensorflow.python.framework.ops) is deprecated and will be removed in a future version.\n",
            "Instructions for updating:\n",
            "Colocations handled automatically by placer.\n"
          ],
          "name": "stdout"
        }
      ]
    },
    {
      "metadata": {
        "id": "5VsaB7i-d7u5",
        "colab_type": "code",
        "outputId": "864cccaa-7567-4bda-e24c-580b76f6316b",
        "colab": {
          "base_uri": "https://localhost:8080/",
          "height": 163
        }
      },
      "cell_type": "code",
      "source": [
        "model.compile(optimizer=keras.optimizers. loss=keras.losses.categorical_crossentropy, metrics=['accuracy'])"
      ],
      "execution_count": 0,
      "outputs": [
        {
          "output_type": "error",
          "ename": "TypeError",
          "evalue": "ignored",
          "traceback": [
            "\u001b[0;31m---------------------------------------------------------------------------\u001b[0m",
            "\u001b[0;31mTypeError\u001b[0m                                 Traceback (most recent call last)",
            "\u001b[0;32m<ipython-input-10-11ad1dedd280>\u001b[0m in \u001b[0;36m<module>\u001b[0;34m()\u001b[0m\n\u001b[0;32m----> 1\u001b[0;31m \u001b[0mmodel\u001b[0m\u001b[0;34m.\u001b[0m\u001b[0mcompile\u001b[0m\u001b[0;34m(\u001b[0m\u001b[0mloss\u001b[0m\u001b[0;34m=\u001b[0m\u001b[0mkeras\u001b[0m\u001b[0;34m.\u001b[0m\u001b[0mlosses\u001b[0m\u001b[0;34m.\u001b[0m\u001b[0mcategorical_crossentropy\u001b[0m\u001b[0;34m,\u001b[0m \u001b[0mmetrics\u001b[0m\u001b[0;34m=\u001b[0m\u001b[0;34m[\u001b[0m\u001b[0;34m'accuracy'\u001b[0m\u001b[0;34m]\u001b[0m\u001b[0;34m)\u001b[0m\u001b[0;34m\u001b[0m\u001b[0;34m\u001b[0m\u001b[0m\n\u001b[0m",
            "\u001b[0;31mTypeError\u001b[0m: compile() missing 1 required positional argument: 'optimizer'"
          ]
        }
      ]
    },
    {
      "metadata": {
        "id": "HrNwdejteOy4",
        "colab_type": "code",
        "outputId": "aa3a4a8a-878b-40e7-ecfe-8856cb146170",
        "colab": {
          "base_uri": "https://localhost:8080/",
          "height": 462
        }
      },
      "cell_type": "code",
      "source": [
        "model.fit(x_train, y_train, batch_size=batch_size, epochs=num_epochs, validation_data=(x_test, y_test))"
      ],
      "execution_count": 0,
      "outputs": [
        {
          "output_type": "stream",
          "text": [
            "WARNING:tensorflow:From /usr/local/lib/python3.6/dist-packages/tensorflow/python/ops/math_ops.py:3066: to_int32 (from tensorflow.python.ops.math_ops) is deprecated and will be removed in a future version.\n",
            "Instructions for updating:\n",
            "Use tf.cast instead.\n",
            "Train on 60000 samples, validate on 10000 samples\n",
            "Epoch 1/10\n",
            "60000/60000 [==============================] - 28s 470us/step - loss: 0.2232 - acc: 0.9345 - val_loss: 0.1174 - val_acc: 0.9686\n",
            "Epoch 2/10\n",
            "60000/60000 [==============================] - 25s 423us/step - loss: 0.1144 - acc: 0.9687 - val_loss: 0.1113 - val_acc: 0.9689\n",
            "Epoch 3/10\n",
            "60000/60000 [==============================] - 25s 422us/step - loss: 0.0848 - acc: 0.9765 - val_loss: 0.0956 - val_acc: 0.9740\n",
            "Epoch 4/10\n",
            "60000/60000 [==============================] - 25s 417us/step - loss: 0.0663 - acc: 0.9818 - val_loss: 0.1008 - val_acc: 0.9759\n",
            "Epoch 5/10\n",
            "60000/60000 [==============================] - 25s 416us/step - loss: 0.0575 - acc: 0.9841 - val_loss: 0.0934 - val_acc: 0.9781\n",
            "Epoch 6/10\n",
            "60000/60000 [==============================] - 25s 417us/step - loss: 0.0512 - acc: 0.9863 - val_loss: 0.1196 - val_acc: 0.9732\n",
            "Epoch 7/10\n",
            "60000/60000 [==============================] - 25s 417us/step - loss: 0.0460 - acc: 0.9878 - val_loss: 0.1326 - val_acc: 0.9746\n",
            "Epoch 8/10\n",
            "60000/60000 [==============================] - 25s 417us/step - loss: 0.0424 - acc: 0.9892 - val_loss: 0.0882 - val_acc: 0.9785\n",
            "Epoch 9/10\n",
            "60000/60000 [==============================] - 25s 418us/step - loss: 0.0364 - acc: 0.9902 - val_loss: 0.0949 - val_acc: 0.9816\n",
            "Epoch 10/10\n",
            "60000/60000 [==============================] - 25s 417us/step - loss: 0.0362 - acc: 0.9909 - val_loss: 0.0833 - val_acc: 0.9809\n"
          ],
          "name": "stdout"
        },
        {
          "output_type": "execute_result",
          "data": {
            "text/plain": [
              "<keras.callbacks.History at 0x7fedf02f5f98>"
            ]
          },
          "metadata": {
            "tags": []
          },
          "execution_count": 19
        }
      ]
    },
    {
      "metadata": {
        "id": "OrA-NTP9ehCJ",
        "colab_type": "code",
        "outputId": "4541b887-168e-4dab-d207-04f8f4478b6f",
        "colab": {
          "base_uri": "https://localhost:8080/",
          "height": 306
        }
      },
      "cell_type": "code",
      "source": [
        "model.summary()"
      ],
      "execution_count": 0,
      "outputs": [
        {
          "output_type": "stream",
          "text": [
            "_________________________________________________________________\n",
            "Layer (type)                 Output Shape              Param #   \n",
            "=================================================================\n",
            "dense_1 (Dense)              (None, 784)               615440    \n",
            "_________________________________________________________________\n",
            "dense_2 (Dense)              (None, 1024)              803840    \n",
            "_________________________________________________________________\n",
            "dense_3 (Dense)              (None, 512)               524800    \n",
            "_________________________________________________________________\n",
            "dense_4 (Dense)              (None, 128)               65664     \n",
            "_________________________________________________________________\n",
            "dense_5 (Dense)              (None, 10)                1290      \n",
            "=================================================================\n",
            "Total params: 2,011,034\n",
            "Trainable params: 2,011,034\n",
            "Non-trainable params: 0\n",
            "_________________________________________________________________\n"
          ],
          "name": "stdout"
        }
      ]
    },
    {
      "metadata": {
        "id": "62MolVl4Q6dp",
        "colab_type": "code",
        "colab": {}
      },
      "cell_type": "code",
      "source": [
        "from keras.utils import plot_model\n",
        "import matplotlib.pyplot as plt"
      ],
      "execution_count": 0,
      "outputs": []
    },
    {
      "metadata": {
        "id": "UTZ_R79IRJpH",
        "colab_type": "code",
        "outputId": "b03fdb99-755b-4ce2-fe7e-e4920c2b2d44",
        "colab": {
          "base_uri": "https://localhost:8080/",
          "height": 376
        }
      },
      "cell_type": "code",
      "source": [
        "plt.plot(model.history.history['loss'])\n",
        "plt.plot(model.history.history['val_loss'])\n",
        "plt.title('Model Loss')\n",
        "plt.ylabel('Loss')\n",
        "plt.xlabel('Epoch')\n",
        "plt.legend(['Train', 'Test'], loc='upper left')\n",
        "plt.show()"
      ],
      "execution_count": 0,
      "outputs": [
        {
          "output_type": "display_data",
          "data": {
            "image/png": "[encoded data removed]",
            "text/plain": [
              "<Figure size 576x396 with 1 Axes>"
            ]
          },
          "metadata": {
            "tags": []
          }
        }
      ]
    },
    {
      "metadata": {
        "id": "plPLSD0qde6G",
        "colab_type": "code",
        "colab": {}
      },
      "cell_type": "code",
      "source": [
        "from keras.datasets import mnist"
      ],
      "execution_count": 0,
      "outputs": []
    },
    {
      "metadata": {
        "id": "HOUl_O5JgwrZ",
        "colab_type": "code",
        "outputId": "993b57df-9a3d-4a77-aacd-07a009d7c6fd",
        "colab": {
          "base_uri": "https://localhost:8080/",
          "height": 306
        }
      },
      "cell_type": "code",
      "source": [
        "model.summary()"
      ],
      "execution_count": 0,
      "outputs": [
        {
          "output_type": "stream",
          "text": [
            "_________________________________________________________________\n",
            "Layer (type)                 Output Shape              Param #   \n",
            "=================================================================\n",
            "dense_1 (Dense)              (None, 784)               615440    \n",
            "_________________________________________________________________\n",
            "dense_2 (Dense)              (None, 1024)              803840    \n",
            "_________________________________________________________________\n",
            "dense_3 (Dense)              (None, 512)               524800    \n",
            "_________________________________________________________________\n",
            "dense_4 (Dense)              (None, 128)               65664     \n",
            "_________________________________________________________________\n",
            "dense_5 (Dense)              (None, 10)                1290      \n",
            "=================================================================\n",
            "Total params: 2,011,034\n",
            "Trainable params: 2,011,034\n",
            "Non-trainable params: 0\n",
            "_________________________________________________________________\n"
          ],
          "name": "stdout"
        }
      ]
    },
    {
      "metadata": {
        "id": "AOLb5kFQg-uE",
        "colab_type": "code",
        "colab": {}
      },
      "cell_type": "code",
      "source": [
        "import numpy as np"
      ],
      "execution_count": 0,
      "outputs": []
    },
    {
      "metadata": {
        "id": "vPT_3B1ng0bV",
        "colab_type": "code",
        "colab": {}
      },
      "cell_type": "code",
      "source": [
        "mat_x_test = np.asmatrix(x_test)"
      ],
      "execution_count": 0,
      "outputs": []
    },
    {
      "metadata": {
        "id": "H9GYqkDLhDPJ",
        "colab_type": "code",
        "outputId": "6a39d6f4-da3e-4a6a-e7af-7bf21d250c86",
        "colab": {
          "base_uri": "https://localhost:8080/",
          "height": 34
        }
      },
      "cell_type": "code",
      "source": [
        "mat_x_test[0].shape"
      ],
      "execution_count": 0,
      "outputs": [
        {
          "output_type": "execute_result",
          "data": {
            "text/plain": [
              "(1, 784)"
            ]
          },
          "metadata": {
            "tags": []
          },
          "execution_count": 42
        }
      ]
    },
    {
      "metadata": {
        "id": "KR_tgcBYhJR0",
        "colab_type": "code",
        "colab": {}
      },
      "cell_type": "code",
      "source": [
        "mat_y_test = np.asmatrix(y_test)"
      ],
      "execution_count": 0,
      "outputs": []
    },
    {
      "metadata": {
        "id": "Fz8M4PaCf3CV",
        "colab_type": "code",
        "outputId": "8bb1c52b-fcde-4a93-a854-663496db1899",
        "colab": {
          "base_uri": "https://localhost:8080/",
          "height": 51
        }
      },
      "cell_type": "code",
      "source": [
        "model.evaluate(x=mat_x_test, y=mat_y_test)"
      ],
      "execution_count": 0,
      "outputs": [
        {
          "output_type": "stream",
          "text": [
            "10000/10000 [==============================] - 1s 61us/step\n"
          ],
          "name": "stdout"
        },
        {
          "output_type": "execute_result",
          "data": {
            "text/plain": [
              "[0.08331480011504941, 0.9809]"
            ]
          },
          "metadata": {
            "tags": []
          },
          "execution_count": 48
        }
      ]
    },
    {
      "metadata": {
        "id": "did3PhDNSyyI",
        "colab_type": "text"
      },
      "cell_type": "markdown",
      "source": [
        "# KERAS MODEL 2"
      ]
    },
    {
      "metadata": {
        "colab_type": "code",
        "id": "zGdUgdrdS91b",
        "colab": {}
      },
      "cell_type": "code",
      "source": [
        "model = Sequential()\n",
        "model.add(Dense(784, activation='relu' ,input_shape = (784,)))\n",
        "model.add(Dense(684, activation='relu'))\n",
        "model.add(Dense(424, activation='relu'))\n",
        "model.add(Dense(128, activation='relu'))\n",
        "model.add(Dense(64, activation='relu'))\n",
        "model.add(Dense(6, activation='relu'))\n",
        "model.add(Dense(10, activation='softmax'))"
      ],
      "execution_count": 0,
      "outputs": []
    },
    {
      "metadata": {
        "colab_type": "code",
        "id": "QwwtMJEyS91j",
        "colab": {}
      },
      "cell_type": "code",
      "source": [
        "model.compile(optimizer=keras.optimizers.Adam(), loss=keras.losses.categorical_crossentropy, metrics=['accuracy'])"
      ],
      "execution_count": 0,
      "outputs": []
    },
    {
      "metadata": {
        "colab_type": "code",
        "outputId": "08878349-b9db-4d90-cb0b-7a4dd3c8f894",
        "id": "1zsjJAIcS91p",
        "colab": {
          "base_uri": "https://localhost:8080/",
          "height": 391
        }
      },
      "cell_type": "code",
      "source": [
        "model.fit(x_train, y_train, batch_size=batch_size, epochs=num_epochs, validation_data=(x_test, y_test))"
      ],
      "execution_count": 0,
      "outputs": [
        {
          "output_type": "stream",
          "text": [
            "Train on 60000 samples, validate on 10000 samples\n",
            "Epoch 1/10\n",
            "60000/60000 [==============================] - 29s 491us/step - loss: 0.4200 - acc: 0.9100 - val_loss: 0.2464 - val_acc: 0.9467\n",
            "Epoch 2/10\n",
            "60000/60000 [==============================] - 29s 476us/step - loss: 0.1488 - acc: 0.9655 - val_loss: 0.1193 - val_acc: 0.9709\n",
            "Epoch 3/10\n",
            "60000/60000 [==============================] - 29s 475us/step - loss: 0.0989 - acc: 0.9760 - val_loss: 0.1002 - val_acc: 0.9770\n",
            "Epoch 4/10\n",
            "60000/60000 [==============================] - 29s 476us/step - loss: 0.0770 - acc: 0.9802 - val_loss: 0.0950 - val_acc: 0.9786\n",
            "Epoch 5/10\n",
            "60000/60000 [==============================] - 28s 475us/step - loss: 0.0649 - acc: 0.9839 - val_loss: 0.0977 - val_acc: 0.9762\n",
            "Epoch 6/10\n",
            "60000/60000 [==============================] - 29s 476us/step - loss: 0.0544 - acc: 0.9864 - val_loss: 0.1008 - val_acc: 0.9784\n",
            "Epoch 7/10\n",
            "60000/60000 [==============================] - 29s 476us/step - loss: 0.0486 - acc: 0.9874 - val_loss: 0.0989 - val_acc: 0.9771\n",
            "Epoch 8/10\n",
            "60000/60000 [==============================] - 29s 478us/step - loss: 0.0394 - acc: 0.9902 - val_loss: 0.1241 - val_acc: 0.9763\n",
            "Epoch 9/10\n",
            "60000/60000 [==============================] - 28s 474us/step - loss: 0.0402 - acc: 0.9899 - val_loss: 0.1256 - val_acc: 0.9729\n",
            "Epoch 10/10\n",
            "60000/60000 [==============================] - 29s 478us/step - loss: 0.0373 - acc: 0.9912 - val_loss: 0.1075 - val_acc: 0.9811\n"
          ],
          "name": "stdout"
        },
        {
          "output_type": "execute_result",
          "data": {
            "text/plain": [
              "<keras.callbacks.History at 0x7f7b07ac3400>"
            ]
          },
          "metadata": {
            "tags": []
          },
          "execution_count": 114
        }
      ]
    },
    {
      "metadata": {
        "colab_type": "code",
        "outputId": "ba1012b6-b94f-4db9-f3a2-8f2089716bd6",
        "id": "UKNT-eHZS91x",
        "colab": {
          "base_uri": "https://localhost:8080/",
          "height": 374
        }
      },
      "cell_type": "code",
      "source": [
        "model.summary()"
      ],
      "execution_count": 0,
      "outputs": [
        {
          "output_type": "stream",
          "text": [
            "_________________________________________________________________\n",
            "Layer (type)                 Output Shape              Param #   \n",
            "=================================================================\n",
            "dense_6 (Dense)              (None, 784)               615440    \n",
            "_________________________________________________________________\n",
            "dense_7 (Dense)              (None, 684)               536940    \n",
            "_________________________________________________________________\n",
            "dense_8 (Dense)              (None, 424)               290440    \n",
            "_________________________________________________________________\n",
            "dense_9 (Dense)              (None, 128)               54400     \n",
            "_________________________________________________________________\n",
            "dense_10 (Dense)             (None, 64)                8256      \n",
            "_________________________________________________________________\n",
            "dense_11 (Dense)             (None, 6)                 390       \n",
            "_________________________________________________________________\n",
            "dense_12 (Dense)             (None, 10)                70        \n",
            "=================================================================\n",
            "Total params: 1,505,936\n",
            "Trainable params: 1,505,936\n",
            "Non-trainable params: 0\n",
            "_________________________________________________________________\n"
          ],
          "name": "stdout"
        }
      ]
    },
    {
      "metadata": {
        "colab_type": "code",
        "id": "ZIry_4Z6S914",
        "colab": {}
      },
      "cell_type": "code",
      "source": [
        "from keras.utils import plot_model"
      ],
      "execution_count": 0,
      "outputs": []
    },
    {
      "metadata": {
        "colab_type": "code",
        "outputId": "a96ba453-bc8c-4a1b-a4c1-35b4e2af8954",
        "id": "EC8Uru4QS918",
        "colab": {
          "base_uri": "https://localhost:8080/",
          "height": 376
        }
      },
      "cell_type": "code",
      "source": [
        "plt.plot(model.history.history['loss'])\n",
        "plt.plot(model.history.history['val_loss'])\n",
        "plt.title('Model Loss')\n",
        "plt.ylabel('Loss')\n",
        "plt.xlabel('Epoch')\n",
        "plt.legend(['Train', 'Test'], loc='upper left')\n",
        "plt.show()"
      ],
      "execution_count": 0,
      "outputs": [
        {
          "output_type": "display_data",
          "data": {
            "image/png": "[encoded data removed]",
            "text/plain": [
              "<Figure size 576x396 with 1 Axes>"
            ]
          },
          "metadata": {
            "tags": []
          }
        }
      ]
    },
    {
      "metadata": {
        "id": "jsbOekw8jszE",
        "colab_type": "code",
        "outputId": "e300348a-f4cf-4ba4-c4d8-4a8a066ff686",
        "colab": {
          "base_uri": "https://localhost:8080/",
          "height": 51
        }
      },
      "cell_type": "code",
      "source": [
        "model.evaluate(x=mat_x_test, y=mat_y_test)"
      ],
      "execution_count": 0,
      "outputs": [
        {
          "output_type": "stream",
          "text": [
            "10000/10000 [==============================] - 1s 68us/step\n"
          ],
          "name": "stdout"
        },
        {
          "output_type": "execute_result",
          "data": {
            "text/plain": [
              "[2.305492371368408, 0.0855]"
            ]
          },
          "metadata": {
            "tags": []
          },
          "execution_count": 51
        }
      ]
    },
    {
      "metadata": {
        "id": "5Ftv2m2HZOPn",
        "colab_type": "text"
      },
      "cell_type": "markdown",
      "source": [
        "# KERAS MODEL 3"
      ]
    },
    {
      "metadata": {
        "colab_type": "code",
        "id": "7VOq6xQkZRFr",
        "colab": {}
      },
      "cell_type": "code",
      "source": [
        "model = Sequential()\n",
        "model.add(Dense(784, activation='relu' ,input_shape = (784,)))\n",
        "model.add(Dense(45, activation='relu'))\n",
        "model.add(Dense(85, activation='relu'))\n",
        "model.add(Dense(10, activation='softmax'))"
      ],
      "execution_count": 0,
      "outputs": []
    },
    {
      "metadata": {
        "colab_type": "code",
        "id": "8XWbvzQuZRFy",
        "colab": {}
      },
      "cell_type": "code",
      "source": [
        "model.compile(optimizer=keras.optimizers.Adam(), loss=keras.losses.categorical_crossentropy, metrics=['accuracy'])"
      ],
      "execution_count": 0,
      "outputs": []
    },
    {
      "metadata": {
        "colab_type": "code",
        "outputId": "93075e10-878d-417b-f404-9a437da45a52",
        "id": "FEgeRReqZRF6",
        "colab": {
          "base_uri": "https://localhost:8080/",
          "height": 391
        }
      },
      "cell_type": "code",
      "source": [
        "model.fit(x_train, y_train, batch_size=batch_size, epochs=num_epochs, validation_data=(x_test, y_test))"
      ],
      "execution_count": 0,
      "outputs": [
        {
          "output_type": "stream",
          "text": [
            "Train on 60000 samples, validate on 10000 samples\n",
            "Epoch 1/10\n",
            "60000/60000 [==============================] - 18s 305us/step - loss: 0.1375 - acc: 0.9586 - val_loss: 0.0936 - val_acc: 0.9715\n",
            "Epoch 2/10\n",
            "60000/60000 [==============================] - 18s 306us/step - loss: 0.0818 - acc: 0.9743 - val_loss: 0.1031 - val_acc: 0.9688\n",
            "Epoch 3/10\n",
            "60000/60000 [==============================] - 18s 306us/step - loss: 0.0582 - acc: 0.9813 - val_loss: 0.0821 - val_acc: 0.9769\n",
            "Epoch 4/10\n",
            "60000/60000 [==============================] - 18s 306us/step - loss: 0.0469 - acc: 0.9859 - val_loss: 0.0736 - val_acc: 0.9793\n",
            "Epoch 5/10\n",
            "60000/60000 [==============================] - 18s 304us/step - loss: 0.0386 - acc: 0.9875 - val_loss: 0.0981 - val_acc: 0.9758\n",
            "Epoch 6/10\n",
            "60000/60000 [==============================] - 18s 304us/step - loss: 0.0310 - acc: 0.9898 - val_loss: 0.0899 - val_acc: 0.9784\n",
            "Epoch 7/10\n",
            "60000/60000 [==============================] - 18s 305us/step - loss: 0.0273 - acc: 0.9915 - val_loss: 0.0919 - val_acc: 0.9789\n",
            "Epoch 8/10\n",
            "60000/60000 [==============================] - 18s 303us/step - loss: 0.0250 - acc: 0.9924 - val_loss: 0.0797 - val_acc: 0.9818\n",
            "Epoch 9/10\n",
            "60000/60000 [==============================] - 18s 308us/step - loss: 0.0220 - acc: 0.9930 - val_loss: 0.0954 - val_acc: 0.9784\n",
            "Epoch 10/10\n",
            "60000/60000 [==============================] - 18s 308us/step - loss: 0.0211 - acc: 0.9935 - val_loss: 0.0810 - val_acc: 0.9819\n"
          ],
          "name": "stdout"
        },
        {
          "output_type": "execute_result",
          "data": {
            "text/plain": [
              "<keras.callbacks.History at 0x7fedcb1a7cf8>"
            ]
          },
          "metadata": {
            "tags": []
          },
          "execution_count": 55
        }
      ]
    },
    {
      "metadata": {
        "colab_type": "code",
        "outputId": "fb745c79-b465-44d3-8a46-1748ca5bc6aa",
        "id": "nSwmmoWPZRGD",
        "colab": {
          "base_uri": "https://localhost:8080/",
          "height": 272
        }
      },
      "cell_type": "code",
      "source": [
        "model.summary()"
      ],
      "execution_count": 0,
      "outputs": [
        {
          "output_type": "stream",
          "text": [
            "_________________________________________________________________\n",
            "Layer (type)                 Output Shape              Param #   \n",
            "=================================================================\n",
            "dense_13 (Dense)             (None, 784)               615440    \n",
            "_________________________________________________________________\n",
            "dense_14 (Dense)             (None, 45)                35325     \n",
            "_________________________________________________________________\n",
            "dense_15 (Dense)             (None, 85)                3910      \n",
            "_________________________________________________________________\n",
            "dense_16 (Dense)             (None, 10)                860       \n",
            "=================================================================\n",
            "Total params: 655,535\n",
            "Trainable params: 655,535\n",
            "Non-trainable params: 0\n",
            "_________________________________________________________________\n"
          ],
          "name": "stdout"
        }
      ]
    },
    {
      "metadata": {
        "colab_type": "code",
        "outputId": "095cd675-1277-4b72-de34-c720ce4f0824",
        "id": "pAuuNObNZRGN",
        "colab": {
          "base_uri": "https://localhost:8080/",
          "height": 376
        }
      },
      "cell_type": "code",
      "source": [
        "plt.plot(model.history.history['loss'])\n",
        "plt.plot(model.history.history['val_loss'])\n",
        "plt.title('Model Loss')\n",
        "plt.ylabel('Loss')\n",
        "plt.xlabel('Epoch')\n",
        "plt.legend(['Train', 'Test'], loc='upper left')\n",
        "plt.show()"
      ],
      "execution_count": 0,
      "outputs": [
        {
          "output_type": "display_data",
          "data": {
            "image/png": "[encoded data removed]",
            "text/plain": [
              "<Figure size 576x396 with 1 Axes>"
            ]
          },
          "metadata": {
            "tags": []
          }
        }
      ]
    },
    {
      "metadata": {
        "id": "-OrdnVNTj1OU",
        "colab_type": "code",
        "outputId": "ec150b5f-ab0f-462f-8501-b9aa64ba0978",
        "colab": {
          "base_uri": "https://localhost:8080/",
          "height": 51
        }
      },
      "cell_type": "code",
      "source": [
        "model.evaluate(x=mat_x_test, y=mat_y_test)"
      ],
      "execution_count": 0,
      "outputs": [
        {
          "output_type": "stream",
          "text": [
            "10000/10000 [==============================] - 1s 54us/step\n"
          ],
          "name": "stdout"
        },
        {
          "output_type": "execute_result",
          "data": {
            "text/plain": [
              "[0.08103715774358243, 0.9819]"
            ]
          },
          "metadata": {
            "tags": []
          },
          "execution_count": 58
        }
      ]
    },
    {
      "metadata": {
        "id": "jsMcUXuFj9AT",
        "colab_type": "code",
        "colab": {}
      },
      "cell_type": "code",
      "source": [
        ""
      ],
      "execution_count": 0,
      "outputs": []
    }
  ]
}