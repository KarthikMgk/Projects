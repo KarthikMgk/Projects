{
 "cells": [
  {
   "cell_type": "code",
   "execution_count": 0,
   "metadata": {
    "ExecuteTime": {
     "end_time": "2019-02-17T13:51:47.575637Z",
     "start_time": "2019-02-17T13:51:40.527607Z"
    },
    "colab": {},
    "colab_type": "code",
    "id": "MuYFFtJV-kmH"
   },
   "outputs": [],
   "source": [
    "import numpy as np\n",
    "import pandas as pd\n",
    "from collections import Counter\n",
    "import sqlite3\n",
    "import re\n",
    "from bs4 import BeautifulSoup"
   ]
  },
  {
   "cell_type": "code",
   "execution_count": 0,
   "metadata": {
    "ExecuteTime": {
     "end_time": "2019-02-17T13:51:47.682019Z",
     "start_time": "2019-02-17T13:51:47.579522Z"
    },
    "colab": {},
    "colab_type": "code",
    "id": "uQlNOTuz-kmL"
   },
   "outputs": [],
   "source": [
    "con = sqlite3.connect('gdrive/My Drive/final.sqlite')"
   ]
  },
  {
   "cell_type": "code",
   "execution_count": 0,
   "metadata": {
    "ExecuteTime": {
     "end_time": "2019-02-17T14:19:01.008385Z",
     "start_time": "2019-02-17T14:18:58.528462Z"
    },
    "colab": {},
    "colab_type": "code",
    "id": "MgGYp2fP-kmP"
   },
   "outputs": [],
   "source": [
    "df = pd.read_sql_query('SELECT * FROM Reviews WHERE Score !=3', con)"
   ]
  },
  {
   "cell_type": "code",
   "execution_count": 0,
   "metadata": {
    "colab": {},
    "colab_type": "code",
    "id": "3MeUf-RJPejz"
   },
   "outputs": [],
   "source": [
    "df.Score.replace(to_replace='positive', value=1, inplace=True)"
   ]
  },
  {
   "cell_type": "code",
   "execution_count": 0,
   "metadata": {
    "colab": {},
    "colab_type": "code",
    "id": "-Qme362hPzek"
   },
   "outputs": [],
   "source": [
    "df.Score.replace(to_replace='negative', value=0, inplace=True)"
   ]
  },
  {
   "cell_type": "code",
   "execution_count": 15,
   "metadata": {
    "ExecuteTime": {
     "end_time": "2019-02-17T14:19:52.541394Z",
     "start_time": "2019-02-17T14:19:52.527406Z"
    },
    "colab": {
     "base_uri": "https://localhost:8080/",
     "height": 68
    },
    "colab_type": "code",
    "id": "_1LYd46P-kmZ",
    "outputId": "ed94f313-8a7c-4769-b7b2-2dfb55708b10"
   },
   "outputs": [
    {
     "data": {
      "text/plain": [
       "1    307061\n",
       "0     57110\n",
       "Name: Score, dtype: int64"
      ]
     },
     "execution_count": 15,
     "metadata": {
      "tags": []
     },
     "output_type": "execute_result"
    }
   ],
   "source": [
    "df.Score.value_counts()"
   ]
  },
  {
   "cell_type": "code",
   "execution_count": 0,
   "metadata": {
    "ExecuteTime": {
     "end_time": "2019-02-17T13:51:56.607043Z",
     "start_time": "2019-02-17T13:51:56.600061Z"
    },
    "colab": {},
    "colab_type": "code",
    "id": "Er2B13tC-kme"
   },
   "outputs": [],
   "source": [
    "def decontracted(phrase):\n",
    "    # specific\n",
    "    phrase = re.sub(r\"won't\", \"will not\", phrase)\n",
    "    phrase = re.sub(r\"can\\'t\", \"can not\", phrase)\n",
    "\n",
    "    # general\n",
    "    phrase = re.sub(r\"n\\'t\", \" not\", phrase)\n",
    "    phrase = re.sub(r\"\\'re\", \" are\", phrase)\n",
    "    phrase = re.sub(r\"\\'s\", \" is\", phrase)\n",
    "    phrase = re.sub(r\"\\'d\", \" would\", phrase)\n",
    "    phrase = re.sub(r\"\\'ll\", \" will\", phrase)\n",
    "    phrase = re.sub(r\"\\'t\", \" not\", phrase)\n",
    "    phrase = re.sub(r\"\\'ve\", \" have\", phrase)\n",
    "    phrase = re.sub(r\"\\'m\", \" am\", phrase)\n",
    "    return phrase"
   ]
  },
  {
   "cell_type": "code",
   "execution_count": 0,
   "metadata": {
    "ExecuteTime": {
     "end_time": "2019-02-17T13:54:00.710851Z",
     "start_time": "2019-02-17T13:51:56.610035Z"
    },
    "colab": {},
    "colab_type": "code",
    "id": "LcTM9MFe-kmh"
   },
   "outputs": [],
   "source": [
    "All_reviews = []\n",
    "for sentence in df['Text'].values:\n",
    "    sentence = re.sub(r\"http\\S+\", \"\", sentence)\n",
    "    sentence = BeautifulSoup(sentence, 'lxml').get_text()\n",
    "    sentence = decontracted(sentence)\n",
    "    sentence = re.sub(\"\\S*\\d\\S*\", \"\", sentence).strip()\n",
    "    sentence = re.sub('[^A-Za-z]+', ' ', sentence)\n",
    "    sentence = ''.join(word.lower() for word in sentence)\n",
    "    All_reviews.append(sentence)"
   ]
  },
  {
   "cell_type": "code",
   "execution_count": 18,
   "metadata": {
    "ExecuteTime": {
     "end_time": "2019-02-17T13:54:00.725707Z",
     "start_time": "2019-02-17T13:54:00.712736Z"
    },
    "colab": {
     "base_uri": "https://localhost:8080/",
     "height": 34
    },
    "colab_type": "code",
    "id": "7efD1BH0-kmk",
    "outputId": "6b374ef2-1747-4c87-ecc7-0aa49d55aad4"
   },
   "outputs": [
    {
     "data": {
      "text/plain": [
       "364171"
      ]
     },
     "execution_count": 18,
     "metadata": {
      "tags": []
     },
     "output_type": "execute_result"
    }
   ],
   "source": [
    "len(All_reviews)"
   ]
  },
  {
   "cell_type": "code",
   "execution_count": 0,
   "metadata": {
    "ExecuteTime": {
     "end_time": "2019-02-17T13:54:06.857552Z",
     "start_time": "2019-02-17T13:54:00.727694Z"
    },
    "colab": {},
    "colab_type": "code",
    "id": "itONFrhp-kmq"
   },
   "outputs": [],
   "source": [
    "All_words = []\n",
    "for sent in All_reviews:\n",
    "    x = sent.split()\n",
    "    for i in x:\n",
    "        All_words.append(i)"
   ]
  },
  {
   "cell_type": "code",
   "execution_count": 20,
   "metadata": {
    "ExecuteTime": {
     "end_time": "2019-02-17T13:54:06.865534Z",
     "start_time": "2019-02-17T13:54:06.859547Z"
    },
    "colab": {
     "base_uri": "https://localhost:8080/",
     "height": 34
    },
    "colab_type": "code",
    "id": "DcKxpQ3r-kms",
    "outputId": "8a5c79e3-ac77-44ed-c485-32b13004bcd8"
   },
   "outputs": [
    {
     "data": {
      "text/plain": [
       "28265386"
      ]
     },
     "execution_count": 20,
     "metadata": {
      "tags": []
     },
     "output_type": "execute_result"
    }
   ],
   "source": [
    "len(All_words)"
   ]
  },
  {
   "cell_type": "code",
   "execution_count": 0,
   "metadata": {
    "ExecuteTime": {
     "end_time": "2019-02-17T13:54:13.289701Z",
     "start_time": "2019-02-17T13:54:06.867526Z"
    },
    "colab": {},
    "colab_type": "code",
    "id": "458rfEz3-kmw"
   },
   "outputs": [],
   "source": [
    "counts = {}\n",
    "for i in All_words:\n",
    "    if i in counts:\n",
    "        counts[i] += 1\n",
    "    else:\n",
    "        counts[i] = 1"
   ]
  },
  {
   "cell_type": "code",
   "execution_count": 0,
   "metadata": {
    "ExecuteTime": {
     "end_time": "2019-02-17T13:54:13.303525Z",
     "start_time": "2019-02-17T13:54:13.291446Z"
    },
    "colab": {},
    "colab_type": "code",
    "id": "yD2nIKux-kmz"
   },
   "outputs": [],
   "source": [
    "words = list(counts.keys())\n",
    "values = list(counts.values())"
   ]
  },
  {
   "cell_type": "code",
   "execution_count": 0,
   "metadata": {
    "ExecuteTime": {
     "end_time": "2019-02-17T13:54:13.411575Z",
     "start_time": "2019-02-17T13:54:13.306517Z"
    },
    "colab": {},
    "colab_type": "code",
    "id": "WmhiHxuG-km2"
   },
   "outputs": [],
   "source": [
    "data = {'words': words, 'frequency': values}"
   ]
  },
  {
   "cell_type": "code",
   "execution_count": 0,
   "metadata": {
    "ExecuteTime": {
     "end_time": "2019-02-17T13:54:13.749249Z",
     "start_time": "2019-02-17T13:54:13.413542Z"
    },
    "colab": {},
    "colab_type": "code",
    "id": "Ealt8MZU-km4"
   },
   "outputs": [],
   "source": [
    "df = pd.DataFrame.from_dict(data=data)"
   ]
  },
  {
   "cell_type": "code",
   "execution_count": 0,
   "metadata": {
    "ExecuteTime": {
     "end_time": "2019-02-17T13:54:13.886380Z",
     "start_time": "2019-02-17T13:54:13.750238Z"
    },
    "colab": {},
    "colab_type": "code",
    "id": "4ZR6fwGW-km8"
   },
   "outputs": [],
   "source": [
    "new_df = df.sort_values(by='frequency', ascending=False)"
   ]
  },
  {
   "cell_type": "code",
   "execution_count": 26,
   "metadata": {
    "ExecuteTime": {
     "end_time": "2019-02-17T13:54:14.546465Z",
     "start_time": "2019-02-17T13:54:13.892369Z"
    },
    "colab": {
     "base_uri": "https://localhost:8080/",
     "height": 1969
    },
    "colab_type": "code",
    "id": "WMgrMMb_-knB",
    "outputId": "d9de3d29-b08e-4b6c-e2d9-4c9302a3d943",
    "scrolled": true
   },
   "outputs": [
    {
     "data": {
      "text/html": [
       "<div>\n",
       "<style scoped>\n",
       "    .dataframe tbody tr th:only-of-type {\n",
       "        vertical-align: middle;\n",
       "    }\n",
       "\n",
       "    .dataframe tbody tr th {\n",
       "        vertical-align: top;\n",
       "    }\n",
       "\n",
       "    .dataframe thead th {\n",
       "        text-align: right;\n",
       "    }\n",
       "</style>\n",
       "<table border=\"1\" class=\"dataframe\">\n",
       "  <thead>\n",
       "    <tr style=\"text-align: right;\">\n",
       "      <th></th>\n",
       "      <th>frequency</th>\n",
       "      <th>words</th>\n",
       "    </tr>\n",
       "  </thead>\n",
       "  <tbody>\n",
       "    <tr>\n",
       "      <th>14</th>\n",
       "      <td>1148401</td>\n",
       "      <td>the</td>\n",
       "    </tr>\n",
       "    <tr>\n",
       "      <th>10</th>\n",
       "      <td>1050100</td>\n",
       "      <td>i</td>\n",
       "    </tr>\n",
       "    <tr>\n",
       "      <th>21</th>\n",
       "      <td>810985</td>\n",
       "      <td>and</td>\n",
       "    </tr>\n",
       "    <tr>\n",
       "      <th>41</th>\n",
       "      <td>747003</td>\n",
       "      <td>a</td>\n",
       "    </tr>\n",
       "    <tr>\n",
       "      <th>12</th>\n",
       "      <td>683406</td>\n",
       "      <td>it</td>\n",
       "    </tr>\n",
       "    <tr>\n",
       "      <th>27</th>\n",
       "      <td>650646</td>\n",
       "      <td>is</td>\n",
       "    </tr>\n",
       "    <tr>\n",
       "      <th>45</th>\n",
       "      <td>631074</td>\n",
       "      <td>to</td>\n",
       "    </tr>\n",
       "    <tr>\n",
       "      <th>40</th>\n",
       "      <td>486339</td>\n",
       "      <td>of</td>\n",
       "    </tr>\n",
       "    <tr>\n",
       "      <th>0</th>\n",
       "      <td>432340</td>\n",
       "      <td>this</td>\n",
       "    </tr>\n",
       "    <tr>\n",
       "      <th>147</th>\n",
       "      <td>377639</td>\n",
       "      <td>not</td>\n",
       "    </tr>\n",
       "    <tr>\n",
       "      <th>13</th>\n",
       "      <td>349511</td>\n",
       "      <td>in</td>\n",
       "    </tr>\n",
       "    <tr>\n",
       "      <th>88</th>\n",
       "      <td>341855</td>\n",
       "      <td>for</td>\n",
       "    </tr>\n",
       "    <tr>\n",
       "      <th>5</th>\n",
       "      <td>281009</td>\n",
       "      <td>my</td>\n",
       "    </tr>\n",
       "    <tr>\n",
       "      <th>137</th>\n",
       "      <td>275000</td>\n",
       "      <td>have</td>\n",
       "    </tr>\n",
       "    <tr>\n",
       "      <th>65</th>\n",
       "      <td>272619</td>\n",
       "      <td>that</td>\n",
       "    </tr>\n",
       "    <tr>\n",
       "      <th>130</th>\n",
       "      <td>234782</td>\n",
       "      <td>you</td>\n",
       "    </tr>\n",
       "    <tr>\n",
       "      <th>117</th>\n",
       "      <td>223189</td>\n",
       "      <td>with</td>\n",
       "    </tr>\n",
       "    <tr>\n",
       "      <th>185</th>\n",
       "      <td>220207</td>\n",
       "      <td>but</td>\n",
       "    </tr>\n",
       "    <tr>\n",
       "      <th>18</th>\n",
       "      <td>219810</td>\n",
       "      <td>are</td>\n",
       "    </tr>\n",
       "    <tr>\n",
       "      <th>162</th>\n",
       "      <td>204846</td>\n",
       "      <td>was</td>\n",
       "    </tr>\n",
       "    <tr>\n",
       "      <th>97</th>\n",
       "      <td>187501</td>\n",
       "      <td>they</td>\n",
       "    </tr>\n",
       "    <tr>\n",
       "      <th>226</th>\n",
       "      <td>172427</td>\n",
       "      <td>on</td>\n",
       "    </tr>\n",
       "    <tr>\n",
       "      <th>16</th>\n",
       "      <td>172272</td>\n",
       "      <td>as</td>\n",
       "    </tr>\n",
       "    <tr>\n",
       "      <th>259</th>\n",
       "      <td>157621</td>\n",
       "      <td>so</td>\n",
       "    </tr>\n",
       "    <tr>\n",
       "      <th>98</th>\n",
       "      <td>153280</td>\n",
       "      <td>like</td>\n",
       "    </tr>\n",
       "    <tr>\n",
       "      <th>58</th>\n",
       "      <td>138693</td>\n",
       "      <td>these</td>\n",
       "    </tr>\n",
       "    <tr>\n",
       "      <th>67</th>\n",
       "      <td>127260</td>\n",
       "      <td>them</td>\n",
       "    </tr>\n",
       "    <tr>\n",
       "      <th>111</th>\n",
       "      <td>124090</td>\n",
       "      <td>good</td>\n",
       "    </tr>\n",
       "    <tr>\n",
       "      <th>49</th>\n",
       "      <td>115673</td>\n",
       "      <td>be</td>\n",
       "    </tr>\n",
       "    <tr>\n",
       "      <th>141</th>\n",
       "      <td>113812</td>\n",
       "      <td>or</td>\n",
       "    </tr>\n",
       "    <tr>\n",
       "      <th>...</th>\n",
       "      <td>...</td>\n",
       "      <td>...</td>\n",
       "    </tr>\n",
       "    <tr>\n",
       "      <th>68604</th>\n",
       "      <td>1</td>\n",
       "      <td>squerrel</td>\n",
       "    </tr>\n",
       "    <tr>\n",
       "      <th>68647</th>\n",
       "      <td>1</td>\n",
       "      <td>powderly</td>\n",
       "    </tr>\n",
       "    <tr>\n",
       "      <th>68605</th>\n",
       "      <td>1</td>\n",
       "      <td>absolulty</td>\n",
       "    </tr>\n",
       "    <tr>\n",
       "      <th>68606</th>\n",
       "      <td>1</td>\n",
       "      <td>forgetten</td>\n",
       "    </tr>\n",
       "    <tr>\n",
       "      <th>68607</th>\n",
       "      <td>1</td>\n",
       "      <td>minoradditives</td>\n",
       "    </tr>\n",
       "    <tr>\n",
       "      <th>68609</th>\n",
       "      <td>1</td>\n",
       "      <td>physicianto</td>\n",
       "    </tr>\n",
       "    <tr>\n",
       "      <th>68611</th>\n",
       "      <td>1</td>\n",
       "      <td>reductionis</td>\n",
       "    </tr>\n",
       "    <tr>\n",
       "      <th>68612</th>\n",
       "      <td>1</td>\n",
       "      <td>arrove</td>\n",
       "    </tr>\n",
       "    <tr>\n",
       "      <th>68613</th>\n",
       "      <td>1</td>\n",
       "      <td>yorkied</td>\n",
       "    </tr>\n",
       "    <tr>\n",
       "      <th>68614</th>\n",
       "      <td>1</td>\n",
       "      <td>webvitmins</td>\n",
       "    </tr>\n",
       "    <tr>\n",
       "      <th>68616</th>\n",
       "      <td>1</td>\n",
       "      <td>ireduced</td>\n",
       "    </tr>\n",
       "    <tr>\n",
       "      <th>68617</th>\n",
       "      <td>1</td>\n",
       "      <td>hadproblems</td>\n",
       "    </tr>\n",
       "    <tr>\n",
       "      <th>68618</th>\n",
       "      <td>1</td>\n",
       "      <td>cheyney</td>\n",
       "    </tr>\n",
       "    <tr>\n",
       "      <th>68621</th>\n",
       "      <td>1</td>\n",
       "      <td>wehad</td>\n",
       "    </tr>\n",
       "    <tr>\n",
       "      <th>68622</th>\n",
       "      <td>1</td>\n",
       "      <td>cholestralis</td>\n",
       "    </tr>\n",
       "    <tr>\n",
       "      <th>68624</th>\n",
       "      <td>1</td>\n",
       "      <td>grounder</td>\n",
       "    </tr>\n",
       "    <tr>\n",
       "      <th>68625</th>\n",
       "      <td>1</td>\n",
       "      <td>particulari</td>\n",
       "    </tr>\n",
       "    <tr>\n",
       "      <th>68627</th>\n",
       "      <td>1</td>\n",
       "      <td>letterings</td>\n",
       "    </tr>\n",
       "    <tr>\n",
       "      <th>68628</th>\n",
       "      <td>1</td>\n",
       "      <td>learntto</td>\n",
       "    </tr>\n",
       "    <tr>\n",
       "      <th>68630</th>\n",
       "      <td>1</td>\n",
       "      <td>miners</td>\n",
       "    </tr>\n",
       "    <tr>\n",
       "      <th>68631</th>\n",
       "      <td>1</td>\n",
       "      <td>thehills</td>\n",
       "    </tr>\n",
       "    <tr>\n",
       "      <th>68632</th>\n",
       "      <td>1</td>\n",
       "      <td>mostlybeans</td>\n",
       "    </tr>\n",
       "    <tr>\n",
       "      <th>68636</th>\n",
       "      <td>1</td>\n",
       "      <td>amble</td>\n",
       "    </tr>\n",
       "    <tr>\n",
       "      <th>68638</th>\n",
       "      <td>1</td>\n",
       "      <td>discare</td>\n",
       "    </tr>\n",
       "    <tr>\n",
       "      <th>68639</th>\n",
       "      <td>1</td>\n",
       "      <td>recoat</td>\n",
       "    </tr>\n",
       "    <tr>\n",
       "      <th>68641</th>\n",
       "      <td>1</td>\n",
       "      <td>withchicken</td>\n",
       "    </tr>\n",
       "    <tr>\n",
       "      <th>68642</th>\n",
       "      <td>1</td>\n",
       "      <td>thestores</td>\n",
       "    </tr>\n",
       "    <tr>\n",
       "      <th>68645</th>\n",
       "      <td>1</td>\n",
       "      <td>besick</td>\n",
       "    </tr>\n",
       "    <tr>\n",
       "      <th>68646</th>\n",
       "      <td>1</td>\n",
       "      <td>choiceavailable</td>\n",
       "    </tr>\n",
       "    <tr>\n",
       "      <th>116921</th>\n",
       "      <td>1</td>\n",
       "      <td>fts</td>\n",
       "    </tr>\n",
       "  </tbody>\n",
       "</table>\n",
       "<p>116922 rows × 2 columns</p>\n",
       "</div>"
      ],
      "text/plain": [
       "        frequency            words\n",
       "14        1148401              the\n",
       "10        1050100                i\n",
       "21         810985              and\n",
       "41         747003                a\n",
       "12         683406               it\n",
       "27         650646               is\n",
       "45         631074               to\n",
       "40         486339               of\n",
       "0          432340             this\n",
       "147        377639              not\n",
       "13         349511               in\n",
       "88         341855              for\n",
       "5          281009               my\n",
       "137        275000             have\n",
       "65         272619             that\n",
       "130        234782              you\n",
       "117        223189             with\n",
       "185        220207              but\n",
       "18         219810              are\n",
       "162        204846              was\n",
       "97         187501             they\n",
       "226        172427               on\n",
       "16         172272               as\n",
       "259        157621               so\n",
       "98         153280             like\n",
       "58         138693            these\n",
       "67         127260             them\n",
       "111        124090             good\n",
       "49         115673               be\n",
       "141        113812               or\n",
       "...           ...              ...\n",
       "68604           1         squerrel\n",
       "68647           1         powderly\n",
       "68605           1        absolulty\n",
       "68606           1        forgetten\n",
       "68607           1   minoradditives\n",
       "68609           1      physicianto\n",
       "68611           1      reductionis\n",
       "68612           1           arrove\n",
       "68613           1          yorkied\n",
       "68614           1       webvitmins\n",
       "68616           1         ireduced\n",
       "68617           1      hadproblems\n",
       "68618           1          cheyney\n",
       "68621           1            wehad\n",
       "68622           1     cholestralis\n",
       "68624           1         grounder\n",
       "68625           1      particulari\n",
       "68627           1       letterings\n",
       "68628           1         learntto\n",
       "68630           1           miners\n",
       "68631           1         thehills\n",
       "68632           1      mostlybeans\n",
       "68636           1            amble\n",
       "68638           1          discare\n",
       "68639           1           recoat\n",
       "68641           1      withchicken\n",
       "68642           1        thestores\n",
       "68645           1           besick\n",
       "68646           1  choiceavailable\n",
       "116921          1              fts\n",
       "\n",
       "[116922 rows x 2 columns]"
      ]
     },
     "execution_count": 26,
     "metadata": {
      "tags": []
     },
     "output_type": "execute_result"
    }
   ],
   "source": [
    "new_df"
   ]
  },
  {
   "cell_type": "code",
   "execution_count": 0,
   "metadata": {
    "ExecuteTime": {
     "end_time": "2019-02-17T13:54:14.569377Z",
     "start_time": "2019-02-17T13:54:14.548432Z"
    },
    "colab": {},
    "colab_type": "code",
    "id": "d2c_rJ7V-knH"
   },
   "outputs": [],
   "source": [
    "indices = list(new_df.index)\n",
    "words = list(new_df.words)"
   ]
  },
  {
   "cell_type": "code",
   "execution_count": 0,
   "metadata": {
    "ExecuteTime": {
     "end_time": "2019-02-17T13:54:14.717883Z",
     "start_time": "2019-02-17T13:54:14.571371Z"
    },
    "colab": {},
    "colab_type": "code",
    "id": "pypeDHRk-knJ"
   },
   "outputs": [],
   "source": [
    "index_series = pd.Series(data=indices, name='indices')"
   ]
  },
  {
   "cell_type": "code",
   "execution_count": 0,
   "metadata": {
    "ExecuteTime": {
     "end_time": "2019-02-17T13:54:14.854286Z",
     "start_time": "2019-02-17T13:54:14.719707Z"
    },
    "colab": {},
    "colab_type": "code",
    "id": "JJte7bZD-knL"
   },
   "outputs": [],
   "source": [
    "words_series = pd.Series(data=words, name='words')"
   ]
  },
  {
   "cell_type": "code",
   "execution_count": 0,
   "metadata": {
    "ExecuteTime": {
     "end_time": "2019-02-17T13:54:14.970839Z",
     "start_time": "2019-02-17T13:54:14.857250Z"
    },
    "colab": {},
    "colab_type": "code",
    "id": "Fh03LbYm-knP"
   },
   "outputs": [],
   "source": [
    "words = list(words_series)"
   ]
  },
  {
   "cell_type": "code",
   "execution_count": 0,
   "metadata": {
    "ExecuteTime": {
     "end_time": "2019-02-17T13:54:15.157526Z",
     "start_time": "2019-02-17T13:54:14.972799Z"
    },
    "colab": {},
    "colab_type": "code",
    "id": "zjzrvE_d-knT"
   },
   "outputs": [],
   "source": [
    "df = pd.concat([index_series, words_series], axis=1)"
   ]
  },
  {
   "cell_type": "code",
   "execution_count": 0,
   "metadata": {
    "ExecuteTime": {
     "end_time": "2019-02-17T13:54:15.269428Z",
     "start_time": "2019-02-17T13:54:15.161490Z"
    },
    "colab": {},
    "colab_type": "code",
    "id": "clXkCRZ1-knZ",
    "scrolled": true
   },
   "outputs": [],
   "source": [
    "df.reset_index(inplace=True)"
   ]
  },
  {
   "cell_type": "code",
   "execution_count": 33,
   "metadata": {
    "ExecuteTime": {
     "end_time": "2019-02-17T13:54:15.358737Z",
     "start_time": "2019-02-17T13:54:15.274418Z"
    },
    "colab": {
     "base_uri": "https://localhost:8080/",
     "height": 54
    },
    "colab_type": "code",
    "id": "cMaZB8zR-knb",
    "outputId": "c7614771-7743-4dcf-b72c-547dc062f4f3"
   },
   "outputs": [
    {
     "data": {
      "text/plain": [
       "'this witty little book makes my son laugh at loud i recite it in the car as we are driving along and he always can sing the refrain he is learned about whales india drooping roses i love all the new words this book introduces and the silliness of it all this is a classic book i am willing to bet my son will still be able to recite from memory when he is in college'"
      ]
     },
     "execution_count": 33,
     "metadata": {
      "tags": []
     },
     "output_type": "execute_result"
    }
   ],
   "source": [
    "All_reviews[0]"
   ]
  },
  {
   "cell_type": "code",
   "execution_count": 0,
   "metadata": {
    "ExecuteTime": {
     "end_time": "2019-02-17T13:54:16.027253Z",
     "start_time": "2019-02-17T13:54:15.360730Z"
    },
    "colab": {},
    "colab_type": "code",
    "id": "3Qs2g4PO-kne"
   },
   "outputs": [],
   "source": [
    "from tqdm import tqdm"
   ]
  },
  {
   "cell_type": "code",
   "execution_count": 0,
   "metadata": {
    "ExecuteTime": {
     "end_time": "2019-02-17T13:54:16.038037Z",
     "start_time": "2019-02-17T13:54:16.029062Z"
    },
    "colab": {},
    "colab_type": "code",
    "id": "lCBimkJD-kng"
   },
   "outputs": [],
   "source": [
    "words = df['words']\n",
    "indices = df['index']"
   ]
  },
  {
   "cell_type": "code",
   "execution_count": 0,
   "metadata": {
    "ExecuteTime": {
     "end_time": "2019-02-17T13:54:16.131857Z",
     "start_time": "2019-02-17T13:54:16.040032Z"
    },
    "colab": {},
    "colab_type": "code",
    "id": "Q7qv6v9B-knj"
   },
   "outputs": [],
   "source": [
    "from itertools import zip_longest"
   ]
  },
  {
   "cell_type": "code",
   "execution_count": 0,
   "metadata": {
    "ExecuteTime": {
     "end_time": "2019-02-17T13:55:20.072577Z",
     "start_time": "2019-02-17T13:55:20.002643Z"
    },
    "colab": {},
    "colab_type": "code",
    "id": "AHdBTQAZ-knl"
   },
   "outputs": [],
   "source": [
    "rank_dict={}\n",
    "for i,j in zip_longest(words, indices):\n",
    "    rank_dict[i] = j"
   ]
  },
  {
   "cell_type": "code",
   "execution_count": 38,
   "metadata": {
    "ExecuteTime": {
     "end_time": "2019-02-17T14:03:10.789705Z",
     "start_time": "2019-02-17T14:03:10.784718Z"
    },
    "colab": {
     "base_uri": "https://localhost:8080/",
     "height": 34
    },
    "colab_type": "code",
    "id": "OG9ZCulE-knn",
    "outputId": "930fae33-1cf2-4bd3-d6e5-408402639f3e"
   },
   "outputs": [
    {
     "data": {
      "text/plain": [
       "0"
      ]
     },
     "execution_count": 38,
     "metadata": {
      "tags": []
     },
     "output_type": "execute_result"
    }
   ],
   "source": [
    "rank_dict.get('the')"
   ]
  },
  {
   "cell_type": "code",
   "execution_count": 39,
   "metadata": {
    "ExecuteTime": {
     "end_time": "2019-02-17T14:08:27.617252Z",
     "start_time": "2019-02-17T14:08:13.456553Z"
    },
    "colab": {
     "base_uri": "https://localhost:8080/",
     "height": 34
    },
    "colab_type": "code",
    "id": "oC5peOV_-knt",
    "outputId": "68fe7f3d-91cb-49c3-a7bf-5f0098625118"
   },
   "outputs": [
    {
     "name": "stderr",
     "output_type": "stream",
     "text": [
      "100%|██████████| 364171/364171 [00:17<00:00, 21002.77it/s]\n"
     ]
    }
   ],
   "source": [
    "converted_reviews = []\n",
    "count = 0\n",
    "for review in tqdm(All_reviews):\n",
    "    index=[]\n",
    "    count += 1\n",
    "    words = review.split()\n",
    "    for word in words:\n",
    "      if word in rank_dict:\n",
    "        index.append(rank_dict.get(word))\n",
    "      else:\n",
    "        continue\n",
    "    converted_reviews.insert(count, (index))"
   ]
  },
  {
   "cell_type": "code",
   "execution_count": 40,
   "metadata": {
    "ExecuteTime": {
     "end_time": "2019-02-17T14:08:39.142891Z",
     "start_time": "2019-02-17T14:08:39.136905Z"
    },
    "colab": {
     "base_uri": "https://localhost:8080/",
     "height": 34
    },
    "colab_type": "code",
    "id": "uEMbQJy8-kny",
    "outputId": "305876a0-a5af-4944-f508-a58451ad2d5e"
   },
   "outputs": [
    {
     "data": {
      "text/plain": [
       "364171"
      ]
     },
     "execution_count": 40,
     "metadata": {
      "tags": []
     },
     "output_type": "execute_result"
    }
   ],
   "source": [
    "len(converted_reviews)"
   ]
  },
  {
   "cell_type": "code",
   "execution_count": 0,
   "metadata": {
    "ExecuteTime": {
     "end_time": "2019-02-17T14:19:01.008385Z",
     "start_time": "2019-02-17T14:18:58.528462Z"
    },
    "colab": {},
    "colab_type": "code",
    "id": "4nU_FhscxJwt"
   },
   "outputs": [],
   "source": [
    "df = pd.read_sql_query('SELECT * FROM Reviews WHERE Score !=3', con)"
   ]
  },
  {
   "cell_type": "code",
   "execution_count": 0,
   "metadata": {
    "colab": {},
    "colab_type": "code",
    "id": "OMKu32UHxJw0"
   },
   "outputs": [],
   "source": [
    "df.Score.replace(to_replace='positive', value=1, inplace=True)"
   ]
  },
  {
   "cell_type": "code",
   "execution_count": 0,
   "metadata": {
    "colab": {},
    "colab_type": "code",
    "id": "Zd0pp6M2xJw5"
   },
   "outputs": [],
   "source": [
    "df.Score.replace(to_replace='negative', value=0, inplace=True)"
   ]
  },
  {
   "cell_type": "code",
   "execution_count": 0,
   "metadata": {
    "ExecuteTime": {
     "end_time": "2019-02-17T14:21:11.810946Z",
     "start_time": "2019-02-17T14:21:11.806958Z"
    },
    "colab": {},
    "colab_type": "code",
    "id": "BeF3Mz1D-kn1"
   },
   "outputs": [],
   "source": [
    "X = converted_reviews\n",
    "y = df['Score'].values"
   ]
  },
  {
   "cell_type": "markdown",
   "metadata": {
    "colab_type": "text",
    "id": "kuR4LbFB-kn3"
   },
   "source": [
    "### LSTM"
   ]
  },
  {
   "cell_type": "code",
   "execution_count": 45,
   "metadata": {
    "ExecuteTime": {
     "end_time": "2019-02-17T14:28:32.340107Z",
     "start_time": "2019-02-17T14:28:32.335120Z"
    },
    "colab": {
     "base_uri": "https://localhost:8080/",
     "height": 34
    },
    "colab_type": "code",
    "id": "Ed4YGn3R-kn3",
    "outputId": "8c5a9f2a-4d60-4473-82a5-da1a32faca9f"
   },
   "outputs": [
    {
     "name": "stderr",
     "output_type": "stream",
     "text": [
      "Using TensorFlow backend.\n"
     ]
    }
   ],
   "source": [
    "from keras.models import Sequential\n",
    "from keras.layers import Dense\n",
    "from keras.layers import LSTM\n",
    "from keras.layers.embeddings import Embedding\n",
    "from keras.preprocessing import sequence\n",
    "from sklearn.model_selection import train_test_split"
   ]
  },
  {
   "cell_type": "code",
   "execution_count": 0,
   "metadata": {
    "ExecuteTime": {
     "end_time": "2019-02-17T14:31:39.261054Z",
     "start_time": "2019-02-17T14:31:39.135274Z"
    },
    "colab": {},
    "colab_type": "code",
    "id": "rKgziVwk-kn5"
   },
   "outputs": [],
   "source": [
    "x_train, x_test, y_train , y_test = train_test_split(X, y, test_size = 0.3, random_state=42)"
   ]
  },
  {
   "cell_type": "code",
   "execution_count": 0,
   "metadata": {
    "colab": {},
    "colab_type": "code",
    "id": "HXAEyU9XSIOG"
   },
   "outputs": [],
   "source": [
    "x_train, x_cv, y_train, y_cv = train_test_split(x_train, y_train, test_size=0.3, random_state=42)"
   ]
  },
  {
   "cell_type": "code",
   "execution_count": 48,
   "metadata": {
    "ExecuteTime": {
     "end_time": "2019-02-17T14:31:40.772815Z",
     "start_time": "2019-02-17T14:31:40.767827Z"
    },
    "colab": {
     "base_uri": "https://localhost:8080/",
     "height": 34
    },
    "colab_type": "code",
    "id": "EhjulQYY-kn7",
    "outputId": "44e4c072-07f9-4acb-ceaf-a4c1b90ab2a9"
   },
   "outputs": [
    {
     "data": {
      "text/plain": [
       "178443"
      ]
     },
     "execution_count": 48,
     "metadata": {
      "tags": []
     },
     "output_type": "execute_result"
    }
   ],
   "source": [
    "len(x_train)"
   ]
  },
  {
   "cell_type": "code",
   "execution_count": 49,
   "metadata": {
    "ExecuteTime": {
     "end_time": "2019-02-17T14:31:46.211640Z",
     "start_time": "2019-02-17T14:31:46.206654Z"
    },
    "colab": {
     "base_uri": "https://localhost:8080/",
     "height": 34
    },
    "colab_type": "code",
    "id": "WgLAz_iL-kn-",
    "outputId": "081fa282-45ee-4fb2-b097-b9b9a8154fd8"
   },
   "outputs": [
    {
     "data": {
      "text/plain": [
       "178443"
      ]
     },
     "execution_count": 49,
     "metadata": {
      "tags": []
     },
     "output_type": "execute_result"
    }
   ],
   "source": [
    "len(y_train)"
   ]
  },
  {
   "cell_type": "code",
   "execution_count": 0,
   "metadata": {
    "ExecuteTime": {
     "end_time": "2019-02-17T14:43:00.158779Z",
     "start_time": "2019-02-17T14:42:59.006225Z"
    },
    "colab": {},
    "colab_type": "code",
    "id": "dE4qyNOC-koF"
   },
   "outputs": [],
   "source": [
    "X_train = np.asarray(x_train)\n",
    "X_test = np.asarray(x_test)\n",
    "X_cv = np.asarray(x_cv)"
   ]
  },
  {
   "cell_type": "code",
   "execution_count": 51,
   "metadata": {
    "ExecuteTime": {
     "end_time": "2019-02-17T14:43:10.642348Z",
     "start_time": "2019-02-17T14:43:10.637361Z"
    },
    "colab": {
     "base_uri": "https://localhost:8080/",
     "height": 34
    },
    "colab_type": "code",
    "id": "_Dh3lEjJ-koI",
    "outputId": "d84f8296-d0f7-460c-b0ee-09e2cc916e49"
   },
   "outputs": [
    {
     "data": {
      "text/plain": [
       "(178443,)"
      ]
     },
     "execution_count": 51,
     "metadata": {
      "tags": []
     },
     "output_type": "execute_result"
    }
   ],
   "source": [
    "X_train.shape"
   ]
  },
  {
   "cell_type": "code",
   "execution_count": 52,
   "metadata": {
    "ExecuteTime": {
     "end_time": "2019-02-17T14:43:22.755391Z",
     "start_time": "2019-02-17T14:43:22.750404Z"
    },
    "colab": {
     "base_uri": "https://localhost:8080/",
     "height": 34
    },
    "colab_type": "code",
    "id": "IEVIFmsn-koN",
    "outputId": "b9c4d18a-de8b-4296-b62a-faa78ef6cd87"
   },
   "outputs": [
    {
     "data": {
      "text/plain": [
       "(109252,)"
      ]
     },
     "execution_count": 52,
     "metadata": {
      "tags": []
     },
     "output_type": "execute_result"
    }
   ],
   "source": [
    "X_test.shape"
   ]
  },
  {
   "cell_type": "code",
   "execution_count": 0,
   "metadata": {
    "ExecuteTime": {
     "end_time": "2019-02-17T14:43:53.111319Z",
     "start_time": "2019-02-17T14:43:49.935632Z"
    },
    "colab": {},
    "colab_type": "code",
    "id": "oyh4-sGz-koQ"
   },
   "outputs": [],
   "source": [
    "max_review_length = 600\n",
    "X_train = sequence.pad_sequences(X_train, maxlen=max_review_length)\n",
    "X_test = sequence.pad_sequences(X_test, maxlen=max_review_length)\n",
    "X_cv = sequence.pad_sequences(X_cv, maxlen = max_review_length)"
   ]
  },
  {
   "cell_type": "code",
   "execution_count": 55,
   "metadata": {
    "ExecuteTime": {
     "end_time": "2019-02-17T14:43:59.106960Z",
     "start_time": "2019-02-17T14:43:59.102971Z"
    },
    "colab": {
     "base_uri": "https://localhost:8080/",
     "height": 34
    },
    "colab_type": "code",
    "id": "S8_g8CUF-koW",
    "outputId": "66d1f91c-3183-4ab1-deb9-176727f60591"
   },
   "outputs": [
    {
     "data": {
      "text/plain": [
       "(178443, 600)"
      ]
     },
     "execution_count": 55,
     "metadata": {
      "tags": []
     },
     "output_type": "execute_result"
    }
   ],
   "source": [
    "X_train.shape"
   ]
  },
  {
   "cell_type": "code",
   "execution_count": 56,
   "metadata": {
    "ExecuteTime": {
     "end_time": "2019-02-17T14:46:56.884556Z",
     "start_time": "2019-02-17T14:46:56.878600Z"
    },
    "colab": {
     "base_uri": "https://localhost:8080/",
     "height": 34
    },
    "colab_type": "code",
    "id": "bzZyT-ue-koZ",
    "outputId": "be068593-0e7c-462a-9d41-bbaa95908622"
   },
   "outputs": [
    {
     "data": {
      "text/plain": [
       "(109252, 600)"
      ]
     },
     "execution_count": 56,
     "metadata": {
      "tags": []
     },
     "output_type": "execute_result"
    }
   ],
   "source": [
    "X_test.shape"
   ]
  },
  {
   "cell_type": "code",
   "execution_count": 63,
   "metadata": {
    "colab": {
     "base_uri": "https://localhost:8080/",
     "height": 34
    },
    "colab_type": "code",
    "id": "C1YtwUImTbCw",
    "outputId": "062b01cd-7677-40d4-adb2-de081e941659"
   },
   "outputs": [
    {
     "data": {
      "text/plain": [
       "(76476, 600)"
      ]
     },
     "execution_count": 63,
     "metadata": {
      "tags": []
     },
     "output_type": "execute_result"
    }
   ],
   "source": [
    "X_cv.shape"
   ]
  },
  {
   "cell_type": "markdown",
   "metadata": {
    "colab_type": "text",
    "id": "dXVxOxSC-kob"
   },
   "source": [
    "### Model"
   ]
  },
  {
   "cell_type": "code",
   "execution_count": 0,
   "metadata": {
    "ExecuteTime": {
     "end_time": "2019-02-17T14:57:32.802684Z",
     "start_time": "2019-02-17T14:57:32.798696Z"
    },
    "colab": {},
    "colab_type": "code",
    "id": "qMR3kFqz-koc"
   },
   "outputs": [],
   "source": [
    "top_words = 5000"
   ]
  },
  {
   "cell_type": "code",
   "execution_count": 58,
   "metadata": {
    "ExecuteTime": {
     "end_time": "2019-02-17T14:58:24.307117Z",
     "start_time": "2019-02-17T14:58:15.949678Z"
    },
    "colab": {
     "base_uri": "https://localhost:8080/",
     "height": 326
    },
    "colab_type": "code",
    "id": "t5da8IjP-kog",
    "outputId": "55a78a4e-3fde-4135-97b2-7d43f39e46d7"
   },
   "outputs": [
    {
     "name": "stdout",
     "output_type": "stream",
     "text": [
      "WARNING:tensorflow:From /usr/local/lib/python3.6/dist-packages/tensorflow/python/framework/op_def_library.py:263: colocate_with (from tensorflow.python.framework.ops) is deprecated and will be removed in a future version.\n",
      "Instructions for updating:\n",
      "Colocations handled automatically by placer.\n",
      "_________________________________________________________________\n",
      "Layer (type)                 Output Shape              Param #   \n",
      "=================================================================\n",
      "embedding_1 (Embedding)      (None, 600, 32)           160000    \n",
      "_________________________________________________________________\n",
      "lstm_1 (LSTM)                (None, 100)               53200     \n",
      "_________________________________________________________________\n",
      "dense_1 (Dense)              (None, 1)                 101       \n",
      "=================================================================\n",
      "Total params: 213,301\n",
      "Trainable params: 213,301\n",
      "Non-trainable params: 0\n",
      "_________________________________________________________________\n",
      "None\n"
     ]
    }
   ],
   "source": [
    "# create the model\n",
    "embedding_vecor_length = 32\n",
    "model = Sequential()\n",
    "model.add(Embedding(top_words, embedding_vecor_length, input_length=max_review_length))\n",
    "model.add(LSTM(100))\n",
    "model.add(Dense(1, activation='sigmoid'))\n",
    "model.compile(loss='binary_crossentropy', optimizer='adam', metrics=['accuracy'])\n",
    "print(model.summary())\n",
    "#Refer: https://datascience.stackexchange.com/questions/10615/number-of-parameters-in-an-lstm-model"
   ]
  },
  {
   "cell_type": "code",
   "execution_count": 59,
   "metadata": {
    "colab": {
     "base_uri": "https://localhost:8080/",
     "height": 88
    },
    "colab_type": "code",
    "id": "eEVvtf37Lh0V",
    "outputId": "4053a75f-97fe-47d9-dd76-6c81f734935c"
   },
   "outputs": [
    {
     "name": "stderr",
     "output_type": "stream",
     "text": [
      "/usr/local/lib/python3.6/dist-packages/ipykernel_launcher.py:1: FutureWarning: elementwise comparison failed; returning scalar instead, but in the future will perform elementwise comparison\n",
      "  \"\"\"Entry point for launching an IPython kernel.\n"
     ]
    },
    {
     "data": {
      "text/plain": [
       "False"
      ]
     },
     "execution_count": 59,
     "metadata": {
      "tags": []
     },
     "output_type": "execute_result"
    }
   ],
   "source": [
    "'positive' in y_train"
   ]
  },
  {
   "cell_type": "code",
   "execution_count": 64,
   "metadata": {
    "colab": {
     "base_uri": "https://localhost:8080/",
     "height": 221
    },
    "colab_type": "code",
    "id": "LPqJlMCdH7iz",
    "outputId": "b0f647a8-1138-4a88-fba0-af87a8a64766"
   },
   "outputs": [
    {
     "name": "stdout",
     "output_type": "stream",
     "text": [
      "Train on 80000 samples, validate on 76476 samples\n",
      "Epoch 1/5\n",
      "80000/80000 [==============================] - 1515s 19ms/step - loss: 2.5206 - acc: 0.8416 - val_loss: 2.4853 - val_acc: 0.8441\n",
      "Epoch 2/5\n",
      "80000/80000 [==============================] - 1518s 19ms/step - loss: 2.5245 - acc: 0.8416 - val_loss: 2.4853 - val_acc: 0.8441\n",
      "Epoch 3/5\n",
      "80000/80000 [==============================] - 1541s 19ms/step - loss: 2.5245 - acc: 0.8416 - val_loss: 2.4853 - val_acc: 0.8441\n",
      "Epoch 4/5\n",
      "80000/80000 [==============================] - 1517s 19ms/step - loss: 2.5245 - acc: 0.8416 - val_loss: 2.4853 - val_acc: 0.8441\n",
      "Epoch 5/5\n",
      "80000/80000 [==============================] - 1528s 19ms/step - loss: 2.5245 - acc: 0.8416 - val_loss: 2.4853 - val_acc: 0.8441\n",
      "Accuracy: 84.41%\n"
     ]
    }
   ],
   "source": [
    "model.fit(X_train[:80000], y_train[:80000], epochs=5, batch_size=80, validation_data=(X_cv, y_cv))\n",
    "\n",
    "# Final evaluation of the model\n",
    "scores = model.evaluate(X_cv, y_cv, verbose=0)\n",
    "print(\"Accuracy: %.2f%%\" % (scores[1]*100))"
   ]
  },
  {
   "cell_type": "code",
   "execution_count": 0,
   "metadata": {
    "colab": {},
    "colab_type": "code",
    "id": "T_tOrcvj2qyv"
   },
   "outputs": [],
   "source": [
    "import matplotlib.pyplot as plt"
   ]
  },
  {
   "cell_type": "code",
   "execution_count": 67,
   "metadata": {
    "colab": {
     "base_uri": "https://localhost:8080/",
     "height": 376
    },
    "colab_type": "code",
    "id": "i5En9FRD2jUO",
    "outputId": "79705178-b12b-4e6e-aba8-00429ad75b09"
   },
   "outputs": [
    {
     "data": {
      "image/png": "[encoded data removed]",
      "text/plain": [
       "<Figure size 576x396 with 1 Axes>"
      ]
     },
     "metadata": {
      "tags": []
     },
     "output_type": "display_data"
    }
   ],
   "source": [
    "plt.plot(model.history.history['loss'])\n",
    "plt.plot(model.history.history['val_loss'])\n",
    "plt.title('Model Loss')\n",
    "plt.ylabel('Loss')\n",
    "plt.xlabel('Epoch')\n",
    "plt.legend(['Train', 'Crossvalidation'], loc='upper left')\n",
    "plt.show()"
   ]
  },
  {
   "cell_type": "markdown",
   "metadata": {
    "colab_type": "text",
    "id": "_VZDTKS5XAuS"
   },
   "source": [
    "# MODEL 2"
   ]
  },
  {
   "cell_type": "code",
   "execution_count": 0,
   "metadata": {
    "ExecuteTime": {
     "end_time": "2019-02-17T14:57:32.802684Z",
     "start_time": "2019-02-17T14:57:32.798696Z"
    },
    "colab": {},
    "colab_type": "code",
    "id": "bjydXbRvXDl2"
   },
   "outputs": [],
   "source": [
    "top_words = 5000"
   ]
  },
  {
   "cell_type": "code",
   "execution_count": 69,
   "metadata": {
    "ExecuteTime": {
     "end_time": "2019-02-17T14:58:24.307117Z",
     "start_time": "2019-02-17T14:58:15.949678Z"
    },
    "colab": {
     "base_uri": "https://localhost:8080/",
     "height": 289
    },
    "colab_type": "code",
    "id": "AT0zg4VDXDl_",
    "outputId": "e2883f52-c9b1-4a6b-bc47-24db160a145a"
   },
   "outputs": [
    {
     "name": "stdout",
     "output_type": "stream",
     "text": [
      "_________________________________________________________________\n",
      "Layer (type)                 Output Shape              Param #   \n",
      "=================================================================\n",
      "embedding_2 (Embedding)      (None, 600, 32)           160000    \n",
      "_________________________________________________________________\n",
      "lstm_2 (LSTM)                (None, 600, 2)            280       \n",
      "_________________________________________________________________\n",
      "lstm_3 (LSTM)                (None, 2)                 40        \n",
      "_________________________________________________________________\n",
      "dense_2 (Dense)              (None, 1)                 3         \n",
      "=================================================================\n",
      "Total params: 160,323\n",
      "Trainable params: 160,323\n",
      "Non-trainable params: 0\n",
      "_________________________________________________________________\n",
      "None\n"
     ]
    }
   ],
   "source": [
    "# create the model\n",
    "embedding_vecor_length = 32\n",
    "model = Sequential()\n",
    "model.add(Embedding(top_words, embedding_vecor_length, input_length=max_review_length))\n",
    "model.add(LSTM(2, return_sequences=True))\n",
    "model.add(LSTM(2))\n",
    "model.add(Dense(1, activation='sigmoid'))\n",
    "model.compile(loss='binary_crossentropy', optimizer='adam', metrics=['accuracy'])\n",
    "print(model.summary())\n",
    "#Refer: https://datascience.stackexchange.com/questions/10615/number-of-parameters-in-an-lstm-model"
   ]
  },
  {
   "cell_type": "code",
   "execution_count": 71,
   "metadata": {
    "colab": {
     "base_uri": "https://localhost:8080/",
     "height": 221
    },
    "colab_type": "code",
    "id": "TBuGzxAlXDmY",
    "outputId": "ce0b3188-bd87-43f0-8138-feca915785a0"
   },
   "outputs": [
    {
     "name": "stdout",
     "output_type": "stream",
     "text": [
      "Train on 80000 samples, validate on 76476 samples\n",
      "Epoch 1/5\n",
      "80000/80000 [==============================] - 3015s 38ms/step - loss: 0.9576 - acc: 0.8462 - val_loss: 2.4853 - val_acc: 0.8441\n",
      "Epoch 2/5\n",
      "80000/80000 [==============================] - 3024s 38ms/step - loss: 2.5245 - acc: 0.8416 - val_loss: 2.4853 - val_acc: 0.8441\n",
      "Epoch 3/5\n",
      "80000/80000 [==============================] - 3000s 38ms/step - loss: 2.5245 - acc: 0.8417 - val_loss: 2.4853 - val_acc: 0.8441\n",
      "Epoch 4/5\n",
      "80000/80000 [==============================] - 2955s 37ms/step - loss: 2.5245 - acc: 0.8416 - val_loss: 2.4853 - val_acc: 0.8441\n",
      "Epoch 5/5\n",
      "80000/80000 [==============================] - 3026s 38ms/step - loss: 2.5245 - acc: 0.8417 - val_loss: 2.4853 - val_acc: 0.8441\n",
      "Accuracy: 84.34%\n"
     ]
    }
   ],
   "source": [
    "model.fit(X_train[:80000], y_train[:80000], epochs=5, batch_size=80, validation_data=(X_cv, y_cv))\n",
    "\n",
    "# Final evaluation of the model\n",
    "\n",
    "scores = model.evaluate(X_test, y_test, verbose=0)\n",
    "print(\"Accuracy: %.2f%%\" % (scores[1]*100))"
   ]
  },
  {
   "cell_type": "code",
   "execution_count": 72,
   "metadata": {
    "colab": {
     "base_uri": "https://localhost:8080/",
     "height": 376
    },
    "colab_type": "code",
    "id": "rMKK5lz3B6A4",
    "outputId": "512b165e-e7dd-4e97-8a27-90ff36428be5"
   },
   "outputs": [
    {
     "data": {
      "image/png": "[encoded data removed]",
      "text/plain": [
       "<Figure size 576x396 with 1 Axes>"
      ]
     },
     "metadata": {
      "tags": []
     },
     "output_type": "display_data"
    }
   ],
   "source": [
    "plt.plot(model.history.history['loss'])\n",
    "plt.plot(model.history.history['val_loss'])\n",
    "plt.title('Model Loss')\n",
    "plt.ylabel('Loss')\n",
    "plt.xlabel('Epoch')\n",
    "plt.legend(['Train', 'Crossvalidation'], loc='upper left')\n",
    "plt.show()"
   ]
  },
  {
   "cell_type": "code",
   "execution_count": 73,
   "metadata": {
    "colab": {
     "base_uri": "https://localhost:8080/",
     "height": 272
    },
    "colab_type": "code",
    "id": "RF11nhbAaHsv",
    "outputId": "974f203b-5cdd-4e4d-c424-edf8760d5bf3"
   },
   "outputs": [
    {
     "name": "stdout",
     "output_type": "stream",
     "text": [
      "_________________________________________________________________\n",
      "Layer (type)                 Output Shape              Param #   \n",
      "=================================================================\n",
      "embedding_2 (Embedding)      (None, 600, 32)           160000    \n",
      "_________________________________________________________________\n",
      "lstm_2 (LSTM)                (None, 600, 2)            280       \n",
      "_________________________________________________________________\n",
      "lstm_3 (LSTM)                (None, 2)                 40        \n",
      "_________________________________________________________________\n",
      "dense_2 (Dense)              (None, 1)                 3         \n",
      "=================================================================\n",
      "Total params: 160,323\n",
      "Trainable params: 160,323\n",
      "Non-trainable params: 0\n",
      "_________________________________________________________________\n"
     ]
    }
   ],
   "source": [
    "model.summary()"
   ]
  },
  {
   "cell_type": "code",
   "execution_count": 0,
   "metadata": {
    "colab": {},
    "colab_type": "code",
    "id": "GwRhHN46D4Gr"
   },
   "outputs": [],
   "source": [
    "from prettytable import PrettyTable"
   ]
  },
  {
   "cell_type": "code",
   "execution_count": 0,
   "metadata": {
    "colab": {},
    "colab_type": "code",
    "id": "jUQDGzibD6bY"
   },
   "outputs": [],
   "source": [
    "x = PrettyTable()\n",
    "x.field_names = (['architecture','train accuracy', 'validation accuracy'])"
   ]
  },
  {
   "cell_type": "code",
   "execution_count": 0,
   "metadata": {
    "colab": {},
    "colab_type": "code",
    "id": "yy2CZ8wKESOJ"
   },
   "outputs": [],
   "source": [
    "x.add_row(['LSTM(100)',84.16, 84.42])"
   ]
  },
  {
   "cell_type": "code",
   "execution_count": 0,
   "metadata": {
    "colab": {},
    "colab_type": "code",
    "id": "zw99TjX9E-Ta"
   },
   "outputs": [],
   "source": [
    "x.add_row(['LSTM(2) - LSTM(2)', 84.17, 84.34])"
   ]
  },
  {
   "cell_type": "code",
   "execution_count": 91,
   "metadata": {
    "colab": {
     "base_uri": "https://localhost:8080/",
     "height": 119
    },
    "colab_type": "code",
    "id": "Tpt1p3QJEbsM",
    "outputId": "6f7ec5a6-ac87-4758-9148-158d02a70c67"
   },
   "outputs": [
    {
     "name": "stdout",
     "output_type": "stream",
     "text": [
      "+-------------------+----------------+---------------------+\n",
      "|    architecture   | train accuracy | validation accuracy |\n",
      "+-------------------+----------------+---------------------+\n",
      "|     LSTM(100)     |     84.16      |        84.42        |\n",
      "| LSTM(2) - LSTM(2) |     84.17      |        84.34        |\n",
      "+-------------------+----------------+---------------------+\n"
     ]
    }
   ],
   "source": [
    "print(x)"
   ]
  }
 ],
 "metadata": {
  "accelerator": "GPU",
  "colab": {
   "collapsed_sections": [],
   "name": "Assignment LSTM.ipynb",
   "provenance": [],
   "version": "0.3.2"
  },
  "kernelspec": {
   "display_name": "Python 3",
   "language": "python",
   "name": "python3"
  },
  "language_info": {
   "codemirror_mode": {
    "name": "ipython",
    "version": 3
   },
   "file_extension": ".py",
   "mimetype": "text/x-python",
   "name": "python",
   "nbconvert_exporter": "python",
   "pygments_lexer": "ipython3",
   "version": "3.6.7"
  }
 },
 "nbformat": 4,
 "nbformat_minor": 1
}
