{
 "cells": [
  {
   "cell_type": "markdown",
   "metadata": {},
   "source": [
    "### Credits\n",
    "https://www.kaggle.com/reiinakano/basic-nlp-bag-of-words-tf-idf-word2vec-lstm\n",
    "\n",
    "https://www.kaggle.com/shivamb/extensive-text-data-feature-engineering\n",
    "\n",
    "https://github.com/beyondacm/Kaggle_Personalized_Medicine\n",
    "\n",
    "https://stackoverflow.com/questions/37266341/plotting-a-python-dict-in-order-of-key-values\n",
    "\n",
    "https://www.kaggle.com/therzv/implementing-labelencoder-and-onehotencoder"
   ]
  },
  {
   "cell_type": "code",
   "execution_count": 1,
   "metadata": {
    "ExecuteTime": {
     "end_time": "2019-03-06T06:26:10.705704Z",
     "start_time": "2019-03-06T06:25:31.728482Z"
    }
   },
   "outputs": [],
   "source": [
    "import pandas as pd\n",
    "import matplotlib.pyplot as plt\n",
    "import re\n",
    "import time\n",
    "import warnings\n",
    "import numpy as np\n",
    "from nltk.corpus import stopwords\n",
    "from sklearn.decomposition import TruncatedSVD\n",
    "from sklearn.preprocessing import normalize\n",
    "from sklearn.feature_extraction.text import CountVectorizer\n",
    "from sklearn.manifold import TSNE\n",
    "import seaborn as sns\n",
    "from sklearn.neighbors import KNeighborsClassifier\n",
    "from sklearn.metrics import confusion_matrix\n",
    "from sklearn.metrics.classification import accuracy_score, log_loss\n",
    "from sklearn.feature_extraction.text import TfidfVectorizer\n",
    "from sklearn.linear_model import SGDClassifier\n",
    "from imblearn.over_sampling import SMOTE\n",
    "from collections import Counter\n",
    "from scipy.sparse import hstack\n",
    "from sklearn.multiclass import OneVsRestClassifier\n",
    "from sklearn.svm import SVC\n",
    "from sklearn.model_selection import StratifiedKFold \n",
    "from collections import Counter, defaultdict\n",
    "from sklearn.calibration import CalibratedClassifierCV\n",
    "from sklearn.naive_bayes import MultinomialNB\n",
    "from sklearn.naive_bayes import GaussianNB\n",
    "from sklearn.model_selection import train_test_split\n",
    "from sklearn.model_selection import GridSearchCV\n",
    "import math\n",
    "from itertools import zip_longest\n",
    "from sklearn.metrics import normalized_mutual_info_score\n",
    "from sklearn.ensemble import RandomForestClassifier\n",
    "warnings.filterwarnings(\"ignore\")\n",
    "from mlxtend.classifier import StackingClassifier\n",
    "from sklearn import model_selection\n",
    "from sklearn.linear_model import LogisticRegression\n",
    "from scipy import sparse\n",
    "from sklearn.decomposition import TruncatedSVD\n",
    "import nltk"
   ]
  },
  {
   "cell_type": "markdown",
   "metadata": {},
   "source": [
    "### Loading data"
   ]
  },
  {
   "cell_type": "code",
   "execution_count": 2,
   "metadata": {
    "ExecuteTime": {
     "end_time": "2019-03-06T06:26:13.517643Z",
     "start_time": "2019-03-06T06:26:13.343305Z"
    }
   },
   "outputs": [
    {
     "name": "stdout",
     "output_type": "stream",
     "text": [
      "Number of data points :  3321\n",
      "Number of features :  4\n",
      "Features :  ['ID' 'Gene' 'Variation' 'Class']\n"
     ]
    },
    {
     "data": {
      "text/html": [
       "<div>\n",
       "<style scoped>\n",
       "    .dataframe tbody tr th:only-of-type {\n",
       "        vertical-align: middle;\n",
       "    }\n",
       "\n",
       "    .dataframe tbody tr th {\n",
       "        vertical-align: top;\n",
       "    }\n",
       "\n",
       "    .dataframe thead th {\n",
       "        text-align: right;\n",
       "    }\n",
       "</style>\n",
       "<table border=\"1\" class=\"dataframe\">\n",
       "  <thead>\n",
       "    <tr style=\"text-align: right;\">\n",
       "      <th></th>\n",
       "      <th>ID</th>\n",
       "      <th>Gene</th>\n",
       "      <th>Variation</th>\n",
       "      <th>Class</th>\n",
       "    </tr>\n",
       "  </thead>\n",
       "  <tbody>\n",
       "    <tr>\n",
       "      <th>0</th>\n",
       "      <td>0</td>\n",
       "      <td>FAM58A</td>\n",
       "      <td>Truncating Mutations</td>\n",
       "      <td>1</td>\n",
       "    </tr>\n",
       "    <tr>\n",
       "      <th>1</th>\n",
       "      <td>1</td>\n",
       "      <td>CBL</td>\n",
       "      <td>W802*</td>\n",
       "      <td>2</td>\n",
       "    </tr>\n",
       "    <tr>\n",
       "      <th>2</th>\n",
       "      <td>2</td>\n",
       "      <td>CBL</td>\n",
       "      <td>Q249E</td>\n",
       "      <td>2</td>\n",
       "    </tr>\n",
       "    <tr>\n",
       "      <th>3</th>\n",
       "      <td>3</td>\n",
       "      <td>CBL</td>\n",
       "      <td>N454D</td>\n",
       "      <td>3</td>\n",
       "    </tr>\n",
       "    <tr>\n",
       "      <th>4</th>\n",
       "      <td>4</td>\n",
       "      <td>CBL</td>\n",
       "      <td>L399V</td>\n",
       "      <td>4</td>\n",
       "    </tr>\n",
       "  </tbody>\n",
       "</table>\n",
       "</div>"
      ],
      "text/plain": [
       "   ID    Gene             Variation  Class\n",
       "0   0  FAM58A  Truncating Mutations      1\n",
       "1   1     CBL                 W802*      2\n",
       "2   2     CBL                 Q249E      2\n",
       "3   3     CBL                 N454D      3\n",
       "4   4     CBL                 L399V      4"
      ]
     },
     "execution_count": 2,
     "metadata": {},
     "output_type": "execute_result"
    }
   ],
   "source": [
    "data = pd.read_csv('training/training_variants')\n",
    "print('Number of data points : ', data.shape[0])\n",
    "print('Number of features : ', data.shape[1])\n",
    "print('Features : ', data.columns.values)\n",
    "data.head()"
   ]
  },
  {
   "cell_type": "code",
   "execution_count": 3,
   "metadata": {
    "ExecuteTime": {
     "end_time": "2019-03-06T06:26:16.091197Z",
     "start_time": "2019-03-06T06:26:13.855629Z"
    }
   },
   "outputs": [
    {
     "name": "stdout",
     "output_type": "stream",
     "text": [
      "Number of data points :  3321\n",
      "Number of features :  2\n",
      "Features :  ['ID' 'TEXT']\n"
     ]
    },
    {
     "data": {
      "text/html": [
       "<div>\n",
       "<style scoped>\n",
       "    .dataframe tbody tr th:only-of-type {\n",
       "        vertical-align: middle;\n",
       "    }\n",
       "\n",
       "    .dataframe tbody tr th {\n",
       "        vertical-align: top;\n",
       "    }\n",
       "\n",
       "    .dataframe thead th {\n",
       "        text-align: right;\n",
       "    }\n",
       "</style>\n",
       "<table border=\"1\" class=\"dataframe\">\n",
       "  <thead>\n",
       "    <tr style=\"text-align: right;\">\n",
       "      <th></th>\n",
       "      <th>ID</th>\n",
       "      <th>TEXT</th>\n",
       "    </tr>\n",
       "  </thead>\n",
       "  <tbody>\n",
       "    <tr>\n",
       "      <th>0</th>\n",
       "      <td>0</td>\n",
       "      <td>Cyclin-dependent kinases (CDKs) regulate a var...</td>\n",
       "    </tr>\n",
       "    <tr>\n",
       "      <th>1</th>\n",
       "      <td>1</td>\n",
       "      <td>Abstract Background  Non-small cell lung canc...</td>\n",
       "    </tr>\n",
       "    <tr>\n",
       "      <th>2</th>\n",
       "      <td>2</td>\n",
       "      <td>Abstract Background  Non-small cell lung canc...</td>\n",
       "    </tr>\n",
       "    <tr>\n",
       "      <th>3</th>\n",
       "      <td>3</td>\n",
       "      <td>Recent evidence has demonstrated that acquired...</td>\n",
       "    </tr>\n",
       "    <tr>\n",
       "      <th>4</th>\n",
       "      <td>4</td>\n",
       "      <td>Oncogenic mutations in the monomeric Casitas B...</td>\n",
       "    </tr>\n",
       "  </tbody>\n",
       "</table>\n",
       "</div>"
      ],
      "text/plain": [
       "   ID                                               TEXT\n",
       "0   0  Cyclin-dependent kinases (CDKs) regulate a var...\n",
       "1   1   Abstract Background  Non-small cell lung canc...\n",
       "2   2   Abstract Background  Non-small cell lung canc...\n",
       "3   3  Recent evidence has demonstrated that acquired...\n",
       "4   4  Oncogenic mutations in the monomeric Casitas B..."
      ]
     },
     "execution_count": 3,
     "metadata": {},
     "output_type": "execute_result"
    }
   ],
   "source": [
    "# note the seprator in this file\n",
    "data_text =pd.read_csv(\"training/training_text\",sep=\"\\|\\|\",engine=\"python\",names=[\"ID\",\"TEXT\"],skiprows=1)\n",
    "print('Number of data points : ', data_text.shape[0])\n",
    "print('Number of features : ', data_text.shape[1])\n",
    "print('Features : ', data_text.columns.values)\n",
    "data_text.head()"
   ]
  },
  {
   "cell_type": "markdown",
   "metadata": {},
   "source": [
    "### Merge text and values"
   ]
  },
  {
   "cell_type": "code",
   "execution_count": 4,
   "metadata": {
    "ExecuteTime": {
     "end_time": "2019-03-06T06:26:16.246569Z",
     "start_time": "2019-03-06T06:26:16.093149Z"
    }
   },
   "outputs": [],
   "source": [
    "df_train = pd.merge(data, data_text, how='left', on='ID')"
   ]
  },
  {
   "cell_type": "code",
   "execution_count": 5,
   "metadata": {
    "ExecuteTime": {
     "end_time": "2019-03-06T06:26:16.262212Z",
     "start_time": "2019-03-06T06:26:16.248520Z"
    }
   },
   "outputs": [
    {
     "data": {
      "text/html": [
       "<div>\n",
       "<style scoped>\n",
       "    .dataframe tbody tr th:only-of-type {\n",
       "        vertical-align: middle;\n",
       "    }\n",
       "\n",
       "    .dataframe tbody tr th {\n",
       "        vertical-align: top;\n",
       "    }\n",
       "\n",
       "    .dataframe thead th {\n",
       "        text-align: right;\n",
       "    }\n",
       "</style>\n",
       "<table border=\"1\" class=\"dataframe\">\n",
       "  <thead>\n",
       "    <tr style=\"text-align: right;\">\n",
       "      <th></th>\n",
       "      <th>ID</th>\n",
       "      <th>Gene</th>\n",
       "      <th>Variation</th>\n",
       "      <th>Class</th>\n",
       "      <th>TEXT</th>\n",
       "    </tr>\n",
       "  </thead>\n",
       "  <tbody>\n",
       "    <tr>\n",
       "      <th>0</th>\n",
       "      <td>0</td>\n",
       "      <td>FAM58A</td>\n",
       "      <td>Truncating Mutations</td>\n",
       "      <td>1</td>\n",
       "      <td>Cyclin-dependent kinases (CDKs) regulate a var...</td>\n",
       "    </tr>\n",
       "    <tr>\n",
       "      <th>1</th>\n",
       "      <td>1</td>\n",
       "      <td>CBL</td>\n",
       "      <td>W802*</td>\n",
       "      <td>2</td>\n",
       "      <td>Abstract Background  Non-small cell lung canc...</td>\n",
       "    </tr>\n",
       "    <tr>\n",
       "      <th>2</th>\n",
       "      <td>2</td>\n",
       "      <td>CBL</td>\n",
       "      <td>Q249E</td>\n",
       "      <td>2</td>\n",
       "      <td>Abstract Background  Non-small cell lung canc...</td>\n",
       "    </tr>\n",
       "    <tr>\n",
       "      <th>3</th>\n",
       "      <td>3</td>\n",
       "      <td>CBL</td>\n",
       "      <td>N454D</td>\n",
       "      <td>3</td>\n",
       "      <td>Recent evidence has demonstrated that acquired...</td>\n",
       "    </tr>\n",
       "    <tr>\n",
       "      <th>4</th>\n",
       "      <td>4</td>\n",
       "      <td>CBL</td>\n",
       "      <td>L399V</td>\n",
       "      <td>4</td>\n",
       "      <td>Oncogenic mutations in the monomeric Casitas B...</td>\n",
       "    </tr>\n",
       "  </tbody>\n",
       "</table>\n",
       "</div>"
      ],
      "text/plain": [
       "   ID    Gene             Variation  Class  \\\n",
       "0   0  FAM58A  Truncating Mutations      1   \n",
       "1   1     CBL                 W802*      2   \n",
       "2   2     CBL                 Q249E      2   \n",
       "3   3     CBL                 N454D      3   \n",
       "4   4     CBL                 L399V      4   \n",
       "\n",
       "                                                TEXT  \n",
       "0  Cyclin-dependent kinases (CDKs) regulate a var...  \n",
       "1   Abstract Background  Non-small cell lung canc...  \n",
       "2   Abstract Background  Non-small cell lung canc...  \n",
       "3  Recent evidence has demonstrated that acquired...  \n",
       "4  Oncogenic mutations in the monomeric Casitas B...  "
      ]
     },
     "execution_count": 5,
     "metadata": {},
     "output_type": "execute_result"
    }
   ],
   "source": [
    "df_train.head()"
   ]
  },
  {
   "cell_type": "code",
   "execution_count": 6,
   "metadata": {},
   "outputs": [
    {
     "data": {
      "text/plain": [
       "(3321, 5)"
      ]
     },
     "execution_count": 6,
     "metadata": {},
     "output_type": "execute_result"
    }
   ],
   "source": [
    "df_train.shape"
   ]
  },
  {
   "cell_type": "markdown",
   "metadata": {},
   "source": [
    "<h3>3.1.3. Preprocessing of text</h3>"
   ]
  },
  {
   "cell_type": "code",
   "execution_count": 7,
   "metadata": {},
   "outputs": [
    {
     "name": "stderr",
     "output_type": "stream",
     "text": [
      "[nltk_data] Downloading package stopwords to\n",
      "[nltk_data]     /home/karthikmgcp/nltk_data...\n",
      "[nltk_data]   Package stopwords is already up-to-date!\n"
     ]
    },
    {
     "data": {
      "text/plain": [
       "True"
      ]
     },
     "execution_count": 7,
     "metadata": {},
     "output_type": "execute_result"
    }
   ],
   "source": [
    "nltk.download(\"stopwords\")"
   ]
  },
  {
   "cell_type": "code",
   "execution_count": 8,
   "metadata": {
    "ExecuteTime": {
     "end_time": "2019-03-06T06:26:16.444114Z",
     "start_time": "2019-03-06T06:26:16.264136Z"
    }
   },
   "outputs": [],
   "source": [
    "# loading stop words from nltk library\n",
    "stop_words = set(stopwords.words('english'))\n",
    "\n",
    "\n",
    "def nlp_preprocessing(total_text, index, column):\n",
    "    if type(total_text) is not int:\n",
    "        string = \"\"\n",
    "        # replace every special char with space\n",
    "        total_text = re.sub('[^a-zA-Z0-9\\n]', ' ', total_text)\n",
    "        # replace multiple spaces with single space\n",
    "        total_text = re.sub('\\s+',' ', total_text)\n",
    "        # converting all the chars into lower-case.\n",
    "        total_text = total_text.lower()\n",
    "        \n",
    "        for word in total_text.split():\n",
    "        # if the word is a not a stop word then retain that word from the data\n",
    "            if not word in stop_words:\n",
    "                string += word + \" \"\n",
    "        \n",
    "        data_text[column][index] = string"
   ]
  },
  {
   "cell_type": "code",
   "execution_count": 9,
   "metadata": {
    "ExecuteTime": {
     "end_time": "2019-03-06T06:28:39.622861Z",
     "start_time": "2019-03-06T06:26:16.445953Z"
    }
   },
   "outputs": [
    {
     "name": "stdout",
     "output_type": "stream",
     "text": [
      "there is no text description for id: 1109\n",
      "there is no text description for id: 1277\n",
      "there is no text description for id: 1407\n",
      "there is no text description for id: 1639\n",
      "there is no text description for id: 2755\n",
      "Time took for preprocessing the text : 268.995276 seconds\n"
     ]
    }
   ],
   "source": [
    "#text processing stage.\n",
    "start_time = time.clock()\n",
    "for index, row in data_text.iterrows():\n",
    "    if type(row['TEXT']) is str:\n",
    "        nlp_preprocessing(row['TEXT'], index, 'TEXT')\n",
    "    else:\n",
    "        print(\"there is no text description for id:\",index)\n",
    "print('Time took for preprocessing the text :',time.clock() - start_time, \"seconds\")"
   ]
  },
  {
   "cell_type": "code",
   "execution_count": 10,
   "metadata": {
    "ExecuteTime": {
     "end_time": "2019-03-06T06:28:39.644306Z",
     "start_time": "2019-03-06T06:28:39.624788Z"
    },
    "scrolled": true
   },
   "outputs": [
    {
     "data": {
      "text/html": [
       "<div>\n",
       "<style scoped>\n",
       "    .dataframe tbody tr th:only-of-type {\n",
       "        vertical-align: middle;\n",
       "    }\n",
       "\n",
       "    .dataframe tbody tr th {\n",
       "        vertical-align: top;\n",
       "    }\n",
       "\n",
       "    .dataframe thead th {\n",
       "        text-align: right;\n",
       "    }\n",
       "</style>\n",
       "<table border=\"1\" class=\"dataframe\">\n",
       "  <thead>\n",
       "    <tr style=\"text-align: right;\">\n",
       "      <th></th>\n",
       "      <th>ID</th>\n",
       "      <th>Gene</th>\n",
       "      <th>Variation</th>\n",
       "      <th>Class</th>\n",
       "      <th>TEXT</th>\n",
       "    </tr>\n",
       "  </thead>\n",
       "  <tbody>\n",
       "    <tr>\n",
       "      <th>0</th>\n",
       "      <td>0</td>\n",
       "      <td>FAM58A</td>\n",
       "      <td>Truncating Mutations</td>\n",
       "      <td>1</td>\n",
       "      <td>cyclin dependent kinases cdks regulate variety...</td>\n",
       "    </tr>\n",
       "    <tr>\n",
       "      <th>1</th>\n",
       "      <td>1</td>\n",
       "      <td>CBL</td>\n",
       "      <td>W802*</td>\n",
       "      <td>2</td>\n",
       "      <td>abstract background non small cell lung cancer...</td>\n",
       "    </tr>\n",
       "    <tr>\n",
       "      <th>2</th>\n",
       "      <td>2</td>\n",
       "      <td>CBL</td>\n",
       "      <td>Q249E</td>\n",
       "      <td>2</td>\n",
       "      <td>abstract background non small cell lung cancer...</td>\n",
       "    </tr>\n",
       "    <tr>\n",
       "      <th>3</th>\n",
       "      <td>3</td>\n",
       "      <td>CBL</td>\n",
       "      <td>N454D</td>\n",
       "      <td>3</td>\n",
       "      <td>recent evidence demonstrated acquired uniparen...</td>\n",
       "    </tr>\n",
       "    <tr>\n",
       "      <th>4</th>\n",
       "      <td>4</td>\n",
       "      <td>CBL</td>\n",
       "      <td>L399V</td>\n",
       "      <td>4</td>\n",
       "      <td>oncogenic mutations monomeric casitas b lineag...</td>\n",
       "    </tr>\n",
       "  </tbody>\n",
       "</table>\n",
       "</div>"
      ],
      "text/plain": [
       "   ID    Gene             Variation  Class  \\\n",
       "0   0  FAM58A  Truncating Mutations      1   \n",
       "1   1     CBL                 W802*      2   \n",
       "2   2     CBL                 Q249E      2   \n",
       "3   3     CBL                 N454D      3   \n",
       "4   4     CBL                 L399V      4   \n",
       "\n",
       "                                                TEXT  \n",
       "0  cyclin dependent kinases cdks regulate variety...  \n",
       "1  abstract background non small cell lung cancer...  \n",
       "2  abstract background non small cell lung cancer...  \n",
       "3  recent evidence demonstrated acquired uniparen...  \n",
       "4  oncogenic mutations monomeric casitas b lineag...  "
      ]
     },
     "execution_count": 10,
     "metadata": {},
     "output_type": "execute_result"
    }
   ],
   "source": [
    "#merging both gene_variations and text data based on ID\n",
    "result = pd.merge(data, data_text,on='ID', how='left')\n",
    "result.head()"
   ]
  },
  {
   "cell_type": "code",
   "execution_count": 11,
   "metadata": {},
   "outputs": [],
   "source": [
    "result.Gene      = result.Gene.str.replace('\\s+', '_')\n",
    "result.Variation = result.Variation.str.replace('\\s+', '_')"
   ]
  },
  {
   "cell_type": "code",
   "execution_count": 12,
   "metadata": {},
   "outputs": [
    {
     "data": {
      "text/plain": [
       "(3321, 5)"
      ]
     },
     "execution_count": 12,
     "metadata": {},
     "output_type": "execute_result"
    }
   ],
   "source": [
    "result.shape"
   ]
  },
  {
   "cell_type": "code",
   "execution_count": 13,
   "metadata": {
    "ExecuteTime": {
     "end_time": "2019-03-06T06:28:40.312002Z",
     "start_time": "2019-03-06T06:28:39.646258Z"
    }
   },
   "outputs": [
    {
     "data": {
      "text/plain": [
       "<matplotlib.axes._subplots.AxesSubplot at 0x7fede7bab710>"
      ]
     },
     "execution_count": 13,
     "metadata": {},
     "output_type": "execute_result"
    },
    {
     "data": {
      "image/png": "[encoded data removed]",
      "text/plain": [
       "<Figure size 432x288 with 1 Axes>"
      ]
     },
     "metadata": {},
     "output_type": "display_data"
    }
   ],
   "source": [
    "result['Class'].value_counts().plot(kind='bar')"
   ]
  },
  {
   "cell_type": "markdown",
   "metadata": {},
   "source": [
    "## Random model"
   ]
  },
  {
   "cell_type": "code",
   "execution_count": 14,
   "metadata": {
    "ExecuteTime": {
     "end_time": "2019-03-06T06:28:40.693942Z",
     "start_time": "2019-03-06T06:28:40.580580Z"
    }
   },
   "outputs": [],
   "source": [
    "# This function plots the confusion matrices given y_i, y_i_hat.\n",
    "def plot_confusion_matrix(test_y, predict_y):\n",
    "    C = confusion_matrix(test_y, predict_y)\n",
    "    # C = 9,9 matrix, each cell (i,j) represents number of points of class i are predicted class j\n",
    "    \n",
    "    A =(((C.T)/(C.sum(axis=1))).T)\n",
    "    #divid each element of the confusion matrix with the sum of elements in that column\n",
    "    \n",
    "    # C = [[1, 2],\n",
    "    #     [3, 4]]\n",
    "    # C.T = [[1, 3],\n",
    "    #        [2, 4]]\n",
    "    # C.sum(axis = 1)  axis=0 corresonds to columns and axis=1 corresponds to rows in two diamensional array\n",
    "    # C.sum(axix =1) = [[3, 7]]\n",
    "    # ((C.T)/(C.sum(axis=1))) = [[1/3, 3/7]\n",
    "    #                           [2/3, 4/7]]\n",
    "\n",
    "    # ((C.T)/(C.sum(axis=1))).T = [[1/3, 2/3]\n",
    "    #                           [3/7, 4/7]]\n",
    "    # sum of row elements = 1\n",
    "    \n",
    "    B =(C/C.sum(axis=0))\n",
    "    #divid each element of the confusion matrix with the sum of elements in that row\n",
    "    # C = [[1, 2],\n",
    "    #     [3, 4]]\n",
    "    # C.sum(axis = 0)  axis=0 corresonds to columns and axis=1 corresponds to rows in two diamensional array\n",
    "    # C.sum(axix =0) = [[4, 6]]\n",
    "    # (C/C.sum(axis=0)) = [[1/4, 2/6],\n",
    "    #                      [3/4, 4/6]] \n",
    "    \n",
    "    labels = [1,2,3,4,5,6,7,8,9]\n",
    "    # representing A in heatmap format\n",
    "    print(\"-\"*20, \"Confusion matrix\", \"-\"*20)\n",
    "    plt.figure(figsize=(20,7))\n",
    "    sns.heatmap(C, annot=True, cmap=\"YlGnBu\", fmt=\".3f\", xticklabels=labels, yticklabels=labels)\n",
    "    plt.xlabel('Predicted Class')\n",
    "    plt.ylabel('Original Class')\n",
    "    plt.show()\n",
    "\n",
    "    print(\"-\"*20, \"Precision matrix (Columm Sum=1)\", \"-\"*20)\n",
    "    plt.figure(figsize=(20,7))\n",
    "    sns.heatmap(B, annot=True, cmap=\"YlGnBu\", fmt=\".3f\", xticklabels=labels, yticklabels=labels)\n",
    "    plt.xlabel('Predicted Class')\n",
    "    plt.ylabel('Original Class')\n",
    "    plt.show()\n",
    "    \n",
    "    # representing B in heatmap format\n",
    "    print(\"-\"*20, \"Recall matrix (Row sum=1)\", \"-\"*20)\n",
    "    plt.figure(figsize=(20,7))\n",
    "    sns.heatmap(A, annot=True, cmap=\"YlGnBu\", fmt=\".3f\", xticklabels=labels, yticklabels=labels)\n",
    "    plt.xlabel('Predicted Class')\n",
    "    plt.ylabel('Original Class')\n",
    "    plt.show()"
   ]
  },
  {
   "cell_type": "markdown",
   "metadata": {
    "ExecuteTime": {
     "end_time": "2019-03-05T16:50:49.141542Z",
     "start_time": "2019-03-05T16:50:49.136665Z"
    }
   },
   "source": [
    "<h1>5. Assignments</h1>\n",
    "\n",
    "<ol>\n",
    "    <li> Apply All the models with tf-idf features (Replace CountVectorizer with tfidfVectorizer and run the same cells)</li>\n",
    "    <li> Instead of using all the words in the dataset, use only the top 1000 words based of tf-idf values</li>\n",
    "    <li>Apply Logistic regression with CountVectorizer Features, including both unigrams and bigrams</li>\n",
    "    <li> Try any of the feature engineering techniques discussed in the course to reduce the CV and test log-loss to a value less than 1.0</li>\n",
    "</ol>"
   ]
  },
  {
   "cell_type": "markdown",
   "metadata": {},
   "source": [
    "### Top words"
   ]
  },
  {
   "cell_type": "code",
   "execution_count": 15,
   "metadata": {
    "ExecuteTime": {
     "end_time": "2019-03-06T06:28:46.713991Z",
     "start_time": "2019-03-06T06:28:42.482705Z"
    },
    "scrolled": true
   },
   "outputs": [],
   "source": [
    "all_words = []\n",
    "for i in result['TEXT']:\n",
    "    words = str(i).split()\n",
    "    for i in words:\n",
    "        g = i.isdigit()\n",
    "        if not g:\n",
    "            all_words.append(i)"
   ]
  },
  {
   "cell_type": "code",
   "execution_count": 16,
   "metadata": {
    "ExecuteTime": {
     "end_time": "2019-03-06T06:28:46.720784Z",
     "start_time": "2019-03-06T06:28:46.714928Z"
    }
   },
   "outputs": [
    {
     "data": {
      "text/plain": [
       "20546602"
      ]
     },
     "execution_count": 16,
     "metadata": {},
     "output_type": "execute_result"
    }
   ],
   "source": [
    "len(all_words)"
   ]
  },
  {
   "cell_type": "code",
   "execution_count": 17,
   "metadata": {
    "ExecuteTime": {
     "end_time": "2019-03-06T06:28:48.571204Z",
     "start_time": "2019-03-06T06:28:46.723713Z"
    }
   },
   "outputs": [],
   "source": [
    "x = Counter(all_words)"
   ]
  },
  {
   "cell_type": "code",
   "execution_count": 18,
   "metadata": {
    "ExecuteTime": {
     "end_time": "2019-03-06T06:28:49.017067Z",
     "start_time": "2019-03-06T06:28:48.573155Z"
    }
   },
   "outputs": [],
   "source": [
    "import operator\n",
    "sorted_x = sorted(x.items(), key=operator.itemgetter(1), reverse=True)"
   ]
  },
  {
   "cell_type": "code",
   "execution_count": 19,
   "metadata": {
    "ExecuteTime": {
     "end_time": "2019-03-06T06:28:49.116087Z",
     "start_time": "2019-03-06T06:28:49.018044Z"
    }
   },
   "outputs": [],
   "source": [
    "top_2k_words = []\n",
    "for i in sorted_x[:2000]:\n",
    "    top_2k_words.append(i[0])"
   ]
  },
  {
   "cell_type": "code",
   "execution_count": 20,
   "metadata": {
    "ExecuteTime": {
     "end_time": "2019-03-06T06:28:49.236330Z",
     "start_time": "2019-03-06T06:28:49.120973Z"
    }
   },
   "outputs": [
    {
     "data": {
      "text/plain": [
       "2000"
      ]
     },
     "execution_count": 20,
     "metadata": {},
     "output_type": "execute_result"
    }
   ],
   "source": [
    "len(top_2k_words)"
   ]
  },
  {
   "cell_type": "markdown",
   "metadata": {},
   "source": [
    "## Feature engineering"
   ]
  },
  {
   "cell_type": "markdown",
   "metadata": {},
   "source": [
    "### Tfidf vectorization + svd on text"
   ]
  },
  {
   "cell_type": "code",
   "execution_count": 21,
   "metadata": {
    "ExecuteTime": {
     "end_time": "2019-03-06T06:54:53.428808Z",
     "start_time": "2019-03-06T06:52:47.322891Z"
    }
   },
   "outputs": [],
   "source": [
    "tfidfvectorizer = TfidfVectorizer(min_df=5, ngram_range=(1,3), max_features=50000, stop_words='english')\n",
    "train_text_feature_tfidf = tfidfvectorizer.fit_transform(result['TEXT'].values.astype('U'))"
   ]
  },
  {
   "cell_type": "code",
   "execution_count": 22,
   "metadata": {
    "ExecuteTime": {
     "end_time": "2019-03-06T06:54:54.018805Z",
     "start_time": "2019-03-06T06:54:53.449005Z"
    }
   },
   "outputs": [],
   "source": [
    "train_text_feature_tfidf = normalize(train_text_feature_tfidf, axis=0)"
   ]
  },
  {
   "cell_type": "code",
   "execution_count": 23,
   "metadata": {
    "ExecuteTime": {
     "end_time": "2019-03-06T06:54:55.851076Z",
     "start_time": "2019-03-06T06:54:55.838111Z"
    }
   },
   "outputs": [
    {
     "name": "stdout",
     "output_type": "stream",
     "text": [
      "(3321, 50000)\n"
     ]
    }
   ],
   "source": [
    "print(train_text_feature_tfidf.shape)"
   ]
  },
  {
   "cell_type": "code",
   "execution_count": 24,
   "metadata": {},
   "outputs": [],
   "source": [
    "svd = TruncatedSVD(n_components=1000)\n",
    "train_text_feature_tfidf_svd = svd.fit_transform(train_text_feature_tfidf)"
   ]
  },
  {
   "cell_type": "code",
   "execution_count": 25,
   "metadata": {},
   "outputs": [
    {
     "data": {
      "text/plain": [
       "3321"
      ]
     },
     "execution_count": 25,
     "metadata": {},
     "output_type": "execute_result"
    }
   ],
   "source": [
    "len(train_text_feature_tfidf_svd)"
   ]
  },
  {
   "cell_type": "code",
   "execution_count": 26,
   "metadata": {},
   "outputs": [
    {
     "data": {
      "text/plain": [
       "(3321, 5)"
      ]
     },
     "execution_count": 26,
     "metadata": {},
     "output_type": "execute_result"
    }
   ],
   "source": [
    "result.shape"
   ]
  },
  {
   "cell_type": "code",
   "execution_count": 27,
   "metadata": {},
   "outputs": [
    {
     "data": {
      "text/plain": [
       "(3321, 1000)"
      ]
     },
     "execution_count": 27,
     "metadata": {},
     "output_type": "execute_result"
    }
   ],
   "source": [
    "train_text_feature_tfidf_svd.shape"
   ]
  },
  {
   "cell_type": "code",
   "execution_count": 28,
   "metadata": {},
   "outputs": [
    {
     "data": {
      "text/html": [
       "<div>\n",
       "<style scoped>\n",
       "    .dataframe tbody tr th:only-of-type {\n",
       "        vertical-align: middle;\n",
       "    }\n",
       "\n",
       "    .dataframe tbody tr th {\n",
       "        vertical-align: top;\n",
       "    }\n",
       "\n",
       "    .dataframe thead th {\n",
       "        text-align: right;\n",
       "    }\n",
       "</style>\n",
       "<table border=\"1\" class=\"dataframe\">\n",
       "  <thead>\n",
       "    <tr style=\"text-align: right;\">\n",
       "      <th></th>\n",
       "      <th>tfidf_0</th>\n",
       "      <th>tfidf_1</th>\n",
       "      <th>tfidf_2</th>\n",
       "      <th>tfidf_3</th>\n",
       "      <th>tfidf_4</th>\n",
       "      <th>tfidf_5</th>\n",
       "      <th>tfidf_6</th>\n",
       "      <th>tfidf_7</th>\n",
       "      <th>tfidf_8</th>\n",
       "      <th>tfidf_9</th>\n",
       "      <th>...</th>\n",
       "      <th>tfidf_990</th>\n",
       "      <th>tfidf_991</th>\n",
       "      <th>tfidf_992</th>\n",
       "      <th>tfidf_993</th>\n",
       "      <th>tfidf_994</th>\n",
       "      <th>tfidf_995</th>\n",
       "      <th>tfidf_996</th>\n",
       "      <th>tfidf_997</th>\n",
       "      <th>tfidf_998</th>\n",
       "      <th>tfidf_999</th>\n",
       "    </tr>\n",
       "  </thead>\n",
       "  <tbody>\n",
       "    <tr>\n",
       "      <th>3316</th>\n",
       "      <td>0.048835</td>\n",
       "      <td>0.226168</td>\n",
       "      <td>-0.303845</td>\n",
       "      <td>-0.050618</td>\n",
       "      <td>-0.269677</td>\n",
       "      <td>-0.087591</td>\n",
       "      <td>-0.069472</td>\n",
       "      <td>-0.084134</td>\n",
       "      <td>0.014041</td>\n",
       "      <td>0.019114</td>\n",
       "      <td>...</td>\n",
       "      <td>-0.018785</td>\n",
       "      <td>-0.001215</td>\n",
       "      <td>-0.024713</td>\n",
       "      <td>0.009466</td>\n",
       "      <td>-0.018060</td>\n",
       "      <td>-0.006932</td>\n",
       "      <td>-0.008582</td>\n",
       "      <td>-0.013133</td>\n",
       "      <td>0.003655</td>\n",
       "      <td>0.003301</td>\n",
       "    </tr>\n",
       "    <tr>\n",
       "      <th>3317</th>\n",
       "      <td>0.028574</td>\n",
       "      <td>0.154918</td>\n",
       "      <td>-0.215939</td>\n",
       "      <td>-0.028083</td>\n",
       "      <td>-0.179527</td>\n",
       "      <td>-0.071755</td>\n",
       "      <td>-0.048534</td>\n",
       "      <td>-0.057453</td>\n",
       "      <td>-0.015495</td>\n",
       "      <td>0.028219</td>\n",
       "      <td>...</td>\n",
       "      <td>0.004158</td>\n",
       "      <td>0.007745</td>\n",
       "      <td>0.005362</td>\n",
       "      <td>-0.009487</td>\n",
       "      <td>-0.005980</td>\n",
       "      <td>-0.000808</td>\n",
       "      <td>0.008182</td>\n",
       "      <td>-0.002496</td>\n",
       "      <td>-0.003396</td>\n",
       "      <td>-0.012459</td>\n",
       "    </tr>\n",
       "    <tr>\n",
       "      <th>3318</th>\n",
       "      <td>0.022466</td>\n",
       "      <td>0.082302</td>\n",
       "      <td>-0.119403</td>\n",
       "      <td>-0.030798</td>\n",
       "      <td>-0.082061</td>\n",
       "      <td>-0.029632</td>\n",
       "      <td>-0.015867</td>\n",
       "      <td>-0.011370</td>\n",
       "      <td>-0.004770</td>\n",
       "      <td>0.003661</td>\n",
       "      <td>...</td>\n",
       "      <td>-0.007904</td>\n",
       "      <td>0.068449</td>\n",
       "      <td>-0.012044</td>\n",
       "      <td>-0.018054</td>\n",
       "      <td>0.018220</td>\n",
       "      <td>-0.001886</td>\n",
       "      <td>-0.008293</td>\n",
       "      <td>0.033811</td>\n",
       "      <td>-0.026123</td>\n",
       "      <td>-0.018239</td>\n",
       "    </tr>\n",
       "    <tr>\n",
       "      <th>3319</th>\n",
       "      <td>0.055895</td>\n",
       "      <td>0.223717</td>\n",
       "      <td>-0.282608</td>\n",
       "      <td>-0.069521</td>\n",
       "      <td>-0.207801</td>\n",
       "      <td>-0.058964</td>\n",
       "      <td>-0.019058</td>\n",
       "      <td>-0.026675</td>\n",
       "      <td>0.003955</td>\n",
       "      <td>0.030440</td>\n",
       "      <td>...</td>\n",
       "      <td>-0.006853</td>\n",
       "      <td>0.012886</td>\n",
       "      <td>-0.065838</td>\n",
       "      <td>-0.019376</td>\n",
       "      <td>-0.027723</td>\n",
       "      <td>-0.047035</td>\n",
       "      <td>0.045465</td>\n",
       "      <td>-0.041221</td>\n",
       "      <td>0.025130</td>\n",
       "      <td>-0.095623</td>\n",
       "    </tr>\n",
       "    <tr>\n",
       "      <th>3320</th>\n",
       "      <td>0.061440</td>\n",
       "      <td>0.240294</td>\n",
       "      <td>-0.310069</td>\n",
       "      <td>-0.065962</td>\n",
       "      <td>-0.236450</td>\n",
       "      <td>-0.054467</td>\n",
       "      <td>-0.030027</td>\n",
       "      <td>-0.043498</td>\n",
       "      <td>0.025211</td>\n",
       "      <td>0.035099</td>\n",
       "      <td>...</td>\n",
       "      <td>0.005717</td>\n",
       "      <td>0.004911</td>\n",
       "      <td>0.006352</td>\n",
       "      <td>0.014330</td>\n",
       "      <td>0.016624</td>\n",
       "      <td>0.002177</td>\n",
       "      <td>-0.007513</td>\n",
       "      <td>0.008455</td>\n",
       "      <td>-0.006823</td>\n",
       "      <td>0.011895</td>\n",
       "    </tr>\n",
       "  </tbody>\n",
       "</table>\n",
       "<p>5 rows × 1000 columns</p>\n",
       "</div>"
      ],
      "text/plain": [
       "       tfidf_0   tfidf_1   tfidf_2   tfidf_3   tfidf_4   tfidf_5   tfidf_6  \\\n",
       "3316  0.048835  0.226168 -0.303845 -0.050618 -0.269677 -0.087591 -0.069472   \n",
       "3317  0.028574  0.154918 -0.215939 -0.028083 -0.179527 -0.071755 -0.048534   \n",
       "3318  0.022466  0.082302 -0.119403 -0.030798 -0.082061 -0.029632 -0.015867   \n",
       "3319  0.055895  0.223717 -0.282608 -0.069521 -0.207801 -0.058964 -0.019058   \n",
       "3320  0.061440  0.240294 -0.310069 -0.065962 -0.236450 -0.054467 -0.030027   \n",
       "\n",
       "       tfidf_7   tfidf_8   tfidf_9    ...      tfidf_990  tfidf_991  \\\n",
       "3316 -0.084134  0.014041  0.019114    ...      -0.018785  -0.001215   \n",
       "3317 -0.057453 -0.015495  0.028219    ...       0.004158   0.007745   \n",
       "3318 -0.011370 -0.004770  0.003661    ...      -0.007904   0.068449   \n",
       "3319 -0.026675  0.003955  0.030440    ...      -0.006853   0.012886   \n",
       "3320 -0.043498  0.025211  0.035099    ...       0.005717   0.004911   \n",
       "\n",
       "      tfidf_992  tfidf_993  tfidf_994  tfidf_995  tfidf_996  tfidf_997  \\\n",
       "3316  -0.024713   0.009466  -0.018060  -0.006932  -0.008582  -0.013133   \n",
       "3317   0.005362  -0.009487  -0.005980  -0.000808   0.008182  -0.002496   \n",
       "3318  -0.012044  -0.018054   0.018220  -0.001886  -0.008293   0.033811   \n",
       "3319  -0.065838  -0.019376  -0.027723  -0.047035   0.045465  -0.041221   \n",
       "3320   0.006352   0.014330   0.016624   0.002177  -0.007513   0.008455   \n",
       "\n",
       "      tfidf_998  tfidf_999  \n",
       "3316   0.003655   0.003301  \n",
       "3317  -0.003396  -0.012459  \n",
       "3318  -0.026123  -0.018239  \n",
       "3319   0.025130  -0.095623  \n",
       "3320  -0.006823   0.011895  \n",
       "\n",
       "[5 rows x 1000 columns]"
      ]
     },
     "execution_count": 28,
     "metadata": {},
     "output_type": "execute_result"
    }
   ],
   "source": [
    "df_tfidf_col_name = [\"tfidf_\"+str(i) for i in range(1000)]\n",
    "df_tfidf= pd.DataFrame(train_text_feature_tfidf_svd)\n",
    "df_tfidf.columns = df_tfidf_col_name\n",
    "df_tfidf.tail()"
   ]
  },
  {
   "cell_type": "code",
   "execution_count": 29,
   "metadata": {},
   "outputs": [],
   "source": [
    "result = result.join(df_tfidf)"
   ]
  },
  {
   "cell_type": "code",
   "execution_count": 30,
   "metadata": {},
   "outputs": [
    {
     "data": {
      "text/html": [
       "<div>\n",
       "<style scoped>\n",
       "    .dataframe tbody tr th:only-of-type {\n",
       "        vertical-align: middle;\n",
       "    }\n",
       "\n",
       "    .dataframe tbody tr th {\n",
       "        vertical-align: top;\n",
       "    }\n",
       "\n",
       "    .dataframe thead th {\n",
       "        text-align: right;\n",
       "    }\n",
       "</style>\n",
       "<table border=\"1\" class=\"dataframe\">\n",
       "  <thead>\n",
       "    <tr style=\"text-align: right;\">\n",
       "      <th></th>\n",
       "      <th>ID</th>\n",
       "      <th>Gene</th>\n",
       "      <th>Variation</th>\n",
       "      <th>Class</th>\n",
       "      <th>TEXT</th>\n",
       "      <th>tfidf_0</th>\n",
       "      <th>tfidf_1</th>\n",
       "      <th>tfidf_2</th>\n",
       "      <th>tfidf_3</th>\n",
       "      <th>tfidf_4</th>\n",
       "      <th>...</th>\n",
       "      <th>tfidf_990</th>\n",
       "      <th>tfidf_991</th>\n",
       "      <th>tfidf_992</th>\n",
       "      <th>tfidf_993</th>\n",
       "      <th>tfidf_994</th>\n",
       "      <th>tfidf_995</th>\n",
       "      <th>tfidf_996</th>\n",
       "      <th>tfidf_997</th>\n",
       "      <th>tfidf_998</th>\n",
       "      <th>tfidf_999</th>\n",
       "    </tr>\n",
       "  </thead>\n",
       "  <tbody>\n",
       "    <tr>\n",
       "      <th>0</th>\n",
       "      <td>0</td>\n",
       "      <td>FAM58A</td>\n",
       "      <td>Truncating_Mutations</td>\n",
       "      <td>1</td>\n",
       "      <td>cyclin dependent kinases cdks regulate variety...</td>\n",
       "      <td>0.075418</td>\n",
       "      <td>0.339501</td>\n",
       "      <td>-0.445951</td>\n",
       "      <td>-0.093308</td>\n",
       "      <td>-0.399880</td>\n",
       "      <td>...</td>\n",
       "      <td>0.022684</td>\n",
       "      <td>-0.003189</td>\n",
       "      <td>-0.004960</td>\n",
       "      <td>0.015199</td>\n",
       "      <td>0.002778</td>\n",
       "      <td>-0.026710</td>\n",
       "      <td>0.009887</td>\n",
       "      <td>-0.021130</td>\n",
       "      <td>0.011547</td>\n",
       "      <td>0.009880</td>\n",
       "    </tr>\n",
       "    <tr>\n",
       "      <th>1</th>\n",
       "      <td>1</td>\n",
       "      <td>CBL</td>\n",
       "      <td>W802*</td>\n",
       "      <td>2</td>\n",
       "      <td>abstract background non small cell lung cancer...</td>\n",
       "      <td>0.056765</td>\n",
       "      <td>0.310050</td>\n",
       "      <td>-0.446154</td>\n",
       "      <td>-0.125913</td>\n",
       "      <td>-0.346026</td>\n",
       "      <td>...</td>\n",
       "      <td>0.013063</td>\n",
       "      <td>-0.021587</td>\n",
       "      <td>-0.033221</td>\n",
       "      <td>-0.011368</td>\n",
       "      <td>-0.000452</td>\n",
       "      <td>-0.003446</td>\n",
       "      <td>0.004383</td>\n",
       "      <td>0.011537</td>\n",
       "      <td>-0.004643</td>\n",
       "      <td>0.007947</td>\n",
       "    </tr>\n",
       "    <tr>\n",
       "      <th>2</th>\n",
       "      <td>2</td>\n",
       "      <td>CBL</td>\n",
       "      <td>Q249E</td>\n",
       "      <td>2</td>\n",
       "      <td>abstract background non small cell lung cancer...</td>\n",
       "      <td>0.056765</td>\n",
       "      <td>0.310050</td>\n",
       "      <td>-0.446154</td>\n",
       "      <td>-0.125913</td>\n",
       "      <td>-0.346026</td>\n",
       "      <td>...</td>\n",
       "      <td>0.013063</td>\n",
       "      <td>-0.021587</td>\n",
       "      <td>-0.033221</td>\n",
       "      <td>-0.011368</td>\n",
       "      <td>-0.000452</td>\n",
       "      <td>-0.003446</td>\n",
       "      <td>0.004383</td>\n",
       "      <td>0.011537</td>\n",
       "      <td>-0.004643</td>\n",
       "      <td>0.007947</td>\n",
       "    </tr>\n",
       "    <tr>\n",
       "      <th>3</th>\n",
       "      <td>3</td>\n",
       "      <td>CBL</td>\n",
       "      <td>N454D</td>\n",
       "      <td>3</td>\n",
       "      <td>recent evidence demonstrated acquired uniparen...</td>\n",
       "      <td>0.056787</td>\n",
       "      <td>0.261238</td>\n",
       "      <td>-0.371091</td>\n",
       "      <td>-0.078937</td>\n",
       "      <td>-0.308460</td>\n",
       "      <td>...</td>\n",
       "      <td>-0.000033</td>\n",
       "      <td>-0.004271</td>\n",
       "      <td>-0.004883</td>\n",
       "      <td>-0.021915</td>\n",
       "      <td>0.002449</td>\n",
       "      <td>-0.008118</td>\n",
       "      <td>0.007434</td>\n",
       "      <td>-0.004506</td>\n",
       "      <td>-0.004086</td>\n",
       "      <td>0.003750</td>\n",
       "    </tr>\n",
       "    <tr>\n",
       "      <th>4</th>\n",
       "      <td>4</td>\n",
       "      <td>CBL</td>\n",
       "      <td>L399V</td>\n",
       "      <td>4</td>\n",
       "      <td>oncogenic mutations monomeric casitas b lineag...</td>\n",
       "      <td>0.090825</td>\n",
       "      <td>0.249616</td>\n",
       "      <td>-0.343288</td>\n",
       "      <td>-0.074384</td>\n",
       "      <td>-0.292224</td>\n",
       "      <td>...</td>\n",
       "      <td>-0.001192</td>\n",
       "      <td>0.002521</td>\n",
       "      <td>0.002351</td>\n",
       "      <td>0.001573</td>\n",
       "      <td>-0.002074</td>\n",
       "      <td>0.001158</td>\n",
       "      <td>-0.003148</td>\n",
       "      <td>-0.000294</td>\n",
       "      <td>0.001912</td>\n",
       "      <td>-0.005109</td>\n",
       "    </tr>\n",
       "  </tbody>\n",
       "</table>\n",
       "<p>5 rows × 1005 columns</p>\n",
       "</div>"
      ],
      "text/plain": [
       "   ID    Gene             Variation  Class  \\\n",
       "0   0  FAM58A  Truncating_Mutations      1   \n",
       "1   1     CBL                 W802*      2   \n",
       "2   2     CBL                 Q249E      2   \n",
       "3   3     CBL                 N454D      3   \n",
       "4   4     CBL                 L399V      4   \n",
       "\n",
       "                                                TEXT   tfidf_0   tfidf_1  \\\n",
       "0  cyclin dependent kinases cdks regulate variety...  0.075418  0.339501   \n",
       "1  abstract background non small cell lung cancer...  0.056765  0.310050   \n",
       "2  abstract background non small cell lung cancer...  0.056765  0.310050   \n",
       "3  recent evidence demonstrated acquired uniparen...  0.056787  0.261238   \n",
       "4  oncogenic mutations monomeric casitas b lineag...  0.090825  0.249616   \n",
       "\n",
       "    tfidf_2   tfidf_3   tfidf_4    ...      tfidf_990  tfidf_991  tfidf_992  \\\n",
       "0 -0.445951 -0.093308 -0.399880    ...       0.022684  -0.003189  -0.004960   \n",
       "1 -0.446154 -0.125913 -0.346026    ...       0.013063  -0.021587  -0.033221   \n",
       "2 -0.446154 -0.125913 -0.346026    ...       0.013063  -0.021587  -0.033221   \n",
       "3 -0.371091 -0.078937 -0.308460    ...      -0.000033  -0.004271  -0.004883   \n",
       "4 -0.343288 -0.074384 -0.292224    ...      -0.001192   0.002521   0.002351   \n",
       "\n",
       "   tfidf_993  tfidf_994  tfidf_995  tfidf_996  tfidf_997  tfidf_998  tfidf_999  \n",
       "0   0.015199   0.002778  -0.026710   0.009887  -0.021130   0.011547   0.009880  \n",
       "1  -0.011368  -0.000452  -0.003446   0.004383   0.011537  -0.004643   0.007947  \n",
       "2  -0.011368  -0.000452  -0.003446   0.004383   0.011537  -0.004643   0.007947  \n",
       "3  -0.021915   0.002449  -0.008118   0.007434  -0.004506  -0.004086   0.003750  \n",
       "4   0.001573  -0.002074   0.001158  -0.003148  -0.000294   0.001912  -0.005109  \n",
       "\n",
       "[5 rows x 1005 columns]"
      ]
     },
     "execution_count": 30,
     "metadata": {},
     "output_type": "execute_result"
    }
   ],
   "source": [
    "result.head()"
   ]
  },
  {
   "cell_type": "markdown",
   "metadata": {},
   "source": [
    "### Bow text feature + svd "
   ]
  },
  {
   "cell_type": "code",
   "execution_count": 31,
   "metadata": {},
   "outputs": [
    {
     "data": {
      "text/plain": [
       "CountVectorizer(analyzer='word', binary=False, decode_error='strict',\n",
       "        dtype=<class 'numpy.int64'>, encoding='utf-8', input='content',\n",
       "        lowercase=True, max_df=1.0, max_features=None, min_df=5,\n",
       "        ngram_range=(1, 1), preprocessor=None, stop_words=None,\n",
       "        strip_accents=None, token_pattern='(?u)\\\\b\\\\w\\\\w+\\\\b',\n",
       "        tokenizer=None, vocabulary=None)"
      ]
     },
     "execution_count": 31,
     "metadata": {},
     "output_type": "execute_result"
    }
   ],
   "source": [
    "vectorizer = CountVectorizer(ngram_range=(1,1), min_df=5)\n",
    "vectorizer.fit(result['TEXT'].values.astype('U'))"
   ]
  },
  {
   "cell_type": "code",
   "execution_count": 32,
   "metadata": {},
   "outputs": [],
   "source": [
    "train_text_feature_bow = vectorizer.transform(result['TEXT'].values.astype('U'))"
   ]
  },
  {
   "cell_type": "code",
   "execution_count": 33,
   "metadata": {
    "scrolled": true
   },
   "outputs": [
    {
     "data": {
      "text/plain": [
       "(3321, 48695)"
      ]
     },
     "execution_count": 33,
     "metadata": {},
     "output_type": "execute_result"
    }
   ],
   "source": [
    "train_text_feature_bow.shape"
   ]
  },
  {
   "cell_type": "code",
   "execution_count": 34,
   "metadata": {},
   "outputs": [],
   "source": [
    "svd = TruncatedSVD(n_components = 1000)\n",
    "train_text_feature_bow_svd = svd.fit_transform(train_text_feature_bow)"
   ]
  },
  {
   "cell_type": "code",
   "execution_count": 35,
   "metadata": {},
   "outputs": [
    {
     "data": {
      "text/html": [
       "<div>\n",
       "<style scoped>\n",
       "    .dataframe tbody tr th:only-of-type {\n",
       "        vertical-align: middle;\n",
       "    }\n",
       "\n",
       "    .dataframe tbody tr th {\n",
       "        vertical-align: top;\n",
       "    }\n",
       "\n",
       "    .dataframe thead th {\n",
       "        text-align: right;\n",
       "    }\n",
       "</style>\n",
       "<table border=\"1\" class=\"dataframe\">\n",
       "  <thead>\n",
       "    <tr style=\"text-align: right;\">\n",
       "      <th></th>\n",
       "      <th>bow_0</th>\n",
       "      <th>bow_1</th>\n",
       "      <th>bow_2</th>\n",
       "      <th>bow_3</th>\n",
       "      <th>bow_4</th>\n",
       "      <th>bow_5</th>\n",
       "      <th>bow_6</th>\n",
       "      <th>bow_7</th>\n",
       "      <th>bow_8</th>\n",
       "      <th>bow_9</th>\n",
       "      <th>...</th>\n",
       "      <th>bow_990</th>\n",
       "      <th>bow_991</th>\n",
       "      <th>bow_992</th>\n",
       "      <th>bow_993</th>\n",
       "      <th>bow_994</th>\n",
       "      <th>bow_995</th>\n",
       "      <th>bow_996</th>\n",
       "      <th>bow_997</th>\n",
       "      <th>bow_998</th>\n",
       "      <th>bow_999</th>\n",
       "    </tr>\n",
       "  </thead>\n",
       "  <tbody>\n",
       "    <tr>\n",
       "      <th>3316</th>\n",
       "      <td>214.525440</td>\n",
       "      <td>-23.683861</td>\n",
       "      <td>-8.397137</td>\n",
       "      <td>18.521397</td>\n",
       "      <td>23.770978</td>\n",
       "      <td>-34.197317</td>\n",
       "      <td>-51.111674</td>\n",
       "      <td>25.345508</td>\n",
       "      <td>0.946733</td>\n",
       "      <td>4.110419</td>\n",
       "      <td>...</td>\n",
       "      <td>0.201849</td>\n",
       "      <td>-0.028120</td>\n",
       "      <td>1.350580</td>\n",
       "      <td>-0.085893</td>\n",
       "      <td>-0.381516</td>\n",
       "      <td>-1.573412</td>\n",
       "      <td>0.237064</td>\n",
       "      <td>1.193382</td>\n",
       "      <td>0.220588</td>\n",
       "      <td>0.899606</td>\n",
       "    </tr>\n",
       "    <tr>\n",
       "      <th>3317</th>\n",
       "      <td>106.386987</td>\n",
       "      <td>-35.351904</td>\n",
       "      <td>-18.813808</td>\n",
       "      <td>8.030367</td>\n",
       "      <td>25.875510</td>\n",
       "      <td>-27.482300</td>\n",
       "      <td>-21.141927</td>\n",
       "      <td>38.921030</td>\n",
       "      <td>-5.079902</td>\n",
       "      <td>5.141057</td>\n",
       "      <td>...</td>\n",
       "      <td>-0.428536</td>\n",
       "      <td>0.781640</td>\n",
       "      <td>0.195815</td>\n",
       "      <td>0.111233</td>\n",
       "      <td>0.640686</td>\n",
       "      <td>1.180329</td>\n",
       "      <td>-0.678516</td>\n",
       "      <td>-1.220558</td>\n",
       "      <td>-0.352163</td>\n",
       "      <td>-0.694912</td>\n",
       "    </tr>\n",
       "    <tr>\n",
       "      <th>3318</th>\n",
       "      <td>79.248475</td>\n",
       "      <td>-4.256188</td>\n",
       "      <td>8.875103</td>\n",
       "      <td>-5.262127</td>\n",
       "      <td>16.000510</td>\n",
       "      <td>-24.463799</td>\n",
       "      <td>-9.378032</td>\n",
       "      <td>13.782062</td>\n",
       "      <td>9.231528</td>\n",
       "      <td>21.731698</td>\n",
       "      <td>...</td>\n",
       "      <td>-0.037928</td>\n",
       "      <td>-2.353798</td>\n",
       "      <td>-0.768447</td>\n",
       "      <td>-0.756822</td>\n",
       "      <td>1.171650</td>\n",
       "      <td>-1.432714</td>\n",
       "      <td>-1.430498</td>\n",
       "      <td>-1.047122</td>\n",
       "      <td>-0.118805</td>\n",
       "      <td>0.114285</td>\n",
       "    </tr>\n",
       "    <tr>\n",
       "      <th>3319</th>\n",
       "      <td>107.161766</td>\n",
       "      <td>-1.321002</td>\n",
       "      <td>4.022593</td>\n",
       "      <td>-0.851773</td>\n",
       "      <td>0.405407</td>\n",
       "      <td>-11.161202</td>\n",
       "      <td>13.366140</td>\n",
       "      <td>-53.254765</td>\n",
       "      <td>30.249083</td>\n",
       "      <td>-10.905202</td>\n",
       "      <td>...</td>\n",
       "      <td>0.456764</td>\n",
       "      <td>2.919646</td>\n",
       "      <td>1.926457</td>\n",
       "      <td>1.001365</td>\n",
       "      <td>-0.304427</td>\n",
       "      <td>3.648754</td>\n",
       "      <td>-3.189715</td>\n",
       "      <td>3.211479</td>\n",
       "      <td>-0.757178</td>\n",
       "      <td>-2.949845</td>\n",
       "    </tr>\n",
       "    <tr>\n",
       "      <th>3320</th>\n",
       "      <td>201.531534</td>\n",
       "      <td>-3.757868</td>\n",
       "      <td>21.113571</td>\n",
       "      <td>11.663852</td>\n",
       "      <td>-7.572721</td>\n",
       "      <td>-14.555446</td>\n",
       "      <td>-19.786270</td>\n",
       "      <td>-75.921481</td>\n",
       "      <td>31.630264</td>\n",
       "      <td>-8.772630</td>\n",
       "      <td>...</td>\n",
       "      <td>-0.580012</td>\n",
       "      <td>1.870032</td>\n",
       "      <td>-1.575482</td>\n",
       "      <td>0.174261</td>\n",
       "      <td>-0.693239</td>\n",
       "      <td>0.813511</td>\n",
       "      <td>-0.804910</td>\n",
       "      <td>0.579334</td>\n",
       "      <td>0.112317</td>\n",
       "      <td>-0.193474</td>\n",
       "    </tr>\n",
       "  </tbody>\n",
       "</table>\n",
       "<p>5 rows × 1000 columns</p>\n",
       "</div>"
      ],
      "text/plain": [
       "           bow_0      bow_1      bow_2      bow_3      bow_4      bow_5  \\\n",
       "3316  214.525440 -23.683861  -8.397137  18.521397  23.770978 -34.197317   \n",
       "3317  106.386987 -35.351904 -18.813808   8.030367  25.875510 -27.482300   \n",
       "3318   79.248475  -4.256188   8.875103  -5.262127  16.000510 -24.463799   \n",
       "3319  107.161766  -1.321002   4.022593  -0.851773   0.405407 -11.161202   \n",
       "3320  201.531534  -3.757868  21.113571  11.663852  -7.572721 -14.555446   \n",
       "\n",
       "          bow_6      bow_7      bow_8      bow_9    ...      bow_990  \\\n",
       "3316 -51.111674  25.345508   0.946733   4.110419    ...     0.201849   \n",
       "3317 -21.141927  38.921030  -5.079902   5.141057    ...    -0.428536   \n",
       "3318  -9.378032  13.782062   9.231528  21.731698    ...    -0.037928   \n",
       "3319  13.366140 -53.254765  30.249083 -10.905202    ...     0.456764   \n",
       "3320 -19.786270 -75.921481  31.630264  -8.772630    ...    -0.580012   \n",
       "\n",
       "       bow_991   bow_992   bow_993   bow_994   bow_995   bow_996   bow_997  \\\n",
       "3316 -0.028120  1.350580 -0.085893 -0.381516 -1.573412  0.237064  1.193382   \n",
       "3317  0.781640  0.195815  0.111233  0.640686  1.180329 -0.678516 -1.220558   \n",
       "3318 -2.353798 -0.768447 -0.756822  1.171650 -1.432714 -1.430498 -1.047122   \n",
       "3319  2.919646  1.926457  1.001365 -0.304427  3.648754 -3.189715  3.211479   \n",
       "3320  1.870032 -1.575482  0.174261 -0.693239  0.813511 -0.804910  0.579334   \n",
       "\n",
       "       bow_998   bow_999  \n",
       "3316  0.220588  0.899606  \n",
       "3317 -0.352163 -0.694912  \n",
       "3318 -0.118805  0.114285  \n",
       "3319 -0.757178 -2.949845  \n",
       "3320  0.112317 -0.193474  \n",
       "\n",
       "[5 rows x 1000 columns]"
      ]
     },
     "execution_count": 35,
     "metadata": {},
     "output_type": "execute_result"
    }
   ],
   "source": [
    "df_bow_col_name = [\"bow_\"+str(i) for i in range(1000)]\n",
    "df_bow = pd.DataFrame(train_text_feature_bow_svd)\n",
    "df_bow.columns = df_bow_col_name\n",
    "df_bow.tail()"
   ]
  },
  {
   "cell_type": "code",
   "execution_count": 36,
   "metadata": {},
   "outputs": [],
   "source": [
    "result = result.join(df_bow)"
   ]
  },
  {
   "cell_type": "code",
   "execution_count": 37,
   "metadata": {},
   "outputs": [
    {
     "data": {
      "text/html": [
       "<div>\n",
       "<style scoped>\n",
       "    .dataframe tbody tr th:only-of-type {\n",
       "        vertical-align: middle;\n",
       "    }\n",
       "\n",
       "    .dataframe tbody tr th {\n",
       "        vertical-align: top;\n",
       "    }\n",
       "\n",
       "    .dataframe thead th {\n",
       "        text-align: right;\n",
       "    }\n",
       "</style>\n",
       "<table border=\"1\" class=\"dataframe\">\n",
       "  <thead>\n",
       "    <tr style=\"text-align: right;\">\n",
       "      <th></th>\n",
       "      <th>ID</th>\n",
       "      <th>Gene</th>\n",
       "      <th>Variation</th>\n",
       "      <th>Class</th>\n",
       "      <th>TEXT</th>\n",
       "      <th>tfidf_0</th>\n",
       "      <th>tfidf_1</th>\n",
       "      <th>tfidf_2</th>\n",
       "      <th>tfidf_3</th>\n",
       "      <th>tfidf_4</th>\n",
       "      <th>...</th>\n",
       "      <th>bow_990</th>\n",
       "      <th>bow_991</th>\n",
       "      <th>bow_992</th>\n",
       "      <th>bow_993</th>\n",
       "      <th>bow_994</th>\n",
       "      <th>bow_995</th>\n",
       "      <th>bow_996</th>\n",
       "      <th>bow_997</th>\n",
       "      <th>bow_998</th>\n",
       "      <th>bow_999</th>\n",
       "    </tr>\n",
       "  </thead>\n",
       "  <tbody>\n",
       "    <tr>\n",
       "      <th>0</th>\n",
       "      <td>0</td>\n",
       "      <td>FAM58A</td>\n",
       "      <td>Truncating_Mutations</td>\n",
       "      <td>1</td>\n",
       "      <td>cyclin dependent kinases cdks regulate variety...</td>\n",
       "      <td>0.075418</td>\n",
       "      <td>0.339501</td>\n",
       "      <td>-0.445951</td>\n",
       "      <td>-0.093308</td>\n",
       "      <td>-0.399880</td>\n",
       "      <td>...</td>\n",
       "      <td>1.121746</td>\n",
       "      <td>-1.778654</td>\n",
       "      <td>4.392124</td>\n",
       "      <td>-2.993762</td>\n",
       "      <td>4.489056</td>\n",
       "      <td>-4.605156</td>\n",
       "      <td>-2.387844</td>\n",
       "      <td>-3.051298</td>\n",
       "      <td>5.445042</td>\n",
       "      <td>0.599752</td>\n",
       "    </tr>\n",
       "    <tr>\n",
       "      <th>1</th>\n",
       "      <td>1</td>\n",
       "      <td>CBL</td>\n",
       "      <td>W802*</td>\n",
       "      <td>2</td>\n",
       "      <td>abstract background non small cell lung cancer...</td>\n",
       "      <td>0.056765</td>\n",
       "      <td>0.310050</td>\n",
       "      <td>-0.446154</td>\n",
       "      <td>-0.125913</td>\n",
       "      <td>-0.346026</td>\n",
       "      <td>...</td>\n",
       "      <td>1.777756</td>\n",
       "      <td>-1.205176</td>\n",
       "      <td>-1.883669</td>\n",
       "      <td>-0.641438</td>\n",
       "      <td>2.608033</td>\n",
       "      <td>1.119233</td>\n",
       "      <td>-2.628410</td>\n",
       "      <td>1.702041</td>\n",
       "      <td>-1.789849</td>\n",
       "      <td>-0.858544</td>\n",
       "    </tr>\n",
       "    <tr>\n",
       "      <th>2</th>\n",
       "      <td>2</td>\n",
       "      <td>CBL</td>\n",
       "      <td>Q249E</td>\n",
       "      <td>2</td>\n",
       "      <td>abstract background non small cell lung cancer...</td>\n",
       "      <td>0.056765</td>\n",
       "      <td>0.310050</td>\n",
       "      <td>-0.446154</td>\n",
       "      <td>-0.125913</td>\n",
       "      <td>-0.346026</td>\n",
       "      <td>...</td>\n",
       "      <td>1.777756</td>\n",
       "      <td>-1.205176</td>\n",
       "      <td>-1.883669</td>\n",
       "      <td>-0.641438</td>\n",
       "      <td>2.608033</td>\n",
       "      <td>1.119233</td>\n",
       "      <td>-2.628410</td>\n",
       "      <td>1.702041</td>\n",
       "      <td>-1.789849</td>\n",
       "      <td>-0.858544</td>\n",
       "    </tr>\n",
       "    <tr>\n",
       "      <th>3</th>\n",
       "      <td>3</td>\n",
       "      <td>CBL</td>\n",
       "      <td>N454D</td>\n",
       "      <td>3</td>\n",
       "      <td>recent evidence demonstrated acquired uniparen...</td>\n",
       "      <td>0.056787</td>\n",
       "      <td>0.261238</td>\n",
       "      <td>-0.371091</td>\n",
       "      <td>-0.078937</td>\n",
       "      <td>-0.308460</td>\n",
       "      <td>...</td>\n",
       "      <td>1.018947</td>\n",
       "      <td>-1.209469</td>\n",
       "      <td>-0.012252</td>\n",
       "      <td>0.664811</td>\n",
       "      <td>-1.012342</td>\n",
       "      <td>0.005678</td>\n",
       "      <td>-1.193964</td>\n",
       "      <td>0.972015</td>\n",
       "      <td>-0.117319</td>\n",
       "      <td>1.295900</td>\n",
       "    </tr>\n",
       "    <tr>\n",
       "      <th>4</th>\n",
       "      <td>4</td>\n",
       "      <td>CBL</td>\n",
       "      <td>L399V</td>\n",
       "      <td>4</td>\n",
       "      <td>oncogenic mutations monomeric casitas b lineag...</td>\n",
       "      <td>0.090825</td>\n",
       "      <td>0.249616</td>\n",
       "      <td>-0.343288</td>\n",
       "      <td>-0.074384</td>\n",
       "      <td>-0.292224</td>\n",
       "      <td>...</td>\n",
       "      <td>-0.241663</td>\n",
       "      <td>-0.172773</td>\n",
       "      <td>0.473699</td>\n",
       "      <td>0.184001</td>\n",
       "      <td>-0.845177</td>\n",
       "      <td>-0.270984</td>\n",
       "      <td>0.828808</td>\n",
       "      <td>0.031000</td>\n",
       "      <td>0.183417</td>\n",
       "      <td>-0.887934</td>\n",
       "    </tr>\n",
       "  </tbody>\n",
       "</table>\n",
       "<p>5 rows × 2005 columns</p>\n",
       "</div>"
      ],
      "text/plain": [
       "   ID    Gene             Variation  Class  \\\n",
       "0   0  FAM58A  Truncating_Mutations      1   \n",
       "1   1     CBL                 W802*      2   \n",
       "2   2     CBL                 Q249E      2   \n",
       "3   3     CBL                 N454D      3   \n",
       "4   4     CBL                 L399V      4   \n",
       "\n",
       "                                                TEXT   tfidf_0   tfidf_1  \\\n",
       "0  cyclin dependent kinases cdks regulate variety...  0.075418  0.339501   \n",
       "1  abstract background non small cell lung cancer...  0.056765  0.310050   \n",
       "2  abstract background non small cell lung cancer...  0.056765  0.310050   \n",
       "3  recent evidence demonstrated acquired uniparen...  0.056787  0.261238   \n",
       "4  oncogenic mutations monomeric casitas b lineag...  0.090825  0.249616   \n",
       "\n",
       "    tfidf_2   tfidf_3   tfidf_4    ...      bow_990   bow_991   bow_992  \\\n",
       "0 -0.445951 -0.093308 -0.399880    ...     1.121746 -1.778654  4.392124   \n",
       "1 -0.446154 -0.125913 -0.346026    ...     1.777756 -1.205176 -1.883669   \n",
       "2 -0.446154 -0.125913 -0.346026    ...     1.777756 -1.205176 -1.883669   \n",
       "3 -0.371091 -0.078937 -0.308460    ...     1.018947 -1.209469 -0.012252   \n",
       "4 -0.343288 -0.074384 -0.292224    ...    -0.241663 -0.172773  0.473699   \n",
       "\n",
       "    bow_993   bow_994   bow_995   bow_996   bow_997   bow_998   bow_999  \n",
       "0 -2.993762  4.489056 -4.605156 -2.387844 -3.051298  5.445042  0.599752  \n",
       "1 -0.641438  2.608033  1.119233 -2.628410  1.702041 -1.789849 -0.858544  \n",
       "2 -0.641438  2.608033  1.119233 -2.628410  1.702041 -1.789849 -0.858544  \n",
       "3  0.664811 -1.012342  0.005678 -1.193964  0.972015 -0.117319  1.295900  \n",
       "4  0.184001 -0.845177 -0.270984  0.828808  0.031000  0.183417 -0.887934  \n",
       "\n",
       "[5 rows x 2005 columns]"
      ]
     },
     "execution_count": 37,
     "metadata": {},
     "output_type": "execute_result"
    }
   ],
   "source": [
    "result.head()"
   ]
  },
  {
   "cell_type": "markdown",
   "metadata": {},
   "source": [
    "### Word density feature"
   ]
  },
  {
   "cell_type": "code",
   "execution_count": 38,
   "metadata": {
    "ExecuteTime": {
     "end_time": "2019-03-06T06:31:48.559284Z",
     "start_time": "2019-03-06T06:31:47.116696Z"
    }
   },
   "outputs": [],
   "source": [
    "train_word_length=[]\n",
    "for i in result['TEXT']:\n",
    "    size = str(i).split()\n",
    "    train_word_length.append(len(size))"
   ]
  },
  {
   "cell_type": "code",
   "execution_count": 39,
   "metadata": {
    "ExecuteTime": {
     "end_time": "2019-03-06T06:32:42.531071Z",
     "start_time": "2019-03-06T06:32:42.524239Z"
    }
   },
   "outputs": [],
   "source": [
    "train_letter_length = []\n",
    "for i in result['TEXT']:\n",
    "    train_letter_length.append(len(str(i)))"
   ]
  },
  {
   "cell_type": "code",
   "execution_count": 40,
   "metadata": {
    "ExecuteTime": {
     "end_time": "2019-03-06T06:32:54.296038Z",
     "start_time": "2019-03-06T06:32:53.821704Z"
    }
   },
   "outputs": [],
   "source": [
    "train_new_feature = []\n",
    "for (x,y) in zip_longest(train_word_length, train_letter_length):\n",
    "    train_new_feature.append(y/x)"
   ]
  },
  {
   "cell_type": "code",
   "execution_count": 41,
   "metadata": {},
   "outputs": [],
   "source": [
    "result['word_density'] = train_new_feature"
   ]
  },
  {
   "cell_type": "code",
   "execution_count": 42,
   "metadata": {},
   "outputs": [
    {
     "data": {
      "text/html": [
       "<div>\n",
       "<style scoped>\n",
       "    .dataframe tbody tr th:only-of-type {\n",
       "        vertical-align: middle;\n",
       "    }\n",
       "\n",
       "    .dataframe tbody tr th {\n",
       "        vertical-align: top;\n",
       "    }\n",
       "\n",
       "    .dataframe thead th {\n",
       "        text-align: right;\n",
       "    }\n",
       "</style>\n",
       "<table border=\"1\" class=\"dataframe\">\n",
       "  <thead>\n",
       "    <tr style=\"text-align: right;\">\n",
       "      <th></th>\n",
       "      <th>ID</th>\n",
       "      <th>Gene</th>\n",
       "      <th>Variation</th>\n",
       "      <th>Class</th>\n",
       "      <th>TEXT</th>\n",
       "      <th>tfidf_0</th>\n",
       "      <th>tfidf_1</th>\n",
       "      <th>tfidf_2</th>\n",
       "      <th>tfidf_3</th>\n",
       "      <th>tfidf_4</th>\n",
       "      <th>...</th>\n",
       "      <th>bow_991</th>\n",
       "      <th>bow_992</th>\n",
       "      <th>bow_993</th>\n",
       "      <th>bow_994</th>\n",
       "      <th>bow_995</th>\n",
       "      <th>bow_996</th>\n",
       "      <th>bow_997</th>\n",
       "      <th>bow_998</th>\n",
       "      <th>bow_999</th>\n",
       "      <th>word_density</th>\n",
       "    </tr>\n",
       "  </thead>\n",
       "  <tbody>\n",
       "    <tr>\n",
       "      <th>0</th>\n",
       "      <td>0</td>\n",
       "      <td>FAM58A</td>\n",
       "      <td>Truncating_Mutations</td>\n",
       "      <td>1</td>\n",
       "      <td>cyclin dependent kinases cdks regulate variety...</td>\n",
       "      <td>0.075418</td>\n",
       "      <td>0.339501</td>\n",
       "      <td>-0.445951</td>\n",
       "      <td>-0.093308</td>\n",
       "      <td>-0.399880</td>\n",
       "      <td>...</td>\n",
       "      <td>-1.778654</td>\n",
       "      <td>4.392124</td>\n",
       "      <td>-2.993762</td>\n",
       "      <td>4.489056</td>\n",
       "      <td>-4.605156</td>\n",
       "      <td>-2.387844</td>\n",
       "      <td>-3.051298</td>\n",
       "      <td>5.445042</td>\n",
       "      <td>0.599752</td>\n",
       "      <td>7.056293</td>\n",
       "    </tr>\n",
       "    <tr>\n",
       "      <th>1</th>\n",
       "      <td>1</td>\n",
       "      <td>CBL</td>\n",
       "      <td>W802*</td>\n",
       "      <td>2</td>\n",
       "      <td>abstract background non small cell lung cancer...</td>\n",
       "      <td>0.056765</td>\n",
       "      <td>0.310050</td>\n",
       "      <td>-0.446154</td>\n",
       "      <td>-0.125913</td>\n",
       "      <td>-0.346026</td>\n",
       "      <td>...</td>\n",
       "      <td>-1.205176</td>\n",
       "      <td>-1.883669</td>\n",
       "      <td>-0.641438</td>\n",
       "      <td>2.608033</td>\n",
       "      <td>1.119233</td>\n",
       "      <td>-2.628410</td>\n",
       "      <td>1.702041</td>\n",
       "      <td>-1.789849</td>\n",
       "      <td>-0.858544</td>\n",
       "      <td>6.727229</td>\n",
       "    </tr>\n",
       "    <tr>\n",
       "      <th>2</th>\n",
       "      <td>2</td>\n",
       "      <td>CBL</td>\n",
       "      <td>Q249E</td>\n",
       "      <td>2</td>\n",
       "      <td>abstract background non small cell lung cancer...</td>\n",
       "      <td>0.056765</td>\n",
       "      <td>0.310050</td>\n",
       "      <td>-0.446154</td>\n",
       "      <td>-0.125913</td>\n",
       "      <td>-0.346026</td>\n",
       "      <td>...</td>\n",
       "      <td>-1.205176</td>\n",
       "      <td>-1.883669</td>\n",
       "      <td>-0.641438</td>\n",
       "      <td>2.608033</td>\n",
       "      <td>1.119233</td>\n",
       "      <td>-2.628410</td>\n",
       "      <td>1.702041</td>\n",
       "      <td>-1.789849</td>\n",
       "      <td>-0.858544</td>\n",
       "      <td>6.727229</td>\n",
       "    </tr>\n",
       "    <tr>\n",
       "      <th>3</th>\n",
       "      <td>3</td>\n",
       "      <td>CBL</td>\n",
       "      <td>N454D</td>\n",
       "      <td>3</td>\n",
       "      <td>recent evidence demonstrated acquired uniparen...</td>\n",
       "      <td>0.056787</td>\n",
       "      <td>0.261238</td>\n",
       "      <td>-0.371091</td>\n",
       "      <td>-0.078937</td>\n",
       "      <td>-0.308460</td>\n",
       "      <td>...</td>\n",
       "      <td>-1.209469</td>\n",
       "      <td>-0.012252</td>\n",
       "      <td>0.664811</td>\n",
       "      <td>-1.012342</td>\n",
       "      <td>0.005678</td>\n",
       "      <td>-1.193964</td>\n",
       "      <td>0.972015</td>\n",
       "      <td>-0.117319</td>\n",
       "      <td>1.295900</td>\n",
       "      <td>7.313981</td>\n",
       "    </tr>\n",
       "    <tr>\n",
       "      <th>4</th>\n",
       "      <td>4</td>\n",
       "      <td>CBL</td>\n",
       "      <td>L399V</td>\n",
       "      <td>4</td>\n",
       "      <td>oncogenic mutations monomeric casitas b lineag...</td>\n",
       "      <td>0.090825</td>\n",
       "      <td>0.249616</td>\n",
       "      <td>-0.343288</td>\n",
       "      <td>-0.074384</td>\n",
       "      <td>-0.292224</td>\n",
       "      <td>...</td>\n",
       "      <td>-0.172773</td>\n",
       "      <td>0.473699</td>\n",
       "      <td>0.184001</td>\n",
       "      <td>-0.845177</td>\n",
       "      <td>-0.270984</td>\n",
       "      <td>0.828808</td>\n",
       "      <td>0.031000</td>\n",
       "      <td>0.183417</td>\n",
       "      <td>-0.887934</td>\n",
       "      <td>7.439821</td>\n",
       "    </tr>\n",
       "  </tbody>\n",
       "</table>\n",
       "<p>5 rows × 2006 columns</p>\n",
       "</div>"
      ],
      "text/plain": [
       "   ID    Gene             Variation  Class  \\\n",
       "0   0  FAM58A  Truncating_Mutations      1   \n",
       "1   1     CBL                 W802*      2   \n",
       "2   2     CBL                 Q249E      2   \n",
       "3   3     CBL                 N454D      3   \n",
       "4   4     CBL                 L399V      4   \n",
       "\n",
       "                                                TEXT   tfidf_0   tfidf_1  \\\n",
       "0  cyclin dependent kinases cdks regulate variety...  0.075418  0.339501   \n",
       "1  abstract background non small cell lung cancer...  0.056765  0.310050   \n",
       "2  abstract background non small cell lung cancer...  0.056765  0.310050   \n",
       "3  recent evidence demonstrated acquired uniparen...  0.056787  0.261238   \n",
       "4  oncogenic mutations monomeric casitas b lineag...  0.090825  0.249616   \n",
       "\n",
       "    tfidf_2   tfidf_3   tfidf_4      ...        bow_991   bow_992   bow_993  \\\n",
       "0 -0.445951 -0.093308 -0.399880      ...      -1.778654  4.392124 -2.993762   \n",
       "1 -0.446154 -0.125913 -0.346026      ...      -1.205176 -1.883669 -0.641438   \n",
       "2 -0.446154 -0.125913 -0.346026      ...      -1.205176 -1.883669 -0.641438   \n",
       "3 -0.371091 -0.078937 -0.308460      ...      -1.209469 -0.012252  0.664811   \n",
       "4 -0.343288 -0.074384 -0.292224      ...      -0.172773  0.473699  0.184001   \n",
       "\n",
       "    bow_994   bow_995   bow_996   bow_997   bow_998   bow_999  word_density  \n",
       "0  4.489056 -4.605156 -2.387844 -3.051298  5.445042  0.599752      7.056293  \n",
       "1  2.608033  1.119233 -2.628410  1.702041 -1.789849 -0.858544      6.727229  \n",
       "2  2.608033  1.119233 -2.628410  1.702041 -1.789849 -0.858544      6.727229  \n",
       "3 -1.012342  0.005678 -1.193964  0.972015 -0.117319  1.295900      7.313981  \n",
       "4 -0.845177 -0.270984  0.828808  0.031000  0.183417 -0.887934      7.439821  \n",
       "\n",
       "[5 rows x 2006 columns]"
      ]
     },
     "execution_count": 42,
     "metadata": {},
     "output_type": "execute_result"
    }
   ],
   "source": [
    "result.head()"
   ]
  },
  {
   "cell_type": "markdown",
   "metadata": {},
   "source": [
    "### word count feature"
   ]
  },
  {
   "cell_type": "code",
   "execution_count": 43,
   "metadata": {},
   "outputs": [],
   "source": [
    "totallist = []\n",
    "for i in result['TEXT']:\n",
    "    words = str(i).split()\n",
    "    totallist.append(len(words))"
   ]
  },
  {
   "cell_type": "code",
   "execution_count": 44,
   "metadata": {},
   "outputs": [
    {
     "data": {
      "text/plain": [
       "3321"
      ]
     },
     "execution_count": 44,
     "metadata": {},
     "output_type": "execute_result"
    }
   ],
   "source": [
    "len(totallist)"
   ]
  },
  {
   "cell_type": "code",
   "execution_count": 45,
   "metadata": {},
   "outputs": [],
   "source": [
    "result['word_length'] = totallist"
   ]
  },
  {
   "cell_type": "code",
   "execution_count": 46,
   "metadata": {},
   "outputs": [
    {
     "data": {
      "text/html": [
       "<div>\n",
       "<style scoped>\n",
       "    .dataframe tbody tr th:only-of-type {\n",
       "        vertical-align: middle;\n",
       "    }\n",
       "\n",
       "    .dataframe tbody tr th {\n",
       "        vertical-align: top;\n",
       "    }\n",
       "\n",
       "    .dataframe thead th {\n",
       "        text-align: right;\n",
       "    }\n",
       "</style>\n",
       "<table border=\"1\" class=\"dataframe\">\n",
       "  <thead>\n",
       "    <tr style=\"text-align: right;\">\n",
       "      <th></th>\n",
       "      <th>ID</th>\n",
       "      <th>Gene</th>\n",
       "      <th>Variation</th>\n",
       "      <th>Class</th>\n",
       "      <th>TEXT</th>\n",
       "      <th>tfidf_0</th>\n",
       "      <th>tfidf_1</th>\n",
       "      <th>tfidf_2</th>\n",
       "      <th>tfidf_3</th>\n",
       "      <th>tfidf_4</th>\n",
       "      <th>...</th>\n",
       "      <th>bow_992</th>\n",
       "      <th>bow_993</th>\n",
       "      <th>bow_994</th>\n",
       "      <th>bow_995</th>\n",
       "      <th>bow_996</th>\n",
       "      <th>bow_997</th>\n",
       "      <th>bow_998</th>\n",
       "      <th>bow_999</th>\n",
       "      <th>word_density</th>\n",
       "      <th>word_length</th>\n",
       "    </tr>\n",
       "  </thead>\n",
       "  <tbody>\n",
       "    <tr>\n",
       "      <th>0</th>\n",
       "      <td>0</td>\n",
       "      <td>FAM58A</td>\n",
       "      <td>Truncating_Mutations</td>\n",
       "      <td>1</td>\n",
       "      <td>cyclin dependent kinases cdks regulate variety...</td>\n",
       "      <td>0.075418</td>\n",
       "      <td>0.339501</td>\n",
       "      <td>-0.445951</td>\n",
       "      <td>-0.093308</td>\n",
       "      <td>-0.399880</td>\n",
       "      <td>...</td>\n",
       "      <td>4.392124</td>\n",
       "      <td>-2.993762</td>\n",
       "      <td>4.489056</td>\n",
       "      <td>-4.605156</td>\n",
       "      <td>-2.387844</td>\n",
       "      <td>-3.051298</td>\n",
       "      <td>5.445042</td>\n",
       "      <td>0.599752</td>\n",
       "      <td>7.056293</td>\n",
       "      <td>4370</td>\n",
       "    </tr>\n",
       "    <tr>\n",
       "      <th>1</th>\n",
       "      <td>1</td>\n",
       "      <td>CBL</td>\n",
       "      <td>W802*</td>\n",
       "      <td>2</td>\n",
       "      <td>abstract background non small cell lung cancer...</td>\n",
       "      <td>0.056765</td>\n",
       "      <td>0.310050</td>\n",
       "      <td>-0.446154</td>\n",
       "      <td>-0.125913</td>\n",
       "      <td>-0.346026</td>\n",
       "      <td>...</td>\n",
       "      <td>-1.883669</td>\n",
       "      <td>-0.641438</td>\n",
       "      <td>2.608033</td>\n",
       "      <td>1.119233</td>\n",
       "      <td>-2.628410</td>\n",
       "      <td>1.702041</td>\n",
       "      <td>-1.789849</td>\n",
       "      <td>-0.858544</td>\n",
       "      <td>6.727229</td>\n",
       "      <td>4139</td>\n",
       "    </tr>\n",
       "    <tr>\n",
       "      <th>2</th>\n",
       "      <td>2</td>\n",
       "      <td>CBL</td>\n",
       "      <td>Q249E</td>\n",
       "      <td>2</td>\n",
       "      <td>abstract background non small cell lung cancer...</td>\n",
       "      <td>0.056765</td>\n",
       "      <td>0.310050</td>\n",
       "      <td>-0.446154</td>\n",
       "      <td>-0.125913</td>\n",
       "      <td>-0.346026</td>\n",
       "      <td>...</td>\n",
       "      <td>-1.883669</td>\n",
       "      <td>-0.641438</td>\n",
       "      <td>2.608033</td>\n",
       "      <td>1.119233</td>\n",
       "      <td>-2.628410</td>\n",
       "      <td>1.702041</td>\n",
       "      <td>-1.789849</td>\n",
       "      <td>-0.858544</td>\n",
       "      <td>6.727229</td>\n",
       "      <td>4139</td>\n",
       "    </tr>\n",
       "    <tr>\n",
       "      <th>3</th>\n",
       "      <td>3</td>\n",
       "      <td>CBL</td>\n",
       "      <td>N454D</td>\n",
       "      <td>3</td>\n",
       "      <td>recent evidence demonstrated acquired uniparen...</td>\n",
       "      <td>0.056787</td>\n",
       "      <td>0.261238</td>\n",
       "      <td>-0.371091</td>\n",
       "      <td>-0.078937</td>\n",
       "      <td>-0.308460</td>\n",
       "      <td>...</td>\n",
       "      <td>-0.012252</td>\n",
       "      <td>0.664811</td>\n",
       "      <td>-1.012342</td>\n",
       "      <td>0.005678</td>\n",
       "      <td>-1.193964</td>\n",
       "      <td>0.972015</td>\n",
       "      <td>-0.117319</td>\n",
       "      <td>1.295900</td>\n",
       "      <td>7.313981</td>\n",
       "      <td>3841</td>\n",
       "    </tr>\n",
       "    <tr>\n",
       "      <th>4</th>\n",
       "      <td>4</td>\n",
       "      <td>CBL</td>\n",
       "      <td>L399V</td>\n",
       "      <td>4</td>\n",
       "      <td>oncogenic mutations monomeric casitas b lineag...</td>\n",
       "      <td>0.090825</td>\n",
       "      <td>0.249616</td>\n",
       "      <td>-0.343288</td>\n",
       "      <td>-0.074384</td>\n",
       "      <td>-0.292224</td>\n",
       "      <td>...</td>\n",
       "      <td>0.473699</td>\n",
       "      <td>0.184001</td>\n",
       "      <td>-0.845177</td>\n",
       "      <td>-0.270984</td>\n",
       "      <td>0.828808</td>\n",
       "      <td>0.031000</td>\n",
       "      <td>0.183417</td>\n",
       "      <td>-0.887934</td>\n",
       "      <td>7.439821</td>\n",
       "      <td>4254</td>\n",
       "    </tr>\n",
       "  </tbody>\n",
       "</table>\n",
       "<p>5 rows × 2007 columns</p>\n",
       "</div>"
      ],
      "text/plain": [
       "   ID    Gene             Variation  Class  \\\n",
       "0   0  FAM58A  Truncating_Mutations      1   \n",
       "1   1     CBL                 W802*      2   \n",
       "2   2     CBL                 Q249E      2   \n",
       "3   3     CBL                 N454D      3   \n",
       "4   4     CBL                 L399V      4   \n",
       "\n",
       "                                                TEXT   tfidf_0   tfidf_1  \\\n",
       "0  cyclin dependent kinases cdks regulate variety...  0.075418  0.339501   \n",
       "1  abstract background non small cell lung cancer...  0.056765  0.310050   \n",
       "2  abstract background non small cell lung cancer...  0.056765  0.310050   \n",
       "3  recent evidence demonstrated acquired uniparen...  0.056787  0.261238   \n",
       "4  oncogenic mutations monomeric casitas b lineag...  0.090825  0.249616   \n",
       "\n",
       "    tfidf_2   tfidf_3   tfidf_4     ...        bow_992   bow_993   bow_994  \\\n",
       "0 -0.445951 -0.093308 -0.399880     ...       4.392124 -2.993762  4.489056   \n",
       "1 -0.446154 -0.125913 -0.346026     ...      -1.883669 -0.641438  2.608033   \n",
       "2 -0.446154 -0.125913 -0.346026     ...      -1.883669 -0.641438  2.608033   \n",
       "3 -0.371091 -0.078937 -0.308460     ...      -0.012252  0.664811 -1.012342   \n",
       "4 -0.343288 -0.074384 -0.292224     ...       0.473699  0.184001 -0.845177   \n",
       "\n",
       "    bow_995   bow_996   bow_997   bow_998   bow_999  word_density  word_length  \n",
       "0 -4.605156 -2.387844 -3.051298  5.445042  0.599752      7.056293         4370  \n",
       "1  1.119233 -2.628410  1.702041 -1.789849 -0.858544      6.727229         4139  \n",
       "2  1.119233 -2.628410  1.702041 -1.789849 -0.858544      6.727229         4139  \n",
       "3  0.005678 -1.193964  0.972015 -0.117319  1.295900      7.313981         3841  \n",
       "4 -0.270984  0.828808  0.031000  0.183417 -0.887934      7.439821         4254  \n",
       "\n",
       "[5 rows x 2007 columns]"
      ]
     },
     "execution_count": 46,
     "metadata": {},
     "output_type": "execute_result"
    }
   ],
   "source": [
    "result.head()"
   ]
  },
  {
   "cell_type": "markdown",
   "metadata": {},
   "source": [
    "### Indicator feature"
   ]
  },
  {
   "cell_type": "code",
   "execution_count": 47,
   "metadata": {},
   "outputs": [],
   "source": [
    "totallist = []\n",
    "for i in result['TEXT']:\n",
    "    words = str(i).split()\n",
    "    if len(words) < 2000:\n",
    "        totallist.append(1)\n",
    "    else:\n",
    "        totallist.append(0)"
   ]
  },
  {
   "cell_type": "code",
   "execution_count": 48,
   "metadata": {},
   "outputs": [
    {
     "data": {
      "text/plain": [
       "3321"
      ]
     },
     "execution_count": 48,
     "metadata": {},
     "output_type": "execute_result"
    }
   ],
   "source": [
    "len(totallist)"
   ]
  },
  {
   "cell_type": "code",
   "execution_count": 49,
   "metadata": {},
   "outputs": [],
   "source": [
    "result['indicator_feature'] = totallist"
   ]
  },
  {
   "cell_type": "code",
   "execution_count": 50,
   "metadata": {},
   "outputs": [
    {
     "data": {
      "text/plain": [
       "(3321, 2008)"
      ]
     },
     "execution_count": 50,
     "metadata": {},
     "output_type": "execute_result"
    }
   ],
   "source": [
    "result.shape"
   ]
  },
  {
   "cell_type": "code",
   "execution_count": 51,
   "metadata": {},
   "outputs": [
    {
     "data": {
      "text/plain": [
       "Index(['ID', 'Gene', 'Variation', 'Class', 'TEXT', 'tfidf_0', 'tfidf_1',\n",
       "       'tfidf_2', 'tfidf_3', 'tfidf_4',\n",
       "       ...\n",
       "       'bow_993', 'bow_994', 'bow_995', 'bow_996', 'bow_997', 'bow_998',\n",
       "       'bow_999', 'word_density', 'word_length', 'indicator_feature'],\n",
       "      dtype='object', length=2008)"
      ]
     },
     "execution_count": 51,
     "metadata": {},
     "output_type": "execute_result"
    }
   ],
   "source": [
    "result.columns"
   ]
  },
  {
   "cell_type": "markdown",
   "metadata": {},
   "source": [
    "## First feature engineering try"
   ]
  },
  {
   "cell_type": "code",
   "execution_count": 52,
   "metadata": {},
   "outputs": [],
   "source": [
    "result1 = result.drop(['Gene','Variation','TEXT'],axis=1)"
   ]
  },
  {
   "cell_type": "code",
   "execution_count": 53,
   "metadata": {},
   "outputs": [
    {
     "data": {
      "text/plain": [
       "(3321, 2005)"
      ]
     },
     "execution_count": 53,
     "metadata": {},
     "output_type": "execute_result"
    }
   ],
   "source": [
    "result1.shape"
   ]
  },
  {
   "cell_type": "code",
   "execution_count": 54,
   "metadata": {},
   "outputs": [],
   "source": [
    "y_true = result1['Class'].values\n",
    "# result.Gene      = result.Gene.str.replace('\\s+', '_')\n",
    "# result.Variation = result.Variation.str.replace('\\s+', '_')\n",
    "\n",
    "# split the data into test and train by maintaining same distribution of output varaible 'y_true' [stratify=y_true]\n",
    "X_train, test_df, y_train, y_test = train_test_split(result1, y_true, stratify=y_true, test_size=0.2)\n",
    "# split the train data into train and cross validation by maintaining same distribution of output varaible 'y_train' [stratify=y_train]\n",
    "train_df, cv_df, y_train, y_cv = train_test_split(X_train, y_train, stratify=y_train, test_size=0.2)"
   ]
  },
  {
   "cell_type": "code",
   "execution_count": 55,
   "metadata": {
    "ExecuteTime": {
     "end_time": "2019-03-05T20:05:21.740834Z",
     "start_time": "2019-03-05T20:05:14.836834Z"
    },
    "scrolled": false
   },
   "outputs": [
    {
     "name": "stdout",
     "output_type": "stream",
     "text": [
      "for alpha = 1e-06\n",
      "Log Loss : 1.8268570986710921\n",
      "for alpha = 1e-05\n",
      "Log Loss : 1.8268570986711459\n",
      "for alpha = 0.0001\n",
      "Log Loss : 1.826857098671086\n",
      "for alpha = 0.001\n",
      "Log Loss : 1.8268570986710688\n",
      "for alpha = 0.01\n",
      "Log Loss : 1.7543705696040455\n",
      "for alpha = 0.1\n",
      "Log Loss : 1.7367308335525444\n",
      "for alpha = 1\n",
      "Log Loss : 1.714797784111537\n",
      "for alpha = 10\n",
      "Log Loss : 1.7432183905583234\n",
      "for alpha = 100\n",
      "Log Loss : 1.7133367310278544\n"
     ]
    },
    {
     "data": {
      "image/png": "[encoded data removed]",
      "text/plain": [
       "<Figure size 432x288 with 1 Axes>"
      ]
     },
     "metadata": {},
     "output_type": "display_data"
    },
    {
     "name": "stdout",
     "output_type": "stream",
     "text": [
      "For values of best alpha =  100 The train log loss is: 1.6862503428979592\n",
      "For values of best alpha =  100 The cross validation log loss is: 1.7133367310278544\n",
      "For values of best alpha =  100 The test log loss is: 1.6999618683442603\n"
     ]
    }
   ],
   "source": [
    "alpha = [10 ** x for x in range(-6, 3)]\n",
    "cv_log_error_array = []\n",
    "for i in alpha:\n",
    "    print(\"for alpha =\", i)\n",
    "    clf = SGDClassifier(class_weight='balanced', alpha=i, penalty='l2', loss='log', random_state=42)\n",
    "    clf.fit(train_df, y_train)\n",
    "    sig_clf = CalibratedClassifierCV(clf, method=\"sigmoid\")\n",
    "    sig_clf.fit(train_df, y_train)\n",
    "    sig_clf_probs = sig_clf.predict_proba(cv_df)\n",
    "    cv_log_error_array.append(log_loss(y_cv, sig_clf_probs, labels=clf.classes_, eps=1e-15))\n",
    "    # to avoid rounding error while multiplying probabilites we use log-probability estimates\n",
    "    print(\"Log Loss :\",log_loss(y_cv, sig_clf_probs)) \n",
    "\n",
    "fig, ax = plt.subplots()\n",
    "ax.plot(alpha, cv_log_error_array,c='g')\n",
    "for i, txt in enumerate(np.round(cv_log_error_array,3)):\n",
    "    ax.annotate((alpha[i],str(txt)), (alpha[i],cv_log_error_array[i]))\n",
    "plt.grid()\n",
    "plt.title(\"Cross Validation Error for each alpha\")\n",
    "plt.xlabel(\"Alpha i's\")\n",
    "plt.ylabel(\"Error measure\")\n",
    "plt.show()\n",
    "\n",
    "\n",
    "best_alpha = np.argmin(cv_log_error_array)\n",
    "clf = SGDClassifier(class_weight='balanced', alpha=alpha[best_alpha], penalty='l2', loss='log', random_state=42)\n",
    "clf.fit(train_df, y_train)\n",
    "sig_clf = CalibratedClassifierCV(clf, method=\"sigmoid\")\n",
    "sig_clf.fit(train_df, y_train)\n",
    "\n",
    "predict_y = sig_clf.predict_proba(train_df)\n",
    "print('For values of best alpha = ', alpha[best_alpha], \"The train log loss is:\",log_loss(y_train, predict_y, labels=clf.classes_, eps=1e-15))\n",
    "predict_y = sig_clf.predict_proba(cv_df)\n",
    "print('For values of best alpha = ', alpha[best_alpha], \"The cross validation log loss is:\",log_loss(y_cv, predict_y, labels=clf.classes_, eps=1e-15))\n",
    "predict_y = sig_clf.predict_proba(test_df)\n",
    "print('For values of best alpha = ', alpha[best_alpha], \"The test log loss is:\",log_loss(y_test, predict_y, labels=clf.classes_, eps=1e-15))"
   ]
  },
  {
   "cell_type": "code",
   "execution_count": 22,
   "metadata": {},
   "outputs": [],
   "source": [
    "x = PrettyTable()"
   ]
  },
  {
   "cell_type": "code",
   "execution_count": 23,
   "metadata": {},
   "outputs": [],
   "source": [
    "x.field_names = (['Featurizations', 'models', 'test_loss', 'cv_loss'])"
   ]
  },
  {
   "cell_type": "code",
   "execution_count": 24,
   "metadata": {},
   "outputs": [],
   "source": [
    "x.add_row(['tfidf and bow of text + doc len + word_density + indicator variable', 'logisitic regression', 1.69, 1.71])"
   ]
  },
  {
   "cell_type": "code",
   "execution_count": 25,
   "metadata": {},
   "outputs": [
    {
     "name": "stdout",
     "output_type": "stream",
     "text": [
      "+---------------------------------------------------------------------+----------------------+-----------+---------+\n",
      "|                            Featurizations                           |        models        | test_loss | cv_loss |\n",
      "+---------------------------------------------------------------------+----------------------+-----------+---------+\n",
      "| tfidf and bow of text + doc len + word_density + indicator variable | logisitic regression |    1.69   |   1.71  |\n",
      "+---------------------------------------------------------------------+----------------------+-----------+---------+\n"
     ]
    }
   ],
   "source": [
    "print(x)"
   ]
  },
  {
   "cell_type": "markdown",
   "metadata": {},
   "source": [
    "### Since there is no good improvement here, we will try new feature engineering"
   ]
  },
  {
   "cell_type": "markdown",
   "metadata": {},
   "source": [
    "### THIS FEATURE ENGINEERING IS NOT WORKING\n"
   ]
  },
  {
   "cell_type": "markdown",
   "metadata": {},
   "source": [
    "## Second feature engineering try "
   ]
  },
  {
   "cell_type": "code",
   "execution_count": 56,
   "metadata": {},
   "outputs": [],
   "source": [
    "gene_dummy = pd.get_dummies(result['Gene'])"
   ]
  },
  {
   "cell_type": "code",
   "execution_count": 57,
   "metadata": {},
   "outputs": [
    {
     "data": {
      "text/plain": [
       "(3321, 264)"
      ]
     },
     "execution_count": 57,
     "metadata": {},
     "output_type": "execute_result"
    }
   ],
   "source": [
    "gene_dummy.shape"
   ]
  },
  {
   "cell_type": "code",
   "execution_count": 58,
   "metadata": {},
   "outputs": [],
   "source": [
    "variation_dummy = pd.get_dummies(result['Variation'])"
   ]
  },
  {
   "cell_type": "code",
   "execution_count": 59,
   "metadata": {},
   "outputs": [
    {
     "data": {
      "text/plain": [
       "(3321, 2996)"
      ]
     },
     "execution_count": 59,
     "metadata": {},
     "output_type": "execute_result"
    }
   ],
   "source": [
    "variation_dummy.shape"
   ]
  },
  {
   "cell_type": "code",
   "execution_count": 60,
   "metadata": {},
   "outputs": [],
   "source": [
    "dummy_df = pd.concat([gene_dummy, variation_dummy], axis=1)"
   ]
  },
  {
   "cell_type": "code",
   "execution_count": 61,
   "metadata": {},
   "outputs": [],
   "source": [
    "dummy_df['Class'] = result['Class']"
   ]
  },
  {
   "cell_type": "code",
   "execution_count": 62,
   "metadata": {},
   "outputs": [
    {
     "data": {
      "text/html": [
       "<div>\n",
       "<style scoped>\n",
       "    .dataframe tbody tr th:only-of-type {\n",
       "        vertical-align: middle;\n",
       "    }\n",
       "\n",
       "    .dataframe tbody tr th {\n",
       "        vertical-align: top;\n",
       "    }\n",
       "\n",
       "    .dataframe thead th {\n",
       "        text-align: right;\n",
       "    }\n",
       "</style>\n",
       "<table border=\"1\" class=\"dataframe\">\n",
       "  <thead>\n",
       "    <tr style=\"text-align: right;\">\n",
       "      <th></th>\n",
       "      <th>ABL1</th>\n",
       "      <th>ACVR1</th>\n",
       "      <th>AGO2</th>\n",
       "      <th>AKT1</th>\n",
       "      <th>AKT2</th>\n",
       "      <th>AKT3</th>\n",
       "      <th>ALK</th>\n",
       "      <th>APC</th>\n",
       "      <th>AR</th>\n",
       "      <th>ARAF</th>\n",
       "      <th>...</th>\n",
       "      <th>Y901C</th>\n",
       "      <th>Y931C</th>\n",
       "      <th>Y98H</th>\n",
       "      <th>Y98N</th>\n",
       "      <th>YAP1-FAM118B_Fusion</th>\n",
       "      <th>YAP1-MAMLD1_Fusion</th>\n",
       "      <th>ZC3H7B-BCOR_Fusion</th>\n",
       "      <th>ZNF198-FGFR1_Fusion</th>\n",
       "      <th>p61BRAF</th>\n",
       "      <th>Class</th>\n",
       "    </tr>\n",
       "  </thead>\n",
       "  <tbody>\n",
       "    <tr>\n",
       "      <th>0</th>\n",
       "      <td>0</td>\n",
       "      <td>0</td>\n",
       "      <td>0</td>\n",
       "      <td>0</td>\n",
       "      <td>0</td>\n",
       "      <td>0</td>\n",
       "      <td>0</td>\n",
       "      <td>0</td>\n",
       "      <td>0</td>\n",
       "      <td>0</td>\n",
       "      <td>...</td>\n",
       "      <td>0</td>\n",
       "      <td>0</td>\n",
       "      <td>0</td>\n",
       "      <td>0</td>\n",
       "      <td>0</td>\n",
       "      <td>0</td>\n",
       "      <td>0</td>\n",
       "      <td>0</td>\n",
       "      <td>0</td>\n",
       "      <td>1</td>\n",
       "    </tr>\n",
       "    <tr>\n",
       "      <th>1</th>\n",
       "      <td>0</td>\n",
       "      <td>0</td>\n",
       "      <td>0</td>\n",
       "      <td>0</td>\n",
       "      <td>0</td>\n",
       "      <td>0</td>\n",
       "      <td>0</td>\n",
       "      <td>0</td>\n",
       "      <td>0</td>\n",
       "      <td>0</td>\n",
       "      <td>...</td>\n",
       "      <td>0</td>\n",
       "      <td>0</td>\n",
       "      <td>0</td>\n",
       "      <td>0</td>\n",
       "      <td>0</td>\n",
       "      <td>0</td>\n",
       "      <td>0</td>\n",
       "      <td>0</td>\n",
       "      <td>0</td>\n",
       "      <td>2</td>\n",
       "    </tr>\n",
       "    <tr>\n",
       "      <th>2</th>\n",
       "      <td>0</td>\n",
       "      <td>0</td>\n",
       "      <td>0</td>\n",
       "      <td>0</td>\n",
       "      <td>0</td>\n",
       "      <td>0</td>\n",
       "      <td>0</td>\n",
       "      <td>0</td>\n",
       "      <td>0</td>\n",
       "      <td>0</td>\n",
       "      <td>...</td>\n",
       "      <td>0</td>\n",
       "      <td>0</td>\n",
       "      <td>0</td>\n",
       "      <td>0</td>\n",
       "      <td>0</td>\n",
       "      <td>0</td>\n",
       "      <td>0</td>\n",
       "      <td>0</td>\n",
       "      <td>0</td>\n",
       "      <td>2</td>\n",
       "    </tr>\n",
       "    <tr>\n",
       "      <th>3</th>\n",
       "      <td>0</td>\n",
       "      <td>0</td>\n",
       "      <td>0</td>\n",
       "      <td>0</td>\n",
       "      <td>0</td>\n",
       "      <td>0</td>\n",
       "      <td>0</td>\n",
       "      <td>0</td>\n",
       "      <td>0</td>\n",
       "      <td>0</td>\n",
       "      <td>...</td>\n",
       "      <td>0</td>\n",
       "      <td>0</td>\n",
       "      <td>0</td>\n",
       "      <td>0</td>\n",
       "      <td>0</td>\n",
       "      <td>0</td>\n",
       "      <td>0</td>\n",
       "      <td>0</td>\n",
       "      <td>0</td>\n",
       "      <td>3</td>\n",
       "    </tr>\n",
       "    <tr>\n",
       "      <th>4</th>\n",
       "      <td>0</td>\n",
       "      <td>0</td>\n",
       "      <td>0</td>\n",
       "      <td>0</td>\n",
       "      <td>0</td>\n",
       "      <td>0</td>\n",
       "      <td>0</td>\n",
       "      <td>0</td>\n",
       "      <td>0</td>\n",
       "      <td>0</td>\n",
       "      <td>...</td>\n",
       "      <td>0</td>\n",
       "      <td>0</td>\n",
       "      <td>0</td>\n",
       "      <td>0</td>\n",
       "      <td>0</td>\n",
       "      <td>0</td>\n",
       "      <td>0</td>\n",
       "      <td>0</td>\n",
       "      <td>0</td>\n",
       "      <td>4</td>\n",
       "    </tr>\n",
       "  </tbody>\n",
       "</table>\n",
       "<p>5 rows × 3261 columns</p>\n",
       "</div>"
      ],
      "text/plain": [
       "   ABL1  ACVR1  AGO2  AKT1  AKT2  AKT3  ALK  APC  AR  ARAF  ...    Y901C  \\\n",
       "0     0      0     0     0     0     0    0    0   0     0  ...        0   \n",
       "1     0      0     0     0     0     0    0    0   0     0  ...        0   \n",
       "2     0      0     0     0     0     0    0    0   0     0  ...        0   \n",
       "3     0      0     0     0     0     0    0    0   0     0  ...        0   \n",
       "4     0      0     0     0     0     0    0    0   0     0  ...        0   \n",
       "\n",
       "   Y931C  Y98H  Y98N  YAP1-FAM118B_Fusion  YAP1-MAMLD1_Fusion  \\\n",
       "0      0     0     0                    0                   0   \n",
       "1      0     0     0                    0                   0   \n",
       "2      0     0     0                    0                   0   \n",
       "3      0     0     0                    0                   0   \n",
       "4      0     0     0                    0                   0   \n",
       "\n",
       "   ZC3H7B-BCOR_Fusion  ZNF198-FGFR1_Fusion  p61BRAF  Class  \n",
       "0                   0                    0        0      1  \n",
       "1                   0                    0        0      2  \n",
       "2                   0                    0        0      2  \n",
       "3                   0                    0        0      3  \n",
       "4                   0                    0        0      4  \n",
       "\n",
       "[5 rows x 3261 columns]"
      ]
     },
     "execution_count": 62,
     "metadata": {},
     "output_type": "execute_result"
    }
   ],
   "source": [
    "dummy_df.head()"
   ]
  },
  {
   "cell_type": "code",
   "execution_count": 63,
   "metadata": {
    "scrolled": false
   },
   "outputs": [
    {
     "data": {
      "text/html": [
       "<div>\n",
       "<style scoped>\n",
       "    .dataframe tbody tr th:only-of-type {\n",
       "        vertical-align: middle;\n",
       "    }\n",
       "\n",
       "    .dataframe tbody tr th {\n",
       "        vertical-align: top;\n",
       "    }\n",
       "\n",
       "    .dataframe thead th {\n",
       "        text-align: right;\n",
       "    }\n",
       "</style>\n",
       "<table border=\"1\" class=\"dataframe\">\n",
       "  <thead>\n",
       "    <tr style=\"text-align: right;\">\n",
       "      <th></th>\n",
       "      <th>ABL1</th>\n",
       "      <th>ACVR1</th>\n",
       "      <th>AGO2</th>\n",
       "      <th>AKT1</th>\n",
       "      <th>AKT2</th>\n",
       "      <th>AKT3</th>\n",
       "      <th>ALK</th>\n",
       "      <th>APC</th>\n",
       "      <th>AR</th>\n",
       "      <th>ARAF</th>\n",
       "      <th>...</th>\n",
       "      <th>Y901C</th>\n",
       "      <th>Y931C</th>\n",
       "      <th>Y98H</th>\n",
       "      <th>Y98N</th>\n",
       "      <th>YAP1-FAM118B_Fusion</th>\n",
       "      <th>YAP1-MAMLD1_Fusion</th>\n",
       "      <th>ZC3H7B-BCOR_Fusion</th>\n",
       "      <th>ZNF198-FGFR1_Fusion</th>\n",
       "      <th>p61BRAF</th>\n",
       "      <th>Class</th>\n",
       "    </tr>\n",
       "  </thead>\n",
       "  <tbody>\n",
       "    <tr>\n",
       "      <th>0</th>\n",
       "      <td>0</td>\n",
       "      <td>0</td>\n",
       "      <td>0</td>\n",
       "      <td>0</td>\n",
       "      <td>0</td>\n",
       "      <td>0</td>\n",
       "      <td>0</td>\n",
       "      <td>0</td>\n",
       "      <td>0</td>\n",
       "      <td>0</td>\n",
       "      <td>...</td>\n",
       "      <td>0</td>\n",
       "      <td>0</td>\n",
       "      <td>0</td>\n",
       "      <td>0</td>\n",
       "      <td>0</td>\n",
       "      <td>0</td>\n",
       "      <td>0</td>\n",
       "      <td>0</td>\n",
       "      <td>0</td>\n",
       "      <td>1</td>\n",
       "    </tr>\n",
       "    <tr>\n",
       "      <th>1</th>\n",
       "      <td>0</td>\n",
       "      <td>0</td>\n",
       "      <td>0</td>\n",
       "      <td>0</td>\n",
       "      <td>0</td>\n",
       "      <td>0</td>\n",
       "      <td>0</td>\n",
       "      <td>0</td>\n",
       "      <td>0</td>\n",
       "      <td>0</td>\n",
       "      <td>...</td>\n",
       "      <td>0</td>\n",
       "      <td>0</td>\n",
       "      <td>0</td>\n",
       "      <td>0</td>\n",
       "      <td>0</td>\n",
       "      <td>0</td>\n",
       "      <td>0</td>\n",
       "      <td>0</td>\n",
       "      <td>0</td>\n",
       "      <td>2</td>\n",
       "    </tr>\n",
       "    <tr>\n",
       "      <th>2</th>\n",
       "      <td>0</td>\n",
       "      <td>0</td>\n",
       "      <td>0</td>\n",
       "      <td>0</td>\n",
       "      <td>0</td>\n",
       "      <td>0</td>\n",
       "      <td>0</td>\n",
       "      <td>0</td>\n",
       "      <td>0</td>\n",
       "      <td>0</td>\n",
       "      <td>...</td>\n",
       "      <td>0</td>\n",
       "      <td>0</td>\n",
       "      <td>0</td>\n",
       "      <td>0</td>\n",
       "      <td>0</td>\n",
       "      <td>0</td>\n",
       "      <td>0</td>\n",
       "      <td>0</td>\n",
       "      <td>0</td>\n",
       "      <td>2</td>\n",
       "    </tr>\n",
       "    <tr>\n",
       "      <th>3</th>\n",
       "      <td>0</td>\n",
       "      <td>0</td>\n",
       "      <td>0</td>\n",
       "      <td>0</td>\n",
       "      <td>0</td>\n",
       "      <td>0</td>\n",
       "      <td>0</td>\n",
       "      <td>0</td>\n",
       "      <td>0</td>\n",
       "      <td>0</td>\n",
       "      <td>...</td>\n",
       "      <td>0</td>\n",
       "      <td>0</td>\n",
       "      <td>0</td>\n",
       "      <td>0</td>\n",
       "      <td>0</td>\n",
       "      <td>0</td>\n",
       "      <td>0</td>\n",
       "      <td>0</td>\n",
       "      <td>0</td>\n",
       "      <td>3</td>\n",
       "    </tr>\n",
       "    <tr>\n",
       "      <th>4</th>\n",
       "      <td>0</td>\n",
       "      <td>0</td>\n",
       "      <td>0</td>\n",
       "      <td>0</td>\n",
       "      <td>0</td>\n",
       "      <td>0</td>\n",
       "      <td>0</td>\n",
       "      <td>0</td>\n",
       "      <td>0</td>\n",
       "      <td>0</td>\n",
       "      <td>...</td>\n",
       "      <td>0</td>\n",
       "      <td>0</td>\n",
       "      <td>0</td>\n",
       "      <td>0</td>\n",
       "      <td>0</td>\n",
       "      <td>0</td>\n",
       "      <td>0</td>\n",
       "      <td>0</td>\n",
       "      <td>0</td>\n",
       "      <td>4</td>\n",
       "    </tr>\n",
       "  </tbody>\n",
       "</table>\n",
       "<p>5 rows × 3261 columns</p>\n",
       "</div>"
      ],
      "text/plain": [
       "   ABL1  ACVR1  AGO2  AKT1  AKT2  AKT3  ALK  APC  AR  ARAF  ...    Y901C  \\\n",
       "0     0      0     0     0     0     0    0    0   0     0  ...        0   \n",
       "1     0      0     0     0     0     0    0    0   0     0  ...        0   \n",
       "2     0      0     0     0     0     0    0    0   0     0  ...        0   \n",
       "3     0      0     0     0     0     0    0    0   0     0  ...        0   \n",
       "4     0      0     0     0     0     0    0    0   0     0  ...        0   \n",
       "\n",
       "   Y931C  Y98H  Y98N  YAP1-FAM118B_Fusion  YAP1-MAMLD1_Fusion  \\\n",
       "0      0     0     0                    0                   0   \n",
       "1      0     0     0                    0                   0   \n",
       "2      0     0     0                    0                   0   \n",
       "3      0     0     0                    0                   0   \n",
       "4      0     0     0                    0                   0   \n",
       "\n",
       "   ZC3H7B-BCOR_Fusion  ZNF198-FGFR1_Fusion  p61BRAF  Class  \n",
       "0                   0                    0        0      1  \n",
       "1                   0                    0        0      2  \n",
       "2                   0                    0        0      2  \n",
       "3                   0                    0        0      3  \n",
       "4                   0                    0        0      4  \n",
       "\n",
       "[5 rows x 3261 columns]"
      ]
     },
     "execution_count": 63,
     "metadata": {},
     "output_type": "execute_result"
    }
   ],
   "source": [
    "dummy_df.head()"
   ]
  },
  {
   "cell_type": "markdown",
   "metadata": {},
   "source": [
    "### combining features"
   ]
  },
  {
   "cell_type": "code",
   "execution_count": 64,
   "metadata": {},
   "outputs": [],
   "source": [
    "y_true = dummy_df['Class'].values\n",
    "# result.Gene      = result.Gene.str.replace('\\s+', '_')\n",
    "# result.Variation = result.Variation.str.replace('\\s+', '_')\n",
    "\n",
    "# split the data into test and train by maintaining same distribution of output varaible 'y_true' [stratify=y_true]\n",
    "X_train, test_df, y_train, y_test = train_test_split(dummy_df, y_true, stratify=y_true, test_size=0.2)\n",
    "# split the train data into train and cross validation by maintaining same distribution of output varaible 'y_train' [stratify=y_train]\n",
    "train_df, cv_df, y_train, y_cv = train_test_split(X_train, y_train, stratify=y_train, test_size=0.2)"
   ]
  },
  {
   "cell_type": "markdown",
   "metadata": {},
   "source": [
    "### Label encoded features"
   ]
  },
  {
   "cell_type": "code",
   "execution_count": 71,
   "metadata": {},
   "outputs": [],
   "source": [
    "from sklearn.preprocessing import LabelEncoder"
   ]
  },
  {
   "cell_type": "code",
   "execution_count": 72,
   "metadata": {},
   "outputs": [],
   "source": [
    "le = LabelEncoder()"
   ]
  },
  {
   "cell_type": "code",
   "execution_count": 73,
   "metadata": {},
   "outputs": [],
   "source": [
    "le_X = dummy_df.apply(le.fit_transform)"
   ]
  },
  {
   "cell_type": "code",
   "execution_count": 74,
   "metadata": {},
   "outputs": [
    {
     "data": {
      "text/html": [
       "<div>\n",
       "<style scoped>\n",
       "    .dataframe tbody tr th:only-of-type {\n",
       "        vertical-align: middle;\n",
       "    }\n",
       "\n",
       "    .dataframe tbody tr th {\n",
       "        vertical-align: top;\n",
       "    }\n",
       "\n",
       "    .dataframe thead th {\n",
       "        text-align: right;\n",
       "    }\n",
       "</style>\n",
       "<table border=\"1\" class=\"dataframe\">\n",
       "  <thead>\n",
       "    <tr style=\"text-align: right;\">\n",
       "      <th></th>\n",
       "      <th>ABL1</th>\n",
       "      <th>ACVR1</th>\n",
       "      <th>AGO2</th>\n",
       "      <th>AKT1</th>\n",
       "      <th>AKT2</th>\n",
       "      <th>AKT3</th>\n",
       "      <th>ALK</th>\n",
       "      <th>APC</th>\n",
       "      <th>AR</th>\n",
       "      <th>ARAF</th>\n",
       "      <th>...</th>\n",
       "      <th>Y901C</th>\n",
       "      <th>Y931C</th>\n",
       "      <th>Y98H</th>\n",
       "      <th>Y98N</th>\n",
       "      <th>YAP1-FAM118B_Fusion</th>\n",
       "      <th>YAP1-MAMLD1_Fusion</th>\n",
       "      <th>ZC3H7B-BCOR_Fusion</th>\n",
       "      <th>ZNF198-FGFR1_Fusion</th>\n",
       "      <th>p61BRAF</th>\n",
       "      <th>Class</th>\n",
       "    </tr>\n",
       "  </thead>\n",
       "  <tbody>\n",
       "    <tr>\n",
       "      <th>0</th>\n",
       "      <td>0</td>\n",
       "      <td>0</td>\n",
       "      <td>0</td>\n",
       "      <td>0</td>\n",
       "      <td>0</td>\n",
       "      <td>0</td>\n",
       "      <td>0</td>\n",
       "      <td>0</td>\n",
       "      <td>0</td>\n",
       "      <td>0</td>\n",
       "      <td>...</td>\n",
       "      <td>0</td>\n",
       "      <td>0</td>\n",
       "      <td>0</td>\n",
       "      <td>0</td>\n",
       "      <td>0</td>\n",
       "      <td>0</td>\n",
       "      <td>0</td>\n",
       "      <td>0</td>\n",
       "      <td>0</td>\n",
       "      <td>0</td>\n",
       "    </tr>\n",
       "    <tr>\n",
       "      <th>1</th>\n",
       "      <td>0</td>\n",
       "      <td>0</td>\n",
       "      <td>0</td>\n",
       "      <td>0</td>\n",
       "      <td>0</td>\n",
       "      <td>0</td>\n",
       "      <td>0</td>\n",
       "      <td>0</td>\n",
       "      <td>0</td>\n",
       "      <td>0</td>\n",
       "      <td>...</td>\n",
       "      <td>0</td>\n",
       "      <td>0</td>\n",
       "      <td>0</td>\n",
       "      <td>0</td>\n",
       "      <td>0</td>\n",
       "      <td>0</td>\n",
       "      <td>0</td>\n",
       "      <td>0</td>\n",
       "      <td>0</td>\n",
       "      <td>1</td>\n",
       "    </tr>\n",
       "    <tr>\n",
       "      <th>2</th>\n",
       "      <td>0</td>\n",
       "      <td>0</td>\n",
       "      <td>0</td>\n",
       "      <td>0</td>\n",
       "      <td>0</td>\n",
       "      <td>0</td>\n",
       "      <td>0</td>\n",
       "      <td>0</td>\n",
       "      <td>0</td>\n",
       "      <td>0</td>\n",
       "      <td>...</td>\n",
       "      <td>0</td>\n",
       "      <td>0</td>\n",
       "      <td>0</td>\n",
       "      <td>0</td>\n",
       "      <td>0</td>\n",
       "      <td>0</td>\n",
       "      <td>0</td>\n",
       "      <td>0</td>\n",
       "      <td>0</td>\n",
       "      <td>1</td>\n",
       "    </tr>\n",
       "    <tr>\n",
       "      <th>3</th>\n",
       "      <td>0</td>\n",
       "      <td>0</td>\n",
       "      <td>0</td>\n",
       "      <td>0</td>\n",
       "      <td>0</td>\n",
       "      <td>0</td>\n",
       "      <td>0</td>\n",
       "      <td>0</td>\n",
       "      <td>0</td>\n",
       "      <td>0</td>\n",
       "      <td>...</td>\n",
       "      <td>0</td>\n",
       "      <td>0</td>\n",
       "      <td>0</td>\n",
       "      <td>0</td>\n",
       "      <td>0</td>\n",
       "      <td>0</td>\n",
       "      <td>0</td>\n",
       "      <td>0</td>\n",
       "      <td>0</td>\n",
       "      <td>2</td>\n",
       "    </tr>\n",
       "    <tr>\n",
       "      <th>4</th>\n",
       "      <td>0</td>\n",
       "      <td>0</td>\n",
       "      <td>0</td>\n",
       "      <td>0</td>\n",
       "      <td>0</td>\n",
       "      <td>0</td>\n",
       "      <td>0</td>\n",
       "      <td>0</td>\n",
       "      <td>0</td>\n",
       "      <td>0</td>\n",
       "      <td>...</td>\n",
       "      <td>0</td>\n",
       "      <td>0</td>\n",
       "      <td>0</td>\n",
       "      <td>0</td>\n",
       "      <td>0</td>\n",
       "      <td>0</td>\n",
       "      <td>0</td>\n",
       "      <td>0</td>\n",
       "      <td>0</td>\n",
       "      <td>3</td>\n",
       "    </tr>\n",
       "  </tbody>\n",
       "</table>\n",
       "<p>5 rows × 3261 columns</p>\n",
       "</div>"
      ],
      "text/plain": [
       "   ABL1  ACVR1  AGO2  AKT1  AKT2  AKT3  ALK  APC  AR  ARAF  ...    Y901C  \\\n",
       "0     0      0     0     0     0     0    0    0   0     0  ...        0   \n",
       "1     0      0     0     0     0     0    0    0   0     0  ...        0   \n",
       "2     0      0     0     0     0     0    0    0   0     0  ...        0   \n",
       "3     0      0     0     0     0     0    0    0   0     0  ...        0   \n",
       "4     0      0     0     0     0     0    0    0   0     0  ...        0   \n",
       "\n",
       "   Y931C  Y98H  Y98N  YAP1-FAM118B_Fusion  YAP1-MAMLD1_Fusion  \\\n",
       "0      0     0     0                    0                   0   \n",
       "1      0     0     0                    0                   0   \n",
       "2      0     0     0                    0                   0   \n",
       "3      0     0     0                    0                   0   \n",
       "4      0     0     0                    0                   0   \n",
       "\n",
       "   ZC3H7B-BCOR_Fusion  ZNF198-FGFR1_Fusion  p61BRAF  Class  \n",
       "0                   0                    0        0      0  \n",
       "1                   0                    0        0      1  \n",
       "2                   0                    0        0      1  \n",
       "3                   0                    0        0      2  \n",
       "4                   0                    0        0      3  \n",
       "\n",
       "[5 rows x 3261 columns]"
      ]
     },
     "execution_count": 74,
     "metadata": {},
     "output_type": "execute_result"
    }
   ],
   "source": [
    "le_X.head()"
   ]
  },
  {
   "cell_type": "code",
   "execution_count": 75,
   "metadata": {},
   "outputs": [
    {
     "data": {
      "text/plain": [
       "(3321, 2008)"
      ]
     },
     "execution_count": 75,
     "metadata": {},
     "output_type": "execute_result"
    }
   ],
   "source": [
    "result.shape"
   ]
  },
  {
   "cell_type": "code",
   "execution_count": 76,
   "metadata": {},
   "outputs": [],
   "source": [
    "le_Y = result['Class']"
   ]
  },
  {
   "cell_type": "code",
   "execution_count": 77,
   "metadata": {},
   "outputs": [],
   "source": [
    "y_true = result['Class'].values\n",
    "# result.Gene      = result.Gene.str.replace('\\s+', '_')\n",
    "# result.Variation = result.Variation.str.replace('\\s+', '_')\n",
    "\n",
    "# split the data into test and train by maintaining same distribution of output varaible 'y_true' [stratify=y_true]\n",
    "X_train, test_df, y_train, y_test = train_test_split(le_X, y_true, stratify=y_true, test_size=0.2)\n",
    "# split the train data into train and cross validation by maintaining same distribution of output varaible 'y_train' [stratify=y_train]\n",
    "train_df, cv_df, y_train, y_cv = train_test_split(X_train, y_train, stratify=y_train, test_size=0.2)"
   ]
  },
  {
   "cell_type": "markdown",
   "metadata": {},
   "source": [
    "### ADDING IN WORD DENSITY FEATURE"
   ]
  },
  {
   "cell_type": "code",
   "execution_count": 78,
   "metadata": {},
   "outputs": [],
   "source": [
    "density_df = pd.DataFrame(train_new_feature, columns=['word_density'])"
   ]
  },
  {
   "cell_type": "markdown",
   "metadata": {},
   "source": [
    "### merging dummies and label encoding"
   ]
  },
  {
   "cell_type": "code",
   "execution_count": 79,
   "metadata": {},
   "outputs": [],
   "source": [
    "dummy_label_df = pd.concat([dummy_df, le_X, density_df], axis=1)"
   ]
  },
  {
   "cell_type": "code",
   "execution_count": 80,
   "metadata": {},
   "outputs": [],
   "source": [
    "dummy_label_df['Class'] = result['Class']"
   ]
  },
  {
   "cell_type": "code",
   "execution_count": 81,
   "metadata": {},
   "outputs": [
    {
     "data": {
      "text/plain": [
       "(3321, 6523)"
      ]
     },
     "execution_count": 81,
     "metadata": {},
     "output_type": "execute_result"
    }
   ],
   "source": [
    "dummy_label_df.shape"
   ]
  },
  {
   "cell_type": "code",
   "execution_count": 82,
   "metadata": {},
   "outputs": [],
   "source": [
    "y_true = result['Class'].values\n",
    "# result.Gene      = result.Gene.str.replace('\\s+', '_')\n",
    "# result.Variation = result.Variation.str.replace('\\s+', '_')\n",
    "\n",
    "# split the data into test and train by maintaining same distribution of output varaible 'y_true' [stratify=y_true]\n",
    "X_train, test_df, y_train, y_test = train_test_split(dummy_label_df, y_true, stratify=y_true, test_size=0.2)\n",
    "# split the train data into train and cross validation by maintaining same distribution of output varaible 'y_train' [stratify=y_train]\n",
    "train_df, cv_df, y_train, y_cv = train_test_split(X_train, y_train, stratify=y_train, test_size=0.2)"
   ]
  },
  {
   "cell_type": "code",
   "execution_count": 83,
   "metadata": {},
   "outputs": [
    {
     "data": {
      "text/plain": [
       "(2656, 6523)"
      ]
     },
     "execution_count": 83,
     "metadata": {},
     "output_type": "execute_result"
    }
   ],
   "source": [
    "X_train.shape"
   ]
  },
  {
   "cell_type": "markdown",
   "metadata": {},
   "source": [
    "### Dont run"
   ]
  },
  {
   "cell_type": "code",
   "execution_count": 178,
   "metadata": {
    "ExecuteTime": {
     "end_time": "2019-03-06T06:57:23.203453Z",
     "start_time": "2019-03-06T06:57:22.795949Z"
    }
   },
   "outputs": [],
   "source": [
    "# train_gene_var_tfidf = hstack((gene_dummy_sparse,variation_dummy_sparse))\n",
    "# # test_gene_var_tfidf = hstack((test_gene_feature_tfidf,test_variation_feature_tfidf))\n",
    "# cv_gene_var_tfidf = hstack((cvgene_dummy_sparse,cvvariation_dummy_sparse))\n",
    "\n",
    "# train_x_onehotCoding = hstack((train_gene_var_tfidf, train_text_tfidf_bow)).tocsr()\n",
    "# # train_x_onehotCoding = hstack((train_x_onehotCoding, train_text_feature_bow))\n",
    "# train_y = np.array(list(train_df['Class']))\n",
    "\n",
    "# # test_x_onehotCoding = hstack((test_gene_var_tfidf, test_text_tfidf_bow)).tocsr()\n",
    "# # test_x_onehotCoding = hstack((test_x_onehotCoding, test_text_feature_bow))\n",
    "# test_y = np.array(list(test_df['Class']))\n",
    "\n",
    "# cv_x_onehotCoding = hstack((cv_gene_var_tfidf, cv_text_tfidf_bow)).tocsr()\n",
    "# # cv_x_onehotCoding = hstack((cv_x_onehotCoding, cv_text_feature_bow))\n",
    "# cv_y = np.array(list(cv_df['Class']))"
   ]
  },
  {
   "cell_type": "code",
   "execution_count": null,
   "metadata": {
    "ExecuteTime": {
     "end_time": "2019-03-06T06:58:04.349204Z",
     "start_time": "2019-03-06T06:58:04.344219Z"
    }
   },
   "outputs": [],
   "source": [
    "# print(\"One hot encoding features :\")\n",
    "# print(\"(number of data points * number of features) in train data = \", train_x_onehotCoding.shape)\n",
    "# # print(\"(number of data points * number of features) in test data = \", test_x_onehotCoding.shape)\n",
    "# print(\"(number of data points * number of features) in cross validation data =\", cv_x_onehotCoding.shape)"
   ]
  },
  {
   "cell_type": "markdown",
   "metadata": {},
   "source": [
    "### machine learning model"
   ]
  },
  {
   "cell_type": "code",
   "execution_count": 84,
   "metadata": {
    "ExecuteTime": {
     "end_time": "2019-03-05T18:51:22.369958Z",
     "start_time": "2019-03-05T18:51:22.352004Z"
    }
   },
   "outputs": [],
   "source": [
    "def predict_and_plot_confusion_matrix(train_x, train_y,test_x, test_y, clf):\n",
    "    clf.fit(train_x, train_y)\n",
    "    sig_clf = CalibratedClassifierCV(clf, method=\"sigmoid\")\n",
    "    sig_clf.fit(train_x, train_y)\n",
    "    pred_y = sig_clf.predict(test_x)\n",
    "\n",
    "    # for calculating log_loss we willl provide the array of probabilities belongs to each class\n",
    "    print(\"Log loss :\",log_loss(test_y, sig_clf.predict_proba(test_x)))\n",
    "    # calculating the number of data points that are misclassified\n",
    "    print(\"Number of mis-classified points :\", np.count_nonzero((pred_y- test_y))/test_y.shape[0])\n",
    "    plot_confusion_matrix(test_y, pred_y)"
   ]
  },
  {
   "cell_type": "code",
   "execution_count": 85,
   "metadata": {
    "ExecuteTime": {
     "end_time": "2019-03-05T18:51:22.722919Z",
     "start_time": "2019-03-05T18:51:22.718929Z"
    }
   },
   "outputs": [],
   "source": [
    "def report_log_loss(train_x, train_y, test_x, test_y,  clf):\n",
    "    clf.fit(train_x, train_y)\n",
    "    sig_clf = CalibratedClassifierCV(clf, method=\"sigmoid\")\n",
    "    sig_clf.fit(train_x, train_y)\n",
    "    sig_clf_probs = sig_clf.predict_proba(test_x)\n",
    "    return log_loss(test_y, sig_clf_probs, eps=1e-15)"
   ]
  },
  {
   "cell_type": "markdown",
   "metadata": {},
   "source": [
    "## Naive bayes"
   ]
  },
  {
   "cell_type": "code",
   "execution_count": 86,
   "metadata": {
    "ExecuteTime": {
     "end_time": "2019-03-06T06:59:47.506597Z",
     "start_time": "2019-03-06T06:59:28.041234Z"
    }
   },
   "outputs": [
    {
     "name": "stdout",
     "output_type": "stream",
     "text": [
      "for alpha = 1e-05\n",
      "Log Loss : 1.0247001665455509\n",
      "for alpha = 0.0001\n",
      "Log Loss : 1.021686172590304\n",
      "for alpha = 0.001\n",
      "Log Loss : 0.9983226804636588\n",
      "for alpha = 0.1\n",
      "Log Loss : 0.8548202673966119\n",
      "for alpha = 1\n",
      "Log Loss : 1.30359075042839\n",
      "for alpha = 10\n",
      "Log Loss : 1.3654006019729208\n",
      "for alpha = 100\n",
      "Log Loss : 1.1718344352137167\n",
      "for alpha = 1000\n",
      "Log Loss : 1.0572639880629353\n"
     ]
    },
    {
     "data": {
      "image/png": "[encoded data removed]",
      "text/plain": [
       "<Figure size 432x288 with 1 Axes>"
      ]
     },
     "metadata": {},
     "output_type": "display_data"
    },
    {
     "name": "stdout",
     "output_type": "stream",
     "text": [
      "For values of best alpha =  0.1 The train log loss is: 0.3817674672011247\n",
      "For values of best alpha =  0.1 The cross validation log loss is: 0.8548202673966119\n",
      "For values of best alpha =  0.1 The test log loss is: 0.7613460995300819\n"
     ]
    }
   ],
   "source": [
    "alpha = [0.00001, 0.0001, 0.001, 0.1, 1, 10, 100,1000]\n",
    "cv_log_error_array = []\n",
    "for i in alpha:\n",
    "    print(\"for alpha =\", i)\n",
    "    clf = MultinomialNB(alpha=i)\n",
    "    clf.fit(train_df, y_train)\n",
    "    sig_clf = CalibratedClassifierCV(clf, method=\"sigmoid\")\n",
    "    sig_clf.fit(train_df, y_train)\n",
    "    sig_clf_probs = sig_clf.predict_proba(cv_df)\n",
    "    cv_log_error_array.append(log_loss(y_cv, sig_clf_probs, labels=clf.classes_, eps=1e-15))\n",
    "    # to avoid rounding error while multiplying probabilites we use log-probability estimates\n",
    "    print(\"Log Loss :\",log_loss(y_cv, sig_clf_probs)) \n",
    "\n",
    "fig, ax = plt.subplots()\n",
    "ax.plot(np.log10(alpha), cv_log_error_array,c='g')\n",
    "for i, txt in enumerate(np.round(cv_log_error_array,3)):\n",
    "    ax.annotate((alpha[i],str(txt)), (np.log10(alpha[i]),cv_log_error_array[i]))\n",
    "plt.grid()\n",
    "plt.xticks(np.log10(alpha))\n",
    "plt.title(\"Cross Validation Error for each alpha\")\n",
    "plt.xlabel(\"Alpha i's\")\n",
    "plt.ylabel(\"Error measure\")\n",
    "plt.show()\n",
    "\n",
    "\n",
    "best_alpha = np.argmin(cv_log_error_array)\n",
    "clf = MultinomialNB(alpha=alpha[best_alpha])\n",
    "clf.fit(train_df, y_train)\n",
    "sig_clf = CalibratedClassifierCV(clf, method=\"sigmoid\")\n",
    "sig_clf.fit(train_df, y_train)\n",
    "\n",
    "\n",
    "predict_y = sig_clf.predict_proba(train_df)\n",
    "print('For values of best alpha = ', alpha[best_alpha], \"The train log loss is:\",log_loss(y_train, predict_y, labels=clf.classes_, eps=1e-15))\n",
    "predict_y = sig_clf.predict_proba(cv_df)\n",
    "print('For values of best alpha = ', alpha[best_alpha], \"The cross validation log loss is:\",log_loss(y_cv, predict_y, labels=clf.classes_, eps=1e-15))\n",
    "predict_y = sig_clf.predict_proba(test_df)\n",
    "print('For values of best alpha = ', alpha[best_alpha], \"The test log loss is:\",log_loss(y_test, predict_y, labels=clf.classes_, eps=1e-15))"
   ]
  },
  {
   "cell_type": "markdown",
   "metadata": {},
   "source": [
    "## Knn"
   ]
  },
  {
   "cell_type": "code",
   "execution_count": 87,
   "metadata": {
    "ExecuteTime": {
     "end_time": "2019-03-05T20:05:14.834868Z",
     "start_time": "2019-03-05T20:04:24.992054Z"
    }
   },
   "outputs": [
    {
     "name": "stdout",
     "output_type": "stream",
     "text": [
      "for alpha = 5\n",
      "Log Loss : 0.17697304857465673\n",
      "for alpha = 11\n",
      "Log Loss : 0.14054083385567706\n",
      "for alpha = 15\n",
      "Log Loss : 0.12824009641126455\n",
      "for alpha = 21\n",
      "Log Loss : 0.11051770619715222\n",
      "for alpha = 31\n",
      "Log Loss : 0.08826680132464819\n",
      "for alpha = 41\n",
      "Log Loss : 0.08067117267226676\n",
      "for alpha = 51\n",
      "Log Loss : 0.0735918952024841\n",
      "for alpha = 99\n",
      "Log Loss : 0.037500970933175955\n"
     ]
    },
    {
     "data": {
      "image/png": "[encoded data removed]",
      "text/plain": [
       "<Figure size 432x288 with 1 Axes>"
      ]
     },
     "metadata": {},
     "output_type": "display_data"
    },
    {
     "name": "stdout",
     "output_type": "stream",
     "text": [
      "For values of best alpha =  99 The train log loss is: 0.038022824977746214\n",
      "For values of best alpha =  99 The cross validation log loss is: 0.037500970933175955\n",
      "For values of best alpha =  99 The test log loss is: 0.03473444005780409\n"
     ]
    }
   ],
   "source": [
    "alpha = [5, 11, 15, 21, 31, 41, 51, 99]\n",
    "cv_log_error_array = []\n",
    "for i in alpha:\n",
    "    print(\"for alpha =\", i)\n",
    "    clf = KNeighborsClassifier(n_neighbors=i)\n",
    "    clf.fit(train_df, y_train)\n",
    "    sig_clf = CalibratedClassifierCV(clf, method=\"sigmoid\")\n",
    "    sig_clf.fit(train_df, y_train)\n",
    "    sig_clf_probs = sig_clf.predict_proba(cv_df)\n",
    "    cv_log_error_array.append(log_loss(y_cv, sig_clf_probs, labels=clf.classes_, eps=1e-15))\n",
    "    # to avoid rounding error while multiplying probabilites we use log-probability estimates\n",
    "    print(\"Log Loss :\",log_loss(y_cv, sig_clf_probs)) \n",
    "\n",
    "fig, ax = plt.subplots()\n",
    "ax.plot(alpha, cv_log_error_array,c='g')\n",
    "for i, txt in enumerate(np.round(cv_log_error_array,3)):\n",
    "    ax.annotate((alpha[i],str(txt)), (alpha[i],cv_log_error_array[i]))\n",
    "plt.grid()\n",
    "plt.title(\"Cross Validation Error for each alpha\")\n",
    "plt.xlabel(\"Alpha i's\")\n",
    "plt.ylabel(\"Error measure\")\n",
    "plt.show()\n",
    "\n",
    "\n",
    "best_alpha = np.argmin(cv_log_error_array)\n",
    "clf = KNeighborsClassifier(n_neighbors=alpha[best_alpha])\n",
    "clf.fit(train_df, y_train)\n",
    "sig_clf = CalibratedClassifierCV(clf, method=\"sigmoid\")\n",
    "sig_clf.fit(train_df, y_train)\n",
    "\n",
    "predict_y = sig_clf.predict_proba(train_df)\n",
    "print('For values of best alpha = ', alpha[best_alpha], \"The train log loss is:\",log_loss(y_train, predict_y, labels=clf.classes_, eps=1e-15))\n",
    "predict_y = sig_clf.predict_proba(cv_df)\n",
    "print('For values of best alpha = ', alpha[best_alpha], \"The cross validation log loss is:\",log_loss(y_cv, predict_y, labels=clf.classes_, eps=1e-15))\n",
    "predict_y = sig_clf.predict_proba(test_df)\n",
    "print('For values of best alpha = ', alpha[best_alpha], \"The test log loss is:\",log_loss(y_test, predict_y, labels=clf.classes_, eps=1e-15))\n"
   ]
  },
  {
   "cell_type": "markdown",
   "metadata": {},
   "source": [
    "### Logisitic regression with class balancing"
   ]
  },
  {
   "cell_type": "code",
   "execution_count": 88,
   "metadata": {
    "ExecuteTime": {
     "end_time": "2019-03-05T20:05:21.740834Z",
     "start_time": "2019-03-05T20:05:14.836834Z"
    },
    "scrolled": false
   },
   "outputs": [
    {
     "name": "stdout",
     "output_type": "stream",
     "text": [
      "for alpha = 1e-06\n",
      "Log Loss : 0.6272498737026784\n",
      "for alpha = 1e-05\n",
      "Log Loss : 0.6141217983138775\n",
      "for alpha = 0.0001\n",
      "Log Loss : 0.6076303467306531\n",
      "for alpha = 0.001\n",
      "Log Loss : 0.5931328394979757\n",
      "for alpha = 0.01\n",
      "Log Loss : 0.6428121862319637\n",
      "for alpha = 0.1\n",
      "Log Loss : 0.8173403690485482\n",
      "for alpha = 1\n",
      "Log Loss : 0.9364885317872759\n",
      "for alpha = 10\n",
      "Log Loss : 1.1464798770946145\n",
      "for alpha = 100\n",
      "Log Loss : 0.9729593042949972\n"
     ]
    },
    {
     "data": {
      "image/png": "[encoded data removed]",
      "text/plain": [
       "<Figure size 432x288 with 1 Axes>"
      ]
     },
     "metadata": {},
     "output_type": "display_data"
    },
    {
     "name": "stdout",
     "output_type": "stream",
     "text": [
      "For values of best alpha =  0.001 The train log loss is: 0.49896494835453115\n",
      "For values of best alpha =  0.001 The cross validation log loss is: 0.5931328394979757\n",
      "For values of best alpha =  0.001 The test log loss is: 0.5606730521012762\n"
     ]
    }
   ],
   "source": [
    "alpha = [10 ** x for x in range(-6, 3)]\n",
    "cv_log_error_array = []\n",
    "for i in alpha:\n",
    "    print(\"for alpha =\", i)\n",
    "    clf = SGDClassifier(class_weight='balanced', alpha=i, penalty='l2', loss='log', random_state=42)\n",
    "    clf.fit(train_df, y_train)\n",
    "    sig_clf = CalibratedClassifierCV(clf, method=\"sigmoid\")\n",
    "    sig_clf.fit(train_df, y_train)\n",
    "    sig_clf_probs = sig_clf.predict_proba(cv_df)\n",
    "    cv_log_error_array.append(log_loss(y_cv, sig_clf_probs, labels=clf.classes_, eps=1e-15))\n",
    "    # to avoid rounding error while multiplying probabilites we use log-probability estimates\n",
    "    print(\"Log Loss :\",log_loss(y_cv, sig_clf_probs)) \n",
    "\n",
    "fig, ax = plt.subplots()\n",
    "ax.plot(alpha, cv_log_error_array,c='g')\n",
    "for i, txt in enumerate(np.round(cv_log_error_array,3)):\n",
    "    ax.annotate((alpha[i],str(txt)), (alpha[i],cv_log_error_array[i]))\n",
    "plt.grid()\n",
    "plt.title(\"Cross Validation Error for each alpha\")\n",
    "plt.xlabel(\"Alpha i's\")\n",
    "plt.ylabel(\"Error measure\")\n",
    "plt.show()\n",
    "\n",
    "\n",
    "best_alpha = np.argmin(cv_log_error_array)\n",
    "clf = SGDClassifier(class_weight='balanced', alpha=alpha[best_alpha], penalty='l2', loss='log', random_state=42)\n",
    "clf.fit(train_df, y_train)\n",
    "sig_clf = CalibratedClassifierCV(clf, method=\"sigmoid\")\n",
    "sig_clf.fit(train_df, y_train)\n",
    "\n",
    "predict_y = sig_clf.predict_proba(train_df)\n",
    "print('For values of best alpha = ', alpha[best_alpha], \"The train log loss is:\",log_loss(y_train, predict_y, labels=clf.classes_, eps=1e-15))\n",
    "predict_y = sig_clf.predict_proba(cv_df)\n",
    "print('For values of best alpha = ', alpha[best_alpha], \"The cross validation log loss is:\",log_loss(y_cv, predict_y, labels=clf.classes_, eps=1e-15))\n",
    "predict_y = sig_clf.predict_proba(test_df)\n",
    "print('For values of best alpha = ', alpha[best_alpha], \"The test log loss is:\",log_loss(y_test, predict_y, labels=clf.classes_, eps=1e-15))"
   ]
  },
  {
   "cell_type": "markdown",
   "metadata": {},
   "source": [
    "### Logisitic regression without class balancing"
   ]
  },
  {
   "cell_type": "code",
   "execution_count": 89,
   "metadata": {
    "ExecuteTime": {
     "end_time": "2019-03-05T20:05:35.720869Z",
     "start_time": "2019-03-05T20:05:30.239356Z"
    },
    "scrolled": false
   },
   "outputs": [
    {
     "name": "stdout",
     "output_type": "stream",
     "text": [
      "for alpha = 1e-06\n",
      "Log Loss : 0.6267762942557226\n",
      "for alpha = 1e-05\n",
      "Log Loss : 0.6168584943083493\n",
      "for alpha = 0.0001\n",
      "Log Loss : 0.6158290114283193\n",
      "for alpha = 0.001\n",
      "Log Loss : 0.6030762966604213\n",
      "for alpha = 0.01\n",
      "Log Loss : 0.6445599318975649\n",
      "for alpha = 0.1\n",
      "Log Loss : 0.8528088145559871\n",
      "for alpha = 1\n",
      "Log Loss : 0.9471386747354591\n",
      "for alpha = 10\n",
      "Log Loss : 0.9484605371338213\n",
      "for alpha = 100\n",
      "Log Loss : 1.1029144618871263\n"
     ]
    },
    {
     "data": {
      "image/png": "[encoded data removed]",
      "text/plain": [
       "<Figure size 432x288 with 1 Axes>"
      ]
     },
     "metadata": {},
     "output_type": "display_data"
    },
    {
     "name": "stdout",
     "output_type": "stream",
     "text": [
      "For values of best alpha =  0.001 The train log loss is: 0.49896494835453115\n",
      "For values of best alpha =  0.001 The cross validation log loss is: 0.5931328394979757\n",
      "For values of best alpha =  0.001 The test log loss is: 0.5606730521012762\n"
     ]
    }
   ],
   "source": [
    "# label encoded + one hot encoded features\n",
    "alpha = [10 ** x for x in range(-6, 3)]\n",
    "cv_log_error_array = []\n",
    "for i in alpha:\n",
    "    print(\"for alpha =\", i)\n",
    "    clf = SGDClassifier(alpha=i, penalty='l2', loss='log', random_state=42)\n",
    "    clf.fit(train_df, y_train)\n",
    "    sig_clf = CalibratedClassifierCV(clf, method=\"sigmoid\")\n",
    "    sig_clf.fit(train_df, y_train)\n",
    "    sig_clf_probs = sig_clf.predict_proba(cv_df)\n",
    "    cv_log_error_array.append(log_loss(y_cv, sig_clf_probs, labels=clf.classes_, eps=1e-15))\n",
    "    # to avoid rounding error while multiplying probabilites we use log-probability estimates\n",
    "    print(\"Log Loss :\",log_loss(y_cv, sig_clf_probs)) \n",
    "\n",
    "fig, ax = plt.subplots()\n",
    "ax.plot(alpha, cv_log_error_array,c='g')\n",
    "for i, txt in enumerate(np.round(cv_log_error_array,3)):\n",
    "    ax.annotate((alpha[i],str(txt)), (alpha[i],cv_log_error_array[i]))\n",
    "plt.grid()\n",
    "plt.title(\"Cross Validation Error for each alpha\")\n",
    "plt.xlabel(\"Alpha i's\")\n",
    "plt.ylabel(\"Error measure\")\n",
    "plt.show()\n",
    "\n",
    "\n",
    "best_alpha = np.argmin(cv_log_error_array)\n",
    "clf = SGDClassifier(class_weight='balanced', alpha=alpha[best_alpha], penalty='l2', loss='log', random_state=42)\n",
    "clf.fit(train_df, y_train)\n",
    "sig_clf = CalibratedClassifierCV(clf, method=\"sigmoid\")\n",
    "sig_clf.fit(train_df, y_train)\n",
    "\n",
    "predict_y = sig_clf.predict_proba(train_df)\n",
    "print('For values of best alpha = ', alpha[best_alpha], \"The train log loss is:\",log_loss(y_train, predict_y, labels=clf.classes_, eps=1e-15))\n",
    "predict_y = sig_clf.predict_proba(cv_df)\n",
    "print('For values of best alpha = ', alpha[best_alpha], \"The cross validation log loss is:\",log_loss(y_cv, predict_y, labels=clf.classes_, eps=1e-15))\n",
    "predict_y = sig_clf.predict_proba(test_df)\n",
    "print('For values of best alpha = ', alpha[best_alpha], \"The test log loss is:\",log_loss(y_test, predict_y, labels=clf.classes_, eps=1e-15))"
   ]
  },
  {
   "cell_type": "markdown",
   "metadata": {},
   "source": [
    "### Linear SVC"
   ]
  },
  {
   "cell_type": "code",
   "execution_count": 119,
   "metadata": {
    "ExecuteTime": {
     "end_time": "2019-03-05T20:06:23.694008Z",
     "start_time": "2019-03-05T20:06:18.657734Z"
    }
   },
   "outputs": [
    {
     "name": "stdout",
     "output_type": "stream",
     "text": [
      "for C = 1e-05\n",
      "Log Loss : 0.57863003652586\n",
      "for C = 0.0001\n",
      "Log Loss : 0.5270564589796367\n",
      "for C = 0.001\n",
      "Log Loss : 0.5281671656398833\n",
      "for C = 0.01\n",
      "Log Loss : 0.5720529801907454\n",
      "for C = 0.1\n",
      "Log Loss : 0.5979852948597111\n",
      "for C = 1\n",
      "Log Loss : 0.6246188545320084\n",
      "for C = 10\n",
      "Log Loss : 0.9057708995266169\n",
      "for C = 100\n",
      "Log Loss : 0.9068787067275329\n"
     ]
    },
    {
     "data": {
      "image/png": "[encoded data removed]",
      "text/plain": [
       "<Figure size 432x288 with 1 Axes>"
      ]
     },
     "metadata": {},
     "output_type": "display_data"
    },
    {
     "name": "stdout",
     "output_type": "stream",
     "text": [
      "For values of best alpha =  0.0001 The train log loss is: 0.3859234272204214\n",
      "For values of best alpha =  0.0001 The cross validation log loss is: 0.5270564589796367\n",
      "For values of best alpha =  0.0001 The test log loss is: 0.5557261273766145\n"
     ]
    }
   ],
   "source": [
    "#label encoded features + onehot features\n",
    "alpha = [10 ** x for x in range(-5, 3)]\n",
    "cv_log_error_array = []\n",
    "for i in alpha:\n",
    "    print(\"for C =\", i)\n",
    "#     clf = SVC(C=i,kernel='linear',probability=True, class_weight='balanced')\n",
    "    clf = SGDClassifier( class_weight='balanced', alpha=i, penalty='l2', loss='hinge', random_state=42)\n",
    "    clf.fit(train_df, y_train)\n",
    "    sig_clf = CalibratedClassifierCV(clf, method=\"sigmoid\")\n",
    "    sig_clf.fit(train_df, y_train)\n",
    "    sig_clf_probs = sig_clf.predict_proba(cv_df)\n",
    "    cv_log_error_array.append(log_loss(y_cv, sig_clf_probs, labels=clf.classes_, eps=1e-15))\n",
    "    print(\"Log Loss :\",log_loss(y_cv, sig_clf_probs)) \n",
    "\n",
    "fig, ax = plt.subplots()\n",
    "ax.plot(alpha, cv_log_error_array,c='g')\n",
    "for i, txt in enumerate(np.round(cv_log_error_array,3)):\n",
    "    ax.annotate((alpha[i],str(txt)), (alpha[i],cv_log_error_array[i]))\n",
    "plt.grid()\n",
    "plt.title(\"Cross Validation Error for each alpha\")\n",
    "plt.xlabel(\"Alpha i's\")\n",
    "plt.ylabel(\"Error measure\")\n",
    "plt.show()\n",
    "\n",
    "\n",
    "best_alpha = np.argmin(cv_log_error_array)\n",
    "# clf = SVC(C=i,kernel='linear',probability=True, class_weight='balanced')\n",
    "clf = SGDClassifier(class_weight='balanced', alpha=alpha[best_alpha], penalty='l2', loss='hinge', random_state=42)\n",
    "clf.fit(train_df, y_train)\n",
    "sig_clf = CalibratedClassifierCV(clf, method=\"sigmoid\")\n",
    "sig_clf.fit(train_df, y_train)\n",
    "\n",
    "predict_y = sig_clf.predict_proba(train_df)\n",
    "print('For values of best alpha = ', alpha[best_alpha], \"The train log loss is:\",log_loss(y_train, predict_y, labels=clf.classes_, eps=1e-15))\n",
    "predict_y = sig_clf.predict_proba(cv_df)\n",
    "print('For values of best alpha = ', alpha[best_alpha], \"The cross validation log loss is:\",log_loss(y_cv, predict_y, labels=clf.classes_, eps=1e-15))\n",
    "predict_y = sig_clf.predict_proba(test_df)\n",
    "print('For values of best alpha = ', alpha[best_alpha], \"The test log loss is:\",log_loss(y_test, predict_y, labels=clf.classes_, eps=1e-15))"
   ]
  },
  {
   "cell_type": "markdown",
   "metadata": {},
   "source": [
    "### Random forest classifiers"
   ]
  },
  {
   "cell_type": "code",
   "execution_count": 120,
   "metadata": {
    "ExecuteTime": {
     "end_time": "2019-03-05T20:11:19.229095Z",
     "start_time": "2019-03-05T20:06:46.319307Z"
    },
    "scrolled": false
   },
   "outputs": [
    {
     "name": "stdout",
     "output_type": "stream",
     "text": [
      "for n_estimators = 100 and max depth =  5\n",
      "Log Loss : 1.0215260157369912\n",
      "for n_estimators = 100 and max depth =  10\n",
      "Log Loss : 0.9029758174220439\n",
      "for n_estimators = 200 and max depth =  5\n",
      "Log Loss : 1.021098108349095\n",
      "for n_estimators = 200 and max depth =  10\n",
      "Log Loss : 0.8916237088271247\n",
      "for n_estimators = 500 and max depth =  5\n",
      "Log Loss : 0.903357546304222\n",
      "for n_estimators = 500 and max depth =  10\n",
      "Log Loss : 0.8267483930630186\n",
      "for n_estimators = 1000 and max depth =  5\n",
      "Log Loss : 0.8955893469355333\n",
      "for n_estimators = 1000 and max depth =  10\n",
      "Log Loss : 0.8145736637309244\n",
      "for n_estimators = 2000 and max depth =  5\n",
      "Log Loss : 0.9017948987742215\n",
      "for n_estimators = 2000 and max depth =  10\n",
      "Log Loss : 0.8177650231013055\n",
      "For values of best estimator =  1000 The train log loss is: 0.6145987457574293\n",
      "For values of best estimator =  1000 The cross validation log loss is: 0.8145736637309244\n",
      "For values of best estimator =  1000 The test log loss is: 0.8123476491397051\n"
     ]
    }
   ],
   "source": [
    "# onehot + label encoded\n",
    "alpha = [100,200,500,1000,2000]\n",
    "max_depth = [5, 10]\n",
    "cv_log_error_array = []\n",
    "for i in alpha:\n",
    "    for j in max_depth:\n",
    "        print(\"for n_estimators =\", i,\"and max depth = \", j)\n",
    "        clf = RandomForestClassifier(n_estimators=i, criterion='gini', max_depth=j, random_state=42, n_jobs=-1)\n",
    "        clf.fit(train_df, y_train)\n",
    "        sig_clf = CalibratedClassifierCV(clf, method=\"sigmoid\")\n",
    "        sig_clf.fit(train_df, y_train)\n",
    "        sig_clf_probs = sig_clf.predict_proba(cv_df)\n",
    "        cv_log_error_array.append(log_loss(y_cv, sig_clf_probs, labels=clf.classes_, eps=1e-15))\n",
    "        print(\"Log Loss :\",log_loss(y_cv, sig_clf_probs)) \n",
    "\n",
    "'''fig, ax = plt.subplots()\n",
    "features = np.dot(np.array(alpha)[:,None],np.array(max_depth)[None]).ravel()\n",
    "ax.plot(features, cv_log_error_array,c='g')\n",
    "for i, txt in enumerate(np.round(cv_log_error_array,3)):\n",
    "    ax.annotate((alpha[int(i/2)],max_depth[int(i%2)],str(txt)), (features[i],cv_log_error_array[i]))\n",
    "plt.grid()\n",
    "plt.title(\"Cross Validation Error for each alpha\")\n",
    "plt.xlabel(\"Alpha i's\")\n",
    "plt.ylabel(\"Error measure\")\n",
    "plt.show()\n",
    "'''\n",
    "\n",
    "best_alpha = np.argmin(cv_log_error_array)\n",
    "clf = RandomForestClassifier(n_estimators=alpha[int(best_alpha/2)], criterion='gini', max_depth=max_depth[int(best_alpha%2)], random_state=42, n_jobs=-1)\n",
    "clf.fit(train_df, y_train)\n",
    "sig_clf = CalibratedClassifierCV(clf, method=\"sigmoid\")\n",
    "sig_clf.fit(train_df, y_train)\n",
    "\n",
    "predict_y = sig_clf.predict_proba(train_df)\n",
    "print('For values of best estimator = ', alpha[int(best_alpha/2)], \"The train log loss is:\",log_loss(y_train, predict_y, labels=clf.classes_, eps=1e-15))\n",
    "predict_y = sig_clf.predict_proba(cv_df)\n",
    "print('For values of best estimator = ', alpha[int(best_alpha/2)], \"The cross validation log loss is:\",log_loss(y_cv, predict_y, labels=clf.classes_, eps=1e-15))\n",
    "predict_y = sig_clf.predict_proba(test_df)\n",
    "print('For values of best estimator = ', alpha[int(best_alpha/2)], \"The test log loss is:\",log_loss(y_test, predict_y, labels=clf.classes_, eps=1e-15))"
   ]
  },
  {
   "cell_type": "markdown",
   "metadata": {},
   "source": [
    "### Stacking classifiers"
   ]
  },
  {
   "cell_type": "code",
   "execution_count": 121,
   "metadata": {
    "ExecuteTime": {
     "end_time": "2019-03-05T20:11:28.636156Z",
     "start_time": "2019-03-05T20:11:19.236954Z"
    }
   },
   "outputs": [
    {
     "name": "stdout",
     "output_type": "stream",
     "text": [
      "Logistic Regression :  Log Loss: 0.52\n",
      "Support vector machines : Log Loss: 0.59\n",
      "Naive Bayes : Log Loss: 1.13\n",
      "--------------------------------------------------\n",
      "Stacking Classifer : for the value of alpha: 0.000100 Log Loss: 2.167\n",
      "Stacking Classifer : for the value of alpha: 0.001000 Log Loss: 1.941\n",
      "Stacking Classifer : for the value of alpha: 0.010000 Log Loss: 1.176\n",
      "Stacking Classifer : for the value of alpha: 0.100000 Log Loss: 0.589\n",
      "Stacking Classifer : for the value of alpha: 1.000000 Log Loss: 0.451\n",
      "Stacking Classifer : for the value of alpha: 10.000000 Log Loss: 0.555\n"
     ]
    }
   ],
   "source": [
    "clf1 = SGDClassifier(alpha=0.001, penalty='l2', loss='log', class_weight='balanced', random_state=0)\n",
    "clf1.fit(train_df, y_train)\n",
    "sig_clf1 = CalibratedClassifierCV(clf1, method=\"sigmoid\")\n",
    "\n",
    "clf2 = SGDClassifier(alpha=1, penalty='l2', loss='hinge', class_weight='balanced', random_state=0)\n",
    "clf2.fit(train_df, y_train)\n",
    "sig_clf2 = CalibratedClassifierCV(clf2, method=\"sigmoid\")\n",
    "\n",
    "\n",
    "clf3 = MultinomialNB(alpha=0.001)\n",
    "clf3.fit(train_df, y_train)\n",
    "sig_clf3 = CalibratedClassifierCV(clf3, method=\"sigmoid\")\n",
    "\n",
    "sig_clf1.fit(train_df, y_train)\n",
    "print(\"Logistic Regression :  Log Loss: %0.2f\" % (log_loss(y_cv, sig_clf1.predict_proba(cv_df))))\n",
    "sig_clf2.fit(train_df, y_train)\n",
    "print(\"Support vector machines : Log Loss: %0.2f\" % (log_loss(y_cv, sig_clf2.predict_proba(cv_df))))\n",
    "sig_clf3.fit(train_df, y_train)\n",
    "print(\"Naive Bayes : Log Loss: %0.2f\" % (log_loss(y_cv, sig_clf3.predict_proba(cv_df))))\n",
    "print(\"-\"*50)\n",
    "alpha = [0.0001,0.001,0.01,0.1,1,10] \n",
    "best_alpha = 999\n",
    "for i in alpha:\n",
    "    lr = LogisticRegression(C=i)\n",
    "    sclf = StackingClassifier(classifiers=[sig_clf1, sig_clf2, sig_clf3], meta_classifier=lr, use_probas=True)\n",
    "    sclf.fit(train_df, y_train)\n",
    "    print(\"Stacking Classifer : for the value of alpha: %f Log Loss: %0.3f\" % (i, log_loss(y_cv, sclf.predict_proba(cv_df))))\n",
    "    log_error =log_loss(y_cv, sclf.predict_proba(cv_df))\n",
    "    if best_alpha > log_error:\n",
    "        best_alpha = log_error"
   ]
  },
  {
   "cell_type": "markdown",
   "metadata": {},
   "source": [
    "### Voting classifier"
   ]
  },
  {
   "cell_type": "code",
   "execution_count": 122,
   "metadata": {
    "ExecuteTime": {
     "end_time": "2019-03-05T20:11:29.956305Z",
     "start_time": "2019-03-05T20:11:28.637983Z"
    },
    "scrolled": true
   },
   "outputs": [
    {
     "name": "stdout",
     "output_type": "stream",
     "text": [
      "Log loss (train) on the VotingClassifier : 0.4786653097594269\n",
      "Log loss (CV) on the VotingClassifier : 0.6799274897471931\n",
      "Log loss (test) on the VotingClassifier : 0.7033444079398297\n",
      "Number of missclassified point : 0.16090225563909774\n"
     ]
    }
   ],
   "source": [
    "# label+onehot\n",
    "#Refer:http://scikit-learn.org/stable/modules/generated/sklearn.ensemble.VotingClassifier.html\n",
    "from sklearn.ensemble import VotingClassifier\n",
    "vclf = VotingClassifier(estimators=[('lr', sig_clf1), ('svc', sig_clf2), ('rf', sig_clf3)], voting='soft')\n",
    "vclf.fit(train_df, y_train)\n",
    "print(\"Log loss (train) on the VotingClassifier :\", log_loss(y_train, vclf.predict_proba(train_df)))\n",
    "print(\"Log loss (CV) on the VotingClassifier :\", log_loss(y_cv, vclf.predict_proba(cv_df)))\n",
    "print(\"Log loss (test) on the VotingClassifier :\", log_loss(y_test, vclf.predict_proba(test_df)))\n",
    "print(\"Number of missclassified point :\", np.count_nonzero((vclf.predict(test_df)- y_test))/y_test.shape[0])\n",
    "# plot_confusion_matrix(test_y=test_y, predict_y=vclf.predict(test_x_onehotCoding))"
   ]
  },
  {
   "cell_type": "markdown",
   "metadata": {},
   "source": [
    "## third feature engineering try"
   ]
  },
  {
   "cell_type": "markdown",
   "metadata": {},
   "source": [
    "### Using label encoded features"
   ]
  },
  {
   "cell_type": "code",
   "execution_count": 101,
   "metadata": {
    "ExecuteTime": {
     "end_time": "2019-03-05T20:05:21.740834Z",
     "start_time": "2019-03-05T20:05:14.836834Z"
    }
   },
   "outputs": [
    {
     "name": "stdout",
     "output_type": "stream",
     "text": [
      "for alpha = 1e-06\n",
      "Log Loss : 1.1997155138536153\n",
      "for alpha = 1e-05\n",
      "Log Loss : 1.1548663681681723\n",
      "for alpha = 0.0001\n",
      "Log Loss : 1.0937084686002612\n",
      "for alpha = 0.001\n",
      "Log Loss : 1.1298118085751438\n",
      "for alpha = 0.01\n",
      "Log Loss : 1.2341629368722815\n",
      "for alpha = 0.1\n",
      "Log Loss : 1.2683100548334774\n",
      "for alpha = 1\n",
      "Log Loss : 1.2562890792159038\n",
      "for alpha = 10\n",
      "Log Loss : 1.340396029814389\n",
      "for alpha = 100\n",
      "Log Loss : 1.3764630324207412\n"
     ]
    },
    {
     "data": {
      "image/png": "[encoded data removed]",
      "text/plain": [
       "<Figure size 432x288 with 1 Axes>"
      ]
     },
     "metadata": {},
     "output_type": "display_data"
    },
    {
     "name": "stdout",
     "output_type": "stream",
     "text": [
      "For values of best alpha =  0.0001 The train log loss is: 0.5477646546755032\n",
      "For values of best alpha =  0.0001 The cross validation log loss is: 1.0937084686002612\n",
      "For values of best alpha =  0.0001 The test log loss is: 1.1458285538527955\n"
     ]
    }
   ],
   "source": [
    "#Only on label encoded features\n",
    "alpha = [10 ** x for x in range(-6, 3)]\n",
    "cv_log_error_array = []\n",
    "for i in alpha:\n",
    "    print(\"for alpha =\", i)\n",
    "    clf = SGDClassifier(class_weight='balanced', alpha=i, penalty='l2', loss='log', random_state=42)\n",
    "    clf.fit(train_df, y_train)\n",
    "    sig_clf = CalibratedClassifierCV(clf, method=\"sigmoid\")\n",
    "    sig_clf.fit(train_df, y_train)\n",
    "    sig_clf_probs = sig_clf.predict_proba(cv_df)\n",
    "    cv_log_error_array.append(log_loss(y_cv, sig_clf_probs, labels=clf.classes_, eps=1e-15))\n",
    "    # to avoid rounding error while multiplying probabilites we use log-probability estimates\n",
    "    print(\"Log Loss :\",log_loss(y_cv, sig_clf_probs)) \n",
    "\n",
    "fig, ax = plt.subplots()\n",
    "ax.plot(alpha, cv_log_error_array,c='g')\n",
    "for i, txt in enumerate(np.round(cv_log_error_array,3)):\n",
    "    ax.annotate((alpha[i],str(txt)), (alpha[i],cv_log_error_array[i]))\n",
    "plt.grid()\n",
    "plt.title(\"Cross Validation Error for each alpha\")\n",
    "plt.xlabel(\"Alpha i's\")\n",
    "plt.ylabel(\"Error measure\")\n",
    "plt.show()\n",
    "\n",
    "\n",
    "best_alpha = np.argmin(cv_log_error_array)\n",
    "clf = SGDClassifier(class_weight='balanced', alpha=alpha[best_alpha], penalty='l2', loss='log', random_state=42)\n",
    "clf.fit(train_df, y_train)\n",
    "sig_clf = CalibratedClassifierCV(clf, method=\"sigmoid\")\n",
    "sig_clf.fit(train_df, y_train)\n",
    "\n",
    "predict_y = sig_clf.predict_proba(train_df)\n",
    "print('For values of best alpha = ', alpha[best_alpha], \"The train log loss is:\",log_loss(y_train, predict_y, labels=clf.classes_, eps=1e-15))\n",
    "predict_y = sig_clf.predict_proba(cv_df)\n",
    "print('For values of best alpha = ', alpha[best_alpha], \"The cross validation log loss is:\",log_loss(y_cv, predict_y, labels=clf.classes_, eps=1e-15))\n",
    "predict_y = sig_clf.predict_proba(test_df)\n",
    "print('For values of best alpha = ', alpha[best_alpha], \"The test log loss is:\",log_loss(y_test, predict_y, labels=clf.classes_, eps=1e-15))"
   ]
  },
  {
   "cell_type": "code",
   "execution_count": 105,
   "metadata": {
    "ExecuteTime": {
     "end_time": "2019-03-05T20:11:19.229095Z",
     "start_time": "2019-03-05T20:06:46.319307Z"
    },
    "scrolled": false
   },
   "outputs": [
    {
     "name": "stdout",
     "output_type": "stream",
     "text": [
      "for n_estimators = 100 and max depth =  5\n",
      "Log Loss : 1.2566048597712296\n",
      "for n_estimators = 100 and max depth =  10\n",
      "Log Loss : 1.2267890242484218\n",
      "for n_estimators = 200 and max depth =  5\n",
      "Log Loss : 1.2348384446947789\n",
      "for n_estimators = 200 and max depth =  10\n",
      "Log Loss : 1.2173029857900781\n",
      "for n_estimators = 500 and max depth =  5\n",
      "Log Loss : 1.225410206115976\n",
      "for n_estimators = 500 and max depth =  10\n",
      "Log Loss : 1.2149803215701074\n",
      "for n_estimators = 1000 and max depth =  5\n",
      "Log Loss : 1.2210590245781132\n",
      "for n_estimators = 1000 and max depth =  10\n",
      "Log Loss : 1.211726448584069\n",
      "for n_estimators = 2000 and max depth =  5\n",
      "Log Loss : 1.2165227109499483\n",
      "for n_estimators = 2000 and max depth =  10\n",
      "Log Loss : 1.209793265853651\n",
      "For values of best estimator =  2000 The train log loss is: 0.9585066923155573\n",
      "For values of best estimator =  2000 The cross validation log loss is: 1.209793265853651\n",
      "For values of best estimator =  2000 The test log loss is: 1.2461461847474957\n"
     ]
    }
   ],
   "source": [
    "# label encoded\n",
    "alpha = [100,200,500,1000,2000]\n",
    "max_depth = [5, 10]\n",
    "cv_log_error_array = []\n",
    "for i in alpha:\n",
    "    for j in max_depth:\n",
    "        print(\"for n_estimators =\", i,\"and max depth = \", j)\n",
    "        clf = RandomForestClassifier(n_estimators=i, criterion='gini', max_depth=j, random_state=42, n_jobs=-1)\n",
    "        clf.fit(train_df, y_train)\n",
    "        sig_clf = CalibratedClassifierCV(clf, method=\"sigmoid\")\n",
    "        sig_clf.fit(train_df, y_train)\n",
    "        sig_clf_probs = sig_clf.predict_proba(cv_df)\n",
    "        cv_log_error_array.append(log_loss(y_cv, sig_clf_probs, labels=clf.classes_, eps=1e-15))\n",
    "        print(\"Log Loss :\",log_loss(y_cv, sig_clf_probs)) \n",
    "\n",
    "'''fig, ax = plt.subplots()\n",
    "features = np.dot(np.array(alpha)[:,None],np.array(max_depth)[None]).ravel()\n",
    "ax.plot(features, cv_log_error_array,c='g')\n",
    "for i, txt in enumerate(np.round(cv_log_error_array,3)):\n",
    "    ax.annotate((alpha[int(i/2)],max_depth[int(i%2)],str(txt)), (features[i],cv_log_error_array[i]))\n",
    "plt.grid()\n",
    "plt.title(\"Cross Validation Error for each alpha\")\n",
    "plt.xlabel(\"Alpha i's\")\n",
    "plt.ylabel(\"Error measure\")\n",
    "plt.show()\n",
    "'''\n",
    "\n",
    "best_alpha = np.argmin(cv_log_error_array)\n",
    "clf = RandomForestClassifier(n_estimators=alpha[int(best_alpha/2)], criterion='gini', max_depth=max_depth[int(best_alpha%2)], random_state=42, n_jobs=-1)\n",
    "clf.fit(train_df, y_train)\n",
    "sig_clf = CalibratedClassifierCV(clf, method=\"sigmoid\")\n",
    "sig_clf.fit(train_df, y_train)\n",
    "\n",
    "predict_y = sig_clf.predict_proba(train_df)\n",
    "print('For values of best estimator = ', alpha[int(best_alpha/2)], \"The train log loss is:\",log_loss(y_train, predict_y, labels=clf.classes_, eps=1e-15))\n",
    "predict_y = sig_clf.predict_proba(cv_df)\n",
    "print('For values of best estimator = ', alpha[int(best_alpha/2)], \"The cross validation log loss is:\",log_loss(y_cv, predict_y, labels=clf.classes_, eps=1e-15))\n",
    "predict_y = sig_clf.predict_proba(test_df)\n",
    "print('For values of best estimator = ', alpha[int(best_alpha/2)], \"The test log loss is:\",log_loss(y_test, predict_y, labels=clf.classes_, eps=1e-15))"
   ]
  },
  {
   "cell_type": "code",
   "execution_count": 104,
   "metadata": {
    "ExecuteTime": {
     "end_time": "2019-03-05T20:06:23.694008Z",
     "start_time": "2019-03-05T20:06:18.657734Z"
    }
   },
   "outputs": [
    {
     "name": "stdout",
     "output_type": "stream",
     "text": [
      "for C = 1e-05\n",
      "Log Loss : 1.1636575257892572\n",
      "for C = 0.0001\n",
      "Log Loss : 1.1544002767632975\n",
      "for C = 0.001\n",
      "Log Loss : 1.2032701168662554\n",
      "for C = 0.01\n",
      "Log Loss : 1.330167381859787\n",
      "for C = 0.1\n",
      "Log Loss : 1.3285713219890012\n",
      "for C = 1\n",
      "Log Loss : 1.3330819371534532\n",
      "for C = 10\n",
      "Log Loss : 1.3094056893072625\n",
      "for C = 100\n",
      "Log Loss : 1.4034369624555583\n"
     ]
    },
    {
     "data": {
      "image/png": "[encoded data removed]",
      "text/plain": [
       "<Figure size 432x288 with 1 Axes>"
      ]
     },
     "metadata": {},
     "output_type": "display_data"
    },
    {
     "name": "stdout",
     "output_type": "stream",
     "text": [
      "For values of best alpha =  0.0001 The train log loss is: 0.5607917896176803\n",
      "For values of best alpha =  0.0001 The cross validation log loss is: 1.1544002767632975\n",
      "For values of best alpha =  0.0001 The test log loss is: 1.2083015390547496\n"
     ]
    }
   ],
   "source": [
    "#Only on label encoded features\n",
    "alpha = [10 ** x for x in range(-5, 3)]\n",
    "cv_log_error_array = []\n",
    "for i in alpha:\n",
    "    print(\"for C =\", i)\n",
    "#     clf = SVC(C=i,kernel='linear',probability=True, class_weight='balanced')\n",
    "    clf = SGDClassifier( class_weight='balanced', alpha=i, penalty='l2', loss='hinge', random_state=42)\n",
    "    clf.fit(train_df, y_train)\n",
    "    sig_clf = CalibratedClassifierCV(clf, method=\"sigmoid\")\n",
    "    sig_clf.fit(train_df, y_train)\n",
    "    sig_clf_probs = sig_clf.predict_proba(cv_df)\n",
    "    cv_log_error_array.append(log_loss(y_cv, sig_clf_probs, labels=clf.classes_, eps=1e-15))\n",
    "    print(\"Log Loss :\",log_loss(y_cv, sig_clf_probs)) \n",
    "\n",
    "fig, ax = plt.subplots()\n",
    "ax.plot(alpha, cv_log_error_array,c='g')\n",
    "for i, txt in enumerate(np.round(cv_log_error_array,3)):\n",
    "    ax.annotate((alpha[i],str(txt)), (alpha[i],cv_log_error_array[i]))\n",
    "plt.grid()\n",
    "plt.title(\"Cross Validation Error for each alpha\")\n",
    "plt.xlabel(\"Alpha i's\")\n",
    "plt.ylabel(\"Error measure\")\n",
    "plt.show()\n",
    "\n",
    "\n",
    "best_alpha = np.argmin(cv_log_error_array)\n",
    "# clf = SVC(C=i,kernel='linear',probability=True, class_weight='balanced')\n",
    "clf = SGDClassifier(class_weight='balanced', alpha=alpha[best_alpha], penalty='l2', loss='hinge', random_state=42)\n",
    "clf.fit(train_df, y_train)\n",
    "sig_clf = CalibratedClassifierCV(clf, method=\"sigmoid\")\n",
    "sig_clf.fit(train_df, y_train)\n",
    "\n",
    "predict_y = sig_clf.predict_proba(train_df)\n",
    "print('For values of best alpha = ', alpha[best_alpha], \"The train log loss is:\",log_loss(y_train, predict_y, labels=clf.classes_, eps=1e-15))\n",
    "predict_y = sig_clf.predict_proba(cv_df)\n",
    "print('For values of best alpha = ', alpha[best_alpha], \"The cross validation log loss is:\",log_loss(y_cv, predict_y, labels=clf.classes_, eps=1e-15))\n",
    "predict_y = sig_clf.predict_proba(test_df)\n",
    "print('For values of best alpha = ', alpha[best_alpha], \"The test log loss is:\",log_loss(y_test, predict_y, labels=clf.classes_, eps=1e-15))"
   ]
  },
  {
   "cell_type": "code",
   "execution_count": 102,
   "metadata": {
    "ExecuteTime": {
     "end_time": "2019-03-05T20:05:35.720869Z",
     "start_time": "2019-03-05T20:05:30.239356Z"
    }
   },
   "outputs": [
    {
     "name": "stdout",
     "output_type": "stream",
     "text": [
      "for alpha = 1e-06\n",
      "Log Loss : 1.1695411651324965\n",
      "for alpha = 1e-05\n",
      "Log Loss : 1.1475214194598464\n",
      "for alpha = 0.0001\n",
      "Log Loss : 1.0941258902938995\n",
      "for alpha = 0.001\n",
      "Log Loss : 1.1176000558715717\n",
      "for alpha = 0.01\n",
      "Log Loss : 1.2192138160640202\n",
      "for alpha = 0.1\n",
      "Log Loss : 1.2624259920488718\n",
      "for alpha = 1\n",
      "Log Loss : 1.2573798694910623\n",
      "for alpha = 10\n",
      "Log Loss : 1.3230751564746421\n",
      "for alpha = 100\n",
      "Log Loss : 1.3676508174871012\n"
     ]
    },
    {
     "data": {
      "image/png": "[encoded data removed]",
      "text/plain": [
       "<Figure size 432x288 with 1 Axes>"
      ]
     },
     "metadata": {},
     "output_type": "display_data"
    },
    {
     "name": "stdout",
     "output_type": "stream",
     "text": [
      "For values of best alpha =  0.0001 The train log loss is: 0.5477646546755032\n",
      "For values of best alpha =  0.0001 The cross validation log loss is: 1.0937084686002612\n",
      "For values of best alpha =  0.0001 The test log loss is: 1.1458285538527955\n"
     ]
    }
   ],
   "source": [
    "#Only on label encoded features\n",
    "alpha = [10 ** x for x in range(-6, 3)]\n",
    "cv_log_error_array = []\n",
    "for i in alpha:\n",
    "    print(\"for alpha =\", i)\n",
    "    clf = SGDClassifier(alpha=i, penalty='l2', loss='log', random_state=42)\n",
    "    clf.fit(train_df, y_train)\n",
    "    sig_clf = CalibratedClassifierCV(clf, method=\"sigmoid\")\n",
    "    sig_clf.fit(train_df, y_train)\n",
    "    sig_clf_probs = sig_clf.predict_proba(cv_df)\n",
    "    cv_log_error_array.append(log_loss(y_cv, sig_clf_probs, labels=clf.classes_, eps=1e-15))\n",
    "    # to avoid rounding error while multiplying probabilites we use log-probability estimates\n",
    "    print(\"Log Loss :\",log_loss(y_cv, sig_clf_probs)) \n",
    "\n",
    "fig, ax = plt.subplots()\n",
    "ax.plot(alpha, cv_log_error_array,c='g')\n",
    "for i, txt in enumerate(np.round(cv_log_error_array,3)):\n",
    "    ax.annotate((alpha[i],str(txt)), (alpha[i],cv_log_error_array[i]))\n",
    "plt.grid()\n",
    "plt.title(\"Cross Validation Error for each alpha\")\n",
    "plt.xlabel(\"Alpha i's\")\n",
    "plt.ylabel(\"Error measure\")\n",
    "plt.show()\n",
    "\n",
    "\n",
    "best_alpha = np.argmin(cv_log_error_array)\n",
    "clf = SGDClassifier(class_weight='balanced', alpha=alpha[best_alpha], penalty='l2', loss='log', random_state=42)\n",
    "clf.fit(train_df, y_train)\n",
    "sig_clf = CalibratedClassifierCV(clf, method=\"sigmoid\")\n",
    "sig_clf.fit(train_df, y_train)\n",
    "\n",
    "predict_y = sig_clf.predict_proba(train_df)\n",
    "print('For values of best alpha = ', alpha[best_alpha], \"The train log loss is:\",log_loss(y_train, predict_y, labels=clf.classes_, eps=1e-15))\n",
    "predict_y = sig_clf.predict_proba(cv_df)\n",
    "print('For values of best alpha = ', alpha[best_alpha], \"The cross validation log loss is:\",log_loss(y_cv, predict_y, labels=clf.classes_, eps=1e-15))\n",
    "predict_y = sig_clf.predict_proba(test_df)\n",
    "print('For values of best alpha = ', alpha[best_alpha], \"The test log loss is:\",log_loss(y_test, predict_y, labels=clf.classes_, eps=1e-15))"
   ]
  },
  {
   "cell_type": "code",
   "execution_count": 106,
   "metadata": {
    "ExecuteTime": {
     "end_time": "2019-03-05T20:11:28.636156Z",
     "start_time": "2019-03-05T20:11:19.236954Z"
    }
   },
   "outputs": [
    {
     "name": "stdout",
     "output_type": "stream",
     "text": [
      "Logistic Regression :  Log Loss: 1.13\n",
      "Support vector machines : Log Loss: 1.33\n",
      "Naive Bayes : Log Loss: 1.23\n",
      "--------------------------------------------------\n",
      "Stacking Classifer : for the value of alpha: 0.000100 Log Loss: 2.179\n",
      "Stacking Classifer : for the value of alpha: 0.001000 Log Loss: 2.045\n",
      "Stacking Classifer : for the value of alpha: 0.010000 Log Loss: 1.564\n",
      "Stacking Classifer : for the value of alpha: 0.100000 Log Loss: 1.161\n",
      "Stacking Classifer : for the value of alpha: 1.000000 Log Loss: 1.180\n",
      "Stacking Classifer : for the value of alpha: 10.000000 Log Loss: 1.413\n"
     ]
    }
   ],
   "source": [
    "# only label encoding\n",
    "clf1 = SGDClassifier(alpha=0.001, penalty='l2', loss='log', class_weight='balanced', random_state=0)\n",
    "clf1.fit(train_df, y_train)\n",
    "sig_clf1 = CalibratedClassifierCV(clf1, method=\"sigmoid\")\n",
    "\n",
    "clf2 = SGDClassifier(alpha=1, penalty='l2', loss='hinge', class_weight='balanced', random_state=0)\n",
    "clf2.fit(train_df, y_train)\n",
    "sig_clf2 = CalibratedClassifierCV(clf2, method=\"sigmoid\")\n",
    "\n",
    "\n",
    "clf3 = MultinomialNB(alpha=0.001)\n",
    "clf3.fit(train_df, y_train)\n",
    "sig_clf3 = CalibratedClassifierCV(clf3, method=\"sigmoid\")\n",
    "\n",
    "sig_clf1.fit(train_df, y_train)\n",
    "print(\"Logistic Regression :  Log Loss: %0.2f\" % (log_loss(y_cv, sig_clf1.predict_proba(cv_df))))\n",
    "sig_clf2.fit(train_df, y_train)\n",
    "print(\"Support vector machines : Log Loss: %0.2f\" % (log_loss(y_cv, sig_clf2.predict_proba(cv_df))))\n",
    "sig_clf3.fit(train_df, y_train)\n",
    "print(\"Naive Bayes : Log Loss: %0.2f\" % (log_loss(y_cv, sig_clf3.predict_proba(cv_df))))\n",
    "print(\"-\"*50)\n",
    "alpha = [0.0001,0.001,0.01,0.1,1,10] \n",
    "best_alpha = 999\n",
    "for i in alpha:\n",
    "    lr = LogisticRegression(C=i)\n",
    "    sclf = StackingClassifier(classifiers=[sig_clf1, sig_clf2, sig_clf3], meta_classifier=lr, use_probas=True)\n",
    "    sclf.fit(train_df, y_train)\n",
    "    print(\"Stacking Classifer : for the value of alpha: %f Log Loss: %0.3f\" % (i, log_loss(y_cv, sclf.predict_proba(cv_df))))\n",
    "    log_error =log_loss(y_cv, sclf.predict_proba(cv_df))\n",
    "    if best_alpha > log_error:\n",
    "        best_alpha = log_error"
   ]
  },
  {
   "cell_type": "code",
   "execution_count": 108,
   "metadata": {
    "ExecuteTime": {
     "end_time": "2019-03-05T20:11:29.956305Z",
     "start_time": "2019-03-05T20:11:28.637983Z"
    },
    "scrolled": true
   },
   "outputs": [
    {
     "name": "stdout",
     "output_type": "stream",
     "text": [
      "Log loss (train) on the VotingClassifier : 0.7586164538619627\n",
      "Log loss (CV) on the VotingClassifier : 1.2058377579359651\n",
      "Log loss (test) on the VotingClassifier : 1.2430735345812962\n",
      "Number of missclassified point : 0.42857142857142855\n"
     ]
    }
   ],
   "source": [
    "# only label encoding\n",
    "#Refer:http://scikit-learn.org/stable/modules/generated/sklearn.ensemble.VotingClassifier.html\n",
    "from sklearn.ensemble import VotingClassifier\n",
    "vclf = VotingClassifier(estimators=[('lr', sig_clf1), ('svc', sig_clf2), ('rf', sig_clf3)], voting='soft')\n",
    "vclf.fit(train_df, y_train)\n",
    "print(\"Log loss (train) on the VotingClassifier :\", log_loss(y_train, vclf.predict_proba(train_df)))\n",
    "print(\"Log loss (CV) on the VotingClassifier :\", log_loss(y_cv, vclf.predict_proba(cv_df)))\n",
    "print(\"Log loss (test) on the VotingClassifier :\", log_loss(y_test, vclf.predict_proba(test_df)))\n",
    "print(\"Number of missclassified point :\", np.count_nonzero((vclf.predict(test_df)- y_test))/y_test.shape[0])\n",
    "# plot_confusion_matrix(test_y=test_y, predict_y=vclf.predict(test_x_onehotCoding))"
   ]
  },
  {
   "cell_type": "markdown",
   "metadata": {},
   "source": [
    "## Results"
   ]
  },
  {
   "cell_type": "code",
   "execution_count": 1,
   "metadata": {},
   "outputs": [],
   "source": [
    "from prettytable import PrettyTable"
   ]
  },
  {
   "cell_type": "code",
   "execution_count": 2,
   "metadata": {},
   "outputs": [],
   "source": [
    "x = PrettyTable()"
   ]
  },
  {
   "cell_type": "code",
   "execution_count": 3,
   "metadata": {},
   "outputs": [],
   "source": [
    "x.field_names = (['Featurizations', 'models', 'test_loss', 'cv_loss'])"
   ]
  },
  {
   "cell_type": "code",
   "execution_count": 12,
   "metadata": {},
   "outputs": [],
   "source": [
    "x.add_row([' ', 'VOTING CLASSIFIER', 0.70, 0.67])"
   ]
  },
  {
   "cell_type": "code",
   "execution_count": 13,
   "metadata": {},
   "outputs": [
    {
     "name": "stdout",
     "output_type": "stream",
     "text": [
      "+-------------------------------------------------------------------------------+--------------------------+-----------+---------+\n",
      "|                                 Featurizations                                |          models          | test_loss | cv_loss |\n",
      "+-------------------------------------------------------------------------------+--------------------------+-----------+---------+\n",
      "| LABEL ENCODING + ONEHOT ENCODING ON GENE AND VARIATION + word_density feature |            NB            |    0.76   |   0.85  |\n",
      "|                                                                               |           KNN            |    0.03   |   0.03  |\n",
      "|                                                                               |  LOGREG WITH CLASS BAL   |    0.56   |   0.59  |\n",
      "|                                                                               | LOGREG WITHOUT CLASS BAL |    0.56   |   0.59  |\n",
      "|                                                                               |           SVC            |    0.55   |   0.52  |\n",
      "|                                                                               |            RF            |    0.81   |   0.81  |\n",
      "|                                                                               |    VOTING CLASSIFIER     |    0.7    |   0.67  |\n",
      "+-------------------------------------------------------------------------------+--------------------------+-----------+---------+\n"
     ]
    }
   ],
   "source": [
    "print(x)"
   ]
  },
  {
   "cell_type": "code",
   "execution_count": null,
   "metadata": {},
   "outputs": [],
   "source": []
  }
 ],
 "metadata": {
  "kernelspec": {
   "display_name": "Python 3",
   "language": "python",
   "name": "python3"
  },
  "language_info": {
   "codemirror_mode": {
    "name": "ipython",
    "version": 3
   },
   "file_extension": ".py",
   "mimetype": "text/x-python",
   "name": "python",
   "nbconvert_exporter": "python",
   "pygments_lexer": "ipython3",
   "version": "3.5.3"
  }
 },
 "nbformat": 4,
 "nbformat_minor": 2
}
